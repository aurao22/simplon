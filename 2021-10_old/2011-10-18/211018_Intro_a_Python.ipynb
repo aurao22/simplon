{
 "cells": [
  {
   "cell_type": "markdown",
   "metadata": {
    "colab_type": "text",
    "id": "6539NlWV4X_L"
   },
   "source": [
    "# 1A.0 - Premiers pas en Python\n",
    "\n",
    "Questions très simples pour ceux qui savent coder, quelques éléments principaux du langage Python pour les autres."
   ]
  },
  {
   "cell_type": "markdown",
   "metadata": {
    "colab_type": "text",
    "id": "w65VHMwj4X_Q"
   },
   "source": [
    "### Partie 1"
   ]
  },
  {
   "cell_type": "markdown",
   "metadata": {
    "colab_type": "text",
    "id": "AMFGq8Dc4X_R"
   },
   "source": [
    "Un langage de programmation permet de décrire avec précision des opérations très simples sur des données. Comme tout langage, il a une grammaire et des **mot-clés**. La complexité d'un programme vient de ce qu'il faut beaucoup d'opérations simples pour arriver à ses fins. Voyons cela quelques usages simples. Il vous suffit d'exécuter chaque petit extrait en appuyant sur le triangle pointant vers la droite ci-dessus. N'hésitez pas à modifier les extraits pour mieux comprendre ce que le programme fait.\n",
    "\n",
    "**La calculatrice**"
   ]
  },
  {
   "cell_type": "code",
   "execution_count": 3,
   "metadata": {
    "colab": {
     "base_uri": "https://localhost:8080/",
     "height": 34
    },
    "colab_type": "code",
    "id": "UTWPPlUF4X_R",
    "outputId": "5e8d07d6-1408-4457-a19b-4fad9040bca4"
   },
   "outputs": [
    {
     "name": "stdout",
     "output_type": "stream",
     "text": [
      "15\n"
     ]
    }
   ],
   "source": [
    "x = 5\n",
    "y = 10\n",
    "z = x + y\n",
    "print(z)    # affiche z"
   ]
  },
  {
   "cell_type": "markdown",
   "metadata": {
    "colab_type": "text",
    "id": "MpdeLcqa4X_U"
   },
   "source": [
    "On programme sert souvent à automatiser un calcul comme le calcul mensuel du taux de chômage, le taux d'inflation, le temps qu'il fera demain... Pour pouvoir répéter ce même calcul sur des valeurs différentes, il faut pouvoir décrire ce calcul sans savoir ce que sont ces valeurs. Un moyen simple est de les nommer : on utilise des variables. Une variable désigne des données. ``x=5`` signifie que la variable ``x``contient 5. ``x+3`` signifie qu'on ajoute 3 à ``x`` sans avoir besoin de savoir ce que ``x`` désigne.\n",
    "\n",
    "**L'addition, l'incrémentation**"
   ]
  },
  {
   "cell_type": "code",
   "execution_count": 19,
   "metadata": {
    "colab": {
     "base_uri": "https://localhost:8080/",
     "height": 52
    },
    "colab_type": "code",
    "id": "9MicL9wv4X_U",
    "outputId": "54ef458d-f63b-4eba-f258-9d2dd80ccb91"
   },
   "outputs": [
    {
     "name": "stdout",
     "output_type": "stream",
     "text": [
      "3\n",
      "7\n"
     ]
    }
   ],
   "source": [
    "x = 2\n",
    "y = x + 1\n",
    "print(y)\n",
    "x += 5\n",
    "print(x)"
   ]
  },
  {
   "cell_type": "markdown",
   "metadata": {
    "colab_type": "text",
    "id": "u5yAF7mTPY4C"
   },
   "source": [
    "#### Question 1: quelle est la valeur de y ? Pourquoi ? "
   ]
  },
  {
   "cell_type": "code",
   "execution_count": 2,
   "metadata": {
    "colab": {},
    "colab_type": "code",
    "id": "WA67TfU0PjNV"
   },
   "outputs": [
    {
     "name": "stdout",
     "output_type": "stream",
     "text": [
      "10\n"
     ]
    }
   ],
   "source": [
    "#Afficher la valeur de y \n",
    "y = 10\n",
    "print(y)"
   ]
  },
  {
   "cell_type": "markdown",
   "metadata": {
    "colab_type": "text",
    "id": "8xkx_ueE4X_Y"
   },
   "source": [
    "Lorsqu'on programme, on passe son temps à écrire des calculs à partir de variables pour les stocker dans d'autres variables voire dans les mêmes variables. Lorsqu'on écrit ``y=x+5``, cela veut dire qu'on doit ajouter 5 à ``x`` et qu'on stocke le résultat dans ``y``. Lorsqu'on écrit ``x += 5``, cela veut dire qu'on doit ajouter 5 à ``x`` et qu'on n'a plus besoin de la valeur que ``x`` contenait avant l'opération.\n",
    "\n",
    "**La répétition ou les boucles**"
   ]
  },
  {
   "cell_type": "code",
   "execution_count": 5,
   "metadata": {
    "colab": {
     "base_uri": "https://localhost:8080/",
     "height": 34
    },
    "colab_type": "code",
    "id": "p_y0699y4X_Z",
    "outputId": "c7e29d68-775e-4312-92ff-6993453a05ed"
   },
   "outputs": [
    {
     "name": "stdout",
     "output_type": "stream",
     "text": [
      "45\n"
     ]
    }
   ],
   "source": [
    "a = 0\n",
    "for i in range (0, 10) :\n",
    "    a = a + i             # répète dix fois cette ligne\n",
    "print (a)   "
   ]
  },
  {
   "cell_type": "markdown",
   "metadata": {
    "colab_type": "text",
    "id": "pbH80Dqk8Dcc"
   },
   "source": [
    "Le mot-clé ``print`` n'a pas d'incidence sur le programme. En revanche, il permet d'afficher l'état d'une variable au moment où on exécute l'instruction ``print``."
   ]
  },
  {
   "cell_type": "markdown",
   "metadata": {
    "colab_type": "text",
    "id": "WpoNdYTS65do"
   },
   "source": [
    "\n",
    "#### Question 2: quelle est la somme des 10 premiers entiers pair ?"
   ]
  },
  {
   "cell_type": "code",
   "execution_count": 12,
   "metadata": {
    "colab": {},
    "colab_type": "code",
    "id": "Vq0JhDnh7VBb"
   },
   "outputs": [
    {
     "name": "stdout",
     "output_type": "stream",
     "text": [
      "20\n",
      "20\n"
     ]
    }
   ],
   "source": [
    "### Afficher ici le résultat\n",
    "res = 0\n",
    "for i in range (0, 10, 2) :\n",
    "    res = res + i\n",
    "print (res)  \n",
    "\n",
    "res = 0\n",
    "for i in range (0, 10) :\n",
    "    pair = i % 2\n",
    "    if pair == 0:\n",
    "        res = res + i\n",
    "print (res)  "
   ]
  },
  {
   "cell_type": "markdown",
   "metadata": {
    "colab_type": "text",
    "id": "FXRBNnIx4X_b"
   },
   "source": [
    "\n",
    "\n",
    "**L'aiguillage ou les tests**"
   ]
  },
  {
   "cell_type": "code",
   "execution_count": 3,
   "metadata": {
    "colab": {
     "base_uri": "https://localhost:8080/",
     "height": 34
    },
    "colab_type": "code",
    "id": "5DavzIdh4X_c",
    "outputId": "cdf4effc-c56d-4a8a-d3ff-49e38f562ff6"
   },
   "outputs": [
    {
     "name": "stdout",
     "output_type": "stream",
     "text": [
      "-1\n"
     ]
    }
   ],
   "source": [
    "#Modifier la valeur de a pour voir ce qu'il se passe\n",
    "a = 0\n",
    "if a > 0 :\n",
    "    print(a)     # un seul des deux blocs est pris en considération\n",
    "else:\n",
    "    a -=  1\n",
    "    print(a)"
   ]
  },
  {
   "cell_type": "markdown",
   "metadata": {
    "colab_type": "text",
    "id": "Z39Mj-X84X_g"
   },
   "source": [
    "**Les chaînes de caractères**"
   ]
  },
  {
   "cell_type": "code",
   "execution_count": 8,
   "metadata": {
    "colab": {
     "base_uri": "https://localhost:8080/",
     "height": 69
    },
    "colab_type": "code",
    "id": "Nmi-4Cow4X_g",
    "outputId": "d94d2d93-b96b-4755-ed24-50e398be33ec"
   },
   "outputs": [
    {
     "name": "stdout",
     "output_type": "stream",
     "text": [
      "10\n",
      "a\n",
      "textec\n"
     ]
    }
   ],
   "source": [
    "a = 10\n",
    "print(a)     # quelle est la différence\n",
    "print('a')   # entre les deux lignes\n",
    "s = 'texte'\n",
    "s += 'c'\n",
    "print(s)   "
   ]
  },
  {
   "cell_type": "markdown",
   "metadata": {
    "colab_type": "text",
    "id": "o46yakEpP5VM"
   },
   "source": [
    "#### Question 3: Quelle est la différence entre les deux valeurs de a ?"
   ]
  },
  {
   "cell_type": "markdown",
   "metadata": {
    "colab_type": "text",
    "id": "CB9RxzJSQKsm"
   },
   "source": [
    "Ecrire la réponse ici:"
   ]
  },
  {
   "cell_type": "code",
   "execution_count": 4,
   "metadata": {
    "colab": {
     "base_uri": "https://localhost:8080/",
     "height": 130
    },
    "colab_type": "code",
    "id": "Vu_yn9Ut8T40",
    "outputId": "b4183ca0-9345-4b9f-8566-fbb270431885"
   },
   "outputs": [],
   "source": [
    "# le premier a est pour afficher la valeur de la variable\n",
    "# Le second est un caractère"
   ]
  },
  {
   "cell_type": "markdown",
   "metadata": {
    "colab_type": "text",
    "id": "vjTKXzzv8iSc"
   },
   "source": [
    "#### Question 4: de quelle type d'erreur s'agit-il ? Comment modifier le code pour avoir ce que l'on cherche ? "
   ]
  },
  {
   "cell_type": "code",
   "execution_count": 11,
   "metadata": {
    "colab": {},
    "colab_type": "code",
    "id": "I8EN4FnDMHh5"
   },
   "outputs": [
    {
     "name": "stdout",
     "output_type": "stream",
     "text": [
      "Bob' socks\n"
     ]
    }
   ],
   "source": [
    "# La quote est utilisé pour encadrer le texte et dans le texte, il faut donc echapper le caractère ou utiliser des guillemets pour encadrer le texte \n",
    "print('Bob\\' socks')"
   ]
  },
  {
   "cell_type": "markdown",
   "metadata": {
    "colab_type": "text",
    "id": "UmYvMDI34X_i"
   },
   "source": [
    "Toute valeur a un type et cela détermine les opérations qu'on peut faire dessus. ``2 + 2`` fait ``4`` pour tout le monde. ``2 + \"2\"`` fait quatre pour un humain, mais est incompréhensible pour l'ordinateur car on ajoute deux choses différentes (``torchon + serviette``)."
   ]
  },
  {
   "cell_type": "code",
   "execution_count": null,
   "metadata": {
    "colab": {
     "base_uri": "https://localhost:8080/",
     "height": 52
    },
    "colab_type": "code",
    "id": "NVlEV85B4X_j",
    "outputId": "6907776c-509e-40d2-8d5d-0c1475b3da67"
   },
   "outputs": [
    {
     "name": "stdout",
     "output_type": "stream",
     "text": [
      "23\n",
      "5\n"
     ]
    }
   ],
   "source": [
    "print(\"2\" + \"3\")\n",
    "print(2+3)"
   ]
  },
  {
   "cell_type": "markdown",
   "metadata": {
    "colab_type": "text",
    "id": "ZUFcg6-Z4X_k"
   },
   "source": [
    "### Partie 2"
   ]
  },
  {
   "cell_type": "markdown",
   "metadata": {
    "colab_type": "text",
    "id": "42Kyj1_F4X_l"
   },
   "source": [
    "Dans cette seconde série, partie, il s'agit d'interpréter pourquoi un programme ne fait pas ce qu'il est censé faire ou pourquoi il provoque une erreur, et si possible, de corriger cette erreur."
   ]
  },
  {
   "cell_type": "markdown",
   "metadata": {
    "colab_type": "text",
    "id": "GuW0AtDTUPIs"
   },
   "source": [
    "#### Consigne générale: modifier lees codes pour avoir le résultat voulu"
   ]
  },
  {
   "cell_type": "markdown",
   "metadata": {
    "colab_type": "text",
    "id": "4UWSP_n2UJuT"
   },
   "source": [
    "**Un oubli**"
   ]
  },
  {
   "cell_type": "code",
   "execution_count": 6,
   "metadata": {
    "colab": {
     "base_uri": "https://localhost:8080/",
     "height": 34
    },
    "colab_type": "code",
    "id": "oePxLKUt4X_m",
    "outputId": "7a21d5d6-031f-436f-e1d8-f2aec952f275"
   },
   "outputs": [
    {
     "name": "stdout",
     "output_type": "stream",
     "text": [
      "9\n"
     ]
    }
   ],
   "source": [
    "a = 5\n",
    "a += 4\n",
    "print(a)   # on voudrait voir 9 mais c'est 5 qui apparaît"
   ]
  },
  {
   "cell_type": "markdown",
   "metadata": {
    "colab_type": "text",
    "id": "c5wqJvrx4X_o"
   },
   "source": [
    "**Une erreur de syntaxe**"
   ]
  },
  {
   "cell_type": "code",
   "execution_count": 7,
   "metadata": {
    "colab": {
     "base_uri": "https://localhost:8080/",
     "height": 130
    },
    "colab_type": "code",
    "id": "T-Exw1r14X_p",
    "outputId": "d16f3b2d-fb73-4557-871b-fc3564ee3b41"
   },
   "outputs": [
    {
     "name": "stdout",
     "output_type": "stream",
     "text": [
      "45\n"
     ]
    }
   ],
   "source": [
    "a = 0\n",
    "for i in range (0, 10):   # il manque quelque chose sur cette ligne\n",
    "    a = a + i\n",
    "print(a)"
   ]
  },
  {
   "cell_type": "markdown",
   "metadata": {
    "colab_type": "text",
    "id": "lK6IERC_4X_r"
   },
   "source": [
    "**Une autre erreur de syntaxe**"
   ]
  },
  {
   "cell_type": "code",
   "execution_count": 8,
   "metadata": {
    "colab": {
     "base_uri": "https://localhost:8080/",
     "height": 34
    },
    "colab_type": "code",
    "id": "z1oltomb4X_r",
    "outputId": "073f9503-23c1-414f-b286-154b366ec031"
   },
   "outputs": [
    {
     "name": "stdout",
     "output_type": "stream",
     "text": [
      "45\n"
     ]
    }
   ],
   "source": [
    "a = 0\n",
    "for i in range (0, 10):\n",
    "    a += i                # regardez bien\n",
    "print(a)   "
   ]
  },
  {
   "cell_type": "markdown",
   "metadata": {
    "colab_type": "text",
    "id": "IeDokERF4X_t"
   },
   "source": [
    "**Une opération interdite**"
   ]
  },
  {
   "cell_type": "markdown",
   "metadata": {
    "colab_type": "text",
    "id": "1f75dnyQTgKQ"
   },
   "source": [
    "#### Consigne spécifique: modifier le code pour afficher 0e"
   ]
  },
  {
   "cell_type": "code",
   "execution_count": 10,
   "metadata": {
    "colab": {},
    "colab_type": "code",
    "id": "bbnUTv924X_u",
    "outputId": "bd359e31-667e-4cdf-e4f0-dc472f741b19"
   },
   "outputs": [
    {
     "name": "stdout",
     "output_type": "stream",
     "text": [
      "0e\n"
     ]
    }
   ],
   "source": [
    "a = 0\n",
    "s = \"e\"\n",
    "print(str(a) + s)    # petit problème de type"
   ]
  },
  {
   "cell_type": "markdown",
   "metadata": {
    "colab_type": "text",
    "id": "L7vEM9pH4X_x"
   },
   "source": [
    "**Un nombre impair de...**"
   ]
  },
  {
   "cell_type": "code",
   "execution_count": null,
   "metadata": {
    "colab": {},
    "colab_type": "code",
    "id": "xM7GYq0G4X_y",
    "outputId": "372f2cf8-f813-4a3e-bfc1-35499931eef2"
   },
   "outputs": [
    {
     "name": "stdout",
     "output_type": "stream",
     "text": [
      "195\n"
     ]
    }
   ],
   "source": [
    "a = 0\n",
    "for i in range (0, 10) :\n",
    "      a = (a + (i+2)*3  )       # comptez bien\n",
    "print(a)   "
   ]
  },
  {
   "cell_type": "markdown",
   "metadata": {
    "colab_type": "text",
    "id": "WOsVCaLa4X_0"
   },
   "source": [
    "### Partie 3"
   ]
  },
  {
   "cell_type": "markdown",
   "metadata": {
    "colab_type": "text",
    "id": "R1n-MUW64X_1"
   },
   "source": [
    "Il faut maintenant écrire trois programmes qui :\n",
    "\n",
    "+   Ecrire un programme qui calcule la somme des 10 premiers entiers au carré.\n",
    "+   Ecrire un programme qui calcule la somme des 5 premiers entiers impairs au carré.\n",
    "+   Ecrire un programme qui calcule la somme des qui 10 premières factorielles : $\\sum_{i=1}^{10} i!$.\n",
    "\n",
    "A propos de la parité :"
   ]
  },
  {
   "cell_type": "code",
   "execution_count": 6,
   "metadata": {
    "colab": {},
    "colab_type": "code",
    "id": "uwii5L6s4X_2",
    "outputId": "24f5cb83-e432-4979-b330-2442e1afcce4"
   },
   "outputs": [
    {
     "name": "stdout",
     "output_type": "stream",
     "text": [
      "285\n",
      "165\n",
      "409113\n"
     ]
    }
   ],
   "source": [
    "14%2, 233%2\n",
    "res = 0\n",
    "for i in range (0, 10) :\n",
    "    res = res + i**2\n",
    "print (res) \n",
    "#-----\n",
    "res = 0\n",
    "for i in range (1, 10, 2) :\n",
    "    res = res + i**2\n",
    "print (res) \n",
    "#-----\n",
    "res = 1\n",
    "tot = 0\n",
    "for i in range (1, 10) :\n",
    "    res = res * i\n",
    "    tot += res\n",
    "print (tot) \n",
    "#-----"
   ]
  },
  {
   "cell_type": "markdown",
   "metadata": {
    "colab_type": "text",
    "id": "AYB6_ocK4X_9"
   },
   "source": [
    "Arriverez-vous à résoudre le première exercice du site [CodinGame](https://www.codingame.com/) ?"
   ]
  },
  {
   "cell_type": "code",
   "execution_count": 1,
   "metadata": {
    "colab": {},
    "colab_type": "code",
    "id": "TIYgRNK14X__"
   },
   "outputs": [
    {
     "data": {
      "text/plain": [
       "[1, 3, 5, 7, 9]"
      ]
     },
     "execution_count": 1,
     "metadata": {},
     "output_type": "execute_result"
    }
   ],
   "source": [
    "list(range(1,10,2))"
   ]
  },
  {
   "cell_type": "code",
   "execution_count": 1,
   "metadata": {},
   "outputs": [
    {
     "name": "stdout",
     "output_type": "stream",
     "text": [
      "165\n"
     ]
    }
   ],
   "source": [
    "somme = 0\n",
    "for entier in range(10):\n",
    "    if entier%2 != 0:\n",
    "        somme =  somme + entier * entier\n",
    "print(somme)"
   ]
  },
  {
   "cell_type": "code",
   "execution_count": 2,
   "metadata": {},
   "outputs": [
    {
     "name": "stdout",
     "output_type": "stream",
     "text": [
      "165\n"
     ]
    }
   ],
   "source": [
    "somme = 0\n",
    "for entier in range(1,10,2):\n",
    "    somme =  somme + entier * entier\n",
    "print(somme)"
   ]
  },
  {
   "cell_type": "code",
   "execution_count": 4,
   "metadata": {
    "tags": []
   },
   "outputs": [
    {
     "name": "stdout",
     "output_type": "stream",
     "text": [
      "409113\n"
     ]
    }
   ],
   "source": [
    "import math\n",
    "total = 0\n",
    "for i in range(1,10):\n",
    "    total += math.factorial(i)\n",
    "print(total)"
   ]
  },
  {
   "cell_type": "code",
   "execution_count": 6,
   "metadata": {},
   "outputs": [
    {
     "name": "stdout",
     "output_type": "stream",
     "text": [
      "409113\n"
     ]
    }
   ],
   "source": [
    "factorielle = 1\n",
    "somme = 0\n",
    "for entier in range(1,10):\n",
    "    factorielle = factorielle * entier\n",
    "    somme =  somme + factorielle\n",
    "print(somme)"
   ]
  },
  {
   "cell_type": "code",
   "execution_count": null,
   "metadata": {},
   "outputs": [],
   "source": []
  }
 ],
 "metadata": {
  "colab": {
   "collapsed_sections": [],
   "name": "session_19_11_Intro_a_Python",
   "provenance": [],
   "toc_visible": true
  },
  "kernelspec": {
   "display_name": "Python 3",
   "language": "python",
   "name": "python3"
  },
  "language_info": {
   "codemirror_mode": {
    "name": "ipython",
    "version": 3
   },
   "file_extension": ".py",
   "mimetype": "text/x-python",
   "name": "python",
   "nbconvert_exporter": "python",
   "pygments_lexer": "ipython3",
   "version": "3.8.8"
  }
 },
 "nbformat": 4,
 "nbformat_minor": 4
}
