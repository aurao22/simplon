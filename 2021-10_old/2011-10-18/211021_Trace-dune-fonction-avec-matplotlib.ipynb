{
 "cells": [
  {
   "cell_type": "markdown",
   "id": "6a8a1779",
   "metadata": {
    "tags": []
   },
   "source": [
    "# Exercice 1\n",
    "On considère les fonctions $f_1$ et $f_2$ déﬁnies sur $[0, 2]$ par :\n",
    "\n",
    "$f_2(x) =\\{x\\; \\text{ pour}\\; 0 ≤ x < 1\\\\\n",
    "         \\qquad\\;\\;\\;\\;\\;\\; 1 \\;\\text{ pour}\\; 1 ≤ x ≤ 2$\n",
    "et \n",
    "\n",
    "$f_2(x) = sin(x)+ 0, 1$\n",
    "1. Déﬁnir les deux fonctions $f_1$ et $f_2$ dans Python en utilisant la bibliothèque math.\n",
    "Tracer les courbes représentatives des deux fonctions sur l’intervalle $[0, 2]$ avec un pas de 0,05. \n",
    "Le graphique doit avoir les caractéristiques suivantes :\n",
    "- Utilisation de listesr\n",
    "- Courbe représentative de $f_1$: épaisseur du trait égale à 3, couleur bleuer\n",
    "- Courbe représentative de $f_2$: points non reliés représentés par *, couleur rouge\n",
    "- Légender les deux courbesr\n",
    "- Afﬁcher « x » pour l’axe des abscisses et « y » pour l’axe des ordonnéesr\n",
    "- Afﬁcher le titre : « Tracé de fonctions »\n",
    "- Axe des x compris entre 0 et 2, axe des y compris entre 0 et 1,5\n",
    "2. Déﬁnir les deux fonctions $F_1$ et $F_2$ dans Python en utilisant la bibliothèque numpy. On pourra vectoriser la fonction $F_1$. Tracer les courbes représenta-tives des deux fonctions sur l'intervalle $[0, 2]$. Le graphique doit avoir les caractéristiques suivantes :\n",
    "- Utilisation de np.linspace avec 21 points et de tableaux numpy\n",
    "- Courbe représentative de $f_1$: épaisseur du trait égale à 3, couleur noire, ligne discontinue\n",
    "- Courbe représentative de $f_2$: couleur bleue, symbole « o » et ligne continuer\n",
    "- Légender les deux courbesr\n",
    "- Afﬁcher « x » pour l’axe des abscisses et « y » pour l’axe des ordonnéesr Afﬁcher la griller\n",
    "- Afﬁcher le titre : « Tracé de fonctions »"
   ]
  },
  {
   "cell_type": "code",
   "execution_count": null,
   "id": "b0a167ba-db44-4a7a-9d5f-648c9a9789f9",
   "metadata": {
    "tags": []
   },
   "outputs": [],
   "source": [
    "import math\n",
    "import matplotlib.pyplot as plt\n",
    "import numpy as np\n",
    "\n",
    "\n",
    "# 𝑓2(𝑥)=\n",
    "# 𝑥 pour0≤𝑥<1\n",
    "# 1 pour1≤𝑥≤2\n",
    "# 𝑓1 et 𝑓2 déﬁnies sur [0,2]\n",
    "def f1(x):\n",
    "    if 0 <= x < 1:\n",
    "        return x\n",
    "    elif 1 <= x <= 2:\n",
    "        return 1\n",
    "    else:\n",
    "        return None\n",
    "\n",
    "\n",
    "# 𝑓2 définies sur [0,2]\n",
    "# 𝑓2(𝑥)=𝑠𝑖𝑛(𝑥)+0,1\n",
    "def f2(x):\n",
    "    return math.sin(x) + 0.1\n",
    "\n",
    "\n",
    "def generateMatriceFXManuel(fonc, input_tab):\n",
    "    nbDim = len(input_tab)\n",
    "    res = []\n",
    "    for i in range(nbDim):\n",
    "        res.append(fonc(input_tab[i]))\n",
    "    return res\n",
    "\n",
    "\n",
    "def generateMath(min, max, pas):\n",
    "    tab = []\n",
    "    i = min\n",
    "    while i < (max+pas):\n",
    "        tab.append(i)\n",
    "        i += pas\n",
    "    return tab\n",
    "\n",
    "\n",
    "#Tracer les courbes représentatives des deux fonctions sur l’intervalle [0,2] avec un pas de 0,05.\n",
    "def draw_f1_and_f2():\n",
    "    #[0,2] avec un pas de 0,05\n",
    "    #tab = np.arange(0, 2, 0.05)\n",
    "    tab = generateMath(0, 2, 0.05)\n",
    "    print(tab)\n",
    "    f1_val = generateMatriceFXManuel(f1, tab)\n",
    "    f2_val = generateMatriceFXManuel(f2, tab)\n",
    "    #print(\"f1_val=\",f1_val)\n",
    "    #print(\"f2_val=\", f2_val)\n",
    "    #Courbe représentative de 𝑓1: épaisseur du trait égale à 3, couleur bleuer\n",
    "    plt.plot(tab, f1_val,'b', 1)\n",
    "    #Courbe représentative de 𝑓2: points non reliés représentés par *, couleur rouge\n",
    "    plt.plot(tab, f2_val, 'r*')\n",
    "    #Afﬁcher le titre : « Tracé de fonctions »\n",
    "    plt.title('Tracé de fonctions')\n",
    "    # Afﬁcher « x » pour l’axe des abscisses et « y » pour l’axe des ordonnéesr\n",
    "    plt.xlabel('x')\n",
    "    plt.ylabel('y')\n",
    "    #Axe des x compris entre 0 et 2, axe des y compris entre 0 et 1,5\n",
    "    plt.xlim(0, 2)\n",
    "    plt.ylim(0, 1.5)\n",
    "    plt.grid()\n",
    "    plt.show()\n",
    "\n",
    "\n",
    "draw_f1_and_f2()\n",
    "print(\"END\")\n"
   ]
  },
  {
   "cell_type": "code",
   "execution_count": null,
   "id": "6be0bd53-dc39-44af-8426-228d6ba3c86f",
   "metadata": {},
   "outputs": [],
   "source": [
    "import numpy as np\n",
    "xmin=0 # valeur minimale de x\n",
    "xmax=2 # valeur maximale de x\n",
    "pas=0.05\n",
    "N=int(((xmax-xmin)/pas)+1) # pas=(xmax-xmin)/(N-1)# le nombre de points doit être un entier# N=nombre de points et N-1=nombre d'intervallesx=[ ] # initialisation de la liste xy1=[ ] # initialisation de la liste y1y2=[ ] # initialisation de la liste y2\n",
    "def F1(x): # définition de la fonction F1\n",
    "    if x>=0 and x<1:\n",
    "        return x\n",
    "    elif x >=1 and x <= 2:\n",
    "        return 1\n",
    "    else:\n",
    "        return 0\n",
    "    def F2(x): # définition de la fonction F2\n",
    "        return np.sin(x)+0.1\n",
    "N=21 # nombre de points\n",
    "X=np.linspace(xmin,xmax,N) # valeurs entre xmin et xmax compris\n",
    "F1_vect=np.vectorize(F1)# transforme la fonction scalaire en une fonction# pouvant être utilisée avec des tableaux "
   ]
  },
  {
   "cell_type": "code",
   "execution_count": 13,
   "id": "ad459dc1",
   "metadata": {},
   "outputs": [
    {
     "data": {
      "text/plain": [
       "<numpy.vectorize at 0x177ec521910>"
      ]
     },
     "execution_count": 13,
     "metadata": {},
     "output_type": "execute_result"
    }
   ],
   "source": [
    "F1_vect"
   ]
  },
  {
   "cell_type": "markdown",
   "id": "5f0e6b85",
   "metadata": {},
   "source": [
    "**On rappelle la syntaxe Python pour le tracé de fonctions :**"
   ]
  },
  {
   "cell_type": "code",
   "execution_count": null,
   "id": "683e40a3",
   "metadata": {},
   "outputs": [],
   "source": [
    "import matplotlib.pyplot as plt\n",
    "plt.figure() # nouvelle fenêtre graphiqueplt.plot(x,y,color='r', linewidth =3,marker='o')\n",
    "# color : choix de la couleur ('r' : red, 'g' : green, 'b' : blue,# 'black' : black)\n",
    "# linewidth : épaisseur du trait\n",
    "# marker : différents symboles '+', '.', 'o', 'v'\n",
    "# linestyle : style de la ligne ('-' ligne continue,\n",
    "# '--' ligne discontinue, ':' ligne pointillée)\n",
    "plt.plot(x,y,'*') # points non reliés représentés par '*'\n",
    "plt.grid() # affichage de la grille\n",
    "plt.title('Titre') # ajout d'un titre\n",
    "plt.xlabel('axe x') # affiche 'axe x' en abscisse d'un graphique\n",
    "plt.ylabel('axe y') # affiche 'axe y' en ordonnée d'un graphique\n",
    "plt.axis ([xmin,xmax,ymin,ymax]) # précise les bornes pour les# abscisses et les ordonnées\n",
    "plt.legend(['courbe 1','courbe 2']) # permet de légender les courbes\n",
    "plt.show() # affiche la figure à l'écran"
   ]
  },
  {
   "cell_type": "markdown",
   "id": "f9402d70",
   "metadata": {},
   "source": [
    "Il faut bien connaître la syntaxe de base pour tracer une fonction :\n",
    "import matplotlib.pyplot as plt\n",
    "plt.figure()\n",
    "plt.plot(x,y) # représentation graphique de y en fonction de xplt.show()"
   ]
  }
 ],
 "metadata": {
  "kernelspec": {
   "display_name": "Python 3",
   "language": "python",
   "name": "python3"
  },
  "language_info": {
   "codemirror_mode": {
    "name": "ipython",
    "version": 3
   },
   "file_extension": ".py",
   "mimetype": "text/x-python",
   "name": "python",
   "nbconvert_exporter": "python",
   "pygments_lexer": "ipython3",
   "version": "3.8.8"
  }
 },
 "nbformat": 4,
 "nbformat_minor": 5
}
