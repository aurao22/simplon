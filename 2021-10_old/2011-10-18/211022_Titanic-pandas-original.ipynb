{
 "cells": [
  {
   "cell_type": "markdown",
   "id": "c2aa2a38",
   "metadata": {},
   "source": [
    "## 1. Charger vos données dans un DataFrame Pandas"
   ]
  },
  {
   "cell_type": "code",
   "execution_count": null,
   "id": "938e8947",
   "metadata": {},
   "outputs": [],
   "source": [
    "import numpy as np\n",
    "import matplotlib.pyplot as plt\n",
    "import pandas as pd"
   ]
  },
  {
   "cell_type": "code",
   "execution_count": 2,
   "id": "044747eb",
   "metadata": {},
   "outputs": [
    {
     "data": {
      "text/plain": [
       "'titanic.xls'"
      ]
     },
     "execution_count": 2,
     "metadata": {},
     "output_type": "execute_result"
    }
   ],
   "source": [
    "'titanic.xls'"
   ]
  },
  {
   "cell_type": "markdown",
   "id": "ca1571f9",
   "metadata": {},
   "source": [
    " ## 2. Nettoyer votre Dataset avec drop(), dropna() et fillna()"
   ]
  },
  {
   "cell_type": "code",
   "execution_count": null,
   "id": "9c0e7ec0",
   "metadata": {},
   "outputs": [],
   "source": []
  },
  {
   "cell_type": "markdown",
   "id": "cbbfcd81",
   "metadata": {},
   "source": [
    "## 3. Groupby() et value_counts()"
   ]
  },
  {
   "cell_type": "markdown",
   "id": "ad8c9fed",
   "metadata": {},
   "source": []
  },
  {
   "cell_type": "markdown",
   "id": "078657b5",
   "metadata": {},
   "source": [
    "## 4 Créer des catégories d'ages avec la fonction map() de pandas\n"
   ]
  },
  {
   "cell_type": "markdown",
   "id": "6d6a66ba",
   "metadata": {},
   "source": [
    "## 5. "
   ]
  }
 ],
 "metadata": {
  "kernelspec": {
   "display_name": "Python 3",
   "language": "python",
   "name": "python3"
  },
  "language_info": {
   "codemirror_mode": {
    "name": "ipython",
    "version": 3
   },
   "file_extension": ".py",
   "mimetype": "text/x-python",
   "name": "python",
   "nbconvert_exporter": "python",
   "pygments_lexer": "ipython3",
   "version": "3.8.8"
  }
 },
 "nbformat": 4,
 "nbformat_minor": 5
}
