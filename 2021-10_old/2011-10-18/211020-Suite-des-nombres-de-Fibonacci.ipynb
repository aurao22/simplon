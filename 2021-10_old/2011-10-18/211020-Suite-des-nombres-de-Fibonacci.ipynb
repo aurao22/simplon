{
 "cells": [
  {
   "cell_type": "markdown",
   "id": "fc245871",
   "metadata": {},
   "source": [
    "On note $(F_n)_{n\\in N}$ la suite des nombres de Fibonacci déﬁnie par :\n",
    "$$F_0= 0, F_1= 1, ∀ n \\in N, F_{n+2}= F_{n+1}+ F_{n}$$.\n",
    "\n",
    "1. Écrire une fonction itérative fibo qui prend en argument un entier naturel net renvoie le nombre de Fibonacci Fn. Par exemple, fibo(6) renverra 8.\n",
    "\n",
    "2. Écrire une fonction récursive fibo_rec qui permet de renvoyer le nombrede Fibonacci $F_n$.\n",
    "\n",
    "3. Représenter l’arbre des appels de la fonction récursive fibo_rec(5).Combien de fois est recalculé $F_2$? Quel est l’inconvénient ?\n",
    "\n",
    "4. Pour pallier cet inconvénient, on utilise la technique de\n",
    "mémoïsation qui consiste à stocker les valeurs de $F_n$ dans\n",
    "une liste au fur et à mesure qu’ellessont calculées. Écrire \n",
    "une fonction « récursive » fibo_rec_memo renvoyantle nombre de \n",
    "Fibonacci $F_n$ en utilisant la technique de mémoïsation."
   ]
  },
  {
   "cell_type": "markdown",
   "id": "4053359c",
   "metadata": {},
   "source": [
    "## Solution "
   ]
  },
  {
   "cell_type": "code",
   "execution_count": 49,
   "id": "9cd98bc9",
   "metadata": {},
   "outputs": [
    {
     "name": "stdout",
     "output_type": "stream",
     "text": [
      "[0]\n",
      "[0, 1]\n",
      "[0, 1, 1]\n",
      "[0, 1, 1, 2]\n",
      "[0, 1, 1, 2, 3]\n",
      "[0, 1, 1, 2, 3, 5]\n",
      "[0, 1, 1, 2, 3, 5, 8]\n",
      "[0, 1, 1, 2, 3, 5, 8, 13]\n",
      "[0, 1, 1, 2, 3, 5, 8, 13, 21]\n",
      "Temps exécution en itératif: 0.0009992122650146484\n"
     ]
    }
   ],
   "source": [
    "import time\n",
    "# Amusez vous bien !\n",
    "# 0 , 1, 1, 2, 3, 5, 8, 13, 21, 34,\n",
    "def fibo_n(n, fibo): \n",
    "    if(n <= 1):\n",
    "        return n\n",
    "    else:\n",
    "        return fibo[n-1] +fibo[n-2]\n",
    "\n",
    "start = time.time()\n",
    "n = 8\n",
    "fibo = []\n",
    "\n",
    "for idx in range(0, n+1):\n",
    "    fibo.insert(idx, fibo_n(idx, fibo))\n",
    "    print(fibo)\n",
    "\n",
    "end = time.time()\n",
    "elapsed = end - start\n",
    "print(\"Temps exécution en itératif:\", elapsed)"
   ]
  },
  {
   "cell_type": "code",
   "execution_count": 50,
   "id": "d6d5390d-cc53-4ad9-9883-06a366f37c73",
   "metadata": {},
   "outputs": [
    {
     "name": "stdout",
     "output_type": "stream",
     "text": [
      "0\n",
      "1\n",
      "1\n",
      "2\n",
      "3\n",
      "5\n",
      "8\n",
      "13\n",
      "21\n",
      "Temps exécution en récurrcif: 0.0009984970092773438\n"
     ]
    }
   ],
   "source": [
    "import time\n",
    "def fibonacci(n):\n",
    "    res = 0\n",
    "    if(n <= 1):\n",
    "        res = n\n",
    "    else:\n",
    "        res = fibonacci(n-1) + fibonacci(n-2)\n",
    "    #print(res)\n",
    "    return res\n",
    "\n",
    "\n",
    "# 0 , 1, 1, 2, 3, 5, 8, 13, 21, 34,\n",
    "start = time.time()     \n",
    "n = 8\n",
    "for idx in range(0, n+1):\n",
    "    print(fibonacci(idx))\n",
    "\n",
    "end = time.time()\n",
    "elapsed = end - start\n",
    "print(\"Temps exécution en récurrcif:\", elapsed)"
   ]
  },
  {
   "cell_type": "code",
   "execution_count": 51,
   "id": "e92f971f-2122-401f-a702-45230f60373b",
   "metadata": {},
   "outputs": [
    {
     "name": "stdout",
     "output_type": "stream",
     "text": [
      "0\n",
      "1\n",
      "1\n",
      "2\n",
      "3\n",
      "5\n",
      "8\n",
      "13\n",
      "21\n",
      "--------------------------------------------\n",
      "la suite fibo de 0 a été calculé 34 fois\n",
      "la suite fibo de 1 a été calculé 54 fois\n",
      "la suite fibo de 2 a été calculé 33 fois\n",
      "la suite fibo de 3 a été calculé 20 fois\n",
      "la suite fibo de 4 a été calculé 12 fois\n",
      "la suite fibo de 5 a été calculé 7 fois\n",
      "la suite fibo de 6 a été calculé 4 fois\n",
      "la suite fibo de 7 a été calculé 2 fois\n",
      "Temps exécution en récurrcif: 0.02399587631225586\n"
     ]
    }
   ],
   "source": [
    "import time\n",
    "def fibonacci(n, arbre):\n",
    "    res = 0\n",
    "    arbre.append(\"calcul de \" + str(n))\n",
    "    if (n <= 1):\n",
    "        res = n\n",
    "    else:\n",
    "        res = fibonacci(n - 1, arbre) + fibonacci(n - 2, arbre)\n",
    "    return res\n",
    "\n",
    "# 0 , 1, 1, 2, 3, 5, 8, 13, 21, 34,\n",
    "start = time.time()\n",
    "arbre = []\n",
    "n = 8\n",
    "#fibo = fibonacci(n, arbre)\n",
    "for idx in range(0, n+1):\n",
    "    fibo = fibonacci(idx, arbre)\n",
    "    print(fibo)\n",
    "#print(\"--------------------------------------------\")\n",
    "#print(arbre)\n",
    "print(\"--------------------------------------------\")\n",
    "for idx in range(0, n):\n",
    "    nb = arbre.count(\"calcul de \" + str(idx))\n",
    "    print(\"la suite fibo de\", idx, \"a été calculé\", nb, \"fois\")\n",
    "end = time.time()\n",
    "elapsed = end - start\n",
    "print(\"Temps exécution en récurrcif:\", elapsed)"
   ]
  },
  {
   "cell_type": "code",
   "execution_count": 52,
   "id": "961ec71a-1855-4345-9a6c-6eca0f5d7cc3",
   "metadata": {},
   "outputs": [
    {
     "name": "stdout",
     "output_type": "stream",
     "text": [
      "0\n",
      "1\n",
      "1\n",
      "2\n",
      "3\n",
      "5\n",
      "8\n",
      "13\n",
      "21\n",
      "--------------------------------------------\n",
      "la suite fibo de 0 a été calculé 1 fois\n",
      "la suite fibo de 1 a été calculé 1 fois\n",
      "la suite fibo de 2 a été calculé 1 fois\n",
      "la suite fibo de 3 a été calculé 1 fois\n",
      "la suite fibo de 4 a été calculé 1 fois\n",
      "la suite fibo de 5 a été calculé 1 fois\n",
      "la suite fibo de 6 a été calculé 1 fois\n",
      "la suite fibo de 7 a été calculé 1 fois\n",
      "Temps exécution en récurrcif memoisation: 0.0\n"
     ]
    }
   ],
   "source": [
    "import time\n",
    "def fibonacci(n,memo, arbre):\n",
    "    res = 0\n",
    "    if n not in memo:\n",
    "        arbre.append(\"calcul de \" + str(n))\n",
    "        if (n <= 1):\n",
    "            res = n\n",
    "        else:\n",
    "            res = fibonacci(n - 1,memo, arbre) + fibonacci(n - 2,memo, arbre)\n",
    "        memo[n] = res\n",
    "        #print(memo)\n",
    "    return memo[n]\n",
    "\n",
    "# 0 , 1, 1, 2, 3, 5, 8, 13, 21, 34,\n",
    "start = time.time()\n",
    "arbre = []\n",
    "n = 8\n",
    "memo = {}\n",
    "\n",
    "for idx in range(0, n+1):\n",
    "    fibo = fibonacci(idx, memo, arbre)\n",
    "    print(fibo)\n",
    "#print(\"--------------------------------------------\")\n",
    "#print(arbre)\n",
    "print(\"--------------------------------------------\")\n",
    "for idx in range(0, n):\n",
    "    nb = arbre.count(\"calcul de \" + str(idx))\n",
    "    print(\"la suite fibo de\", idx, \"a été calculé\", nb, \"fois\")\n",
    "\n",
    "end = time.time()\n",
    "elapsed = end - start\n",
    "print(\"Temps exécution en récurrcif memoisation:\", elapsed)"
   ]
  },
  {
   "cell_type": "code",
   "execution_count": 54,
   "id": "20056204-b4c4-46dc-8ef3-8fe26ae42f59",
   "metadata": {},
   "outputs": [
    {
     "name": "stdout",
     "output_type": "stream",
     "text": [
      "21\n",
      "Temps exécution en récurrcif memoisation function: 0.0\n"
     ]
    }
   ],
   "source": [
    "import time\n",
    "\n",
    "# Memoisation\n",
    "def memoize(f):\n",
    "    memo = {}\n",
    "    def helper(x):\n",
    "        if x not in memo:            \n",
    "            memo[x] = f(x)\n",
    "        return memo[x]\n",
    "    return helper\n",
    "    \n",
    "\n",
    "def fib(n):\n",
    "    if (n <= 1):\n",
    "        return n\n",
    "    else:\n",
    "        return fib(n-1) + fib(n-2)\n",
    "\n",
    "start = time.time()\n",
    "fib = memoize(fib)\n",
    "\n",
    "print(fib(8))\n",
    "\n",
    "end = time.time()\n",
    "elapsed = end - start\n",
    "print(\"Temps exécution en récurrcif memoisation function:\", elapsed)"
   ]
  },
  {
   "cell_type": "code",
   "execution_count": null,
   "id": "bb595cca-0490-4c20-93e8-28cdc3855a10",
   "metadata": {},
   "outputs": [],
   "source": []
  }
 ],
 "metadata": {
  "kernelspec": {
   "display_name": "Python 3",
   "language": "python",
   "name": "python3"
  },
  "language_info": {
   "codemirror_mode": {
    "name": "ipython",
    "version": 3
   },
   "file_extension": ".py",
   "mimetype": "text/x-python",
   "name": "python",
   "nbconvert_exporter": "python",
   "pygments_lexer": "ipython3",
   "version": "3.8.8"
  }
 },
 "nbformat": 4,
 "nbformat_minor": 5
}
