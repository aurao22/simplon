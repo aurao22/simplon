{
 "cells": [
  {
   "cell_type": "markdown",
   "metadata": {
    "colab_type": "text",
    "id": "0tV6xrBICZY-"
   },
   "source": [
    "# 1A.1 - Variables, boucles, tests\n",
    "\n",
    "Répétitions de code, exécuter une partie plutôt qu'une autre."
   ]
  },
  {
   "cell_type": "markdown",
   "metadata": {
    "colab_type": "text",
    "id": "QDa_86lRCZZC"
   },
   "source": [
    "### Partie 1 : variables, int, float, str, list"
   ]
  },
  {
   "cell_type": "markdown",
   "metadata": {
    "colab_type": "text",
    "id": "Rz8PhF8aCZZF"
   },
   "source": [
    "Un algorithme manipule des données. Ces données ne sont pas connues au moment où on écrit l'algorithme. Les variables servent à nommer ces données afin de pouvoir écrire cet algorithme. On procède la plupart du temps dans l'ordre suivant :\n",
    "\n",
    "* On écrit l'algorithme.\n",
    "* On affecte des valeurs aux variables.\n",
    "* On exécute l'algorithme.\n",
    "\n",
    "Quelques exemples à essayer autour des variables :"
   ]
  },
  {
   "cell_type": "code",
   "execution_count": 1,
   "metadata": {
    "colab": {
     "base_uri": "https://localhost:8080/",
     "height": 34
    },
    "colab_type": "code",
    "id": "p-33bKa1CZZF",
    "outputId": "b3269c36-3ae2-455c-aac9-e3157b3530a6"
   },
   "outputs": [
    {
     "data": {
      "text/plain": [
       "(3, 3.3, 'exemple', None, ' exemple sur\\nplusieurs lignes')"
      ]
     },
     "execution_count": 1,
     "metadata": {
      "tags": []
     },
     "output_type": "execute_result"
    }
   ],
   "source": [
    "i = 3                    # entier = type numérique (type int)\n",
    "r = 3.3                  # réel   = type numérique (type float)\n",
    "s = \"exemple\"            # chaîne de caractères = type str (exemple n'est pas une variable)\n",
    "s = 'exemple'            # \" et ' peuvent être utilisées pour définir une chaîne de caractères\n",
    "sl = \"\"\" exemple sur\n",
    "plusieurs lignes\"\"\"      # on peut définir une chaîne sur plusieurs lignes avec \"\"\" ou '''             \n",
    "n = None                 # None signifie que la variable existe mais qu'elle ne contient rien\n",
    "                         # elle est souvent utilisée pour signifier qu'il n'y a pas de résultat\n",
    "                         # car... une erreur s'est produite, il n'y a pas de résultat\n",
    "                         # (racine carrée de -1 par exemple)\n",
    "            \n",
    "i,r,s,n, sl              # avec les notebooks, le dernier print n'est pas nécessaire, il suffit d'écrire\n",
    "                         # i,r,s,n"
   ]
  },
  {
   "cell_type": "code",
   "execution_count": 2,
   "metadata": {
    "colab": {
     "base_uri": "https://localhost:8080/",
     "height": 52
    },
    "colab_type": "code",
    "id": "cDZSsodeCZZI",
    "outputId": "2e6e1925-8af5-4ca3-b9c3-314552d5d2dc"
   },
   "outputs": [
    {
     "name": "stdout",
     "output_type": "stream",
     "text": [
      "anything\n"
     ]
    },
    {
     "data": {
      "text/plain": [
       "(5, 6)"
      ]
     },
     "execution_count": 2,
     "metadata": {
      "tags": []
     },
     "output_type": "execute_result"
    }
   ],
   "source": [
    "v = \"anything\"       # affectation\n",
    "print ( v )          # affichage\n",
    "v1, v2 = 5, 6        # double affectation\n",
    "v1,v2"
   ]
  },
  {
   "cell_type": "markdown",
   "metadata": {
    "colab_type": "text",
    "id": "7Oyz1wjTCZZM"
   },
   "source": [
    "Par défaut, le notebook affiche le résultat présent sur la dernière ligne de la cellule. Si l'on souhaite en afficher plusieurs, il faut utiliser la fonction [print](https://docs.python.org/3/library/functions.html?highlight=print#print)."
   ]
  },
  {
   "cell_type": "code",
   "execution_count": 3,
   "metadata": {
    "colab": {
     "base_uri": "https://localhost:8080/",
     "height": 52
    },
    "colab_type": "code",
    "id": "s7Py5zXKCZZN",
    "outputId": "94cc250f-03b4-4cf3-d0b4-312b51a5ca6f"
   },
   "outputs": [
    {
     "name": "stdout",
     "output_type": "stream",
     "text": [
      "3\n"
     ]
    },
    {
     "data": {
      "text/plain": [
       "15"
      ]
     },
     "execution_count": 3,
     "metadata": {
      "tags": []
     },
     "output_type": "execute_result"
    }
   ],
   "source": [
    "x = 3\n",
    "print(x)\n",
    "y = 5 * x\n",
    "y"
   ]
  },
  {
   "cell_type": "code",
   "execution_count": 4,
   "metadata": {
    "colab": {
     "base_uri": "https://localhost:8080/",
     "height": 34
    },
    "colab_type": "code",
    "id": "4ouDtpxuCZZP",
    "outputId": "f5b934ba-6ac1-4f41-d633-157d4db786bd"
   },
   "outputs": [
    {
     "data": {
      "text/plain": [
       "'addition de 4 et 5 donne : 4 + 5 = 9'"
      ]
     },
     "execution_count": 4,
     "metadata": {
      "tags": []
     },
     "output_type": "execute_result"
    }
   ],
   "source": [
    "x,y = 4,5 \n",
    "s = \"addition\"\n",
    "\"{3} de {0} et {1} donne : {0} + {1} = {2}\".format (x,y,x+y,s)"
   ]
  },
  {
   "cell_type": "markdown",
   "metadata": {
    "colab_type": "text",
    "id": "RMtBLG_YCZZS"
   },
   "source": [
    "La dernière écriture permet d'assembler différentes valeurs en une seule chaînes de caractères. C'est très pratique lorsqu'on veut répéter le même assemblage un grand nombre de fois. Ce mécanisme ressemble à celui des lettres type : c'est un texte à trou qu'on remplit avec des valeurs différentes à chaque fois."
   ]
  },
  {
   "cell_type": "code",
   "execution_count": 5,
   "metadata": {
    "colab": {
     "base_uri": "https://localhost:8080/",
     "height": 52
    },
    "colab_type": "code",
    "id": "kPuv-8gTCZZS",
    "outputId": "81463212-f42c-49a7-d7b4-e9b29da0b045"
   },
   "outputs": [
    {
     "name": "stdout",
     "output_type": "stream",
     "text": [
      "Monsieur xavier, vous avez gagné...\n",
      "Monsieur sloane, vous avez gagné...\n"
     ]
    }
   ],
   "source": [
    "for prenom in [ \"xavier\", \"sloane\"] :\n",
    "    print (\"Monsieur {0}, vous avez gagné...\".format(prenom))"
   ]
  },
  {
   "cell_type": "markdown",
   "metadata": {
    "colab_type": "text",
    "id": "8n9A9dCmCZZU"
   },
   "source": [
    "**Type d'une variable :**"
   ]
  },
  {
   "cell_type": "code",
   "execution_count": 6,
   "metadata": {
    "colab": {
     "base_uri": "https://localhost:8080/",
     "height": 52
    },
    "colab_type": "code",
    "id": "QzBiv8r-CZZV",
    "outputId": "f3dc7466-d5ed-4f71-c74d-c83b3b48361d"
   },
   "outputs": [
    {
     "name": "stdout",
     "output_type": "stream",
     "text": [
      "<class 'str'>\n",
      "True\n"
     ]
    }
   ],
   "source": [
    "print ( type ( v ) )           # affiche le type d'une variable\n",
    "print ( isinstance (v, str) )  # pour déterminer si v est de type str"
   ]
  },
  {
   "cell_type": "markdown",
   "metadata": {
    "colab_type": "text",
    "id": "YdCljOmhCZZX"
   },
   "source": [
    "**Les tableaux ou listes (list) :**"
   ]
  },
  {
   "cell_type": "code",
   "execution_count": 7,
   "metadata": {
    "colab": {
     "base_uri": "https://localhost:8080/",
     "height": 34
    },
    "colab_type": "code",
    "id": "3y9iX1R3CZZY",
    "outputId": "156713c9-6cd4-45ed-bb39-8568d80ef7ed"
   },
   "outputs": [
    {
     "data": {
      "text/plain": [
       "((4, 5), [4, 5, 6.5], 4, 5, [])"
      ]
     },
     "execution_count": 7,
     "metadata": {
      "tags": []
     },
     "output_type": "execute_result"
    }
   ],
   "source": [
    "c  = (4,5)                # couple de valeurs (ou tuple)\n",
    "l  = [ 4, 5, 6.5]         # listes de valeurs ou tableaux\n",
    "x  = l [0]                # obtention du premier élément de la liste l\n",
    "y  = c [1]                # obtention du second élément\n",
    "le = [ ]                  # un tableau vide\n",
    "c,l,x,y,le"
   ]
  },
  {
   "cell_type": "code",
   "execution_count": 8,
   "metadata": {
    "colab": {
     "base_uri": "https://localhost:8080/",
     "height": 52
    },
    "colab_type": "code",
    "id": "Id4g3QDrCZZa",
    "outputId": "6d9e04f6-62bd-44e8-c1a5-35a8eb54f5c3"
   },
   "outputs": [
    {
     "name": "stdout",
     "output_type": "stream",
     "text": [
      "[4, 8, 5, 6, 7]\n"
     ]
    },
    {
     "data": {
      "text/plain": [
       "[6, 7]"
      ]
     },
     "execution_count": 8,
     "metadata": {
      "tags": []
     },
     "output_type": "execute_result"
    }
   ],
   "source": [
    "l  = [ 4, 5 ]\n",
    "l += [ 6 ]      # ajouter un élément\n",
    "l.append ( 7 )  # ajouter un élément\n",
    "l.insert (1, 8) # insérer un élément en seconde position\n",
    "print(l)\n",
    "del l [0]       # supprimer un élément\n",
    "del l [0:2]     # supprimer les deux premiers éléments\n",
    "l"
   ]
  },
  {
   "cell_type": "markdown",
   "metadata": {
    "colab_type": "text",
    "id": "1mk6t7Z3CZZg"
   },
   "source": [
    "**Longueur d'une liste et autres :**"
   ]
  },
  {
   "cell_type": "code",
   "execution_count": 9,
   "metadata": {
    "colab": {
     "base_uri": "https://localhost:8080/",
     "height": 69
    },
    "colab_type": "code",
    "id": "hTw-Oz80CZZh",
    "outputId": "7e18010a-a16e-41fe-c1d0-c490cb1c5c1e"
   },
   "outputs": [
    {
     "name": "stdout",
     "output_type": "stream",
     "text": [
      "3\n",
      "6\n"
     ]
    },
    {
     "data": {
      "text/plain": [
       "[4, 5, 6, 4, 4, 5, 6]"
      ]
     },
     "execution_count": 9,
     "metadata": {
      "tags": []
     },
     "output_type": "execute_result"
    }
   ],
   "source": [
    "l = [ 4, 5, 6 ]\n",
    "print ( len(l) )    # affiche la longueur du tableau\n",
    "print ( max(l) )    # affiche le plus grand élément\n",
    "s = l * 3           # création de la liste [ 4, 5, 6, 4, 5, 6, 4, 5, 6 ]\n",
    "t = s [ 4:7 ]       # extraction de la sous-liste de la position 4 à 7 exclu\n",
    "s [4:7] = [ 4 ]     # remplacement de cette liste par [ 4 ]\n",
    "s"
   ]
  },
  {
   "cell_type": "markdown",
   "metadata": {
    "colab_type": "text",
    "id": "V1ZusF4cCZZj"
   },
   "source": [
    "Type **mutable** et **immutable** (voir aussi [Qu'est-ce qu'un type immuable ou immutable ?](http://www.xavierdupre.fr/app/ensae_teaching_cs/helpsphinx/all_FAQ.html#qu-est-ce-qu-un-type-immuable-ou-immutable)) : une liste est un type **mutable**. Cela veut dire que par défaut, l'instruction ``list1=list2`` ne recopie pas la liste, elle lui donne un autre nom qui peut être utilisé en même temps que le premier."
   ]
  },
  {
   "cell_type": "code",
   "execution_count": 10,
   "metadata": {
    "colab": {
     "base_uri": "https://localhost:8080/",
     "height": 34
    },
    "colab_type": "code",
    "id": "tG_u796lCZZk",
    "outputId": "1b4ca54b-a6cd-42fa-cf86-6f976c9534c4"
   },
   "outputs": [
    {
     "data": {
      "text/plain": [
       "([-1, 1, 2], [-1, 1, 2])"
      ]
     },
     "execution_count": 10,
     "metadata": {
      "tags": []
     },
     "output_type": "execute_result"
    }
   ],
   "source": [
    "l1 = [ 0, 1 ,2 ]\n",
    "l2 = l1\n",
    "l2[0] = -1\n",
    "l1,l2"
   ]
  },
  {
   "cell_type": "markdown",
   "metadata": {
    "colab_type": "text",
    "id": "Oxf2oJgxCZZm"
   },
   "source": [
    "Les deux listes sont en apparence modifiées. En fait, il n'y en a qu'une. Pour créer une copie, il faut explicitement demander une copie."
   ]
  },
  {
   "cell_type": "code",
   "execution_count": 11,
   "metadata": {
    "colab": {
     "base_uri": "https://localhost:8080/",
     "height": 34
    },
    "colab_type": "code",
    "id": "OeJ3CcIqCZZm",
    "outputId": "ee3b61fd-dbdc-4029-9965-52e180082f82"
   },
   "outputs": [
    {
     "data": {
      "text/plain": [
       "([0, 1, 2], [-1, 1, 2])"
      ]
     },
     "execution_count": 11,
     "metadata": {
      "tags": []
     },
     "output_type": "execute_result"
    }
   ],
   "source": [
    "l1 = [ 0, 1 ,2 ]\n",
    "l2 = list(l1)\n",
    "l2[0] = -1\n",
    "l1,l2"
   ]
  },
  {
   "cell_type": "markdown",
   "metadata": {
    "colab_type": "text",
    "id": "6QkTl8PdCZZo"
   },
   "source": [
    "C'est un point très important du langage qu'il ne faut pas oublier. On retrouve cette convention dans la plupart des [langages interprétés](http://en.wikipedia.org/wiki/Interpreted_language) car faire une copie alourdit le temps d'exécution."
   ]
  },
  {
   "cell_type": "markdown",
   "metadata": {
    "colab_type": "text",
    "id": "63QTfdcHCZZo"
   },
   "source": [
    "### Partie 2 : Tests\n",
    "\n",
    "Les tests permettent de faire un choix : selon la valeur d'une condition, on fait soit une séquence d'instructions soit une autre."
   ]
  },
  {
   "cell_type": "code",
   "execution_count": 12,
   "metadata": {
    "colab": {
     "base_uri": "https://localhost:8080/",
     "height": 34
    },
    "colab_type": "code",
    "id": "xZkkru9vCZZp",
    "outputId": "e083ea71-f8a0-40e9-b62d-ee9ca8a27294"
   },
   "outputs": [
    {
     "name": "stdout",
     "output_type": "stream",
     "text": [
      "v n'est pas égal à 2\n"
     ]
    }
   ],
   "source": [
    "v = 3\n",
    "if v == 2 :\n",
    "    print (\"v est égal à 2\")\n",
    "else :\n",
    "    print (\"v n'est pas égal à 2\")"
   ]
  },
  {
   "cell_type": "markdown",
   "metadata": {
    "colab_type": "text",
    "id": "SfUcjJIWCZZr"
   },
   "source": [
    "La clause ``else`` n'est obligatoire :"
   ]
  },
  {
   "cell_type": "code",
   "execution_count": 13,
   "metadata": {
    "colab": {
     "base_uri": "https://localhost:8080/",
     "height": 34
    },
    "colab_type": "code",
    "id": "b07azZjYCZZr",
    "outputId": "e65c232f-db0f-4351-8157-439f713e17f6"
   },
   "outputs": [
    {
     "name": "stdout",
     "output_type": "stream",
     "text": [
      "v est égal à 2\n"
     ]
    }
   ],
   "source": [
    "v = 2\n",
    "if v == 2 :\n",
    "    print (\"v est égal à 2\")"
   ]
  },
  {
   "cell_type": "markdown",
   "metadata": {
    "colab_type": "text",
    "id": "VFsdN1ysCZZu"
   },
   "source": [
    "Plusieurs tests enchaînés :"
   ]
  },
  {
   "cell_type": "code",
   "execution_count": 14,
   "metadata": {
    "colab": {
     "base_uri": "https://localhost:8080/",
     "height": 34
    },
    "colab_type": "code",
    "id": "eUe-EclTCZZv",
    "outputId": "fb0356ef-ad2a-444d-aa72-6e9a37c7ab47"
   },
   "outputs": [
    {
     "name": "stdout",
     "output_type": "stream",
     "text": [
      "v est égal à 2\n"
     ]
    }
   ],
   "source": [
    "v = 2\n",
    "if v == 2 :\n",
    "    print (\"v est égal à 2\")\n",
    "elif v > 2 :\n",
    "    print (\"v est supérieur à 2\")\n",
    "else :\n",
    "    print (\"v est inférieur à 2\")"
   ]
  },
  {
   "cell_type": "markdown",
   "metadata": {
    "colab_type": "text",
    "id": "PZF9dJ5eCZZw"
   },
   "source": [
    "### Partie 3 : boucles"
   ]
  },
  {
   "cell_type": "markdown",
   "metadata": {
    "colab_type": "text",
    "id": "xC9BRJbTCZZx"
   },
   "source": [
    "Les boucles permettent de répéter un nombre fini ou infini de fois la même séquence d'instructions.\n",
    "Quelques exemples à essayer autour des boucles :"
   ]
  },
  {
   "cell_type": "code",
   "execution_count": 15,
   "metadata": {
    "colab": {
     "base_uri": "https://localhost:8080/",
     "height": 208
    },
    "colab_type": "code",
    "id": "G_Pz_jWgCZZx",
    "outputId": "61ee5dbd-bcd2-4d0e-ae5f-94552962bc52"
   },
   "outputs": [
    {
     "name": "stdout",
     "output_type": "stream",
     "text": [
      "dedans 0\n",
      "dedans 1\n",
      "dedans 2\n",
      "dedans 3\n",
      "dedans 4\n",
      "dedans 5\n",
      "dedans 6\n",
      "dedans 7\n",
      "dedans 8\n",
      "dedans 9\n"
     ]
    },
    {
     "data": {
      "text/plain": [
       "('dehors', 9)"
      ]
     },
     "execution_count": 15,
     "metadata": {
      "tags": []
     },
     "output_type": "execute_result"
    }
   ],
   "source": [
    "for i in range (0, 10) :   # on répète 10 fois\n",
    "    print (\"dedans\",i)     # l'affichage de i\n",
    "    # ici, on est dans la boucle\n",
    "# ici, on n'est plus dans la boucle\n",
    "\"dehors\",i                 # on ne passe que par 10"
   ]
  },
  {
   "cell_type": "markdown",
   "metadata": {
    "colab_type": "text",
    "id": "MmJtKhZIWYDw"
   },
   "source": [
    "#### Exercice 1 : Ecrire un programme qui prend en entrée une liste et renvoit en sortie si la liste contient 0 ou non."
   ]
  },
  {
   "cell_type": "markdown",
   "metadata": {
    "colab_type": "text",
    "id": "HpKy3nFzWPSV"
   },
   "source": [
    "Entrée : Une liste de nombres nommée liste.\n",
    "\n",
    "Sortie : \"0 trouvé\" ou \"0 non trouvé\" selon les cas."
   ]
  },
  {
   "cell_type": "code",
   "execution_count": 36,
   "metadata": {
    "colab": {},
    "colab_type": "code",
    "id": "LDU-G_eCXEJK"
   },
   "outputs": [
    {
     "name": "stdout",
     "output_type": "stream",
     "text": [
      "0 non trouvé\n",
      "0 trouvé\n"
     ]
    }
   ],
   "source": [
    "#Tester avec les listes ci-dessous\n",
    "l_1 = [ 1, 2, 3, 5]\n",
    "l_2 = [0, 9, 7, 8]\n",
    "\n",
    "# Fonction\n",
    "def contains0(list):\n",
    "    res = False\n",
    "    if(0 in list):\n",
    "        print(\"0 trouvé\")\n",
    "    else:\n",
    "        print(\"0 non trouvé\")\n",
    "\n",
    "# Test la liste\n",
    "contains0(l_1)\n",
    "contains0(l_2)"
   ]
  },
  {
   "cell_type": "markdown",
   "metadata": {
    "colab_type": "text",
    "id": "dC0EruKtCZZz"
   },
   "source": [
    "**Boucle while :**"
   ]
  },
  {
   "cell_type": "code",
   "execution_count": 15,
   "metadata": {
    "colab": {},
    "colab_type": "code",
    "id": "s1Rd9vIeCZZ2",
    "outputId": "f880b24c-5ab2-446a-84a4-ad7e0a9df8e9"
   },
   "outputs": [
    {
     "name": "stdout",
     "output_type": "stream",
     "text": [
      "0\n",
      "1\n",
      "2\n",
      "3\n",
      "4\n",
      "5\n",
      "6\n",
      "7\n",
      "8\n",
      "9\n"
     ]
    }
   ],
   "source": [
    "i = 0\n",
    "while i < 10 :\n",
    "    print (i)\n",
    "    i += 1"
   ]
  },
  {
   "cell_type": "markdown",
   "metadata": {
    "colab_type": "text",
    "id": "-owMcasDX12F"
   },
   "source": [
    "#### Exercice 2: écrire un programme qui affiche le plus petit entier n tel que (n+1)*(n+3) dépasse 12345."
   ]
  },
  {
   "cell_type": "code",
   "execution_count": 39,
   "metadata": {
    "colab": {},
    "colab_type": "code",
    "id": "-MwcVJBzYA44"
   },
   "outputs": [
    {
     "name": "stdout",
     "output_type": "stream",
     "text": [
      "109\n"
     ]
    }
   ],
   "source": [
    "n = 0\n",
    "i = 0\n",
    "while n < 12345 :\n",
    "    i += 1\n",
    "    n = (i+1)*(i+3)\n",
    "\n",
    "print(i)"
   ]
  },
  {
   "cell_type": "markdown",
   "metadata": {
    "colab_type": "text",
    "id": "qPdcmNsMYGk0"
   },
   "source": [
    "#### Exercice 3: Ecrire un programme qui affiche le plus petit entier n tel que 1² + 2² + 3² + ... + n² dépasse 12345."
   ]
  },
  {
   "cell_type": "code",
   "execution_count": 40,
   "metadata": {
    "colab": {},
    "colab_type": "code",
    "id": "9qy6KZYDYLCX"
   },
   "outputs": [
    {
     "name": "stdout",
     "output_type": "stream",
     "text": [
      "32\n"
     ]
    }
   ],
   "source": [
    "n = 0\n",
    "i =  0\n",
    "while n < 12345 :\n",
    "    i += 1\n",
    "    n += i**2\n",
    "\n",
    "print(i)"
   ]
  },
  {
   "cell_type": "markdown",
   "metadata": {
    "colab_type": "text",
    "id": "7WYywig3CZZ-"
   },
   "source": [
    "**Interrompre une boucle :**"
   ]
  },
  {
   "cell_type": "code",
   "execution_count": null,
   "metadata": {
    "colab": {},
    "colab_type": "code",
    "id": "EkoQxsY9CZZ_",
    "outputId": "eba90f9d-04a6-4f32-e078-23e89e9992e1"
   },
   "outputs": [
    {
     "name": "stdout",
     "output_type": "stream",
     "text": [
      "0\n",
      "1\n",
      "3\n",
      "4\n",
      "5\n",
      "6\n"
     ]
    }
   ],
   "source": [
    "for i in range (0, 10) : \n",
    "    if i == 2 :\n",
    "        continue           # on passe directement au suivant\n",
    "    print (i)            \n",
    "    if i > 5 :\n",
    "        break              # interruption définitive"
   ]
  },
  {
   "cell_type": "markdown",
   "metadata": {
    "colab_type": "text",
    "id": "D-3ZO-ViCZaA"
   },
   "source": [
    "**Parcours d'une liste :** observer les différences entre les trois écritures"
   ]
  },
  {
   "cell_type": "code",
   "execution_count": null,
   "metadata": {
    "colab": {},
    "colab_type": "code",
    "id": "QAVckYIvCZaB",
    "outputId": "33fbf54a-2a35-4630-ecaf-1d96d2a72391"
   },
   "outputs": [
    {
     "name": "stdout",
     "output_type": "stream",
     "text": [
      "élément  0 = 5\n",
      "élément  1 = 3\n",
      "élément  2 = 5\n",
      "élément  3 = 7\n"
     ]
    }
   ],
   "source": [
    "l = [ 5, 3, 5, 7 ]\n",
    "for i in range (0, len(l)) :\n",
    "    print (\"élément \",i, \"=\", l [ i ] ) "
   ]
  },
  {
   "cell_type": "code",
   "execution_count": null,
   "metadata": {
    "colab": {},
    "colab_type": "code",
    "id": "Re-SUB60CZaC",
    "outputId": "370662b3-ed8d-4b31-bb5c-6f8fb3f8265b"
   },
   "outputs": [
    {
     "name": "stdout",
     "output_type": "stream",
     "text": [
      "élément  5\n",
      "élément  3\n",
      "élément  5\n",
      "élément  7\n"
     ]
    }
   ],
   "source": [
    "l = [ 5, 3, 5, 7 ]\n",
    "for v in l :\n",
    "    print (\"élément \", v ) "
   ]
  },
  {
   "cell_type": "code",
   "execution_count": null,
   "metadata": {
    "colab": {},
    "colab_type": "code",
    "id": "TtSGMdI8CZaE",
    "outputId": "d9fafca2-8cb5-4ede-ade8-b143765cbd04"
   },
   "outputs": [
    {
     "name": "stdout",
     "output_type": "stream",
     "text": [
      "élément  0 = 5\n",
      "élément  1 = 3\n",
      "élément  2 = 5\n",
      "élément  3 = 7\n"
     ]
    }
   ],
   "source": [
    "l = [ 5, 3, 5, 7 ]\n",
    "for i,v in enumerate(l) :\n",
    "    print (\"élément \",i, \"=\", v ) "
   ]
  },
  {
   "cell_type": "markdown",
   "metadata": {
    "colab_type": "text",
    "id": "xfXbIbELCZaG"
   },
   "source": [
    "**Que fait le programme suivant ?**"
   ]
  },
  {
   "cell_type": "code",
   "execution_count": null,
   "metadata": {
    "colab": {},
    "colab_type": "code",
    "id": "-T2JQlxyCZaH",
    "outputId": "1a5ade96-18da-4bc5-c437-a9d871985545"
   },
   "outputs": [
    {
     "name": "stdout",
     "output_type": "stream",
     "text": [
      "4\n",
      "1\n",
      "3\n",
      "2\n"
     ]
    }
   ],
   "source": [
    "l = [ 4, 3, 0, 2, 1 ]\n",
    "i = 0\n",
    "while l[i] != 0 :\n",
    "    i = l[i]\n",
    "    print (i)            # que vaut l[i] à la fin ? 0"
   ]
  },
  {
   "cell_type": "markdown",
   "metadata": {
    "colab_type": "text",
    "id": "ocnhfLxzYkDQ"
   },
   "source": [
    "#### Exercice 4: Pour le texte donné dans la fenêtre ci-dessous, créer un programme qui affiche le nombre de voyelle."
   ]
  },
  {
   "cell_type": "code",
   "execution_count": 49,
   "metadata": {
    "colab": {},
    "colab_type": "code",
    "id": "UdYLCqtCZFRX"
   },
   "outputs": [
    {
     "name": "stdout",
     "output_type": "stream",
     "text": [
      "Il y a 409 voyelles dans la phrase\n"
     ]
    }
   ],
   "source": [
    "texte = \"Lorem ipsum dolor sit amet, consectetur adipiscing elit. Aenean at accumsan nisl, ac aliquet tellus. Sed maximus leo lacus, nec pulvinar purus maximus vel. Morbi sagittis suscipit risus, sed luctus metus bibendum vitae. Sed ac odio dignissim, efficitur ipsum eu, imperdiet ante. Sed eu lobortis nulla, placerat fermentum purus. Cras sollicitudin metus et imperdiet condimentum. Nulla a sapien sollicitudin nunc tincidunt interdum. Praesent elementum dolor id lacus lacinia, eu viverra arcu molestie. In nec neque ac ligula posuere gravida. Nulla maximus augue in consequat viverra. Integer euismod nibh a elit ullamcorper venenatis. In egestas, urna quis congue aliquam, risus lacus mollis nibh, sed venenatis dui lorem sed eros. Aliquam erat volutpat. Sed sagittis quam sed vestibulum ultricies. Cras sit amet efficitur nunc. Pellentesque mattis fermentum dui, finibus sagittis lacus sollicitudin quis. Praesent luctus pharetra nunc, vitae commodo ante laoreet sed. Sed eu lectus lectus. Nam luctus nisi quis porta fringilla. Quisque a tempus lectus. Cras at mauris tincidunt, volutpat eros vel, venenatis urna. Integer et tellus ut dui vulputate interdum ut id nunc.\"\n",
    "\n",
    "nbVoyelles = 0\n",
    "voyelles = ['a','e','i','o','u']\n",
    "\n",
    "texteMin=texte.lower()    \n",
    "\n",
    "for i in range (0, len(texteMin)) :\n",
    "    car = texteMin[i]\n",
    "    if car in voyelles:\n",
    "        nbVoyelles += 1\n",
    "\n",
    "        \n",
    "print(\"Il y a \" + str(nbVoyelles) + \" voyelles dans la phrase\")\n"
   ]
  },
  {
   "cell_type": "markdown",
   "metadata": {
    "colab_type": "text",
    "id": "YbJS32jGZh-N"
   },
   "source": [
    "#### Exercice 5: Pour le texte donné dans la fenêtre ci-dessous, créer un programme qui, pour chaque lettre du texte, affiche la lettre suivante dans l'alphabet."
   ]
  },
  {
   "cell_type": "markdown",
   "metadata": {
    "colab_type": "text",
    "id": "SQeUTpJjZp0d"
   },
   "source": [
    "Quelques compléments :\n",
    "\n",
    "\n",
    "\n",
    "*   Pour le \"z\", on affichera \"a\".\n",
    "*   Les lettres du texte sont toutes sans accent mais ne sont pas toutes en minuscule.\n",
    "*   La ponctuation et espaces devront rester inchangés.\n",
    "*   Pour l'affichage, on utilisera print et chaque lettre sera affichée en allant à la ligne.\n",
    "\n",
    "\n",
    "\n",
    "\n",
    "\n",
    "\n",
    "\n"
   ]
  },
  {
   "cell_type": "code",
   "execution_count": 91,
   "metadata": {
    "colab": {},
    "colab_type": "code",
    "id": "iv5onMISZcko"
   },
   "outputs": [
    {
     "name": "stdout",
     "output_type": "stream",
     "text": [
      "O temps ! suspends ton vol, et vous, heures propices ! Suspendez votre cours : Laissez-nous savourer les rapides délices Des plus beaux de nos jours !\n",
      "P ufnqt ! tvtqfoet upo wpm, fu wpvt, ifvsft qspqjdft ! Tvtqfoefa wpusf dpvst : Mbjttfa-opvt tbwpvsfs mft sbqjeft eémjdft Eft qmvt cfbvy ef opt kpvst !\n",
      "P\n",
      " \n",
      "u\n",
      "f\n",
      "n\n",
      "q\n",
      "t\n",
      " \n",
      "!\n",
      " \n",
      "t\n",
      "v\n",
      "t\n",
      "q\n",
      "f\n",
      "o\n",
      "e\n",
      "t\n",
      " \n",
      "u\n",
      "p\n",
      "o\n",
      " \n",
      "w\n",
      "p\n",
      "m\n",
      ",\n",
      " \n",
      "f\n",
      "u\n",
      " \n",
      "w\n",
      "p\n",
      "v\n",
      "t\n",
      ",\n",
      " \n",
      "i\n",
      "f\n",
      "v\n",
      "s\n",
      "f\n",
      "t\n",
      " \n",
      "q\n",
      "s\n",
      "p\n",
      "q\n",
      "j\n",
      "d\n",
      "f\n",
      "t\n",
      " \n",
      "!\n",
      " \n",
      "T\n",
      "v\n",
      "t\n",
      "q\n",
      "f\n",
      "o\n",
      "e\n",
      "f\n",
      "a\n",
      " \n",
      "w\n",
      "p\n",
      "u\n",
      "s\n",
      "f\n",
      " \n",
      "d\n",
      "p\n",
      "v\n",
      "s\n",
      "t\n",
      " \n",
      ":\n",
      " \n",
      "M\n",
      "b\n",
      "j\n",
      "t\n",
      "t\n",
      "f\n",
      "a\n",
      "-\n",
      "o\n",
      "p\n",
      "v\n",
      "t\n",
      " \n",
      "t\n",
      "b\n",
      "w\n",
      "p\n",
      "v\n",
      "s\n",
      "f\n",
      "s\n",
      " \n",
      "m\n",
      "f\n",
      "t\n",
      " \n",
      "s\n",
      "b\n",
      "q\n",
      "j\n",
      "e\n",
      "f\n",
      "t\n",
      " \n",
      "e\n",
      "ê\n",
      "m\n",
      "j\n",
      "d\n",
      "f\n",
      "t\n",
      " \n",
      "E\n",
      "f\n",
      "t\n",
      " \n",
      "q\n",
      "m\n",
      "v\n",
      "t\n",
      " \n",
      "c\n",
      "f\n",
      "b\n",
      "v\n",
      "y\n",
      " \n",
      "e\n",
      "f\n",
      " \n",
      "o\n",
      "p\n",
      "t\n",
      " \n",
      "k\n",
      "p\n",
      "v\n",
      "s\n",
      "t\n",
      " \n",
      "!\n"
     ]
    }
   ],
   "source": [
    "texte = \"O temps ! suspends ton vol, et vous, heures propices ! Suspendez votre cours : Laissez-nous savourer les rapides délices Des plus beaux de nos jours !\"\n",
    "def nextIndex(l, car):\n",
    "    idx = l.index(car)\n",
    "    if(idx == len(l)-1):\n",
    "        idx=0\n",
    "    else:\n",
    "        idx= idx+1\n",
    "    return idx\n",
    "\n",
    "alphabetMin = \"abcdefghijklmnopqrstuvwxyz\"\n",
    "alphabetUp = alphabetMin.upper()\n",
    "\n",
    "res = \"\"\n",
    "\n",
    "for i in range (0, len(texte)) :\n",
    "    car = texte[i]\n",
    "    newCar = car\n",
    "    \n",
    "    if(car in alphabetMin):\n",
    "        idx = nextIndex(alphabetMin, car)\n",
    "        #print(idx)\n",
    "        newCar = alphabetMin[idx]\n",
    "    elif (car in alphabetUp):\n",
    "        idx = nextIndex(alphabetUp, car)\n",
    "        #print(idx)\n",
    "        newCar = alphabetUp[idx]\n",
    "    res += newCar\n",
    "\n",
    "print(texte)\n",
    "print(res)\n",
    "\n",
    "# Version du formateur\n",
    "for caractere in texte:\n",
    "    if caractere.isalpha():\n",
    "        if caractere == 'z':\n",
    "            caractere = 'a'\n",
    "        elif caractere == 'Z':\n",
    "            caractere = 'A'\n",
    "        else:\n",
    "            caractere = chr(ord(caractere)+1)\n",
    "    print(caractere)"
   ]
  },
  {
   "cell_type": "markdown",
   "metadata": {
    "colab_type": "text",
    "id": "LCTsFBWUCZaJ"
   },
   "source": [
    "### Partie 4 : les listes compactes, les ensembles\n",
    "\n",
    "Plutôt que d'écrire :"
   ]
  },
  {
   "cell_type": "code",
   "execution_count": null,
   "metadata": {
    "colab": {},
    "colab_type": "code",
    "id": "spa4nN8kCZaJ",
    "outputId": "8256d618-dda5-442d-c752-0e68d943e403"
   },
   "outputs": [
    {
     "data": {
      "text/plain": [
       "[1, 3, 5, 7, 9, 11, 13, 15, 17, 19]"
      ]
     },
     "execution_count": 24,
     "metadata": {
      "tags": []
     },
     "output_type": "execute_result"
    }
   ],
   "source": [
    "l = [ ]\n",
    "for i in range (10) :\n",
    "    l.append( i*2+1)\n",
    "l"
   ]
  },
  {
   "cell_type": "markdown",
   "metadata": {
    "colab_type": "text",
    "id": "qjBxACjHCZaL"
   },
   "source": [
    "On peut écrire :"
   ]
  },
  {
   "cell_type": "code",
   "execution_count": null,
   "metadata": {
    "colab": {},
    "colab_type": "code",
    "id": "2rPz_ZCsCZaL",
    "outputId": "354f58eb-816f-47cc-c9c8-f423581920e6"
   },
   "outputs": [
    {
     "data": {
      "text/plain": [
       "[1, 3, 5, 7, 9, 11, 13, 15, 17, 19]"
      ]
     },
     "execution_count": 25,
     "metadata": {
      "tags": []
     },
     "output_type": "execute_result"
    }
   ],
   "source": [
    "l = [ i*2+1 for i in range(10) ]\n",
    "l"
   ]
  },
  {
   "cell_type": "markdown",
   "metadata": {
    "colab_type": "text",
    "id": "7TSHoF1aCZaN"
   },
   "source": [
    "Quelques examples à essayer :"
   ]
  },
  {
   "cell_type": "code",
   "execution_count": null,
   "metadata": {
    "colab": {},
    "colab_type": "code",
    "id": "BQ1Q7sCBCZaO",
    "outputId": "c1032bc3-fd78-49dc-be71-64f583e4c5c3"
   },
   "outputs": [
    {
     "data": {
      "text/plain": [
       "[0, 2, 4, 6, 8, 10, 12, 14, 16, 18]"
      ]
     },
     "execution_count": 26,
     "metadata": {
      "tags": []
     },
     "output_type": "execute_result"
    }
   ],
   "source": [
    "l = [ i*2 for i in range(0,10) ]\n",
    "l  # qu'affiche l ?"
   ]
  },
  {
   "cell_type": "code",
   "execution_count": null,
   "metadata": {
    "colab": {},
    "colab_type": "code",
    "id": "oghvk4RrCZaP",
    "outputId": "d9f5b20d-ad19-4383-e553-e55b228e7a5a"
   },
   "outputs": [
    {
     "data": {
      "text/plain": [
       "[0, 4, 8, 12, 16]"
      ]
     },
     "execution_count": 27,
     "metadata": {
      "tags": []
     },
     "output_type": "execute_result"
    }
   ],
   "source": [
    "l = [ i*2 for i in range(0,10) if i%2==0 ]\n",
    "l  # qu'affiche l ?"
   ]
  },
  {
   "cell_type": "markdown",
   "metadata": {
    "colab_type": "text",
    "id": "aSdN1G-PCZaR"
   },
   "source": [
    "Les ensembles ou **set** sont des listes pour lesquelles les éléments sont uniques. Si deux nombres nombres *int* et *float* sont égaux, seul le premier sera conservé."
   ]
  },
  {
   "cell_type": "code",
   "execution_count": null,
   "metadata": {
    "colab": {
     "base_uri": "https://localhost:8080/",
     "height": 34
    },
    "colab_type": "code",
    "id": "mara4I5kCZaR",
    "outputId": "3d030a50-a445-4584-ebb9-ac2ea8d9aa0e"
   },
   "outputs": [
    {
     "data": {
      "text/plain": [
       "{4, 5, 6, 7, 9, 'a', 'b', 'c'}"
      ]
     },
     "execution_count": 3,
     "metadata": {
      "tags": []
     },
     "output_type": "execute_result"
    }
   ],
   "source": [
    "l = [ \"a\",\"b\",\"c\", \"a\", 9,4,5,6,7,4,5,9.0]\n",
    "s = set(l)\n",
    "s"
   ]
  },
  {
   "cell_type": "markdown",
   "metadata": {
    "colab_type": "text",
    "id": "O4h9Q3brCZaT"
   },
   "source": [
    "### Partie 5 : recherche non dichotomique"
   ]
  },
  {
   "cell_type": "markdown",
   "metadata": {
    "colab_type": "text",
    "id": "efAyucZW8lvh"
   },
   "source": [
    "##### Exercice 6: Créer une fonction pour trouver la position du nombre \"x=7\" dans la liste l "
   ]
  },
  {
   "cell_type": "code",
   "execution_count": 92,
   "metadata": {
    "colab": {},
    "colab_type": "code",
    "id": "2WnrUMJ2CZaT"
   },
   "outputs": [
    {
     "name": "stdout",
     "output_type": "stream",
     "text": [
      "3\n",
      "3\n"
     ]
    }
   ],
   "source": [
    "l = [ 3, 6, 2 , 7, 9 ]\n",
    "x = 7\n",
    "\n",
    "print(l.index(x))\n",
    "\n",
    "position = -1\n",
    "for i in range(len(l))   :\n",
    "    if l[i] == x:\n",
    "        position = i\n",
    "        break\n",
    "print ( position )"
   ]
  },
  {
   "cell_type": "markdown",
   "metadata": {
    "colab_type": "text",
    "id": "7WwVGbIwCZaU"
   },
   "source": [
    "### Partie 6 : Recherche dichotomique"
   ]
  },
  {
   "cell_type": "markdown",
   "metadata": {
    "colab_type": "text",
    "id": "_80lErmgCZaV"
   },
   "source": [
    "La [recherche dichotomique](http://fr.wikipedia.org/wiki/Dichotomie) consiste à chercher un élément ``e`` dans un tableau trié ``l``. On cherche sa position :\n",
    "\n",
    "* On commence par comparer ``e`` à l'élément placé au milieu du tableau d'indice ``m``, s'ils sont égaux, on a trouvé,\n",
    "* s'il est inférieur, on sait qu'il se trouve entre les indices 0 et ``m-1``,\n",
    "* s'il est supérieur, on sait qu'il se trouve entre les indices ``m+1`` et la fin du tableau.\n",
    "\n",
    "Avec une comparaison, on a déjà éliminé une moitié de tableau dans laquelle on sait que ``p`` ne se trouve pas. On applique le même raisonnement à l'autre moitié pour réduire la partie du tableau dans laquelle on doit chercher."
   ]
  },
  {
   "cell_type": "code",
   "execution_count": 93,
   "metadata": {
    "colab": {},
    "colab_type": "code",
    "id": "JLNBOL4vCZaW"
   },
   "outputs": [
    {
     "name": "stdout",
     "output_type": "stream",
     "text": [
      "[-5, -1, 3, 4, 5, 7, 9]\n",
      "5\n",
      "Le nombre est bien dans la liste\n",
      "Le nombre n'est pas dans la liste\n"
     ]
    }
   ],
   "source": [
    "\n",
    "l = sorted( [ 4, 7, -1,3, 9, 5, -5 ] )\n",
    "print(l)\n",
    "\n",
    "wanted = 7\n",
    "end = len(l)\n",
    "begin = 0\n",
    "position = int((end-begin) / 2)\n",
    "\n",
    "while l[position]!= wanted:\n",
    "    if(l[position] > wanted):\n",
    "        position -= 1\n",
    "        #print(\"supp:\"+str(position))\n",
    "    elif (l[position] < wanted):\n",
    "        position += 1\n",
    "        #print(\"inf:\"+str(position))\n",
    "\n",
    "print(position)\n",
    "\n",
    "\n",
    "# recherche dichotomique\n",
    "# la position retournée est correspond à celle de l'élément dans le tableau trié\n",
    "\n",
    "# Autre solution\n",
    "def dichoResearch(liste, nb):\n",
    "    # recherche dichotomique\n",
    "    # la position retournée est correspond à celle de l'élément dans le tableau trié\n",
    "    l = sorted(liste)\n",
    "    a, b = 0, len(l) - 1\n",
    "    while (a <= b):\n",
    "        m = (a + b) // 2\n",
    "        if l[m] == nb:\n",
    "            return \"Le nombre est bien dans la liste\"\n",
    "        elif l[m] < nb:\n",
    "            a = m + 1\n",
    "        else: \n",
    "            b = m - 1\n",
    "\n",
    "    return \"Le nombre n'est pas dans la liste\"\n",
    "\n",
    "liste = [4, 7, -1,3, 9, 5, -5]\n",
    "\n",
    "print(dichoResearch(liste, -1))    #Le nombre est dans la liste\n",
    "print(dichoResearch(liste, 4985))  #Le nombre n'est pas dans la liste\n",
    "\n",
    "\n",
    "# Version de Pierre\n",
    "l = [-5, -1, 3, 4, 5, 7, 9]\n",
    "e = 3\n",
    "milieu = len(l) // 2  # Division entière\n",
    "debut = 0\n",
    "fin = len(l)\n",
    "if l[milieu] == e:\n",
    "    print(\"Trouvé en position \", milieu)\n",
    "elif l[milieu] < e:  # recherche dans la moitié droite restante\n",
    "    print(\"recherche dans la moitié droite restante\")\n",
    "else :  #l[milieu] > e recherche dans la moitié gauche restante\n",
    "    print(\"recherche dans la moitié gauche restante\")\n",
    "    \n",
    "# Version Pierre 2\n",
    "trouve = False\n",
    "debut = 0\n",
    "fin = len(l)\n",
    "while not trouve:\n",
    "    milieu = debut + (fin - debut) // 2\n",
    "    print(milieu)\n",
    "    if l[milieu] == e:\n",
    "        print(\"Trouvé en position \", milieu)\n",
    "        trouve = True\n",
    "    elif l[milieu] < e:  # recherche dans la moitié droite restante\n",
    "        debut = milieu + 1\n",
    "        # fin = fin\n",
    "    else :  #l[milieu] > e recherche dans la moitié gauche restante\n",
    "        # debut = debut\n",
    "        fin = milieu - 1"
   ]
  },
  {
   "cell_type": "code",
   "execution_count": null,
   "metadata": {
    "colab": {},
    "colab_type": "code",
    "id": "DQ4dAJYECZaZ"
   },
   "outputs": [],
   "source": []
  }
 ],
 "metadata": {
  "colab": {
   "collapsed_sections": [],
   "name": "Session_20_11_Approfondissement.ipynb",
   "provenance": [],
   "toc_visible": true
  },
  "kernelspec": {
   "display_name": "Python 3",
   "language": "python",
   "name": "python3"
  },
  "language_info": {
   "codemirror_mode": {
    "name": "ipython",
    "version": 3
   },
   "file_extension": ".py",
   "mimetype": "text/x-python",
   "name": "python",
   "nbconvert_exporter": "python",
   "pygments_lexer": "ipython3",
   "version": "3.8.8"
  }
 },
 "nbformat": 4,
 "nbformat_minor": 4
}
