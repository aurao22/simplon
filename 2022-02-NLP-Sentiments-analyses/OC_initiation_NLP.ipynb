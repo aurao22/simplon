{
 "cells": [
  {
   "cell_type": "markdown",
   "metadata": {},
   "source": [
    "# Analysez vos données textuelles"
   ]
  },
  {
   "cell_type": "markdown",
   "metadata": {},
   "source": [
    "le cours d'initiation d'OC : https://openclassrooms.com/fr/courses/4470541-analysez-vos-donnees-textuelles "
   ]
  },
  {
   "cell_type": "markdown",
   "metadata": {},
   "source": [
    "## Enoncé du premier proejt\n",
    "Entraînez-vous à prétraiter un corpus en vue de créer un moteur de résumés"
   ]
  },
  {
   "cell_type": "markdown",
   "metadata": {},
   "source": [
    "Vous allez nettoyer le texte et de créer un jeu de données d’entraînement en vue de créer un moteur de résumé automatique. Voici le dataset que vous allez utiliser : https://cs.nyu.edu/~kcho/DMQA/"
   ]
  },
  {
   "cell_type": "markdown",
   "metadata": {},
   "source": [
    "Consigne\n",
    "\n",
    "Vous devrez effectuer les opérations de traitement suivantes sur le texte, pas forcément dans cet ordre\n",
    "- Créer des paires de documents (article, highlights)\n",
    "- Suppression de la ponctuation\n",
    "- Séparation en token en minuscules\n",
    "- Suppression des stopwords pour les articles\n",
    "- Calcul des fréquences et tf-idf sur les deux types de documents\n",
    "- Enregistrement du nouveau jeu de données d’entraînement pour usage ultérieur"
   ]
  },
  {
   "cell_type": "markdown",
   "metadata": {},
   "source": [
    "## Créer des paires de documents (article, highlights)"
   ]
  },
  {
   "cell_type": "markdown",
   "metadata": {},
   "source": [
    "### Exemple"
   ]
  },
  {
   "cell_type": "markdown",
   "metadata": {},
   "source": [
    "Première étape: créer une paire de documents à partir d'un fichier texte. Quand on regarde le contenu on voit que les fichiers sont structurés de manière similaire:\n",
    "\n",
    "```\n",
    "(CNN) -- Le contenu de l'article\n",
    "\n",
    "@highlight\n",
    "\n",
    "un point important\n",
    "\n",
    "@highlight\n",
    "\n",
    "un autre point important\n",
    "```"
   ]
  },
  {
   "cell_type": "markdown",
   "metadata": {},
   "source": [
    "A partir de ça comment avoir un contenant python du genre tuple:\n",
    "\n",
    "`(\"Le contenu de l'article\", \"un point important un autre point important\")`"
   ]
  },
  {
   "cell_type": "code",
   "execution_count": 1,
   "metadata": {},
   "outputs": [],
   "source": [
    "contenu_factice = \"\"\"(CNN) -- Le contenu de l'article\n",
    "\n",
    "@highlight\n",
    "\n",
    "un point important\n",
    "\n",
    "@highlight\n",
    "\n",
    "un autre point important\n",
    "\"\"\""
   ]
  },
  {
   "cell_type": "code",
   "execution_count": 2,
   "metadata": {},
   "outputs": [
    {
     "data": {
      "text/plain": [
       "[\"(CNN) -- Le contenu de l'article\\n\\n\",\n",
       " '\\n\\nun point important\\n\\n',\n",
       " '\\n\\nun autre point important\\n']"
      ]
     },
     "execution_count": 2,
     "metadata": {},
     "output_type": "execute_result"
    }
   ],
   "source": [
    "contenu_factice.split(\"@highlight\")"
   ]
  },
  {
   "cell_type": "code",
   "execution_count": 3,
   "metadata": {},
   "outputs": [
    {
     "data": {
      "text/plain": [
       "\" Le contenu de l'article\\n\\n\""
      ]
     },
     "execution_count": 3,
     "metadata": {},
     "output_type": "execute_result"
    }
   ],
   "source": [
    "# '(CNN) --'\n",
    "contenus = contenu_factice.split(\"@highlight\")\n",
    "# Dans le cas où on a '(CNN) --', on enlève tout ce qu'il y a devant\n",
    "article = contenus[0].split(\"(CNN) --\")  # Liste des différents contenus dans article\n",
    "if len(article)>1:\n",
    "    article = article[1]  # transformation de la liste en chaîne de caractères\n",
    "else:\n",
    "    article = article[0]\n",
    "\n",
    "article"
   ]
  },
  {
   "cell_type": "code",
   "execution_count": 4,
   "metadata": {},
   "outputs": [
    {
     "data": {
      "text/plain": [
       "'\\n\\nun point important\\n\\n\\n\\nun autre point important\\n'"
      ]
     },
     "execution_count": 4,
     "metadata": {},
     "output_type": "execute_result"
    }
   ],
   "source": [
    "# on concatène l'ensemble des autres contenus dans une variable highlights\n",
    "highlights = \"\"\n",
    "for i in range(1, len(contenus)):\n",
    "    highlights += contenus[i]\n",
    "highlights"
   ]
  },
  {
   "cell_type": "code",
   "execution_count": 5,
   "metadata": {},
   "outputs": [
    {
     "data": {
      "text/plain": [
       "(\" Le contenu de l'article\\n\\n\",\n",
       " '\\n\\nun point important\\n\\n\\n\\nun autre point important\\n')"
      ]
     },
     "execution_count": 5,
     "metadata": {},
     "output_type": "execute_result"
    }
   ],
   "source": [
    "# Notre structure de données pour un document:\n",
    "(article, highlights)"
   ]
  },
  {
   "cell_type": "code",
   "execution_count": 6,
   "metadata": {},
   "outputs": [],
   "source": [
    "# notre fonction\n",
    "def conversion_du_document(texte):\n",
    "    contenus = texte.split(\"@highlight\")\n",
    "    # Dans le cas où on a '(CNN) --', on enlève tout ce qu'il y a devant\n",
    "    article = contenus[0].split(\"(CNN) --\")  # Liste des différents contenus dans article\n",
    "    if len(article)>1:\n",
    "        article = article[1]  # transformation de la liste en chaîne de caractères\n",
    "    else:\n",
    "        article = article[0]\n",
    "    highlights = \"\"\n",
    "    for i in range(1, len(contenus)):\n",
    "        highlights += contenus[i]\n",
    "    return (article, highlights)"
   ]
  },
  {
   "cell_type": "markdown",
   "metadata": {},
   "source": [
    "### Travail sur l'échantillon des données"
   ]
  },
  {
   "cell_type": "markdown",
   "metadata": {},
   "source": [
    "[Listing All Files in a Directory](https://realpython.com/working-with-files-in-python/#listing-all-files-in-a-directory)"
   ]
  },
  {
   "cell_type": "code",
   "execution_count": 7,
   "metadata": {},
   "outputs": [
    {
     "name": "stdout",
     "output_type": "stream",
     "text": [
      "0a0f56ebc5a0a67ed18de79d99b40a42d8058d04.story\n",
      "0a1ad82d161d90d758240407cb8c8fcebff4a212.story\n",
      "0a0b44620d0dec6fdfc1aa139ff51bcb36c56c51.story\n",
      "0a0a4c90d59df9e36ffec4ba306b4f20f3ba4acb.story\n",
      "0a001b54b5b0ea17f11aa8d7acafb40ae7748ca6.story\n",
      "0a0adc84ccbf9414613e145a3795dccc4828ddd4.story\n",
      "0a000f521734500aa360bf6bb2bb31446e4d66cd.story\n",
      "0a0d11c125e4e4b061061f44b08f60cb5b8bf177.story\n",
      "0a0b59738a88e97ef66322a8c866d22ebf079289.story\n",
      "0a0aa464d262b903f44b0f8eaa67f13dd1946cfd.story\n",
      "0a0c2f4e07ba05f3226e8afec1350ac82161cd2e.story\n"
     ]
    }
   ],
   "source": [
    "import os\n",
    "\n",
    "# List all files in a directory using os.listdir\n",
    "basepath = './cnn/stories/'\n",
    "for entry in os.listdir(basepath):\n",
    "    if os.path.isfile(os.path.join(basepath, entry)) and entry.endswith('.story'):\n",
    "        print(entry)"
   ]
  },
  {
   "cell_type": "code",
   "execution_count": 8,
   "metadata": {},
   "outputs": [
    {
     "data": {
      "text/plain": [
       "[(' The man suspected of trying to attack the Dutch royal family by crashing his car near their bus has died, Dutch police said Friday.\\n\\nA car is pictured after crashing into the crowd waiting for the visit of the royal family in Apeldoorn.\\n\\nThe man, whose name was not released, had been seriously injured in the crash Thursday in the town of Apeldoorn, about 45 miles east of Amsterdam, police said. He died early Friday, police said.\\n\\nHe had been charged with trying to attack the royal family, authorities said. Were you there? Send us your video, images\\n\\nPolice searched the man\\'s house but found no weapons, explosives, \"or any other clues that could lead to the involvement of other people,\" police said.\\n\\nFive people, as well as the driver, were killed and 12 were wounded in the incident, which happened during the country\\'s annual Queen\\'s Day celebration, police said.\\n\\nCrowds had lined the streets to see Queen Beatrix and her family ride by in an open-top bus during the Netherlands\\' annual holiday.  See who the Dutch royal family are »\\n\\nAs the bus moved along, a black hatchback zoomed past it. The crowds were behind barriers off the road, but security officials and journalists, including many cameramen, were in the road as the car went by.\\n\\nThe car crashed into the low metal railing around a column on the side of the road. The vehicle appeared heavily damaged even before the crash, but the reason for that was unclear.\\n\\nThere was no one other than the driver in the car at the time, police spokeswoman Esther Naber said.\\n\\nMembers of the royal family saw the crash and gasped, then quickly sat down as the bus continued driving.\\n\\nThe attack caused outrage in the Netherlands, newspapers Friday widely expressing disbelief and suggesting the monarchy would have to change.\\n\\n\"Queens Day will never be the same,\" the Trouw newspaper said. \"The Netherlands always has been proud of their no nonsense royal family. With this comes a Queen who not only cycles a bike, but also mixes with people without obvious security measurements. Is that still possible now the royal family has been the target of an attack?\"\\n\\nThe Algemeen Dagblad newspaper agreed.\\n\\n\"\"What is going to happen on the 30th of April next year? And will we continue to see the members of the royal family cycling through the canals of Amsterdam or hunting for bargains in the Bijenkorf in The Hague?\"\\n\\nQueen\\'s Day is a national holiday in the Netherlands, the Netherlands Antilles, and Aruba. The tradition started in 1885 and celebrates the birthday of the queen.\\n\\nAlthough Queen Beatrix\\'s birthday is January 31, she officially celebrates her birthday April 30, according to the Dutch government.\\n\\nQueen\\'s Day is known for its free market all over the country, where anybody is allowed to sell things in the streets. Other activities include children\\'s games and musical performances.\\n\\nThe day is marked with the color orange all over the country as a reference to the colors of the royal family, who come from the House of Orange-Nassau.\\n\\nEmmy Dexel contributed to this report.\\n\\n',\n",
       "  \"\\n\\nIncident happened during the Netherlands annual Queen's Day celebration\\n\\n\\n\\nCar hit crowd near open-top bus carrying Queen Beatrix of Netherlands\\n\\n\\n\\nPolice: No other clues that could lead to the involvement of other people\\n\\n\\n\\nPolice: There was no one other than the driver in the car at the time\"),\n",
       " (' Soon after I first came to visit China in the autumn of 1971, I saw a contingent of militia soldiers doing marching drills in Tiananmen Square. I was told they were rehearsing for the annual National Day parade on October 1, which people eagerly awaited.\\n\\nMao Zedong proclaims the founding of the People\\'s Republic of China in Beijing on October 1, 1949.\\n\\nWeeks later, however, I was informed that the civilian and military parade had been cancelled in the spirit of \"simple-living and hard struggle,\" as Chairman Mao decreed. The real reason: Lin Biao, then defense minister and Mao\\'s anointed successor, had reportedly died in a plane crash while attempting to flee the country after a failed coup attempt.\\n\\nChina\\'s achievements in the last 60 years have come in zigs and zags. The best place to look back at what China went through in the past six decades is Tiananmen, or the Gate of Heavenly Peace. Behind it lies the Imperial Palace, or Forbidden City, where China\\'s Emperors used to live. The emperor is now history, but Tiananmen remains Beijing\\'s political center.\\n\\nIt was on the Tiananmen rostrum where Chairman Mao formally proclaimed the founding of the People\\'s Republic. \"The Chinese people have stood up!\" he declared in a shrill Hunanese accent. For decades, the whole nation followed Mao loyally. He emphasized political mobilization of the common man, especially the peasantry. In Mao\\'s ideology, the Chinese people found hope in a New China, wherein citizens would always have a bowl of rice to eat and clothes to wear.\\n\\nMao proved to be good at fighting but poor at governing. He pushed sweeping socio-economic initiatives and strident ideological campaigns, often with disastrous results. During two political campaigns in the late 1950s, over 550,000 \"rightist\" intellectuals were persecuted and imprisoned. The Great Leap Forward led to widespread famine and the deaths of an estimated 30 million Chinese.\\n\\nIn the late 1960s, Mao would again stand in the Tiananmen rostrum to launch the Cultural Revolution. There, he rallied hundreds of thousands of young Chinese -- the radical Red Guards -- who lionized him like a demi-god. \"To rebel is justified!\" they proclaimed. They rebelled against everything and wreaked havoc everywhere. For ten years, China was condemned to political turmoil and economic malaise. Perhaps the only factor that kept the country from total collapse was the people\\'s incomparable resilience and their ability to \"chi ku\" (eat bitterness, or bear hardship).\\n\\nMao\\'s reign is also credited for positive changes. He banned child brides and polygamy, built Beijing\\'s first subway line and started a space program with China\\'s first satellite launch. In 1972, the People\\'s Republic of China replaced the Republic of China (Taiwan) in the United Nations.\\n\\nStill, for three decades under Mao, China tried to break out of its backwardness and isolation but only met modest success.\\n\\nMao died in 1976 and his remains are kept in a mausoleum in Tiananmen Square.  Take an audiovisual tour of Mao\\'s hometown »\\n\\nSoon enough, Deng Xiaoping emerged as the new paramount leader. Deng overturned most of Mao\\'s policies and embarked upon reforming the economy and opening up the country to the outside world.\\n\\nHis quest for stability and prosperity took off in the early 1990s, propelled by his pragmatic policies to entice foreign investments and build China\\'s private sector.\\n\\nJust south of Tiananmen, one landmark stands as a symbol of Deng\\'s bold open-door policy. In the early 1980s, the first Kentucky Fried Chicken outlet opened in Beijing, just a stone\\'s throw away from Mao\\'s mausoleum. Today, the fast food chain still does brisk business, with a large portrait of founder Colonel Sanders hanging on the three-story building.\\n\\nNot every Chinese embraced Deng\\'s reform and open-door policy. Old Guards and conservatives in and outside the communist party accepted Deng\\'s reform policies, but with a great deal of misgiving.\\n\\nThe backlash came to a boil in 1989, when Tiananmen witnessed an outpouring of support for the students who called for freedom and democracy, and more reform. After six weeks of heady demonstrations, the Tiananmen movement was brutally suppressed.  See landmark moments in China\\'s 60 years »\\n\\nChina has returned to world prominence through a 20-year economic boom, the speed and breadth of which is unparalleled in the history of mankind. China went from global economic irrelevance to the third largest economy in the world. The People\\'s Liberation Army, no longer a \"junkyard army,\" has emerged as a formidable military power capable of launching a human being into space and shooting down satellites.  Take a look inside China\\'s space program »\\n\\nThe People\\'s Republic of China marks its 60th anniversary on Thursday with 300,000 participants and 60 floats to highlight the country\\'s achievements in various sectors of the society and economy.  See anniversary preparations in photos »\\n\\nA military parade will feature goose-stepping troops marching down the Avenue of Eternal Peace. Modern military hardware -- tanks, armed personnel carriers, missiles, helicopters and fighter jets, all made in China -- will be on display. Fireworks will cap the festivities.  See how China has changed over 60 years »\\n\\nBut pomp and pageantry aside, China\\'s phenomenal economic growth over the decades has triggered unintended consequences: rising unemployment, growing income gaps, endemic corruption, rising criminality, environmental degradation and social malaise. Millions of Chinese live on less than $1 a day, and social tension sometimes boil over into violent clashes.\\n\\nChinese president Hu Jintao is pushing to promote democracy in the party, curb corruption and seek a harmonious society. \"To build a well-off society for 1.3 billion people and a democratic, civilized, harmonious and modernized country,\" he recently told a communist party meeting, \"China must firmly push reform and opening up and stick to its own path.\"  Meet some of China\\'s young communists »\\n\\nLike the cutting-edge CCTV tower intended to formally open this year but didn\\'t after a celebratory fireworks display went awry and caused a fire, China\\'s great achievements stand side by side with daunting challenges.\\n\\n',\n",
       "  '\\n\\nMao proved to be good at fighting but poor at governing\\n\\n\\n\\nMao pushed sweeping socio-economic initiatives, strident ideological campaigns\\n\\n\\n\\nHis successor Deng Xiaoping embarks upon reforming the economy, opening China\\n\\n\\n\\nChina gains world prominence via 20-year economic boom, but has consequences')]"
      ]
     },
     "execution_count": 8,
     "metadata": {},
     "output_type": "execute_result"
    }
   ],
   "source": [
    "# Création de l'ensemble des paires de documents:\n",
    "paires = []\n",
    "basepath = './cnn/stories/'\n",
    "for entry in os.listdir(basepath):\n",
    "    if os.path.isfile(os.path.join(basepath, entry)) and entry.endswith('.story'):\n",
    "        with open(os.path.join(basepath, entry)) as f:\n",
    "            texte = f.read()\n",
    "            #print(texte)\n",
    "            paires.append(conversion_du_document(texte))\n",
    "paires[:2]"
   ]
  },
  {
   "cell_type": "markdown",
   "metadata": {},
   "source": [
    "## Traitement du texte\n",
    "- Suppression de la ponctuation\n",
    "- Séparation en token en minuscules\n",
    "- Suppression des stopwords pour les articles"
   ]
  },
  {
   "cell_type": "code",
   "execution_count": 9,
   "metadata": {},
   "outputs": [],
   "source": [
    "text ='The U.N. Security Council approved a resolution Monday to send 4,200 peacekeepers to Abyei, Sudan, as part of a recent agreement between Sudan and Southern Sudan.\\n\\nThe resolution will establish, for six months, the United Nations Interim Security Force for Abyei (UNISFA), comprising \"a maximum of 4,200 military personnel, 50 police personnel, and appropriate civilian support,\" the resolution states.\\n\\n'"
   ]
  },
  {
   "cell_type": "code",
   "execution_count": 10,
   "metadata": {},
   "outputs": [
    {
     "data": {
      "text/plain": [
       "'The UN Security Council approved a resolution Monday to send 4200 peacekeepers to Abyei Sudan as part of a recent agreement between Sudan and Southern Sudan\\n\\nThe resolution will establish for six months the United Nations Interim Security Force for Abyei UNISFA comprising a maximum of 4200 military personnel 50 police personnel and appropriate civilian support the resolution states\\n\\n'"
      ]
     },
     "execution_count": 10,
     "metadata": {},
     "output_type": "execute_result"
    }
   ],
   "source": [
    "#Suppression de la ponctuation\n",
    "import string\n",
    "''.join([i for i in text if i not in string.punctuation])"
   ]
  },
  {
   "cell_type": "code",
   "execution_count": 11,
   "metadata": {},
   "outputs": [
    {
     "name": "stderr",
     "output_type": "stream",
     "text": [
      "[nltk_data] Downloading package punkt to\n",
      "[nltk_data]     /Users/pierrejaumier/nltk_data...\n",
      "[nltk_data]   Package punkt is already up-to-date!\n"
     ]
    },
    {
     "data": {
      "text/plain": [
       "['the',\n",
       " 'un',\n",
       " 'security',\n",
       " 'council',\n",
       " 'approved',\n",
       " 'a',\n",
       " 'resolution',\n",
       " 'monday',\n",
       " 'to',\n",
       " 'send',\n",
       " '4200',\n",
       " 'peacekeepers',\n",
       " 'to',\n",
       " 'abyei',\n",
       " 'sudan',\n",
       " 'as',\n",
       " 'part',\n",
       " 'of',\n",
       " 'a',\n",
       " 'recent',\n",
       " 'agreement',\n",
       " 'between',\n",
       " 'sudan',\n",
       " 'and',\n",
       " 'southern',\n",
       " 'sudan',\n",
       " 'the',\n",
       " 'resolution',\n",
       " 'will',\n",
       " 'establish',\n",
       " 'for',\n",
       " 'six',\n",
       " 'months',\n",
       " 'the',\n",
       " 'united',\n",
       " 'nations',\n",
       " 'interim',\n",
       " 'security',\n",
       " 'force',\n",
       " 'for',\n",
       " 'abyei',\n",
       " 'unisfa',\n",
       " 'comprising',\n",
       " 'a',\n",
       " 'maximum',\n",
       " 'of',\n",
       " '4200',\n",
       " 'military',\n",
       " 'personnel',\n",
       " '50',\n",
       " 'police',\n",
       " 'personnel',\n",
       " 'and',\n",
       " 'appropriate',\n",
       " 'civilian',\n",
       " 'support',\n",
       " 'the',\n",
       " 'resolution',\n",
       " 'states']"
      ]
     },
     "execution_count": 11,
     "metadata": {},
     "output_type": "execute_result"
    }
   ],
   "source": [
    "import nltk\n",
    "nltk.download('punkt')\n",
    "text_without_punctuation = ''.join([i for i in text if i not in string.punctuation])\n",
    "\n",
    "nltk.word_tokenize(text_without_punctuation.lower())"
   ]
  },
  {
   "cell_type": "markdown",
   "metadata": {},
   "source": [
    "> Les chiffres seront peu informatifs, on peut les supprimer aussi"
   ]
  },
  {
   "cell_type": "code",
   "execution_count": 12,
   "metadata": {},
   "outputs": [
    {
     "data": {
      "text/plain": [
       "' ou  trucs'"
      ]
     },
     "execution_count": 12,
     "metadata": {},
     "output_type": "execute_result"
    }
   ],
   "source": [
    "test = '3 ou 4 trucs'\n",
    "''.join(i for i in test if not i.isdigit())"
   ]
  },
  {
   "cell_type": "markdown",
   "metadata": {},
   "source": [
    "Suppression des stopwords"
   ]
  },
  {
   "cell_type": "code",
   "execution_count": 13,
   "metadata": {},
   "outputs": [
    {
     "name": "stderr",
     "output_type": "stream",
     "text": [
      "[nltk_data] Downloading package stopwords to\n",
      "[nltk_data]     /Users/pierrejaumier/nltk_data...\n",
      "[nltk_data]   Package stopwords is already up-to-date!\n"
     ]
    },
    {
     "data": {
      "text/plain": [
       "['un',\n",
       " 'security',\n",
       " 'council',\n",
       " 'approved',\n",
       " 'resolution',\n",
       " 'monday',\n",
       " 'send',\n",
       " 'peacekeepers',\n",
       " 'abyei',\n",
       " 'sudan',\n",
       " 'part',\n",
       " 'recent',\n",
       " 'agreement',\n",
       " 'sudan',\n",
       " 'southern',\n",
       " 'sudan',\n",
       " 'resolution',\n",
       " 'establish',\n",
       " 'six',\n",
       " 'months',\n",
       " 'united',\n",
       " 'nations',\n",
       " 'interim',\n",
       " 'security',\n",
       " 'force',\n",
       " 'abyei',\n",
       " 'unisfa',\n",
       " 'comprising',\n",
       " 'maximum',\n",
       " 'military',\n",
       " 'personnel',\n",
       " 'police',\n",
       " 'personnel',\n",
       " 'appropriate',\n",
       " 'civilian',\n",
       " 'support',\n",
       " 'resolution',\n",
       " 'states']"
      ]
     },
     "execution_count": 13,
     "metadata": {},
     "output_type": "execute_result"
    }
   ],
   "source": [
    "nltk.download('stopwords')\n",
    "from nltk.corpus import stopwords\n",
    "\n",
    "word_list = nltk.word_tokenize(''.join([i for i in text.lower() if i not in string.punctuation and not i.isdigit()]))\n",
    "\n",
    "[word for word in word_list if word not in stopwords.words('english')]"
   ]
  },
  {
   "cell_type": "markdown",
   "metadata": {},
   "source": [
    "## Sac de mots\n",
    "Association mot - fréquence dans un texte\n",
    "\n",
    "Counter : https://docs.python.org/3/library/collections.html#collections.Counter"
   ]
  },
  {
   "cell_type": "code",
   "execution_count": 14,
   "metadata": {},
   "outputs": [
    {
     "data": {
      "text/plain": [
       "Counter({'crêpe': 1, 'brioche': 2})"
      ]
     },
     "execution_count": 14,
     "metadata": {},
     "output_type": "execute_result"
    }
   ],
   "source": [
    "from collections import Counter\n",
    "Counter(['crêpe', 'brioche', 'brioche'])"
   ]
  },
  {
   "cell_type": "code",
   "execution_count": 15,
   "metadata": {},
   "outputs": [
    {
     "data": {
      "text/plain": [
       "Counter({'un': 1,\n",
       "         'security': 2,\n",
       "         'council': 1,\n",
       "         'approved': 1,\n",
       "         'resolution': 3,\n",
       "         'monday': 1,\n",
       "         'send': 1,\n",
       "         'peacekeepers': 1,\n",
       "         'abyei': 2,\n",
       "         'sudan': 3,\n",
       "         'part': 1,\n",
       "         'recent': 1,\n",
       "         'agreement': 1,\n",
       "         'southern': 1,\n",
       "         'establish': 1,\n",
       "         'six': 1,\n",
       "         'months': 1,\n",
       "         'united': 1,\n",
       "         'nations': 1,\n",
       "         'interim': 1,\n",
       "         'force': 1,\n",
       "         'unisfa': 1,\n",
       "         'comprising': 1,\n",
       "         'maximum': 1,\n",
       "         'military': 1,\n",
       "         'personnel': 2,\n",
       "         'police': 1,\n",
       "         'appropriate': 1,\n",
       "         'civilian': 1,\n",
       "         'support': 1,\n",
       "         'states': 1})"
      ]
     },
     "execution_count": 15,
     "metadata": {},
     "output_type": "execute_result"
    }
   ],
   "source": [
    "filtered_words = [word for word in word_list if word not in stopwords.words('english')]\n",
    "bag_of_words = Counter(filtered_words)\n",
    "bag_of_words"
   ]
  },
  {
   "cell_type": "code",
   "execution_count": 16,
   "metadata": {},
   "outputs": [
    {
     "data": {
      "text/plain": [
       "Counter({'man': 2,\n",
       "         'suspected': 1,\n",
       "         'trying': 2,\n",
       "         'attack': 4,\n",
       "         'dutch': 4,\n",
       "         'royal': 9,\n",
       "         'family': 10,\n",
       "         'crashing': 2,\n",
       "         'car': 5,\n",
       "         'near': 1,\n",
       "         'bus': 4,\n",
       "         'died': 2,\n",
       "         'police': 7,\n",
       "         'said': 8,\n",
       "         'friday': 3,\n",
       "         'pictured': 1,\n",
       "         'crowd': 1,\n",
       "         'waiting': 1,\n",
       "         'visit': 1,\n",
       "         'apeldoorn': 2,\n",
       "         'whose': 1,\n",
       "         'name': 1,\n",
       "         'released': 1,\n",
       "         'seriously': 1,\n",
       "         'injured': 1,\n",
       "         'crash': 3,\n",
       "         'thursday': 1,\n",
       "         'town': 1,\n",
       "         'miles': 1,\n",
       "         'east': 1,\n",
       "         'amsterdam': 2,\n",
       "         'early': 1,\n",
       "         'charged': 1,\n",
       "         'authorities': 1,\n",
       "         'send': 1,\n",
       "         'us': 1,\n",
       "         'video': 1,\n",
       "         'images': 1,\n",
       "         'searched': 1,\n",
       "         'mans': 1,\n",
       "         'house': 2,\n",
       "         'found': 1,\n",
       "         'weapons': 1,\n",
       "         'explosives': 1,\n",
       "         'clues': 1,\n",
       "         'could': 1,\n",
       "         'lead': 1,\n",
       "         'involvement': 1,\n",
       "         'people': 3,\n",
       "         'five': 1,\n",
       "         'well': 1,\n",
       "         'driver': 2,\n",
       "         'killed': 1,\n",
       "         'wounded': 1,\n",
       "         'incident': 1,\n",
       "         'happened': 1,\n",
       "         'countrys': 1,\n",
       "         'annual': 2,\n",
       "         'queens': 4,\n",
       "         'day': 5,\n",
       "         'celebration': 1,\n",
       "         'crowds': 2,\n",
       "         'lined': 1,\n",
       "         'streets': 2,\n",
       "         'see': 3,\n",
       "         'queen': 4,\n",
       "         'beatrix': 1,\n",
       "         'ride': 1,\n",
       "         'opentop': 1,\n",
       "         'netherlands': 5,\n",
       "         'holiday': 2,\n",
       "         '»': 1,\n",
       "         'moved': 1,\n",
       "         'along': 1,\n",
       "         'black': 1,\n",
       "         'hatchback': 1,\n",
       "         'zoomed': 1,\n",
       "         'past': 1,\n",
       "         'behind': 1,\n",
       "         'barriers': 1,\n",
       "         'road': 3,\n",
       "         'security': 2,\n",
       "         'officials': 1,\n",
       "         'journalists': 1,\n",
       "         'including': 1,\n",
       "         'many': 1,\n",
       "         'cameramen': 1,\n",
       "         'went': 1,\n",
       "         'crashed': 1,\n",
       "         'low': 1,\n",
       "         'metal': 1,\n",
       "         'railing': 1,\n",
       "         'around': 1,\n",
       "         'column': 1,\n",
       "         'side': 1,\n",
       "         'vehicle': 1,\n",
       "         'appeared': 1,\n",
       "         'heavily': 1,\n",
       "         'damaged': 1,\n",
       "         'even': 1,\n",
       "         'reason': 1,\n",
       "         'unclear': 1,\n",
       "         'one': 1,\n",
       "         'time': 1,\n",
       "         'spokeswoman': 1,\n",
       "         'esther': 1,\n",
       "         'naber': 1,\n",
       "         'members': 2,\n",
       "         'saw': 1,\n",
       "         'gasped': 1,\n",
       "         'quickly': 1,\n",
       "         'sat': 1,\n",
       "         'continued': 1,\n",
       "         'driving': 1,\n",
       "         'caused': 1,\n",
       "         'outrage': 1,\n",
       "         'newspapers': 1,\n",
       "         'widely': 1,\n",
       "         'expressing': 1,\n",
       "         'disbelief': 1,\n",
       "         'suggesting': 1,\n",
       "         'monarchy': 1,\n",
       "         'would': 1,\n",
       "         'change': 1,\n",
       "         'never': 1,\n",
       "         'trouw': 1,\n",
       "         'newspaper': 2,\n",
       "         'always': 1,\n",
       "         'proud': 1,\n",
       "         'nonsense': 1,\n",
       "         'comes': 1,\n",
       "         'cycles': 1,\n",
       "         'bike': 1,\n",
       "         'also': 1,\n",
       "         'mixes': 1,\n",
       "         'without': 1,\n",
       "         'obvious': 1,\n",
       "         'measurements': 1,\n",
       "         'still': 1,\n",
       "         'possible': 1,\n",
       "         'target': 1,\n",
       "         'algemeen': 1,\n",
       "         'dagblad': 1,\n",
       "         'agreed': 1,\n",
       "         'going': 1,\n",
       "         'happen': 1,\n",
       "         'th': 1,\n",
       "         'april': 2,\n",
       "         'next': 1,\n",
       "         'year': 1,\n",
       "         'continue': 1,\n",
       "         'cycling': 1,\n",
       "         'canals': 1,\n",
       "         'hunting': 1,\n",
       "         'bargains': 1,\n",
       "         'bijenkorf': 1,\n",
       "         'hague': 1,\n",
       "         'national': 1,\n",
       "         'antilles': 1,\n",
       "         'aruba': 1,\n",
       "         'tradition': 1,\n",
       "         'started': 1,\n",
       "         'celebrates': 2,\n",
       "         'birthday': 3,\n",
       "         'although': 1,\n",
       "         'beatrixs': 1,\n",
       "         'january': 1,\n",
       "         'officially': 1,\n",
       "         'according': 1,\n",
       "         'government': 1,\n",
       "         'known': 1,\n",
       "         'free': 1,\n",
       "         'market': 1,\n",
       "         'country': 2,\n",
       "         'anybody': 1,\n",
       "         'allowed': 1,\n",
       "         'sell': 1,\n",
       "         'things': 1,\n",
       "         'activities': 1,\n",
       "         'include': 1,\n",
       "         'childrens': 1,\n",
       "         'games': 1,\n",
       "         'musical': 1,\n",
       "         'performances': 1,\n",
       "         'marked': 1,\n",
       "         'color': 1,\n",
       "         'orange': 1,\n",
       "         'reference': 1,\n",
       "         'colors': 1,\n",
       "         'come': 1,\n",
       "         'orangenassau': 1,\n",
       "         'emmy': 1,\n",
       "         'dexel': 1,\n",
       "         'contributed': 1,\n",
       "         'report': 1})"
      ]
     },
     "execution_count": 16,
     "metadata": {},
     "output_type": "execute_result"
    }
   ],
   "source": [
    "article = paires[0][0]\n",
    "word_list = nltk.word_tokenize(''.join([i for i in article.lower() if i not in string.punctuation and not i.isdigit()]))\n",
    "\n",
    "filtered_words = [word for word in word_list if word not in stopwords.words('english')]\n",
    "bag_of_words = Counter(filtered_words)\n",
    "bag_of_words"
   ]
  },
  {
   "cell_type": "markdown",
   "metadata": {},
   "source": [
    "## Création du nouveau jeu de données"
   ]
  },
  {
   "cell_type": "code",
   "execution_count": 17,
   "metadata": {},
   "outputs": [],
   "source": [
    "def create_bag_of_words(text):\n",
    "    word_list = nltk.word_tokenize(''.join([i for i in text.lower() if i not in string.punctuation and not i.isdigit()]))\n",
    "    filtered_words = [word for word in word_list if word not in stopwords.words('english')]\n",
    "    bag_of_words = Counter(filtered_words)\n",
    "    return bag_of_words"
   ]
  },
  {
   "cell_type": "code",
   "execution_count": 18,
   "metadata": {},
   "outputs": [
    {
     "data": {
      "text/plain": [
       "(Counter({'man': 2,\n",
       "          'suspected': 1,\n",
       "          'trying': 2,\n",
       "          'attack': 4,\n",
       "          'dutch': 4,\n",
       "          'royal': 9,\n",
       "          'family': 10,\n",
       "          'crashing': 2,\n",
       "          'car': 5,\n",
       "          'near': 1,\n",
       "          'bus': 4,\n",
       "          'died': 2,\n",
       "          'police': 7,\n",
       "          'said': 8,\n",
       "          'friday': 3,\n",
       "          'pictured': 1,\n",
       "          'crowd': 1,\n",
       "          'waiting': 1,\n",
       "          'visit': 1,\n",
       "          'apeldoorn': 2,\n",
       "          'whose': 1,\n",
       "          'name': 1,\n",
       "          'released': 1,\n",
       "          'seriously': 1,\n",
       "          'injured': 1,\n",
       "          'crash': 3,\n",
       "          'thursday': 1,\n",
       "          'town': 1,\n",
       "          'miles': 1,\n",
       "          'east': 1,\n",
       "          'amsterdam': 2,\n",
       "          'early': 1,\n",
       "          'charged': 1,\n",
       "          'authorities': 1,\n",
       "          'send': 1,\n",
       "          'us': 1,\n",
       "          'video': 1,\n",
       "          'images': 1,\n",
       "          'searched': 1,\n",
       "          'mans': 1,\n",
       "          'house': 2,\n",
       "          'found': 1,\n",
       "          'weapons': 1,\n",
       "          'explosives': 1,\n",
       "          'clues': 1,\n",
       "          'could': 1,\n",
       "          'lead': 1,\n",
       "          'involvement': 1,\n",
       "          'people': 3,\n",
       "          'five': 1,\n",
       "          'well': 1,\n",
       "          'driver': 2,\n",
       "          'killed': 1,\n",
       "          'wounded': 1,\n",
       "          'incident': 1,\n",
       "          'happened': 1,\n",
       "          'countrys': 1,\n",
       "          'annual': 2,\n",
       "          'queens': 4,\n",
       "          'day': 5,\n",
       "          'celebration': 1,\n",
       "          'crowds': 2,\n",
       "          'lined': 1,\n",
       "          'streets': 2,\n",
       "          'see': 3,\n",
       "          'queen': 4,\n",
       "          'beatrix': 1,\n",
       "          'ride': 1,\n",
       "          'opentop': 1,\n",
       "          'netherlands': 5,\n",
       "          'holiday': 2,\n",
       "          '»': 1,\n",
       "          'moved': 1,\n",
       "          'along': 1,\n",
       "          'black': 1,\n",
       "          'hatchback': 1,\n",
       "          'zoomed': 1,\n",
       "          'past': 1,\n",
       "          'behind': 1,\n",
       "          'barriers': 1,\n",
       "          'road': 3,\n",
       "          'security': 2,\n",
       "          'officials': 1,\n",
       "          'journalists': 1,\n",
       "          'including': 1,\n",
       "          'many': 1,\n",
       "          'cameramen': 1,\n",
       "          'went': 1,\n",
       "          'crashed': 1,\n",
       "          'low': 1,\n",
       "          'metal': 1,\n",
       "          'railing': 1,\n",
       "          'around': 1,\n",
       "          'column': 1,\n",
       "          'side': 1,\n",
       "          'vehicle': 1,\n",
       "          'appeared': 1,\n",
       "          'heavily': 1,\n",
       "          'damaged': 1,\n",
       "          'even': 1,\n",
       "          'reason': 1,\n",
       "          'unclear': 1,\n",
       "          'one': 1,\n",
       "          'time': 1,\n",
       "          'spokeswoman': 1,\n",
       "          'esther': 1,\n",
       "          'naber': 1,\n",
       "          'members': 2,\n",
       "          'saw': 1,\n",
       "          'gasped': 1,\n",
       "          'quickly': 1,\n",
       "          'sat': 1,\n",
       "          'continued': 1,\n",
       "          'driving': 1,\n",
       "          'caused': 1,\n",
       "          'outrage': 1,\n",
       "          'newspapers': 1,\n",
       "          'widely': 1,\n",
       "          'expressing': 1,\n",
       "          'disbelief': 1,\n",
       "          'suggesting': 1,\n",
       "          'monarchy': 1,\n",
       "          'would': 1,\n",
       "          'change': 1,\n",
       "          'never': 1,\n",
       "          'trouw': 1,\n",
       "          'newspaper': 2,\n",
       "          'always': 1,\n",
       "          'proud': 1,\n",
       "          'nonsense': 1,\n",
       "          'comes': 1,\n",
       "          'cycles': 1,\n",
       "          'bike': 1,\n",
       "          'also': 1,\n",
       "          'mixes': 1,\n",
       "          'without': 1,\n",
       "          'obvious': 1,\n",
       "          'measurements': 1,\n",
       "          'still': 1,\n",
       "          'possible': 1,\n",
       "          'target': 1,\n",
       "          'algemeen': 1,\n",
       "          'dagblad': 1,\n",
       "          'agreed': 1,\n",
       "          'going': 1,\n",
       "          'happen': 1,\n",
       "          'th': 1,\n",
       "          'april': 2,\n",
       "          'next': 1,\n",
       "          'year': 1,\n",
       "          'continue': 1,\n",
       "          'cycling': 1,\n",
       "          'canals': 1,\n",
       "          'hunting': 1,\n",
       "          'bargains': 1,\n",
       "          'bijenkorf': 1,\n",
       "          'hague': 1,\n",
       "          'national': 1,\n",
       "          'antilles': 1,\n",
       "          'aruba': 1,\n",
       "          'tradition': 1,\n",
       "          'started': 1,\n",
       "          'celebrates': 2,\n",
       "          'birthday': 3,\n",
       "          'although': 1,\n",
       "          'beatrixs': 1,\n",
       "          'january': 1,\n",
       "          'officially': 1,\n",
       "          'according': 1,\n",
       "          'government': 1,\n",
       "          'known': 1,\n",
       "          'free': 1,\n",
       "          'market': 1,\n",
       "          'country': 2,\n",
       "          'anybody': 1,\n",
       "          'allowed': 1,\n",
       "          'sell': 1,\n",
       "          'things': 1,\n",
       "          'activities': 1,\n",
       "          'include': 1,\n",
       "          'childrens': 1,\n",
       "          'games': 1,\n",
       "          'musical': 1,\n",
       "          'performances': 1,\n",
       "          'marked': 1,\n",
       "          'color': 1,\n",
       "          'orange': 1,\n",
       "          'reference': 1,\n",
       "          'colors': 1,\n",
       "          'come': 1,\n",
       "          'orangenassau': 1,\n",
       "          'emmy': 1,\n",
       "          'dexel': 1,\n",
       "          'contributed': 1,\n",
       "          'report': 1}),\n",
       " Counter({'incident': 1,\n",
       "          'happened': 1,\n",
       "          'netherlands': 2,\n",
       "          'annual': 1,\n",
       "          'queens': 1,\n",
       "          'day': 1,\n",
       "          'celebration': 1,\n",
       "          'car': 2,\n",
       "          'hit': 1,\n",
       "          'crowd': 1,\n",
       "          'near': 1,\n",
       "          'opentop': 1,\n",
       "          'bus': 1,\n",
       "          'carrying': 1,\n",
       "          'queen': 1,\n",
       "          'beatrix': 1,\n",
       "          'police': 2,\n",
       "          'clues': 1,\n",
       "          'could': 1,\n",
       "          'lead': 1,\n",
       "          'involvement': 1,\n",
       "          'people': 1,\n",
       "          'one': 1,\n",
       "          'driver': 1,\n",
       "          'time': 1}))"
      ]
     },
     "execution_count": 18,
     "metadata": {},
     "output_type": "execute_result"
    }
   ],
   "source": [
    "pairs_as_BOW = [ (create_bag_of_words(article), create_bag_of_words(highlights)) \\\n",
    "                  for article, highlights in paires ]\n",
    "pairs_as_BOW[0]"
   ]
  },
  {
   "cell_type": "code",
   "execution_count": 19,
   "metadata": {},
   "outputs": [
    {
     "data": {
      "text/plain": [
       "Counter({'a': 5, 'b': 2, 'r': 2, 'c': 1, 'd': 1})"
      ]
     },
     "execution_count": 19,
     "metadata": {},
     "output_type": "execute_result"
    }
   ],
   "source": [
    "Counter('abracadabra')"
   ]
  },
  {
   "cell_type": "code",
   "execution_count": 20,
   "metadata": {},
   "outputs": [
    {
     "data": {
      "text/plain": [
       "[('a', 5), ('b', 2)]"
      ]
     },
     "execution_count": 20,
     "metadata": {},
     "output_type": "execute_result"
    }
   ],
   "source": [
    "Counter('abracadabra').most_common(2)"
   ]
  },
  {
   "cell_type": "code",
   "execution_count": null,
   "metadata": {},
   "outputs": [],
   "source": []
  }
 ],
 "metadata": {
  "kernelspec": {
   "display_name": "Python 3 (ipykernel)",
   "language": "python",
   "name": "python3"
  },
  "language_info": {
   "codemirror_mode": {
    "name": "ipython",
    "version": 3
   },
   "file_extension": ".py",
   "mimetype": "text/x-python",
   "name": "python",
   "nbconvert_exporter": "python",
   "pygments_lexer": "ipython3",
   "version": "3.9.7"
  }
 },
 "nbformat": 4,
 "nbformat_minor": 4
}
