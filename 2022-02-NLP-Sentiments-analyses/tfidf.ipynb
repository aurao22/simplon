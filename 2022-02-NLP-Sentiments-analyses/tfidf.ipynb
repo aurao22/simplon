{
 "cells": [
  {
   "cell_type": "markdown",
   "metadata": {},
   "source": [
    "# tf-idf\n",
    "Au lieu d'utiliser les décomptes, on va utiliser la valeur du produit tf * idf pour chaque mot du sac de mots."
   ]
  },
  {
   "cell_type": "markdown",
   "metadata": {},
   "source": [
    "### tf: term frequency  \n",
    "Fréquence d'un mot dans un document donné: décompte du nombre de fois où apparaît le mot divisé par le nombre de mots du document\n",
    "$$ tf = \\frac{\\#w_i \\subset doc}{\\#w \\subset doc}$$"
   ]
  },
  {
   "cell_type": "markdown",
   "metadata": {},
   "source": [
    "### Inverse Document Frequency idf\n",
    "$$ idf = ln\\left(\\frac{\\#doc}{\\#doc \\ni w_i}\\right)$$\n",
    "Permet de relativiser l'importance des termes les plus fréquents dans les différents documents"
   ]
  },
  {
   "cell_type": "markdown",
   "metadata": {},
   "source": [
    "idf est lié au corpus de documents utilisé, une valeur pour chaque mot du document  \n",
    "dictionnaire {word: value}"
   ]
  },
  {
   "cell_type": "markdown",
   "metadata": {},
   "source": [
    "## tf-idf\n",
    "Au lieu d'utiliser les décomptes, on va utiliser la valeur du produit $tf . idf$ pour chaque mot du sac de mots."
   ]
  },
  {
   "cell_type": "code",
   "execution_count": null,
   "metadata": {},
   "outputs": [],
   "source": []
  }
 ],
 "metadata": {
  "kernelspec": {
   "display_name": "Python 3",
   "language": "python",
   "name": "python3"
  },
  "language_info": {
   "codemirror_mode": {
    "name": "ipython",
    "version": 3
   },
   "file_extension": ".py",
   "mimetype": "text/x-python",
   "name": "python",
   "nbconvert_exporter": "python",
   "pygments_lexer": "ipython3",
   "version": "3.7.4"
  }
 },
 "nbformat": 4,
 "nbformat_minor": 4
}
