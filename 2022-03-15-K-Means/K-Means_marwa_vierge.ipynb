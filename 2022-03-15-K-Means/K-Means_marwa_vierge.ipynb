{
 "cells": [
  {
   "cell_type": "markdown",
   "id": "99084fef",
   "metadata": {},
   "source": [
    "## Clustering des fleurs d’Iris avec l’algorithme K-Means"
   ]
  },
  {
   "cell_type": "code",
   "execution_count": 2,
   "id": "7286294e",
   "metadata": {},
   "outputs": [],
   "source": [
    "from sklearn import datasets"
   ]
  },
  {
   "cell_type": "markdown",
   "id": "e5c5c79b",
   "metadata": {},
   "source": [
    "## Importation du Jeu de données Iris  à l'aide de module sklearn.datasets"
   ]
  },
  {
   "cell_type": "code",
   "execution_count": null,
   "id": "1299f1d8",
   "metadata": {},
   "outputs": [],
   "source": [
    "iris =     # dataset fleur d'iris"
   ]
  },
  {
   "cell_type": "code",
   "execution_count": null,
   "id": "5c371fab",
   "metadata": {},
   "outputs": [],
   "source": []
  },
  {
   "cell_type": "code",
   "execution_count": null,
   "id": "a5a59f7a",
   "metadata": {},
   "outputs": [],
   "source": [
    "X=        # features "
   ]
  },
  {
   "cell_type": "markdown",
   "id": "3c8f214d",
   "metadata": {},
   "source": [
    "# Importer kmeans  à l'aide de module sklearn.cluster , puis appliquer l'algorithme sur notre dataset"
   ]
  },
  {
   "cell_type": "markdown",
   "id": "202ec3c3",
   "metadata": {},
   "source": [
    "**K-Means** est un algorithme d'apprentissage non supervisé, l’algorithme n’a pas d’étiquette y. \n",
    "Il découvre des patterns en fonction des caractéristiques se trouvant dans features X. \n",
    "Dans ce cas **K-Means** ne sait pas que la première fleur Iris de notre jeu de données est de\n",
    "telle ou telle variante, donc vous n'avez pas besoin de faire le split de dataset en test et en train (il y a pas une phase d'entrainement ) "
   ]
  },
  {
   "cell_type": "code",
   "execution_count": null,
   "id": "1be819f0",
   "metadata": {},
   "outputs": [],
   "source": []
  },
  {
   "cell_type": "code",
   "execution_count": null,
   "id": "9ef23183",
   "metadata": {},
   "outputs": [],
   "source": []
  },
  {
   "cell_type": "markdown",
   "id": "30a2efe2",
   "metadata": {},
   "source": [
    "## Visualisez les résultats "
   ]
  },
  {
   "cell_type": "markdown",
   "id": "6c2b9e17",
   "metadata": {},
   "source": [
    "En se basant sur la longueur et la largeur de chaque pétale pour faire une visualisation avec plt.scater du target réel et  de la prédection trouver par le Kmeans. "
   ]
  },
  {
   "cell_type": "code",
   "execution_count": null,
   "id": "8acdce1c",
   "metadata": {},
   "outputs": [],
   "source": []
  }
 ],
 "metadata": {
  "kernelspec": {
   "display_name": "Python 3",
   "language": "python",
   "name": "python3"
  },
  "language_info": {
   "codemirror_mode": {
    "name": "ipython",
    "version": 3
   },
   "file_extension": ".py",
   "mimetype": "text/x-python",
   "name": "python",
   "nbconvert_exporter": "python",
   "pygments_lexer": "ipython3",
   "version": "3.8.8"
  }
 },
 "nbformat": 4,
 "nbformat_minor": 5
}
