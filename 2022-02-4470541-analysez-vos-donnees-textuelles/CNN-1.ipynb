{
 "cells": [
  {
   "cell_type": "markdown",
   "metadata": {},
   "source": [
    "# CNN\n",
    "\n",
    "* Créer des paires de document (article, highlights)\n",
    "* Suppression de la ponctuation\n",
    "* Séparation en token en minuscules\n",
    "* Suppression des stopwords pour les articles\n",
    "* Calcul des fréquences et tf-idf sur les deux types de documents\n",
    "* Enregistrement du nouveau jeu de données d’entraînement pour usage ultérieur\n",
    "\n",
    "Vous êtes allé jusqu'au bout ? Vérifiez-bien que vous avez les éléments suivants :\n",
    "\n",
    "* le texte final est tokenisé sans ponctuation et en minuscules à l’aide d’une regex ;\n",
    "* tous les documents ont été transformés en matrices de valeurs tf-idf calculées sur les paires (articles, highlight)."
   ]
  },
  {
   "cell_type": "code",
   "execution_count": 8,
   "metadata": {},
   "outputs": [],
   "source": [
    "import pandas as pd\n",
    "import numpy as np\n",
    "import seaborn as sns\n",
    "import matplotlib.pyplot as plt\n",
    "from matplotlib.ticker import FuncFormatter\n",
    "from os import getcwd, listdir\n",
    "from os.path import isfile, join\n",
    "import nltk\n",
    "#nltk.download('punkt')"
   ]
  },
  {
   "cell_type": "code",
   "execution_count": 4,
   "metadata": {},
   "outputs": [
    {
     "data": {
      "text/plain": [
       "'c:\\\\Users\\\\User\\\\WORK\\\\wokspace-simplon3\\\\simplon\\\\2022-02-4470541-analysez-vos-donnees-textuelles\\\\'"
      ]
     },
     "execution_count": 4,
     "metadata": {},
     "output_type": "execute_result"
    }
   ],
   "source": [
    "# ---------------------------------------------------------------------------------------------\n",
    "#                               MAIN\n",
    "# ---------------------------------------------------------------------------------------------\n",
    "verbose = False\n",
    "verboseMain = False\n",
    "\n",
    "# Récupère le répertoire du programme\n",
    "file_path = getcwd() + \"\\\\\"\n",
    "file_path"
   ]
  },
  {
   "cell_type": "code",
   "execution_count": 5,
   "metadata": {},
   "outputs": [
    {
     "name": "stdout",
     "output_type": "stream",
     "text": [
      "Chargement des données...\n"
     ]
    }
   ],
   "source": [
    "print(\"Chargement des données...\")\n",
    "data_path = file_path+\"cnn2\\\\\""
   ]
  },
  {
   "cell_type": "code",
   "execution_count": 7,
   "metadata": {},
   "outputs": [
    {
     "data": {
      "text/plain": [
       "['0a000f521734500aa360bf6bb2bb31446e4d66cd.story',\n",
       " '0a001b54b5b0ea17f11aa8d7acafb40ae7748ca6.story',\n",
       " '0a0a4c90d59df9e36ffec4ba306b4f20f3ba4acb.story',\n",
       " '0a0aa464d262b903f44b0f8eaa67f13dd1946cfd.story',\n",
       " '0a0adc84ccbf9414613e145a3795dccc4828ddd4.story',\n",
       " '0a0b44620d0dec6fdfc1aa139ff51bcb36c56c51.story',\n",
       " '0a0b59738a88e97ef66322a8c866d22ebf079289.story',\n",
       " '0a0c2f4e07ba05f3226e8afec1350ac82161cd2e.story',\n",
       " '0a0d11c125e4e4b061061f44b08f60cb5b8bf177.story',\n",
       " '0a0f56ebc5a0a67ed18de79d99b40a42d8058d04.story',\n",
       " '0a1ad82d161d90d758240407cb8c8fcebff4a212.story']"
      ]
     },
     "execution_count": 7,
     "metadata": {},
     "output_type": "execute_result"
    }
   ],
   "source": [
    "fichiers = [f for f in listdir(data_path) if isfile(join(data_path, f)) and f.endswith(\".story\")]\n",
    "fichiers"
   ]
  },
  {
   "cell_type": "code",
   "execution_count": 9,
   "metadata": {},
   "outputs": [],
   "source": [
    "tokenizer = nltk.RegexpTokenizer(r'\\w+')"
   ]
  },
  {
   "cell_type": "code",
   "execution_count": null,
   "metadata": {},
   "outputs": [],
   "source": [
    "df_token = df_site.copy()"
   ]
  }
 ],
 "metadata": {
  "interpreter": {
   "hash": "ac59ebe37160ed0dfa835113d9b8498d9f09ceb179beaac4002f036b9467c963"
  },
  "kernelspec": {
   "display_name": "Python 3.9.9 64-bit",
   "language": "python",
   "name": "python3"
  },
  "language_info": {
   "codemirror_mode": {
    "name": "ipython",
    "version": 3
   },
   "file_extension": ".py",
   "mimetype": "text/x-python",
   "name": "python",
   "nbconvert_exporter": "python",
   "pygments_lexer": "ipython3",
   "version": "3.9.9"
  },
  "orig_nbformat": 4
 },
 "nbformat": 4,
 "nbformat_minor": 2
}
