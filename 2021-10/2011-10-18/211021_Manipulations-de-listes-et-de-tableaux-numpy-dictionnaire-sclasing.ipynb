{
 "cells": [
  {
   "cell_type": "markdown",
   "id": "b266eb94",
   "metadata": {},
   "source": [
    "# Exercice\n",
    "Implémentez une  **trier (classeur, valeur)** qui place une valeur dans un dictionnaire en fonction de son signe"
   ]
  },
  {
   "cell_type": "code",
   "execution_count": 17,
   "id": "5d07631d",
   "metadata": {},
   "outputs": [
    {
     "name": "stdout",
     "output_type": "stream",
     "text": [
      "Valeurs de départ [-83, -22, 91, 90, -81, -91, -21, 4, -43, -75, -56, 16, -48, -23, 30, -23, -44, 27, 44, 71, 28, 42, -34, 22, 30, -79, 16, 87, -62, -57, 12, 23, -29, -86, 77, 62, -46, -94, -72, 38]\n",
      "-------------------------------------------------------------------\n",
      "négatifs [-94, -91, -86, -83, -81, -79, -75, -72, -62, -57, -56, -48, -46, -44, -43, -34, -29, -23, -23, -22, -21]\n",
      "positifs [4, 12, 16, 16, 22, 23, 27, 28, 30, 30, 38, 42, 44, 62, 71, 77, 87, 90, 91]\n"
     ]
    }
   ],
   "source": [
    "import numpy as np\n",
    "\n",
    "# Fonction qui ajoute la valeur à la bonne liste, puis tri la liste\n",
    "def addAndSort(classeur, valeur):\n",
    "    if valeur < 0:\n",
    "        classeur['négatifs'].append(valeur)\n",
    "        classeur['négatifs'] = sorted(classeur['négatifs'])\n",
    "    else:\n",
    "        classeur['positifs'].append(valeur)\n",
    "        classeur['positifs'] = sorted(classeur['positifs'])\n",
    "    return classeur\n",
    "\n",
    "\n",
    "# Propose à l'utilisateur de saisir les valeurs\n",
    "def userInput():\n",
    "    print(\"Saisissez un nombre positif ou négatif ou exit pour quitter:\")\n",
    "    exit = False\n",
    "\n",
    "    while (not exit):\n",
    "        saisie = input()\n",
    "        exit = str(saisie) == \"exit\"\n",
    "\n",
    "        if exit :\n",
    "            break\n",
    "        else:\n",
    "            try:\n",
    "                nb = float(saisie)\n",
    "                classeur = addAndSort(classeur, nb)\n",
    "                break\n",
    "            except ValueError:\n",
    "                print(\"Oops!  Saisissez un nombre positif ou négatif ou exit pour quitter\\nTry again...\")\n",
    "\n",
    "                \n",
    "# Génère une liste de valeurs aléatoire dans l'intervale\n",
    "def generateListValues(nbVal):\n",
    "    values = []\n",
    "    for i in range(nbVal):\n",
    "        nb = np.random.randint(-100, 100)\n",
    "        values.append(nb)\n",
    "    print(\"Valeurs de départ\", values)\n",
    "    return values                \n",
    "                \n",
    "\n",
    "def autoInput(classeur):\n",
    "    values = generateListValues(40)\n",
    "    for val in values:\n",
    "        classeur = addAndSort(classeur, val)\n",
    "    return classeur\n",
    "    \n",
    "    \n",
    "# Début du programme\n",
    "classeur = {'négatifs':[],\n",
    "            'positifs':[]}\n",
    "\n",
    "classeur = autoInput(classeur)\n",
    "\n",
    "print(\"-------------------------------------------------------------------\")\n",
    "print('négatifs', classeur['négatifs'])\n",
    "print('positifs', classeur['positifs'])\n",
    "\n"
   ]
  },
  {
   "cell_type": "markdown",
   "id": "b6450825",
   "metadata": {},
   "source": [
    "# Exercice 2\n",
    "On considère la fonction $f$ déﬁnie par : **$f (x) = sin(x) − x$**.\n",
    "1. Déﬁnir la fonction f dans Python en utilisant la bibliothèque numpy.\n",
    "2. Déﬁnir une liste X1 contenant 20 valeurs régulièrement espacées entre 10 et 30. Déﬁnir une liste $Y_1$ contenant 20 valeurs déﬁnies par $Y_1[i]= f (X_1[i])$.On utilisera la syntaxe range.\n",
    "3. Déﬁnir un tableau numpy $X_2$ contenant 20 valeurs régulièrement espacésentre 10 et 30. Déﬁnir un tableau $Y_2$ contenant 20 valeurs déﬁnies par $Y[i]=f (X[i])$. On utilisera la syntaxe range.\n",
    "4. Déﬁnir un tableau numpy X3 contenant 20 valeurs régulièrement espacésentre 10 et 30 en utilisant la syntaxe **np.linspace**. \n",
    "    Déﬁnir un tableau $Y_3$ contenant 11 valeurs déﬁnies par $Y[i]= f (X[i])$ sans utiliser la syntaxe range"
   ]
  },
  {
   "cell_type": "code",
   "execution_count": 69,
   "id": "55f88bff-d7c1-4fca-9d3c-f8823a7c6ee1",
   "metadata": {},
   "outputs": [
    {
     "name": "stdout",
     "output_type": "stream",
     "text": [
      "X1 : [10, 11, 12, 13, 14, 15, 16, 17, 18, 19, 20, 21, 22, 23, 24, 25, 26, 27, 28, 29]\n",
      "----------------------------------------\n",
      "Y1 : [-10.54402111088937, -11.999990206550704, -12.536572918000434, -12.57983296317336, -13.00939264430513, -14.349712159842884, -16.287903316665066, -17.961397491879556, -18.750987246771675, -18.850122790337046, -19.087054749272372, -20.163344361463945, -22.008851309290403, -23.84622040417517, -24.905578362006622, -25.132351750097772, -25.237441549520398, -26.043624071595495, -27.729094211692132, -29.663633884212967]\n",
      "---------------------------------------------------------------------------------------------------------\n",
      "X2 : [10 11 12 13 14 15 16 17 18 19 20 21 22 23 24 25 26 27 28 29]\n",
      "----------------------------------------\n",
      "Y2 : [-10.54402111088937, -11.999990206550704, -12.536572918000434, -12.57983296317336, -13.00939264430513, -14.349712159842884, -16.287903316665066, -17.961397491879556, -18.750987246771675, -18.850122790337046, -19.087054749272372, -20.163344361463945, -22.008851309290403, -23.84622040417517, -24.905578362006622, -25.132351750097772, -25.237441549520398, -26.043624071595495, -27.729094211692132, -29.663633884212967]\n",
      "---------------------------------------------------------------------------------------------------------\n",
      "X3 : [10 11 12 13 14 15 16 17 18 19 20 21 22 23 24 25 26 27 28 30]\n",
      "----------------------------------------\n",
      "Y3 : [-10.54402111 -11.99999021 -12.53657292 -12.57983296 -13.00939264\n",
      " -14.34971216 -16.28790332 -17.96139749 -18.75098725 -18.85012279\n",
      " -19.08705475]\n"
     ]
    }
   ],
   "source": [
    "import numpy as np\n",
    "from random import randint\n",
    "\n",
    "#𝑓(𝑥)=𝑠𝑖𝑛(𝑥)−𝑥\n",
    "def f(x):\n",
    "    res = np.sin(x) - x\n",
    "    return res\n",
    "# Fonction courte\n",
    "#f=lambda x:np.sin(x) - x\n",
    "\n",
    "#----------------------------------------\n",
    "# X1 contenant 20 valeurs régulièrement espacées entre 10 et 30.\n",
    "# Déﬁnir une liste 𝑌1 contenant 20 valeurs déﬁnies par 𝑌1[𝑖]=𝑓(𝑋1[𝑖]).On utilisera la syntaxe range\n",
    "X1 = []\n",
    "Y1 = []\n",
    "for i in range (10, 30, 1):\n",
    "    X1.append(i)\n",
    "    # 𝑌1[𝑖]=𝑓(𝑋1[𝑖])\n",
    "    Y1.append(f(i))\n",
    "print(\"X1 :\", X1)\n",
    "print(\"----------------------------------------\")   \n",
    "print(\"Y1 :\", Y1)\n",
    "print(\"---------------------------------------------------------------------------------------------------------\")\n",
    "# 𝑋2 contenant 20 valeurs régulièrement espacésentre 10 et 30.\n",
    "# Déﬁnir un tableau 𝑌2 contenant 20 valeurs déﬁnies par 𝑌[𝑖]=𝑓(𝑋[𝑖]). On utilisera la syntaxe range\n",
    "X2= np.arange (10, 30, 1)\n",
    "Y2= []\n",
    "for i in X2:\n",
    "    # 𝑌[𝑖]=𝑓(𝑋[𝑖])\n",
    "    Y2.append(f(i))\n",
    "print(\"X2 :\", X2)\n",
    "print(\"----------------------------------------\")\n",
    "print(\"Y2 :\", Y2)\n",
    "print(\"---------------------------------------------------------------------------------------------------------\")\n",
    "# X3 contenant 20 valeurs régulièrement espacésentre 10 et 30 en utilisant la syntaxe np.linspace.\n",
    "# Déﬁnir un tableau 𝑌3 contenant 11 valeurs déﬁnies par 𝑌[𝑖]=𝑓(𝑋[𝑖]) sans utiliser la syntaxe range\n",
    "X3 = np.linspace(10, 30, 20, dtype=int)\n",
    "Y3 = f(X3[0:11])\n",
    "print(\"X3 :\", X3)\n",
    "print(\"----------------------------------------\")\n",
    "print(\"Y3 :\", Y3)"
   ]
  },
  {
   "cell_type": "markdown",
   "id": "710b5cab",
   "metadata": {},
   "source": [
    "# Exercice 3"
   ]
  },
  {
   "cell_type": "code",
   "execution_count": 71,
   "id": "8049ddd1",
   "metadata": {},
   "outputs": [
    {
     "name": "stdout",
     "output_type": "stream",
     "text": [
      "The value is : [[0. 0. 0. 0. 0.]\n",
      " [0. 0. 0. 0. 0.]\n",
      " [0. 0. 0. 0. 0.]\n",
      " [0. 0. 0. 0. 0.]\n",
      " [0. 0. 0. 0. 0.]]\n",
      "The shape of matrix is : (5, 5)\n",
      "The type of matrix is : float64\n",
      "The value is : [[ 84.  55. -51.  84.   1.]\n",
      " [  0. -19. -17.  86.   1.]\n",
      " [-13.  11. -20.  30.   1.]\n",
      " [-53.  88. -84. -40.   1.]\n",
      " [ 15.  39. -67. -48.   1.]]\n",
      "nbDim: (5, 5) nbLigne: 5 x nbCol: 5\n",
      "[[ 84.  55. -51.  84.   1.]\n",
      " [  0. -19. -17.  86.   1.]\n",
      " [-13.  11. -20.  30.   1.]\n",
      " [-53.  88. -84. -40.   1.]\n",
      " [ 15.  39. -67. -48.   1.]]\n"
     ]
    }
   ],
   "source": [
    "import numpy as np\n",
    "\n",
    "\n",
    "def initialisation(m, n):\n",
    "    # m : nombre de lignes\n",
    "    # n : nombre de colonnes\n",
    "    # retourne une matrice aléatoire (m, n+1)\n",
    "    # avec une colonne biais (remplie de \"1\") tout a droite\n",
    "\n",
    "    #Initialisation de la matrice avec des valeurs aléatoires\n",
    "    matrice = np.zeros((m, n+1))\n",
    "    print('The value is :', matrice)\n",
    "    # if we check the matrix dimensions\n",
    "    # using shape:\n",
    "    print('The shape of matrix is :', matrice.shape)\n",
    "    # by default the matrix type is float64\n",
    "    print('The type of matrix is :', matrice.dtype)\n",
    "    # Ajout de la colonne de biais\n",
    "\n",
    "    for ligne in range(m):\n",
    "        # Initialisation du tableau représentant la ligne\n",
    "        lineTab = matrice[ligne]\n",
    "        for col in range(n + 1):\n",
    "            # On traite le cas du biais\n",
    "            nb = 1\n",
    "            if (col < n):\n",
    "                nb = np.random.randint(-100, 100)\n",
    "            lineTab[col] = nb\n",
    "        # Ajout de la ligne à la matrice générale\n",
    "        #matrice[ligne] = lineTab\n",
    "    print('The value is :', matrice)\n",
    "    return matrice\n",
    "\n",
    "\n",
    "def printMatrice(matrice):\n",
    "    # nombre de lignes et col, shape renvoie un tuple\n",
    "    nbDim = matrice.shape\n",
    "    nbLigne = nbDim[0]\n",
    "    nbCol = nbDim[1]\n",
    "    print(\"nbDim:\",nbDim,\"nbLigne:\",nbLigne,\"x nbCol:\",nbCol)\n",
    "    print(matrice)\n",
    "\n",
    "\n",
    "\n",
    "matrice = initialisation(5, 4)\n",
    "printMatrice(matrice)"
   ]
  },
  {
   "cell_type": "markdown",
   "id": "6f66279e",
   "metadata": {},
   "source": [
    "# Exercice 4\n",
    "1. Créer deux matrices $R =\\pmatrix{1&2&3\\\\\n",
    "                                    4&5&6}$ et $S =\\pmatrix{1&2&3\\\\\n",
    "                                                 4&5&6\\\\\n",
    "                                                 7&8&9.}$.\n",
    "Les afﬁcher avec Python.\n",
    "\n",
    "2. Créer une fonction test, d'argument M, renvoyant la valeur n si M est une matrice carrée d’ordre n (entier naturel non nul), et zéro dans tous les autres cas.Vériﬁer la fonction test sur R et sur S.\n",
    "\n",
    "3. Déterminer les valeurs propres et les vecteurs propres de la matrice $A =\\pmatrix{5& −3\\\\6& −4}$ en utilisant la fonction eig. Vériﬁer les propriétés des valeurspropres et des vecteurs propres de la matrice A."
   ]
  },
  {
   "cell_type": "code",
   "execution_count": 72,
   "id": "85fd525a-43fb-415c-9d96-70b1b6db813b",
   "metadata": {},
   "outputs": [
    {
     "name": "stdout",
     "output_type": "stream",
     "text": [
      "---------------------------- EXERCICE 4 -----------------------------------\n",
      "R= [[1 2 3]\n",
      " [4 5 6]]\n",
      "S= [[1 2 3]\n",
      " [4 5 6]\n",
      " [7 8 9]]\n",
      "R, donc attendu 0, obtenu : 0\n",
      "S, donc attendu n, obtenu : 9\n"
     ]
    }
   ],
   "source": [
    "import numpy as np\n",
    "#Créer deux matrices 𝑅=(142536) et 𝑆=Les afficher avec Python.\n",
    "def exo4():\n",
    "    print(\"---------------------------- EXERCICE 4 -----------------------------------\")\n",
    "    # affectation des valeurs\n",
    "    r = np.array([[1,2,3],[4,5,6]])\n",
    "    s = np.array([[1,2,3],[4,5,6],[7,8,9]])\n",
    "    print(\"R=\", r)\n",
    "    print(\"S=\", s)\n",
    "    #n = entier naturel non nul, renvoie  zéro dans tous les autres cas\n",
    "    print(\"R, donc attendu 0, obtenu :\", test(r))\n",
    "    print(\"S, donc attendu n, obtenu :\", test(s))\n",
    "\n",
    "\n",
    "#Renvoyant la valeur n si M est une matrice carrée d’ordre n (entier naturel non nul),\n",
    "# et zéro dans tous les autres cas.\n",
    "def test(matrice):\n",
    "    # Vérifie que la matrice a autant de ligne que de colonne\n",
    "    nbDim = matrice.shape\n",
    "    res = 0\n",
    "    \n",
    "    if(nbDim[0]==nbDim[1]):\n",
    "        res = matrice.size\n",
    "        for ligne in range(nbDim[0]):\n",
    "            # Initialisation du tableau représentant la ligne\n",
    "            lineTab = matrice[ligne]\n",
    "            for col in range(nbDim[1]):\n",
    "                nb = lineTab[col]\n",
    "                # Vérifier que les valeurs dans la matrice sont des entiers naturel non nul\n",
    "                if(not np.issubdtype(nb, np.integer) or nb < 0):\n",
    "                     res = 0\n",
    "                     break\n",
    "    return res\n",
    "\n",
    "\n",
    "exo4()"
   ]
  },
  {
   "cell_type": "markdown",
   "id": "30d29f4b",
   "metadata": {},
   "source": [
    "# Exercice 5 : Slicing, ou découpage en tranches,et range, np.arange, np.linspace\n",
    "On considère le programme suivant :"
   ]
  },
  {
   "cell_type": "code",
   "execution_count": 1,
   "id": "f792b466",
   "metadata": {},
   "outputs": [
    {
     "name": "stdout",
     "output_type": "stream",
     "text": [
      "L1 =  [2, 4, 6]\n",
      "[2, 4]\n",
      "T1 =  [2 4 6]\n",
      "[4 6]\n",
      "x1 =  [0.         0.78539816 1.57079633 2.35619449 3.14159265]\n",
      "x1[1:3] =  [0.78539816 1.57079633]\n"
     ]
    }
   ],
   "source": [
    "import numpy as np\n",
    "L1=[ ]\n",
    "for i in range(2,7,2):\n",
    "    L1.append(i)\n",
    "print('L1 = ',L1)\n",
    "print(L1[:-1])\n",
    "T1=np.arange(2,7,2)\n",
    "print('T1 = ',T1)\n",
    "print(T1[1:3])\n",
    "x1=np.linspace(0,np.pi,5)\n",
    "print('x1 = ',x1)\n",
    "print('x1[1:3] = ',x1[1:3])"
   ]
  },
  {
   "cell_type": "markdown",
   "id": "9f7dd4f4",
   "metadata": {},
   "source": [
    "**Qu’afﬁche Python lors de l’exécution du programme ?**"
   ]
  },
  {
   "cell_type": "markdown",
   "id": "bf31ef1f",
   "metadata": {},
   "source": [
    "**Analyse du problème**\n",
    "La technique du slicing, ou découpage par tranches, permet d’extraire des élé-ments d’une liste ou d’un tableau. \n",
    "On l’utilise également pour les fonctions **range**, **np.arange** et **np.linspace**."
   ]
  },
  {
   "cell_type": "code",
   "execution_count": null,
   "id": "6198d38e",
   "metadata": {},
   "outputs": [],
   "source": []
  }
 ],
 "metadata": {
  "kernelspec": {
   "display_name": "Python 3",
   "language": "python",
   "name": "python3"
  },
  "language_info": {
   "codemirror_mode": {
    "name": "ipython",
    "version": 3
   },
   "file_extension": ".py",
   "mimetype": "text/x-python",
   "name": "python",
   "nbconvert_exporter": "python",
   "pygments_lexer": "ipython3",
   "version": "3.8.8"
  }
 },
 "nbformat": 4,
 "nbformat_minor": 5
}
