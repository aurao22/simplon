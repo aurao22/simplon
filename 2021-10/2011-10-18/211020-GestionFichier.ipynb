{
 "cells": [
  {
   "cell_type": "markdown",
   "id": "d8b669cc",
   "metadata": {},
   "source": [
    "On fournit les instructions Python pour la gestion des ﬁchiers :\n",
    "\n",
    "**f=open('fichier.txt','w')** : 'fichier.txt' désigne le nom du ﬁchier. Le mode d’ouverture peut être 'w' pour « écriture » (write), **'r'** pour« lecture » (read) ou **'a'** pour « ajout» (**append**), **f.readline()** : lecture d’une ligne du ﬁchier f\n",
    "\n",
    "**\\n** : caractère d’échappement : saut de ligne\n",
    "\n",
    "**c1.strip()** : renvoie une chaîne sans les espaces et les caractères d’échappe-ment (saut de ligne par exemple) en début et ﬁn de la chaîne de caractères c1\n",
    "\n",
    "**c1.split(sep=' ;')** : sépare une chaîne de caractères c1 en une liste demots avec le séparateur';' \n",
    "\n",
    "**f.write('exemple')** : écrit dans le ﬁchier f la chaîne de caractères'exemple'\n",
    "\n",
    "**f.close()** : ferme le ﬁchier f\n",
    "\n",
    "On utilisera les tableaux de type **numpy.array** et la bibliothèque **pyplot* pour les graphes :\n",
    "\n",
    "**import numpy as np**\n",
    "\n",
    "**import matplotlib.pyplot as plt**\n",
    "\n",
    "1. Écrire un programme Python permettant de créer le ﬁchier 'courbe.txt'contenant les éléments suivants :\n",
    "10 : nombre de points du ﬁchier\n",
    "\n",
    "25 ;10.9 : abscisse et ordonnée du premier point\n",
    "\n",
    "20 ;9.3\n",
    "\n",
    "15 ;8.2\n",
    "\n",
    "12 ;7.5\n",
    "\n",
    "9 ;6.2\n",
    "\n",
    "6 ;5.8\n",
    "\n",
    "3 ;4.2\n",
    "\n",
    "0 ;3.9\n",
    "\n",
    "-3 ;2.8\n",
    "\n",
    "-6 ;2 : abscisse et ordonnée du dixième point\n",
    "\n",
    "2. Écrire un programme Python permettant d’ouvrir un ﬁchier .txt (par exemple'courbe.txt') et de récupérer les abscisses et les ordonnées dans deux tableauxde type numpy.array.\n",
    "\n",
    "3. On cherche à modéliser les n points expérimentaux $(x_1, y_1)$, $(x_2, y_2)$...$(x_n, y_n)$ par une fonction polynôme du premier ordre, de la forme : y = ax+b. La méthodedes moindres carrés consiste à chercher les coefﬁcients a et b pour que la sommedes carrés des erreurs soit minimale.\n",
    "\n",
    "On admet que $$a=\\frac{n\\sum_{i=1}^{n}x_iy_i-(\\sum_{i=1}^{n}x_i)(\\sum_{i=1}^{n}y_i)}{n\\sum_{i=1}^{n}x_i^2 -(\\sum_{i=1}^{n}x_i)^2}$$\n",
    "\n",
    "et $b =\\overline{y} − a\\overline{x}$ en notant $\\overline{x}$ la moyenne des $x_i$ et $\\overline{y}$ la moyenne des $y_i$\n",
    "\n",
    "Écrire un programme Python permettant de calculer les coefﬁcients a et b correspondant aux points expérimentaux de la question\n",
    "2.\n",
    "\n",
    "4. Écrire un programme Python permettant de représenter graphiquement la fonction y modélisé = ax + b."
   ]
  },
  {
   "cell_type": "code",
   "execution_count": 1,
   "id": "db74d6c3",
   "metadata": {},
   "outputs": [
    {
     "name": "stdout",
     "output_type": "stream",
     "text": [
      "Collecting numpy-linalg\n",
      "  Using cached numpy_linalg-0.1-py3-none-any.whl\n",
      "Requirement already satisfied: numpy==1.18.1 in c:\\programdata\\anaconda3\\lib\\site-packages (from numpy-linalg) (1.18.1)\n",
      "Installing collected packages: numpy-linalg\n",
      "Successfully installed numpy-linalg-0.1\n"
     ]
    }
   ],
   "source": [
    "!pip install numpy-linalg"
   ]
  },
  {
   "cell_type": "markdown",
   "id": "61a9f4f9",
   "metadata": {},
   "source": [
    "## Solution"
   ]
  },
  {
   "cell_type": "code",
   "execution_count": 6,
   "id": "99290047",
   "metadata": {},
   "outputs": [
    {
     "name": "stdout",
     "output_type": "stream",
     "text": [
      "10\n",
      "-----------\n",
      "[25. 20. 15. 12.  9.  6.  3.  0. -3. -6.]\n",
      "[10.9  9.3  8.2  7.5  6.2  5.8  4.2  3.9  2.8  2. ]\n",
      "-----------\n",
      "S1: 7543.0\n",
      "S2: 4924.8\n",
      "S3: 15650.0\n",
      "S4: 6561.0\n",
      "-----------\n",
      "a : 0.2880624931235559\n",
      "b : 3.746693805699197\n",
      "-----------\n"
     ]
    },
    {
     "data": {
      "image/png": "[encoded data removed]",
      "text/plain": [
       "<Figure size 432x288 with 1 Axes>"
      ]
     },
     "metadata": {
      "needs_background": "light"
     },
     "output_type": "display_data"
    },
    {
     "data": {
      "image/png": "[encoded data removed]",
      "text/plain": [
       "<Figure size 432x288 with 1 Axes>"
      ]
     },
     "metadata": {
      "needs_background": "light"
     },
     "output_type": "display_data"
    },
    {
     "name": "stdout",
     "output_type": "stream",
     "text": [
      "----------- CONTROL ---------------\n",
      "control: 0.47547805039058094\n",
      "control: 0.6895491645927656\n",
      "0.6895491645927656\n"
     ]
    }
   ],
   "source": [
    "# A vous de jouer !\n",
    "import numpy as np\n",
    "import matplotlib.pyplot as plt\n",
    "import math\n",
    "import numpy.linalg as lina\n",
    "\n",
    "#Fichier de Données\n",
    "fName = \"C:/Users/User/Documents/SIMPLON/workspace/jour1/2110210_data.txt\"\n",
    "f=open(fName,'w')\n",
    "f.write('25 ;10.9\\n')\n",
    "f.write('20 ;9.3\\n')\n",
    "f.write('15 ;8.2\\n')\n",
    "f.write('12 ;7.5\\n')\n",
    "f.write('9 ;6.2\\n')\n",
    "f.write('6 ;5.8\\n')\n",
    "f.write('3 ;4.2\\n')\n",
    "f.write('0 ;3.9\\n')\n",
    "f.write('-3 ;2.8\\n')\n",
    "f.write('-6 ;2\\n')\n",
    "f.close()\n",
    "\n",
    "# Lire le fichier\n",
    "f=open(fName,'r')\n",
    "\n",
    "lines = f.readlines()\n",
    "# fermez le fichier après avoir lu les lignes\n",
    "f.close()\n",
    "\n",
    "# Initialisation des listes\n",
    "abscisses = np.array([])\n",
    "ordonnees = np.array([])\n",
    "\n",
    "S1 = 0\n",
    "S2 = 0\n",
    "n = len(lines)\n",
    "\n",
    "# Itérer sur les lignes\n",
    "for line in lines:\n",
    "    coord = line.strip().split(sep=' ;')\n",
    "    # print(coord)\n",
    "    abscisses = np.append(abscisses, float(coord[0]))\n",
    "    ordonnees = np.append(ordonnees, float(coord[1]))\n",
    "    S1 += float(coord[0])*float(coord[1])\n",
    "    S2 += float(coord[0])**2\n",
    "#-----------\n",
    "# Calcul de la version prédictive\n",
    "S1 = S1*n\n",
    "S2 = S2*n\n",
    "SX = np.sum(abscisses)\n",
    "SY = np.sum(ordonnees)\n",
    "print(\"-----------\")\n",
    "print(abscisses)\n",
    "print(ordonnees)\n",
    "a = (S1 - (SX * SY)) / (S2 - SX**2)\n",
    "#print(\"a :\", a)\n",
    "# 𝑏=𝑦⎯⎯⎯−𝑎𝑥⎯⎯⎯ en notant 𝑥⎯⎯⎯ la moyenne des 𝑥𝑖 et 𝑦⎯⎯⎯ la moyenne des 𝑦𝑖\n",
    "b = np.mean(ordonnees) - a*np.mean(abscisses)\n",
    "#print(\"b :\", b)\n",
    "#print(\"-----------\")\n",
    "#y modélisé = ax + b\n",
    "ordonnees2 = np.array([])\n",
    "\n",
    "for x in abscisses:\n",
    "    ordonnees2 = np.append(ordonnees2, a*x + b)\n",
    "\n",
    "\n",
    "plt.plot(abscisses, ordonnees2)\n",
    "plt.show()\n",
    "plt.plot(ordonnees, ordonnees2)\n",
    "#plt.plot(abscisses, ordonnees2, 'ro')\n",
    "plt.show()\n",
    " \n",
    "print(\"----------- CONTROL ---------------\")\n",
    "control = 0\n",
    "i = 0\n",
    "for i in range(0, n):\n",
    "    control += (ordonnees[i] - ordonnees2[i])**2 \n",
    "print(\"control:\", control)\n",
    "control = math.sqrt(control)\n",
    "print(\"control:\", control)\n",
    "\n",
    "#----\n",
    "\n",
    "dist = lina.norm(ordonnees-ordonnees2,2)\n",
    "print(dist)"
   ]
  },
  {
   "cell_type": "code",
   "execution_count": 37,
   "id": "6880f047-1208-4309-ab3e-797683489cd7",
   "metadata": {},
   "outputs": [
    {
     "name": "stdout",
     "output_type": "stream",
     "text": [
      " y =  0.2880624931235559 x +  3.746693805699197\n"
     ]
    },
    {
     "data": {
      "text/plain": [
       "[]"
      ]
     },
     "execution_count": 37,
     "metadata": {},
     "output_type": "execute_result"
    },
    {
     "data": {
      "image/png": "[encoded data removed]",
      "text/plain": [
       "<Figure size 432x288 with 1 Axes>"
      ]
     },
     "metadata": {
      "needs_background": "light"
     },
     "output_type": "display_data"
    }
   ],
   "source": [
    "# Autre solution\n",
    "import numpy as np\n",
    "import matplotlib.pyplot as plt\n",
    "\n",
    "#Fichier de Données\n",
    "file = open('Courbe.txt','w')\n",
    "données = \"25;10.9\\n20;9.3\\n15;8.2\\n12;7.5\\n9;6.2\\n6;5.8\\n3;4.2\\n0;3.9\\n-3;2.8\\n-6;2\"\n",
    "file.write(données)\n",
    "\n",
    "# Lire le fichier\n",
    "\n",
    "file = open('Courbe.txt','r')\n",
    "x = []\n",
    "y = []\n",
    "lines = file.readlines()\n",
    "n = len(lines)\n",
    "somme_xy = 0\n",
    "somme_x = 0\n",
    "somme_y = 0\n",
    "somme_x_carre = 0\n",
    "somme_x_fois_somme_y = somme_x * somme_y\n",
    "\n",
    "# Itérer sur les lignes\n",
    "for line in lines:   \n",
    "    line = line.strip().split(sep=\";\")\n",
    "    x.append(float(line[0]))\n",
    "    y.append(float(line[1]))\n",
    "    \n",
    "# Afficher le graphique\n",
    "\n",
    "plt.plot(x,y)\n",
    "\n",
    "# Calcul de la régression linéaire\n",
    "\n",
    "for i in range(0,n) :\n",
    "    somme_xy = somme_xy + x[i]*y[i]\n",
    "    somme_x = somme_x + x[i]\n",
    "    somme_y = somme_y + y[i]\n",
    "    somme_x_carre = somme_x_carre + x[i]**2\n",
    "\n",
    "a = (n * somme_xy - somme_x * somme_y) / (n * somme_x_carre - somme_x * somme_x)\n",
    "b = somme_y / n - a * somme_x / n\n",
    "\n",
    "# Afficher l'équation\n",
    "\n",
    "print(\" y = \",a,\"x + \",b)\n",
    "plt.plot() "
   ]
  },
  {
   "cell_type": "code",
   "execution_count": null,
   "id": "400593ff-29d3-451a-a9c7-42f8e10e3ac4",
   "metadata": {},
   "outputs": [],
   "source": []
  }
 ],
 "metadata": {
  "kernelspec": {
   "display_name": "Python 3",
   "language": "python",
   "name": "python3"
  },
  "language_info": {
   "codemirror_mode": {
    "name": "ipython",
    "version": 3
   },
   "file_extension": ".py",
   "mimetype": "text/x-python",
   "name": "python",
   "nbconvert_exporter": "python",
   "pygments_lexer": "ipython3",
   "version": "3.8.8"
  }
 },
 "nbformat": 4,
 "nbformat_minor": 5
}
