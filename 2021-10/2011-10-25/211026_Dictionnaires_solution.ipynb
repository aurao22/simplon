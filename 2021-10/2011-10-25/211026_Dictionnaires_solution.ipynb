{
 "cells": [
  {
   "cell_type": "markdown",
   "metadata": {
    "colab_type": "text",
    "id": "h0Mh6IySKKAQ"
   },
   "source": [
    "# Dictionnaires et fonctions\n",
    "\n",
    "Le dictionnaire est une structure de données très utilisée. Elle est illustrée ici pour un problème de décryptage."
   ]
  },
  {
   "cell_type": "markdown",
   "metadata": {
    "colab_type": "text",
    "id": "N5QKOSwWKKAW"
   },
   "source": [
    "### Fonctions"
   ]
  },
  {
   "cell_type": "markdown",
   "metadata": {
    "colab_type": "text",
    "id": "E1ff4TUzKKAX"
   },
   "source": [
    "Les fonctions sont des portions de programmes qui reproduisent les mêmes instructions. La fonction suivante calcule un polynôme de second degré $x^2-x-1$. A chaque fois qu'on appellera la fonction ``polynome``, elle fera le même calcul sur des ``x`` différents. Cela évite principalement d'avoir à recopier les mêmes lignes à chaque fois qu'on en a besoin."
   ]
  },
  {
   "cell_type": "code",
   "execution_count": 28,
   "metadata": {
    "colab": {},
    "colab_type": "code",
    "id": "m2OeJLlpKKAX"
   },
   "outputs": [],
   "source": [
    "def polynome(x):\n",
    "    resultat = x**2 - x - 1 \n",
    "    return resultat"
   ]
  },
  {
   "cell_type": "markdown",
   "metadata": {
    "colab_type": "text",
    "id": "xqLuDu6mKKAa"
   },
   "source": [
    "Une fonction commence toujours par ``def``. Entre parenthèses, ce sont les paramètres (ou entrées de la fonction). Ce qui suit le mot-clé ``return`` est le résultat de la fonction (ou sa sortie). "
   ]
  },
  {
   "cell_type": "markdown",
   "metadata": {
    "colab_type": "text",
    "id": "_NpGUhwBKKAc"
   },
   "source": [
    "De son utilisation ou appel :"
   ]
  },
  {
   "cell_type": "code",
   "execution_count": 29,
   "metadata": {},
   "outputs": [
    {
     "data": {
      "text/plain": [
       "-1"
      ]
     },
     "execution_count": 29,
     "metadata": {},
     "output_type": "execute_result"
    }
   ],
   "source": [
    "y = polynome(0)  # calcul de x^2 - x - 1 pour x = 0\n",
    "y"
   ]
  },
  {
   "cell_type": "code",
   "execution_count": 32,
   "metadata": {},
   "outputs": [
    {
     "data": {
      "text/plain": [
       "89"
      ]
     },
     "execution_count": 32,
     "metadata": {},
     "output_type": "execute_result"
    }
   ],
   "source": [
    "polynome(10) # Appel et affichage (sous jupyter notebook)"
   ]
  },
  {
   "cell_type": "code",
   "execution_count": 33,
   "metadata": {
    "colab": {
     "base_uri": "https://localhost:8080/",
     "height": 34
    },
    "colab_type": "code",
    "id": "OTM0hRnMKKAd",
    "outputId": "2c96ae58-ab03-416e-96f5-cfbadc4d3d7c"
   },
   "outputs": [
    {
     "data": {
      "text/plain": [
       "0.0"
      ]
     },
     "execution_count": 33,
     "metadata": {},
     "output_type": "execute_result"
    }
   ],
   "source": [
    "# Pour ceux qui ont reconnu le polynôme\n",
    "import math\n",
    "nombre_d_or = (1 + math.sqrt(5)) / 2\n",
    "polynome(nombre_d_or)"
   ]
  },
  {
   "cell_type": "markdown",
   "metadata": {
    "colab_type": "text",
    "id": "v3OSvhekKKAf"
   },
   "source": [
    "On peut appeler une fonction depuis une autre fonction. Une fonction peut prendre autant de paramètres que l'on veut à condition qu'ils aient des noms différents. On peut aussi leur associer une **valeur par défaut** :"
   ]
  },
  {
   "cell_type": "markdown",
   "metadata": {
    "colab_type": "text",
    "id": "5vTbffJrKKAh"
   },
   "source": [
    "Les fonctions doivent porter des noms différents. Dans le cas contraire, seule la dernière existe."
   ]
  },
  {
   "cell_type": "code",
   "execution_count": 35,
   "metadata": {
    "colab": {},
    "colab_type": "code",
    "id": "owtg6L13KKAi"
   },
   "outputs": [
    {
     "data": {
      "text/plain": [
       "-100"
      ]
     },
     "execution_count": 35,
     "metadata": {},
     "output_type": "execute_result"
    }
   ],
   "source": [
    "def polynome(x):       # remplacée par la seconde fonction\n",
    "    return x * x + x - 100\n",
    "\n",
    "\n",
    "y = polynome(0)  # à comparer au premier résulat\n",
    "y"
   ]
  },
  {
   "cell_type": "markdown",
   "metadata": {
    "colab_type": "text",
    "id": "OP7WjZ4TKKAk"
   },
   "source": [
    "### Exercice 1\n",
    "\n",
    "Les fonctions [chr](https://docs.python.org/3.4/library/functions.html#chr) et [ord](https://docs.python.org/3.4/library/functions.html#ord) sont symétriques l'une de l'autre : elles convertissent un nombre en lettre et réciproquement."
   ]
  },
  {
   "cell_type": "code",
   "execution_count": 14,
   "metadata": {
    "colab": {
     "base_uri": "https://localhost:8080/",
     "height": 52
    },
    "colab_type": "code",
    "id": "fn0wRI62KKAk",
    "outputId": "5bec323b-ef96-4ca8-b735-d6218a9b88df"
   },
   "outputs": [
    {
     "name": "stdout",
     "output_type": "stream",
     "text": [
      "A a\n",
      "90 98\n"
     ]
    }
   ],
   "source": [
    "print (chr(65), chr(97))\n",
    "print (ord('Z'), ord('b'))"
   ]
  },
  {
   "cell_type": "markdown",
   "metadata": {
    "colab_type": "text",
    "id": "wCyyml2HKKAm"
   },
   "source": [
    "Le symbol ``%`` permet d'obtenir le reste d'une division entière. L'exercice consiste à écrire une fonction qui retourne la lettre suivante pour une minuscule dans l'ordre alphabétique. La lettre qui suit ``z`` est ``a``."
   ]
  },
  {
   "cell_type": "code",
   "execution_count": 8,
   "metadata": {
    "colab": {},
    "colab_type": "code",
    "id": "XqClAqxlKKAn"
   },
   "outputs": [],
   "source": [
    "def lettre_suivante(lettre) :\n",
    "    '''\n",
    "    lettre :  minuscule entre a et z\n",
    "    '''\n",
    "    return chr((ord(lettre) - ord('a') + 1) % 26 + ord('a'))"
   ]
  },
  {
   "cell_type": "code",
   "execution_count": 9,
   "metadata": {
    "colab": {
     "base_uri": "https://localhost:8080/",
     "height": 34
    },
    "colab_type": "code",
    "id": "mRqQvnzyLkAz",
    "outputId": "261fcbef-c64e-4826-acef-6bd530361c1d"
   },
   "outputs": [
    {
     "data": {
      "text/plain": [
       "'s'"
      ]
     },
     "execution_count": 9,
     "metadata": {},
     "output_type": "execute_result"
    }
   ],
   "source": [
    "lettre_suivante(\"r\")"
   ]
  },
  {
   "cell_type": "code",
   "execution_count": 10,
   "metadata": {},
   "outputs": [
    {
     "data": {
      "text/plain": [
       "'a'"
      ]
     },
     "execution_count": 10,
     "metadata": {},
     "output_type": "execute_result"
    }
   ],
   "source": [
    "lettre_suivante(\"z\")"
   ]
  },
  {
   "cell_type": "code",
   "execution_count": 11,
   "metadata": {},
   "outputs": [
    {
     "data": {
      "text/plain": [
       "'b'"
      ]
     },
     "execution_count": 11,
     "metadata": {},
     "output_type": "execute_result"
    }
   ],
   "source": [
    "lettre_suivante(\"a\")"
   ]
  },
  {
   "cell_type": "markdown",
   "metadata": {
    "colab_type": "text",
    "id": "sKd9tZ6EKKAp"
   },
   "source": [
    "### Fonctions dans le détail"
   ]
  },
  {
   "cell_type": "markdown",
   "metadata": {
    "colab_type": "text",
    "id": "bD5YGqtTKKAp"
   },
   "source": [
    "#### Variable locale\n",
    "\n",
    "**Une variable créée à l'intérieur d'une fonction n'existe pas à l'extérieur : c'est une variable locale.** C'est pourquoi le code suivant provoque une erreur car la variable ``z`` n'existe pas en dehors de la fonction ``calcul``. Les variables ``y`` ou ``z`` ne servent que d'intermédiaire de calcul. Le seul résultat qui sort de la fonction suit le mot-clé ``return``."
   ]
  },
  {
   "cell_type": "code",
   "execution_count": 21,
   "metadata": {
    "colab": {
     "base_uri": "https://localhost:8080/",
     "height": 200
    },
    "colab_type": "code",
    "id": "9r0wRL6oKKAq",
    "outputId": "da4d6ad4-9514-4318-c9a7-cd73570b28a6"
   },
   "outputs": [
    {
     "ename": "NameError",
     "evalue": "name 'z' is not defined",
     "output_type": "error",
     "traceback": [
      "\u001b[0;31m---------------------------------------------------------------------------\u001b[0m",
      "\u001b[0;31mNameError\u001b[0m                                 Traceback (most recent call last)",
      "\u001b[0;32m<ipython-input-21-9afaae817af3>\u001b[0m in \u001b[0;36m<module>\u001b[0;34m\u001b[0m\n\u001b[1;32m      4\u001b[0m     \u001b[0;32mreturn\u001b[0m \u001b[0mz\u001b[0m\u001b[0;34m\u001b[0m\u001b[0;34m\u001b[0m\u001b[0m\n\u001b[1;32m      5\u001b[0m \u001b[0;34m\u001b[0m\u001b[0m\n\u001b[0;32m----> 6\u001b[0;31m \u001b[0mprint\u001b[0m\u001b[0;34m(\u001b[0m\u001b[0mz\u001b[0m\u001b[0;34m)\u001b[0m    \u001b[0;31m# déclenche une exception\u001b[0m\u001b[0;34m\u001b[0m\u001b[0;34m\u001b[0m\u001b[0m\n\u001b[0m",
      "\u001b[0;31mNameError\u001b[0m: name 'z' is not defined"
     ]
    }
   ],
   "source": [
    "def calcul(x) :\n",
    "    y = x**2\n",
    "    z = x + y\n",
    "    return z\n",
    "\n",
    "print(z)    # déclenche une exception"
   ]
  },
  {
   "cell_type": "code",
   "execution_count": 37,
   "metadata": {},
   "outputs": [
    {
     "name": "stdout",
     "output_type": "stream",
     "text": [
      "0.0\n"
     ]
    }
   ],
   "source": [
    "def polynome(x):\n",
    "    y_de_la_fonction = x**2 - x - 1  # La variable y_de_la_fonction ne \"vit\" que dans la fonction, c'est sa portée (scope)\n",
    "    return y_de_la_fonction  # `y_de_la_fonction` a disparu après cette instruction\n",
    "\n",
    "y = polynome(nombre_d_or)  # On peut réutiliser une variable y qui n'a rien à voir avec la précédente\n",
    "print(y)"
   ]
  },
  {
   "cell_type": "markdown",
   "metadata": {},
   "source": [
    "Typiquement on va souvent utiliser dans la fonction un nom qui sera aussi utilisé dans le programme principal. Même si les variables ont le même nom elles sont complètement différentes."
   ]
  },
  {
   "cell_type": "code",
   "execution_count": 40,
   "metadata": {},
   "outputs": [
    {
     "name": "stdout",
     "output_type": "stream",
     "text": [
      "0.0\n"
     ]
    }
   ],
   "source": [
    "def polynome(x):\n",
    "    y = x**2 - x - 1  # La variable y ne \"vit\" que dans la fonction, c'est sa portée (scope)\n",
    "    return y  # `y` a disparu après cette instruction\n",
    "\n",
    "y = polynome(nombre_d_or)  # On peut réutiliser une variable y qui n'a rien à voir avec la précédente\n",
    "print(y)"
   ]
  },
  {
   "cell_type": "markdown",
   "metadata": {
    "colab_type": "text",
    "id": "9eN1pXifKKAs"
   },
   "source": [
    "#### Mot-clé ``return``\n",
    "\n",
    "**Sans mot-clé ``return``, le résultat est ``None``,** car la fonction ne renvoie rien. (Python associe alors au résultat de l'appel le mot clef réservé None)"
   ]
  },
  {
   "cell_type": "code",
   "execution_count": 43,
   "metadata": {
    "colab": {
     "base_uri": "https://localhost:8080/",
     "height": 34
    },
    "colab_type": "code",
    "id": "PbuJ_UNnKKAs",
    "outputId": "eb185901-829b-413e-fb17-668ba7d33e16"
   },
   "outputs": [
    {
     "name": "stdout",
     "output_type": "stream",
     "text": [
      "None\n"
     ]
    }
   ],
   "source": [
    "def calcul(x):\n",
    "    y = x**2\n",
    "    z = x + y\n",
    "\n",
    "\n",
    "a = calcul(3)\n",
    "print(a)"
   ]
  },
  {
   "cell_type": "markdown",
   "metadata": {
    "colab_type": "text",
    "id": "fOzG3YwEKKAu"
   },
   "source": [
    "La fonction se termine après le premier ``return`` rencontré lors de l'exécution."
   ]
  },
  {
   "cell_type": "code",
   "execution_count": 44,
   "metadata": {
    "colab": {
     "base_uri": "https://localhost:8080/",
     "height": 52
    },
    "colab_type": "code",
    "id": "efyBwBniKKAu",
    "outputId": "ca5c2113-43c8-4407-a5f4-335dd37ee38b"
   },
   "outputs": [
    {
     "name": "stdout",
     "output_type": "stream",
     "text": [
      "je passe par ici\n"
     ]
    },
    {
     "data": {
      "text/plain": [
       "5"
      ]
     },
     "execution_count": 44,
     "metadata": {},
     "output_type": "execute_result"
    }
   ],
   "source": [
    "def valeur_absolue(x):\n",
    "    print(\"je passe par ici\")\n",
    "    if x < 0:\n",
    "        y = -x\n",
    "        return y\n",
    "    else:\n",
    "        y = x\n",
    "        return y\n",
    "    print(\"je ne passe jamais par ici\")\n",
    "\n",
    "\n",
    "valeur_absolue(-5)\n"
   ]
  },
  {
   "cell_type": "markdown",
   "metadata": {
    "colab_type": "text",
    "id": "IcpjYjtGKKAw"
   },
   "source": [
    "### Fonction récursive\n",
    "\n",
    "**Une fonction peut être récursive : elle s'appelle elle-même.** Mais il est important de savoir qu'il existe un cas dans lequel elle ne s'appelle pas pour arrêter la récursion."
   ]
  },
  {
   "cell_type": "code",
   "execution_count": 45,
   "metadata": {
    "colab": {
     "base_uri": "https://localhost:8080/",
     "height": 104
    },
    "colab_type": "code",
    "id": "TMEwEkeQKKAx",
    "outputId": "6694e011-857b-4fee-a6c5-42cc45e2cd60"
   },
   "outputs": [
    {
     "name": "stdout",
     "output_type": "stream",
     "text": [
      "je m'appelle pour x= 10\n",
      "je m'appelle pour x= 5.0\n",
      "je m'appelle pour x= 2.5\n",
      "je ne m'appelle pas pour x= 1.25\n"
     ]
    },
    {
     "data": {
      "text/plain": [
       "4"
      ]
     },
     "execution_count": 45,
     "metadata": {},
     "output_type": "execute_result"
    }
   ],
   "source": [
    "def recursive(x):\n",
    "    if x / 2 < 1:\n",
    "        print(\"je ne m'appelle pas pour x=\", x)\n",
    "        return 1\n",
    "    else:\n",
    "        print(\"je m'appelle pour x=\", x)\n",
    "        return recursive(x / 2) + 1\n",
    "\n",
    "\n",
    "recursive(10)"
   ]
  },
  {
   "cell_type": "markdown",
   "metadata": {
    "colab_type": "text",
    "id": "TEnUPvMJKKAz"
   },
   "source": [
    "### Dictionnaires"
   ]
  },
  {
   "cell_type": "markdown",
   "metadata": {
    "colab_type": "text",
    "id": "TmTSzM8jKKA0"
   },
   "source": [
    "#### clé - valeur"
   ]
  },
  {
   "cell_type": "markdown",
   "metadata": {
    "colab_type": "text",
    "id": "MktgpRYEKKA0"
   },
   "source": [
    "Une **liste** est un ensemble d'autres objets indexés par des entiers. Un **dictionnaire** est un ensemble d'autres objets indexés par des clefs, celles ci peuvent être de n'importe quel type immuable.  \n",
    "`dictionnaire = { clé : valeur }`"
   ]
  },
  {
   "cell_type": "code",
   "execution_count": 48,
   "metadata": {
    "colab": {},
    "colab_type": "code",
    "id": "-tvlYd8gKKA1"
   },
   "outputs": [
    {
     "data": {
      "text/plain": [
       "{'a': 'acronym', 'b': 'bizarre'}"
      ]
     },
     "execution_count": 48,
     "metadata": {},
     "output_type": "execute_result"
    }
   ],
   "source": [
    "d = {}   # un dictionnaire vide\n",
    "d = {'a': 'acronym', 'b': 'bizarre'}  # un dictionnaire qui associe 'acroym' à 'a' et 'bizarre' à 'b'.\n",
    "d"
   ]
  },
  {
   "cell_type": "code",
   "execution_count": 49,
   "metadata": {},
   "outputs": [
    {
     "name": "stdout",
     "output_type": "stream",
     "text": [
      "acronym\n"
     ]
    }
   ],
   "source": [
    "z = d['a']   # z reçoit la valeur associée à 'a' et stockée dans le dictionnaire d\n",
    "print(z)"
   ]
  },
  {
   "cell_type": "markdown",
   "metadata": {
    "colab_type": "text",
    "id": "jfDG9mPJKKA3"
   },
   "source": [
    "Quelques fonctions utiles :"
   ]
  },
  {
   "cell_type": "code",
   "execution_count": 52,
   "metadata": {
    "colab": {},
    "colab_type": "code",
    "id": "4ylSjtWjKKA3",
    "outputId": "383eb821-1604-45e5-b70d-3e80c2583e0f"
   },
   "outputs": [
    {
     "name": "stdout",
     "output_type": "stream",
     "text": [
      " dictionnaire =  {'a': 'acronym', 'b': 'bizarre'}\n",
      " longueur =  2\n",
      " la clé 'a' est présente ? =  True\n",
      " valeur =  acronym\n"
     ]
    }
   ],
   "source": [
    "d = {'a': 'acronym', 'b': 'bizarre'}\n",
    "l = len(d)    # retourne le nombre d'élément de d\n",
    "p = 'a' in d  # p vaut True si une valeur est associée à 'a', on dit aussi que la clé 'a' est présente\n",
    "x = d.get('a', '')  # x vaut d['a'] si la clé 'a' existe, il vaut '' sinon\n",
    "\n",
    "print(\" dictionnaire = \", d)\n",
    "print(\" longueur = \", l)\n",
    "print(\" la clé 'a' est présente ? = \", p)\n",
    "print(\" valeur = \", x)\n"
   ]
  },
  {
   "cell_type": "markdown",
   "metadata": {
    "colab_type": "text",
    "id": "T0q708FNKKA6"
   },
   "source": [
    "On peut par exemple utiliser un dictionnaire pour compter les lettres d'un texte :"
   ]
  },
  {
   "cell_type": "code",
   "execution_count": 1,
   "metadata": {
    "colab": {},
    "colab_type": "code",
    "id": "oYjjJrLmKKA7",
    "outputId": "ea0b60c2-b5ac-4d41-f605-7c912e7d145c"
   },
   "outputs": [
    {
     "data": {
      "text/plain": [
       "{'e': 6, 'x': 2, 'm': 1, 'p': 1, 'l': 1, ' ': 2, 'd': 1, 't': 2}"
      ]
     },
     "execution_count": 1,
     "metadata": {},
     "output_type": "execute_result"
    }
   ],
   "source": [
    "texte = \"exemple de texte\"\n",
    "d = { }\n",
    "for caractere in texte :\n",
    "    d[caractere] = d.get(caractere,0) + 1\n",
    "\n",
    "d"
   ]
  },
  {
   "cell_type": "markdown",
   "metadata": {
    "colab_type": "text",
    "id": "A4qYILDrKKA_"
   },
   "source": [
    "Les valeurs peuvent être n'importe quoi, y compris des listes ou des dictionnaires. Les clés doivent être des types [immuables](http://www.xavierdupre.fr/app/ensae_teaching_cs/helpsphinx/all_FAQ.html#tabulations-ou-espace) (nombre, chaînes de caractères, ``tuple`` incluant des types immuables, ou toute combinaison de types immuables). Si vous utilisez un autre type, cela déclenche une erreur : "
   ]
  },
  {
   "cell_type": "code",
   "execution_count": 54,
   "metadata": {
    "colab": {},
    "colab_type": "code",
    "id": "RKw4I3nzKKBB",
    "outputId": "45bdfd5b-1c39-4395-e366-35efc448b077"
   },
   "outputs": [
    {
     "ename": "TypeError",
     "evalue": "unhashable type: 'list'",
     "output_type": "error",
     "traceback": [
      "\u001b[0;31m---------------------------------------------------------------------------\u001b[0m",
      "\u001b[0;31mTypeError\u001b[0m                                 Traceback (most recent call last)",
      "\u001b[0;32m<ipython-input-54-61d49e9889be>\u001b[0m in \u001b[0;36m<module>\u001b[0;34m\u001b[0m\n\u001b[1;32m      1\u001b[0m \u001b[0mf\u001b[0m \u001b[0;34m=\u001b[0m \u001b[0;34m[\u001b[0m\u001b[0;36m3\u001b[0m\u001b[0;34m,\u001b[0m\u001b[0;36m4\u001b[0m\u001b[0;34m]\u001b[0m  \u001b[0;31m# Une liste est un type altérable (mutable)\u001b[0m\u001b[0;34m\u001b[0m\u001b[0;34m\u001b[0m\u001b[0m\n\u001b[0;32m----> 2\u001b[0;31m \u001b[0md\u001b[0m\u001b[0;34m[\u001b[0m\u001b[0mf\u001b[0m\u001b[0;34m]\u001b[0m \u001b[0;34m=\u001b[0m \u001b[0;36m0\u001b[0m        \u001b[0;31m# déclenche une exception\u001b[0m\u001b[0;34m\u001b[0m\u001b[0;34m\u001b[0m\u001b[0m\n\u001b[0m",
      "\u001b[0;31mTypeError\u001b[0m: unhashable type: 'list'"
     ]
    }
   ],
   "source": [
    "f = [3,4]  # Une liste est un type altérable (mutable)\n",
    "d[f] = 0        # déclenche une exception"
   ]
  },
  {
   "cell_type": "markdown",
   "metadata": {
    "colab_type": "text",
    "id": "LG9BVxuhKKBD"
   },
   "source": [
    "Lorsqu'on affecte une valeur à une clé, le dictionnaire crée la clé ou remplace la valeur précédente par la nouvelle :"
   ]
  },
  {
   "cell_type": "code",
   "execution_count": 55,
   "metadata": {
    "colab": {},
    "colab_type": "code",
    "id": "e1AWkwPHKKBE",
    "outputId": "2ef50b6e-2ff7-403d-a56a-5aff9ebc7117"
   },
   "outputs": [
    {
     "data": {
      "text/plain": [
       "{'a': 1}"
      ]
     },
     "execution_count": 55,
     "metadata": {},
     "output_type": "execute_result"
    }
   ],
   "source": [
    "d = { }\n",
    "d['a'] = 0   # création d'une clé\n",
    "d['a'] = 1   # remplacement d'une valeur\n",
    "\n",
    "d"
   ]
  },
  {
   "cell_type": "markdown",
   "metadata": {
    "colab_type": "text",
    "id": "Kw-cMmESKKBJ"
   },
   "source": [
    "#### Ordonner les éléments d'un dictionnaire\n",
    "\n",
    "Les éléments d'un dictionnaire ne sont pas ordonnées ou tout du moins ne le sont pas d'une façon prédictible. Pour les parcourir dans un ordre précis, il faut utiliser une liste puis les ordonner. L'exemple suivant montre comment ordonner les éléments par ordre croissant de valeur, puis par ordre alphabétique en cas d'ex aeco."
   ]
  },
  {
   "cell_type": "code",
   "execution_count": 57,
   "metadata": {
    "colab": {},
    "colab_type": "code",
    "id": "C0fibC9eKKBL",
    "outputId": "3f6b6305-0236-48a8-e0f7-54375892fad2"
   },
   "outputs": [
    {
     "data": {
      "text/plain": [
       "{'un': 2, 'deux': 4, 'trois': 5, 'quatre': 6, 'cinq': 4}"
      ]
     },
     "execution_count": 57,
     "metadata": {},
     "output_type": "execute_result"
    }
   ],
   "source": [
    "# Création d'un dictionnaire qui a une liste de mots associe leur longueur\n",
    "d = { s:len(s) for s in ['un', 'deux', 'trois', 'quatre', 'cinq'] }  # Création d'un dictionnaire avec `dict comprehension`\n",
    "d"
   ]
  },
  {
   "cell_type": "code",
   "execution_count": 58,
   "metadata": {
    "colab": {},
    "colab_type": "code",
    "id": "Qj0_O0ZVKKBN",
    "outputId": "f6b1ef13-09f6-48fa-d2a6-959c9545ab4e"
   },
   "outputs": [
    {
     "data": {
      "text/plain": [
       "[(2, 'un'), (4, 'deux'), (5, 'trois'), (6, 'quatre'), (4, 'cinq')]"
      ]
     },
     "execution_count": 58,
     "metadata": {},
     "output_type": "execute_result"
    }
   ],
   "source": [
    "ordonne = [ (v,k) for k,v in d.items()]\n",
    "ordonne"
   ]
  },
  {
   "cell_type": "code",
   "execution_count": 59,
   "metadata": {
    "colab": {},
    "colab_type": "code",
    "id": "HzSTajXsKKBP",
    "outputId": "60549d2e-de87-4e26-f814-e28cf8e21141"
   },
   "outputs": [
    {
     "data": {
      "text/plain": [
       "[(2, 'un'), (4, 'cinq'), (4, 'deux'), (5, 'trois'), (6, 'quatre')]"
      ]
     },
     "execution_count": 59,
     "metadata": {},
     "output_type": "execute_result"
    }
   ],
   "source": [
    "ordonne.sort()\n",
    "ordonne"
   ]
  },
  {
   "cell_type": "markdown",
   "metadata": {
    "colab_type": "text",
    "id": "0JdifrMcKKBR"
   },
   "source": [
    "**A quoi ça sert ?** on se sert beaucoup des dictionnaires pour compter la fréquences des caractères, des mots ou de couples de mots dans un texte. On les ordonne ensuite par fréquences décroissantes pour obtenir les mots ou caractères les plus fréquents."
   ]
  },
  {
   "cell_type": "markdown",
   "metadata": {
    "colab_type": "text",
    "id": "isMbqWIpKKBR"
   },
   "source": [
    "### Exercice 2 : recherche dans une liste\n",
    "\n",
    "On considère une liste de mots :"
   ]
  },
  {
   "cell_type": "code",
   "execution_count": 60,
   "metadata": {
    "colab": {},
    "colab_type": "code",
    "id": "nwIxsa-eKKBS"
   },
   "outputs": [],
   "source": [
    "mots = ['eddard', 'catelyn', 'robb', 'sansa', 'arya', 'brandon',\n",
    "        'rickon', 'theon', 'rorbert', 'cersei', 'tywin', 'jaime',\n",
    "        'tyrion', 'shae', 'bronn', 'lancel', 'joffrey', 'sandor',\n",
    "        'varys', 'renly', 'a' ]"
   ]
  },
  {
   "cell_type": "markdown",
   "metadata": {
    "colab_type": "text",
    "id": "SY4quhI7KKBU"
   },
   "source": [
    "Il faut écrire une fonction qui retourne tous les mots de la liste qui ont un 'y' en seconde position."
   ]
  },
  {
   "cell_type": "code",
   "execution_count": 61,
   "metadata": {
    "colab": {},
    "colab_type": "code",
    "id": "wDoCl7BDKKBV"
   },
   "outputs": [],
   "source": [
    "def mots_lettre_position (liste, lettre, position) :\n",
    "    # liste_mots est une liste qui contient l'ensemble des mots ayant la lettre `lettre`\n",
    "    # en position `position`\n",
    "    liste_mots_choisis = []\n",
    "    # La méthode find des chaînes de caractères devrait nous aider grandement\n",
    "    for mot in liste:\n",
    "        if mot.find(lettre) == (position-1):\n",
    "            liste_mots_choisis.append(mot)\n",
    "    return liste_mots_choisis"
   ]
  },
  {
   "cell_type": "code",
   "execution_count": 62,
   "metadata": {
    "colab": {
     "base_uri": "https://localhost:8080/",
     "height": 34
    },
    "colab_type": "code",
    "id": "saxetS1qP7p7",
    "outputId": "ce9f4b6f-2b69-4992-8f6e-e4b85371418f"
   },
   "outputs": [
    {
     "data": {
      "text/plain": [
       "['tywin', 'tyrion']"
      ]
     },
     "execution_count": 62,
     "metadata": {},
     "output_type": "execute_result"
    }
   ],
   "source": [
    "mots_lettre_position(mots, \"y\", 2)"
   ]
  },
  {
   "cell_type": "markdown",
   "metadata": {
    "colab_type": "text",
    "id": "n2soqB_UKKBa"
   },
   "source": [
    "### Exercice 3 : crypter de décrypter selon Vigenère\n",
    "\n",
    "Le [code de César](http://fr.wikipedia.org/wiki/Chiffrement_par_d%C3%A9calage) est une permutation de lettre ou un décalage. Toutes les lettres du message sont décalées d'un nombre fixe :\n",
    "\n",
    "- ``JENESUISPASCODE``\n",
    "- ``MHQHVXLVSDVFRGH``\n",
    "\n",
    "Le [code de Vigenère](http://fr.wikipedia.org/wiki/Chiffre_de_Vigen%C3%A8re) introduit un décalage qui dépend de la position de la lettre dans le message à coder. On choisit d'abord un mot qui servira de code (par exemple ``DOP``) puis on le traduit en décalages : ``[3, 14, 15]`` en servant de la position des lettres dans l'alphabet. \n",
    "\n",
    "Pour coder, on décale la première lettre de 3, la seconde de 14, la troisième 15, la quatrième de 3 à nouveau... L'objectif de cette partie est d'écrire une fonction qui crypte le message précédent et une autre qui décrypte.\n",
    "\n",
    "On se limitera aux minuscules de caractères non accentué avec des messages sans espace."
   ]
  },
  {
   "cell_type": "code",
   "execution_count": 2,
   "metadata": {
    "colab": {},
    "colab_type": "code",
    "id": "C0p0Wr2FKKBb",
    "outputId": "ed7a80e0-6ace-4742-8015-e378a256855a"
   },
   "outputs": [
    {
     "name": "stdout",
     "output_type": "stream",
     "text": [
      "message :  abcz\n",
      "clé  :  ab\n",
      "message codé :  bddb\n",
      "message initial  :  abcz\n"
     ]
    }
   ],
   "source": [
    "\n",
    "\n",
    "def calcul_des_decalages(cle):\n",
    "    # on va définir les decalages pour l'encodage et le décodage\n",
    "    decalages = []\n",
    "    for lettre in cle:\n",
    "        decalages.append(ord(lettre) - ord('a') + 1) \n",
    "    return decalages\n",
    "\n",
    "\n",
    "\n",
    "def code_vigenere(message, cle) :\n",
    "    decalages = calcul_des_decalages(cle)\n",
    "    \n",
    "    # chiffrement\n",
    "    i = 0  # variable utilisée pour boucler sur les décalages\n",
    "    message_code = ''\n",
    "    for lettre in message:\n",
    "        nouvelle_lettre = chr((ord(lettre) - ord('a') + decalages[i]) % 26 + ord('a'))\n",
    "        message_code += nouvelle_lettre\n",
    "        \n",
    "        # On prend le décalage suivant\n",
    "        i = (i+1) % (len(decalages)) # utilisation du modulo pour boucler quand on est à la fin\n",
    "    \n",
    "    return message_code\n",
    "\n",
    "\n",
    "def decode_vigenere(message_code, cle) :\n",
    "    decalages = calcul_des_decalages(cle)\n",
    " \n",
    "    # déchiffrement\n",
    "    i = 0\n",
    "    message = ''\n",
    "    for lettre in message_code:\n",
    "        nouvelle_lettre =  chr((ord(lettre) - ord('a') + 26 - decalages[i]) % 26 + ord('a'))\n",
    "        message += nouvelle_lettre\n",
    "        i = (i+1) % (len(decalages))\n",
    "\n",
    "    return message\n",
    "\n",
    "message = 'abcz'\n",
    "cle = 'ab'\n",
    "\n",
    "print ('message : ', message)\n",
    "print('clé  : ', cle)\n",
    "\n",
    "message_code = code_vigenere(message, cle)\n",
    "message_initial = decode_vigenere(message_code, cle)\n",
    "\n",
    "print ('message codé : ', message_code)\n",
    "print('message initial  : ', message_initial)\n"
   ]
  },
  {
   "cell_type": "markdown",
   "metadata": {
    "colab_type": "text",
    "id": "FmXSJWE8KKBc"
   },
   "source": [
    "A quelle condition le code de Vigenère est un simple code de César ?\n",
    "\n",
    "Pensez-vous qu'il soit possible de casser le code de Vigenère (de le décrypter sans la clé) ?"
   ]
  },
  {
   "cell_type": "markdown",
   "metadata": {
    "colab": {},
    "colab_type": "code",
    "id": "eNopC4yXKKBd",
    "outputId": "ef6e7322-c124-40e2-c77d-f4c93865b4f4"
   },
   "source": [
    "Code César =  une seule lettre dans le mot qui sert de code  \n",
    "\n",
    "Casser le code de Vigenère, cf  \n",
    "https://fr.wikipedia.org/wiki/Cryptanalyse_du_chiffre_de_Vigen%C3%A8re"
   ]
  },
  {
   "cell_type": "code",
   "execution_count": 3,
   "metadata": {},
   "outputs": [
    {
     "data": {
      "text/plain": [
       "20"
      ]
     },
     "execution_count": 3,
     "metadata": {},
     "output_type": "execute_result"
    }
   ],
   "source": [
    "98%26"
   ]
  },
  {
   "cell_type": "code",
   "execution_count": 4,
   "metadata": {},
   "outputs": [
    {
     "data": {
      "text/plain": [
       "97"
      ]
     },
     "execution_count": 4,
     "metadata": {},
     "output_type": "execute_result"
    }
   ],
   "source": [
    "ord('a')"
   ]
  },
  {
   "cell_type": "code",
   "execution_count": null,
   "metadata": {},
   "outputs": [],
   "source": []
  }
 ],
 "metadata": {
  "colab": {
   "name": "Session_28_11_Dictionnaires_Fonctions.ipynb",
   "provenance": [],
   "toc_visible": true
  },
  "kernelspec": {
   "display_name": "Python 3",
   "language": "python",
   "name": "python3"
  },
  "language_info": {
   "codemirror_mode": {
    "name": "ipython",
    "version": 3
   },
   "file_extension": ".py",
   "mimetype": "text/x-python",
   "name": "python",
   "nbconvert_exporter": "python",
   "pygments_lexer": "ipython3",
   "version": "3.8.8"
  }
 },
 "nbformat": 4,
 "nbformat_minor": 4
}
