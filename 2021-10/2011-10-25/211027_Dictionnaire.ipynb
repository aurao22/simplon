{
 "cells": [
  {
   "cell_type": "markdown",
   "id": "d04894cb",
   "metadata": {},
   "source": [
    "# Utilisation des dictionnaires\n",
    "Les dictionnaires sont des structures de controle **non-ordonnées**, c'est-a-dire que les valeurs qu'ils contiennent ne sont pas rangée selon un index, mais suivant une **clef unique**.\n",
    "\n",
    "Une utilisation parfaite des dictionnaires est pour regrouper ensemble des \"variables\" dans un meme conténaire. (ces variables ne sont pas de vraies variables, mais des **keys**)."
   ]
  },
  {
   "cell_type": "markdown",
   "id": "1ae60482",
   "metadata": {},
   "source": [
    "Vous pouvez créer un dictionnaire de deux manières. La première façon est d'affecter simplement un dictionnaire vide à une variable en utilisant des accolades, comme ceci :"
   ]
  },
  {
   "cell_type": "code",
   "execution_count": 13,
   "id": "be391306",
   "metadata": {},
   "outputs": [],
   "source": [
    "dic1 = {}"
   ]
  },
  {
   "cell_type": "markdown",
   "id": "71e2e557",
   "metadata": {},
   "source": [
    "La deuxième méthode consiste à utiliser la fonction dict() pour renvoyer un nouveau dictionnaire :"
   ]
  },
  {
   "cell_type": "code",
   "execution_count": 14,
   "id": "2e0f9f79",
   "metadata": {},
   "outputs": [],
   "source": [
    "dic2=dict()"
   ]
  },
  {
   "cell_type": "markdown",
   "id": "9824a720",
   "metadata": {},
   "source": [
    "Nous pouvons également confirmer que nous avons un véritable dictionnaire en utilisant la fonction intégrée isinstance() pour vérifier que le dictionnaire est une instance de la classe dict :"
   ]
  },
  {
   "cell_type": "code",
   "execution_count": 15,
   "id": "f04d1276",
   "metadata": {},
   "outputs": [
    {
     "data": {
      "text/plain": [
       "True"
      ]
     },
     "execution_count": 15,
     "metadata": {},
     "output_type": "execute_result"
    }
   ],
   "source": [
    "isinstance(dic1, dict)"
   ]
  },
  {
   "cell_type": "markdown",
   "id": "8c21df1b",
   "metadata": {},
   "source": [
    "## Exercice"
   ]
  },
  {
   "cell_type": "markdown",
   "id": "bb968a8f",
   "metadata": {},
   "source": [
    "**Tout d'abord, créer deux dictionnaires comme ceci sous les noms dictionary1 et dictionary2 :**"
   ]
  },
  {
   "cell_type": "code",
   "execution_count": 5,
   "id": "b3400aae",
   "metadata": {},
   "outputs": [
    {
     "name": "stdout",
     "output_type": "stream",
     "text": [
      "{'state': 'NY', 'city': 'New York'}\n"
     ]
    }
   ],
   "source": [
    "distionary1 = {'state': 'NY', 'city': 'New York'}\n",
    "print(distionary1)"
   ]
  },
  {
   "cell_type": "code",
   "execution_count": 19,
   "id": "52a5406e",
   "metadata": {},
   "outputs": [
    {
     "data": {
      "text/plain": [
       "{'state': 'NY', 'city': 'New York'}"
      ]
     },
     "execution_count": 19,
     "metadata": {},
     "output_type": "execute_result"
    }
   ],
   "source": [
    "dictionary1"
   ]
  },
  {
   "cell_type": "code",
   "execution_count": 6,
   "id": "0df062d6",
   "metadata": {},
   "outputs": [
    {
     "name": "stdout",
     "output_type": "stream",
     "text": [
      "{'state': 'Maryland', 'city': 'Baltimore'}\n"
     ]
    }
   ],
   "source": [
    "dictionary2 = {'state': 'Maryland', 'city': 'Baltimore'}\n",
    "print(dictionary2)"
   ]
  },
  {
   "cell_type": "code",
   "execution_count": 7,
   "id": "1d43f97b",
   "metadata": {},
   "outputs": [
    {
     "data": {
      "text/plain": [
       "{'state': 'Maryland', 'city': 'Baltimore'}"
      ]
     },
     "execution_count": 7,
     "metadata": {},
     "output_type": "execute_result"
    }
   ],
   "source": [
    "dictionary2"
   ]
  },
  {
   "cell_type": "markdown",
   "id": "b9312228",
   "metadata": {},
   "source": [
    "**Ajoutez une nouvelle clé \"bird \" avec une valeur \"Baltimore oriole\"**"
   ]
  },
  {
   "cell_type": "code",
   "execution_count": 12,
   "id": "8408c674",
   "metadata": {},
   "outputs": [
    {
     "name": "stdout",
     "output_type": "stream",
     "text": [
      "{'state': 'Maryland', 'city': 'Baltimore', 'bird': 'Baltimore oriole'}\n"
     ]
    }
   ],
   "source": [
    "dictionary2[\"bird\"] = \"Baltimore oriole\"\n",
    "print(dictionary2)"
   ]
  },
  {
   "cell_type": "code",
   "execution_count": 29,
   "id": "ea746d98",
   "metadata": {},
   "outputs": [
    {
     "data": {
      "text/plain": [
       "{'state': 'Maryland', 'city': 'Baltimore', 'bird': 'Baltimore oriole'}"
      ]
     },
     "execution_count": 29,
     "metadata": {},
     "output_type": "execute_result"
    }
   ],
   "source": [
    "dictionary2"
   ]
  },
  {
   "cell_type": "markdown",
   "id": "ca317113",
   "metadata": {},
   "source": [
    "**Changer la valeur de State de dictionary1 de NY à New York, comme suit**"
   ]
  },
  {
   "cell_type": "code",
   "execution_count": 18,
   "id": "a63f0194",
   "metadata": {},
   "outputs": [
    {
     "name": "stdout",
     "output_type": "stream",
     "text": [
      "{'state': 'New York', 'city': 'New York'}\n"
     ]
    }
   ],
   "source": [
    "distionary1 = {'state': 'NY', 'city': 'New York'}\n",
    "distionary1[\"state\"] = \"New York\"\n",
    "print(distionary1)"
   ]
  },
  {
   "cell_type": "markdown",
   "id": "29f469b4",
   "metadata": {},
   "source": [
    "**Accédez à la  valeur du \"New York\" de la clé \"state \" du dictionary1**"
   ]
  },
  {
   "cell_type": "code",
   "execution_count": 20,
   "id": "5afe349d",
   "metadata": {},
   "outputs": [
    {
     "name": "stdout",
     "output_type": "stream",
     "text": [
      "New York\n"
     ]
    }
   ],
   "source": [
    "distionary1 = {'state': 'NY', 'city': 'New York'}\n",
    "distionary1[\"state\"] = \"New York\"\n",
    "print(distionary1[\"state\"])"
   ]
  },
  {
   "cell_type": "markdown",
   "id": "c1eda54e",
   "metadata": {},
   "source": [
    "Attention : si vous cherchez une clef qui n'existe pas dans un dictionnaire, python vous retourne une erreur. Pour éviter cela, vous pouvez utiliser la méthode **get()**"
   ]
  },
  {
   "cell_type": "markdown",
   "id": "aa081d8c",
   "metadata": {},
   "source": [
    "**Trouvez la valeur de la clé \"state\"  du dictionary1 avec la méthode get()**"
   ]
  },
  {
   "cell_type": "code",
   "execution_count": 21,
   "id": "838ef2d8",
   "metadata": {},
   "outputs": [
    {
     "name": "stdout",
     "output_type": "stream",
     "text": [
      "New York\n"
     ]
    }
   ],
   "source": [
    "distionary1 = {'state': 'NY', 'city': 'New York'}\n",
    "distionary1[\"state\"] = \"New York\"\n",
    "print(distionary1.get(\"state\"))"
   ]
  },
  {
   "cell_type": "markdown",
   "id": "c7cdc83b",
   "metadata": {},
   "source": [
    "**Parcourir explicitement uniquement les clés du dictionary1 en appelant la méthode keys() qui renvoie une liste de clés**"
   ]
  },
  {
   "cell_type": "code",
   "execution_count": 22,
   "id": "cdb67f89",
   "metadata": {},
   "outputs": [
    {
     "name": "stdout",
     "output_type": "stream",
     "text": [
      "state\n",
      "city\n"
     ]
    }
   ],
   "source": [
    "distionary1 = {'state': 'NY', 'city': 'New York'}\n",
    "distionary1[\"state\"] = \"New York\"\n",
    "for key in distionary1.keys():\n",
    "    print(key)"
   ]
  },
  {
   "cell_type": "markdown",
   "id": "0bf3a41b",
   "metadata": {},
   "source": [
    "**Parcourir explicitement uniquement les valeurs du dictionary1. Utilisez la méthode values()**"
   ]
  },
  {
   "cell_type": "code",
   "execution_count": 23,
   "id": "ea6483b9",
   "metadata": {},
   "outputs": [
    {
     "name": "stdout",
     "output_type": "stream",
     "text": [
      "New York\n",
      "New York\n"
     ]
    }
   ],
   "source": [
    "distionary1 = {'state': 'NY', 'city': 'New York'}\n",
    "distionary1[\"state\"] = \"New York\"\n",
    "for val in distionary1.values():\n",
    "    print(val)"
   ]
  },
  {
   "cell_type": "markdown",
   "id": "042a3cf2",
   "metadata": {},
   "source": [
    "**Parcourir les clés et les valeurs en même temps du dictionary1. Utilisez items(), afin d'imprimer à la fois les clés et les valeurs**"
   ]
  },
  {
   "cell_type": "code",
   "execution_count": 24,
   "id": "74fbbb11",
   "metadata": {},
   "outputs": [
    {
     "name": "stdout",
     "output_type": "stream",
     "text": [
      "state = New York\n",
      "city = New York\n"
     ]
    }
   ],
   "source": [
    "distionary1 = {'state': 'NY', 'city': 'New York'}\n",
    "distionary1[\"state\"] = \"New York\"\n",
    "for key,val in distionary1.items():\n",
    "    print(key,\"=\", val)"
   ]
  },
  {
   "cell_type": "markdown",
   "id": "5830016f",
   "metadata": {},
   "source": [
    "## Attributs de dictionnaire supplémentaires "
   ]
  },
  {
   "cell_type": "markdown",
   "id": "b02af0f0",
   "metadata": {},
   "source": [
    "**La méthode .update() sur les dictionnaires, est utilisée pour insérer de nouvelles paires clé-valeur dans un dictionnaire, ou mettre à jour la valeur d'une existante**"
   ]
  },
  {
   "cell_type": "markdown",
   "id": "8198d499",
   "metadata": {},
   "source": [
    "**Soit le dictionaire vide suivant**"
   ]
  },
  {
   "cell_type": "code",
   "execution_count": 83,
   "id": "f441d17c",
   "metadata": {},
   "outputs": [],
   "source": [
    "a={}"
   ]
  },
  {
   "cell_type": "markdown",
   "id": "9b5eb711",
   "metadata": {},
   "source": [
    "**Utiliser .update() pour mettre à joure votre dictionnaire avec vos noms, prénons, ages et vos centre d'interet  **"
   ]
  },
  {
   "cell_type": "code",
   "execution_count": 28,
   "id": "2b39561e",
   "metadata": {},
   "outputs": [
    {
     "name": "stdout",
     "output_type": "stream",
     "text": [
      "{'Nom': 'Raoul', 'Prénom': 'Aurélie', 'Centre intérêt': '?'}\n"
     ]
    }
   ],
   "source": [
    "a={}\n",
    "a.update({\"Nom\": \"Raoul\"})\n",
    "a.update({\"Prénom\": \"Aurélie\"})\n",
    "a.update({\"Centre intérêt\": \"?\"})\n",
    "print(a)"
   ]
  },
  {
   "cell_type": "markdown",
   "id": "c56518f8",
   "metadata": {},
   "source": [
    "**Supprimer une paire clé-valeur \"Centres d'intérêt\" et ' ?', en utilisant le mot-clé del**"
   ]
  },
  {
   "cell_type": "code",
   "execution_count": 31,
   "id": "9aecf13f",
   "metadata": {},
   "outputs": [
    {
     "name": "stdout",
     "output_type": "stream",
     "text": [
      "{'Nom': 'Raoul', 'Prénom': 'Aurélie', 'Centre intérêt': '?'}\n",
      "{'Nom': 'Raoul', 'Prénom': 'Aurélie'}\n",
      "{'Nom': 'Raoul', 'Prénom': 'Aurélie', 'Centre intérêt': '?'}\n",
      "{'Nom': 'Raoul', 'Prénom': 'Aurélie'}\n"
     ]
    }
   ],
   "source": [
    "a={}\n",
    "a.update({\"Nom\": \"Raoul\"})\n",
    "a.update({\"Prénom\": \"Aurélie\"})\n",
    "a.update({\"Centre intérêt\": \"?\"})\n",
    "print(a)\n",
    "del a[\"Centre intérêt\"]\n",
    "print(a)"
   ]
  },
  {
   "cell_type": "code",
   "execution_count": 87,
   "id": "5d6cac8c",
   "metadata": {},
   "outputs": [
    {
     "data": {
      "text/plain": [
       "{'Nom': '? ', 'Prénom': '?'}"
      ]
     },
     "execution_count": 87,
     "metadata": {},
     "output_type": "execute_result"
    }
   ],
   "source": [
    "a"
   ]
  },
  {
   "cell_type": "markdown",
   "id": "ee82f9bb",
   "metadata": {},
   "source": [
    "**Que se passe-t-il si vous souhaitez supprimer une paire clé-valeur du dictionnaire et faire quelque chose avec la valeur ? Dans ce cas, vous pouvez utiliser pop(), qui supprimera l'entrée du dictionnaire et renverra la valeur**"
   ]
  },
  {
   "cell_type": "markdown",
   "id": "daf2aad1",
   "metadata": {},
   "source": [
    "**Supprimer la clé Prénom et stocker la valeur dans \"b\"**"
   ]
  },
  {
   "cell_type": "code",
   "execution_count": 32,
   "id": "757c03f8",
   "metadata": {},
   "outputs": [
    {
     "name": "stdout",
     "output_type": "stream",
     "text": [
      "{'Nom': 'Raoul', 'Prénom': 'Aurélie'}\n",
      "?\n"
     ]
    }
   ],
   "source": [
    "a={}\n",
    "a.update({\"Nom\": \"Raoul\"})\n",
    "a.update({\"Prénom\": \"Aurélie\"})\n",
    "a.update({\"Centre intérêt\": \"?\"})\n",
    "b = a.pop(\"Centre intérêt\")\n",
    "print(a)\n",
    "print(b)"
   ]
  },
  {
   "cell_type": "code",
   "execution_count": 89,
   "id": "ff05ac6f",
   "metadata": {},
   "outputs": [
    {
     "data": {
      "text/plain": [
       "{'Nom': '? '}"
      ]
     },
     "execution_count": 89,
     "metadata": {},
     "output_type": "execute_result"
    }
   ],
   "source": [
    "a"
   ]
  },
  {
   "cell_type": "code",
   "execution_count": 90,
   "id": "bdabeec3",
   "metadata": {},
   "outputs": [
    {
     "data": {
      "text/plain": [
       "'?'"
      ]
     },
     "execution_count": 90,
     "metadata": {},
     "output_type": "execute_result"
    }
   ],
   "source": [
    "b"
   ]
  },
  {
   "cell_type": "markdown",
   "id": "d0413f1d",
   "metadata": {},
   "source": [
    "**La méthode popitem() apparaît et renvoie un élément aléatoire du dictionnaire. Cet élément n'existera plus dans le dictionnaire après cela**"
   ]
  },
  {
   "cell_type": "markdown",
   "id": "38381813",
   "metadata": {},
   "source": [
    "**Soit le dictionaire \"a\" suivant**"
   ]
  },
  {
   "cell_type": "code",
   "execution_count": 35,
   "id": "28cfe1b1",
   "metadata": {},
   "outputs": [
    {
     "name": "stdout",
     "output_type": "stream",
     "text": [
      "{'name': 'Skandar Keynes', 'age': '24', 'sex': 'male'}\n",
      "{'name': 'Skandar Keynes', 'age': '24'}\n",
      "('sex', 'male')\n",
      "{'name': 'Skandar Keynes'}\n",
      "('age', '24')\n",
      "{}\n",
      "('name', 'Skandar Keynes')\n"
     ]
    }
   ],
   "source": [
    "a = {\"name\": \"Skandar Keynes\", \"age\": \"24\", \"sex\": \"male\"}\n",
    "print(a)"
   ]
  },
  {
   "cell_type": "markdown",
   "id": "b290cebb",
   "metadata": {},
   "source": [
    "**Chercher un élement aléatoire \"b\" du dictionnaire  \"a\" puis suprimer cet élément**\n"
   ]
  },
  {
   "cell_type": "code",
   "execution_count": 107,
   "id": "a20dc1a9",
   "metadata": {},
   "outputs": [],
   "source": [
    "a = {\"name\": \"Skandar Keynes\", \"age\": \"24\", \"sex\": \"male\"}\n",
    "print(a)\n",
    "b = a.popitem()\n",
    "print(a)\n",
    "print(b)\n",
    "b = a.popitem()\n",
    "print(a)\n",
    "print(b)\n",
    "b = a.popitem()\n",
    "print(a)\n",
    "print(b)"
   ]
  },
  {
   "cell_type": "markdown",
   "id": "3101ffcb",
   "metadata": {
    "tags": []
   },
   "source": [
    "**La méthode setdefault() prend deux arguments : une clé à rechercher dans le dictionnaire et une valeur. Si la clé existe dans le dictionnaire, sa valeur sera retournée. Si la clé n'existe \n",
    "pas, elle sera insérée avec la valeur fournie dans le deuxième argument. Si aucun deuxième argument n'a été passé, toute insertion sera effectuée avec la valeur NAN**"
   ]
  },
  {
   "cell_type": "code",
   "execution_count": 99,
   "id": "0459ee3f",
   "metadata": {},
   "outputs": [],
   "source": [
    "a = {\"name\": \"Skandar Keynes\", \"age\": \"24\", \"sex\": \"male\"}\n",
    "print(a)"
   ]
  },
  {
   "cell_type": "markdown",
   "id": "c7f48cf2",
   "metadata": {},
   "source": [
    "**Ajouter la clé \"planet\", et la valeur \"Earth\" au dictionaire \"a\" à l'aide de la méthode setdefault()**"
   ]
  },
  {
   "cell_type": "code",
   "execution_count": 36,
   "id": "9ea32460",
   "metadata": {},
   "outputs": [
    {
     "name": "stdout",
     "output_type": "stream",
     "text": [
      "{'name': 'Skandar Keynes', 'age': '24', 'sex': 'male'}\n",
      "{'name': 'Skandar Keynes', 'age': '24', 'sex': 'male', 'planet': 'Earth'}\n"
     ]
    }
   ],
   "source": [
    "a = {\"name\": \"Skandar Keynes\", \"age\": \"24\", \"sex\": \"male\"}\n",
    "print(a)\n",
    "a.setdefault(\"planet\", \"Earth\")\n",
    "print(a)"
   ]
  },
  {
   "cell_type": "markdown",
   "id": "c344b45e",
   "metadata": {},
   "source": [
    "**Ajouter la clé \"Prénom\" au dictionnaire \"a\" à l'aide de la méthode setdefault**\n"
   ]
  },
  {
   "cell_type": "code",
   "execution_count": 37,
   "id": "b72d97e6",
   "metadata": {},
   "outputs": [
    {
     "name": "stdout",
     "output_type": "stream",
     "text": [
      "{'name': 'Skandar Keynes', 'age': '24', 'sex': 'male', 'planet': 'Earth'}\n",
      "{'name': 'Skandar Keynes', 'age': '24', 'sex': 'male', 'planet': 'Earth', 'Prénom': None}\n"
     ]
    }
   ],
   "source": [
    "a = {\"name\": \"Skandar Keynes\", \"age\": \"24\", \"sex\": \"male\"}\n",
    "a.setdefault(\"planet\", \"Earth\")\n",
    "print(a)\n",
    "a.setdefault(\"Prénom\")\n",
    "print(a)"
   ]
  }
 ],
 "metadata": {
  "kernelspec": {
   "display_name": "Python 3",
   "language": "python",
   "name": "python3"
  },
  "language_info": {
   "codemirror_mode": {
    "name": "ipython",
    "version": 3
   },
   "file_extension": ".py",
   "mimetype": "text/x-python",
   "name": "python",
   "nbconvert_exporter": "python",
   "pygments_lexer": "ipython3",
   "version": "3.8.8"
  }
 },
 "nbformat": 4,
 "nbformat_minor": 5
}
