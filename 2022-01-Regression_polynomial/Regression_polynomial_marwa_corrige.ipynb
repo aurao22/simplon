{
 "cells": [
  {
   "cell_type": "markdown",
   "id": "79e2262c",
   "metadata": {},
   "source": [
    "## Des algorithmes d'apprentissage supervisé les plus importants\n",
    "- Linear Regression\n",
    "- k-Nearest Neighbors\n",
    "- Logistic Regression\n",
    "- Support Vector Machines (SVMs)\n",
    "- Decision Trees and Random Forests\n",
    "- Neural networks"
   ]
  },
  {
   "cell_type": "markdown",
   "id": "c83861ed",
   "metadata": {},
   "source": [
    "https://scikit-learn.org/stable/index.html"
   ]
  },
  {
   "cell_type": "markdown",
   "id": "84fcd645",
   "metadata": {},
   "source": [
    "## Regression polynomial"
   ]
  },
  {
   "cell_type": "code",
   "execution_count": 59,
   "id": "2246345d",
   "metadata": {},
   "outputs": [],
   "source": [
    "import numpy as np\n",
    "import matplotlib.pyplot as plt \n",
    "import numpy.random as rnd"
   ]
  },
  {
   "cell_type": "code",
   "execution_count": 60,
   "id": "3a84eacc",
   "metadata": {},
   "outputs": [],
   "source": [
    "np.random.seed(42)\n",
    "m = 100\n",
    "X = 6 * np.random.rand(m, 1) - 3\n",
    "y = 0.5 * X**2 + X + 2 + np.random.randn(m, 1)"
   ]
  },
  {
   "cell_type": "code",
   "execution_count": 62,
   "id": "c4b65ee3",
   "metadata": {},
   "outputs": [
    {
     "data": {
      "image/png": "[encoded data removed]",
      "text/plain": [
       "<Figure size 432x288 with 1 Axes>"
      ]
     },
     "metadata": {
      "needs_background": "light"
     },
     "output_type": "display_data"
    }
   ],
   "source": [
    "plt.plot(X, y, \"b.\")\n",
    "plt.xlabel(\"$x_1$\", fontsize=18)\n",
    "plt.ylabel(\"$y$\", rotation=0, fontsize=18)\n",
    "plt.axis([-3, 3, 0, 10])\n",
    "plt.show()"
   ]
  },
  {
   "cell_type": "code",
   "execution_count": 64,
   "id": "e386abf4",
   "metadata": {},
   "outputs": [
    {
     "data": {
      "text/plain": [
       "array([-0.75275929])"
      ]
     },
     "execution_count": 64,
     "metadata": {},
     "output_type": "execute_result"
    }
   ],
   "source": [
    "from sklearn.preprocessing import PolynomialFeatures\n",
    "from sklearn.linear_model import LinearRegression\n",
    "poly_features = PolynomialFeatures(degree=2, include_bias=False)\n",
    "X_poly = poly_features.fit_transform(X)\n",
    "X[0]"
   ]
  },
  {
   "cell_type": "code",
   "execution_count": 65,
   "id": "9b2678f1",
   "metadata": {},
   "outputs": [
    {
     "data": {
      "text/plain": [
       "LinearRegression()"
      ]
     },
     "execution_count": 65,
     "metadata": {},
     "output_type": "execute_result"
    }
   ],
   "source": [
    "lin_reg = LinearRegression()\n",
    "lin_reg.fit(X_poly, y)\n",
    "#lin_reg.intercept_, lin_reg.coef_"
   ]
  },
  {
   "cell_type": "code",
   "execution_count": 68,
   "id": "afc1bca9",
   "metadata": {},
   "outputs": [],
   "source": [
    "X_new=np.linspace(-3, 3, 100).reshape(100, 1)"
   ]
  },
  {
   "cell_type": "code",
   "execution_count": 69,
   "id": "ff0f7ab1",
   "metadata": {},
   "outputs": [
    {
     "data": {
      "text/plain": [
       "array([[-3.        ],\n",
       "       [-2.93939394],\n",
       "       [-2.87878788],\n",
       "       [-2.81818182],\n",
       "       [-2.75757576],\n",
       "       [-2.6969697 ],\n",
       "       [-2.63636364],\n",
       "       [-2.57575758],\n",
       "       [-2.51515152],\n",
       "       [-2.45454545],\n",
       "       [-2.39393939],\n",
       "       [-2.33333333],\n",
       "       [-2.27272727],\n",
       "       [-2.21212121],\n",
       "       [-2.15151515],\n",
       "       [-2.09090909],\n",
       "       [-2.03030303],\n",
       "       [-1.96969697],\n",
       "       [-1.90909091],\n",
       "       [-1.84848485],\n",
       "       [-1.78787879],\n",
       "       [-1.72727273],\n",
       "       [-1.66666667],\n",
       "       [-1.60606061],\n",
       "       [-1.54545455],\n",
       "       [-1.48484848],\n",
       "       [-1.42424242],\n",
       "       [-1.36363636],\n",
       "       [-1.3030303 ],\n",
       "       [-1.24242424],\n",
       "       [-1.18181818],\n",
       "       [-1.12121212],\n",
       "       [-1.06060606],\n",
       "       [-1.        ],\n",
       "       [-0.93939394],\n",
       "       [-0.87878788],\n",
       "       [-0.81818182],\n",
       "       [-0.75757576],\n",
       "       [-0.6969697 ],\n",
       "       [-0.63636364],\n",
       "       [-0.57575758],\n",
       "       [-0.51515152],\n",
       "       [-0.45454545],\n",
       "       [-0.39393939],\n",
       "       [-0.33333333],\n",
       "       [-0.27272727],\n",
       "       [-0.21212121],\n",
       "       [-0.15151515],\n",
       "       [-0.09090909],\n",
       "       [-0.03030303],\n",
       "       [ 0.03030303],\n",
       "       [ 0.09090909],\n",
       "       [ 0.15151515],\n",
       "       [ 0.21212121],\n",
       "       [ 0.27272727],\n",
       "       [ 0.33333333],\n",
       "       [ 0.39393939],\n",
       "       [ 0.45454545],\n",
       "       [ 0.51515152],\n",
       "       [ 0.57575758],\n",
       "       [ 0.63636364],\n",
       "       [ 0.6969697 ],\n",
       "       [ 0.75757576],\n",
       "       [ 0.81818182],\n",
       "       [ 0.87878788],\n",
       "       [ 0.93939394],\n",
       "       [ 1.        ],\n",
       "       [ 1.06060606],\n",
       "       [ 1.12121212],\n",
       "       [ 1.18181818],\n",
       "       [ 1.24242424],\n",
       "       [ 1.3030303 ],\n",
       "       [ 1.36363636],\n",
       "       [ 1.42424242],\n",
       "       [ 1.48484848],\n",
       "       [ 1.54545455],\n",
       "       [ 1.60606061],\n",
       "       [ 1.66666667],\n",
       "       [ 1.72727273],\n",
       "       [ 1.78787879],\n",
       "       [ 1.84848485],\n",
       "       [ 1.90909091],\n",
       "       [ 1.96969697],\n",
       "       [ 2.03030303],\n",
       "       [ 2.09090909],\n",
       "       [ 2.15151515],\n",
       "       [ 2.21212121],\n",
       "       [ 2.27272727],\n",
       "       [ 2.33333333],\n",
       "       [ 2.39393939],\n",
       "       [ 2.45454545],\n",
       "       [ 2.51515152],\n",
       "       [ 2.57575758],\n",
       "       [ 2.63636364],\n",
       "       [ 2.6969697 ],\n",
       "       [ 2.75757576],\n",
       "       [ 2.81818182],\n",
       "       [ 2.87878788],\n",
       "       [ 2.93939394],\n",
       "       [ 3.        ]])"
      ]
     },
     "execution_count": 69,
     "metadata": {},
     "output_type": "execute_result"
    }
   ],
   "source": [
    "X_new"
   ]
  },
  {
   "cell_type": "code",
   "execution_count": 67,
   "id": "1d494eb0",
   "metadata": {},
   "outputs": [
    {
     "data": {
      "image/png": "[encoded data removed]",
      "text/plain": [
       "<Figure size 432x288 with 1 Axes>"
      ]
     },
     "metadata": {
      "needs_background": "light"
     },
     "output_type": "display_data"
    }
   ],
   "source": [
    "X_new=np.linspace(-3, 3, 100).reshape(100, 1)\n",
    "X_new_poly = poly_features.transform(X_new)\n",
    "y_new = lin_reg.predict(X_new_poly)\n",
    "plt.plot(X, y, \"b.\")\n",
    "plt.plot(X_new, y_new, \"r-\", linewidth=2, label=\"Predictions\")\n",
    "plt.xlabel(\"x_1\", fontsize=18)\n",
    "plt.ylabel(\"y\", rotation=0, fontsize=18)\n",
    "plt.legend(loc=\"upper left\", fontsize=14)\n",
    "plt.axis([-3, 3, 0, 10])\n",
    "plt.show()"
   ]
  },
  {
   "cell_type": "code",
   "execution_count": null,
   "id": "16d74844",
   "metadata": {},
   "outputs": [],
   "source": []
  }
 ],
 "metadata": {
  "kernelspec": {
   "display_name": "Python 3",
   "language": "python",
   "name": "python3"
  },
  "language_info": {
   "codemirror_mode": {
    "name": "ipython",
    "version": 3
   },
   "file_extension": ".py",
   "mimetype": "text/x-python",
   "name": "python",
   "nbconvert_exporter": "python",
   "pygments_lexer": "ipython3",
   "version": "3.8.8"
  }
 },
 "nbformat": 4,
 "nbformat_minor": 5
}
