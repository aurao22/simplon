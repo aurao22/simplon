{
 "cells": [
  {
   "cell_type": "markdown",
   "id": "82dfbd85",
   "metadata": {},
   "source": [
    "## Des algorithmes d'apprentissage supervisé les plus importants\n",
    "- Linear Regression\n",
    "- k-Nearest Neighbors\n",
    "- Logistic Regression\n",
    "- Support Vector Machines (SVMs)\n",
    "- Decision Trees and Random Forests\n",
    "- Neural networks"
   ]
  },
  {
   "cell_type": "markdown",
   "id": "b429e84d",
   "metadata": {},
   "source": [
    "https://scikit-learn.org/stable/index.html"
   ]
  },
  {
   "cell_type": "code",
   "execution_count": 4,
   "id": "96337111",
   "metadata": {},
   "outputs": [],
   "source": [
    "import numpy as np\n",
    "import matplotlib.pyplot as plt \n",
    "import numpy.random as rnd\n",
    "import operator\n",
    "from sklearn.preprocessing import PolynomialFeatures\n",
    "from sklearn.metrics import mean_squared_error\n",
    "from sklearn.pipeline import make_pipeline\n",
    "from sklearn.linear_model import LinearRegression\n",
    "from sklearn.model_selection import train_test_split\n",
    "from sklearn.linear_model import Ridge"
   ]
  },
  {
   "cell_type": "code",
   "execution_count": 83,
   "id": "f72cef40",
   "metadata": {},
   "outputs": [],
   "source": [
    "np.random.seed(42)\n",
    "m = 100\n",
    "X = 6 * np.random.rand(m, 1) - 3"
   ]
  },
  {
   "cell_type": "code",
   "execution_count": 76,
   "id": "f666d502",
   "metadata": {},
   "outputs": [],
   "source": [
    "X=pd.DataFrame(X,columns={\"variable\"})"
   ]
  },
  {
   "cell_type": "code",
   "execution_count": 77,
   "id": "f71678b2",
   "metadata": {},
   "outputs": [],
   "source": [
    "X=X.variable.sort_values().values.reshape((m, 1))"
   ]
  },
  {
   "cell_type": "code",
   "execution_count": 78,
   "id": "77beefba",
   "metadata": {},
   "outputs": [],
   "source": [
    "y = 0.5 * X**2 + X + 2 + np.random.randn(m, 1)"
   ]
  },
  {
   "cell_type": "code",
   "execution_count": 79,
   "id": "93c9d387",
   "metadata": {},
   "outputs": [
    {
     "data": {
      "text/plain": [
       "array([-2.9668673])"
      ]
     },
     "execution_count": 79,
     "metadata": {},
     "output_type": "execute_result"
    }
   ],
   "source": [
    "degree = 2\n",
    "poly_features = PolynomialFeatures(degree, include_bias=False)\n",
    "X_poly = poly_features.fit_transform(X)\n",
    "X[0]"
   ]
  },
  {
   "cell_type": "code",
   "execution_count": 80,
   "id": "28446571",
   "metadata": {},
   "outputs": [
    {
     "data": {
      "text/plain": [
       "(array([2.00838435]), array([[1.04370258, 0.4994835 ]]))"
      ]
     },
     "execution_count": 80,
     "metadata": {},
     "output_type": "execute_result"
    }
   ],
   "source": [
    "lin_reg = LinearRegression()\n",
    "lin_reg.fit(X_poly,y)\n",
    "lin_reg.intercept_, lin_reg.coef_"
   ]
  },
  {
   "cell_type": "code",
   "execution_count": 81,
   "id": "e44f0647",
   "metadata": {},
   "outputs": [],
   "source": [
    "poly_t = lin_reg.predict(X_poly)"
   ]
  },
  {
   "cell_type": "code",
   "execution_count": 82,
   "id": "89d780be",
   "metadata": {},
   "outputs": [
    {
     "data": {
      "text/plain": [
       "[<matplotlib.lines.Line2D at 0x1232a949130>]"
      ]
     },
     "execution_count": 82,
     "metadata": {},
     "output_type": "execute_result"
    },
    {
     "data": {
      "image/png": "[encoded data removed]",
      "text/plain": [
       "<Figure size 432x288 with 1 Axes>"
      ]
     },
     "metadata": {
      "needs_background": "light"
     },
     "output_type": "display_data"
    }
   ],
   "source": [
    "X_poly = PolynomialFeatures(2).fit_transform(X)\n",
    "model = LinearRegression().fit(X_poly, y)\n",
    "y_pred = model.predict(X_poly)\n",
    "plt.scatter(X, y)\n",
    "plt.plot(X, y_pred, c='r', lw=3)"
   ]
  },
  {
   "cell_type": "code",
   "execution_count": null,
   "id": "c3a6330f",
   "metadata": {},
   "outputs": [],
   "source": []
  }
 ],
 "metadata": {
  "kernelspec": {
   "display_name": "Python 3",
   "language": "python",
   "name": "python3"
  },
  "language_info": {
   "codemirror_mode": {
    "name": "ipython",
    "version": 3
   },
   "file_extension": ".py",
   "mimetype": "text/x-python",
   "name": "python",
   "nbconvert_exporter": "python",
   "pygments_lexer": "ipython3",
   "version": "3.8.8"
  }
 },
 "nbformat": 4,
 "nbformat_minor": 5
}
