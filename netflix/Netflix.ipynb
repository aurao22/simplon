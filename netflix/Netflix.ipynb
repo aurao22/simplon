{
 "cells": [
  {
   "cell_type": "markdown",
   "id": "fa57348f-a986-4bc1-8b41-4f1e3ac9a363",
   "metadata": {},
   "source": [
    "# NETFLIX \n",
    "by Aurélie RAOUL"
   ]
  },
  {
   "cell_type": "code",
   "execution_count": 63,
   "id": "72aab151-76fc-42d3-8771-6eb07c3abd42",
   "metadata": {},
   "outputs": [],
   "source": [
    "# Import nécessaires\n",
    "from time import time\n",
    "import pandas as pd\n",
    "import numpy as np\n",
    "import matplotlib\n",
    "import seaborn as sns\n",
    "\n",
    "verbose = True"
   ]
  },
  {
   "cell_type": "markdown",
   "id": "5d9c87d5-1350-42fa-95e6-ccc20222c990",
   "metadata": {},
   "source": [
    "## 1. Lecture du fichier"
   ]
  },
  {
   "cell_type": "code",
   "execution_count": 2,
   "id": "97a33423-22cd-4af0-9f44-b874133dd9f3",
   "metadata": {},
   "outputs": [
    {
     "name": "stdout",
     "output_type": "stream",
     "text": [
      "Chargement des données....\n",
      "Chargement des données........ END\n"
     ]
    }
   ],
   "source": [
    "print(\"Chargement des données....\")\n",
    "df = pd.read_csv('netflix_titles.csv', sep=',')\n",
    "print(\"Chargement des données........ END\")"
   ]
  },
  {
   "cell_type": "markdown",
   "id": "38301250-d7eb-4b68-a0ed-4d5047d2af70",
   "metadata": {},
   "source": [
    "## 2. Dimension du dataframe"
   ]
  },
  {
   "cell_type": "code",
   "execution_count": 3,
   "id": "9889de89-d056-4241-ab2a-99a0e9ad2cab",
   "metadata": {},
   "outputs": [
    {
     "name": "stdout",
     "output_type": "stream",
     "text": [
      "Dimension du dataframe (8807, 12)\n"
     ]
    }
   ],
   "source": [
    "print(\"Dimension du dataframe\", df.shape)"
   ]
  },
  {
   "cell_type": "code",
   "execution_count": 4,
   "id": "3a4573c8-3cf9-4b0b-a967-b10648556791",
   "metadata": {},
   "outputs": [
    {
     "name": "stdout",
     "output_type": "stream",
     "text": [
      "Combien par type:\n",
      " Movie      6131\n",
      "TV Show    2676\n",
      "Name: type, dtype: int64\n"
     ]
    }
   ],
   "source": [
    "print(\"Combien par type:\\n\", df[\"type\"].value_counts())"
   ]
  },
  {
   "cell_type": "code",
   "execution_count": 5,
   "id": "c5c8b8f2-b4b7-477e-8a52-81e19534ab8e",
   "metadata": {},
   "outputs": [],
   "source": [
    "def get_nb_of_type(df, type, verbose=False):\n",
    "    \"\"\"\n",
    "    Retourne le nombre d'éléments du type demandé en paramètre\n",
    "    :param df: DataFrame\n",
    "    :param type : String - type recherché\n",
    "    :param verbose : Boolean - True pour mode debug\n",
    "    :return: le nombre d'éléments du type demandé en paramètre\n",
    "    \"\"\"\n",
    "    nb_type = 0\n",
    "    types_count = df[\"type\"].value_counts()\n",
    "    for t,v in types_count.items():\n",
    "        if t == type:\n",
    "            nb_type = v\n",
    "            break\n",
    "    return nb_type"
   ]
  },
  {
   "cell_type": "code",
   "execution_count": 6,
   "id": "17bebe53-7ba9-4161-8675-9bf3dd692dd5",
   "metadata": {},
   "outputs": [
    {
     "name": "stdout",
     "output_type": "stream",
     "text": [
      "Combien y a-t-il de films dans ce jeu de données ? 6131\n"
     ]
    }
   ],
   "source": [
    "print(\"Combien y a-t-il de films dans ce jeu de données ?\", get_nb_of_type(df, \"Movie\", verbose))"
   ]
  },
  {
   "cell_type": "code",
   "execution_count": 7,
   "id": "83af6263-a551-409e-bfd5-f23faff8d1b9",
   "metadata": {},
   "outputs": [
    {
     "name": "stdout",
     "output_type": "stream",
     "text": [
      "Combien y a-t-il de séries ? 2676\n"
     ]
    }
   ],
   "source": [
    "print(\"Combien y a-t-il de séries ?\", get_nb_of_type(df, \"TV Show\", verbose))"
   ]
  },
  {
   "cell_type": "code",
   "execution_count": 8,
   "id": "7fb52c5d-d93e-4aae-8b00-4595e4c98ee5",
   "metadata": {},
   "outputs": [
    {
     "name": "stdout",
     "output_type": "stream",
     "text": [
      "Générer le résumé statistique du dataframe\n",
      "       release_year\n",
      "count   8807.000000\n",
      "mean    2014.180198\n",
      "std        8.819312\n",
      "min     1925.000000\n",
      "25%     2013.000000\n",
      "50%     2017.000000\n",
      "75%     2019.000000\n",
      "max     2021.000000\n"
     ]
    }
   ],
   "source": [
    "print(\"Générer le résumé statistique du dataframe\")\n",
    "print(df.describe())"
   ]
  },
  {
   "cell_type": "markdown",
   "id": "9708f68b-0989-406b-929a-bace2ce59429",
   "metadata": {},
   "source": [
    "## 3. Nettoyge des données"
   ]
  },
  {
   "cell_type": "markdown",
   "id": "35a57cb7-2b44-4439-9de5-8b05a884ddd8",
   "metadata": {},
   "source": [
    "#### 3.1 Correction des types"
   ]
  },
  {
   "cell_type": "code",
   "execution_count": 9,
   "id": "e8c49b87-0cc3-4d73-b1df-fd5f825b4616",
   "metadata": {},
   "outputs": [],
   "source": [
    "def cleanType(df, verbose=False):\n",
    "    \"\"\"\n",
    "    Nettoie et Transforme les types : type, rating, date_added, duration\n",
    "    :param df: DataFrame\n",
    "    :param verbose : Boolean - True pour mode debug\n",
    "    :return: DataFrame - a new clean DataFrame\n",
    "    \"\"\"\n",
    "    print(\"cleanType ....\")\n",
    "    df = df.copy()\n",
    "\n",
    "    # Traitement du type\n",
    "    df[\"type\"] = df[\"type\"].astype('category')\n",
    "\n",
    "    # Traitement du rating\n",
    "    if verbose: print(\"rating : \", df[\"rating\"].unique())\n",
    "    # Il y a un décalage pour certaines notes, donc il faut les corriger avant de changer le type\n",
    "    for rating in df[\"rating\"].unique():\n",
    "        if \" min\" in str(rating):\n",
    "            # Il faut corriger\n",
    "            df.loc[df[\"rating\"] == rating, 'duration'] = rating\n",
    "            df.loc[df[\"rating\"] == rating, 'rating'] = np.nan\n",
    "    if verbose: print(\"rating : \", df[\"rating\"].unique())\n",
    "    # Conversion des notes en catégorie\n",
    "    df[\"rating\"] = df[\"rating\"].astype('category')\n",
    "\n",
    "    # Traitement de la date\n",
    "    df[\"date_added\"] = pd.to_datetime(df['date_added'])\n",
    "\n",
    "    # Traitement de la duration\n",
    "    df[\"duration time\"] = df[\"duration\"].str.replace(' min','')\n",
    "    df[\"duration time\"] = df[\"duration time\"].str.replace(' Seasons', '')\n",
    "    df[\"duration time\"] = df[\"duration time\"].str.replace(' Season', '')\n",
    "    if verbose:\n",
    "        print(df[[\"duration\",\"duration time\"]])\n",
    "        print(df.dtypes)\n",
    "    df[\"duration time\"] = pd.to_numeric(df[\"duration time\"])\n",
    "    print(\"cleanType.................... END\")\n",
    "    if verbose: print(df.dtypes)\n",
    "    return df"
   ]
  },
  {
   "cell_type": "code",
   "execution_count": 10,
   "id": "8d5d7a4b-6834-4e14-a2d9-318aaa76541b",
   "metadata": {},
   "outputs": [
    {
     "name": "stdout",
     "output_type": "stream",
     "text": [
      "show_id         object\n",
      "type            object\n",
      "title           object\n",
      "director        object\n",
      "cast            object\n",
      "country         object\n",
      "date_added      object\n",
      "release_year     int64\n",
      "rating          object\n",
      "duration        object\n",
      "listed_in       object\n",
      "description     object\n",
      "dtype: object\n",
      "cleanType ....\n",
      "rating :  ['PG-13' 'TV-MA' 'PG' 'TV-14' 'TV-PG' 'TV-Y' 'TV-Y7' 'R' 'TV-G' 'G'\n",
      " 'NC-17' '74 min' '84 min' '66 min' 'NR' nan 'TV-Y7-FV' 'UR']\n",
      "rating :  ['PG-13' 'TV-MA' 'PG' 'TV-14' 'TV-PG' 'TV-Y' 'TV-Y7' 'R' 'TV-G' 'G'\n",
      " 'NC-17' nan 'NR' 'TV-Y7-FV' 'UR']\n",
      "       duration duration time\n",
      "0        90 min            90\n",
      "1     2 Seasons             2\n",
      "2      1 Season             1\n",
      "3      1 Season             1\n",
      "4     2 Seasons             2\n",
      "...         ...           ...\n",
      "8802    158 min           158\n",
      "8803  2 Seasons             2\n",
      "8804     88 min            88\n",
      "8805     88 min            88\n",
      "8806    111 min           111\n",
      "\n",
      "[8807 rows x 2 columns]\n",
      "show_id                  object\n",
      "type                   category\n",
      "title                    object\n",
      "director                 object\n",
      "cast                     object\n",
      "country                  object\n",
      "date_added       datetime64[ns]\n",
      "release_year              int64\n",
      "rating                 category\n",
      "duration                 object\n",
      "listed_in                object\n",
      "description              object\n",
      "duration time            object\n",
      "dtype: object\n",
      "cleanType.................... END\n",
      "show_id                  object\n",
      "type                   category\n",
      "title                    object\n",
      "director                 object\n",
      "cast                     object\n",
      "country                  object\n",
      "date_added       datetime64[ns]\n",
      "release_year              int64\n",
      "rating                 category\n",
      "duration                 object\n",
      "listed_in                object\n",
      "description              object\n",
      "duration time             int64\n",
      "dtype: object\n",
      "show_id                  object\n",
      "type                   category\n",
      "title                    object\n",
      "director                 object\n",
      "cast                     object\n",
      "country                  object\n",
      "date_added       datetime64[ns]\n",
      "release_year              int64\n",
      "rating                 category\n",
      "duration                 object\n",
      "listed_in                object\n",
      "description              object\n",
      "duration time             int64\n",
      "dtype: object\n",
      "       release_year  duration time\n",
      "count   8807.000000    8807.000000\n",
      "mean    2014.180198      69.848530\n",
      "std        8.819312      50.806431\n",
      "min     1925.000000       1.000000\n",
      "25%     2013.000000       2.000000\n",
      "50%     2017.000000      88.000000\n",
      "75%     2019.000000     106.000000\n",
      "max     2021.000000     312.000000\n",
      "Compter les valeurs manquantes\n",
      "show_id             0\n",
      "type                0\n",
      "title               0\n",
      "director         2634\n",
      "cast              825\n",
      "country           831\n",
      "date_added         10\n",
      "release_year        0\n",
      "rating              7\n",
      "duration            0\n",
      "listed_in           0\n",
      "description         0\n",
      "duration time       0\n",
      "dtype: int64\n"
     ]
    }
   ],
   "source": [
    "# Correction des types\n",
    "print(df.dtypes)\n",
    "df = cleanType(df, verbose)\n",
    "print(df.dtypes)\n",
    "print(df.describe())\n",
    "print(\"Compter les valeurs manquantes\")\n",
    "print(df.isna().sum())"
   ]
  },
  {
   "cell_type": "markdown",
   "id": "72b27fd6-9972-4996-ad24-d6edc0d322ec",
   "metadata": {},
   "source": [
    "#### 3.2 Traitement des duplicates"
   ]
  },
  {
   "cell_type": "code",
   "execution_count": 11,
   "id": "c603b80e-c81b-4983-8557-cf6f6fa502c4",
   "metadata": {},
   "outputs": [],
   "source": [
    "def cleanDuplicated(df, verbose=False):\n",
    "    \"\"\"\n",
    "    Delete duplicate datas\n",
    "    :param df: DataFrame\n",
    "    :param verbose : Boolean - True pour mode debug\n",
    "    :return: DataFrame - a new clean DataFrame\n",
    "    \"\"\"\n",
    "    print(\"cleanDuplicated ....\")\n",
    "    df = df.copy()\n",
    "    # Existe-t-il des doublons dans ce jeu de données ?\n",
    "    if verbose:\n",
    "        print(df.nunique())\n",
    "        print(df.duplicated())\n",
    "        print(\"df.duplicated().sum() =\", df.duplicated().sum())\n",
    "        print(\"show_id\")\n",
    "        print(df.shape, df[\"show_id\"].nunique())\n",
    "        print(df[\"show_id\"].duplicated().sum())\n",
    "    print(\"cleanDuplicated ................... END\")\n",
    "    return df"
   ]
  },
  {
   "cell_type": "code",
   "execution_count": 12,
   "id": "7720052d-654e-4ce9-a41b-b8d75137e939",
   "metadata": {},
   "outputs": [
    {
     "name": "stdout",
     "output_type": "stream",
     "text": [
      "cleanDuplicated ....\n",
      "show_id          8807\n",
      "type                2\n",
      "title            8807\n",
      "director         4528\n",
      "cast             7692\n",
      "country           748\n",
      "date_added       1714\n",
      "release_year       74\n",
      "rating             14\n",
      "duration          220\n",
      "listed_in         514\n",
      "description      8775\n",
      "duration time     210\n",
      "dtype: int64\n",
      "0       False\n",
      "1       False\n",
      "2       False\n",
      "3       False\n",
      "4       False\n",
      "        ...  \n",
      "8802    False\n",
      "8803    False\n",
      "8804    False\n",
      "8805    False\n",
      "8806    False\n",
      "Length: 8807, dtype: bool\n",
      "df.duplicated().sum() = 0\n",
      "show_id\n",
      "(8807, 13) 8807\n",
      "0\n",
      "cleanDuplicated ................... END\n"
     ]
    }
   ],
   "source": [
    "df = cleanDuplicated(df, verbose)"
   ]
  },
  {
   "cell_type": "markdown",
   "id": "f32f15e8-3ecd-4ad2-9def-5de1e8feb382",
   "metadata": {},
   "source": [
    "#### 3.3 Traitement des données manquantes"
   ]
  },
  {
   "cell_type": "code",
   "execution_count": 13,
   "id": "9da26499-8a36-4a32-b3a1-849c192571c6",
   "metadata": {},
   "outputs": [
    {
     "name": "stdout",
     "output_type": "stream",
     "text": [
      "Sur la colonne des directeurs de production 2634\n",
      "Sur la colonne des acteurs 825\n",
      "Suppression des lignes dupliquées (s'ils existents)\n"
     ]
    }
   ],
   "source": [
    "print(\"Sur la colonne des directeurs de production\", df[\"director\"].isna().sum())\n",
    "print(\"Sur la colonne des acteurs\", df[\"cast\"].isna().sum())\n",
    "print(\"Suppression des lignes dupliquées (s'ils existents)\")"
   ]
  },
  {
   "cell_type": "markdown",
   "id": "fe3e10ba-1282-4019-b6e7-32879399c70e",
   "metadata": {},
   "source": [
    "### Conclusion nettoyage\n",
    "Plusieurs types de données à traiter et plusieurs corrections de données\n",
    "Pas de nettoyage nécessaire sur les doublons ou les données manquantes"
   ]
  },
  {
   "cell_type": "markdown",
   "id": "6d701446-c25c-48ad-8f9a-1b61233ab93b",
   "metadata": {},
   "source": [
    "## 4. Questions\n"
   ]
  },
  {
   "cell_type": "code",
   "execution_count": 15,
   "id": "b3650265-848e-41ac-afe2-eaa34a2c2928",
   "metadata": {},
   "outputs": [],
   "source": [
    "def process_country(df, country, verbose=False):\n",
    "    df = df.copy()\n",
    "    df[country] = df[\"country\"].str.contains(country, case=False)\n",
    "    if verbose:\n",
    "        nb_total = df[country].value_counts()[True]\n",
    "        select = df[df[\"type\"] == \"Movie\"].index.intersection(df[df[country] == True].index)\n",
    "        nb_films = len(select)\n",
    "        select = df[df[\"type\"] == \"TV Show\"].index.intersection(df[df[country] == True].index)\n",
    "        nb_series = len(select)\n",
    "        print(country, \"nb_total :\", nb_total, \" - nb_films :\", nb_films, \" - nb_series :\", nb_series)\n",
    "    return df"
   ]
  },
  {
   "cell_type": "markdown",
   "id": "20248297-bc7f-4b2a-b0ab-8b17431cc1f3",
   "metadata": {},
   "source": [
    "Combien de films/séries ont été produit par les Etats-Unis ? Par la France ?"
   ]
  },
  {
   "cell_type": "code",
   "execution_count": 17,
   "id": "53dcf01f-0d4b-4a07-a2a3-ef3bb4ec371d",
   "metadata": {},
   "outputs": [
    {
     "name": "stdout",
     "output_type": "stream",
     "text": [
      "United States nb_total : 3690  - nb_films : 2752  - nb_series : 938\n",
      "France nb_total : 393  - nb_films : 303  - nb_series : 90\n",
      "Films en colaboration France / Etats Unis : 125\n"
     ]
    }
   ],
   "source": [
    "# Identification des pays via ajout de colonne\n",
    "states = 'United States'\n",
    "france = 'France'\n",
    "\n",
    "df = process_country(df, states, True)\n",
    "df = process_country(df, france, True)\n",
    "\n",
    "# Films en colaboration France / Etats Unis\n",
    "select = df[df[states] == True].index.intersection(df[df[france] == True].index)\n",
    "print(\"Films en colaboration France / Etats Unis :\", len(select.value_counts()))"
   ]
  },
  {
   "cell_type": "markdown",
   "id": "1f8ec760-1a20-435b-af95-be5ecf381d93",
   "metadata": {},
   "source": [
    "Quel est le film avec la durée la plus longue sur Netflix ?"
   ]
  },
  {
   "cell_type": "code",
   "execution_count": 23,
   "id": "754fc5a8-4afd-4774-8c8f-37cb8fb1b9fe",
   "metadata": {},
   "outputs": [
    {
     "name": "stdout",
     "output_type": "stream",
     "text": [
      "le film avec la durée la plus longue ( 312 )\n"
     ]
    },
    {
     "data": {
      "text/html": [
       "<div>\n",
       "<style scoped>\n",
       "    .dataframe tbody tr th:only-of-type {\n",
       "        vertical-align: middle;\n",
       "    }\n",
       "\n",
       "    .dataframe tbody tr th {\n",
       "        vertical-align: top;\n",
       "    }\n",
       "\n",
       "    .dataframe thead th {\n",
       "        text-align: right;\n",
       "    }\n",
       "</style>\n",
       "<table border=\"1\" class=\"dataframe\">\n",
       "  <thead>\n",
       "    <tr style=\"text-align: right;\">\n",
       "      <th></th>\n",
       "      <th>show_id</th>\n",
       "      <th>type</th>\n",
       "      <th>title</th>\n",
       "      <th>director</th>\n",
       "      <th>cast</th>\n",
       "      <th>country</th>\n",
       "      <th>date_added</th>\n",
       "      <th>release_year</th>\n",
       "      <th>rating</th>\n",
       "      <th>duration</th>\n",
       "      <th>listed_in</th>\n",
       "      <th>description</th>\n",
       "      <th>duration time</th>\n",
       "      <th>United States</th>\n",
       "      <th>France</th>\n",
       "    </tr>\n",
       "  </thead>\n",
       "  <tbody>\n",
       "    <tr>\n",
       "      <th>4253</th>\n",
       "      <td>s4254</td>\n",
       "      <td>Movie</td>\n",
       "      <td>Black Mirror: Bandersnatch</td>\n",
       "      <td>NaN</td>\n",
       "      <td>Fionn Whitehead, Will Poulter, Craig Parkinson...</td>\n",
       "      <td>United States</td>\n",
       "      <td>2018-12-28</td>\n",
       "      <td>2018</td>\n",
       "      <td>TV-MA</td>\n",
       "      <td>312 min</td>\n",
       "      <td>Dramas, International Movies, Sci-Fi &amp; Fantasy</td>\n",
       "      <td>In 1984, a young programmer begins to question...</td>\n",
       "      <td>312</td>\n",
       "      <td>True</td>\n",
       "      <td>False</td>\n",
       "    </tr>\n",
       "  </tbody>\n",
       "</table>\n",
       "</div>"
      ],
      "text/plain": [
       "     show_id   type                       title director  \\\n",
       "4253   s4254  Movie  Black Mirror: Bandersnatch      NaN   \n",
       "\n",
       "                                                   cast        country  \\\n",
       "4253  Fionn Whitehead, Will Poulter, Craig Parkinson...  United States   \n",
       "\n",
       "     date_added  release_year rating duration  \\\n",
       "4253 2018-12-28          2018  TV-MA  312 min   \n",
       "\n",
       "                                           listed_in  \\\n",
       "4253  Dramas, International Movies, Sci-Fi & Fantasy   \n",
       "\n",
       "                                            description  duration time  \\\n",
       "4253  In 1984, a young programmer begins to question...            312   \n",
       "\n",
       "     United States France  \n",
       "4253          True  False  "
      ]
     },
     "execution_count": 23,
     "metadata": {},
     "output_type": "execute_result"
    }
   ],
   "source": [
    "select = df[df[\"type\"] == \"Movie\"]\n",
    "duree = select[\"duration time\"].max()\n",
    "print(\"le film avec la durée la plus longue (\", duree, \")\")\n",
    "select[select[\"duration time\"] == duree]"
   ]
  },
  {
   "cell_type": "markdown",
   "id": "9e46198f-3e0a-48e2-b66c-eb25bf270d27",
   "metadata": {},
   "source": [
    "## 5. Etude des catégories avec le plus de contenu"
   ]
  },
  {
   "cell_type": "code",
   "execution_count": 38,
   "id": "761f5da0-d78c-460b-8ed1-2b43c928d359",
   "metadata": {},
   "outputs": [
    {
     "name": "stdout",
     "output_type": "stream",
     "text": [
      "Nb Catégories : 42\n"
     ]
    },
    {
     "data": {
      "text/plain": [
       "{'Documentaries': 869,\n",
       " 'International TV Shows': 1351,\n",
       " 'TV Dramas': 763,\n",
       " 'TV Mysteries': 98,\n",
       " 'Crime TV Shows': 470,\n",
       " 'TV Action & Adventure': 168,\n",
       " 'Docuseries': 395,\n",
       " 'Reality TV': 255,\n",
       " 'Romantic TV Shows': 370,\n",
       " 'TV Comedies': 581,\n",
       " 'TV Horror': 75,\n",
       " 'Children & Family Movies': 641,\n",
       " 'Dramas': 3190,\n",
       " 'Independent Movies': 756,\n",
       " 'International Movies': 2752,\n",
       " 'British TV Shows': 253,\n",
       " 'Comedies': 2255,\n",
       " 'Spanish-Language TV Shows': 174,\n",
       " 'Thrillers': 634,\n",
       " 'Romantic Movies': 616,\n",
       " 'Music & Musicals': 375,\n",
       " 'Horror Movies': 357,\n",
       " 'Sci-Fi & Fantasy': 327,\n",
       " 'TV Thrillers': 57,\n",
       " \"Kids' TV\": 451,\n",
       " 'Action & Adventure': 1027,\n",
       " 'TV Sci-Fi & Fantasy': 84,\n",
       " 'Classic Movies': 116,\n",
       " 'Anime Features': 71,\n",
       " 'Sports Movies': 219,\n",
       " 'Anime Series': 176,\n",
       " 'Korean TV Shows': 151,\n",
       " 'Science & Nature TV': 92,\n",
       " 'Teen TV Shows': 69,\n",
       " 'Cult Movies': 71,\n",
       " 'TV Shows': 1755,\n",
       " 'Faith & Spirituality': 65,\n",
       " 'LGBTQ Movies': 102,\n",
       " 'Stand-Up Comedy': 399,\n",
       " 'Movies': 4502,\n",
       " 'Stand-Up Comedy & Talk Shows': 56,\n",
       " 'Classic & Cult TV': 28}"
      ]
     },
     "execution_count": 38,
     "metadata": {},
     "output_type": "execute_result"
    }
   ],
   "source": [
    "# Construction de la liste des catégories\n",
    "categories_list = {}\n",
    "#if verbose: print(\"listed_in : \", df[\"listed_in\"].unique())\n",
    "for cats_str in df[\"listed_in\"].unique():\n",
    "    cats = cats_str.split(\", \")\n",
    "    for cat in cats:\n",
    "        if cat not in categories_list:\n",
    "            # comptage du nombre d'élément par catégorie\n",
    "            nb = count_categorie(df, cat, verbose)\n",
    "            categories_list[cat] = nb\n",
    "print(\"Nb Catégories :\", len(categories_list))\n",
    "#print(\"Catégories :\", categories_list)\n",
    "categories_list"
   ]
  },
  {
   "cell_type": "code",
   "execution_count": 48,
   "id": "2f2695f9-dfd7-4157-b062-552d59cfb997",
   "metadata": {},
   "outputs": [],
   "source": [
    "def count_unique_data(df, column_name, cat, verbose=False):\n",
    "    nb_total = 0\n",
    "    serie = df[column_name].str.contains(cat, case=False)\n",
    "    nb_total = serie.value_counts()[True]\n",
    "    return nb_total\n",
    "\n",
    "\n",
    "def get_unique_data(df, column_name, verbose=False):\n",
    "    categories_list = {}\n",
    "    categories_by_size = {}\n",
    "    max = 0\n",
    "    if verbose: print(column_name, \" : \", df[column_name].unique())\n",
    "    for cats_str in df[column_name].unique():\n",
    "        if cats_str is None or cats_str == np.nan or type(cats_str) != str:\n",
    "            continue\n",
    "        cats = cats_str.split(\", \")\n",
    "        for cat in cats:\n",
    "            if cat not in categories_list:\n",
    "                # comptage du nombre d'élément par catégorie\n",
    "                nb = count_unique_data(df, column_name, cat, verbose)\n",
    "                categories_list[cat] = nb\n",
    "                if not categories_by_size.get(nb, False):\n",
    "                    categories_by_size[nb] = []\n",
    "                categories_by_size[nb].append(cat)\n",
    "                if verbose:\n",
    "                    print(cat,\" : \" , nb)\n",
    "                if nb > max:\n",
    "                    max = nb\n",
    "    return categories_list, categories_by_size, max"
   ]
  },
  {
   "cell_type": "markdown",
   "id": "49297596-e617-4137-83c0-974e9ad29dae",
   "metadata": {},
   "source": [
    "### 5.1 Etude des catégories avec le plus de contenu."
   ]
  },
  {
   "cell_type": "code",
   "execution_count": 64,
   "id": "2195597f-ae06-4443-8799-eacbbe2ddef7",
   "metadata": {},
   "outputs": [
    {
     "name": "stdout",
     "output_type": "stream",
     "text": [
      "Catégories avec le plus de contenus : ['Movies'] avec : 4502 contenus\n",
      "4502  pour  ['Movies']\n",
      "3190  pour  ['Dramas']\n",
      "2752  pour  ['International Movies']\n",
      "2255  pour  ['Comedies']\n",
      "1755  pour  ['TV Shows']\n",
      "1351  pour  ['International TV Shows']\n",
      "1027  pour  ['Action & Adventure']\n",
      "869  pour  ['Documentaries']\n",
      "763  pour  ['TV Dramas']\n",
      "756  pour  ['Independent Movies']\n",
      "641  pour  ['Children & Family Movies']\n",
      "634  pour  ['Thrillers']\n",
      "616  pour  ['Romantic Movies']\n",
      "581  pour  ['TV Comedies']\n",
      "470  pour  ['Crime TV Shows']\n",
      "451  pour  [\"Kids' TV\"]\n",
      "399  pour  ['Stand-Up Comedy']\n",
      "395  pour  ['Docuseries']\n",
      "375  pour  ['Music & Musicals']\n",
      "370  pour  ['Romantic TV Shows']\n",
      "357  pour  ['Horror Movies']\n",
      "327  pour  ['Sci-Fi & Fantasy']\n",
      "255  pour  ['Reality TV']\n",
      "253  pour  ['British TV Shows']\n",
      "219  pour  ['Sports Movies']\n",
      "176  pour  ['Anime Series']\n",
      "174  pour  ['Spanish-Language TV Shows']\n",
      "168  pour  ['TV Action & Adventure']\n",
      "151  pour  ['Korean TV Shows']\n",
      "116  pour  ['Classic Movies']\n",
      "102  pour  ['LGBTQ Movies']\n",
      "98  pour  ['TV Mysteries']\n",
      "92  pour  ['Science & Nature TV']\n",
      "84  pour  ['TV Sci-Fi & Fantasy']\n",
      "75  pour  ['TV Horror']\n",
      "71  pour  ['Anime Features', 'Cult Movies']\n",
      "69  pour  ['Teen TV Shows']\n",
      "65  pour  ['Faith & Spirituality']\n",
      "57  pour  ['TV Thrillers']\n",
      "56  pour  ['Stand-Up Comedy & Talk Shows']\n",
      "28  pour  ['Classic & Cult TV']\n"
     ]
    }
   ],
   "source": [
    "verbose = False\n",
    "# Construction de la liste des catégories\n",
    "t0 = time()\n",
    "categories_list, categories_by_size, max2 = get_unique_data(df, \"listed_in\", verbose)\n",
    "t1 = time() - t0\n",
    "#print(\"Catégories :\", categories_list)\n",
    "print(\"Catégories avec le plus de contenus :\", categories_by_size[max2], \"avec :\", max2, \"contenus\")\n",
    "# # La catégorie \"Movies\" n'est pas intéressante\n",
    "# categories_by_size.pop(max2, None)\n",
    "# max_after_movie = max(categories_by_size.keys())\n",
    "# print(max_after_movie)\n",
    "# print(categories_by_size)\n",
    "# print(categories_by_size[max_after_movie])\n",
    "keys = sorted(categories_by_size.keys(), reverse=True)\n",
    "for k in keys:\n",
    "    print(k, \" pour \", categories_by_size[k])"
   ]
  },
  {
   "cell_type": "markdown",
   "id": "8ebb1426-5d37-49b6-b23a-6fc92ff4420d",
   "metadata": {},
   "source": [
    "La catégorie \"Movies\" n'est pas intéressante, possibilité de supprimer cette donnée par la suite si besoin"
   ]
  },
  {
   "cell_type": "markdown",
   "id": "ccf9b9ec-8352-42f1-92e5-74bc36681a1b",
   "metadata": {},
   "source": [
    "### 5.2 Quels directeurs ont produit le plus de films/séries disponibles sur Netflix ?"
   ]
  },
  {
   "cell_type": "code",
   "execution_count": 61,
   "id": "4067158a-d9bb-4c45-9f8a-db5bd8f156e5",
   "metadata": {},
   "outputs": [
    {
     "name": "stdout",
     "output_type": "stream",
     "text": [
      "Nb directors : 4993\n",
      "Directors avec le plus de contenus : ['Ram'] avec : 78 contenus\n",
      "78  pour  ['Ram']\n",
      "22  pour  ['Rajiv Chilaka']\n",
      "21  pour  ['Jan Suter']\n",
      "20  pour  ['Raúl Campos']\n",
      "16  pour  ['Suhas Kadav', 'Marcus Raboy']\n"
     ]
    }
   ],
   "source": [
    "verbose = False\n",
    "t0 = time()\n",
    "# Construction de la liste des catégories\n",
    "directors_list, directors_by_size, max_dir = get_unique_data(df, \"director\", verbose)\n",
    "t1 = time() - t0\n",
    "print(\"Nb directors :\", len(directors_list), '{0:.3f} secondes'.format(t1))\n",
    "print(\"Directors avec le plus de contenus :\", directors_list[max_dir], \"avec :\", max_dir, \"contenus\")\n",
    "keys = sorted(directors_by_size.keys(), reverse=True)\n",
    "\n",
    "# Pour éviter de tout afficher\n",
    "i = 5\n",
    "if verbose:\n",
    "    i = len(keys)\n",
    "for k in keys:\n",
    "    print(k, \" pour \", directors_by_size[k])\n",
    "    i -= 1\n",
    "    if i == 0:\n",
    "        break"
   ]
  },
  {
   "cell_type": "markdown",
   "id": "26cae705-fa27-43ab-ae60-5a7098733e6a",
   "metadata": {},
   "source": [
    "### 5.3. Est-ce que Jan Suter travaille souvent avec les mêmes acteurs ?"
   ]
  },
  {
   "cell_type": "code",
   "execution_count": 67,
   "id": "29752048-ef65-47b1-9867-bd466a0dc908",
   "metadata": {},
   "outputs": [
    {
     "name": "stdout",
     "output_type": "stream",
     "text": [
      "Est-ce que Jan Suter travaille souvent avec les mêmes acteurs ?\n",
      "Nb actors : 22 0.044 secondes\n",
      "Directors avec le plus de contenus : ['Carlos Ballarta', 'Sofía Niño de Rivera'] avec : 3 contenus\n",
      "3  pour  ['Carlos Ballarta', 'Sofía Niño de Rivera']\n",
      "2  pour  [\"Ricardo O'Farrill\"]\n",
      "1  pour  ['Coco Celis', 'Raúl Meneses', 'Luciano Mellera', 'Jani Dueñas', 'Fernando Sanjiao', 'Lucas Lauriente', 'Malena Pichot', 'Natalia Valdebenito', 'Sebastián Marcelo Wainraich', 'Ricardo Quevedo', 'Julián Arango', 'Antonio Sanint', 'Alexis de Anda', 'Alex Fernández', 'Alan Saldaña', 'Manu NNa', 'Daniel Sosa', 'Chumel Torres', 'Marissa \"Chabe\" Lozano']\n"
     ]
    }
   ],
   "source": [
    "verbose = False\n",
    "print(\"Est-ce que Jan Suter travaille souvent avec les mêmes acteurs ?\")\n",
    "director_name = \"Jan Suter\"\n",
    "df = df.copy()\n",
    "if verbose:\n",
    "    print(\"james_suter - BEFORE drop\", df.shape)\n",
    "df = df.dropna(subset=[\"director\"])\n",
    "if verbose:\n",
    "    print(\"james_suter - AFTER drop\", df.shape)\n",
    "select = df[df[\"director\"].str.contains(director_name, case=False)]\n",
    "t0 = time()\n",
    "# Construction de la liste des catégories\n",
    "actors_list, actors_by_size, max_dir = get_unique_data(select, \"cast\", verbose)\n",
    "t1 = time() - t0\n",
    "print(\"Nb actors :\", len(actors_list), 'in {0:.3f} secondes'.format(t1))\n",
    "print(\"Directors avec le plus de contenus :\", actors_by_size[max_dir], \"avec :\", max_dir, \"contenus\")\n",
    "keys = sorted(actors_by_size.keys(), reverse=True)\n",
    "\n",
    "for k in keys:\n",
    "    print(k, \" pour \", actors_by_size[k])"
   ]
  },
  {
   "cell_type": "markdown",
   "id": "79689d95-f69a-4939-a5d8-00573a25b2a9",
   "metadata": {},
   "source": [
    "Est-ce que Jan Suter travaille souvent avec les mêmes acteurs ?"
   ]
  },
  {
   "cell_type": "markdown",
   "id": "4f81b6ae-de29-49be-962e-e9fc8a03e18d",
   "metadata": {},
   "source": [
    "Combien de films/séries ont été produit par les Etats-Unis ? Par la France ?"
   ]
  },
  {
   "cell_type": "markdown",
   "id": "9b4508be-ec4b-46c3-aab2-0169338f4e2c",
   "metadata": {},
   "source": [
    "Combien de films/séries ont été produit par les Etats-Unis ? Par la France ?"
   ]
  }
 ],
 "metadata": {
  "kernelspec": {
   "display_name": "Python 3",
   "language": "python",
   "name": "python3"
  },
  "language_info": {
   "codemirror_mode": {
    "name": "ipython",
    "version": 3
   },
   "file_extension": ".py",
   "mimetype": "text/x-python",
   "name": "python",
   "nbconvert_exporter": "python",
   "pygments_lexer": "ipython3",
   "version": "3.8.8"
  }
 },
 "nbformat": 4,
 "nbformat_minor": 5
}
