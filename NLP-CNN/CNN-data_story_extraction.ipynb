{
 "cells": [
  {
   "cell_type": "markdown",
   "metadata": {},
   "source": [
    "<div style=\"display: flex; background-color: RGB(255,114,0); padding: 30px;\" >\n",
    "\n",
    "# CNN\n",
    "</div>\n",
    "\n",
    "* Créer des paires de document (article, highlights)\n",
    "* Suppression de la ponctuation\n",
    "* Séparation en token en minuscules\n",
    "* Suppression des stopwords pour les articles\n",
    "* Calcul des fréquences et tf-idf sur les deux types de documents\n",
    "* Enregistrement du nouveau jeu de données d’entraînement pour usage ultérieur\n",
    "\n",
    "Vous êtes allé jusqu'au bout ? Vérifiez-bien que vous avez les éléments suivants :\n",
    "\n",
    "* le texte final est tokenisé sans ponctuation et en minuscules à l’aide d’une regex ;\n",
    "* tous les documents ont été transformés en matrices de valeurs tf-idf calculées sur les paires (articles, highlight)."
   ]
  },
  {
   "cell_type": "markdown",
   "metadata": {},
   "source": [
    "<div style=\"display: flex; background-color: Blue; padding: 15px;\" >\n",
    "\n",
    "# Chargement"
   ]
  },
  {
   "cell_type": "code",
   "execution_count": 1,
   "metadata": {},
   "outputs": [],
   "source": [
    "import pandas as pd\n",
    "import numpy as np\n",
    "import seaborn as sns\n",
    "import matplotlib.pyplot as plt\n",
    "from matplotlib.ticker import FuncFormatter\n",
    "from os import getcwd, listdir\n",
    "from os.path import isfile, join\n",
    "import bs4\n",
    "import nltk\n",
    "from ara_nlp_function import *\n",
    "from collections import defaultdict\n",
    "import sys\n",
    "sys.path.append(\"C:\\\\Users\\\\User\\\\WORK\\\\workspace-ia\\\\PERSO\\\\\")\n",
    "from ara_commons.ara_file import *"
   ]
  },
  {
   "cell_type": "code",
   "execution_count": 2,
   "metadata": {},
   "outputs": [],
   "source": [
    "# import nltk\n",
    "# nltk.download('punkt')\n",
    "# nltk.download('stopwords')\n",
    "# nltk.download('wordnet')\n",
    "# nltk.download('averaged_perceptron_tagger')\n",
    "# nltk.download('maxent_ne_chunker')\n",
    "# nltk.download('words')\n",
    "# nltk.download('omw-1.4')"
   ]
  },
  {
   "cell_type": "code",
   "execution_count": 3,
   "metadata": {},
   "outputs": [
    {
     "data": {
      "text/plain": [
       "'c:\\\\Users\\\\User\\\\WORK\\\\workspace-ia\\\\simplon\\\\2022-02-4470541-analysez-vos-donnees-textuelles\\\\cnn2\\\\'"
      ]
     },
     "execution_count": 3,
     "metadata": {},
     "output_type": "execute_result"
    }
   ],
   "source": [
    "# ---------------------------------------------------------------------------------------------\n",
    "#                               MAIN\n",
    "# ---------------------------------------------------------------------------------------------\n",
    "verbose = False\n",
    "verboseMain = False\n",
    "\n",
    "# Récupère le répertoire du programme\n",
    "file_path = getcwd() + \"\\\\\"\n",
    "data_path = file_path+\"cnn2\\\\\"\n",
    "data_path"
   ]
  },
  {
   "cell_type": "code",
   "execution_count": 4,
   "metadata": {},
   "outputs": [
    {
     "data": {
      "text/plain": [
       "['cnn-story (1).story',\n",
       " 'cnn-story (10).story',\n",
       " 'cnn-story (11).story',\n",
       " 'cnn-story (2).story',\n",
       " 'cnn-story (3).story',\n",
       " 'cnn-story (4).story',\n",
       " 'cnn-story (5).story',\n",
       " 'cnn-story (6).story',\n",
       " 'cnn-story (7).story',\n",
       " 'cnn-story (8).story',\n",
       " 'cnn-story (9).story']"
      ]
     },
     "execution_count": 4,
     "metadata": {},
     "output_type": "execute_result"
    }
   ],
   "source": [
    "fichiers = [f for f in listdir(data_path) if isfile(join(data_path, f)) and f.endswith(\".story\")]\n",
    "fichiers"
   ]
  },
  {
   "cell_type": "code",
   "execution_count": 5,
   "metadata": {},
   "outputs": [],
   "source": [
    "def get_data_from_page(file_path):\n",
    "  \n",
    "    highlights = []\n",
    "    sentences = \"\"\n",
    "    try:\n",
    "        # Ouvrir le fichier en lecture seule\n",
    "        file = open(file_path, \"r\")\n",
    "        # utiliser readlines pour lire toutes les lignes du fichier\n",
    "        # La variable \"lignes\" est une liste contenant toutes les lignes du fichier\n",
    "        datas = file.read()\n",
    "\n",
    "        dat = datas.split(\"@highlight\")\n",
    "        sentences = dat[0].strip()\n",
    "        sentences = sentences.split(\"(CNN) -- \")\n",
    "        if len(sentences) > 1:\n",
    "            sentences = sentences[1]\n",
    "        else:\n",
    "            sentences = sentences[0]\n",
    "        # Itérer sur les lignes\n",
    "        for i in range (1, len(dat)):\n",
    "            \n",
    "            hig = dat[i].strip()\n",
    "            if len(hig)>0:\n",
    "                highlights.append(hig)\n",
    "    except Exception as error:\n",
    "        print(file_path, error)\n",
    "    finally:\n",
    "        try:\n",
    "            # fermez le fichier après avoir lu les lignes\n",
    "            file.close()\n",
    "        except:\n",
    "            pass\n",
    "        \n",
    "    return (highlights, sentences)"
   ]
  },
  {
   "cell_type": "code",
   "execution_count": 6,
   "metadata": {},
   "outputs": [],
   "source": [
    "df_origin = pd.DataFrame(columns=['file','highlights','sentences'])"
   ]
  },
  {
   "cell_type": "code",
   "execution_count": 7,
   "metadata": {},
   "outputs": [
    {
     "name": "stdout",
     "output_type": "stream",
     "text": [
      "(11, 3)\n"
     ]
    },
    {
     "data": {
      "text/html": [
       "<div>\n",
       "<style scoped>\n",
       "    .dataframe tbody tr th:only-of-type {\n",
       "        vertical-align: middle;\n",
       "    }\n",
       "\n",
       "    .dataframe tbody tr th {\n",
       "        vertical-align: top;\n",
       "    }\n",
       "\n",
       "    .dataframe thead th {\n",
       "        text-align: right;\n",
       "    }\n",
       "</style>\n",
       "<table border=\"1\" class=\"dataframe\">\n",
       "  <thead>\n",
       "    <tr style=\"text-align: right;\">\n",
       "      <th></th>\n",
       "      <th>file</th>\n",
       "      <th>highlights</th>\n",
       "      <th>sentences</th>\n",
       "    </tr>\n",
       "  </thead>\n",
       "  <tbody>\n",
       "    <tr>\n",
       "      <th>0</th>\n",
       "      <td>cnn-story (1).story</td>\n",
       "      <td>[Rory McIlroy shoots a course record at the Sc...</td>\n",
       "      <td>Rory McIlroy is off to a good start at the Sco...</td>\n",
       "    </tr>\n",
       "    <tr>\n",
       "      <th>1</th>\n",
       "      <td>cnn-story (10).story</td>\n",
       "      <td>[Africa Fashion Week London was held from Augu...</td>\n",
       "      <td>Loud music pumps through huge speakers, front ...</td>\n",
       "    </tr>\n",
       "    <tr>\n",
       "      <th>2</th>\n",
       "      <td>cnn-story (11).story</td>\n",
       "      <td>[Mao proved to be good at fighting but poor at...</td>\n",
       "      <td>Soon after I first came to visit China in the ...</td>\n",
       "    </tr>\n",
       "    <tr>\n",
       "      <th>3</th>\n",
       "      <td>cnn-story (2).story</td>\n",
       "      <td>[Dean Obeidallah: A movie or TV show can educa...</td>\n",
       "      <td>Can a movie actually convince you to support t...</td>\n",
       "    </tr>\n",
       "    <tr>\n",
       "      <th>4</th>\n",
       "      <td>cnn-story (3).story</td>\n",
       "      <td>[Math geeks and others celebrate Pi Day every ...</td>\n",
       "      <td>March 14 is my favorite day to be a nerd.\\n\\nA...</td>\n",
       "    </tr>\n",
       "  </tbody>\n",
       "</table>\n",
       "</div>"
      ],
      "text/plain": [
       "                   file                                         highlights  \\\n",
       "0   cnn-story (1).story  [Rory McIlroy shoots a course record at the Sc...   \n",
       "1  cnn-story (10).story  [Africa Fashion Week London was held from Augu...   \n",
       "2  cnn-story (11).story  [Mao proved to be good at fighting but poor at...   \n",
       "3   cnn-story (2).story  [Dean Obeidallah: A movie or TV show can educa...   \n",
       "4   cnn-story (3).story  [Math geeks and others celebrate Pi Day every ...   \n",
       "\n",
       "                                           sentences  \n",
       "0  Rory McIlroy is off to a good start at the Sco...  \n",
       "1  Loud music pumps through huge speakers, front ...  \n",
       "2  Soon after I first came to visit China in the ...  \n",
       "3  Can a movie actually convince you to support t...  \n",
       "4  March 14 is my favorite day to be a nerd.\\n\\nA...  "
      ]
     },
     "execution_count": 7,
     "metadata": {},
     "output_type": "execute_result"
    }
   ],
   "source": [
    "for file in fichiers:\n",
    "    try:\n",
    "        highlights, sentences = get_data_from_page(data_path+file)\n",
    "        new_row = {'file':file,'highlights':highlights, 'sentences':sentences}\n",
    "        df_origin = df_origin.append(new_row,ignore_index=True, verify_integrity=False)\n",
    "    except Exception as error:\n",
    "        print(error)\n",
    "print(df_origin.shape)\n",
    "df_origin.head()"
   ]
  },
  {
   "cell_type": "markdown",
   "metadata": {},
   "source": [
    "<div style=\"display: flex; background-color: Blue; padding: 15px;\" >\n",
    "\n",
    "# NLP pre-processing MANUEL\n",
    "\n",
    "</div>"
   ]
  },
  {
   "cell_type": "markdown",
   "metadata": {},
   "source": [
    "<div style=\"display: flex; background-color: Green; padding: 7px;\" >\n",
    "\n",
    "## Version 1\n",
    "</div>"
   ]
  },
  {
   "cell_type": "code",
   "execution_count": 8,
   "metadata": {},
   "outputs": [],
   "source": [
    "df_token = token_data(df_origin, 'sentences', \"v1_\")"
   ]
  },
  {
   "cell_type": "code",
   "execution_count": 9,
   "metadata": {},
   "outputs": [
    {
     "data": {
      "text/plain": [
       "4     [march, 14, is, my, favorite, day, to, be, a, ...\n",
       "2     [soon, after, i, first, came, to, visit, china...\n",
       "9     [twitter, is, on, the, verge, of, its, initial...\n",
       "8     [the, white, house, wednesday, said, it, was, ...\n",
       "3     [can, a, movie, actually, convince, you, to, s...\n",
       "5     [families, of, chinese, passengers, on, board,...\n",
       "1     [loud, music, pumps, through, huge, speakers, ...\n",
       "10    [the, man, suspected, of, trying, to, attack, ...\n",
       "0     [rory, mcilroy, is, off, to, a, good, start, a...\n",
       "6     [the, u, n, security, council, approved, a, re...\n",
       "7     [a, bipartisan, group, of, women, senators, wa...\n",
       "Name: v1_tokens, dtype: object"
      ]
     },
     "execution_count": 9,
     "metadata": {},
     "output_type": "execute_result"
    }
   ],
   "source": [
    "df_token[\"v1_tokens\"]"
   ]
  },
  {
   "cell_type": "code",
   "execution_count": 10,
   "metadata": {},
   "outputs": [
    {
     "data": {
      "text/plain": [
       "4     {'march': 4, '14': 11, 'is': 19, 'my': 1, 'fav...\n",
       "2     {'soon': 2, 'after': 4, 'i': 4, 'first': 4, 'c...\n",
       "9     {'twitter': 8, 'is': 16, 'on': 6, 'the': 41, '...\n",
       "8     {'the': 50, 'white': 11, 'house': 11, 'wednesd...\n",
       "3     {'can': 8, 'a': 15, 'movie': 6, 'actually': 1,...\n",
       "5     {'families': 7, 'of': 18, 'chinese': 10, 'pass...\n",
       "1     {'loud': 1, 'music': 1, 'pumps': 1, 'through':...\n",
       "10    {'the': 64, 'man': 3, 'suspected': 1, 'of': 15...\n",
       "0     {'rory': 1, 'mcilroy': 7, 'is': 3, 'off': 2, '...\n",
       "6     {'the': 24, 'u': 2, 'n': 2, 'security': 3, 'co...\n",
       "7     {'a': 11, 'bipartisan': 1, 'group': 1, 'of': 5...\n",
       "Name: v1_freq, dtype: object"
      ]
     },
     "execution_count": 10,
     "metadata": {},
     "output_type": "execute_result"
    }
   ],
   "source": [
    "# Premièrement, on récupère la fréquence totale de chaque mot sur tout le corpus d'artistes\n",
    "df_token[\"v1_freq\"]"
   ]
  },
  {
   "cell_type": "code",
   "execution_count": 11,
   "metadata": {},
   "outputs": [
    {
     "data": {
      "text/plain": [
       "Index(['file', 'highlights', 'sentences', 'v1_tokens', 'v1_word_count',\n",
       "       'v1_freq', 'v1_unique_word_count'],\n",
       "      dtype='object')"
      ]
     },
     "execution_count": 11,
     "metadata": {},
     "output_type": "execute_result"
    }
   ],
   "source": [
    "df_token.columns"
   ]
  },
  {
   "cell_type": "code",
   "execution_count": 12,
   "metadata": {},
   "outputs": [
    {
     "data": {
      "image/png": "[encoded data removed]",
      "text/plain": [
       "<Figure size 432x288 with 1 Axes>"
      ]
     },
     "metadata": {
      "needs_background": "light"
     },
     "output_type": "display_data"
    }
   ],
   "source": [
    "df_token = df_token.sort_values(by=[\"v1_word_count\"], ascending=False)\n",
    "df_token.plot(kind='bar', x='file', y=\"v1_word_count\", title='Nombre de mots par article',legend=None)\n",
    "plt.ylabel(\"Nombre de mots\")\n",
    "plt.xlabel(\"\")\n",
    "plt.xticks(rotation=45, ha=\"right\")\n",
    "plt.show()"
   ]
  },
  {
   "cell_type": "code",
   "execution_count": 13,
   "metadata": {},
   "outputs": [
    {
     "data": {
      "text/html": [
       "<div>\n",
       "<style scoped>\n",
       "    .dataframe tbody tr th:only-of-type {\n",
       "        vertical-align: middle;\n",
       "    }\n",
       "\n",
       "    .dataframe tbody tr th {\n",
       "        vertical-align: top;\n",
       "    }\n",
       "\n",
       "    .dataframe thead th {\n",
       "        text-align: right;\n",
       "    }\n",
       "</style>\n",
       "<table border=\"1\" class=\"dataframe\">\n",
       "  <thead>\n",
       "    <tr style=\"text-align: right;\">\n",
       "      <th></th>\n",
       "      <th>v1_word_count</th>\n",
       "      <th>v1_unique_word_count</th>\n",
       "    </tr>\n",
       "  </thead>\n",
       "  <tbody>\n",
       "    <tr>\n",
       "      <th>4</th>\n",
       "      <td>1236</td>\n",
       "      <td>533</td>\n",
       "    </tr>\n",
       "    <tr>\n",
       "      <th>2</th>\n",
       "      <td>1033</td>\n",
       "      <td>523</td>\n",
       "    </tr>\n",
       "    <tr>\n",
       "      <th>9</th>\n",
       "      <td>1001</td>\n",
       "      <td>488</td>\n",
       "    </tr>\n",
       "    <tr>\n",
       "      <th>8</th>\n",
       "      <td>915</td>\n",
       "      <td>394</td>\n",
       "    </tr>\n",
       "    <tr>\n",
       "      <th>3</th>\n",
       "      <td>752</td>\n",
       "      <td>360</td>\n",
       "    </tr>\n",
       "    <tr>\n",
       "      <th>1</th>\n",
       "      <td>661</td>\n",
       "      <td>326</td>\n",
       "    </tr>\n",
       "    <tr>\n",
       "      <th>5</th>\n",
       "      <td>632</td>\n",
       "      <td>328</td>\n",
       "    </tr>\n",
       "    <tr>\n",
       "      <th>10</th>\n",
       "      <td>530</td>\n",
       "      <td>261</td>\n",
       "    </tr>\n",
       "    <tr>\n",
       "      <th>0</th>\n",
       "      <td>366</td>\n",
       "      <td>201</td>\n",
       "    </tr>\n",
       "    <tr>\n",
       "      <th>6</th>\n",
       "      <td>231</td>\n",
       "      <td>142</td>\n",
       "    </tr>\n",
       "    <tr>\n",
       "      <th>7</th>\n",
       "      <td>223</td>\n",
       "      <td>138</td>\n",
       "    </tr>\n",
       "  </tbody>\n",
       "</table>\n",
       "</div>"
      ],
      "text/plain": [
       "    v1_word_count  v1_unique_word_count\n",
       "4            1236                   533\n",
       "2            1033                   523\n",
       "9            1001                   488\n",
       "8             915                   394\n",
       "3             752                   360\n",
       "1             661                   326\n",
       "5             632                   328\n",
       "10            530                   261\n",
       "0             366                   201\n",
       "6             231                   142\n",
       "7             223                   138"
      ]
     },
     "execution_count": 13,
     "metadata": {},
     "output_type": "execute_result"
    }
   ],
   "source": [
    "df_token[[\"v1_word_count\", \"v1_unique_word_count\"]]"
   ]
  },
  {
   "cell_type": "code",
   "execution_count": 14,
   "metadata": {},
   "outputs": [
    {
     "data": {
      "image/png": "[encoded data removed]",
      "text/plain": [
       "<Figure size 432x288 with 1 Axes>"
      ]
     },
     "metadata": {
      "needs_background": "light"
     },
     "output_type": "display_data"
    }
   ],
   "source": [
    "ax = df_token.plot(kind='bar', x='file', y=\"v1_word_count\", title='Nombre de mots par article')\n",
    "df_token.plot(y=\"v1_unique_word_count\", x='file', kind=\"bar\", ax=ax, color=\"red\")\n",
    "plt.ylabel(\"Nombre de mots\")\n",
    "plt.xlabel(\"\")\n",
    "plt.xticks(rotation=45, ha=\"right\")\n",
    "plt.show()"
   ]
  },
  {
   "cell_type": "code",
   "execution_count": 15,
   "metadata": {},
   "outputs": [
    {
     "data": {
      "text/html": [
       "<div>\n",
       "<style scoped>\n",
       "    .dataframe tbody tr th:only-of-type {\n",
       "        vertical-align: middle;\n",
       "    }\n",
       "\n",
       "    .dataframe tbody tr th {\n",
       "        vertical-align: top;\n",
       "    }\n",
       "\n",
       "    .dataframe thead th {\n",
       "        text-align: right;\n",
       "    }\n",
       "</style>\n",
       "<table border=\"1\" class=\"dataframe\">\n",
       "  <thead>\n",
       "    <tr style=\"text-align: right;\">\n",
       "      <th></th>\n",
       "      <th>file</th>\n",
       "      <th>highlights</th>\n",
       "      <th>sentences</th>\n",
       "      <th>v1_tokens</th>\n",
       "      <th>v1_word_count</th>\n",
       "      <th>v1_freq</th>\n",
       "      <th>v1_unique_word_count</th>\n",
       "    </tr>\n",
       "  </thead>\n",
       "  <tbody>\n",
       "    <tr>\n",
       "      <th>4</th>\n",
       "      <td>cnn-story (3).story</td>\n",
       "      <td>[Math geeks and others celebrate Pi Day every ...</td>\n",
       "      <td>March 14 is my favorite day to be a nerd.\\n\\nA...</td>\n",
       "      <td>[march, 14, is, my, favorite, day, to, be, a, ...</td>\n",
       "      <td>1236</td>\n",
       "      <td>{'march': 4, '14': 11, 'is': 19, 'my': 1, 'fav...</td>\n",
       "      <td>533</td>\n",
       "    </tr>\n",
       "    <tr>\n",
       "      <th>2</th>\n",
       "      <td>cnn-story (11).story</td>\n",
       "      <td>[Mao proved to be good at fighting but poor at...</td>\n",
       "      <td>Soon after I first came to visit China in the ...</td>\n",
       "      <td>[soon, after, i, first, came, to, visit, china...</td>\n",
       "      <td>1033</td>\n",
       "      <td>{'soon': 2, 'after': 4, 'i': 4, 'first': 4, 'c...</td>\n",
       "      <td>523</td>\n",
       "    </tr>\n",
       "    <tr>\n",
       "      <th>9</th>\n",
       "      <td>cnn-story (8).story</td>\n",
       "      <td>[Soraya Chemaly: Twitter, on verge of IPO, is ...</td>\n",
       "      <td>Twitter is on the verge of its initial public ...</td>\n",
       "      <td>[twitter, is, on, the, verge, of, its, initial...</td>\n",
       "      <td>1001</td>\n",
       "      <td>{'twitter': 8, 'is': 16, 'on': 6, 'the': 41, '...</td>\n",
       "      <td>488</td>\n",
       "    </tr>\n",
       "    <tr>\n",
       "      <th>8</th>\n",
       "      <td>cnn-story (7).story</td>\n",
       "      <td>[NEW: \"This is not the Scott we knew,\" White H...</td>\n",
       "      <td>The White House Wednesday said it was \"puzzled...</td>\n",
       "      <td>[the, white, house, wednesday, said, it, was, ...</td>\n",
       "      <td>915</td>\n",
       "      <td>{'the': 50, 'white': 11, 'house': 11, 'wednesd...</td>\n",
       "      <td>394</td>\n",
       "    </tr>\n",
       "    <tr>\n",
       "      <th>3</th>\n",
       "      <td>cnn-story (2).story</td>\n",
       "      <td>[Dean Obeidallah: A movie or TV show can educa...</td>\n",
       "      <td>Can a movie actually convince you to support t...</td>\n",
       "      <td>[can, a, movie, actually, convince, you, to, s...</td>\n",
       "      <td>752</td>\n",
       "      <td>{'can': 8, 'a': 15, 'movie': 6, 'actually': 1,...</td>\n",
       "      <td>360</td>\n",
       "    </tr>\n",
       "  </tbody>\n",
       "</table>\n",
       "</div>"
      ],
      "text/plain": [
       "                   file                                         highlights  \\\n",
       "4   cnn-story (3).story  [Math geeks and others celebrate Pi Day every ...   \n",
       "2  cnn-story (11).story  [Mao proved to be good at fighting but poor at...   \n",
       "9   cnn-story (8).story  [Soraya Chemaly: Twitter, on verge of IPO, is ...   \n",
       "8   cnn-story (7).story  [NEW: \"This is not the Scott we knew,\" White H...   \n",
       "3   cnn-story (2).story  [Dean Obeidallah: A movie or TV show can educa...   \n",
       "\n",
       "                                           sentences  \\\n",
       "4  March 14 is my favorite day to be a nerd.\\n\\nA...   \n",
       "2  Soon after I first came to visit China in the ...   \n",
       "9  Twitter is on the verge of its initial public ...   \n",
       "8  The White House Wednesday said it was \"puzzled...   \n",
       "3  Can a movie actually convince you to support t...   \n",
       "\n",
       "                                           v1_tokens  v1_word_count  \\\n",
       "4  [march, 14, is, my, favorite, day, to, be, a, ...           1236   \n",
       "2  [soon, after, i, first, came, to, visit, china...           1033   \n",
       "9  [twitter, is, on, the, verge, of, its, initial...           1001   \n",
       "8  [the, white, house, wednesday, said, it, was, ...            915   \n",
       "3  [can, a, movie, actually, convince, you, to, s...            752   \n",
       "\n",
       "                                             v1_freq  v1_unique_word_count  \n",
       "4  {'march': 4, '14': 11, 'is': 19, 'my': 1, 'fav...                   533  \n",
       "2  {'soon': 2, 'after': 4, 'i': 4, 'first': 4, 'c...                   523  \n",
       "9  {'twitter': 8, 'is': 16, 'on': 6, 'the': 41, '...                   488  \n",
       "8  {'the': 50, 'white': 11, 'house': 11, 'wednesd...                   394  \n",
       "3  {'can': 8, 'a': 15, 'movie': 6, 'actually': 1,...                   360  "
      ]
     },
     "execution_count": 15,
     "metadata": {},
     "output_type": "execute_result"
    }
   ],
   "source": [
    "df_token.head()"
   ]
  },
  {
   "cell_type": "markdown",
   "metadata": {},
   "source": [
    "<div style=\"display: flex; background-color: Blue; padding: 15px;\" >\n",
    "\n",
    "# NLP pre-processing"
   ]
  },
  {
   "cell_type": "code",
   "execution_count": 17,
   "metadata": {},
   "outputs": [],
   "source": [
    "# import nltk\n",
    "# nltk.download('punkt') => Déjà fait\n",
    "# nltk.download('stopwords')\n",
    "# nltk.download('wordnet')\n",
    "# nltk.download('averaged_perceptron_tagger')\n",
    "# nltk.download('maxent_ne_chunker')\n",
    "# nltk.download('words')"
   ]
  },
  {
   "cell_type": "code",
   "execution_count": 18,
   "metadata": {},
   "outputs": [],
   "source": [
    "df_nlp = df_token.copy()"
   ]
  },
  {
   "cell_type": "code",
   "execution_count": 19,
   "metadata": {},
   "outputs": [
    {
     "data": {
      "text/plain": [
       "Index(['file', 'highlights', 'sentences', 'v1_tokens', 'v1_word_count',\n",
       "       'v1_freq', 'v1_unique_word_count'],\n",
       "      dtype='object')"
      ]
     },
     "execution_count": 19,
     "metadata": {},
     "output_type": "execute_result"
    }
   ],
   "source": [
    "df_nlp.columns"
   ]
  },
  {
   "cell_type": "code",
   "execution_count": null,
   "metadata": {},
   "outputs": [],
   "source": []
  },
  {
   "cell_type": "markdown",
   "metadata": {},
   "source": [
    "<div style=\"display: flex; background-color: Green; padding: 7px;\" >\n",
    "\n",
    "## NLP - Text Pre-Processing I (Text Cleaning)\n",
    "</div>\n",
    "\n",
    "1. Conversion to Lower Case\n",
    "2. Removing HTML-Tags\n",
    "3. Removing URLs\n",
    "4. Removing Accented Characters\n",
    "5. Removing Punctuation\n",
    "6. Removing irrelevant Characters (Numbers and Punctuation)\n",
    "7. Removing extra Whitespaces\n",
    "8. Extra: Count Words\n",
    "9. Extra: Expanding Contractions"
   ]
  },
  {
   "cell_type": "code",
   "execution_count": 20,
   "metadata": {},
   "outputs": [
    {
     "data": {
      "text/html": [
       "<div>\n",
       "<style scoped>\n",
       "    .dataframe tbody tr th:only-of-type {\n",
       "        vertical-align: middle;\n",
       "    }\n",
       "\n",
       "    .dataframe tbody tr th {\n",
       "        vertical-align: top;\n",
       "    }\n",
       "\n",
       "    .dataframe thead th {\n",
       "        text-align: right;\n",
       "    }\n",
       "</style>\n",
       "<table border=\"1\" class=\"dataframe\">\n",
       "  <thead>\n",
       "    <tr style=\"text-align: right;\">\n",
       "      <th></th>\n",
       "      <th>file</th>\n",
       "      <th>highlights</th>\n",
       "      <th>sentences</th>\n",
       "      <th>v1_tokens</th>\n",
       "      <th>v1_word_count</th>\n",
       "      <th>v1_freq</th>\n",
       "      <th>v1_unique_word_count</th>\n",
       "      <th>v2_clean_sentences</th>\n",
       "    </tr>\n",
       "  </thead>\n",
       "  <tbody>\n",
       "    <tr>\n",
       "      <th>4</th>\n",
       "      <td>cnn-story (3).story</td>\n",
       "      <td>[Math geeks and others celebrate Pi Day every ...</td>\n",
       "      <td>March 14 is my favorite day to be a nerd.\\n\\nA...</td>\n",
       "      <td>[march, 14, is, my, favorite, day, to, be, a, ...</td>\n",
       "      <td>1236</td>\n",
       "      <td>{'march': 4, '14': 11, 'is': 19, 'my': 1, 'fav...</td>\n",
       "      <td>533</td>\n",
       "      <td>march 14 is my favorite day to be a nerd acros...</td>\n",
       "    </tr>\n",
       "    <tr>\n",
       "      <th>2</th>\n",
       "      <td>cnn-story (11).story</td>\n",
       "      <td>[Mao proved to be good at fighting but poor at...</td>\n",
       "      <td>Soon after I first came to visit China in the ...</td>\n",
       "      <td>[soon, after, i, first, came, to, visit, china...</td>\n",
       "      <td>1033</td>\n",
       "      <td>{'soon': 2, 'after': 4, 'i': 4, 'first': 4, 'c...</td>\n",
       "      <td>523</td>\n",
       "      <td>soon after i first came to visit china in the ...</td>\n",
       "    </tr>\n",
       "    <tr>\n",
       "      <th>9</th>\n",
       "      <td>cnn-story (8).story</td>\n",
       "      <td>[Soraya Chemaly: Twitter, on verge of IPO, is ...</td>\n",
       "      <td>Twitter is on the verge of its initial public ...</td>\n",
       "      <td>[twitter, is, on, the, verge, of, its, initial...</td>\n",
       "      <td>1001</td>\n",
       "      <td>{'twitter': 8, 'is': 16, 'on': 6, 'the': 41, '...</td>\n",
       "      <td>488</td>\n",
       "      <td>twitter is on the verge of its initial public ...</td>\n",
       "    </tr>\n",
       "    <tr>\n",
       "      <th>8</th>\n",
       "      <td>cnn-story (7).story</td>\n",
       "      <td>[NEW: \"This is not the Scott we knew,\" White H...</td>\n",
       "      <td>The White House Wednesday said it was \"puzzled...</td>\n",
       "      <td>[the, white, house, wednesday, said, it, was, ...</td>\n",
       "      <td>915</td>\n",
       "      <td>{'the': 50, 'white': 11, 'house': 11, 'wednesd...</td>\n",
       "      <td>394</td>\n",
       "      <td>the white house wednesday said it was puzzled ...</td>\n",
       "    </tr>\n",
       "    <tr>\n",
       "      <th>3</th>\n",
       "      <td>cnn-story (2).story</td>\n",
       "      <td>[Dean Obeidallah: A movie or TV show can educa...</td>\n",
       "      <td>Can a movie actually convince you to support t...</td>\n",
       "      <td>[can, a, movie, actually, convince, you, to, s...</td>\n",
       "      <td>752</td>\n",
       "      <td>{'can': 8, 'a': 15, 'movie': 6, 'actually': 1,...</td>\n",
       "      <td>360</td>\n",
       "      <td>can a movie actually convince you to support t...</td>\n",
       "    </tr>\n",
       "  </tbody>\n",
       "</table>\n",
       "</div>"
      ],
      "text/plain": [
       "                   file                                         highlights  \\\n",
       "4   cnn-story (3).story  [Math geeks and others celebrate Pi Day every ...   \n",
       "2  cnn-story (11).story  [Mao proved to be good at fighting but poor at...   \n",
       "9   cnn-story (8).story  [Soraya Chemaly: Twitter, on verge of IPO, is ...   \n",
       "8   cnn-story (7).story  [NEW: \"This is not the Scott we knew,\" White H...   \n",
       "3   cnn-story (2).story  [Dean Obeidallah: A movie or TV show can educa...   \n",
       "\n",
       "                                           sentences  \\\n",
       "4  March 14 is my favorite day to be a nerd.\\n\\nA...   \n",
       "2  Soon after I first came to visit China in the ...   \n",
       "9  Twitter is on the verge of its initial public ...   \n",
       "8  The White House Wednesday said it was \"puzzled...   \n",
       "3  Can a movie actually convince you to support t...   \n",
       "\n",
       "                                           v1_tokens  v1_word_count  \\\n",
       "4  [march, 14, is, my, favorite, day, to, be, a, ...           1236   \n",
       "2  [soon, after, i, first, came, to, visit, china...           1033   \n",
       "9  [twitter, is, on, the, verge, of, its, initial...           1001   \n",
       "8  [the, white, house, wednesday, said, it, was, ...            915   \n",
       "3  [can, a, movie, actually, convince, you, to, s...            752   \n",
       "\n",
       "                                             v1_freq  v1_unique_word_count  \\\n",
       "4  {'march': 4, '14': 11, 'is': 19, 'my': 1, 'fav...                   533   \n",
       "2  {'soon': 2, 'after': 4, 'i': 4, 'first': 4, 'c...                   523   \n",
       "9  {'twitter': 8, 'is': 16, 'on': 6, 'the': 41, '...                   488   \n",
       "8  {'the': 50, 'white': 11, 'house': 11, 'wednesd...                   394   \n",
       "3  {'can': 8, 'a': 15, 'movie': 6, 'actually': 1,...                   360   \n",
       "\n",
       "                                  v2_clean_sentences  \n",
       "4  march 14 is my favorite day to be a nerd acros...  \n",
       "2  soon after i first came to visit china in the ...  \n",
       "9  twitter is on the verge of its initial public ...  \n",
       "8  the white house wednesday said it was puzzled ...  \n",
       "3  can a movie actually convince you to support t...  "
      ]
     },
     "execution_count": 20,
     "metadata": {},
     "output_type": "execute_result"
    }
   ],
   "source": [
    "df_nlp['v2_clean_sentences'] = df_nlp['sentences'].str.lower()\n",
    "df_nlp['v2_clean_sentences'] = df_nlp['v2_clean_sentences'].apply(remove_html_tags_func)\n",
    "df_nlp['v2_clean_sentences'] = df_nlp['v2_clean_sentences'].apply(remove_url_func)\n",
    "df_nlp['v2_clean_sentences'] = df_nlp['v2_clean_sentences'].apply(remove_accented_chars_func)\n",
    "df_nlp['v2_clean_sentences'] = df_nlp['v2_clean_sentences'].apply(remove_punctuation_func)\n",
    "# df_nlp['v2_clean_sentences'] = df_nlp['v2_clean_sentences'].apply(remove_irr_char_func)\n",
    "df_nlp['v2_clean_sentences'] = df_nlp['v2_clean_sentences'].apply(remove_extra_whitespaces_func)\n",
    "\n",
    "df_nlp.head()"
   ]
  },
  {
   "cell_type": "code",
   "execution_count": 21,
   "metadata": {},
   "outputs": [],
   "source": [
    "df_nlp = token_data(df_nlp, 'v2_clean_sentences', \"v2_\")"
   ]
  },
  {
   "cell_type": "code",
   "execution_count": 22,
   "metadata": {},
   "outputs": [
    {
     "data": {
      "text/html": [
       "<div>\n",
       "<style scoped>\n",
       "    .dataframe tbody tr th:only-of-type {\n",
       "        vertical-align: middle;\n",
       "    }\n",
       "\n",
       "    .dataframe tbody tr th {\n",
       "        vertical-align: top;\n",
       "    }\n",
       "\n",
       "    .dataframe thead th {\n",
       "        text-align: right;\n",
       "    }\n",
       "</style>\n",
       "<table border=\"1\" class=\"dataframe\">\n",
       "  <thead>\n",
       "    <tr style=\"text-align: right;\">\n",
       "      <th></th>\n",
       "      <th>file</th>\n",
       "      <th>highlights</th>\n",
       "      <th>sentences</th>\n",
       "      <th>v1_tokens</th>\n",
       "      <th>v1_word_count</th>\n",
       "      <th>v1_freq</th>\n",
       "      <th>v1_unique_word_count</th>\n",
       "      <th>v2_clean_sentences</th>\n",
       "      <th>v2_tokens</th>\n",
       "      <th>v2_word_count</th>\n",
       "      <th>v2_freq</th>\n",
       "      <th>v2_unique_word_count</th>\n",
       "    </tr>\n",
       "  </thead>\n",
       "  <tbody>\n",
       "    <tr>\n",
       "      <th>4</th>\n",
       "      <td>cnn-story (3).story</td>\n",
       "      <td>[Math geeks and others celebrate Pi Day every ...</td>\n",
       "      <td>March 14 is my favorite day to be a nerd.\\n\\nA...</td>\n",
       "      <td>[march, 14, is, my, favorite, day, to, be, a, ...</td>\n",
       "      <td>1236</td>\n",
       "      <td>{'march': 4, '14': 11, 'is': 19, 'my': 1, 'fav...</td>\n",
       "      <td>533</td>\n",
       "      <td>march 14 is my favorite day to be a nerd acros...</td>\n",
       "      <td>[march, 14, is, my, favorite, day, to, be, a, ...</td>\n",
       "      <td>1236</td>\n",
       "      <td>{'march': 4, '14': 11, 'is': 19, 'my': 1, 'fav...</td>\n",
       "      <td>533</td>\n",
       "    </tr>\n",
       "    <tr>\n",
       "      <th>2</th>\n",
       "      <td>cnn-story (11).story</td>\n",
       "      <td>[Mao proved to be good at fighting but poor at...</td>\n",
       "      <td>Soon after I first came to visit China in the ...</td>\n",
       "      <td>[soon, after, i, first, came, to, visit, china...</td>\n",
       "      <td>1033</td>\n",
       "      <td>{'soon': 2, 'after': 4, 'i': 4, 'first': 4, 'c...</td>\n",
       "      <td>523</td>\n",
       "      <td>soon after i first came to visit china in the ...</td>\n",
       "      <td>[soon, after, i, first, came, to, visit, china...</td>\n",
       "      <td>1033</td>\n",
       "      <td>{'soon': 2, 'after': 4, 'i': 4, 'first': 4, 'c...</td>\n",
       "      <td>522</td>\n",
       "    </tr>\n",
       "    <tr>\n",
       "      <th>9</th>\n",
       "      <td>cnn-story (8).story</td>\n",
       "      <td>[Soraya Chemaly: Twitter, on verge of IPO, is ...</td>\n",
       "      <td>Twitter is on the verge of its initial public ...</td>\n",
       "      <td>[twitter, is, on, the, verge, of, its, initial...</td>\n",
       "      <td>1001</td>\n",
       "      <td>{'twitter': 8, 'is': 16, 'on': 6, 'the': 41, '...</td>\n",
       "      <td>488</td>\n",
       "      <td>twitter is on the verge of its initial public ...</td>\n",
       "      <td>[twitter, is, on, the, verge, of, its, initial...</td>\n",
       "      <td>1001</td>\n",
       "      <td>{'twitter': 8, 'is': 16, 'on': 6, 'the': 41, '...</td>\n",
       "      <td>488</td>\n",
       "    </tr>\n",
       "    <tr>\n",
       "      <th>8</th>\n",
       "      <td>cnn-story (7).story</td>\n",
       "      <td>[NEW: \"This is not the Scott we knew,\" White H...</td>\n",
       "      <td>The White House Wednesday said it was \"puzzled...</td>\n",
       "      <td>[the, white, house, wednesday, said, it, was, ...</td>\n",
       "      <td>915</td>\n",
       "      <td>{'the': 50, 'white': 11, 'house': 11, 'wednesd...</td>\n",
       "      <td>394</td>\n",
       "      <td>the white house wednesday said it was puzzled ...</td>\n",
       "      <td>[the, white, house, wednesday, said, it, was, ...</td>\n",
       "      <td>915</td>\n",
       "      <td>{'the': 50, 'white': 11, 'house': 11, 'wednesd...</td>\n",
       "      <td>393</td>\n",
       "    </tr>\n",
       "    <tr>\n",
       "      <th>3</th>\n",
       "      <td>cnn-story (2).story</td>\n",
       "      <td>[Dean Obeidallah: A movie or TV show can educa...</td>\n",
       "      <td>Can a movie actually convince you to support t...</td>\n",
       "      <td>[can, a, movie, actually, convince, you, to, s...</td>\n",
       "      <td>752</td>\n",
       "      <td>{'can': 8, 'a': 15, 'movie': 6, 'actually': 1,...</td>\n",
       "      <td>360</td>\n",
       "      <td>can a movie actually convince you to support t...</td>\n",
       "      <td>[can, a, movie, actually, convince, you, to, s...</td>\n",
       "      <td>752</td>\n",
       "      <td>{'can': 8, 'a': 15, 'movie': 6, 'actually': 1,...</td>\n",
       "      <td>360</td>\n",
       "    </tr>\n",
       "  </tbody>\n",
       "</table>\n",
       "</div>"
      ],
      "text/plain": [
       "                   file                                         highlights  \\\n",
       "4   cnn-story (3).story  [Math geeks and others celebrate Pi Day every ...   \n",
       "2  cnn-story (11).story  [Mao proved to be good at fighting but poor at...   \n",
       "9   cnn-story (8).story  [Soraya Chemaly: Twitter, on verge of IPO, is ...   \n",
       "8   cnn-story (7).story  [NEW: \"This is not the Scott we knew,\" White H...   \n",
       "3   cnn-story (2).story  [Dean Obeidallah: A movie or TV show can educa...   \n",
       "\n",
       "                                           sentences  \\\n",
       "4  March 14 is my favorite day to be a nerd.\\n\\nA...   \n",
       "2  Soon after I first came to visit China in the ...   \n",
       "9  Twitter is on the verge of its initial public ...   \n",
       "8  The White House Wednesday said it was \"puzzled...   \n",
       "3  Can a movie actually convince you to support t...   \n",
       "\n",
       "                                           v1_tokens  v1_word_count  \\\n",
       "4  [march, 14, is, my, favorite, day, to, be, a, ...           1236   \n",
       "2  [soon, after, i, first, came, to, visit, china...           1033   \n",
       "9  [twitter, is, on, the, verge, of, its, initial...           1001   \n",
       "8  [the, white, house, wednesday, said, it, was, ...            915   \n",
       "3  [can, a, movie, actually, convince, you, to, s...            752   \n",
       "\n",
       "                                             v1_freq  v1_unique_word_count  \\\n",
       "4  {'march': 4, '14': 11, 'is': 19, 'my': 1, 'fav...                   533   \n",
       "2  {'soon': 2, 'after': 4, 'i': 4, 'first': 4, 'c...                   523   \n",
       "9  {'twitter': 8, 'is': 16, 'on': 6, 'the': 41, '...                   488   \n",
       "8  {'the': 50, 'white': 11, 'house': 11, 'wednesd...                   394   \n",
       "3  {'can': 8, 'a': 15, 'movie': 6, 'actually': 1,...                   360   \n",
       "\n",
       "                                  v2_clean_sentences  \\\n",
       "4  march 14 is my favorite day to be a nerd acros...   \n",
       "2  soon after i first came to visit china in the ...   \n",
       "9  twitter is on the verge of its initial public ...   \n",
       "8  the white house wednesday said it was puzzled ...   \n",
       "3  can a movie actually convince you to support t...   \n",
       "\n",
       "                                           v2_tokens  v2_word_count  \\\n",
       "4  [march, 14, is, my, favorite, day, to, be, a, ...           1236   \n",
       "2  [soon, after, i, first, came, to, visit, china...           1033   \n",
       "9  [twitter, is, on, the, verge, of, its, initial...           1001   \n",
       "8  [the, white, house, wednesday, said, it, was, ...            915   \n",
       "3  [can, a, movie, actually, convince, you, to, s...            752   \n",
       "\n",
       "                                             v2_freq  v2_unique_word_count  \n",
       "4  {'march': 4, '14': 11, 'is': 19, 'my': 1, 'fav...                   533  \n",
       "2  {'soon': 2, 'after': 4, 'i': 4, 'first': 4, 'c...                   522  \n",
       "9  {'twitter': 8, 'is': 16, 'on': 6, 'the': 41, '...                   488  \n",
       "8  {'the': 50, 'white': 11, 'house': 11, 'wednesd...                   393  \n",
       "3  {'can': 8, 'a': 15, 'movie': 6, 'actually': 1,...                   360  "
      ]
     },
     "execution_count": 22,
     "metadata": {},
     "output_type": "execute_result"
    }
   ],
   "source": [
    "df_nlp.head()"
   ]
  },
  {
   "cell_type": "code",
   "execution_count": 23,
   "metadata": {},
   "outputs": [
    {
     "name": "stdout",
     "output_type": "stream",
     "text": [
      "Average of words counted: \n",
      " - V1 : 689.0909090909091\n",
      " - V2 : 689.0909090909091\n",
      "Average of words unique counted: \n",
      " - V1 : 335.8181818181818\n",
      " - V2 : 335.54545454545456\n"
     ]
    },
    {
     "data": {
      "text/html": [
       "<div>\n",
       "<style scoped>\n",
       "    .dataframe tbody tr th:only-of-type {\n",
       "        vertical-align: middle;\n",
       "    }\n",
       "\n",
       "    .dataframe tbody tr th {\n",
       "        vertical-align: top;\n",
       "    }\n",
       "\n",
       "    .dataframe thead th {\n",
       "        text-align: right;\n",
       "    }\n",
       "</style>\n",
       "<table border=\"1\" class=\"dataframe\">\n",
       "  <thead>\n",
       "    <tr style=\"text-align: right;\">\n",
       "      <th></th>\n",
       "      <th>file</th>\n",
       "      <th>highlights</th>\n",
       "      <th>sentences</th>\n",
       "      <th>v1_tokens</th>\n",
       "      <th>v1_word_count</th>\n",
       "      <th>v1_freq</th>\n",
       "      <th>v1_unique_word_count</th>\n",
       "      <th>v2_clean_sentences</th>\n",
       "      <th>v2_tokens</th>\n",
       "      <th>v2_word_count</th>\n",
       "      <th>v2_freq</th>\n",
       "      <th>v2_unique_word_count</th>\n",
       "    </tr>\n",
       "  </thead>\n",
       "  <tbody>\n",
       "    <tr>\n",
       "      <th>4</th>\n",
       "      <td>cnn-story (3).story</td>\n",
       "      <td>[Math geeks and others celebrate Pi Day every ...</td>\n",
       "      <td>March 14 is my favorite day to be a nerd.\\n\\nA...</td>\n",
       "      <td>[march, 14, is, my, favorite, day, to, be, a, ...</td>\n",
       "      <td>1236</td>\n",
       "      <td>{'march': 4, '14': 11, 'is': 19, 'my': 1, 'fav...</td>\n",
       "      <td>533</td>\n",
       "      <td>march 14 is my favorite day to be a nerd acros...</td>\n",
       "      <td>[march, 14, is, my, favorite, day, to, be, a, ...</td>\n",
       "      <td>1236</td>\n",
       "      <td>{'march': 4, '14': 11, 'is': 19, 'my': 1, 'fav...</td>\n",
       "      <td>533</td>\n",
       "    </tr>\n",
       "    <tr>\n",
       "      <th>2</th>\n",
       "      <td>cnn-story (11).story</td>\n",
       "      <td>[Mao proved to be good at fighting but poor at...</td>\n",
       "      <td>Soon after I first came to visit China in the ...</td>\n",
       "      <td>[soon, after, i, first, came, to, visit, china...</td>\n",
       "      <td>1033</td>\n",
       "      <td>{'soon': 2, 'after': 4, 'i': 4, 'first': 4, 'c...</td>\n",
       "      <td>523</td>\n",
       "      <td>soon after i first came to visit china in the ...</td>\n",
       "      <td>[soon, after, i, first, came, to, visit, china...</td>\n",
       "      <td>1033</td>\n",
       "      <td>{'soon': 2, 'after': 4, 'i': 4, 'first': 4, 'c...</td>\n",
       "      <td>522</td>\n",
       "    </tr>\n",
       "    <tr>\n",
       "      <th>9</th>\n",
       "      <td>cnn-story (8).story</td>\n",
       "      <td>[Soraya Chemaly: Twitter, on verge of IPO, is ...</td>\n",
       "      <td>Twitter is on the verge of its initial public ...</td>\n",
       "      <td>[twitter, is, on, the, verge, of, its, initial...</td>\n",
       "      <td>1001</td>\n",
       "      <td>{'twitter': 8, 'is': 16, 'on': 6, 'the': 41, '...</td>\n",
       "      <td>488</td>\n",
       "      <td>twitter is on the verge of its initial public ...</td>\n",
       "      <td>[twitter, is, on, the, verge, of, its, initial...</td>\n",
       "      <td>1001</td>\n",
       "      <td>{'twitter': 8, 'is': 16, 'on': 6, 'the': 41, '...</td>\n",
       "      <td>488</td>\n",
       "    </tr>\n",
       "    <tr>\n",
       "      <th>8</th>\n",
       "      <td>cnn-story (7).story</td>\n",
       "      <td>[NEW: \"This is not the Scott we knew,\" White H...</td>\n",
       "      <td>The White House Wednesday said it was \"puzzled...</td>\n",
       "      <td>[the, white, house, wednesday, said, it, was, ...</td>\n",
       "      <td>915</td>\n",
       "      <td>{'the': 50, 'white': 11, 'house': 11, 'wednesd...</td>\n",
       "      <td>394</td>\n",
       "      <td>the white house wednesday said it was puzzled ...</td>\n",
       "      <td>[the, white, house, wednesday, said, it, was, ...</td>\n",
       "      <td>915</td>\n",
       "      <td>{'the': 50, 'white': 11, 'house': 11, 'wednesd...</td>\n",
       "      <td>393</td>\n",
       "    </tr>\n",
       "    <tr>\n",
       "      <th>3</th>\n",
       "      <td>cnn-story (2).story</td>\n",
       "      <td>[Dean Obeidallah: A movie or TV show can educa...</td>\n",
       "      <td>Can a movie actually convince you to support t...</td>\n",
       "      <td>[can, a, movie, actually, convince, you, to, s...</td>\n",
       "      <td>752</td>\n",
       "      <td>{'can': 8, 'a': 15, 'movie': 6, 'actually': 1,...</td>\n",
       "      <td>360</td>\n",
       "      <td>can a movie actually convince you to support t...</td>\n",
       "      <td>[can, a, movie, actually, convince, you, to, s...</td>\n",
       "      <td>752</td>\n",
       "      <td>{'can': 8, 'a': 15, 'movie': 6, 'actually': 1,...</td>\n",
       "      <td>360</td>\n",
       "    </tr>\n",
       "  </tbody>\n",
       "</table>\n",
       "</div>"
      ],
      "text/plain": [
       "                   file                                         highlights  \\\n",
       "4   cnn-story (3).story  [Math geeks and others celebrate Pi Day every ...   \n",
       "2  cnn-story (11).story  [Mao proved to be good at fighting but poor at...   \n",
       "9   cnn-story (8).story  [Soraya Chemaly: Twitter, on verge of IPO, is ...   \n",
       "8   cnn-story (7).story  [NEW: \"This is not the Scott we knew,\" White H...   \n",
       "3   cnn-story (2).story  [Dean Obeidallah: A movie or TV show can educa...   \n",
       "\n",
       "                                           sentences  \\\n",
       "4  March 14 is my favorite day to be a nerd.\\n\\nA...   \n",
       "2  Soon after I first came to visit China in the ...   \n",
       "9  Twitter is on the verge of its initial public ...   \n",
       "8  The White House Wednesday said it was \"puzzled...   \n",
       "3  Can a movie actually convince you to support t...   \n",
       "\n",
       "                                           v1_tokens  v1_word_count  \\\n",
       "4  [march, 14, is, my, favorite, day, to, be, a, ...           1236   \n",
       "2  [soon, after, i, first, came, to, visit, china...           1033   \n",
       "9  [twitter, is, on, the, verge, of, its, initial...           1001   \n",
       "8  [the, white, house, wednesday, said, it, was, ...            915   \n",
       "3  [can, a, movie, actually, convince, you, to, s...            752   \n",
       "\n",
       "                                             v1_freq  v1_unique_word_count  \\\n",
       "4  {'march': 4, '14': 11, 'is': 19, 'my': 1, 'fav...                   533   \n",
       "2  {'soon': 2, 'after': 4, 'i': 4, 'first': 4, 'c...                   523   \n",
       "9  {'twitter': 8, 'is': 16, 'on': 6, 'the': 41, '...                   488   \n",
       "8  {'the': 50, 'white': 11, 'house': 11, 'wednesd...                   394   \n",
       "3  {'can': 8, 'a': 15, 'movie': 6, 'actually': 1,...                   360   \n",
       "\n",
       "                                  v2_clean_sentences  \\\n",
       "4  march 14 is my favorite day to be a nerd acros...   \n",
       "2  soon after i first came to visit china in the ...   \n",
       "9  twitter is on the verge of its initial public ...   \n",
       "8  the white house wednesday said it was puzzled ...   \n",
       "3  can a movie actually convince you to support t...   \n",
       "\n",
       "                                           v2_tokens  v2_word_count  \\\n",
       "4  [march, 14, is, my, favorite, day, to, be, a, ...           1236   \n",
       "2  [soon, after, i, first, came, to, visit, china...           1033   \n",
       "9  [twitter, is, on, the, verge, of, its, initial...           1001   \n",
       "8  [the, white, house, wednesday, said, it, was, ...            915   \n",
       "3  [can, a, movie, actually, convince, you, to, s...            752   \n",
       "\n",
       "                                             v2_freq  v2_unique_word_count  \n",
       "4  {'march': 4, '14': 11, 'is': 19, 'my': 1, 'fav...                   533  \n",
       "2  {'soon': 2, 'after': 4, 'i': 4, 'first': 4, 'c...                   522  \n",
       "9  {'twitter': 8, 'is': 16, 'on': 6, 'the': 41, '...                   488  \n",
       "8  {'the': 50, 'white': 11, 'house': 11, 'wednesd...                   393  \n",
       "3  {'can': 8, 'a': 15, 'movie': 6, 'actually': 1,...                   360  "
      ]
     },
     "execution_count": 23,
     "metadata": {},
     "output_type": "execute_result"
    }
   ],
   "source": [
    "print('Average of words counted: ')\n",
    "print(' - V1 : ' + str(df_nlp['v1_word_count'].mean()))\n",
    "print(' - V2 : ' + str(df_nlp['v2_word_count'].mean()))\n",
    "print('Average of words unique counted: ')\n",
    "print(' - V1 : ' + str(df_nlp['v1_unique_word_count'].mean()))\n",
    "print(' - V2 : ' + str(df_nlp['v2_unique_word_count'].mean()))\n",
    "df_nlp.head()\n"
   ]
  },
  {
   "cell_type": "code",
   "execution_count": 24,
   "metadata": {},
   "outputs": [
    {
     "data": {
      "text/plain": [
       "Index(['file', 'highlights', 'sentences', 'v1_tokens', 'v1_word_count',\n",
       "       'v1_freq', 'v1_unique_word_count', 'v2_clean_sentences', 'v2_tokens',\n",
       "       'v2_word_count', 'v2_freq', 'v2_unique_word_count'],\n",
       "      dtype='object')"
      ]
     },
     "execution_count": 24,
     "metadata": {},
     "output_type": "execute_result"
    }
   ],
   "source": [
    "df_nlp.columns"
   ]
  },
  {
   "cell_type": "code",
   "execution_count": 25,
   "metadata": {},
   "outputs": [
    {
     "data": {
      "text/plain": [
       "(3, 3)"
      ]
     },
     "execution_count": 25,
     "metadata": {},
     "output_type": "execute_result"
    }
   ],
   "source": [
    "df_diff = df_nlp.loc[df_nlp['v1_unique_word_count'] != df_nlp['v2_unique_word_count'], ['file', 'sentences', 'v2_clean_sentences']]\n",
    "df_diff.shape"
   ]
  },
  {
   "cell_type": "markdown",
   "metadata": {},
   "source": [
    "<div style=\"display: flex; background-color: Green; padding: 7px;\" >\n",
    "\n",
    "## NLP - Text Pre-Processing II (Tokenization and Stop Words)\n",
    "</div>\n",
    "\n",
    "1. (Text Cleaning)\n",
    "1. Tokenization\n",
    "   1. Word Tokenizer\n",
    "   1. Sentence Tokenizer\n",
    "   1. Application to the Example String\n",
    "   1. Application to the DataFrame\n",
    "1. Stop Words\n",
    "   1. Application to the Example String\n",
    "   1. Application to the DataFrame\n"
   ]
  },
  {
   "cell_type": "code",
   "execution_count": 26,
   "metadata": {},
   "outputs": [
    {
     "data": {
      "text/html": [
       "<div>\n",
       "<style scoped>\n",
       "    .dataframe tbody tr th:only-of-type {\n",
       "        vertical-align: middle;\n",
       "    }\n",
       "\n",
       "    .dataframe tbody tr th {\n",
       "        vertical-align: top;\n",
       "    }\n",
       "\n",
       "    .dataframe thead th {\n",
       "        text-align: right;\n",
       "    }\n",
       "</style>\n",
       "<table border=\"1\" class=\"dataframe\">\n",
       "  <thead>\n",
       "    <tr style=\"text-align: right;\">\n",
       "      <th></th>\n",
       "      <th>file</th>\n",
       "      <th>highlights</th>\n",
       "      <th>sentences</th>\n",
       "      <th>v1_tokens</th>\n",
       "      <th>v1_word_count</th>\n",
       "      <th>v1_freq</th>\n",
       "      <th>v1_unique_word_count</th>\n",
       "      <th>v2_clean_sentences</th>\n",
       "      <th>v2_tokens</th>\n",
       "      <th>v2_word_count</th>\n",
       "      <th>v2_freq</th>\n",
       "      <th>v2_unique_word_count</th>\n",
       "      <th>v3_word_tokenize</th>\n",
       "    </tr>\n",
       "  </thead>\n",
       "  <tbody>\n",
       "    <tr>\n",
       "      <th>4</th>\n",
       "      <td>cnn-story (3).story</td>\n",
       "      <td>[Math geeks and others celebrate Pi Day every ...</td>\n",
       "      <td>March 14 is my favorite day to be a nerd.\\n\\nA...</td>\n",
       "      <td>[march, 14, is, my, favorite, day, to, be, a, ...</td>\n",
       "      <td>1236</td>\n",
       "      <td>{'march': 4, '14': 11, 'is': 19, 'my': 1, 'fav...</td>\n",
       "      <td>533</td>\n",
       "      <td>march 14 is my favorite day to be a nerd acros...</td>\n",
       "      <td>[march, 14, is, my, favorite, day, to, be, a, ...</td>\n",
       "      <td>1236</td>\n",
       "      <td>{'march': 4, '14': 11, 'is': 19, 'my': 1, 'fav...</td>\n",
       "      <td>533</td>\n",
       "      <td>[march, 14, is, my, favorite, day, to, be, a, ...</td>\n",
       "    </tr>\n",
       "    <tr>\n",
       "      <th>2</th>\n",
       "      <td>cnn-story (11).story</td>\n",
       "      <td>[Mao proved to be good at fighting but poor at...</td>\n",
       "      <td>Soon after I first came to visit China in the ...</td>\n",
       "      <td>[soon, after, i, first, came, to, visit, china...</td>\n",
       "      <td>1033</td>\n",
       "      <td>{'soon': 2, 'after': 4, 'i': 4, 'first': 4, 'c...</td>\n",
       "      <td>523</td>\n",
       "      <td>soon after i first came to visit china in the ...</td>\n",
       "      <td>[soon, after, i, first, came, to, visit, china...</td>\n",
       "      <td>1033</td>\n",
       "      <td>{'soon': 2, 'after': 4, 'i': 4, 'first': 4, 'c...</td>\n",
       "      <td>522</td>\n",
       "      <td>[soon, after, i, first, came, to, visit, china...</td>\n",
       "    </tr>\n",
       "    <tr>\n",
       "      <th>9</th>\n",
       "      <td>cnn-story (8).story</td>\n",
       "      <td>[Soraya Chemaly: Twitter, on verge of IPO, is ...</td>\n",
       "      <td>Twitter is on the verge of its initial public ...</td>\n",
       "      <td>[twitter, is, on, the, verge, of, its, initial...</td>\n",
       "      <td>1001</td>\n",
       "      <td>{'twitter': 8, 'is': 16, 'on': 6, 'the': 41, '...</td>\n",
       "      <td>488</td>\n",
       "      <td>twitter is on the verge of its initial public ...</td>\n",
       "      <td>[twitter, is, on, the, verge, of, its, initial...</td>\n",
       "      <td>1001</td>\n",
       "      <td>{'twitter': 8, 'is': 16, 'on': 6, 'the': 41, '...</td>\n",
       "      <td>488</td>\n",
       "      <td>[twitter, is, on, the, verge, of, its, initial...</td>\n",
       "    </tr>\n",
       "    <tr>\n",
       "      <th>8</th>\n",
       "      <td>cnn-story (7).story</td>\n",
       "      <td>[NEW: \"This is not the Scott we knew,\" White H...</td>\n",
       "      <td>The White House Wednesday said it was \"puzzled...</td>\n",
       "      <td>[the, white, house, wednesday, said, it, was, ...</td>\n",
       "      <td>915</td>\n",
       "      <td>{'the': 50, 'white': 11, 'house': 11, 'wednesd...</td>\n",
       "      <td>394</td>\n",
       "      <td>the white house wednesday said it was puzzled ...</td>\n",
       "      <td>[the, white, house, wednesday, said, it, was, ...</td>\n",
       "      <td>915</td>\n",
       "      <td>{'the': 50, 'white': 11, 'house': 11, 'wednesd...</td>\n",
       "      <td>393</td>\n",
       "      <td>[the, white, house, wednesday, said, it, was, ...</td>\n",
       "    </tr>\n",
       "    <tr>\n",
       "      <th>3</th>\n",
       "      <td>cnn-story (2).story</td>\n",
       "      <td>[Dean Obeidallah: A movie or TV show can educa...</td>\n",
       "      <td>Can a movie actually convince you to support t...</td>\n",
       "      <td>[can, a, movie, actually, convince, you, to, s...</td>\n",
       "      <td>752</td>\n",
       "      <td>{'can': 8, 'a': 15, 'movie': 6, 'actually': 1,...</td>\n",
       "      <td>360</td>\n",
       "      <td>can a movie actually convince you to support t...</td>\n",
       "      <td>[can, a, movie, actually, convince, you, to, s...</td>\n",
       "      <td>752</td>\n",
       "      <td>{'can': 8, 'a': 15, 'movie': 6, 'actually': 1,...</td>\n",
       "      <td>360</td>\n",
       "      <td>[can, a, movie, actually, convince, you, to, s...</td>\n",
       "    </tr>\n",
       "  </tbody>\n",
       "</table>\n",
       "</div>"
      ],
      "text/plain": [
       "                   file                                         highlights  \\\n",
       "4   cnn-story (3).story  [Math geeks and others celebrate Pi Day every ...   \n",
       "2  cnn-story (11).story  [Mao proved to be good at fighting but poor at...   \n",
       "9   cnn-story (8).story  [Soraya Chemaly: Twitter, on verge of IPO, is ...   \n",
       "8   cnn-story (7).story  [NEW: \"This is not the Scott we knew,\" White H...   \n",
       "3   cnn-story (2).story  [Dean Obeidallah: A movie or TV show can educa...   \n",
       "\n",
       "                                           sentences  \\\n",
       "4  March 14 is my favorite day to be a nerd.\\n\\nA...   \n",
       "2  Soon after I first came to visit China in the ...   \n",
       "9  Twitter is on the verge of its initial public ...   \n",
       "8  The White House Wednesday said it was \"puzzled...   \n",
       "3  Can a movie actually convince you to support t...   \n",
       "\n",
       "                                           v1_tokens  v1_word_count  \\\n",
       "4  [march, 14, is, my, favorite, day, to, be, a, ...           1236   \n",
       "2  [soon, after, i, first, came, to, visit, china...           1033   \n",
       "9  [twitter, is, on, the, verge, of, its, initial...           1001   \n",
       "8  [the, white, house, wednesday, said, it, was, ...            915   \n",
       "3  [can, a, movie, actually, convince, you, to, s...            752   \n",
       "\n",
       "                                             v1_freq  v1_unique_word_count  \\\n",
       "4  {'march': 4, '14': 11, 'is': 19, 'my': 1, 'fav...                   533   \n",
       "2  {'soon': 2, 'after': 4, 'i': 4, 'first': 4, 'c...                   523   \n",
       "9  {'twitter': 8, 'is': 16, 'on': 6, 'the': 41, '...                   488   \n",
       "8  {'the': 50, 'white': 11, 'house': 11, 'wednesd...                   394   \n",
       "3  {'can': 8, 'a': 15, 'movie': 6, 'actually': 1,...                   360   \n",
       "\n",
       "                                  v2_clean_sentences  \\\n",
       "4  march 14 is my favorite day to be a nerd acros...   \n",
       "2  soon after i first came to visit china in the ...   \n",
       "9  twitter is on the verge of its initial public ...   \n",
       "8  the white house wednesday said it was puzzled ...   \n",
       "3  can a movie actually convince you to support t...   \n",
       "\n",
       "                                           v2_tokens  v2_word_count  \\\n",
       "4  [march, 14, is, my, favorite, day, to, be, a, ...           1236   \n",
       "2  [soon, after, i, first, came, to, visit, china...           1033   \n",
       "9  [twitter, is, on, the, verge, of, its, initial...           1001   \n",
       "8  [the, white, house, wednesday, said, it, was, ...            915   \n",
       "3  [can, a, movie, actually, convince, you, to, s...            752   \n",
       "\n",
       "                                             v2_freq  v2_unique_word_count  \\\n",
       "4  {'march': 4, '14': 11, 'is': 19, 'my': 1, 'fav...                   533   \n",
       "2  {'soon': 2, 'after': 4, 'i': 4, 'first': 4, 'c...                   522   \n",
       "9  {'twitter': 8, 'is': 16, 'on': 6, 'the': 41, '...                   488   \n",
       "8  {'the': 50, 'white': 11, 'house': 11, 'wednesd...                   393   \n",
       "3  {'can': 8, 'a': 15, 'movie': 6, 'actually': 1,...                   360   \n",
       "\n",
       "                                    v3_word_tokenize  \n",
       "4  [march, 14, is, my, favorite, day, to, be, a, ...  \n",
       "2  [soon, after, i, first, came, to, visit, china...  \n",
       "9  [twitter, is, on, the, verge, of, its, initial...  \n",
       "8  [the, white, house, wednesday, said, it, was, ...  \n",
       "3  [can, a, movie, actually, convince, you, to, s...  "
      ]
     },
     "execution_count": 26,
     "metadata": {},
     "output_type": "execute_result"
    }
   ],
   "source": [
    "df_step3 = df_word_tokenize(df_nlp, 'v2_clean_sentences', \"v3_\")\n",
    "df_step3.head()"
   ]
  },
  {
   "cell_type": "code",
   "execution_count": 27,
   "metadata": {},
   "outputs": [
    {
     "data": {
      "text/html": [
       "<div>\n",
       "<style scoped>\n",
       "    .dataframe tbody tr th:only-of-type {\n",
       "        vertical-align: middle;\n",
       "    }\n",
       "\n",
       "    .dataframe tbody tr th {\n",
       "        vertical-align: top;\n",
       "    }\n",
       "\n",
       "    .dataframe thead th {\n",
       "        text-align: right;\n",
       "    }\n",
       "</style>\n",
       "<table border=\"1\" class=\"dataframe\">\n",
       "  <thead>\n",
       "    <tr style=\"text-align: right;\">\n",
       "      <th></th>\n",
       "      <th>file</th>\n",
       "      <th>highlights</th>\n",
       "      <th>sentences</th>\n",
       "      <th>v1_tokens</th>\n",
       "      <th>v1_word_count</th>\n",
       "      <th>v1_freq</th>\n",
       "      <th>v1_unique_word_count</th>\n",
       "      <th>v2_clean_sentences</th>\n",
       "      <th>v2_tokens</th>\n",
       "      <th>v2_word_count</th>\n",
       "      <th>v2_freq</th>\n",
       "      <th>v2_unique_word_count</th>\n",
       "      <th>v3_word_tokenize</th>\n",
       "      <th>v3_word_count</th>\n",
       "      <th>v3_freq</th>\n",
       "      <th>v3_unique_word_count</th>\n",
       "    </tr>\n",
       "  </thead>\n",
       "  <tbody>\n",
       "    <tr>\n",
       "      <th>4</th>\n",
       "      <td>cnn-story (3).story</td>\n",
       "      <td>[Math geeks and others celebrate Pi Day every ...</td>\n",
       "      <td>March 14 is my favorite day to be a nerd.\\n\\nA...</td>\n",
       "      <td>[march, 14, is, my, favorite, day, to, be, a, ...</td>\n",
       "      <td>1236</td>\n",
       "      <td>{'march': 4, '14': 11, 'is': 19, 'my': 1, 'fav...</td>\n",
       "      <td>533</td>\n",
       "      <td>march 14 is my favorite day to be a nerd acros...</td>\n",
       "      <td>[march, 14, is, my, favorite, day, to, be, a, ...</td>\n",
       "      <td>1236</td>\n",
       "      <td>{'march': 4, '14': 11, 'is': 19, 'my': 1, 'fav...</td>\n",
       "      <td>533</td>\n",
       "      <td>[march, 14, is, my, favorite, day, to, be, a, ...</td>\n",
       "      <td>1236</td>\n",
       "      <td>{'march': 4, '14': 11, 'is': 19, 'my': 1, 'fav...</td>\n",
       "      <td>533</td>\n",
       "    </tr>\n",
       "    <tr>\n",
       "      <th>2</th>\n",
       "      <td>cnn-story (11).story</td>\n",
       "      <td>[Mao proved to be good at fighting but poor at...</td>\n",
       "      <td>Soon after I first came to visit China in the ...</td>\n",
       "      <td>[soon, after, i, first, came, to, visit, china...</td>\n",
       "      <td>1033</td>\n",
       "      <td>{'soon': 2, 'after': 4, 'i': 4, 'first': 4, 'c...</td>\n",
       "      <td>523</td>\n",
       "      <td>soon after i first came to visit china in the ...</td>\n",
       "      <td>[soon, after, i, first, came, to, visit, china...</td>\n",
       "      <td>1033</td>\n",
       "      <td>{'soon': 2, 'after': 4, 'i': 4, 'first': 4, 'c...</td>\n",
       "      <td>522</td>\n",
       "      <td>[soon, after, i, first, came, to, visit, china...</td>\n",
       "      <td>1033</td>\n",
       "      <td>{'soon': 2, 'after': 4, 'i': 4, 'first': 4, 'c...</td>\n",
       "      <td>522</td>\n",
       "    </tr>\n",
       "    <tr>\n",
       "      <th>9</th>\n",
       "      <td>cnn-story (8).story</td>\n",
       "      <td>[Soraya Chemaly: Twitter, on verge of IPO, is ...</td>\n",
       "      <td>Twitter is on the verge of its initial public ...</td>\n",
       "      <td>[twitter, is, on, the, verge, of, its, initial...</td>\n",
       "      <td>1001</td>\n",
       "      <td>{'twitter': 8, 'is': 16, 'on': 6, 'the': 41, '...</td>\n",
       "      <td>488</td>\n",
       "      <td>twitter is on the verge of its initial public ...</td>\n",
       "      <td>[twitter, is, on, the, verge, of, its, initial...</td>\n",
       "      <td>1001</td>\n",
       "      <td>{'twitter': 8, 'is': 16, 'on': 6, 'the': 41, '...</td>\n",
       "      <td>488</td>\n",
       "      <td>[twitter, is, on, the, verge, of, its, initial...</td>\n",
       "      <td>1001</td>\n",
       "      <td>{'twitter': 8, 'is': 16, 'on': 6, 'the': 41, '...</td>\n",
       "      <td>488</td>\n",
       "    </tr>\n",
       "    <tr>\n",
       "      <th>8</th>\n",
       "      <td>cnn-story (7).story</td>\n",
       "      <td>[NEW: \"This is not the Scott we knew,\" White H...</td>\n",
       "      <td>The White House Wednesday said it was \"puzzled...</td>\n",
       "      <td>[the, white, house, wednesday, said, it, was, ...</td>\n",
       "      <td>915</td>\n",
       "      <td>{'the': 50, 'white': 11, 'house': 11, 'wednesd...</td>\n",
       "      <td>394</td>\n",
       "      <td>the white house wednesday said it was puzzled ...</td>\n",
       "      <td>[the, white, house, wednesday, said, it, was, ...</td>\n",
       "      <td>915</td>\n",
       "      <td>{'the': 50, 'white': 11, 'house': 11, 'wednesd...</td>\n",
       "      <td>393</td>\n",
       "      <td>[the, white, house, wednesday, said, it, was, ...</td>\n",
       "      <td>916</td>\n",
       "      <td>{'the': 50, 'white': 11, 'house': 11, 'wednesd...</td>\n",
       "      <td>392</td>\n",
       "    </tr>\n",
       "    <tr>\n",
       "      <th>3</th>\n",
       "      <td>cnn-story (2).story</td>\n",
       "      <td>[Dean Obeidallah: A movie or TV show can educa...</td>\n",
       "      <td>Can a movie actually convince you to support t...</td>\n",
       "      <td>[can, a, movie, actually, convince, you, to, s...</td>\n",
       "      <td>752</td>\n",
       "      <td>{'can': 8, 'a': 15, 'movie': 6, 'actually': 1,...</td>\n",
       "      <td>360</td>\n",
       "      <td>can a movie actually convince you to support t...</td>\n",
       "      <td>[can, a, movie, actually, convince, you, to, s...</td>\n",
       "      <td>752</td>\n",
       "      <td>{'can': 8, 'a': 15, 'movie': 6, 'actually': 1,...</td>\n",
       "      <td>360</td>\n",
       "      <td>[can, a, movie, actually, convince, you, to, s...</td>\n",
       "      <td>752</td>\n",
       "      <td>{'can': 8, 'a': 15, 'movie': 6, 'actually': 1,...</td>\n",
       "      <td>360</td>\n",
       "    </tr>\n",
       "  </tbody>\n",
       "</table>\n",
       "</div>"
      ],
      "text/plain": [
       "                   file                                         highlights  \\\n",
       "4   cnn-story (3).story  [Math geeks and others celebrate Pi Day every ...   \n",
       "2  cnn-story (11).story  [Mao proved to be good at fighting but poor at...   \n",
       "9   cnn-story (8).story  [Soraya Chemaly: Twitter, on verge of IPO, is ...   \n",
       "8   cnn-story (7).story  [NEW: \"This is not the Scott we knew,\" White H...   \n",
       "3   cnn-story (2).story  [Dean Obeidallah: A movie or TV show can educa...   \n",
       "\n",
       "                                           sentences  \\\n",
       "4  March 14 is my favorite day to be a nerd.\\n\\nA...   \n",
       "2  Soon after I first came to visit China in the ...   \n",
       "9  Twitter is on the verge of its initial public ...   \n",
       "8  The White House Wednesday said it was \"puzzled...   \n",
       "3  Can a movie actually convince you to support t...   \n",
       "\n",
       "                                           v1_tokens  v1_word_count  \\\n",
       "4  [march, 14, is, my, favorite, day, to, be, a, ...           1236   \n",
       "2  [soon, after, i, first, came, to, visit, china...           1033   \n",
       "9  [twitter, is, on, the, verge, of, its, initial...           1001   \n",
       "8  [the, white, house, wednesday, said, it, was, ...            915   \n",
       "3  [can, a, movie, actually, convince, you, to, s...            752   \n",
       "\n",
       "                                             v1_freq  v1_unique_word_count  \\\n",
       "4  {'march': 4, '14': 11, 'is': 19, 'my': 1, 'fav...                   533   \n",
       "2  {'soon': 2, 'after': 4, 'i': 4, 'first': 4, 'c...                   523   \n",
       "9  {'twitter': 8, 'is': 16, 'on': 6, 'the': 41, '...                   488   \n",
       "8  {'the': 50, 'white': 11, 'house': 11, 'wednesd...                   394   \n",
       "3  {'can': 8, 'a': 15, 'movie': 6, 'actually': 1,...                   360   \n",
       "\n",
       "                                  v2_clean_sentences  \\\n",
       "4  march 14 is my favorite day to be a nerd acros...   \n",
       "2  soon after i first came to visit china in the ...   \n",
       "9  twitter is on the verge of its initial public ...   \n",
       "8  the white house wednesday said it was puzzled ...   \n",
       "3  can a movie actually convince you to support t...   \n",
       "\n",
       "                                           v2_tokens  v2_word_count  \\\n",
       "4  [march, 14, is, my, favorite, day, to, be, a, ...           1236   \n",
       "2  [soon, after, i, first, came, to, visit, china...           1033   \n",
       "9  [twitter, is, on, the, verge, of, its, initial...           1001   \n",
       "8  [the, white, house, wednesday, said, it, was, ...            915   \n",
       "3  [can, a, movie, actually, convince, you, to, s...            752   \n",
       "\n",
       "                                             v2_freq  v2_unique_word_count  \\\n",
       "4  {'march': 4, '14': 11, 'is': 19, 'my': 1, 'fav...                   533   \n",
       "2  {'soon': 2, 'after': 4, 'i': 4, 'first': 4, 'c...                   522   \n",
       "9  {'twitter': 8, 'is': 16, 'on': 6, 'the': 41, '...                   488   \n",
       "8  {'the': 50, 'white': 11, 'house': 11, 'wednesd...                   393   \n",
       "3  {'can': 8, 'a': 15, 'movie': 6, 'actually': 1,...                   360   \n",
       "\n",
       "                                    v3_word_tokenize  v3_word_count  \\\n",
       "4  [march, 14, is, my, favorite, day, to, be, a, ...           1236   \n",
       "2  [soon, after, i, first, came, to, visit, china...           1033   \n",
       "9  [twitter, is, on, the, verge, of, its, initial...           1001   \n",
       "8  [the, white, house, wednesday, said, it, was, ...            916   \n",
       "3  [can, a, movie, actually, convince, you, to, s...            752   \n",
       "\n",
       "                                             v3_freq  v3_unique_word_count  \n",
       "4  {'march': 4, '14': 11, 'is': 19, 'my': 1, 'fav...                   533  \n",
       "2  {'soon': 2, 'after': 4, 'i': 4, 'first': 4, 'c...                   522  \n",
       "9  {'twitter': 8, 'is': 16, 'on': 6, 'the': 41, '...                   488  \n",
       "8  {'the': 50, 'white': 11, 'house': 11, 'wednesd...                   392  \n",
       "3  {'can': 8, 'a': 15, 'movie': 6, 'actually': 1,...                   360  "
      ]
     },
     "execution_count": 27,
     "metadata": {},
     "output_type": "execute_result"
    }
   ],
   "source": [
    "df_step3 = token_data(df_step3, 'v2_clean_sentences', \"v3_\", token_name=\"v3_word_tokenize\")\n",
    "df_step3.head()"
   ]
  },
  {
   "cell_type": "code",
   "execution_count": 28,
   "metadata": {},
   "outputs": [
    {
     "name": "stdout",
     "output_type": "stream",
     "text": [
      "Average of words counted: \n",
      " - V1 : 689.0909090909091\n",
      " - V2 : 689.0909090909091\n",
      " - V3 : 689.1818181818181\n",
      "Average of words unique counted: \n",
      " - V1 : 335.8181818181818\n",
      " - V2 : 335.54545454545456\n",
      " - V3 : 335.45454545454544\n"
     ]
    },
    {
     "data": {
      "text/html": [
       "<div>\n",
       "<style scoped>\n",
       "    .dataframe tbody tr th:only-of-type {\n",
       "        vertical-align: middle;\n",
       "    }\n",
       "\n",
       "    .dataframe tbody tr th {\n",
       "        vertical-align: top;\n",
       "    }\n",
       "\n",
       "    .dataframe thead th {\n",
       "        text-align: right;\n",
       "    }\n",
       "</style>\n",
       "<table border=\"1\" class=\"dataframe\">\n",
       "  <thead>\n",
       "    <tr style=\"text-align: right;\">\n",
       "      <th></th>\n",
       "      <th>file</th>\n",
       "      <th>highlights</th>\n",
       "      <th>sentences</th>\n",
       "      <th>v1_tokens</th>\n",
       "      <th>v1_word_count</th>\n",
       "      <th>v1_freq</th>\n",
       "      <th>v1_unique_word_count</th>\n",
       "      <th>v2_clean_sentences</th>\n",
       "      <th>v2_tokens</th>\n",
       "      <th>v2_word_count</th>\n",
       "      <th>v2_freq</th>\n",
       "      <th>v2_unique_word_count</th>\n",
       "      <th>v3_word_tokenize</th>\n",
       "      <th>v3_word_count</th>\n",
       "      <th>v3_freq</th>\n",
       "      <th>v3_unique_word_count</th>\n",
       "    </tr>\n",
       "  </thead>\n",
       "  <tbody>\n",
       "    <tr>\n",
       "      <th>4</th>\n",
       "      <td>cnn-story (3).story</td>\n",
       "      <td>[Math geeks and others celebrate Pi Day every ...</td>\n",
       "      <td>March 14 is my favorite day to be a nerd.\\n\\nA...</td>\n",
       "      <td>[march, 14, is, my, favorite, day, to, be, a, ...</td>\n",
       "      <td>1236</td>\n",
       "      <td>{'march': 4, '14': 11, 'is': 19, 'my': 1, 'fav...</td>\n",
       "      <td>533</td>\n",
       "      <td>march 14 is my favorite day to be a nerd acros...</td>\n",
       "      <td>[march, 14, is, my, favorite, day, to, be, a, ...</td>\n",
       "      <td>1236</td>\n",
       "      <td>{'march': 4, '14': 11, 'is': 19, 'my': 1, 'fav...</td>\n",
       "      <td>533</td>\n",
       "      <td>[march, 14, is, my, favorite, day, to, be, a, ...</td>\n",
       "      <td>1236</td>\n",
       "      <td>{'march': 4, '14': 11, 'is': 19, 'my': 1, 'fav...</td>\n",
       "      <td>533</td>\n",
       "    </tr>\n",
       "    <tr>\n",
       "      <th>2</th>\n",
       "      <td>cnn-story (11).story</td>\n",
       "      <td>[Mao proved to be good at fighting but poor at...</td>\n",
       "      <td>Soon after I first came to visit China in the ...</td>\n",
       "      <td>[soon, after, i, first, came, to, visit, china...</td>\n",
       "      <td>1033</td>\n",
       "      <td>{'soon': 2, 'after': 4, 'i': 4, 'first': 4, 'c...</td>\n",
       "      <td>523</td>\n",
       "      <td>soon after i first came to visit china in the ...</td>\n",
       "      <td>[soon, after, i, first, came, to, visit, china...</td>\n",
       "      <td>1033</td>\n",
       "      <td>{'soon': 2, 'after': 4, 'i': 4, 'first': 4, 'c...</td>\n",
       "      <td>522</td>\n",
       "      <td>[soon, after, i, first, came, to, visit, china...</td>\n",
       "      <td>1033</td>\n",
       "      <td>{'soon': 2, 'after': 4, 'i': 4, 'first': 4, 'c...</td>\n",
       "      <td>522</td>\n",
       "    </tr>\n",
       "    <tr>\n",
       "      <th>9</th>\n",
       "      <td>cnn-story (8).story</td>\n",
       "      <td>[Soraya Chemaly: Twitter, on verge of IPO, is ...</td>\n",
       "      <td>Twitter is on the verge of its initial public ...</td>\n",
       "      <td>[twitter, is, on, the, verge, of, its, initial...</td>\n",
       "      <td>1001</td>\n",
       "      <td>{'twitter': 8, 'is': 16, 'on': 6, 'the': 41, '...</td>\n",
       "      <td>488</td>\n",
       "      <td>twitter is on the verge of its initial public ...</td>\n",
       "      <td>[twitter, is, on, the, verge, of, its, initial...</td>\n",
       "      <td>1001</td>\n",
       "      <td>{'twitter': 8, 'is': 16, 'on': 6, 'the': 41, '...</td>\n",
       "      <td>488</td>\n",
       "      <td>[twitter, is, on, the, verge, of, its, initial...</td>\n",
       "      <td>1001</td>\n",
       "      <td>{'twitter': 8, 'is': 16, 'on': 6, 'the': 41, '...</td>\n",
       "      <td>488</td>\n",
       "    </tr>\n",
       "    <tr>\n",
       "      <th>8</th>\n",
       "      <td>cnn-story (7).story</td>\n",
       "      <td>[NEW: \"This is not the Scott we knew,\" White H...</td>\n",
       "      <td>The White House Wednesday said it was \"puzzled...</td>\n",
       "      <td>[the, white, house, wednesday, said, it, was, ...</td>\n",
       "      <td>915</td>\n",
       "      <td>{'the': 50, 'white': 11, 'house': 11, 'wednesd...</td>\n",
       "      <td>394</td>\n",
       "      <td>the white house wednesday said it was puzzled ...</td>\n",
       "      <td>[the, white, house, wednesday, said, it, was, ...</td>\n",
       "      <td>915</td>\n",
       "      <td>{'the': 50, 'white': 11, 'house': 11, 'wednesd...</td>\n",
       "      <td>393</td>\n",
       "      <td>[the, white, house, wednesday, said, it, was, ...</td>\n",
       "      <td>916</td>\n",
       "      <td>{'the': 50, 'white': 11, 'house': 11, 'wednesd...</td>\n",
       "      <td>392</td>\n",
       "    </tr>\n",
       "    <tr>\n",
       "      <th>3</th>\n",
       "      <td>cnn-story (2).story</td>\n",
       "      <td>[Dean Obeidallah: A movie or TV show can educa...</td>\n",
       "      <td>Can a movie actually convince you to support t...</td>\n",
       "      <td>[can, a, movie, actually, convince, you, to, s...</td>\n",
       "      <td>752</td>\n",
       "      <td>{'can': 8, 'a': 15, 'movie': 6, 'actually': 1,...</td>\n",
       "      <td>360</td>\n",
       "      <td>can a movie actually convince you to support t...</td>\n",
       "      <td>[can, a, movie, actually, convince, you, to, s...</td>\n",
       "      <td>752</td>\n",
       "      <td>{'can': 8, 'a': 15, 'movie': 6, 'actually': 1,...</td>\n",
       "      <td>360</td>\n",
       "      <td>[can, a, movie, actually, convince, you, to, s...</td>\n",
       "      <td>752</td>\n",
       "      <td>{'can': 8, 'a': 15, 'movie': 6, 'actually': 1,...</td>\n",
       "      <td>360</td>\n",
       "    </tr>\n",
       "  </tbody>\n",
       "</table>\n",
       "</div>"
      ],
      "text/plain": [
       "                   file                                         highlights  \\\n",
       "4   cnn-story (3).story  [Math geeks and others celebrate Pi Day every ...   \n",
       "2  cnn-story (11).story  [Mao proved to be good at fighting but poor at...   \n",
       "9   cnn-story (8).story  [Soraya Chemaly: Twitter, on verge of IPO, is ...   \n",
       "8   cnn-story (7).story  [NEW: \"This is not the Scott we knew,\" White H...   \n",
       "3   cnn-story (2).story  [Dean Obeidallah: A movie or TV show can educa...   \n",
       "\n",
       "                                           sentences  \\\n",
       "4  March 14 is my favorite day to be a nerd.\\n\\nA...   \n",
       "2  Soon after I first came to visit China in the ...   \n",
       "9  Twitter is on the verge of its initial public ...   \n",
       "8  The White House Wednesday said it was \"puzzled...   \n",
       "3  Can a movie actually convince you to support t...   \n",
       "\n",
       "                                           v1_tokens  v1_word_count  \\\n",
       "4  [march, 14, is, my, favorite, day, to, be, a, ...           1236   \n",
       "2  [soon, after, i, first, came, to, visit, china...           1033   \n",
       "9  [twitter, is, on, the, verge, of, its, initial...           1001   \n",
       "8  [the, white, house, wednesday, said, it, was, ...            915   \n",
       "3  [can, a, movie, actually, convince, you, to, s...            752   \n",
       "\n",
       "                                             v1_freq  v1_unique_word_count  \\\n",
       "4  {'march': 4, '14': 11, 'is': 19, 'my': 1, 'fav...                   533   \n",
       "2  {'soon': 2, 'after': 4, 'i': 4, 'first': 4, 'c...                   523   \n",
       "9  {'twitter': 8, 'is': 16, 'on': 6, 'the': 41, '...                   488   \n",
       "8  {'the': 50, 'white': 11, 'house': 11, 'wednesd...                   394   \n",
       "3  {'can': 8, 'a': 15, 'movie': 6, 'actually': 1,...                   360   \n",
       "\n",
       "                                  v2_clean_sentences  \\\n",
       "4  march 14 is my favorite day to be a nerd acros...   \n",
       "2  soon after i first came to visit china in the ...   \n",
       "9  twitter is on the verge of its initial public ...   \n",
       "8  the white house wednesday said it was puzzled ...   \n",
       "3  can a movie actually convince you to support t...   \n",
       "\n",
       "                                           v2_tokens  v2_word_count  \\\n",
       "4  [march, 14, is, my, favorite, day, to, be, a, ...           1236   \n",
       "2  [soon, after, i, first, came, to, visit, china...           1033   \n",
       "9  [twitter, is, on, the, verge, of, its, initial...           1001   \n",
       "8  [the, white, house, wednesday, said, it, was, ...            915   \n",
       "3  [can, a, movie, actually, convince, you, to, s...            752   \n",
       "\n",
       "                                             v2_freq  v2_unique_word_count  \\\n",
       "4  {'march': 4, '14': 11, 'is': 19, 'my': 1, 'fav...                   533   \n",
       "2  {'soon': 2, 'after': 4, 'i': 4, 'first': 4, 'c...                   522   \n",
       "9  {'twitter': 8, 'is': 16, 'on': 6, 'the': 41, '...                   488   \n",
       "8  {'the': 50, 'white': 11, 'house': 11, 'wednesd...                   393   \n",
       "3  {'can': 8, 'a': 15, 'movie': 6, 'actually': 1,...                   360   \n",
       "\n",
       "                                    v3_word_tokenize  v3_word_count  \\\n",
       "4  [march, 14, is, my, favorite, day, to, be, a, ...           1236   \n",
       "2  [soon, after, i, first, came, to, visit, china...           1033   \n",
       "9  [twitter, is, on, the, verge, of, its, initial...           1001   \n",
       "8  [the, white, house, wednesday, said, it, was, ...            916   \n",
       "3  [can, a, movie, actually, convince, you, to, s...            752   \n",
       "\n",
       "                                             v3_freq  v3_unique_word_count  \n",
       "4  {'march': 4, '14': 11, 'is': 19, 'my': 1, 'fav...                   533  \n",
       "2  {'soon': 2, 'after': 4, 'i': 4, 'first': 4, 'c...                   522  \n",
       "9  {'twitter': 8, 'is': 16, 'on': 6, 'the': 41, '...                   488  \n",
       "8  {'the': 50, 'white': 11, 'house': 11, 'wednesd...                   392  \n",
       "3  {'can': 8, 'a': 15, 'movie': 6, 'actually': 1,...                   360  "
      ]
     },
     "execution_count": 28,
     "metadata": {},
     "output_type": "execute_result"
    }
   ],
   "source": [
    "print('Average of words counted: ')\n",
    "print(' - V1 : ' + str(df_step3['v1_word_count'].mean()))\n",
    "print(' - V2 : ' + str(df_step3['v2_word_count'].mean()))\n",
    "print(' - V3 : ' + str(df_step3['v3_word_count'].mean()))\n",
    "print('Average of words unique counted: ')\n",
    "print(' - V1 : ' + str(df_step3['v1_unique_word_count'].mean()))\n",
    "print(' - V2 : ' + str(df_step3['v2_unique_word_count'].mean()))\n",
    "print(' - V3 : ' + str(df_step3['v3_unique_word_count'].mean()))\n",
    "df_step3.head()"
   ]
  },
  {
   "cell_type": "markdown",
   "metadata": {},
   "source": [
    "<div style=\"display: flex; background-color: indigo;\" >\n",
    "\n",
    "### Stop WORDS\n",
    "</div>"
   ]
  },
  {
   "cell_type": "code",
   "execution_count": 29,
   "metadata": {},
   "outputs": [],
   "source": [
    "if verbose > 0:\n",
    "    print(stopwords.words(\"english\"))"
   ]
  },
  {
   "cell_type": "code",
   "execution_count": 30,
   "metadata": {},
   "outputs": [
    {
     "data": {
      "text/plain": [
       "Index(['file', 'highlights', 'sentences', 'v1_tokens', 'v1_word_count',\n",
       "       'v1_freq', 'v1_unique_word_count', 'v2_clean_sentences', 'v2_tokens',\n",
       "       'v2_word_count', 'v2_freq', 'v2_unique_word_count', 'v3_word_tokenize',\n",
       "       'v3_word_count', 'v3_freq', 'v3_unique_word_count'],\n",
       "      dtype='object')"
      ]
     },
     "execution_count": 30,
     "metadata": {},
     "output_type": "execute_result"
    }
   ],
   "source": [
    "df_step3.columns"
   ]
  },
  {
   "cell_type": "code",
   "execution_count": 31,
   "metadata": {},
   "outputs": [
    {
     "data": {
      "text/plain": [
       "4    [march, 14, is, my, favorite, day, to, be, a, ...\n",
       "2    [soon, after, i, first, came, to, visit, china...\n",
       "9    [twitter, is, on, the, verge, of, its, initial...\n",
       "8    [the, white, house, wednesday, said, it, was, ...\n",
       "3    [can, a, movie, actually, convince, you, to, s...\n",
       "Name: v3_word_tokenize, dtype: object"
      ]
     },
     "execution_count": 31,
     "metadata": {},
     "output_type": "execute_result"
    }
   ],
   "source": [
    "df_step3['v3_word_tokenize'].head()"
   ]
  },
  {
   "cell_type": "code",
   "execution_count": 32,
   "metadata": {},
   "outputs": [
    {
     "name": "stdout",
     "output_type": "stream",
     "text": [
      "(11, 20) Index(['file', 'highlights', 'sentences', 'v1_tokens', 'v1_word_count',\n",
      "       'v1_freq', 'v1_unique_word_count', 'v2_clean_sentences', 'v2_tokens',\n",
      "       'v2_word_count', 'v2_freq', 'v2_unique_word_count', 'v3_word_tokenize',\n",
      "       'v3_word_count', 'v3_freq', 'v3_unique_word_count', 'StopWordLess',\n",
      "       'v4_word_count', 'v4_freq', 'v4_unique_word_count'],\n",
      "      dtype='object')\n"
     ]
    },
    {
     "data": {
      "text/html": [
       "<div>\n",
       "<style scoped>\n",
       "    .dataframe tbody tr th:only-of-type {\n",
       "        vertical-align: middle;\n",
       "    }\n",
       "\n",
       "    .dataframe tbody tr th {\n",
       "        vertical-align: top;\n",
       "    }\n",
       "\n",
       "    .dataframe thead th {\n",
       "        text-align: right;\n",
       "    }\n",
       "</style>\n",
       "<table border=\"1\" class=\"dataframe\">\n",
       "  <thead>\n",
       "    <tr style=\"text-align: right;\">\n",
       "      <th></th>\n",
       "      <th>file</th>\n",
       "      <th>v1_word_count</th>\n",
       "      <th>v2_word_count</th>\n",
       "      <th>v3_word_count</th>\n",
       "      <th>v4_word_count</th>\n",
       "      <th>v1_unique_word_count</th>\n",
       "      <th>v2_unique_word_count</th>\n",
       "      <th>v3_unique_word_count</th>\n",
       "      <th>v4_unique_word_count</th>\n",
       "      <th>v2_freq</th>\n",
       "      <th>v3_freq</th>\n",
       "      <th>v4_freq</th>\n",
       "    </tr>\n",
       "  </thead>\n",
       "  <tbody>\n",
       "    <tr>\n",
       "      <th>2</th>\n",
       "      <td>cnn-story (11).story</td>\n",
       "      <td>1033</td>\n",
       "      <td>1033</td>\n",
       "      <td>1033</td>\n",
       "      <td>632</td>\n",
       "      <td>523</td>\n",
       "      <td>522</td>\n",
       "      <td>522</td>\n",
       "      <td>448</td>\n",
       "      <td>{'soon': 2, 'after': 4, 'i': 4, 'first': 4, 'c...</td>\n",
       "      <td>{'soon': 2, 'after': 4, 'i': 4, 'first': 4, 'c...</td>\n",
       "      <td>{'soon': 2, 'first': 4, 'came': 2, 'visit': 1,...</td>\n",
       "    </tr>\n",
       "    <tr>\n",
       "      <th>4</th>\n",
       "      <td>cnn-story (3).story</td>\n",
       "      <td>1236</td>\n",
       "      <td>1236</td>\n",
       "      <td>1236</td>\n",
       "      <td>717</td>\n",
       "      <td>533</td>\n",
       "      <td>533</td>\n",
       "      <td>533</td>\n",
       "      <td>441</td>\n",
       "      <td>{'march': 4, '14': 11, 'is': 19, 'my': 1, 'fav...</td>\n",
       "      <td>{'march': 4, '14': 11, 'is': 19, 'my': 1, 'fav...</td>\n",
       "      <td>{'march': 4, '14': 11, 'favorite': 1, 'day': 3...</td>\n",
       "    </tr>\n",
       "    <tr>\n",
       "      <th>9</th>\n",
       "      <td>cnn-story (8).story</td>\n",
       "      <td>1001</td>\n",
       "      <td>1001</td>\n",
       "      <td>1001</td>\n",
       "      <td>566</td>\n",
       "      <td>488</td>\n",
       "      <td>488</td>\n",
       "      <td>488</td>\n",
       "      <td>405</td>\n",
       "      <td>{'twitter': 8, 'is': 16, 'on': 6, 'the': 41, '...</td>\n",
       "      <td>{'twitter': 8, 'is': 16, 'on': 6, 'the': 41, '...</td>\n",
       "      <td>{'twitter': 8, 'verge': 1, 'initial': 1, 'publ...</td>\n",
       "    </tr>\n",
       "    <tr>\n",
       "      <th>8</th>\n",
       "      <td>cnn-story (7).story</td>\n",
       "      <td>915</td>\n",
       "      <td>915</td>\n",
       "      <td>916</td>\n",
       "      <td>502</td>\n",
       "      <td>394</td>\n",
       "      <td>393</td>\n",
       "      <td>392</td>\n",
       "      <td>312</td>\n",
       "      <td>{'the': 50, 'white': 11, 'house': 11, 'wednesd...</td>\n",
       "      <td>{'the': 50, 'white': 11, 'house': 11, 'wednesd...</td>\n",
       "      <td>{'white': 11, 'house': 11, 'wednesday': 1, 'sa...</td>\n",
       "    </tr>\n",
       "    <tr>\n",
       "      <th>3</th>\n",
       "      <td>cnn-story (2).story</td>\n",
       "      <td>752</td>\n",
       "      <td>752</td>\n",
       "      <td>752</td>\n",
       "      <td>405</td>\n",
       "      <td>360</td>\n",
       "      <td>360</td>\n",
       "      <td>360</td>\n",
       "      <td>292</td>\n",
       "      <td>{'can': 8, 'a': 15, 'movie': 6, 'actually': 1,...</td>\n",
       "      <td>{'can': 8, 'a': 15, 'movie': 6, 'actually': 1,...</td>\n",
       "      <td>{'movie': 6, 'actually': 1, 'convince': 1, 'su...</td>\n",
       "    </tr>\n",
       "  </tbody>\n",
       "</table>\n",
       "</div>"
      ],
      "text/plain": [
       "                   file  v1_word_count  v2_word_count  v3_word_count  \\\n",
       "2  cnn-story (11).story           1033           1033           1033   \n",
       "4   cnn-story (3).story           1236           1236           1236   \n",
       "9   cnn-story (8).story           1001           1001           1001   \n",
       "8   cnn-story (7).story            915            915            916   \n",
       "3   cnn-story (2).story            752            752            752   \n",
       "\n",
       "   v4_word_count  v1_unique_word_count  v2_unique_word_count  \\\n",
       "2            632                   523                   522   \n",
       "4            717                   533                   533   \n",
       "9            566                   488                   488   \n",
       "8            502                   394                   393   \n",
       "3            405                   360                   360   \n",
       "\n",
       "   v3_unique_word_count  v4_unique_word_count  \\\n",
       "2                   522                   448   \n",
       "4                   533                   441   \n",
       "9                   488                   405   \n",
       "8                   392                   312   \n",
       "3                   360                   292   \n",
       "\n",
       "                                             v2_freq  \\\n",
       "2  {'soon': 2, 'after': 4, 'i': 4, 'first': 4, 'c...   \n",
       "4  {'march': 4, '14': 11, 'is': 19, 'my': 1, 'fav...   \n",
       "9  {'twitter': 8, 'is': 16, 'on': 6, 'the': 41, '...   \n",
       "8  {'the': 50, 'white': 11, 'house': 11, 'wednesd...   \n",
       "3  {'can': 8, 'a': 15, 'movie': 6, 'actually': 1,...   \n",
       "\n",
       "                                             v3_freq  \\\n",
       "2  {'soon': 2, 'after': 4, 'i': 4, 'first': 4, 'c...   \n",
       "4  {'march': 4, '14': 11, 'is': 19, 'my': 1, 'fav...   \n",
       "9  {'twitter': 8, 'is': 16, 'on': 6, 'the': 41, '...   \n",
       "8  {'the': 50, 'white': 11, 'house': 11, 'wednesd...   \n",
       "3  {'can': 8, 'a': 15, 'movie': 6, 'actually': 1,...   \n",
       "\n",
       "                                             v4_freq  \n",
       "2  {'soon': 2, 'first': 4, 'came': 2, 'visit': 1,...  \n",
       "4  {'march': 4, '14': 11, 'favorite': 1, 'day': 3...  \n",
       "9  {'twitter': 8, 'verge': 1, 'initial': 1, 'publ...  \n",
       "8  {'white': 11, 'house': 11, 'wednesday': 1, 'sa...  \n",
       "3  {'movie': 6, 'actually': 1, 'convince': 1, 'su...  "
      ]
     },
     "execution_count": 32,
     "metadata": {},
     "output_type": "execute_result"
    }
   ],
   "source": [
    "df_step3[\"StopWordLess\"] = df_step3['v3_word_tokenize'].apply(lambda x: remove_english_stopwords_func(x))\n",
    "df_step3 = token_data(df_step3, 'v2_clean_sentences', \"v4_\", token_name=\"StopWordLess\")\n",
    "print(df_step3.shape, df_step3.columns)\n",
    "df_step3[['file','v1_word_count', 'v2_word_count', 'v3_word_count', 'v4_word_count', \n",
    "                'v1_unique_word_count', 'v2_unique_word_count',  'v3_unique_word_count', 'v4_unique_word_count', \n",
    "                'v2_freq', 'v3_freq', 'v4_freq']].head()"
   ]
  },
  {
   "cell_type": "code",
   "execution_count": 33,
   "metadata": {},
   "outputs": [
    {
     "name": "stdout",
     "output_type": "stream",
     "text": [
      "Average of words counted: \n",
      " - V1 : 689.0909090909091\n",
      " - V2 : 689.0909090909091\n",
      " - V3 : 689.1818181818181\n",
      " - V4 : 392.54545454545456\n",
      "Average of words unique counted: \n",
      " - V1 : 335.8181818181818\n",
      " - V2 : 335.54545454545456\n",
      " - V3 : 335.45454545454544\n",
      " - V4 : 271.6363636363636\n"
     ]
    }
   ],
   "source": [
    "print('Average of words counted: ')\n",
    "print(' - V1 : ' + str(df_step3['v1_word_count'].mean()))\n",
    "print(' - V2 : ' + str(df_step3['v2_word_count'].mean()))\n",
    "print(' - V3 : ' + str(df_step3['v3_word_count'].mean()))\n",
    "print(' - V4 : ' + str(df_step3['v4_word_count'].mean()))\n",
    "print('Average of words unique counted: ')\n",
    "print(' - V1 : ' + str(df_step3['v1_unique_word_count'].mean()))\n",
    "print(' - V2 : ' + str(df_step3['v2_unique_word_count'].mean()))\n",
    "print(' - V3 : ' + str(df_step3['v3_unique_word_count'].mean()))\n",
    "print(' - V4 : ' + str(df_step3['v4_unique_word_count'].mean()))"
   ]
  },
  {
   "cell_type": "markdown",
   "metadata": {},
   "source": [
    "<div style=\"display: flex; background-color: Green; padding: 7px;\" >\n",
    "\n",
    "## NLP - Text Pre-Processing III (POS, NER and Normalization)\n",
    "</div>\n",
    "\n",
    "1. Digression: POS & NER\n",
    "1. Part of Speech Tagging (POS)\n",
    "1. Named Entity Recognition (NER)\n"
   ]
  },
  {
   "cell_type": "code",
   "execution_count": 34,
   "metadata": {},
   "outputs": [
    {
     "data": {
      "text/plain": [
       "Index(['file', 'highlights', 'sentences', 'v1_tokens', 'v1_word_count',\n",
       "       'v1_freq', 'v1_unique_word_count', 'v2_clean_sentences', 'v2_tokens',\n",
       "       'v2_word_count', 'v2_freq', 'v2_unique_word_count', 'v3_word_tokenize',\n",
       "       'v3_word_count', 'v3_freq', 'v3_unique_word_count', 'StopWordLess',\n",
       "       'v4_word_count', 'v4_freq', 'v4_unique_word_count'],\n",
       "      dtype='object')"
      ]
     },
     "execution_count": 34,
     "metadata": {},
     "output_type": "execute_result"
    }
   ],
   "source": [
    "df_step3.columns"
   ]
  },
  {
   "cell_type": "code",
   "execution_count": 35,
   "metadata": {},
   "outputs": [
    {
     "name": "stdout",
     "output_type": "stream",
     "text": [
      "(11, 7) Index(['file', 'highlights', 'sentences', 'StopWordLess', 'v4_word_count',\n",
      "       'v4_freq', 'v4_unique_word_count'],\n",
      "      dtype='object')\n"
     ]
    },
    {
     "data": {
      "text/html": [
       "<div>\n",
       "<style scoped>\n",
       "    .dataframe tbody tr th:only-of-type {\n",
       "        vertical-align: middle;\n",
       "    }\n",
       "\n",
       "    .dataframe tbody tr th {\n",
       "        vertical-align: top;\n",
       "    }\n",
       "\n",
       "    .dataframe thead th {\n",
       "        text-align: right;\n",
       "    }\n",
       "</style>\n",
       "<table border=\"1\" class=\"dataframe\">\n",
       "  <thead>\n",
       "    <tr style=\"text-align: right;\">\n",
       "      <th></th>\n",
       "      <th>file</th>\n",
       "      <th>highlights</th>\n",
       "      <th>sentences</th>\n",
       "      <th>StopWordLess</th>\n",
       "      <th>v4_word_count</th>\n",
       "      <th>v4_freq</th>\n",
       "      <th>v4_unique_word_count</th>\n",
       "    </tr>\n",
       "  </thead>\n",
       "  <tbody>\n",
       "    <tr>\n",
       "      <th>2</th>\n",
       "      <td>cnn-story (11).story</td>\n",
       "      <td>[Mao proved to be good at fighting but poor at...</td>\n",
       "      <td>Soon after I first came to visit China in the ...</td>\n",
       "      <td>[soon, first, came, visit, china, autumn, 1971...</td>\n",
       "      <td>632</td>\n",
       "      <td>{'soon': 2, 'first': 4, 'came': 2, 'visit': 1,...</td>\n",
       "      <td>448</td>\n",
       "    </tr>\n",
       "    <tr>\n",
       "      <th>4</th>\n",
       "      <td>cnn-story (3).story</td>\n",
       "      <td>[Math geeks and others celebrate Pi Day every ...</td>\n",
       "      <td>March 14 is my favorite day to be a nerd.\\n\\nA...</td>\n",
       "      <td>[march, 14, favorite, day, nerd, across, count...</td>\n",
       "      <td>717</td>\n",
       "      <td>{'march': 4, '14': 11, 'favorite': 1, 'day': 3...</td>\n",
       "      <td>441</td>\n",
       "    </tr>\n",
       "    <tr>\n",
       "      <th>9</th>\n",
       "      <td>cnn-story (8).story</td>\n",
       "      <td>[Soraya Chemaly: Twitter, on verge of IPO, is ...</td>\n",
       "      <td>Twitter is on the verge of its initial public ...</td>\n",
       "      <td>[twitter, verge, initial, public, offering, ev...</td>\n",
       "      <td>566</td>\n",
       "      <td>{'twitter': 8, 'verge': 1, 'initial': 1, 'publ...</td>\n",
       "      <td>405</td>\n",
       "    </tr>\n",
       "    <tr>\n",
       "      <th>8</th>\n",
       "      <td>cnn-story (7).story</td>\n",
       "      <td>[NEW: \"This is not the Scott we knew,\" White H...</td>\n",
       "      <td>The White House Wednesday said it was \"puzzled...</td>\n",
       "      <td>[white, house, wednesday, said, puzzled, forme...</td>\n",
       "      <td>502</td>\n",
       "      <td>{'white': 11, 'house': 11, 'wednesday': 1, 'sa...</td>\n",
       "      <td>312</td>\n",
       "    </tr>\n",
       "    <tr>\n",
       "      <th>3</th>\n",
       "      <td>cnn-story (2).story</td>\n",
       "      <td>[Dean Obeidallah: A movie or TV show can educa...</td>\n",
       "      <td>Can a movie actually convince you to support t...</td>\n",
       "      <td>[movie, actually, convince, support, torture, ...</td>\n",
       "      <td>405</td>\n",
       "      <td>{'movie': 6, 'actually': 1, 'convince': 1, 'su...</td>\n",
       "      <td>292</td>\n",
       "    </tr>\n",
       "  </tbody>\n",
       "</table>\n",
       "</div>"
      ],
      "text/plain": [
       "                   file                                         highlights  \\\n",
       "2  cnn-story (11).story  [Mao proved to be good at fighting but poor at...   \n",
       "4   cnn-story (3).story  [Math geeks and others celebrate Pi Day every ...   \n",
       "9   cnn-story (8).story  [Soraya Chemaly: Twitter, on verge of IPO, is ...   \n",
       "8   cnn-story (7).story  [NEW: \"This is not the Scott we knew,\" White H...   \n",
       "3   cnn-story (2).story  [Dean Obeidallah: A movie or TV show can educa...   \n",
       "\n",
       "                                           sentences  \\\n",
       "2  Soon after I first came to visit China in the ...   \n",
       "4  March 14 is my favorite day to be a nerd.\\n\\nA...   \n",
       "9  Twitter is on the verge of its initial public ...   \n",
       "8  The White House Wednesday said it was \"puzzled...   \n",
       "3  Can a movie actually convince you to support t...   \n",
       "\n",
       "                                        StopWordLess  v4_word_count  \\\n",
       "2  [soon, first, came, visit, china, autumn, 1971...            632   \n",
       "4  [march, 14, favorite, day, nerd, across, count...            717   \n",
       "9  [twitter, verge, initial, public, offering, ev...            566   \n",
       "8  [white, house, wednesday, said, puzzled, forme...            502   \n",
       "3  [movie, actually, convince, support, torture, ...            405   \n",
       "\n",
       "                                             v4_freq  v4_unique_word_count  \n",
       "2  {'soon': 2, 'first': 4, 'came': 2, 'visit': 1,...                   448  \n",
       "4  {'march': 4, '14': 11, 'favorite': 1, 'day': 3...                   441  \n",
       "9  {'twitter': 8, 'verge': 1, 'initial': 1, 'publ...                   405  \n",
       "8  {'white': 11, 'house': 11, 'wednesday': 1, 'sa...                   312  \n",
       "3  {'movie': 6, 'actually': 1, 'convince': 1, 'su...                   292  "
      ]
     },
     "execution_count": 35,
     "metadata": {},
     "output_type": "execute_result"
    }
   ],
   "source": [
    "df_step4 = df_step3.copy()\n",
    "df_step4 = df_step4[['file', 'highlights', 'sentences', 'StopWordLess', 'v4_word_count', 'v4_freq', 'v4_unique_word_count']]\n",
    "print(df_step4.shape, df_step4.columns)\n",
    "df_step4.head()"
   ]
  },
  {
   "cell_type": "code",
   "execution_count": 36,
   "metadata": {},
   "outputs": [
    {
     "data": {
      "text/plain": [
       "Index(['file', 'highlights', 'sentences', 'StopWordLess', 'v4_word_count',\n",
       "       'v4_freq', 'v4_unique_word_count'],\n",
       "      dtype='object')"
      ]
     },
     "execution_count": 36,
     "metadata": {},
     "output_type": "execute_result"
    }
   ],
   "source": [
    "df_step4.columns"
   ]
  },
  {
   "cell_type": "markdown",
   "metadata": {},
   "source": [
    "<div style=\"display: flex; background-color: indigo;\" >\n",
    "\n",
    "### Part of Speech Tagging (POS)\n",
    "</div>"
   ]
  },
  {
   "cell_type": "code",
   "execution_count": 37,
   "metadata": {},
   "outputs": [
    {
     "data": {
      "text/plain": [
       "2     [(soon, RB), (first, RB), (came, VBD), (visit,...\n",
       "4     [(march, NN), (14, CD), (favorite, JJ), (day, ...\n",
       "9     [(twitter, NN), (verge, NN), (initial, JJ), (p...\n",
       "8     [(white, JJ), (house, NN), (wednesday, NN), (s...\n",
       "3     [(movie, NN), (actually, RB), (convince, JJ), ...\n",
       "5     [(families, NNS), (chinese, JJ), (passengers, ...\n",
       "1     [(loud, JJ), (music, NN), (pumps, NNS), (huge,...\n",
       "10    [(man, NN), (suspected, VBD), (trying, VBG), (...\n",
       "0     [(rory, NN), (mcilroy, NN), (good, JJ), (start...\n",
       "6     [(u, JJ), (n, JJ), (security, NN), (council, N...\n",
       "7     [(bipartisan, JJ), (group, NN), (women, NNS), ...\n",
       "Name: pos_tag, dtype: object"
      ]
     },
     "execution_count": 37,
     "metadata": {},
     "output_type": "execute_result"
    }
   ],
   "source": [
    "df_step4[\"pos_tag\"] = df_step4['StopWordLess'].apply(lambda x: pos_tag(x))\n",
    "df_step4[\"pos_tag\"]"
   ]
  },
  {
   "cell_type": "markdown",
   "metadata": {},
   "source": [
    "<div style=\"display: flex; background-color: indigo;\" >\n",
    "\n",
    "### Named Entity Recognition (NER)\n",
    "</div>"
   ]
  },
  {
   "cell_type": "code",
   "execution_count": 38,
   "metadata": {},
   "outputs": [
    {
     "data": {
      "text/plain": [
       "2     [(soon, RB), (first, RB), (came, VBD), (visit,...\n",
       "4     [(march, NN), (14, CD), (favorite, JJ), (day, ...\n",
       "9     [(twitter, NN), (verge, NN), (initial, JJ), (p...\n",
       "8     [(white, JJ), (house, NN), (wednesday, NN), (s...\n",
       "3     [(movie, NN), (actually, RB), (convince, JJ), ...\n",
       "5     [(families, NNS), (chinese, JJ), (passengers, ...\n",
       "1     [(loud, JJ), (music, NN), (pumps, NNS), (huge,...\n",
       "10    [(man, NN), (suspected, VBD), (trying, VBG), (...\n",
       "0     [(rory, NN), (mcilroy, NN), (good, JJ), (start...\n",
       "6     [(u, JJ), (n, JJ), (security, NN), (council, N...\n",
       "7     [(bipartisan, JJ), (group, NN), (women, NNS), ...\n",
       "Name: NER_tree, dtype: object"
      ]
     },
     "execution_count": 38,
     "metadata": {},
     "output_type": "execute_result"
    }
   ],
   "source": [
    "# NER_tree = ne_chunk(pos_tag(word_tokenize(pos_ner_text)))\n",
    "df_step4[\"NER_tree\"] = df_step4['pos_tag'].apply(lambda x: ne_chunk(x))\n",
    "df_step4[\"NER_tree\"]"
   ]
  },
  {
   "cell_type": "markdown",
   "metadata": {},
   "source": [
    "<div style=\"display: flex; background-color: indigo;\" >\n",
    "\n",
    "### Normalization - Stemming\n",
    "</div>\n",
    "\n",
    "\n",
    "* `Stemming` :  reducing words to their root or root form. Here, stemming algorithms work by cutting off the beginning or end of a word, taking into account a list of common prefixes and suffixes. However, this random cutting does not always work. Therefore, this approach has some limitations."
   ]
  },
  {
   "cell_type": "code",
   "execution_count": 39,
   "metadata": {},
   "outputs": [
    {
     "name": "stdout",
     "output_type": "stream",
     "text": [
      "Original Word: 'studies' \n",
      "\n",
      "With Stemming: studi\n",
      "with Lemmatization: study\n"
     ]
    }
   ],
   "source": [
    "stemmer = PorterStemmer()\n",
    "lemmatizer = WordNetLemmatizer()\n",
    "print(\"Original Word: 'studies' \")\n",
    "print()\n",
    "print('With Stemming: ' + str(stemmer.stem(\"studies\")))\n",
    "print('with Lemmatization: ' + str(lemmatizer.lemmatize(\"studies\")))"
   ]
  },
  {
   "cell_type": "code",
   "execution_count": 40,
   "metadata": {},
   "outputs": [
    {
     "data": {
      "text/plain": [
       "2     [soon, first, came, visit, china, autumn, 1971...\n",
       "4     [march, 14, favorit, day, nerd, across, countr...\n",
       "9     [twitter, verg, initi, public, offer, everyon,...\n",
       "8     [white, hous, wednesday, said, puzzl, former, ...\n",
       "3     [movi, actual, convinc, support, tortur, movi,...\n",
       "5     [famili, chines, passeng, board, miss, malaysi...\n",
       "1     [loud, music, pump, huge, speaker, front, row,...\n",
       "10    [man, suspect, tri, attack, dutch, royal, fami...\n",
       "0     [rori, mcilroy, good, start, scottish, open, h...\n",
       "6     [u, n, secur, council, approv, resolut, monday...\n",
       "7     [bipartisan, group, women, senat, wade, ongo, ...\n",
       "Name: Stemming, dtype: object"
      ]
     },
     "execution_count": 40,
     "metadata": {},
     "output_type": "execute_result"
    }
   ],
   "source": [
    "# NER_tree = ne_chunk(pos_tag(word_tokenize(pos_ner_text)))\n",
    "df_step4[\"Stemming\"] = df_step4['StopWordLess'].apply(lambda x: norm_stemming_func(x))\n",
    "df_step4[\"Stemming\"]"
   ]
  },
  {
   "cell_type": "markdown",
   "metadata": {},
   "source": [
    "<div style=\"display: flex; background-color: indigo;\" >\n",
    "\n",
    "### Normalization - Lemmatization\n",
    "</div>\n",
    "\n",
    "* `Lemmatization` : words are reduced to their base word. The lemmatization algorithms try to reduce the inflected words correctly so that the affiliation of the base word to the language is guaranteed."
   ]
  },
  {
   "cell_type": "code",
   "execution_count": 41,
   "metadata": {},
   "outputs": [
    {
     "data": {
      "text/plain": [
       "2     [soon, first, came, visit, china, autumn, 1971...\n",
       "4     [march, 14, favorite, day, nerd, across, count...\n",
       "9     [twitter, verge, initial, public, offering, ev...\n",
       "8     [white, house, wednesday, said, puzzled, forme...\n",
       "3     [movie, actually, convince, support, torture, ...\n",
       "5     [family, chinese, passenger, board, missing, m...\n",
       "1     [loud, music, pump, huge, speaker, front, row,...\n",
       "10    [man, suspected, trying, attack, dutch, royal,...\n",
       "0     [rory, mcilroy, good, start, scottish, open, h...\n",
       "6     [u, n, security, council, approved, resolution...\n",
       "7     [bipartisan, group, woman, senator, waded, ong...\n",
       "Name: Lemmatization, dtype: object"
      ]
     },
     "execution_count": 41,
     "metadata": {},
     "output_type": "execute_result"
    }
   ],
   "source": [
    "# NER_tree = ne_chunk(pos_tag(word_tokenize(pos_ner_text)))\n",
    "df_step4[\"Lemmatization\"] = df_step4['StopWordLess'].apply(lambda x: norm_lemm_func(x))\n",
    "df_step4[\"Lemmatization\"]"
   ]
  },
  {
   "cell_type": "code",
   "execution_count": 42,
   "metadata": {},
   "outputs": [
    {
     "data": {
      "text/plain": [
       "2     [soon, first, come, visit, china, autumn, 1971...\n",
       "4     [march, 14, favorite, day, nerd, across, count...\n",
       "9     [twitter, verge, initial, public, offer, every...\n",
       "8     [white, house, wednesday, say, puzzle, former,...\n",
       "3     [movie, actually, convince, support, torture, ...\n",
       "5     [families, chinese, passengers, board, miss, m...\n",
       "1     [loud, music, pump, huge, speakers, front, row...\n",
       "10    [man, suspect, try, attack, dutch, royal, fami...\n",
       "0     [rory, mcilroy, good, start, scottish, open, h...\n",
       "6     [u, n, security, council, approve, resolution,...\n",
       "7     [bipartisan, group, women, senators, wad, ongo...\n",
       "Name: Lemmatization_pos_v, dtype: object"
      ]
     },
     "execution_count": 42,
     "metadata": {},
     "output_type": "execute_result"
    }
   ],
   "source": [
    "df_step4[\"Lemmatization_pos_v\"] = df_step4['StopWordLess'].apply(lambda x: norm_lemm_v_func(x))\n",
    "df_step4[\"Lemmatization_pos_v\"]"
   ]
  },
  {
   "cell_type": "code",
   "execution_count": 43,
   "metadata": {},
   "outputs": [
    {
     "data": {
      "text/plain": [
       "2     [soon, first, came, visit, china, autumn, 1971...\n",
       "4     [march, 14, favorite, day, nerd, across, count...\n",
       "9     [twitter, verge, initial, public, offering, ev...\n",
       "8     [white, house, wednesday, said, puzzled, forme...\n",
       "3     [movie, actually, convince, support, torture, ...\n",
       "5     [families, chinese, passengers, board, missing...\n",
       "1     [loud, music, pumps, huge, speakers, front, ro...\n",
       "10    [man, suspected, trying, attack, dutch, royal,...\n",
       "0     [rory, mcilroy, good, start, scottish, open, h...\n",
       "6     [u, n, security, council, approved, resolution...\n",
       "7     [bipartisan, group, women, senators, waded, on...\n",
       "Name: Lemmatization_pos_a, dtype: object"
      ]
     },
     "execution_count": 43,
     "metadata": {},
     "output_type": "execute_result"
    }
   ],
   "source": [
    "df_step4[\"Lemmatization_pos_a\"] = df_step4['StopWordLess'].apply(lambda x: norm_lemm_a_func(x))\n",
    "df_step4[\"Lemmatization_pos_a\"]"
   ]
  },
  {
   "cell_type": "code",
   "execution_count": 44,
   "metadata": {},
   "outputs": [
    {
     "data": {
      "text/plain": [
       "2     [soon, first, come, visit, china, autumn, 1971...\n",
       "4     [march, 14, favorite, day, nerd, across, count...\n",
       "9     [twitter, verge, initial, public, offering, ev...\n",
       "8     [white, house, wednesday, say, puzzle, former,...\n",
       "3     [movie, actually, convince, support, torture, ...\n",
       "5     [family, chinese, passenger, board, miss, mala...\n",
       "1     [loud, music, pump, huge, speaker, front, row,...\n",
       "10    [man, suspect, try, attack, dutch, royal, fami...\n",
       "0     [rory, mcilroy, good, start, scottish, open, h...\n",
       "6     [u, n, security, council, approve, resolution,...\n",
       "7     [bipartisan, group, woman, senator, wad, ongoi...\n",
       "Name: Lemmatization_all, dtype: object"
      ]
     },
     "execution_count": 44,
     "metadata": {},
     "output_type": "execute_result"
    }
   ],
   "source": [
    "df_step4[\"Lemmatization_all\"] = df_step4['StopWordLess'].apply(lambda x: norm_lemm_POS_tag_func(x))\n",
    "df_step4[\"Lemmatization_all\"]"
   ]
  },
  {
   "cell_type": "code",
   "execution_count": 45,
   "metadata": {},
   "outputs": [
    {
     "data": {
      "text/plain": [
       "2     {'soon': 2, 'first': 4, 'come': 3, 'visit': 1,...\n",
       "4     {'march': 4, '14': 11, 'favorite': 1, 'day': 3...\n",
       "9     {'twitter': 8, 'verge': 1, 'initial': 1, 'publ...\n",
       "8     {'white': 11, 'house': 11, 'wednesday': 1, 'sa...\n",
       "3     {'movie': 10, 'actually': 1, 'convince': 1, 's...\n",
       "5     {'family': 8, 'chinese': 10, 'passenger': 2, '...\n",
       "1     {'loud': 1, 'music': 1, 'pump': 1, 'huge': 1, ...\n",
       "10    {'man': 3, 'suspect': 1, 'try': 2, 'attack': 4...\n",
       "0     {'rory': 1, 'mcilroy': 7, 'good': 5, 'start': ...\n",
       "6     {'u': 2, 'n': 2, 'security': 3, 'council': 3, ...\n",
       "7     {'bipartisan': 1, 'group': 1, 'woman': 2, 'sen...\n",
       "Name: Word_Count_Lemmatization_all, dtype: object"
      ]
     },
     "execution_count": 45,
     "metadata": {},
     "output_type": "execute_result"
    }
   ],
   "source": [
    "df_step4['Word_Count_Lemmatization_all'] = df_step4['Lemmatization_all'].apply(lambda x: nltk.FreqDist(x))\n",
    "df_step4['Word_Count_Lemmatization_all']"
   ]
  },
  {
   "cell_type": "code",
   "execution_count": 46,
   "metadata": {},
   "outputs": [
    {
     "data": {
      "text/plain": [
       "2     {23: ['china'], 14: ['mao'], 10: ['people'], 9...\n",
       "4     {53: ['pi'], 31: ['day'], 12: ['digit'], 11: [...\n",
       "9     {24: ['woman'], 10: ['company'], 8: ['twitter'...\n",
       "8     {19: ['mcclellan'], 16: ['say'], 15: ['bush'],...\n",
       "3     {15: ['film'], 10: ['movie'], 8: ['torture'], ...\n",
       "5     {10: ['chinese'], 8: ['family', 'malaysian'], ...\n",
       "1     {13: ['say'], 9: ['designer'], 7: ['fashion'],...\n",
       "10    {10: ['family'], 9: ['royal'], 8: ['say', 'que...\n",
       "0     {7: ['mcilroy', 'well'], 6: ['open'], 5: ['goo...\n",
       "6     {6: ['sudan'], 5: ['resolution', 'abyei'], 3: ...\n",
       "7     {7: ['nfl'], 4: ['ray', 'rice'], 3: ['senator'...\n",
       "Name: Count_Word_Lemmatization_all, dtype: object"
      ]
     },
     "execution_count": 46,
     "metadata": {},
     "output_type": "execute_result"
    }
   ],
   "source": [
    "df_step4['Count_Word_Lemmatization_all'] = df_step4['Word_Count_Lemmatization_all'].apply(lambda x: words_by_weight(x))\n",
    "df_step4['Count_Word_Lemmatization_all']"
   ]
  },
  {
   "cell_type": "code",
   "execution_count": 1,
   "metadata": {},
   "outputs": [],
   "source": [
    "import pandas as pd\n",
    "import numpy as np\n",
    "import seaborn as sns\n",
    "import matplotlib.pyplot as plt\n",
    "from matplotlib.ticker import FuncFormatter\n",
    "from os import getcwd, listdir\n",
    "from os.path import isfile, join\n",
    "import bs4\n",
    "import nltk\n",
    "from ara_nlp_function import *\n",
    "from collections import defaultdict\n",
    "import sys\n",
    "sys.path.append(\"C:\\\\Users\\\\User\\\\WORK\\\\workspace-ia\\\\PERSO\\\\\")\n",
    "from ara_commons.ara_file import *"
   ]
  },
  {
   "cell_type": "markdown",
   "metadata": {},
   "source": [
    "<div style=\"display: flex; background-color: Blue; padding: 15px;\" >\n",
    "\n",
    "# ANNEXES"
   ]
  },
  {
   "cell_type": "code",
   "execution_count": 47,
   "metadata": {},
   "outputs": [
    {
     "ename": "SyntaxError",
     "evalue": "invalid syntax (693838000.py, line 1)",
     "output_type": "error",
     "traceback": [
      "\u001b[1;36m  Input \u001b[1;32mIn [47]\u001b[1;36m\u001b[0m\n\u001b[1;33m    just to fail\u001b[0m\n\u001b[1;37m         ^\u001b[0m\n\u001b[1;31mSyntaxError\u001b[0m\u001b[1;31m:\u001b[0m invalid syntax\n"
     ]
    }
   ],
   "source": [
    "just to fail"
   ]
  },
  {
   "cell_type": "code",
   "execution_count": 46,
   "metadata": {},
   "outputs": [],
   "source": [
    "def get_data_from_page_old(file_path):\n",
    "  \n",
    "    # Ouvrir le fichier en lecture seule\n",
    "    file = open(file_path, \"r\")\n",
    "    # utiliser readlines pour lire toutes les lignes du fichier\n",
    "    # La variable \"lignes\" est une liste contenant toutes les lignes du fichier\n",
    "    lines = file.readlines()\n",
    "    # fermez le fichier après avoir lu les lignes\n",
    "    file.close()\n",
    "\n",
    "    highlights = []\n",
    "    next_high = False\n",
    "    sentences = \"\"\n",
    "\n",
    "    # Itérer sur les lignes\n",
    "    for line in lines:\n",
    "        if \"@highlight\" in line:\n",
    "            next_high = True\n",
    "            continue\n",
    "        str = line.strip()\n",
    "        if len(str)>0:\n",
    "            if next_high:\n",
    "                highlights.append(line.strip())\n",
    "            else:\n",
    "                sentences += line.strip() + \" \"\n",
    "        \n",
    "    return (highlights, sentences)"
   ]
  },
  {
   "cell_type": "code",
   "execution_count": null,
   "metadata": {},
   "outputs": [
    {
     "name": "stderr",
     "output_type": "stream",
     "text": [
      "[nltk_data] Downloading package words to\n",
      "[nltk_data]     C:\\Users\\User\\AppData\\Roaming\\nltk_data...\n",
      "[nltk_data]   Unzipping corpora\\words.zip.\n"
     ]
    },
    {
     "data": {
      "text/plain": [
       "True"
      ]
     },
     "execution_count": 40,
     "metadata": {},
     "output_type": "execute_result"
    }
   ],
   "source": [
    "# nltk.download('words')"
   ]
  }
 ],
 "metadata": {
  "interpreter": {
   "hash": "ac59ebe37160ed0dfa835113d9b8498d9f09ceb179beaac4002f036b9467c963"
  },
  "kernelspec": {
   "display_name": "Python 3.9.9 64-bit",
   "language": "python",
   "name": "python3"
  },
  "language_info": {
   "codemirror_mode": {
    "name": "ipython",
    "version": 3
   },
   "file_extension": ".py",
   "mimetype": "text/x-python",
   "name": "python",
   "nbconvert_exporter": "python",
   "pygments_lexer": "ipython3",
   "version": "3.9.10"
  },
  "orig_nbformat": 4
 },
 "nbformat": 4,
 "nbformat_minor": 2
}
