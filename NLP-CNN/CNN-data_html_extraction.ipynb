{
 "cells": [
  {
   "cell_type": "markdown",
   "metadata": {},
   "source": [
    "# CNN\n",
    "\n",
    "* Créer des paires de document (article, highlights)\n",
    "* Suppression de la ponctuation\n",
    "* Séparation en token en minuscules\n",
    "* Suppression des stopwords pour les articles\n",
    "* Calcul des fréquences et tf-idf sur les deux types de documents\n",
    "* Enregistrement du nouveau jeu de données d’entraînement pour usage ultérieur\n",
    "\n",
    "Vous êtes allé jusqu'au bout ? Vérifiez-bien que vous avez les éléments suivants :\n",
    "\n",
    "* le texte final est tokenisé sans ponctuation et en minuscules à l’aide d’une regex ;\n",
    "* tous les documents ont été transformés en matrices de valeurs tf-idf calculées sur les paires (articles, highlight)."
   ]
  },
  {
   "cell_type": "code",
   "execution_count": 11,
   "metadata": {},
   "outputs": [],
   "source": [
    "import pandas as pd\n",
    "import numpy as np\n",
    "import seaborn as sns\n",
    "import matplotlib.pyplot as plt\n",
    "from matplotlib.ticker import FuncFormatter\n",
    "from os import getcwd, listdir\n",
    "from os.path import isfile, join\n",
    "import bs4"
   ]
  },
  {
   "cell_type": "code",
   "execution_count": 6,
   "metadata": {},
   "outputs": [],
   "source": [
    "# ---------------------------------------------------------------------------------------------\n",
    "#                               MAIN\n",
    "# ---------------------------------------------------------------------------------------------\n",
    "verbose = False\n",
    "verboseMain = False\n",
    "\n",
    "# Récupère le répertoire du programme\n",
    "file_path = getcwd() + \"\\\\\"\n",
    "data_path = file_path+\"cnn2\\\\\"\n",
    "data_path"
   ]
  },
  {
   "cell_type": "code",
   "execution_count": 46,
   "metadata": {},
   "outputs": [
    {
     "data": {
      "text/plain": [
       "['000c835555db62e319854d9f8912061cdca1893e.html',\n",
       " '00a51d5454f2ef7dbf4c53471223a27fb9c20681.html']"
      ]
     },
     "execution_count": 46,
     "metadata": {},
     "output_type": "execute_result"
    }
   ],
   "source": [
    "fichiers = [f for f in listdir(data_path) if isfile(join(data_path, f)) and f.endswith(\".html\")]\n",
    "fichiers"
   ]
  },
  {
   "cell_type": "code",
   "execution_count": 13,
   "metadata": {},
   "outputs": [],
   "source": [
    "# Etape 2 : utiliser le package BeautifulSoup\n",
    "# qui \"comprend\" les balises contenues dans la chaine de caractères renvoyée par la fonction request\n",
    "def get_page(url):\n",
    "    html = open(url).read()\n",
    "    return bs4.BeautifulSoup(html, \"html.parser\")"
   ]
  },
  {
   "cell_type": "code",
   "execution_count": 41,
   "metadata": {},
   "outputs": [],
   "source": [
    "def get_data_from_page(file_path):\n",
    "    page = get_page(file_path)\n",
    "    titre = \"\"\n",
    "    try:\n",
    "        titre = page.findChild('h2', {'class': 'cd__headline'}).getText()\n",
    "    except:\n",
    "        titre = page.findChild('h1').getText()\n",
    "        \n",
    "    highlights = []\n",
    "    try:\n",
    "        #html_hight = page.findChild('div', {'class': 'el__storyhighlights'})\n",
    "        for ul in page.findAll('li', {'class': 'el__storyhighlights__item el__storyhighlights--normal'}):\n",
    "            highlights.append(ul.getText())\n",
    "    except:\n",
    "        for ul in page.findAll('li'):\n",
    "            highlights.append(ul.getText())\n",
    "\n",
    "    # div l-container\n",
    "    div1 = page.find('section', {'id': 'body-text'})\n",
    "    div2 = div1.find('div', {'class': 'l-container'})\n",
    "\n",
    "    sentences = \"\"\n",
    "\n",
    "    for stc in div2.findAll('p', {'class': 'zn-body__paragraph'}):\n",
    "        sentences += stc.getText().strip() + \" \"\n",
    "    \n",
    "    return (titre, highlights, sentences)"
   ]
  },
  {
   "cell_type": "code",
   "execution_count": 47,
   "metadata": {},
   "outputs": [],
   "source": [
    "df_origin = pd.DataFrame(columns=['titre','highlights','sentences'])"
   ]
  },
  {
   "cell_type": "code",
   "execution_count": 48,
   "metadata": {},
   "outputs": [
    {
     "name": "stdout",
     "output_type": "stream",
     "text": [
      "(2, 3)\n"
     ]
    },
    {
     "data": {
      "text/html": [
       "<div>\n",
       "<style scoped>\n",
       "    .dataframe tbody tr th:only-of-type {\n",
       "        vertical-align: middle;\n",
       "    }\n",
       "\n",
       "    .dataframe tbody tr th {\n",
       "        vertical-align: top;\n",
       "    }\n",
       "\n",
       "    .dataframe thead th {\n",
       "        text-align: right;\n",
       "    }\n",
       "</style>\n",
       "<table border=\"1\" class=\"dataframe\">\n",
       "  <thead>\n",
       "    <tr style=\"text-align: right;\">\n",
       "      <th></th>\n",
       "      <th>titre</th>\n",
       "      <th>highlights</th>\n",
       "      <th>sentences</th>\n",
       "    </tr>\n",
       "  </thead>\n",
       "  <tbody>\n",
       "    <tr>\n",
       "      <th>0</th>\n",
       "      <td>Pope Francis names new slate of cardinals</td>\n",
       "      <td>[The 15 new cardinals will be installed on Feb...</td>\n",
       "      <td>(CNN)For the second time during his papacy, Po...</td>\n",
       "    </tr>\n",
       "    <tr>\n",
       "      <th>1</th>\n",
       "      <td>Sen. Marco Rubio announces presidential run</td>\n",
       "      <td>[Raul Reyes: In seeking Latino vote, Marco Rub...</td>\n",
       "      <td>Raul A. Reyes is an attorney and member of the...</td>\n",
       "    </tr>\n",
       "  </tbody>\n",
       "</table>\n",
       "</div>"
      ],
      "text/plain": [
       "                                         titre  \\\n",
       "0    Pope Francis names new slate of cardinals   \n",
       "1  Sen. Marco Rubio announces presidential run   \n",
       "\n",
       "                                          highlights  \\\n",
       "0  [The 15 new cardinals will be installed on Feb...   \n",
       "1  [Raul Reyes: In seeking Latino vote, Marco Rub...   \n",
       "\n",
       "                                           sentences  \n",
       "0  (CNN)For the second time during his papacy, Po...  \n",
       "1  Raul A. Reyes is an attorney and member of the...  "
      ]
     },
     "execution_count": 48,
     "metadata": {},
     "output_type": "execute_result"
    }
   ],
   "source": [
    "for file in fichiers:\n",
    "    try:\n",
    "        titre, highlights, sentences = get_data_from_page(data_path+file)\n",
    "        new_row = {'titre':titre, 'highlights':highlights, 'sentences':sentences}\n",
    "        df_origin = df_origin.append(new_row,ignore_index=True, verify_integrity=False)\n",
    "    except:\n",
    "        pass\n",
    "print(df_origin.shape)\n",
    "df_origin.head()"
   ]
  }
 ],
 "metadata": {
  "interpreter": {
   "hash": "ac59ebe37160ed0dfa835113d9b8498d9f09ceb179beaac4002f036b9467c963"
  },
  "kernelspec": {
   "display_name": "Python 3.9.9 64-bit",
   "language": "python",
   "name": "python3"
  },
  "language_info": {
   "codemirror_mode": {
    "name": "ipython",
    "version": 3
   },
   "file_extension": ".py",
   "mimetype": "text/x-python",
   "name": "python",
   "nbconvert_exporter": "python",
   "pygments_lexer": "ipython3",
   "version": "3.9.9"
  },
  "orig_nbformat": 4
 },
 "nbformat": 4,
 "nbformat_minor": 2
}
