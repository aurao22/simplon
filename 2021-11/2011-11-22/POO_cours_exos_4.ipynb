{
 "cells": [
  {
   "cell_type": "markdown",
   "metadata": {},
   "source": [
    "# Concepts fondateurs\n",
    "Exercices du cours"
   ]
  },
  {
   "cell_type": "markdown",
   "metadata": {},
   "source": [
    "## Exercice 4.2. Gestion du stock\n",
    "La classe Article contient un prixHT. Ajouter une classe Vetement contenant les mˆemes informations et services que la classe Article, 4\n",
    "avec en plus les attributs taille et coloris. Ajouter une classe ArticleDeLuxe contenant les mˆemes\n",
    "informations et services que la classe Article, # si ce n’est une nouvelle d´efinition de la m´ethode\n",
    "prixTTC (taxe di↵´erente)."
   ]
  },
  {
   "cell_type": "code",
   "execution_count": 2,
   "metadata": {},
   "outputs": [
    {
     "name": "stdout",
     "output_type": "stream",
     "text": [
      "Ma chaussure reste en stock 8\n",
      "prix 55 HT\n",
      "transport 2.75\n",
      "prix 66.0 TTC\n",
      "Ma chaussure en stock 10\n"
     ]
    }
   ],
   "source": [
    "class Article:\n",
    "\n",
    "    def __init__(self, reference, designation, prix_ht=0, quantite=0) -> None:\n",
    "        self.reference = reference\n",
    "        self.designation = designation\n",
    "        self.prix_ht = prix_ht\n",
    "        self.quantite = quantite\n",
    "\n",
    "    def prix_ttc(self):\n",
    "        return self.prix_ht*1.20\n",
    "\n",
    "    def prix_transport(self):\n",
    "        return self.prix_ht*0.05\n",
    "\n",
    "    def retirer(self, quantite):\n",
    "        if self.quantite >= quantite:\n",
    "            self.quantite -= quantite\n",
    "        else:\n",
    "            return None\n",
    "        return self.quantite\n",
    "\n",
    "    def ajouter(self, quantite):\n",
    "        self.quantite += quantite\n",
    "        return self.quantite\n",
    "\n",
    "\n",
    "chaussure = Article(45, \"Ma chaussure\", 55, 10)\n",
    "print(f\"{chaussure.designation} reste en stock {chaussure.retirer(2)}\")\n",
    "print(f\"prix {chaussure.prix_ht} HT\")\n",
    "print(f\"transport {chaussure.prix_transport()}\")\n",
    "print(f\"prix {chaussure.prix_ttc()} TTC\")\n",
    "print(f\"{chaussure.designation} en stock {chaussure.ajouter(2)}\")"
   ]
  },
  {
   "cell_type": "code",
   "execution_count": 3,
   "metadata": {},
   "outputs": [],
   "source": [
    "class Vetement(Article):\n",
    "\n",
    "    def __init__(self, reference, designation, taille, coloris, prix_ht=0, quantite=0) -> None:\n",
    "        super().__init__(reference, designation, prix_ht, quantite)\n",
    "        self.taille = taille\n",
    "        self.coloris = coloris"
   ]
  },
  {
   "cell_type": "code",
   "execution_count": 4,
   "metadata": {},
   "outputs": [],
   "source": [
    "class ArticleDeLuxe(Vetement):\n",
    "\n",
    "    def __init__(self, reference, designation, taille, coloris, prix_ht=0, quantite=0) -> None:\n",
    "        super().__init__(reference, designation, taille, coloris, prix_ht, quantite)\n",
    "\n",
    "    def prix_ttc(self):\n",
    "        return self.prix_ht*2.20"
   ]
  },
  {
   "cell_type": "code",
   "execution_count": 5,
   "metadata": {},
   "outputs": [
    {
     "name": "stdout",
     "output_type": "stream",
     "text": [
      "prix_ttc=1760.0000000000002\n"
     ]
    }
   ],
   "source": [
    "mon_article_de_luxe = ArticleDeLuxe(\"004\", \"Vetement\", 2, \"Noir\", 800, 2)\n",
    "print(f\"prix_ttc={mon_article_de_luxe.prix_ttc()}\")"
   ]
  }
 ],
 "metadata": {
  "kernelspec": {
   "display_name": "Python 3",
   "language": "python",
   "name": "python3"
  },
  "language_info": {
   "codemirror_mode": {
    "name": "ipython",
    "version": 3
   },
   "file_extension": ".py",
   "mimetype": "text/x-python",
   "name": "python",
   "nbconvert_exporter": "python",
   "pygments_lexer": "ipython3",
   "version": "3.9.9"
  }
 },
 "nbformat": 4,
 "nbformat_minor": 4
}
