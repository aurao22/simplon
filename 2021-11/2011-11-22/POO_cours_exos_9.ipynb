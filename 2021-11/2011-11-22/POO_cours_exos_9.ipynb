{
 "cells": [
  {
   "cell_type": "markdown",
   "metadata": {},
   "source": [
    "# Concepts fondateurs\n",
    "Exercices du cours"
   ]
  },
  {
   "cell_type": "markdown",
   "metadata": {},
   "source": [
    "# 9.1 Domino\n",
    "D´efinissez une classe Domino qui permette d’instancier des objets simulant les pi`eces d’un\n",
    "jeu de dominos.\n",
    "1. Le constructeur de cette classe initialisera les valeurs des points pr´esents sur les deux faces\n",
    "A et B du domino (valeurs par d´efaut = 0).\n",
    "2. Deux autres m´ethodes seront d´efinies :\n",
    ". une m´ethode affiche points() qui a!che les points pr´esents sur les deux faces\n",
    ". une m´ethode valeur() qui renvoie la somme des points pr´esents sur les 2 faces."
   ]
  },
  {
   "cell_type": "code",
   "execution_count": 3,
   "metadata": {},
   "outputs": [],
   "source": [
    "class Domino:\n",
    "    \"\"\"  \"\"\"\n",
    "\n",
    "    def __init__(self, a, b):\n",
    "        self.a = a\n",
    "        self.b = b\n",
    "\n",
    "    def affiche_points(self):\n",
    "        print(f\"face A : {self.a} face B : {self.b}\")\n",
    "\n",
    "    def valeur(self):\n",
    "        return self.a + self.b"
   ]
  },
  {
   "cell_type": "code",
   "execution_count": 4,
   "metadata": {},
   "outputs": [
    {
     "name": "stdout",
     "output_type": "stream",
     "text": [
      "face A : 2 face B : 6\n",
      "face A : 4 face B : 3\n",
      "A points 8\n",
      "B points 7\n"
     ]
    }
   ],
   "source": [
    "d1 = Domino(2,6)\n",
    "d2 = Domino(4,3)\n",
    "\n",
    "d1.affiche_points()\n",
    "d2.affiche_points()\n",
    "\n",
    "print(f\"A points {d1.valeur()}\")\n",
    "print(f\"B points {d2.valeur()}\")"
   ]
  },
  {
   "cell_type": "markdown",
   "metadata": {},
   "source": [
    "## 9.2 CompteBancaire"
   ]
  },
  {
   "cell_type": "code",
   "execution_count": 7,
   "metadata": {},
   "outputs": [],
   "source": [
    "class CompteBancaire:\n",
    "    def __init__(self, nom=\"Dupont\", solde=1000):\n",
    "        self.nom = nom\n",
    "        self.solde = solde\n",
    "\n",
    "    def depot(self, somme):\n",
    "        self.solde += somme\n",
    "\n",
    "    def retrait(self, somme):\n",
    "        self.solde -= somme\n",
    "\n",
    "    def affiche(self):\n",
    "        print(f\"Le solde de {self.nom} est de {self.solde} euros\")"
   ]
  },
  {
   "cell_type": "code",
   "execution_count": 8,
   "metadata": {},
   "outputs": [
    {
     "name": "stdout",
     "output_type": "stream",
     "text": [
      "Le solde de Duchmol est de 950 euros\n",
      "Le solde de Dupont est de 1025 euros\n"
     ]
    }
   ],
   "source": [
    "compte1 = CompteBancaire ( \"Duchmol\" , 800 )\n",
    "compte1.depot (350 )\n",
    "compte1.retrait (200 )\n",
    "compte1.affiche()\n",
    "\n",
    "compte2 = CompteBancaire ()\n",
    "compte2.depot (25 )\n",
    "compte2.affiche()\n"
   ]
  },
  {
   "cell_type": "markdown",
   "metadata": {},
   "source": [
    "## 9.3 Voiture"
   ]
  },
  {
   "cell_type": "code",
   "execution_count": 9,
   "metadata": {},
   "outputs": [],
   "source": [
    "class Voiture:\n",
    "    \n",
    "    def __init__(self, marque=\"Ford\", couleur=\"rouge\"):\n",
    "        self.marque = marque\n",
    "        self.pilote = \"personne\"\n",
    "        self.couleur = couleur\n",
    "        self.vitesse = 0\n",
    "\n",
    "    def choix_conduteur(self, pilote):\n",
    "        self.pilote = pilote\n",
    "\n",
    "    def accelerer(self, taux, duree):\n",
    "        if self.pilote != \"personne\":\n",
    "            self.vitesse = taux * duree\n",
    "        else:\n",
    "            print(\"Cette voiture n'a pas de conducteur !\")\n",
    "\n",
    "    def affiche_tout(self):\n",
    "        print(f\"{self.marque} pilotee par {self.pilote} , vitesse = {self.vitesse} m/s.\")"
   ]
  },
  {
   "cell_type": "code",
   "execution_count": 12,
   "metadata": {},
   "outputs": [
    {
     "name": "stdout",
     "output_type": "stream",
     "text": [
      "Cette voiture n'a pas de conducteur !\n",
      "Ford pilotee par Juliette , vitesse = 21.6 m/s.\n",
      "Mercedes pilotee par personne , vitesse = 0 m/s.\n"
     ]
    }
   ],
   "source": [
    "a1=Voiture(\"Peugeot\",\"bleue\")\n",
    "a2=Voiture(couleur=\"verte\")\n",
    "a3=Voiture(\"Mercedes\")\n",
    "a1.choix_conduteur(\"Romeo\")\n",
    "a2.choix_conduteur(\"Juliette\")\n",
    "a2.accelerer(1.8,12)\n",
    "a3.accelerer(1.9,11)\n",
    "a2.affiche_tout()\n",
    "a3.affiche_tout()"
   ]
  }
 ],
 "metadata": {
  "kernelspec": {
   "display_name": "Python 3",
   "language": "python",
   "name": "python3"
  },
  "language_info": {
   "codemirror_mode": {
    "name": "ipython",
    "version": 3
   },
   "file_extension": ".py",
   "mimetype": "text/x-python",
   "name": "python",
   "nbconvert_exporter": "python",
   "pygments_lexer": "ipython3",
   "version": "3.9.9"
  }
 },
 "nbformat": 4,
 "nbformat_minor": 4
}
