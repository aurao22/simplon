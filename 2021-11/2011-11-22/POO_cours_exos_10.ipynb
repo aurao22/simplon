{
 "cells": [
  {
   "cell_type": "markdown",
   "metadata": {},
   "source": [
    "# Concepts fondateurs\n",
    "Exercices du cours"
   ]
  },
  {
   "cell_type": "markdown",
   "metadata": {},
   "source": [
    "# 10.1 Collaboration"
   ]
  },
  {
   "cell_type": "code",
   "execution_count": 14,
   "metadata": {},
   "outputs": [],
   "source": [
    "class Point:\n",
    "    \n",
    "    def __init__(self, x=0, y=0):\n",
    "        self.x = x\n",
    "        self.y = y\n",
    "\n",
    "    def __del__(self):\n",
    "        print(\"Point détruit\")"
   ]
  },
  {
   "cell_type": "code",
   "execution_count": 6,
   "metadata": {},
   "outputs": [],
   "source": [
    "class Rectangle:\n",
    "\n",
    "    def __init__(self, largeur=0, hauteur=0, point=Point(0,0)):\n",
    "        self.largeur = largeur\n",
    "        self.hauteur = hauteur\n",
    "        self.point = point\n",
    "\n",
    "    def __del__(self):\n",
    "        print(\"Rectangle détruit\")"
   ]
  },
  {
   "cell_type": "code",
   "execution_count": 8,
   "metadata": {},
   "outputs": [
    {
     "name": "stdout",
     "output_type": "stream",
     "text": [
      "Rectangle détruit\n",
      "Point détruit\n",
      "Rectangle détruit\n",
      "Point détruit\n"
     ]
    }
   ],
   "source": [
    "rectangle1 = Rectangle(50,35, Point(12,27))\n",
    "rectangle1 = None"
   ]
  },
  {
   "cell_type": "code",
   "execution_count": 9,
   "metadata": {},
   "outputs": [],
   "source": [
    "def trouveCentre(rectangle):\n",
    "    \"\"\"\n",
    "    :param rectangle: <Rectangle> \n",
    "    :return: <Point>\n",
    "    \"\"\"\n",
    "    centre = Point(0,0)\n",
    "    if rectangle is not None:\n",
    "        mi_largeur = rectangle.largeur / 2\n",
    "        mi_hauteur = rectangle.hauteur / 2\n",
    "        centre = Point(rectangle.point.x+mi_largeur, rectangle.point.y+mi_hauteur)\n",
    "    return centre"
   ]
  },
  {
   "cell_type": "code",
   "execution_count": 13,
   "metadata": {},
   "outputs": [
    {
     "name": "stdout",
     "output_type": "stream",
     "text": [
      "Rectangle détruit\n",
      "Point détruit\n",
      "Point détruit\n",
      "Point détruit\n",
      "37.0:44.5\n",
      "Point détruit\n",
      "Point détruit\n",
      "34.5:54.5\n"
     ]
    }
   ],
   "source": [
    "rectangle1 = Rectangle(50,35, Point(12,27))\n",
    "\n",
    "centre = trouveCentre(rectangle1)\n",
    "print(f\"{centre.x}:{centre.y}\")\n",
    "\n",
    "rectangle1.largeur -= 5\n",
    "rectangle1.hauteur += 20\n",
    "centre = trouveCentre(rectangle1)\n",
    "print(f\"{centre.x}:{centre.y}\")"
   ]
  },
  {
   "cell_type": "markdown",
   "metadata": {},
   "source": [
    "# 10.2 Héritage"
   ]
  },
  {
   "cell_type": "code",
   "execution_count": 31,
   "metadata": {},
   "outputs": [],
   "source": [
    "class Heures():\n",
    "\n",
    "    def __init__(self, nom, nombre, prix) -> None:\n",
    "        self.nom = nom\n",
    "        self.nombre = nombre\n",
    "        self.prix = prix\n",
    "\n",
    "    def retribution(self):\n",
    "        return self.nombre * self.prix\n",
    "\n",
    "\n",
    "class HeuresComplementaire(Heures):\n",
    "\n",
    "    # le prix d’une heure compl´ementaire est de 10 Euros\n",
    "    prix_heure_complementaire = 10\n",
    "\n",
    "    def __init__(self, nombre) -> None:\n",
    "        super().__init__(\"Complementaire\", nombre, HeuresComplementaire.prix_heure_complementaire)\n",
    "\n",
    "class HeuresStatutaire(Heures):\n",
    "\n",
    "    prix_heure_statuaire = 5\n",
    "\n",
    "    def __init__(self, nombre) -> None:\n",
    "        super().__init__(\"Statuaires\", nombre, HeuresStatutaire.prix_heure_statuaire)\n",
    "\n",
    "\n",
    "class Enseignants():\n",
    "   \n",
    "    def __init__(self, nom, heures_complementaires):\n",
    "        self.nom = nom\n",
    "        self.heures_complementaires = heures_complementaires\n",
    "\n",
    "    def get_nom(self):\n",
    "        return self.nom\n",
    "\n",
    "    def hc(self):\n",
    "        return self.heures_complementaires.nombre\n",
    "\n",
    "    def retribution(self):\n",
    "        return self.heures_complementaires.retribution()\n",
    "\n",
    "    def nb_heures(self):\n",
    "        return self.hc()\n",
    "\n",
    "class IntervenantExterieur(Enseignants):\n",
    "\n",
    "    def __init__(self, nom, nb_heures):\n",
    "        super().__init__(nom, HeuresComplementaire(nb_heures))\n",
    "\n",
    "class EnseignantsFac(Enseignants):\n",
    "\n",
    "    # seules les heures assur´ees au del`a d’une charge statutaire de 192h sont complémentaires\n",
    "    nb_heures_annuelles = 192\n",
    "\n",
    "    def __init__(self, nom, heures):\n",
    "        if heures <= EnseignantsFac.nb_heures_annuelles:\n",
    "            self.heures_statuaires = HeuresStatutaire(heures)\n",
    "            super().__init__(nom, HeuresComplementaire(0))\n",
    "        else:\n",
    "            hc = heures - EnseignantsFac.nb_heures_annuelles\n",
    "            self.heures_statuaires = HeuresStatutaire(EnseignantsFac.nb_heures_annuelles)\n",
    "            super().__init__(nom, HeuresComplementaire(hc))\n",
    "\n",
    "    def retribution_statuaire(self):\n",
    "        return self.heures_statuaires.retribution()\n",
    "\n",
    "    def retribution_hc(self):\n",
    "        return self.heures_statuaires.retribution()\n",
    "\n",
    "    def retribution(self):\n",
    "        return super().retribution() + self.retribution_statuaire()\n",
    "\n",
    "    def nb_heures(self):\n",
    "        return super().nb_heures() +  self.heures_statuaires.nombre\n",
    "       \n",
    "\n",
    "\n",
    "class EtudiantsEnseignants(Enseignants):\n",
    "\n",
    "    # les ´etudiants de troisi`eme cycle qui assurent des enseignements : toutes les heures e↵ectu´ees sont compl´ementaires mais dans la limite de 96 heures.\n",
    "    max_heures = 96\n",
    "\n",
    "    def __init__(self, nom, heures):\n",
    "        if heures <= EtudiantsEnseignants.max_heures:\n",
    "            super().__init__(nom, HeuresComplementaire(heures))\n",
    "        else:\n",
    "            super().__init__(nom, HeuresComplementaire(EtudiantsEnseignants.max_heures))\n"
   ]
  },
  {
   "cell_type": "code",
   "execution_count": 34,
   "metadata": {},
   "outputs": [
    {
     "name": "stdout",
     "output_type": "stream",
     "text": [
      "Etudiant1 - 18, 18 soit :180\n",
      "Etudiant2 - 96, 96 soit :960\n",
      "Etudiant3 - 96, 96 soit :960\n",
      "EnseignantsFac1 - 180, 0 soit :900\n",
      "EnseignantsFac2 - 192, 0 soit :960\n",
      "EnseignantsFac3 - 200, 8 soit :1040\n",
      "Intervenant2 - 180, 180 soit :1800\n",
      "Intervenant1 - 192, 192 soit :1920\n",
      "Intervenant3 - 200, 200 soit :2000\n"
     ]
    }
   ],
   "source": [
    "profs = [ EtudiantsEnseignants(\"Etudiant1\", 18),\n",
    "         EtudiantsEnseignants(\"Etudiant2\", 96), \n",
    "         EtudiantsEnseignants(\"Etudiant3\", 120),\n",
    "         EnseignantsFac(\"EnseignantsFac1\", 180),\n",
    "         EnseignantsFac(\"EnseignantsFac2\", 192),\n",
    "         EnseignantsFac(\"EnseignantsFac3\", 200),\n",
    "         IntervenantExterieur(\"Intervenant2\", 180),\n",
    "         IntervenantExterieur(\"Intervenant1\", 192),\n",
    "         IntervenantExterieur(\"Intervenant3\", 200)\n",
    "        ]\n",
    "\n",
    "for enseignants in profs:\n",
    "    print(f\"{enseignants.get_nom()} - {enseignants.nb_heures()}, {enseignants.hc()} soit :{enseignants.retribution()}\")\n",
    "\n"
   ]
  },
  {
   "cell_type": "markdown",
   "metadata": {},
   "source": [
    "## 10.2.2 H´eritage simple et multiple"
   ]
  },
  {
   "cell_type": "code",
   "execution_count": null,
   "metadata": {},
   "outputs": [],
   "source": [
    "class Mammifere():\n",
    "\n",
    "    def __init__(self, nom, age, nb_dents):\n",
    "        self.nom = nom\n",
    "        self.age = age\n",
    "        self.nb_dents = nb_dents\n",
    "\n",
    "class Primate(Mammifere):\n",
    "\n",
    "    def __init__(self, nom, age, nb_dents):\n",
    "        super().__init__(nom, age, nb_dents)\n",
    "\n",
    "class Rongeur(Mammifere):\n",
    "\n",
    "    def __init__(self, nom, age, nb_dents):\n",
    "        super().__init__(nom, age, nb_dents)\n",
    "\n",
    "class Carnivore(Mammifere):\n",
    "\n",
    "    def __init__(self, nom, age, nb_dents):\n",
    "        super().__init__(nom, age, nb_dents)\n",
    "\n",
    "class Belette(Carnivore):\n",
    "\n",
    "    def __init__(self, nom, age, nb_dents):\n",
    "        super().__init__(nom, age, nb_dents)\n",
    "    \n",
    "class Loup(Carnivore):\n",
    "\n",
    "    def __init__(self, nom, age, nb_dents):\n",
    "        super().__init__(nom, age, nb_dents)\n",
    "\n",
    "class Chien(Carnivore):\n",
    "\n",
    "    def __init__(self, nom, age, nb_dents):\n",
    "        super().__init__(nom, age, nb_dents)\n",
    "\n",
    "class Herbivore(Primate):\n",
    "\n",
    "    def __init__(self, nom, age, nb_dents):\n",
    "        super().__init__(nom, age, nb_dents)\n",
    "\n",
    "class Omnivore(Herbivore, Carnivore):\n",
    "\n",
    "    def __init__(self, nom, age, nb_dents):\n",
    "        super().__init__(nom, age, nb_dents)"
   ]
  },
  {
   "cell_type": "markdown",
   "metadata": {},
   "source": [
    "## 10.2.3 Polymorphisme"
   ]
  },
  {
   "cell_type": "code",
   "execution_count": 36,
   "metadata": {},
   "outputs": [],
   "source": [
    "import math\n",
    "\n",
    "class Forme():\n",
    "    def __init__(self):\n",
    "        pass\n",
    "\n",
    "    def calcul_aire(self):\n",
    "        pass\n",
    "\n",
    "class Carre(Forme):\n",
    "    def __init__(self, cote):\n",
    "        super().__init__()\n",
    "        self.cote = cote\n",
    "\n",
    "    def calcul_aire(self):\n",
    "        return self.cote**2\n",
    "\n",
    "class Cercle(Forme):\n",
    "    def __init__(self, rayon):\n",
    "        super().__init__()\n",
    "        self.rayon = rayon\n",
    "\n",
    "    def calcul_aire(self):\n",
    "        return self.rayon**2 * math.pi\n",
    "\n",
    "def aire_totale(liste_formes):\n",
    "    aire_tot = 0\n",
    "    for forme in liste_formes:\n",
    "        aire_tot += forme.calcul_aire()\n",
    "    return aire_tot"
   ]
  },
  {
   "cell_type": "code",
   "execution_count": 37,
   "metadata": {},
   "outputs": [
    {
     "name": "stdout",
     "output_type": "stream",
     "text": [
      "aire_totale=165.8407044966673\n"
     ]
    }
   ],
   "source": [
    "liste_formes = [ Carre(5),\n",
    "                 Carre(10),\n",
    "                 Cercle(2),\n",
    "                 Cercle(3)\n",
    "                ]\n",
    "\n",
    "print(f\"aire_totale={aire_totale(liste_formes)}\")"
   ]
  }
 ],
 "metadata": {
  "kernelspec": {
   "display_name": "Python 3",
   "language": "python",
   "name": "python3"
  },
  "language_info": {
   "codemirror_mode": {
    "name": "ipython",
    "version": 3
   },
   "file_extension": ".py",
   "mimetype": "text/x-python",
   "name": "python",
   "nbconvert_exporter": "python",
   "pygments_lexer": "ipython3",
   "version": "3.9.9"
  }
 },
 "nbformat": 4,
 "nbformat_minor": 4
}
