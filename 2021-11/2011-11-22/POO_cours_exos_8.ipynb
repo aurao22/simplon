{
 "cells": [
  {
   "cell_type": "markdown",
   "metadata": {},
   "source": [
    "# Concepts fondateurs\n",
    "Exercices du cours"
   ]
  },
  {
   "cell_type": "markdown",
   "metadata": {},
   "source": [
    "# 8.2 Complex\n",
    "Un complexe z est compos´e d’une partie r´eelle x et d’une partie imaginaire y, tel que z =\n",
    "x + i ⇤ y. Nous proposons ici d’impl´ementer une classe Complex."
   ]
  },
  {
   "cell_type": "code",
   "execution_count": 19,
   "metadata": {},
   "outputs": [],
   "source": [
    "class Complex:\n",
    "    \"\"\" z = x + i * y \"\"\"\n",
    "\n",
    "    def __init__(self, x=0, y=0):\n",
    "        self.x = x\n",
    "        self.y = y\n",
    "\n",
    "    def show(self):\n",
    "        print(f\"z = {self.x} + i * {self.y}\")\n",
    "\n",
    "    def clone(self):\n",
    "        return Complex(self.x, self.y)"
   ]
  },
  {
   "cell_type": "code",
   "execution_count": 9,
   "metadata": {},
   "outputs": [],
   "source": [
    "def affiche_complex(c1):\n",
    "    print(f\"z = {c1.x} + i * {c1.y}\")"
   ]
  },
  {
   "cell_type": "code",
   "execution_count": 11,
   "metadata": {},
   "outputs": [
    {
     "name": "stdout",
     "output_type": "stream",
     "text": [
      " z = x + i * y \n",
      "<__main__.Complex object at 0x000001AB852AE220>\n",
      "z = 3 + i * 4\n",
      "z = 3 + i * 4\n"
     ]
    }
   ],
   "source": [
    "c1 = Complex(3, 4)\n",
    "\n",
    "print(f\"{c1.__doc__}\")\n",
    "print(f\"{c1}\")\n",
    "affiche_complex(c1)\n",
    "c1.show()"
   ]
  },
  {
   "cell_type": "code",
   "execution_count": 16,
   "metadata": {},
   "outputs": [],
   "source": [
    "def compareComplex(c1, c2):\n",
    "    res = c1.x == c2.x and c1.y == c2.y\n",
    "    c1_attributes_dic = c1.__dict__\n",
    "    c1_attributes = vars(c1)\n",
    "    c2_attributes = vars(c2)\n",
    "    res2 = c1_attributes == c2_attributes\n",
    "    return res\n"
   ]
  },
  {
   "cell_type": "code",
   "execution_count": 20,
   "metadata": {},
   "outputs": [
    {
     "name": "stdout",
     "output_type": "stream",
     "text": [
      "False\n",
      "True\n"
     ]
    }
   ],
   "source": [
    "c2 = Complex(3, 5)\n",
    "print(compareComplex(c1,c2))\n",
    "c3 = Complex(3, 5)\n",
    "print(compareComplex(c3,c2))\n",
    "c2 = Complex(3, 4)"
   ]
  },
  {
   "cell_type": "code",
   "execution_count": 24,
   "metadata": {},
   "outputs": [
    {
     "name": "stdout",
     "output_type": "stream",
     "text": [
      "True\n",
      "True\n",
      "False\n"
     ]
    }
   ],
   "source": [
    "print (c1 == c2)\n",
    "c1=c2; print (c1 == c2)\n",
    "c3=c1.clone(); print (c1 == c3)"
   ]
  },
  {
   "cell_type": "code",
   "execution_count": 25,
   "metadata": {},
   "outputs": [],
   "source": [
    "class Livre:\n",
    "    def __init__(self, titre=None, auteur=None, prix=None, annee=None):\n",
    "        self.titre = titre\n",
    "        self.auteur = auteur\n",
    "        self.prix = prix\n",
    "        self.annee = annee"
   ]
  },
  {
   "cell_type": "code",
   "execution_count": 26,
   "metadata": {},
   "outputs": [],
   "source": [
    "mon_livre1 = Livre(\"Mon livre1\")\n",
    "mon_livre2 = Livre(\"Mon livre2\")"
   ]
  },
  {
   "cell_type": "code",
   "execution_count": 33,
   "metadata": {},
   "outputs": [],
   "source": [
    "class Time:\n",
    "    def __init__(self, pays, heure, minute, seconde):\n",
    "        self.pays = pays\n",
    "        self.heure = heure\n",
    "        self.minute = minute\n",
    "        self.seconde = seconde\n",
    "\n",
    "    def affiche(self):\n",
    "        print(f\"{self.heure}:{self.minute}:{self.seconde}\")\n"
   ]
  },
  {
   "cell_type": "code",
   "execution_count": 34,
   "metadata": {},
   "outputs": [
    {
     "name": "stdout",
     "output_type": "stream",
     "text": [
      "15:15:15\n",
      "15:17:15\n"
     ]
    }
   ],
   "source": [
    "instant = Time(\"France\", 15,15,15)\n",
    "\n",
    "def affiche_heure(heure):\n",
    "    print(f\"{heure.heure}:{heure.minute}:{heure.seconde}\")\n",
    "\n",
    "affiche_heure(instant)\n",
    "\n",
    "maintenant = Time(\"France\", 15,17,15)\n",
    "maintenant.affiche()"
   ]
  },
  {
   "cell_type": "code",
   "execution_count": null,
   "metadata": {},
   "outputs": [],
   "source": [
    "class Ensemble:\n",
    "    def __init__(self, ensemble):\n",
    "        self.ensemble = ensemble\n",
    "\n",
    "    def cardinal(self):\n",
    "        return len(self.ensemble)\n",
    "\n",
    "    def contient(self, i):\n",
    "        return i in self.ensemble\n",
    "    \n",
    "    def ajout(self, i):\n",
    "        self.ensemble.append(i)\n",
    "    \n",
    "    def toString(self):\n",
    "        return str(self.ensemble)"
   ]
  }
 ],
 "metadata": {
  "kernelspec": {
   "display_name": "Python 3",
   "language": "python",
   "name": "python3"
  },
  "language_info": {
   "codemirror_mode": {
    "name": "ipython",
    "version": 3
   },
   "file_extension": ".py",
   "mimetype": "text/x-python",
   "name": "python",
   "nbconvert_exporter": "python",
   "pygments_lexer": "ipython3",
   "version": "3.9.9"
  }
 },
 "nbformat": 4,
 "nbformat_minor": 4
}
