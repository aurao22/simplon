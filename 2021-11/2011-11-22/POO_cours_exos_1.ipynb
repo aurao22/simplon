{
 "cells": [
  {
   "cell_type": "markdown",
   "metadata": {},
   "source": [
    "# Concepts fondateurs\n",
    "Exercices du cours"
   ]
  },
  {
   "cell_type": "markdown",
   "metadata": {},
   "source": [
    "### Exercice 1.1. Classe et instances\n",
    "\n",
    "- Ecrire la classe Voiture en python.\n",
    "- Ecrire son contructeur avec la possibilité de préciser les valeurs de certains attributs à l’instanciation.\n",
    "- Instancier 3 objets issus de la classe Voiture"
   ]
  },
  {
   "cell_type": "code",
   "execution_count": 4,
   "metadata": {},
   "outputs": [],
   "source": [
    "class Voiture:\n",
    "    \n",
    "    def __init__(self, marque, modele, couleur):\n",
    "        self.marque = marque\n",
    "        self.modele = modele\n",
    "        self.couleur = couleur"
   ]
  },
  {
   "cell_type": "code",
   "execution_count": null,
   "metadata": {},
   "outputs": [],
   "source": [
    "ma_voiture = Voiture(\"Dacia\", \"Duster\", \"Gris comète\")\n",
    "\n",
    "print(f\"ma_voiture est une {ma_voiture.marque}, {ma_voiture.modele} {ma_voiture.couleur}\")"
   ]
  },
  {
   "cell_type": "markdown",
   "metadata": {},
   "source": [
    "### Exercice 1.2. Manipulation d’instances\n",
    "- Créer un tableau contenant les instances de la classe Voiture\n",
    "- Affcher la valeur de l’attribut couleur de chaque instance en parcourant ce tableau"
   ]
  },
  {
   "cell_type": "code",
   "execution_count": 6,
   "metadata": {},
   "outputs": [
    {
     "name": "stdout",
     "output_type": "stream",
     "text": [
      "blanche\n",
      "rouge\n",
      "bleue\n"
     ]
    }
   ],
   "source": [
    "ta_voiture = Voiture(\"Renault\", \"Scénic\", \"Blanc\")\n",
    "sa_voiture = Voiture(\"Vélo\", \"de ville\", \"bleu\")\n",
    "leur_voiture = Voiture(\"DAF\", \"Car\", \"Rouge\")\n",
    "\n",
    "liste_voiture = [ma_voiture, ta_voiture, sa_voiture, leur_voiture]\n",
    "\n",
    "for vehicules in liste_voiture:\n",
    "    print(vehicules.couleur)"
   ]
  },
  {
   "cell_type": "markdown",
   "metadata": {},
   "source": [
    "Exemple:  \n",
    "```\n",
    "blanche\n",
    "rouge\n",
    "bleue```"
   ]
  },
  {
   "cell_type": "markdown",
   "metadata": {},
   "source": [
    "### Exercice 2.1. Implémentez la Classe Fichier\n",
    "\n",
    "On peut parler des fichiers (en général) sans faire référence à un fichier particulier, il s’agit donc d’une classe. Un fichier est caractérisé par son nom, sa taille, sa date de création et sa date de modification. Un fichier peut s’ouvrir et se fermer."
   ]
  },
  {
   "cell_type": "code",
   "execution_count": 1,
   "metadata": {},
   "outputs": [],
   "source": [
    "class Fichier:\n",
    "\n",
    "    def __init__(self, nom, taille, creation, modification):\n",
    "        self.nom = nom\n",
    "        self.taille = taille\n",
    "        self.creation = creation\n",
    "        self.modification = modification\n",
    "        self.__est_ouvert = False\n",
    "\n",
    "    def ouvrir(self):\n",
    "        if not self.__est_ouvert:\n",
    "            self.__est_ouvert = True\n",
    "            return self.__est_ouvert\n",
    "        else:\n",
    "            return False\n",
    "\n",
    "    def fermer(self):\n",
    "        if self.__est_ouvert:\n",
    "            self.__est_ouvert = False\n",
    "            return True\n",
    "        else:\n",
    "            return False"
   ]
  },
  {
   "cell_type": "code",
   "execution_count": 2,
   "metadata": {},
   "outputs": [
    {
     "name": "stdout",
     "output_type": "stream",
     "text": [
      "Fichier ouvert : True\n",
      "Fichier ouvert : False\n",
      "Fichier ouvert : True\n",
      "Fichier ouvert : False\n"
     ]
    }
   ],
   "source": [
    "mon_fichier = Fichier(\"toto.txt\", 15, \"aujourd'hui\", \"demain\")\n",
    "\n",
    "print(f\"Fichier ouvert : {mon_fichier.ouvrir()}\")\n",
    "print(f\"Fichier ouvert : {mon_fichier.ouvrir()}\")\n",
    "print(f\"Fichier ouvert : {mon_fichier.fermer()}\")\n",
    "print(f\"Fichier ouvert : {mon_fichier.fermer()}\")\n"
   ]
  },
  {
   "cell_type": "markdown",
   "metadata": {},
   "source": [
    "Exemple:  \n",
    "```\n",
    "Fichier ouvert :  False\n",
    "Fichier ouvert :  True\n",
    "Fichier ouvert :  False```"
   ]
  },
  {
   "cell_type": "markdown",
   "metadata": {},
   "source": [
    "### Exercice 2.2. Gestion du stock\n",
    "\n",
    "Un Article du stock est défini par 4 champs :\n",
    "- sa référence (numéro)\n",
    "- sa désignation (texte)\n",
    "- son prix_HT\n",
    "- sa quantité (nombre d’articles disponibles)\n",
    "\n",
    "Pour manipuler ces champs, les services suivants sont fournis :\n",
    "- prix_TTC\n",
    "- prix_transport (taxe 5% prix_HT)\n",
    "- retirer\n",
    "- ajouter"
   ]
  },
  {
   "cell_type": "code",
   "execution_count": 3,
   "metadata": {},
   "outputs": [],
   "source": [
    "from abc import ABC, abstractmethod"
   ]
  },
  {
   "cell_type": "code",
   "execution_count": 4,
   "metadata": {},
   "outputs": [],
   "source": [
    "class Article:\n",
    "\n",
    "    def __init__(self, reference, designation, prix_ht=0, quantite=0) -> None:\n",
    "        self.reference = reference\n",
    "        self.designation = designation\n",
    "        self.prix_ht = prix_ht\n",
    "        self.quantite = quantite\n",
    "\n",
    "    def prix_ttc(self):\n",
    "        return self.prix_ht*1.20\n",
    "\n",
    "    def prix_transport(self):\n",
    "        return self.prix_ht*0.05\n",
    "\n",
    "    def retirer(self, quantite):\n",
    "        if self.quantite >= quantite:\n",
    "            self.quantite -= quantite\n",
    "        else:\n",
    "            return None\n",
    "        return self.quantite\n",
    "\n",
    "    def ajouter(self, quantite):\n",
    "        self.quantite += quantite\n",
    "        return self.quantite"
   ]
  },
  {
   "cell_type": "code",
   "execution_count": 5,
   "metadata": {},
   "outputs": [
    {
     "name": "stdout",
     "output_type": "stream",
     "text": [
      "Ma chaussure reste en stock 8\n",
      "prix 55 HT\n",
      "transport 2.75\n",
      "prix 66.0 TTC\n",
      "Ma chaussure en stock 10\n"
     ]
    }
   ],
   "source": [
    "chaussure = Article(45, \"Ma chaussure\", 55, 10)\n",
    "print(f\"{chaussure.designation} reste en stock {chaussure.retirer(2)}\")\n",
    "print(f\"prix {chaussure.prix_ht} HT\")\n",
    "print(f\"transport {chaussure.prix_transport()}\")\n",
    "print(f\"prix {chaussure.prix_ttc()} TTC\")\n",
    "print(f\"{chaussure.designation} en stock {chaussure.ajouter(2)}\")"
   ]
  }
 ],
 "metadata": {
  "kernelspec": {
   "display_name": "Python 3",
   "language": "python",
   "name": "python3"
  },
  "language_info": {
   "codemirror_mode": {
    "name": "ipython",
    "version": 3
   },
   "file_extension": ".py",
   "mimetype": "text/x-python",
   "name": "python",
   "nbconvert_exporter": "python",
   "pygments_lexer": "ipython3",
   "version": "3.9.9"
  }
 },
 "nbformat": 4,
 "nbformat_minor": 4
}
