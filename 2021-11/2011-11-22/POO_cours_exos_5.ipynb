{
 "cells": [
  {
   "cell_type": "markdown",
   "metadata": {},
   "source": [
    "# Concepts fondateurs\n",
    "Exercices du cours"
   ]
  },
  {
   "cell_type": "markdown",
   "metadata": {},
   "source": [
    "## Exercice 5.1. classe Autonombile\n",
    "Impl´ementer la classe Autonombile `a partir des classes Carrosserie, Siege, Roue et Moteur."
   ]
  },
  {
   "cell_type": "code",
   "execution_count": 4,
   "metadata": {},
   "outputs": [],
   "source": [
    "class Automobile:\n",
    "    \n",
    "    def __init__(self, carosserie, nb_sieges, moteur):\n",
    "        self.carosserie = carosserie\n",
    "        self.siege = []\n",
    "\n",
    "        self.moteur = moteur\n",
    "        self.roues = [Roue(), Roue(),Roue(),Roue()]\n",
    "\n"
   ]
  }
 ],
 "metadata": {
  "kernelspec": {
   "display_name": "Python 3",
   "language": "python",
   "name": "python3"
  },
  "language_info": {
   "codemirror_mode": {
    "name": "ipython",
    "version": 3
   },
   "file_extension": ".py",
   "mimetype": "text/x-python",
   "name": "python",
   "nbconvert_exporter": "python",
   "pygments_lexer": "ipython3",
   "version": "3.7.4"
  }
 },
 "nbformat": 4,
 "nbformat_minor": 4
}
