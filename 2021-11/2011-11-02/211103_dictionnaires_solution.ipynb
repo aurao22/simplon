{
 "cells": [
  {
   "cell_type": "markdown",
   "metadata": {},
   "source": [
    "# Dictionnaires et fonction lambda"
   ]
  },
  {
   "cell_type": "markdown",
   "metadata": {},
   "source": [
    "## Exercice 1\n",
    "\n",
    "Construisez puis affichez le dictionnaire des douze mois de l'année avec comme valeurs le nombre de jours\n",
    "respectif."
   ]
  },
  {
   "cell_type": "code",
   "execution_count": 5,
   "metadata": {},
   "outputs": [
    {
     "data": {
      "text/plain": [
       "{'janvier': 31,\n",
       " 'février': 28,\n",
       " 'mars': 31,\n",
       " 'avril': 30,\n",
       " 'mai': 31,\n",
       " 'juin': 30,\n",
       " 'juillet': 31,\n",
       " 'aout': 31,\n",
       " 'septembre': 30,\n",
       " 'octobre': 31,\n",
       " 'novembre': 30,\n",
       " 'décembre': 31}"
      ]
     },
     "execution_count": 5,
     "metadata": {},
     "output_type": "execute_result"
    }
   ],
   "source": [
    "annee = {'janvier': 31, 'février': 28, 'mars': 31, 'avril': 30, 'mai': 31, 'juin': 30, 'juillet': 31, 'aout': 31, 'septembre': 30, 'octobre': 31, 'novembre': 30, 'décembre': 31}\n",
    "annee"
   ]
  },
  {
   "cell_type": "markdown",
   "metadata": {},
   "source": [
    "## Exercice 1 bis\n",
    "\n",
    "Construisez puis affichez le dictionnaire des douze mois de l'année avec comme valeurs le nombre de lettre dans le mois\n",
    "respectif (construit automatiquement pour s'adapter à tout type de langue)."
   ]
  },
  {
   "cell_type": "code",
   "execution_count": 16,
   "metadata": {},
   "outputs": [
    {
     "data": {
      "text/plain": [
       "{'janvier': 7,\n",
       " 'février': 7,\n",
       " 'mars': 4,\n",
       " 'avril': 5,\n",
       " 'mai': 3,\n",
       " 'juin': 4,\n",
       " 'juillet': 7,\n",
       " 'août': 4,\n",
       " 'septembre': 9,\n",
       " 'octobre': 7,\n",
       " 'décembre': 8}"
      ]
     },
     "execution_count": 16,
     "metadata": {},
     "output_type": "execute_result"
    }
   ],
   "source": [
    "année = ['janvier', 'février', 'mars', 'avril', 'mai', 'juin', 'juillet', 'août', 'septembre', 'octobre', 'décembre']\n",
    "dico = {}\n",
    "for mois in année:\n",
    "    dico[mois] =  len(mois)\n",
    "\n",
    "dico"
   ]
  },
  {
   "cell_type": "markdown",
   "metadata": {},
   "source": [
    "## Exercice 2"
   ]
  },
  {
   "cell_type": "markdown",
   "metadata": {},
   "source": [
    "Écrivez une fonction qui échange les clés et les valeurs d'un dictionnaire (ce qui permettra par exemple   de   transformer   un   dictionnaire   anglais/français   en   un   dictionnaire   français/anglais).   On suppose que le dictionnaire ne contient pas plusieurs valeurs identiques."
   ]
  },
  {
   "cell_type": "code",
   "execution_count": 13,
   "metadata": {},
   "outputs": [
    {
     "data": {
      "text/plain": [
       "{'red': 'rouge',\n",
       " 'yellow': 'jaune',\n",
       " 'blue': 'bleu',\n",
       " 'green': 'vert',\n",
       " 'pink': 'rose'}"
      ]
     },
     "execution_count": 13,
     "metadata": {},
     "output_type": "execute_result"
    }
   ],
   "source": [
    "dico_En_Fr = {'red': 'rouge', 'yellow': 'jaune', 'blue': 'bleu', 'green': 'vert', 'pink': 'rose'}\n",
    "dico_En_Fr"
   ]
  },
  {
   "cell_type": "code",
   "execution_count": 14,
   "metadata": {},
   "outputs": [
    {
     "data": {
      "text/plain": [
       "{'rouge': 'red',\n",
       " 'jaune': 'yellow',\n",
       " 'bleu': 'blue',\n",
       " 'vert': 'green',\n",
       " 'rose': 'pink'}"
      ]
     },
     "execution_count": 14,
     "metadata": {},
     "output_type": "execute_result"
    }
   ],
   "source": [
    "def inverse_dictionnaire(dico):\n",
    "    inverse = {}\n",
    "    for clef, valeur in dico.items():\n",
    "        inverse[valeur] = clef\n",
    "    return inverse\n",
    "\n",
    "dico_Fr_En = inverse_dictionnaire(dico_En_Fr)\n",
    "dico_Fr_En"
   ]
  },
  {
   "cell_type": "markdown",
   "metadata": {},
   "source": [
    "## Exercice 3"
   ]
  },
  {
   "cell_type": "markdown",
   "metadata": {},
   "source": [
    "En cryptographie, un chiffre de substitution simple consiste à remplacer chaque lettre d'un texte par une autre lettre (toujours la même). On utilise pour cela une table chiffrante. Par exemple :\n",
    "```\n",
    "Clair   ABCDEFGHIJKLMNOPQRSTUVWXYZ  \n",
    "Chiffré WBHAYPODQZXNTSFLRUVMCEKJGI\n",
    "```\n",
    "Ainsi, le mot «RENARD» sera chiffré « UYSWUA ».\n",
    "1. Écrivez un programme qui permet de (dé)chiffrer un texte avec la table ci-dessus en créant un dictionnaire\n",
    "2. Utilisez votre programme pour déchiffrer le message suivant :\n",
    "NYVYNYEYVAYNWSSQFSVFSMNYVTYQNNYCUV\n",
    "\n",
    "P. S.: On peut parcourir une chaîne de caractères en récupérant la position et la lettre l'instruction : `for indice, lettre in enumerate(chaine:)`"
   ]
  },
  {
   "cell_type": "code",
   "execution_count": 19,
   "metadata": {},
   "outputs": [
    {
     "name": "stdout",
     "output_type": "stream",
     "text": [
      "En position  0  on a la lettre  b\n",
      "En position  1  on a la lettre  l\n",
      "En position  2  on a la lettre  e\n",
      "En position  3  on a la lettre  u\n"
     ]
    }
   ],
   "source": [
    "# Exemple\n",
    "for position, lettre in enumerate(\"bleu\"):\n",
    "    print('En position ', position, ' on a la lettre ', lettre)"
   ]
  },
  {
   "cell_type": "code",
   "execution_count": 13,
   "metadata": {},
   "outputs": [
    {
     "data": {
      "text/plain": [
       "'LESELEVESDELANNIONSONTLESMEILLEURS'"
      ]
     },
     "execution_count": 13,
     "metadata": {},
     "output_type": "execute_result"
    }
   ],
   "source": [
    "clair    = \"ABCDEFGHIJKLMNOPQRSTUVWXYZ\"\n",
    "chiffré  = \"WBHAYPODQZXNTSFLRUVMCEKJGI\"\n",
    "\n",
    "message_chiffré = \"NYVYNYEYVAYNWSSQFSVFSMNYVTYQNNYCUV\"\n",
    "déchiffrer = {}\n",
    "for indice, lettre in enumerate(chiffré):\n",
    "    déchiffrer[lettre] = clair[indice]\n",
    "\n",
    "message = ''\n",
    "for lettre in message_chiffré:\n",
    "    message += déchiffrer[lettre]\n",
    "\n",
    "message"
   ]
  },
  {
   "cell_type": "code",
   "execution_count": 14,
   "metadata": {},
   "outputs": [
    {
     "data": {
      "text/plain": [
       "'NYVYNYEYVAYNWSSQFSVFSMNYVTYQNNYCUV'"
      ]
     },
     "execution_count": 14,
     "metadata": {},
     "output_type": "execute_result"
    }
   ],
   "source": [
    "# Chiffrer un message\n",
    "message = 'LESELEVESDELANNIONSONTLESMEILLEURS'\n",
    "chiffrer = {}\n",
    "for indice, lettre in enumerate(clair):\n",
    "    chiffrer[lettre] = chiffré[indice]\n",
    "message_chiffré = ''\n",
    "for lettre in message:\n",
    "    message_chiffré += chiffrer[lettre]\n",
    "\n",
    "message_chiffré"
   ]
  },
  {
   "cell_type": "markdown",
   "metadata": {},
   "source": [
    "## Exercice 4"
   ]
  },
  {
   "cell_type": "markdown",
   "metadata": {},
   "source": [
    "Vous avez à votre disposition un texte non accentué et non ponctué. Écrivez un programme qui compte les occurrences de chacune des lettres de l'alphabet dans ce texte, et qui en fait un histogramme comme l'exemple fictif ci-dessous :\n",
    "```\n",
    "      : ||||||||||||||||||||\n",
    "   a  : |||||||||||||\n",
    "   d  : ||||\n",
    "   e  : ||||||||||||||||||||||||||||\n",
    "   i  : |||||||||\n",
    "   l  : |||||||||\n",
    "   n  : ||||||||||\n",
    "   o  : |||||||\n",
    "   p  : ||\n",
    "   r  : ||||||||\n",
    "   s  : ||||||||\n",
    "   t  : |||||||||||||\n",
    "   u  : ||||||\n",
    "  ```\n"
   ]
  },
  {
   "cell_type": "code",
   "execution_count": 2,
   "metadata": {},
   "outputs": [
    {
     "data": {
      "text/plain": [
       "'c etait a megara faubourg de carthage dans les jardins d hamilcar les soldats qu il avait commandes en sicile se donnaient un grand festin pour celebrerle jour anniversaire de la bataille d eryx et comme le maitre etait absent et qu ilsse trouvaient nombreux ils mangeaient et ils buvaient en pleine liberte'"
      ]
     },
     "execution_count": 2,
     "metadata": {},
     "output_type": "execute_result"
    }
   ],
   "source": [
    "texte = \"c etait a megara faubourg de carthage dans les jardins d hamilcar les \\\n",
    "soldats qu il avait commandes en sicile se donnaient un grand festin pour celebrer\\\n",
    "le jour anniversaire de la bataille d eryx et comme le maitre etait absent et qu ils\\\n",
    "se trouvaient nombreux ils mangeaient et ils buvaient en pleine liberte\"\n",
    "texte"
   ]
  },
  {
   "cell_type": "code",
   "execution_count": 4,
   "metadata": {},
   "outputs": [
    {
     "name": "stdout",
     "output_type": "stream",
     "text": [
      "c  :  |||||||\n",
      "   :  ||||||||||||||||||||||||||||||||||||||||||||||||||||\n",
      "e  :  ||||||||||||||||||||||||||||||||||||||||\n",
      "t  :  ||||||||||||||||||||\n",
      "a  :  |||||||||||||||||||||||||||||\n",
      "i  :  ||||||||||||||||||||||\n",
      "m  :  |||||||||\n",
      "g  :  |||||\n",
      "r  :  |||||||||||||||||\n",
      "f  :  ||\n",
      "u  :  ||||||||||\n",
      "b  :  |||||||\n",
      "o  :  |||||||||\n",
      "d  :  ||||||||||\n",
      "h  :  ||\n",
      "n  :  ||||||||||||||||||||\n",
      "s  :  ||||||||||||||||\n",
      "l  :  |||||||||||||||||\n",
      "j  :  ||\n",
      "q  :  ||\n",
      "v  :  ||||\n",
      "p  :  ||\n",
      "y  :  |\n",
      "x  :  ||\n"
     ]
    }
   ],
   "source": [
    "compteur = {}\n",
    "for lettre in texte:\n",
    "    if lettre in compteur:\n",
    "        compteur[lettre] += 1\n",
    "    else:\n",
    "        compteur[lettre] = 1\n",
    "\n",
    "for lettre, décompte in compteur.items():\n",
    "    histogramme = '|' * décompte\n",
    "    print(lettre, ' : ', histogramme)"
   ]
  },
  {
   "cell_type": "markdown",
   "metadata": {},
   "source": [
    "En utilisant les `Counter` de la bibliothèque de Python\n",
    "https://docs.python.org/3/library/collections.html#collections.Counter"
   ]
  },
  {
   "cell_type": "code",
   "execution_count": 19,
   "metadata": {},
   "outputs": [
    {
     "data": {
      "text/plain": [
       "Counter({'c': 7,\n",
       "         ' ': 52,\n",
       "         'e': 40,\n",
       "         't': 20,\n",
       "         'a': 29,\n",
       "         'i': 22,\n",
       "         'm': 9,\n",
       "         'g': 5,\n",
       "         'r': 17,\n",
       "         'f': 2,\n",
       "         'u': 10,\n",
       "         'b': 7,\n",
       "         'o': 9,\n",
       "         'd': 10,\n",
       "         'h': 2,\n",
       "         'n': 20,\n",
       "         's': 16,\n",
       "         'l': 17,\n",
       "         'j': 2,\n",
       "         'q': 2,\n",
       "         'v': 4,\n",
       "         'p': 2,\n",
       "         'y': 1,\n",
       "         'x': 2})"
      ]
     },
     "execution_count": 19,
     "metadata": {},
     "output_type": "execute_result"
    }
   ],
   "source": [
    "from collections import Counter\n",
    "Counter(texte)"
   ]
  },
  {
   "cell_type": "code",
   "execution_count": 18,
   "metadata": {},
   "outputs": [
    {
     "name": "stdout",
     "output_type": "stream",
     "text": [
      "c  :  |||||||\n",
      "   :  ||||||||||||||||||||||||||||||||||||||||||||||||||||\n",
      "e  :  ||||||||||||||||||||||||||||||||||||||||\n",
      "t  :  ||||||||||||||||||||\n",
      "a  :  |||||||||||||||||||||||||||||\n",
      "i  :  ||||||||||||||||||||||\n",
      "m  :  |||||||||\n",
      "g  :  |||||\n",
      "r  :  |||||||||||||||||\n",
      "f  :  ||\n",
      "u  :  ||||||||||\n",
      "b  :  |||||||\n",
      "o  :  |||||||||\n",
      "d  :  ||||||||||\n",
      "h  :  ||\n",
      "n  :  ||||||||||||||||||||\n",
      "s  :  ||||||||||||||||\n",
      "l  :  |||||||||||||||||\n",
      "j  :  ||\n",
      "q  :  ||\n",
      "v  :  ||||\n",
      "p  :  ||\n",
      "y  :  |\n",
      "x  :  ||\n"
     ]
    }
   ],
   "source": [
    "from collections import Counter\n",
    "for lettre, décompte in Counter(texte).items():\n",
    "    histogramme = '|' * décompte\n",
    "    print(lettre, ' : ', histogramme)"
   ]
  },
  {
   "cell_type": "code",
   "execution_count": null,
   "metadata": {},
   "outputs": [],
   "source": []
  }
 ],
 "metadata": {
  "kernelspec": {
   "display_name": "Python 3",
   "language": "python",
   "name": "python3"
  },
  "language_info": {
   "codemirror_mode": {
    "name": "ipython",
    "version": 3
   },
   "file_extension": ".py",
   "mimetype": "text/x-python",
   "name": "python",
   "nbconvert_exporter": "python",
   "pygments_lexer": "ipython3",
   "version": "3.8.8"
  }
 },
 "nbformat": 4,
 "nbformat_minor": 4
}
