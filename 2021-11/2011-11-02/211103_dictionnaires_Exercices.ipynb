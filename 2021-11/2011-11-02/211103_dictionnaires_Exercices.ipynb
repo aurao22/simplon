{
 "cells": [
  {
   "cell_type": "markdown",
   "metadata": {},
   "source": [
    "# Dictionnaires et fonction lambda"
   ]
  },
  {
   "cell_type": "markdown",
   "metadata": {},
   "source": [
    "## Exercice 1\n",
    "\n",
    "Construisez puis affichez le dictionnaire des douze mois de l'année avec comme valeurs le nombre de jours\n",
    "respectif."
   ]
  },
  {
   "cell_type": "code",
   "execution_count": 2,
   "metadata": {},
   "outputs": [
    {
     "data": {
      "text/plain": [
       "{'Janvier': 31,\n",
       " 'Février': 28,\n",
       " 'Mars': 31,\n",
       " 'Avril': 30,\n",
       " 'Mai': 31,\n",
       " 'Juin': 30,\n",
       " 'Juillet': 31,\n",
       " 'Août': 31,\n",
       " 'Septembre': 30,\n",
       " 'Octobre': 31,\n",
       " 'Novembre': 30,\n",
       " 'Décembre': 31}"
      ]
     },
     "execution_count": 2,
     "metadata": {},
     "output_type": "execute_result"
    }
   ],
   "source": [
    "months = {\"Janvier\":31, \"Février\":28, \"Mars\":31, \"Avril\":30, \"Mai\":31, \"Juin\":30, \"Juillet\":31, \"Août\":31, \"Septembre\":30, \"Octobre\":31, \"Novembre\":30, \"Décembre\":31}\n",
    "months\n",
    "\n"
   ]
  },
  {
   "cell_type": "markdown",
   "metadata": {},
   "source": [
    "## Exercice 2"
   ]
  },
  {
   "cell_type": "markdown",
   "metadata": {},
   "source": [
    "Écrivez une fonction qui échange les clés et les valeurs d'un dictionnaire (ce qui permettra par exemple   de   transformer   un   dictionnaire   anglais/français   en   un   dictionnaire   français/anglais).   On suppose que le dictionnaire ne contient pas plusieurs valeurs identiques."
   ]
  },
  {
   "cell_type": "code",
   "execution_count": 2,
   "metadata": {},
   "outputs": [
    {
     "data": {
      "text/plain": [
       "{'rouge': 'red',\n",
       " 'jaune': 'yellow',\n",
       " 'bleu': 'blue',\n",
       " 'vert': 'green',\n",
       " 'rose': 'pink'}"
      ]
     },
     "execution_count": 2,
     "metadata": {},
     "output_type": "execute_result"
    }
   ],
   "source": [
    "dicoEN_FR = {}\n",
    "dicoEN_FR['red'] = 'rouge'\n",
    "dicoEN_FR['yellow'] = 'jaune'\n",
    "dicoEN_FR['blue'] = 'bleu'\n",
    "dicoEN_FR['green'] = 'vert'\n",
    "dicoEN_FR['pink'] = 'rose'\n",
    "\n",
    "\n",
    "def reverse_dico(dico):\n",
    "    dico_reverse = {}\n",
    "    for key,value in dico.items():\n",
    "        dico_reverse[value] = key\n",
    "    return dico_reverse\n",
    "\n",
    "reverse_dico(dicoEN_FR)"
   ]
  },
  {
   "cell_type": "markdown",
   "metadata": {},
   "source": [
    "## Exercice 3"
   ]
  },
  {
   "cell_type": "markdown",
   "metadata": {},
   "source": [
    "En cryptographie, un chiffre de substitution simple consiste à remplacer chaque lettre d'un texte par une autre lettre (toujours la même). On utilise pour cela une table chiffrante. Par exemple :\n",
    "```\n",
    "Clair   ABCDEFGHIJKLMNOPQRSTUVWXYZ  \n",
    "Chiffré WBHAYPODQZXNTSFLRUVMCEKJGI\n",
    "```\n",
    "Ainsi, le mot «RENARD» sera chiffré « UYSWUA ».\n",
    "1. Écrivez un programme qui permet de (dé)chiffrer un texte avec la table ci-dessus en créant un dictionnaire\n",
    "2. Utilisez votre programme pour déchiffrer le message suivant :\n",
    "NYVYNYEYVAYNWSSQFSVFSMNYVTYQNNYCUV\n",
    "\n",
    "P. S.: On peut parcourir une chaîne de caractères en récupérant la position et la lettre l'instruction : `for indice, lettre in enumerate(chaine:)`"
   ]
  },
  {
   "cell_type": "code",
   "execution_count": 5,
   "metadata": {},
   "outputs": [
    {
     "data": {
      "text/plain": [
       "'LESELEVESDELANNIONSONTLESMEILLEURS'"
      ]
     },
     "execution_count": 5,
     "metadata": {},
     "output_type": "execute_result"
    }
   ],
   "source": [
    "\n",
    "Clair   = [\"A\",\"B\",\"C\",\"D\",\"E\",\"F\",\"G\",\"H\",\"I\",\"J\",\"K\",\"L\",\"M\",\"N\",\"O\",\"P\",\"Q\",\"R\",\"S\",\"T\",\"U\",\"V\",\"W\",\"X\",\"Y\",\"Z\"]\n",
    "Chiffre = [\"W\",\"B\",\"H\",\"A\",\"Y\",\"P\",\"O\",\"D\",\"Q\",\"Z\",\"X\",\"N\",\"T\",\"S\",\"F\",\"L\",\"R\",\"U\",\"V\",\"M\",\"C\",\"E\",\"K\",\"J\",\"G\",\"I\"]\n",
    "\n",
    "messageChiffre = \"NYVYNYEYVAYNWSSQFSVFSMNYVTYQNNYCUV\"\n",
    "messageDechiffre = \"\"\n",
    "\n",
    "for l in messageChiffre:\n",
    "    index = Chiffre.index(l)\n",
    "    messageDechiffre = messageDechiffre + Clair[index]\n",
    "\n",
    "messageDechiffre"
   ]
  },
  {
   "cell_type": "code",
   "execution_count": 19,
   "metadata": {},
   "outputs": [
    {
     "name": "stdout",
     "output_type": "stream",
     "text": [
      "En position  0  on a la lettre  b\n",
      "En position  1  on a la lettre  l\n",
      "En position  2  on a la lettre  e\n",
      "En position  3  on a la lettre  u\n"
     ]
    }
   ],
   "source": [
    "# Exemple\n",
    "for position, lettre in enumerate(\"bleu\"):\n",
    "    print('En position ', position, ' on a la lettre ', lettre)"
   ]
  },
  {
   "cell_type": "code",
   "execution_count": null,
   "metadata": {},
   "outputs": [],
   "source": []
  },
  {
   "cell_type": "code",
   "execution_count": null,
   "metadata": {},
   "outputs": [],
   "source": []
  },
  {
   "cell_type": "markdown",
   "metadata": {},
   "source": [
    "## Exercice 4"
   ]
  },
  {
   "cell_type": "markdown",
   "metadata": {},
   "source": [
    "Vous avez à votre disposition un texte non accentué et non ponctué. Écrivez un programme qui compte les occurrences de chacune des lettres de l'alphabet dans ce texte, et qui en fait un histogramme comme l'exemple fictif ci-dessous :\n",
    "```\n",
    "      : ||||||||||||||||||||\n",
    "   a  : |||||||||||||\n",
    "   d  : ||||\n",
    "   e  : ||||||||||||||||||||||||||||\n",
    "   i  : |||||||||\n",
    "   l  : |||||||||\n",
    "   n  : ||||||||||\n",
    "   o  : |||||||\n",
    "   p  : ||\n",
    "   r  : ||||||||\n",
    "   s  : ||||||||\n",
    "   t  : |||||||||||||\n",
    "   u  : ||||||\n",
    "  ```\n"
   ]
  },
  {
   "cell_type": "code",
   "execution_count": 11,
   "metadata": {},
   "outputs": [
    {
     "name": "stdout",
     "output_type": "stream",
     "text": [
      "  52 fois : ||||||||||||||||||||||||||||||||||||||||||||||||||||\n",
      "a 29 fois : |||||||||||||||||||||||||||||\n",
      "b  7 fois : |||||||\n",
      "c  7 fois : |||||||\n",
      "d 10 fois : ||||||||||\n",
      "e 40 fois : ||||||||||||||||||||||||||||||||||||||||\n",
      "f  2 fois : ||\n",
      "g  5 fois : |||||\n",
      "h  2 fois : ||\n",
      "i 22 fois : ||||||||||||||||||||||\n",
      "j  2 fois : ||\n",
      "k  0 fois : \n",
      "l 17 fois : |||||||||||||||||\n",
      "m  9 fois : |||||||||\n",
      "n 20 fois : ||||||||||||||||||||\n",
      "o  9 fois : |||||||||\n",
      "p  2 fois : ||\n",
      "q  2 fois : ||\n",
      "r 17 fois : |||||||||||||||||\n",
      "s 16 fois : ||||||||||||||||\n",
      "t 20 fois : ||||||||||||||||||||\n",
      "u 10 fois : ||||||||||\n",
      "v  4 fois : ||||\n",
      "w  0 fois : \n",
      "x  2 fois : ||\n",
      "y  1 fois : |\n",
      "z  0 fois : \n"
     ]
    }
   ],
   "source": [
    "texte = \"c etait a megara faubourg de carthage dans les jardins d hamilcar les \\\n",
    "soldats qu il avait commandes en sicile se donnaient un grand festin pour celebrer\\\n",
    "le jour anniversaire de la bataille d eryx et comme le maitre etait absent et qu ils\\\n",
    "se trouvaient nombreux ils mangeaient et ils buvaient en pleine liberte\"\n",
    "\n",
    "compteurs  = {\" \":\"\",\"a\":\"\",\"b\":\"\",\"c\":\"\",\"d\":\"\",\"e\":\"\",\"f\":\"\",\"g\":\"\",\"h\":\"\",\"i\":\"\",\"j\":\"\",\"k\":\"\",\"l\":\"\",\"m\":\"\",\"n\":\"\",\"o\":\"\",\"p\":\"\",\"q\":\"\",\"r\":\"\",\"s\":\"\",\"t\":\"\",\"u\":\"\",\"v\":\"\",\"w\":\"\",\"x\":\"\",\"y\":\"\",\"z\":\"\"}\n",
    "\n",
    "for l in texte:\n",
    "    cle = l.lower()\n",
    "    compteurs[cle] = compteurs.get(cle, \"\") + \"|\"\n",
    "\n",
    "for key, value in compteurs.items():\n",
    "    taille = str(len(value))\n",
    "    if(len(value) < 10):\n",
    "        taille = \" \"+str(len(value))\n",
    "    print(key, taille, \"fois :\", value)\n",
    "    "
   ]
  },
  {
   "cell_type": "code",
   "execution_count": 18,
   "metadata": {},
   "outputs": [
    {
     "name": "stdout",
     "output_type": "stream",
     "text": [
      "a 29 fois : |||||||||||||||||||||||||||||\n",
      "b  7 fois : |||||||\n",
      "c  7 fois : |||||||\n",
      "d 10 fois : ||||||||||\n",
      "e 40 fois : ||||||||||||||||||||||||||||||||||||||||\n",
      "f  2 fois : ||\n",
      "g  5 fois : |||||\n",
      "h  2 fois : ||\n",
      "i 22 fois : ||||||||||||||||||||||\n",
      "j  2 fois : ||\n",
      "k  0 fois : \n",
      "l 17 fois : |||||||||||||||||\n",
      "m  9 fois : |||||||||\n",
      "n 20 fois : ||||||||||||||||||||\n",
      "o  9 fois : |||||||||\n",
      "p  2 fois : ||\n",
      "q  2 fois : ||\n",
      "r 17 fois : |||||||||||||||||\n",
      "s 16 fois : ||||||||||||||||\n",
      "t 20 fois : ||||||||||||||||||||\n",
      "u 10 fois : ||||||||||\n",
      "v  4 fois : ||||\n",
      "w  0 fois : \n",
      "x  2 fois : ||\n",
      "y  1 fois : |\n",
      "  52 fois : ||||||||||||||||||||||||||||||||||||||||||||||||||||\n"
     ]
    }
   ],
   "source": [
    "texte = \"c etait a megara faubourg de carthage dans les jardins d hamilcar les \\\n",
    "soldats qu il avait commandes en sicile se donnaient un grand festin pour celebrer\\\n",
    "le jour anniversaire de la bataille d eryx et comme le maitre etait absent et qu ils\\\n",
    "se trouvaient nombreux ils mangeaient et ils buvaient en pleine liberte\"\n",
    "\n",
    "compteurs  = dict([(chr(i),\"\") for i in range(ord(\"a\"),ord(\"z\"))])\n",
    "\n",
    "for l in texte:\n",
    "    cle = l.lower()\n",
    "    compteurs[cle] = compteurs.get(cle, \"\") + \"|\"\n",
    "\n",
    "for key, value in compteurs.items():\n",
    "    taille = str(len(value))\n",
    "    if(len(value) < 10):\n",
    "        taille = \" \"+str(len(value))\n",
    "    print(key, taille, \"fois :\", value)"
   ]
  },
  {
   "cell_type": "code",
   "execution_count": 11,
   "metadata": {},
   "outputs": [
    {
     "name": "stdout",
     "output_type": "stream",
     "text": [
      "Collecting pprint36\n",
      "  Using cached pprint36-3.9.0.2-py3-none-any.whl (13 kB)\n",
      "Installing collected packages: pprint36\n",
      "Successfully installed pprint36-3.9.0.2\n",
      "Note: you may need to restart the kernel to use updated packages.\n"
     ]
    }
   ],
   "source": []
  },
  {
   "cell_type": "code",
   "execution_count": null,
   "metadata": {},
   "outputs": [],
   "source": []
  }
 ],
 "metadata": {
  "kernelspec": {
   "display_name": "Python 3",
   "language": "python",
   "name": "python3"
  },
  "language_info": {
   "codemirror_mode": {
    "name": "ipython",
    "version": 3
   },
   "file_extension": ".py",
   "mimetype": "text/x-python",
   "name": "python",
   "nbconvert_exporter": "python",
   "pygments_lexer": "ipython3",
   "version": "3.8.8"
  }
 },
 "nbformat": 4,
 "nbformat_minor": 4
}
