{
 "cells": [
  {
   "cell_type": "markdown",
   "id": "4d1becd2",
   "metadata": {},
   "source": [
    "## SVM (Support Vector Machines)\n",
    "https://openclassrooms.com/fr/courses/4470406-utilisez-des-modeles-supervises-non-lineaires/4722466-classifiez-vos-donnees-avec-une-svm-a-noyau\n",
    "\n",
    "https://zestedesavoir.com/tutoriels/1760/un-peu-de-machine-learning-avec-les-svm/#4-entrainement-des-svm (XEL)\n"
   ]
  },
  {
   "cell_type": "markdown",
   "id": "89cd1e45",
   "metadata": {},
   "source": [
    "Une machine à vecteurs de support (SVM) est un outil d'apprentissage automatique de type supervisé très puissant et polyvalent\n",
    "modèle, capable d'effectuer une classification linéaire ou non linéaire, une régression et même\n",
    "détection des valeurs aberrantes. C'est l'un des modèles les plus populaires en Machine Learning . \n",
    "\n",
    "**Les SVM sont particulièrement bien adapté à la classification d'ensembles de données complexes mais de petite ou moyenne taille.**"
   ]
  },
  {
   "cell_type": "markdown",
   "id": "7e2607f3",
   "metadata": {},
   "source": [
    "**L'idée fondamentale** derrière Support Vector Machines est de s'adapter à la \"rue\" la plus large possible entre les classes. En d'autres termes, le but est d'avoir la plus grande marge possible entre la frontière de décision qui sépare les deux classes et\n",
    "les instances de formation. Lors de la classification des marges souples, le SVM\n",
    "cherche un compromis entre une séparation parfaite des deux classes et\n",
    "dans la rue la plus large possible.\n",
    "Une autre idée clé est d'utiliser des noyaux lors de la formation sur des ensembles de données non linéaires."
   ]
  },
  {
   "cell_type": "markdown",
   "id": "bbb92734",
   "metadata": {},
   "source": [
    "**Quelques exemples d’utilisation du modèle SVM :**\n",
    "\n",
    "- **Reconnaissances des formes :**\n",
    "\n",
    "    Reconnaissance de chiffres manuscrits.\n",
    "    \n",
    "    Reconnaissance de visages.\n",
    "\n",
    "- **Diagnostic médical :**\n",
    "\n",
    "    Evaluation des risques de cancer.\n",
    "    \n",
    "    Détection d’arythmie cardiaque."
   ]
  },
  {
   "cell_type": "markdown",
   "id": "3b00bb70",
   "metadata": {},
   "source": [
    "Les **SVM** sont une généralisation des classifieurs linéaires (algorithmes de classement statistique)  dont le principe est de séparer les données en classe à l’aide d’une frontière, de telle façon que la distance entre les différents groupes de données et la frontière séparatrice soit maximale. Cette distance est appelée marge. Et les données les plus proches de la frontière sont appelées vecteurs de support."
   ]
  },
  {
   "cell_type": "markdown",
   "id": "8c01f444",
   "metadata": {},
   "source": [
    "### SVM Regression : "
   ]
  },
  {
   "cell_type": "markdown",
   "id": "261c1a5f",
   "metadata": {},
   "source": [
    "Pour la régression la bibliothèque scikit-learn de Python met en place principalement les trois classes suivantes : **SVR**, **NuSVR** et **LinearSVR**.\n",
    "https://scikit-learn.org/stable/modules/generated/sklearn.svm.SVR.html"
   ]
  },
  {
   "cell_type": "markdown",
   "id": "2002443c",
   "metadata": {},
   "source": [
    "### - SVR"
   ]
  },
  {
   "cell_type": "markdown",
   "id": "225cda0e",
   "metadata": {},
   "source": [
    "Le SVR (Support Vector Regression) est une régression vectorielle de type Epsilon-support et est implémenté au niveau de libsvm.\n",
    "\n",
    "SVR peut prendre le paramètre optionnel epsilon qui spécifie le tube epsilon dans lequel aucune pénalité dans la fonction de perte de training n’est associée aux points prédits à une distance epsilon de la valeur réelle. \n",
    "Ce paramètre prend par défaut la valeur 0.1."
   ]
  },
  {
   "cell_type": "markdown",
   "id": "6ce891f2",
   "metadata": {},
   "source": [
    "##### Exemple"
   ]
  },
  {
   "cell_type": "code",
   "execution_count": 15,
   "id": "b04d1da5",
   "metadata": {},
   "outputs": [
    {
     "data": {
      "text/plain": [
       "array([2.35])"
      ]
     },
     "execution_count": 15,
     "metadata": {},
     "output_type": "execute_result"
    }
   ],
   "source": [
    "from sklearn.svm import SVR\n",
    "x = [[10, 10], [18,18]]\n",
    "y = [0, 2]\n",
    "#instanciation\n",
    "model_SVR = SVR( kernel = 'linear' , gamma = 'auto')\n",
    "#training\n",
    "model_SVR.fit( x, y)\n",
    "#Prédiction\n",
    "model_SVR.predict( [[20,20]])"
   ]
  },
  {
   "cell_type": "markdown",
   "id": "f0f1700f",
   "metadata": {},
   "source": [
    "**Les attributs**"
   ]
  },
  {
   "cell_type": "markdown",
   "id": "c1f6fa27",
   "metadata": {},
   "source": [
    "**support_** : Renvoie les indices des vecteurs de support.\n",
    "\n",
    "**support_vectors_** :Renvoie les vecteurs de support.\n",
    "\n",
    "**n_support_** : Représente le nombre de vecteurs de support pour chaque classe.\n",
    "\n",
    "**dual_coef_** : Les coefficients des vecteurs de support dans la fonction de décision.\n",
    "\n",
    "**coef_** : Renvoie le poids attribué aux caractéristiques.\n",
    "    (Cet attribut n’est disponible que dans le cas d’un noyau linéaire.)\n",
    "\n",
    "**intercept_** : Représente le terme constant dans la fonction de décision.\n",
    "\n",
    "**fit_status_** : Renvoie 0 si la sortie est correctement ajustée et 1 si elle est mal ajustée.\n",
    "\n",
    "**classes_** : Renvoie les étiquettes des classes."
   ]
  },
  {
   "cell_type": "code",
   "execution_count": 16,
   "id": "c7aa1120",
   "metadata": {},
   "outputs": [
    {
     "data": {
      "text/plain": [
       "array([0, 1])"
      ]
     },
     "execution_count": 16,
     "metadata": {},
     "output_type": "execute_result"
    }
   ],
   "source": [
    "model_SVR.support_ "
   ]
  },
  {
   "cell_type": "code",
   "execution_count": 17,
   "id": "c982a6b0",
   "metadata": {},
   "outputs": [
    {
     "data": {
      "text/plain": [
       "array([[10., 10.],\n",
       "       [18., 18.]])"
      ]
     },
     "execution_count": 17,
     "metadata": {},
     "output_type": "execute_result"
    }
   ],
   "source": [
    "model_SVR.support_vectors_ "
   ]
  },
  {
   "cell_type": "code",
   "execution_count": 18,
   "id": "766cb880",
   "metadata": {},
   "outputs": [
    {
     "data": {
      "text/plain": [
       "array([2])"
      ]
     },
     "execution_count": 18,
     "metadata": {},
     "output_type": "execute_result"
    }
   ],
   "source": [
    "model_SVR.n_support_"
   ]
  },
  {
   "cell_type": "code",
   "execution_count": 19,
   "id": "71412b14",
   "metadata": {},
   "outputs": [
    {
     "data": {
      "text/plain": [
       "array([[-0.0140625,  0.0140625]])"
      ]
     },
     "execution_count": 19,
     "metadata": {},
     "output_type": "execute_result"
    }
   ],
   "source": [
    "model_SVR.dual_coef_"
   ]
  },
  {
   "cell_type": "code",
   "execution_count": 20,
   "id": "def6cb23",
   "metadata": {},
   "outputs": [
    {
     "data": {
      "text/plain": [
       "array([[0.1125, 0.1125]])"
      ]
     },
     "execution_count": 20,
     "metadata": {},
     "output_type": "execute_result"
    }
   ],
   "source": [
    "model_SVR.coef_"
   ]
  },
  {
   "cell_type": "code",
   "execution_count": 21,
   "id": "e7791ddf",
   "metadata": {},
   "outputs": [
    {
     "data": {
      "text/plain": [
       "array([-2.15])"
      ]
     },
     "execution_count": 21,
     "metadata": {},
     "output_type": "execute_result"
    }
   ],
   "source": [
    "model_SVR.intercept_"
   ]
  },
  {
   "cell_type": "code",
   "execution_count": 22,
   "id": "282c715c",
   "metadata": {},
   "outputs": [
    {
     "data": {
      "text/plain": [
       "0"
      ]
     },
     "execution_count": 22,
     "metadata": {},
     "output_type": "execute_result"
    }
   ],
   "source": [
    "model_SVR.fit_status_"
   ]
  },
  {
   "cell_type": "markdown",
   "id": "67347f09",
   "metadata": {},
   "source": [
    "### LinearSVR"
   ]
  },
  {
   "cell_type": "markdown",
   "id": "b1db37a2",
   "metadata": {},
   "source": [
    "LinearSVR est la régression vectorielle de support linéaire et est similaire au SVR quand le noyau est linéaire (kernel = ‘linear’). La différence entre ces deux est que le linearSVR est implémenté en liblinear, le SVRquant à lui est implémenté en libsvm.\n",
    "\n",
    "Le linearSVCR est plus adapté au grand nombre d’échantillons. Pour ces paramètres, il n’accepte pas le paramètre kernel car implicitement il est considéré linéaire. Il accepte en revanche le paramètre optionnel :Loss qui représente la fonction de perte et prend par défaut « epsilon_insensitive »."
   ]
  },
  {
   "cell_type": "markdown",
   "id": "0c2d382a",
   "metadata": {},
   "source": [
    "**Remarque :**\n",
    "\n",
    "Le linearSVC n’accepte pas les attributs suivants : support_, support_vectors_, n_support_, fit_status_ et dual_coef_.\n",
    "\n",
    "**Exemple :**\n",
    "\n",
    "Dans cet exemple on importe la classe make_regression qui permet de générer un problème de régression aléatoire, sur lequel va se former notre modèle linearSVR en lui appliquant la méthode fit()."
   ]
  },
  {
   "cell_type": "code",
   "execution_count": 24,
   "id": "10ffedc7",
   "metadata": {},
   "outputs": [
    {
     "data": {
      "text/plain": [
       "array([0.05550606])"
      ]
     },
     "execution_count": 24,
     "metadata": {},
     "output_type": "execute_result"
    }
   ],
   "source": [
    "from sklearn.svm import LinearSVR\n",
    "from sklearn.datasets import make_regression\n",
    "x, y = make_regression( n_features = 3, random_state = 0)\n",
    "model_linearSVR = LinearSVR( dual = False, random_state = 0,\n",
    "loss = 'squared_epsilon_insensitive', tol = 1e-5)\n",
    "model_linearSVR.fit( x, y)\n",
    "model_linearSVR.predict( [[0,0,0]])"
   ]
  },
  {
   "cell_type": "markdown",
   "id": "2437a3b4",
   "metadata": {},
   "source": [
    "#### NuSVR"
   ]
  },
  {
   "cell_type": "markdown",
   "id": "bf94b7bc",
   "metadata": {},
   "source": [
    "Le NuSVR est la régression vectorielle de support Nu, ce modèle est similaire au NuSVC sauf que le NuSVR utilise le paramètre nu pour contrôler le nombre de vecteurs de support ainsi ce dernier remplace epsilon."
   ]
  },
  {
   "cell_type": "markdown",
   "id": "618a54ad",
   "metadata": {},
   "source": [
    "**Exemple :**"
   ]
  },
  {
   "cell_type": "code",
   "execution_count": 28,
   "id": "d909712a",
   "metadata": {},
   "outputs": [
    {
     "data": {
      "text/plain": [
       "array([2.35])"
      ]
     },
     "execution_count": 28,
     "metadata": {},
     "output_type": "execute_result"
    }
   ],
   "source": [
    "from sklearn.svm import NuSVR\n",
    "import numpy as np\n",
    "echantillons = 20\n",
    "caracteristiques = 15\n",
    "np.random.seed(0)\n",
    "x = np.random.randn( echantillons, caracteristiques)\n",
    "y = np.random.randn( echantillons)\n",
    "#instanciation\n",
    "model_NuSVR = NuSVR( kernel = 'linear', gamma = 'auto', C = 1.0, nu = 0.1)\n",
    "model_NuSVR.fit(x, y)\n",
    "model_SVR.predict( [[20,20]])"
   ]
  },
  {
   "cell_type": "markdown",
   "id": "71900a16",
   "metadata": {},
   "source": [
    "### SVM classification"
   ]
  },
  {
   "cell_type": "markdown",
   "id": "66451a04",
   "metadata": {},
   "source": [
    "Pour la classification, la bibliothèque scikit-learn de Python met en place trois classes : **SVC**, **NuSVC** et **LinearSVC**."
   ]
  },
  {
   "cell_type": "code",
   "execution_count": 56,
   "id": "1474ca35",
   "metadata": {},
   "outputs": [
    {
     "data": {
      "text/html": [
       "<div>\n",
       "<style scoped>\n",
       "    .dataframe tbody tr th:only-of-type {\n",
       "        vertical-align: middle;\n",
       "    }\n",
       "\n",
       "    .dataframe tbody tr th {\n",
       "        vertical-align: top;\n",
       "    }\n",
       "\n",
       "    .dataframe thead th {\n",
       "        text-align: right;\n",
       "    }\n",
       "</style>\n",
       "<table border=\"1\" class=\"dataframe\">\n",
       "  <thead>\n",
       "    <tr style=\"text-align: right;\">\n",
       "      <th></th>\n",
       "      <th>Id</th>\n",
       "      <th>SepalLengthCm</th>\n",
       "      <th>SepalWidthCm</th>\n",
       "      <th>PetalLengthCm</th>\n",
       "      <th>PetalWidthCm</th>\n",
       "      <th>Species</th>\n",
       "    </tr>\n",
       "  </thead>\n",
       "  <tbody>\n",
       "    <tr>\n",
       "      <th>0</th>\n",
       "      <td>1</td>\n",
       "      <td>5.1</td>\n",
       "      <td>3.5</td>\n",
       "      <td>1.4</td>\n",
       "      <td>0.2</td>\n",
       "      <td>Iris-setosa</td>\n",
       "    </tr>\n",
       "    <tr>\n",
       "      <th>1</th>\n",
       "      <td>2</td>\n",
       "      <td>4.9</td>\n",
       "      <td>3.0</td>\n",
       "      <td>1.4</td>\n",
       "      <td>0.2</td>\n",
       "      <td>Iris-setosa</td>\n",
       "    </tr>\n",
       "    <tr>\n",
       "      <th>2</th>\n",
       "      <td>3</td>\n",
       "      <td>4.7</td>\n",
       "      <td>3.2</td>\n",
       "      <td>1.3</td>\n",
       "      <td>0.2</td>\n",
       "      <td>Iris-setosa</td>\n",
       "    </tr>\n",
       "    <tr>\n",
       "      <th>3</th>\n",
       "      <td>4</td>\n",
       "      <td>4.6</td>\n",
       "      <td>3.1</td>\n",
       "      <td>1.5</td>\n",
       "      <td>0.2</td>\n",
       "      <td>Iris-setosa</td>\n",
       "    </tr>\n",
       "    <tr>\n",
       "      <th>4</th>\n",
       "      <td>5</td>\n",
       "      <td>5.0</td>\n",
       "      <td>3.6</td>\n",
       "      <td>1.4</td>\n",
       "      <td>0.2</td>\n",
       "      <td>Iris-setosa</td>\n",
       "    </tr>\n",
       "  </tbody>\n",
       "</table>\n",
       "</div>"
      ],
      "text/plain": [
       "   Id  SepalLengthCm  SepalWidthCm  PetalLengthCm  PetalWidthCm      Species\n",
       "0   1            5.1           3.5            1.4           0.2  Iris-setosa\n",
       "1   2            4.9           3.0            1.4           0.2  Iris-setosa\n",
       "2   3            4.7           3.2            1.3           0.2  Iris-setosa\n",
       "3   4            4.6           3.1            1.5           0.2  Iris-setosa\n",
       "4   5            5.0           3.6            1.4           0.2  Iris-setosa"
      ]
     },
     "execution_count": 56,
     "metadata": {},
     "output_type": "execute_result"
    }
   ],
   "source": [
    "from sklearn.model_selection import train_test_split\n",
    "data = pd.read_csv('../Data/Iris.csv')\n",
    "x=df[[\"PetalLengthCm\",\"PetalWidthCm\"]].values\n",
    "y = df.loc[:, \"Species\"]\n",
    "df.head()"
   ]
  },
  {
   "cell_type": "code",
   "execution_count": 57,
   "id": "589b9766",
   "metadata": {},
   "outputs": [
    {
     "name": "stdout",
     "output_type": "stream",
     "text": [
      "1.0\n",
      "Résultat : \n"
     ]
    }
   ],
   "source": [
    "from sklearn.svm import SVC\n",
    "x_train, x_test, y_train, y_test = train_test_split(x, y, test_size = 0.20)\n",
    "model_SVC = SVC( kernel = 'linear', gamma = 'scale', shrinking = False,)\n",
    "model_SVC.fit( x_train, y_train)\n",
    "print( model_SVC.score( x_test, y_test))#calcule de précision\n",
    "#Prédiction_test\n",
    "longueur = 2.5\n",
    "largeur = 0.75\n",
    "prediction = model_SVC.predict( [[longueur, largeur]])\n",
    "resultat = \"Résultat : \"\n",
    "if prediction[0] == 0:\n",
    "    resultat = resultat + \"setosa\"\n",
    "if prediction[0] == 1:\n",
    "    resultat = resultat + \"versicolor\"\n",
    "if prediction[0] == 2:\n",
    "    resultat = resultat + \"virginica\"\n",
    "print( resultat)"
   ]
  },
  {
   "cell_type": "markdown",
   "id": "ea215110",
   "metadata": {},
   "source": [
    "### NuSVC"
   ]
  },
  {
   "cell_type": "markdown",
   "id": "3c9c9bbf",
   "metadata": {},
   "source": [
    "\n",
    "**NuSVC** est l’acronyme de Nu Support Vector Classification. C’est une classe fournie par la bibliothèque Scikit-learn et qui permet de faire la classification multi-classes. Le **NuSVC** ressemble au **SVC** avec une légère différence dans les paramètres.\n",
    "\n",
    "Le **NuSVC** accepte un paramètre nu qui prend une valeur à virgule dans l’intervalle (0, 1] par défaut égale à 0.5 et qui représente une limite supérieure de la fraction des erreurs de training et une limite inférieure de la fraction des vecteurs de support.\n",
    "\n",
    "Appliquons celui-ci sur la dataset « Iris.csv »."
   ]
  },
  {
   "cell_type": "code",
   "execution_count": 59,
   "id": "b1477a20",
   "metadata": {},
   "outputs": [
    {
     "name": "stdout",
     "output_type": "stream",
     "text": [
      "1.0\n",
      "Résultat : \n"
     ]
    }
   ],
   "source": [
    "from sklearn.svm import NuSVC\n",
    "#instanciation\n",
    "model_NuSVC = NuSVC( kernel = 'linear', gamma = 'scale', shrinking = False,)\n",
    "#training\n",
    "model_NuSVC.fit( x_train, y_train)\n",
    "#calcule de précision\n",
    "print(model_NuSVC.score( x_test, y_test))\n",
    "#Prédiction\n",
    "longueur = 2.5\n",
    "largeur = 0.75\n",
    "prediction = model_NuSVC.predict( [[longueur, largeur]])\n",
    "#affichage des résultats\n",
    "resultat = \"Résultat : \"\n",
    "if prediction[0] == 0:\n",
    "    resultat = resultat + \"setosa\"\n",
    "if prediction[0] == 1:\n",
    "    resultat = resultat + \"versicolor\"\n",
    "if prediction[0] == 2:\n",
    "    resultat = resultat + \"virginica\"\n",
    "print(resultat)"
   ]
  },
  {
   "cell_type": "markdown",
   "id": "3627cb18",
   "metadata": {},
   "source": [
    "### LinearSVC"
   ]
  },
  {
   "cell_type": "markdown",
   "id": "b5572779",
   "metadata": {},
   "source": [
    "Le **linearSVC** est similaire à un certain degré au **SVC** dont le noyau est linéaire (kernel = ‘linear’). La différence entre ces deux est que le linearSVC est implémenté en liblinear, le SVC, quant à lui, est implémenté enlibsvm.\n",
    "\n",
    "Le **linearSVC** est plus adapté au grand nombre d’échantillons. Pour ces paramètres, il n’accepte pas le paramètre kernel car implicitement il est considéré comme étant linéaire. Il accepte en revanche les deux paramètres optionnels suivants :\n",
    "\n",
    "- **Penalty** : spécifie la norme utilisée dans la pénalisation. Et qui est soit l1 soit l2.\n",
    "\n",
    "- **Loss** : représente la fonction de perte."
   ]
  },
  {
   "cell_type": "markdown",
   "id": "b673a383",
   "metadata": {},
   "source": [
    "**Remarque :**\n",
    "\n",
    "Le **linearSVC** n’accepte pas les attributs suivants : **support_**, **support_vectors_**,\n",
    "    **n_support_**, **fit_status_ et dual_coef_**.\n",
    "\n",
    "Appliquons ce modèle à la dataset « iris »."
   ]
  },
  {
   "cell_type": "code",
   "execution_count": 64,
   "id": "b519745a",
   "metadata": {},
   "outputs": [
    {
     "name": "stdout",
     "output_type": "stream",
     "text": [
      "0.9666666666666667\n",
      "Résultat : \n"
     ]
    }
   ],
   "source": [
    "from sklearn.svm import LinearSVC\n",
    "model_linearSVC = LinearSVC( dual = False, random_state = 0, penalty = 'l1', tol = 1e-3)\n",
    "model_linearSVC.fit( x_train, y_train) #training\n",
    "print(model_linearSVC.score( x_test, y_test))#calcule de précision\n",
    "#Prédiction_test\n",
    "longueur = 2.5\n",
    "largeur = 0.75\n",
    "prediction = model_linearSVC.predict( [[longueur, largeur]])\n",
    "#affichage des résultats\n",
    "resultat = \"Résultat : \"\n",
    "if prediction[0] == 0:\n",
    "    resultat = resultat + \"setosa\"\n",
    "if prediction[0] == 1:\n",
    "    resultat = resultat + \"versicolor\"\n",
    "if prediction[0] == 2:\n",
    "    resultat = resultat + \"virginica\"\n",
    "print(resultat)"
   ]
  },
  {
   "cell_type": "code",
   "execution_count": null,
   "id": "ba64ea4b",
   "metadata": {},
   "outputs": [],
   "source": []
  }
 ],
 "metadata": {
  "kernelspec": {
   "display_name": "Python 3",
   "language": "python",
   "name": "python3"
  },
  "language_info": {
   "codemirror_mode": {
    "name": "ipython",
    "version": 3
   },
   "file_extension": ".py",
   "mimetype": "text/x-python",
   "name": "python",
   "nbconvert_exporter": "python",
   "pygments_lexer": "ipython3",
   "version": "3.8.8"
  }
 },
 "nbformat": 4,
 "nbformat_minor": 5
}
