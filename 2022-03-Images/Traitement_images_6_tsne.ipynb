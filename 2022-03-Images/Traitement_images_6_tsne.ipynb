{
 "cells": [
  {
   "cell_type": "markdown",
   "id": "b8442044",
   "metadata": {},
   "source": [
    "# Reduction de dimension "
   ]
  },
  {
   "cell_type": "markdown",
   "id": "9816c4c2",
   "metadata": {},
   "source": [
    "**Visualisation et réduction de la dimensionnalité**"
   ]
  },
  {
   "cell_type": "markdown",
   "id": "fc337a03",
   "metadata": {},
   "source": [
    "- Principal Component Analysis (PCA)\n",
    "- t-distributed Stochastic Neighbor Embedding (t-SNE)\n",
    "- ....\n",
    "- ...."
   ]
  },
  {
   "cell_type": "markdown",
   "id": "c8714d75",
   "metadata": {},
   "source": [
    "• **t-SNE** réduit la dimensionnalité tout en essayant de garder les instances similaires proches et les instances dissemblables séparées. Il est\n",
    "principalement utilisé pour la visualisation, en particulier pour visualiser des clusters d'instances dans\n",
    "un espace de grande dimension."
   ]
  },
  {
   "cell_type": "markdown",
   "id": "f1b0c305",
   "metadata": {},
   "source": [
    "## Exercice "
   ]
  },
  {
   "cell_type": "markdown",
   "id": "3b96bfa1",
   "metadata": {},
   "source": [
    "Utilisez t-SNE pour réduire le jeu de données **MNIST** à deux dimensions et tracer le résultat à l’aide de Matplotlib/Seaborn. Vous pouvez utiliser un nuage de points utilisant 10 couleurs différentes pour représenter la classe cible de chaque image."
   ]
  },
  {
   "cell_type": "markdown",
   "id": "9e6b6c02",
   "metadata": {},
   "source": [
    "**Remarque**\n",
    "- La réduction de la dimensionnalité sur les 60 000 images complètes prend beaucoup de temps, alors vous pouvez soit :\n",
    "   - appliquer APC puis t-SNE\n",
    "   - appliquer t-SNE sur un sous-ensemble aléatoire de 10 000 images"
   ]
  },
  {
   "cell_type": "markdown",
   "id": "92dbaa04",
   "metadata": {},
   "source": [
    "##### Récuperer  MNIST du module sklearn.datasets"
   ]
  },
  {
   "cell_type": "code",
   "execution_count": null,
   "id": "01308abe",
   "metadata": {},
   "outputs": [],
   "source": []
  },
  {
   "cell_type": "code",
   "execution_count": null,
   "id": "7f813e79",
   "metadata": {},
   "outputs": [],
   "source": []
  },
  {
   "cell_type": "code",
   "execution_count": null,
   "id": "fed06491",
   "metadata": {},
   "outputs": [],
   "source": []
  }
 ],
 "metadata": {
  "kernelspec": {
   "display_name": "Python 3",
   "language": "python",
   "name": "python3"
  },
  "language_info": {
   "codemirror_mode": {
    "name": "ipython",
    "version": 3
   },
   "file_extension": ".py",
   "mimetype": "text/x-python",
   "name": "python",
   "nbconvert_exporter": "python",
   "pygments_lexer": "ipython3",
   "version": "3.8.8"
  }
 },
 "nbformat": 4,
 "nbformat_minor": 5
}
