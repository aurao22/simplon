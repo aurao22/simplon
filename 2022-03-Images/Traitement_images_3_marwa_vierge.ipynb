{
 "cells": [
  {
   "cell_type": "markdown",
   "id": "bb871288",
   "metadata": {},
   "source": [
    "#### Créations des descripteurs de chaque image\n",
    "1. Pour chaque image passage en gris et equalisation\n",
    "\n",
    "2. création d'une liste de descripteurs par image (\"sift_keyspoints_img\") qui sera utilisée pour réaliser les histogrammes par image\n",
    "\n",
    "3. création d'une liste de descripteurs pour l'ensemble des images (\"sift_keyspoints_all_imag\") qui sera utilisé pour créer les clusters de descripteurs (on vera çe on détaille  aprés)"
   ]
  },
  {
   "cell_type": "code",
   "execution_count": null,
   "id": "40039eab",
   "metadata": {},
   "outputs": [],
   "source": [
    "sift_keyspoints_img=[]\n",
    "for image_num in range(len(list_photos)) :\n",
    "                     # convertir en gray\n",
    "                     # equalisation histogramme\n",
    "                     #descripteur \n",
    "                     # append de sift_clespoints_img\n",
    "\n",
    "\n",
    "sift_keyspoints_all_img    ## conact de chaque descripteur \n",
    "\n",
    "print(\"Nombre de descripteurs : \", sift_keypoints_all.shape)"
   ]
  },
  {
   "cell_type": "markdown",
   "id": "b1d55bf4",
   "metadata": {},
   "source": [
    "## Création des clusters de descripteurs (je vous laisse creuser un peu)\n",
    "* Utilisation de MiniBatchKMeans pour obtenir des temps de traitement raisonnables"
   ]
  },
  {
   "cell_type": "code",
   "execution_count": null,
   "id": "e1a3f3b9",
   "metadata": {},
   "outputs": [],
   "source": []
  },
  {
   "cell_type": "markdown",
   "id": "ce7a5b15",
   "metadata": {},
   "source": [
    "## Création des features des images (je vous laisse creuser un peu)\n",
    "Features d'une image = Histogramme d'une image = Comptage pour une image du nombre de descripteurs par cluster"
   ]
  },
  {
   "cell_type": "code",
   "execution_count": null,
   "id": "43bca456",
   "metadata": {},
   "outputs": [],
   "source": []
  }
 ],
 "metadata": {
  "kernelspec": {
   "display_name": "Python 3",
   "language": "python",
   "name": "python3"
  },
  "language_info": {
   "codemirror_mode": {
    "name": "ipython",
    "version": 3
   },
   "file_extension": ".py",
   "mimetype": "text/x-python",
   "name": "python",
   "nbconvert_exporter": "python",
   "pygments_lexer": "ipython3",
   "version": "3.8.8"
  }
 },
 "nbformat": 4,
 "nbformat_minor": 5
}
