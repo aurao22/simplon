{
 "cells": [
  {
   "cell_type": "code",
   "execution_count": 1,
   "metadata": {},
   "outputs": [
    {
     "name": "stdout",
     "output_type": "stream",
     "text": [
      "Test - āĀēĒčČ..šŠūŪžŽ\n",
      "\n",
      "ÀàÁáÂâÃãÄäÅåÆæÇçÐðÈèÉÊêËëÌìÍíÎîÏïÑñÒòÓóÔôÕõÖöœŒØøßÙùÚúÛûÜüÝýÞþŸÿ\n"
     ]
    }
   ],
   "source": [
    "with open(r'C:\\Users\\User\\WORK\\workspace-ia\\simplon\\TEMP\\utf-8.txt', 'r',encoding='utf-8') as input_file:\n",
    "    liaison_log = input_file.readlines()\n",
    "\n",
    "for l in liaison_log :\n",
    "    line = l.strip(r'\\n')\n",
    "    print (f\"{line}\")"
   ]
  }
 ],
 "metadata": {
  "interpreter": {
   "hash": "ac59ebe37160ed0dfa835113d9b8498d9f09ceb179beaac4002f036b9467c963"
  },
  "kernelspec": {
   "display_name": "Python 3.9.10 64-bit",
   "language": "python",
   "name": "python3"
  },
  "language_info": {
   "codemirror_mode": {
    "name": "ipython",
    "version": 3
   },
   "file_extension": ".py",
   "mimetype": "text/x-python",
   "name": "python",
   "nbconvert_exporter": "python",
   "pygments_lexer": "ipython3",
   "version": "3.9.10"
  },
  "orig_nbformat": 4
 },
 "nbformat": 4,
 "nbformat_minor": 2
}
