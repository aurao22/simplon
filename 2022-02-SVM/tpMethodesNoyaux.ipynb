{
 "cells": [
  {
   "cell_type": "markdown",
   "id": "orange-journey",
   "metadata": {},
   "source": [
    "# Travaux pratiques - Méthodes à noyaux\n",
    "\n",
    "L’objectif de cette séance de travaux pratiques est de montrer l’utilisation des machines à vecteurs de support (*Support Vector Machines*, SVM) pour les problèmes de classification non-lineaire en python avec Scikit-learn.\n",
    "\n",
    "Références externes utiles :\n",
    "\n",
    "> - [Documentation NumPy](https://docs.scipy.org/doc/numpy/user/index.html)  \n",
    "- [Documentation SciPy](https://docs.scipy.org/doc/scipy/reference/)  \n",
    "- [Documentation MatPlotLib](http://matplotlib.org/)  \n",
    "- [Site scikit-learn](http://scikit-learn.org/stable/index.html)  \n",
    "- [Site langage python](https://www.python.org)  \n",
    "- [Site LibSVM](https://www.csie.ntu.edu.tw/~cjlin/libsvm/)  \n",
    "- [Site LibLinear](https://www.csie.ntu.edu.tw/~cjlin/liblinear/)  "
   ]
  },
  {
   "cell_type": "markdown",
   "id": "several-angola",
   "metadata": {},
   "source": [
    "# Machines à vecteurs de support (SVM)\n",
    "\n",
    "Les machines à vecteurs de support (SVM : *Support Vector Machines*) sont une classe des méthodes d’apprentissage statistique basées sur le principe de la maximisation de la marge (séparation des classes). Il existe plusieurs formulations (linéaires, versions à noyaux) qui peuvent s’appliquer sur des données séparables (linéairement) mais aussi sur des données non séparables.\n",
    "\n",
    "Les avantages des SVM :\n",
    "\n",
    "- Très efficaces en dimension élevée.  \n",
    "- Ils sont aussi efficaces dans le cas où la dimension de l’espace est plus grande que le nombre d’échantillons d’apprentissage.  \n",
    "- N’utilisent pas tous les échantillons d’apprentissage, mais seulement une partie (les vecteurs de support). En conséquence, ces algorithmes demandent moins de mémoire.  \n",
    "\n",
    "\n",
    "Désavantages :\n",
    "\n",
    "- Si le nombre d’attributs est beaucoup plus grand que le nombre d’échantillons, les performances seront moins bonnes.  \n",
    "- Comme il s’agit de méthodes de discrimination entre les classes, elles ne fournissent pas directement des estimations de probabilités.  "
   ]
  },
  {
   "cell_type": "code",
   "execution_count": 33,
   "id": "57fd6a4f",
   "metadata": {},
   "outputs": [],
   "source": [
    "import numpy as np\n",
    "import matplotlib.pyplot as plt\n",
    "from sklearn import svm, datasets\n",
    "from sklearn.model_selection import train_test_split\n",
    "import matplotlib.pyplot as plt\n",
    "from sklearn.decomposition import PCA\n",
    "from sklearn.model_selection import GridSearchCV\n",
    "from sklearn.pipeline import Pipeline\n",
    "from sklearn.datasets import load_digits"
   ]
  },
  {
   "cell_type": "markdown",
   "id": "white-calgary",
   "metadata": {},
   "source": [
    "## Scikit-learn\n",
    "\n",
    "Dans Scikit-learn, les SVM sont implémentées dans le module `sklearn.svm`. Dans cette partie nous allons nous intéresser à la version à noyaux (Scikit-learn utilise la bibliothèque LibSVM déjà discutée)."
   ]
  },
  {
   "cell_type": "code",
   "execution_count": null,
   "id": "accurate-anaheim",
   "metadata": {
    "hide-output": false
   },
   "outputs": [],
   "source": [
    "#!pip install -U scikit-learn\n",
    "# Une version récente de sklearn est nécessaire pour gamma='scale' (cf. plus bas)"
   ]
  },
  {
   "cell_type": "markdown",
   "id": "mighty-calendar",
   "metadata": {},
   "source": [
    "Relisez le TP SVM linéaire (partie Scikit-learn) pour vous remettre dans le contexte (quels sont les classes Python utilisées et leurs paramètres). La [documentation de scikit-learn sur les SVM](https://scikit-learn.org/stable/modules/generated/sklearn.svm.SVC.html#sklearn.svm.SVC) vous sera utile.\n",
    "\n",
    "Nous allons reprendre la classification sur les données Iris."
   ]
  },
  {
   "cell_type": "code",
   "execution_count": 1,
   "id": "european-contribution",
   "metadata": {
    "hide-output": false
   },
   "outputs": [],
   "source": [
    "# Chargement des données\n",
    "iris = datasets.load_iris()\n",
    "X, y = iris.data, iris.target\n",
    "# On conserve 50% du jeu de données pour l'évaluation\n",
    "X_train, X_test, y_train, y_test = train_test_split(X, y, test_size=0.5)"
   ]
  },
  {
   "cell_type": "markdown",
   "id": "mental-shame",
   "metadata": {},
   "source": [
    "<div style=\"display: flex; border-left: 0.2em solid #c1002a; color:rgb(145, 0, 31); font-weight:bold;\" > \n",
    "\n",
    "#### Question\n",
    "</div>\n",
    "<div style=\"display: flex; border-left: 0.2em solid #c1002a;)\" > \n",
    "\n",
    "Refaites la classification de la base de données `iris` mais avec un noyau gaussien. Testez l’effet du paramètre d’échelle du noyau (`gamma`) et du paramètre de régularisation `C`.\n",
    "</div>"
   ]
  },
  {
   "cell_type": "markdown",
   "id": "18e0c2b8",
   "metadata": {},
   "source": [
    "<div style=\"display: flex; border-left: 0.2em solid #006e12; color:#006e12; font-weight:bold;\" > \n",
    "\n",
    "#### Correction\n",
    "</div>"
   ]
  },
  {
   "cell_type": "code",
   "execution_count": 39,
   "id": "594deb06",
   "metadata": {},
   "outputs": [
    {
     "data": {
      "text/plain": [
       "dict_keys(['C', 'break_ties', 'cache_size', 'class_weight', 'coef0', 'decision_function_shape', 'degree', 'gamma', 'kernel', 'max_iter', 'probability', 'random_state', 'shrinking', 'tol', 'verbose'])"
      ]
     },
     "execution_count": 39,
     "metadata": {},
     "output_type": "execute_result"
    }
   ],
   "source": [
    "svm.SVC().get_params().keys()"
   ]
  },
  {
   "cell_type": "code",
   "execution_count": 3,
   "id": "convinced-twist",
   "metadata": {
    "hide-output": false
   },
   "outputs": [
    {
     "data": {
      "text/plain": [
       "0.9733333333333334"
      ]
     },
     "execution_count": 3,
     "metadata": {},
     "output_type": "execute_result"
    }
   ],
   "source": [
    "clf = svm.SVC(C=1.0, kernel='rbf', gamma=0.25)\n",
    "clf.fit(X_train, y_train)\n",
    "clf.score(X_test, y_test)"
   ]
  },
  {
   "cell_type": "markdown",
   "id": "illegal-wellington",
   "metadata": {},
   "source": [
    "Comme dans le TP précédent, nous pouvons afficher la frontière de décision en ne conservant que deux variables explicatives :"
   ]
  },
  {
   "cell_type": "code",
   "execution_count": 5,
   "id": "silent-cruise",
   "metadata": {
    "hide-output": false
   },
   "outputs": [],
   "source": [
    "X, y = iris.data[:,:2], iris.target\n",
    "# On conserve 50% du jeu de données pour l'évaluation\n",
    "X_train, X_test, y_train, y_test = train_test_split(X, y, test_size=0.5, random_state=0)"
   ]
  },
  {
   "cell_type": "code",
   "execution_count": 6,
   "id": "hungarian-dialogue",
   "metadata": {
    "hide-output": false
   },
   "outputs": [
    {
     "data": {
      "text/plain": [
       "Text(0.5, 1.0, 'SVM RBF')"
      ]
     },
     "execution_count": 6,
     "metadata": {},
     "output_type": "execute_result"
    },
    {
     "data": {
      "image/png": "[encoded data removed]",
      "text/plain": [
       "<Figure size 432x288 with 1 Axes>"
      ]
     },
     "metadata": {
      "needs_background": "light"
     },
     "output_type": "display_data"
    }
   ],
   "source": [
    "clf = svm.SVC(C=0.1, kernel='rbf', gamma=0.25)\n",
    "clf.fit(X_train, y_train)\n",
    "\n",
    "# Pour afficher la surface de décision on va discrétiser l'espace avec un pas h\n",
    "h = .02\n",
    "# Créer la surface de décision discretisée\n",
    "x_min, x_max = X[:, 0].min() - 1, X[:, 0].max() + 1\n",
    "y_min, y_max = X[:, 1].min() - 1, X[:, 1].max() + 1\n",
    "xx, yy = np.meshgrid(np.arange(x_min, x_max, h), np.arange(y_min, y_max, h))\n",
    "\n",
    "# Surface de décision\n",
    "Z = clf.predict(np.c_[xx.ravel(), yy.ravel()])\n",
    "Z = Z.reshape(xx.shape)\n",
    "\n",
    "plt.contourf(xx, yy, Z, cmap=plt.cm.coolwarm, alpha=0.8)\n",
    "# Afficher aussi les points d'apprentissage\n",
    "plt.scatter(X_train[:, 0], X_train[:, 1], label=\"train\", edgecolors='k', c=y_train, cmap=plt.cm.coolwarm)\n",
    "plt.scatter(X_test[:, 0], X_test[:, 1], label=\"test\", marker='*', c=y_test, cmap=plt.cm.coolwarm)\n",
    "plt.xlabel('Sepal length')\n",
    "plt.ylabel('Sepal width')\n",
    "plt.title(\"SVM RBF\")"
   ]
  },
  {
   "cell_type": "markdown",
   "id": "unlimited-skating",
   "metadata": {},
   "source": [
    "<div style=\"display: flex; border-left: 0.2em solid #c1002a; color:rgb(145, 0, 31); font-weight:bold;\" > \n",
    "\n",
    "#### Question\n",
    "</div>\n",
    "<div style=\"display: flex; border-left: 0.2em solid #c1002a;)\" > \n",
    "\n",
    "Que constatez-vous par rapport au TP précédent ?\n",
    "</div>"
   ]
  },
  {
   "cell_type": "markdown",
   "id": "deb7fd9e",
   "metadata": {},
   "source": [
    "<div style=\"display: flex; border-left: 0.2em solid #006e12; color:#006e12; font-weight:bold;\" > \n",
    "\n",
    "#### Correction\n",
    "</div>\n",
    "<div style=\"display: flex; border-left: 0.2em solid #006e12;)\" > \n",
    "\n",
    "L’utilisation du noyau gaussien permet d’obtenir des frontières de décision non linéaires. Le paramètre `gamma` correspond au rayon d’influence de chaque observation : plus `γ` est élevé, plus le rayon d’influence de chaque observation est réduit. Les observations plus proches de la frontière ont donc plus de poids et la frontière aura tendance à « coller » aux observations.\n",
    "</div>"
   ]
  },
  {
   "cell_type": "markdown",
   "id": "trying-cincinnati",
   "metadata": {},
   "source": [
    "# Jeu de données Digits\n",
    "\n",
    "Reprenons notre base de données Digits de chiffres manuscrits."
   ]
  },
  {
   "cell_type": "code",
   "execution_count": 8,
   "id": "active-sandwich",
   "metadata": {
    "hide-output": false
   },
   "outputs": [
    {
     "name": "stdout",
     "output_type": "stream",
     "text": [
      "(1797, 64)\n",
      "(1797,)\n"
     ]
    }
   ],
   "source": [
    "digits = load_digits()\n",
    "X, y = digits.data, digits.target\n",
    "print(X.shape)\n",
    "print(y.shape)\n",
    "X_train, X_test, y_train, y_test = train_test_split(X, y, test_size=0.2, random_state=0)"
   ]
  },
  {
   "cell_type": "markdown",
   "id": "exciting-blues",
   "metadata": {},
   "source": [
    "<div style=\"display: flex; border-left: 0.2em solid #c1002a; color:rgb(145, 0, 31); font-weight:bold;\" > \n",
    "\n",
    "#### Question\n",
    "</div>\n",
    "<div style=\"display: flex; border-left: 0.2em solid #c1002a;)\" > \n",
    "\n",
    "Réalisez une classification par une SVM linéaire et une SVM à noyau gaussien du jeu de données Digits.\n",
    "Comment est choisi le paramètre `gamma` dans scikit-learn ? Testez différentes valeurs de ce paramètre pour évaluer son influence. En particulier, testez les paramètres `gamma='auto'` et `gamma='scale'`. À quoi correspondent-ils ?\n",
    "</div>"
   ]
  },
  {
   "cell_type": "markdown",
   "id": "73daf7e7",
   "metadata": {},
   "source": [
    "<div style=\"display: flex; border-left: 0.2em solid #006e12; color:#006e12; font-weight:bold;\" > \n",
    "\n",
    "#### Correction\n",
    "</div>"
   ]
  },
  {
   "cell_type": "code",
   "execution_count": 16,
   "id": "built-consequence",
   "metadata": {
    "hide-output": false
   },
   "outputs": [],
   "source": [
    "def test(X_s, y_train,kernel='rbf', C = 1.0, gamma=\"scale\"):\n",
    "\n",
    "    svc = svm.SVC(kernel=kernel, C=C, gamma=gamma).fit(X_s, y_train)\n",
    "\n",
    "    # Créer la surface de décision discretisée\n",
    "    x_min, x_max = X_s[:, 0].min() - 1, X_s[:, 0].max() + 1\n",
    "    y_min, y_max = X_s[:, 1].min() - 1, X_s[:, 1].max() + 1\n",
    "    h = max((x_max - x_min) / 100, (y_max - y_min) / 100)\n",
    "    xx, yy = np.meshgrid(np.arange(x_min, x_max, h), np.arange(y_min, y_max, h))\n",
    "    title = 'SVC noyau RBF'\n",
    "\n",
    "    Z = svc.predict(np.c_[xx.ravel(), yy.ravel()])\n",
    "    Z = Z.reshape(xx.shape)\n",
    "    plt.contourf(xx, yy, Z, cmap=plt.cm.coolwarm, alpha=0.8)\n",
    "    # Afficher aussi les points d'apprentissage\n",
    "    plt.scatter(X_s[:, 0], X_s[:, 1], c=y_train, marker='+', cmap=plt.cm.coolwarm)\n",
    "    plt.xlabel('PCA1')\n",
    "    plt.ylabel('PCA2')\n",
    "    plt.title(title)\n",
    "    plt.show()"
   ]
  },
  {
   "cell_type": "code",
   "execution_count": 27,
   "id": "0a87c682",
   "metadata": {},
   "outputs": [
    {
     "data": {
      "image/png": "[encoded data removed]",
      "text/plain": [
       "<Figure size 432x288 with 1 Axes>"
      ]
     },
     "metadata": {
      "needs_background": "light"
     },
     "output_type": "display_data"
    }
   ],
   "source": [
    "test(X_train[:,0:2], y_train,kernel='linear', C = 1.0)"
   ]
  },
  {
   "cell_type": "code",
   "execution_count": 28,
   "id": "db897e41",
   "metadata": {},
   "outputs": [
    {
     "data": {
      "image/png": "[encoded data removed]",
      "text/plain": [
       "<Figure size 432x288 with 1 Axes>"
      ]
     },
     "metadata": {
      "needs_background": "light"
     },
     "output_type": "display_data"
    }
   ],
   "source": [
    "test(X_train[:,0:2], y_train,kernel='linear', gamma='auto', C = 1.0)"
   ]
  },
  {
   "cell_type": "markdown",
   "id": "prompt-browse",
   "metadata": {},
   "source": [
    "<div style=\"display: flex; border-left: 0.2em solid #c1002a; color:rgb(145, 0, 31); font-weight:bold;\" > \n",
    "\n",
    "#### Question\n",
    "</div>\n",
    "<div style=\"display: flex; border-left: 0.2em solid #c1002a;)\" >\n",
    "\n",
    "Réalisez une analyse en composante principale (ACP) et gardez les 2 premières composantes principales (voir la [documentation Scikit-learn](https://scikit-learn.org/stable/modules/generated/sklearn.decomposition.PCA.html)). Ensuite faites une classification avec un noyau gaussien et affichez les points de test ainsi que la surface de décision (reprendre le code du TP SVM linéaire). Comparez avec une SVM linéaire.\n",
    "</div>"
   ]
  },
  {
   "cell_type": "code",
   "execution_count": 29,
   "id": "f8f21e10",
   "metadata": {},
   "outputs": [],
   "source": [
    "# ACP\n",
    "pca = PCA(n_components=2)\n",
    "X_s = pca.fit_transform(X_train)"
   ]
  },
  {
   "cell_type": "code",
   "execution_count": 30,
   "id": "4a5ae1c0",
   "metadata": {},
   "outputs": [
    {
     "data": {
      "image/png": "[encoded data removed]",
      "text/plain": [
       "<Figure size 432x288 with 1 Axes>"
      ]
     },
     "metadata": {
      "needs_background": "light"
     },
     "output_type": "display_data"
    }
   ],
   "source": [
    "test(X_s, y_train,kernel='linear', C = 1.0)"
   ]
  },
  {
   "cell_type": "code",
   "execution_count": 31,
   "id": "4a5ae1c0",
   "metadata": {},
   "outputs": [
    {
     "data": {
      "image/png": "[encoded data removed]",
      "text/plain": [
       "<Figure size 432x288 with 1 Axes>"
      ]
     },
     "metadata": {
      "needs_background": "light"
     },
     "output_type": "display_data"
    }
   ],
   "source": [
    "test(X_s, y_train,kernel='linear', gamma='auto', C = 1.0)"
   ]
  },
  {
   "cell_type": "markdown",
   "id": "mighty-sector",
   "metadata": {},
   "source": [
    "<div style=\"display: flex; border-left: 0.2em solid #c1002a; color:rgb(145, 0, 31); font-weight:bold;\" > \n",
    "\n",
    "#### Question\n",
    "</div>\n",
    "<div style=\"display: flex; border-left: 0.2em solid #c1002a;)\" >\n",
    "\n",
    "Réalisez une recherche par grille afin de déterminer sur le jeu de données Digits complet (sans l’ACP) :\n",
    "</div>\n",
    "<div style=\"display: flex; border-left: 0.2em solid #c1002a;)\" >\n",
    "\n",
    "- le meilleur noyau à utiliser,  \n",
    "- la meilleure valeure de `C`,  \n",
    "- la meilleure valeur de `gamma` (ou le degré du polynome pour un noyau polynomial).  \n",
    "- (optionnel) la meilleure valeur de `n_components` de l’ACP  \n",
    "\n",
    "</div>"
   ]
  },
  {
   "cell_type": "markdown",
   "id": "04872ac8",
   "metadata": {},
   "source": [
    "<div style=\"display: flex; border-left: 0.2em solid #006e12; color:#006e12; font-weight:bold;\" > \n",
    "\n",
    "#### Correction\n",
    "</div>\n",
    "\n",
    "<div style=\"display: flex; border-left: 0.2em solid #006e12;\" > \n",
    "\n",
    "Par exemple, avec une `GridSearch` en cherchant diverses combinaisons de paramètres en fonction du type de noyau considéré. `n_jobs=4` permet de paralléliser les calculs sur 4 coeurs. Attention, cela prend du temps !\n",
    "</div>"
   ]
  },
  {
   "cell_type": "code",
   "execution_count": 34,
   "id": "22146f19",
   "metadata": {},
   "outputs": [],
   "source": [
    "param_grid = [\n",
    "    {'kernel': ['rbf'], 'gamma': ['auto', 'scale', 0.1, 1, 10], 'C': [0.01, 0.1, 1.0, 10, 100]},\n",
    "    {'kernel': ['poly'], 'degree': [3, 10, 30], 'C': [0.01, 0.1, 1.0, 10, 100]},\n",
    "    {'kernel': ['linear'], 'C': [0.01, 0.1, 1.0, 10, 100]}\n",
    "]"
   ]
  },
  {
   "cell_type": "code",
   "execution_count": 35,
   "id": "59506d6c",
   "metadata": {},
   "outputs": [
    {
     "name": "stdout",
     "output_type": "stream",
     "text": [
      "Fitting 3 folds for each of 45 candidates, totalling 135 fits\n",
      "{'C': 1.0, 'degree': 3, 'kernel': 'poly'}\n"
     ]
    }
   ],
   "source": [
    "clf = GridSearchCV(svm.SVC(), param_grid, cv=3, n_jobs=4, verbose=1)\n",
    "clf.fit(X_train, y_train)\n",
    "print(clf.best_params_)"
   ]
  },
  {
   "cell_type": "markdown",
   "id": "226108ba",
   "metadata": {},
   "source": [
    "<div style=\"display: flex; border-left: 0.2em solid #006e12;\" > \n",
    "\n",
    "Pour déterminer automatiquement ces hyperparamètres ainsi que le nombre de composantes de l’ACP, il faut construire un Pipeline de scikit-learn :\n",
    "</div>"
   ]
  },
  {
   "cell_type": "code",
   "execution_count": 36,
   "id": "faf586de",
   "metadata": {},
   "outputs": [
    {
     "name": "stdout",
     "output_type": "stream",
     "text": [
      "Fitting 5 folds for each of 20 candidates, totalling 100 fits\n",
      "{'pca__n_components': 30, 'svm__C': 10}\n"
     ]
    }
   ],
   "source": [
    "pca = PCA()\n",
    "\n",
    "# En supposant que l'on se concentre sur une SVM RBF\n",
    "svc = svm.SVC(kernel='rbf', gamma='scale')\n",
    "pipe = Pipeline(steps=[('pca', pca), ('svm', svc)])\n",
    "\n",
    "# Syntaxe : nomdustep__nomduparamètre\n",
    "param_grid = {\n",
    "    'pca__n_components': [5, 15, 30, 45, 64],\n",
    "    'svm__C': [0.1, 1.0, 10, 100],\n",
    "}\n",
    "search = GridSearchCV(pipe, param_grid, n_jobs=4, verbose=1)\n",
    "search.fit(X_train, y_train)\n",
    "print(search.best_params_)"
   ]
  },
  {
   "cell_type": "code",
   "execution_count": 37,
   "id": "681b2b5f",
   "metadata": {},
   "outputs": [
    {
     "name": "stdout",
     "output_type": "stream",
     "text": [
      "0.9916666666666667\n"
     ]
    }
   ],
   "source": [
    "print(search.score(X_test, y_test))"
   ]
  },
  {
   "cell_type": "markdown",
   "id": "representative-tucson",
   "metadata": {},
   "source": [
    "<div style=\"display: flex; border-left: 0.2em solid #c1002a; color:rgb(145, 0, 31); font-weight:bold;\" > \n",
    "\n",
    "#### Question\n",
    "</div>\n",
    "<div style=\"display: flex; border-left: 0.2em solid #c1002a;)\" >\n",
    "\n",
    "(optionnel) Combien de composantes faut-il garder au minimum dans l’ACP pour classer correctement au moins 97% des images ? À quel facteur de réduction de dimension cela correspond-il ?\n",
    "</div>"
   ]
  },
  {
   "cell_type": "markdown",
   "id": "e08512b3",
   "metadata": {},
   "source": [
    "<div style=\"display: flex; border-left: 0.2em solid #006e12; color:#006e12; font-weight:bold;\" > \n",
    "\n",
    "#### Correction\n",
    "</div>\n",
    "\n",
    "<div style=\"display: flex; border-left: 0.2em solid #006e12;\" > \n",
    "\n",
    "Les 10 premières composantes après ACP suffisent à classer correctement >97% des images de chiffre. Les images contenant 64 valeurs (8x8 pixels), cela correspond à 85% de réduction de dimension. C’est intéressant car la SVM avec un noyau RBF est environ 3 fois plus rapide avec 10 composantes qu’avec 64 dans notre cas. Par exemple \n",
    "</div>"
   ]
  },
  {
   "cell_type": "code",
   "execution_count": 38,
   "id": "a3757f7b",
   "metadata": {},
   "outputs": [
    {
     "name": "stdout",
     "output_type": "stream",
     "text": [
      "0.9805555555555555\n"
     ]
    }
   ],
   "source": [
    "pca = PCA(n_components=10)\n",
    "svc = svm.SVC(kernel='rbf', gamma='scale')\n",
    "pipe = Pipeline(steps=[('pca', pca), ('svc', svc)])\n",
    "pipe.fit(X_train, y_train)\n",
    "print(pipe.score(X_test, y_test))\n",
    "# Environ 0.972"
   ]
  },
  {
   "cell_type": "markdown",
   "id": "7ec4fad0",
   "metadata": {},
   "source": [
    "<div style=\"display: flex; border-left: 0.2em solid #006e12;\" > \n",
    "\n",
    "Pour aller plus loin, il est possible de combiner les `pipelines` de scikit-learn avec le système de sélection de modèle `GridSearch`, voir cet exemple de la documentation.\n",
    "</div>"
   ]
  },
  {
   "cell_type": "markdown",
   "id": "transsexual-active",
   "metadata": {},
   "source": [
    "# Approfondissement : LibSVM"
   ]
  },
  {
   "cell_type": "markdown",
   "id": "heard-retirement",
   "metadata": {},
   "source": [
    "<div style=\"display: flex; border-left: 0.2em solid yellow; color:yellow; font-weight:bold;\" > \n",
    "\n",
    "#### Note\n",
    "</div>\n",
    "<div style=\"display: flex; border-left: 0.2em solid yellow;)\" > \n",
    "\n",
    "Cette partie est facultative. Elle vous permet de manipuler directement les bibiothèques LibLinear et LibSVM sur lesquelles s’appuie scikit-learn pour les machines à vecteur de supports. Ces implémentations sont très rapides et sont écrites en langage C.\n",
    "</div>\n",
    "<div style=\"display: flex; border-left: 0.2em solid yellow;)\" > \n",
    "Il est nécessaire d’avoir un compilateur C fonctionnel pour cette partie.\n",
    "</div>\n",
    "\n",
    "\n",
    "LibSVM est une implémentation sous licence libre qui s’est imposée ces derniers années et qui est utilisée par beaucoup de logiciels comme moteur de classification. Par exemple, Scikit-learn utilise cette bibliothèque pour son module `sklearn.svm`.\n",
    "\n",
    "Pour l’obtenir et la compiler suivre ces pas :"
   ]
  },
  {
   "cell_type": "code",
   "execution_count": null,
   "id": "romantic-geography",
   "metadata": {
    "hide-output": false
   },
   "outputs": [],
   "source": [
    "cd ~\n",
    "rm -rf tpsvm\n",
    "mkdir tpsvm\n",
    "cd tpsvm\n",
    "wget http://cedric.cnam.fr/~ferecatu/RCP209/libsvm-3.22.tar.gz\n",
    "tar xzvf libsvm-3.22.tar.gz\n",
    "cd libsvm-3.22/\n",
    "make"
   ]
  },
  {
   "cell_type": "markdown",
   "id": "explicit-concern",
   "metadata": {},
   "source": [
    "Pour comprendre les différents noyaux disponibles dans cette bibliothèque et leurs paramètres, lisez le document README dans le répertoire `libsvm-3.22/`.\n",
    "\n",
    "Dans une première étape, nous allons essayer de dépasser les performances de `libLinear` sur la base de données MNIST en utilisant un C-SVC à noyau gaussien. Nous allons tester seulement 2 classes, les chiffres 5 et 6."
   ]
  },
  {
   "cell_type": "code",
   "execution_count": null,
   "id": "stable-sheriff",
   "metadata": {
    "hide-output": false
   },
   "outputs": [],
   "source": [
    "cd ~\n",
    "cd tpsvm\n",
    "# Récupérer et compiler libLinear\n",
    "wget http://cedric.cnam.fr/~ferecatu/RCP209/liblinear-2.2.tar.gz\n",
    "tar xzvf liblinear-2.2.tar.gz\n",
    "cd liblinear-2.2/\n",
    "make\n",
    "# Récupérer la base de données\n",
    "cd ~\n",
    "cd tpsvm\n",
    "mkdir databases\n",
    "cd databases\n",
    "wget http://cedric.cnam.fr/~ferecatu/RCP209/mnist.bz2\n",
    "wget http://cedric.cnam.fr/~ferecatu/RCP209/mnist.t.bz2\n",
    "bzip2 -d mnist.bz2\n",
    "bzip2 -d mnist.t.bz2\n",
    "cat mnist | grep '^5 \\|^6 ' | shuf -n 2000 > 56\n",
    "cat mnist.t | grep '^5 \\|^6 ' | shuf -n 1000 > 56.t\n",
    "# Nombre d'échantillons d'apprentissage de la classe 5\n",
    "cat 56 | grep '^5' | wc -l\n",
    ">>> 951\n",
    "# Nombre d'échantillons d'apprentissage de la classe 6\n",
    "cat 56 | grep '^6' | wc -l\n",
    ">>> 1049"
   ]
  },
  {
   "cell_type": "markdown",
   "id": "declared-voltage",
   "metadata": {},
   "source": [
    "Entrainer un modèle C-SVM linéaire avec les paramètres par défaut :"
   ]
  },
  {
   "cell_type": "code",
   "execution_count": null,
   "id": "broken-belle",
   "metadata": {
    "hide-output": false
   },
   "outputs": [],
   "source": [
    "../liblinear-2.2/train 56 56.model_linear\n",
    "../liblinear-2.2/predict 56.t 56.model_linear 56.t.output_linear\n",
    ">>> Accuracy = 96.4% (964/1000)"
   ]
  },
  {
   "cell_type": "markdown",
   "id": "caroline-volleyball",
   "metadata": {},
   "source": [
    "Entrainer un modèle C-SVM à noyau gaussien et paramètres par défaut :"
   ]
  },
  {
   "cell_type": "code",
   "execution_count": null,
   "id": "statistical-cologne",
   "metadata": {
    "hide-output": false
   },
   "outputs": [],
   "source": [
    "../libsvm-3.22/svm-train 56 56.model_default\n",
    "../libsvm-3.22/svm-predict 56.t 56.model_default 56.output_default\n",
    ">>> Accuracy = 52.3% (523/1000) (classification)"
   ]
  },
  {
   "cell_type": "markdown",
   "id": "super-cooperation",
   "metadata": {},
   "source": [
    "Comme on peut le voir, les performances avec les paramètres par défaut ne sont pas très bonnes. Surtout le paramètre `gamma` est beaucoup trop petit (`gamma` est inversement proportionnel à la variance de la gaussienne, donc on est en situation de sous apprentissage - gaussienne trop large, car variance élevée). Par la suite on va mettre les données à l’échelle (chaque attribut entre 0 et 1) et garder toujours les paramètres par défaut."
   ]
  },
  {
   "cell_type": "code",
   "execution_count": null,
   "id": "informal-operator",
   "metadata": {
    "hide-output": false
   },
   "outputs": [],
   "source": [
    "../libsvm-3.22/svm-scale -l 0 56 > 56.scaled\n",
    "../libsvm-3.22/svm-scale -l 0 56.t > 56.t.scaled\n",
    "../liblinear-2.2/train 56.scaled 56.scaled.model_linear\n",
    "../liblinear-2.2/predict 56.t.scaled 56.scaled.model_linear 56.t.scaled.output_linear\n",
    ">>> Accuracy = 96.7% (967/1000)\n",
    "# On ne gagne pas beaucoup avec un classifieur linéaire\n",
    "../libsvm-3.22/svm-train 56.scaled 56.scaled.model_default\n",
    "../libsvm-3.22/svm-predict 56.t.scaled 56.scaled.model_default 56.scaled.output_default\n",
    ">>> Accuracy = 97.8% (978/1000) (classification)"
   ]
  },
  {
   "cell_type": "markdown",
   "id": "plastic-interstate",
   "metadata": {},
   "source": [
    "<div style=\"display: flex; border-left: 0.2em solid #c1002a; color:rgb(145, 0, 31); font-weight:bold;\" > \n",
    "\n",
    "#### Question\n",
    "</div>\n",
    "<div style=\"display: flex; border-left: 0.2em solid #c1002a;)\" >\n",
    "\n",
    "Cette fois-ci les résultats sont meilleurs. Regardez le fichier `56.scaled.model_default`, quelles sont les valeurs des paramètres C et `gamma` ?\n",
    "</div>\n",
    "<div style=\"display: flex; border-left: 0.2em solid #c1002a;)\" >\n",
    "\n",
    "Nous allons chercher les meilleurs paramètres par *grid search* pour ce jeux de données.\n",
    "</div>\n",
    "\n",
    "cf : http://cedric.cnam.fr/vertigo/cours/ml2/tpMethodesNoyaux.html"
   ]
  },
  {
   "cell_type": "code",
   "execution_count": null,
   "id": "outdoor-reach",
   "metadata": {
    "hide-output": false
   },
   "outputs": [],
   "source": [
    "python ../libsvm-3.22/tools/grid.py -svmtrain ../libsvm-3.22/svm-train 56.scaled\n",
    ">>> [local] 5 -7 98.7 (best c=32.0, g=0.0078125, rate=98.7)\n",
    ">>> ...\n",
    ">>> 8.0 0.03125 99.15"
   ]
  },
  {
   "cell_type": "markdown",
   "id": "verbal-kingston",
   "metadata": {},
   "source": [
    "Le script nous propose `C = 8` et `gamma = 0.03125`."
   ]
  },
  {
   "cell_type": "code",
   "execution_count": null,
   "id": "measured-capital",
   "metadata": {
    "hide-output": false
   },
   "outputs": [],
   "source": [
    "../libsvm-3.22/svm-train -c 8 -g 0.03125 56.scaled 56.scaled.model\n",
    "../libsvm-3.22/svm-predict 56.t.scaled 56.scaled.model 56.scaled.output\n",
    ">>> Accuracy = 99.3% (993/1000) (classification)"
   ]
  },
  {
   "cell_type": "markdown",
   "id": "colored-peninsula",
   "metadata": {},
   "source": [
    "Un bien meilleur score donc que dans le cas linéaire."
   ]
  },
  {
   "cell_type": "markdown",
   "id": "technological-veteran",
   "metadata": {},
   "source": [
    "<div style=\"display: flex; border-left: 0.2em solid #c1002a; color:rgb(145, 0, 31); font-weight:bold;\" > \n",
    "\n",
    "#### Question\n",
    "</div>\n",
    "<div style=\"display: flex; border-left: 0.2em solid #c1002a;)\" >\n",
    "\n",
    "Extraire un partie de 10000 échantillons de la base MNIST (toutes les 10 classes) et réduire le jeux de données entre 0 et 1. Coupez la base en deux parties égales apprentissage (`train`) et test (`test`) avec `libsvm-3.22/tools/subset.py`.  Comparez le classifieurs libLinear et libSVM avec les paramètres par défaut. Esayez d’autres noyaux que le gaussien. Faites varier les parametres.\n",
    "</div>"
   ]
  },
  {
   "cell_type": "markdown",
   "id": "worse-arcade",
   "metadata": {},
   "source": [
    "### SVM-toy\n",
    "\n",
    "Par la suite on va explorer l’outil `svm-toy` qui permet de visualiser la classification pour des problèmes en deux dimensions.\n",
    "\n",
    "> "
   ]
  },
  {
   "cell_type": "code",
   "execution_count": null,
   "id": "federal-little",
   "metadata": {
    "hide-output": false
   },
   "outputs": [],
   "source": [
    "cd ~/tpsvm/libsvm-3.22/svm-toy/gtk\n",
    "make\n",
    "./svm-toy"
   ]
  },
  {
   "cell_type": "markdown",
   "id": "celtic-living",
   "metadata": {},
   "source": [
    "\n",
    "Cliquez sur la surface d’affichage pour ajouter des points d’apprentissage. Changez de couleur pour ajouter une nouvelle classe (l’outil gère aussi la classification multi-classe). Utilisez l’option `-t 2` pour sélectionner la classification par noyau gaussien. Pour changer le paramètre C=valeur utilisez l’option `-c valeur` (par exemple : `-c 2.5`). Pour changer le paramètre `gamma` du noyau utilisez l’option `-g valeur` (par exemple : `-g 2.5`). Testez plusieurs valeurs pour les paramètres C et `gamma` afin de comprendre leur effet sur le fichier suivant : [04.dat](docs/04.dat). Générez d’autres jeux de données par vous-même est testez d’autres noyaux (voir le fichier `libsvm-3.22/README`).\n",
    "\n",
    "> "
   ]
  },
  {
   "cell_type": "markdown",
   "id": "floppy-cursor",
   "metadata": {},
   "source": [
    "### Question :\n",
    "\n",
    "[Optionnel : à faire à la fin du TP si’il vous reste du temps] Regardez les sources `c` de la bibliothèque libSVM. Où sont implementés les noyaux ? Ajoutez le noyau angulaire dans le code (K(x, y) = - ||x-y||) et recompilez svm-toy. Testez-le avec un jeu de données de type spirale (voir transparent 27 du cours). Comparez avec le noyau gaussien."
   ]
  }
 ],
 "metadata": {
  "date": 1632128789.0508559,
  "filename": "tpMethodesNoyaux.rst",
  "interpreter": {
   "hash": "ac59ebe37160ed0dfa835113d9b8498d9f09ceb179beaac4002f036b9467c963"
  },
  "kernelspec": {
   "display_name": "Python",
   "language": "python",
   "name": "python3"
  },
  "language_info": {
   "codemirror_mode": {
    "name": "ipython",
    "version": 3
   },
   "file_extension": ".py",
   "mimetype": "text/x-python",
   "name": "python",
   "nbconvert_exporter": "python",
   "pygments_lexer": "ipython3",
   "version": "3.9.9"
  },
  "title": "Travaux pratiques - Méthodes à noyaux"
 },
 "nbformat": 4,
 "nbformat_minor": 5
}
