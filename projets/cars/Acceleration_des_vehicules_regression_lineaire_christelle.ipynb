{
 "cells": [
  {
   "cell_type": "markdown",
   "id": "463f9d7c",
   "metadata": {},
   "source": [
    "# Accélération des véhicules : régression linéaire"
   ]
  },
  {
   "cell_type": "code",
   "execution_count": 1,
   "id": "7d15c51d",
   "metadata": {},
   "outputs": [],
   "source": [
    "%matplotlib inline\n",
    "import pandas as pd\n",
    "import seaborn as sns\n",
    "import numpy as np\n",
    "import matplotlib.pyplot as plt\n",
    "from pandas.plotting import scatter_matrix\n"
   ]
  },
  {
   "cell_type": "markdown",
   "id": "3d97cc76",
   "metadata": {},
   "source": [
    "Nous travaillons sur le fichier \"cars_acceleration_regression_simple.xlsx\". \n",
    "Nous souhaitons expliquer l'accélération des véhicules (Y: temps effectué pour parcourir une certaine\n",
    "distance) à partir de leur puissance (horsepower :X)"
   ]
  },
  {
   "cell_type": "code",
   "execution_count": 2,
   "id": "863e7653",
   "metadata": {},
   "outputs": [],
   "source": [
    "# Chargement du fichier\n",
    "cars = pd.read_excel(\"cars_acceleration_regression_simple.xlsx\")"
   ]
  },
  {
   "cell_type": "code",
   "execution_count": 3,
   "id": "aa8ce3ed",
   "metadata": {},
   "outputs": [
    {
     "data": {
      "text/html": [
       "<div>\n",
       "<style scoped>\n",
       "    .dataframe tbody tr th:only-of-type {\n",
       "        vertical-align: middle;\n",
       "    }\n",
       "\n",
       "    .dataframe tbody tr th {\n",
       "        vertical-align: top;\n",
       "    }\n",
       "\n",
       "    .dataframe thead th {\n",
       "        text-align: right;\n",
       "    }\n",
       "</style>\n",
       "<table border=\"1\" class=\"dataframe\">\n",
       "  <thead>\n",
       "    <tr style=\"text-align: right;\">\n",
       "      <th></th>\n",
       "      <th>horesepower</th>\n",
       "      <th>acceleration</th>\n",
       "    </tr>\n",
       "  </thead>\n",
       "  <tbody>\n",
       "    <tr>\n",
       "      <th>0</th>\n",
       "      <td>140</td>\n",
       "      <td>16.0</td>\n",
       "    </tr>\n",
       "    <tr>\n",
       "      <th>1</th>\n",
       "      <td>67</td>\n",
       "      <td>16.0</td>\n",
       "    </tr>\n",
       "    <tr>\n",
       "      <th>2</th>\n",
       "      <td>68</td>\n",
       "      <td>16.6</td>\n",
       "    </tr>\n",
       "    <tr>\n",
       "      <th>3</th>\n",
       "      <td>81</td>\n",
       "      <td>16.9</td>\n",
       "    </tr>\n",
       "    <tr>\n",
       "      <th>4</th>\n",
       "      <td>97</td>\n",
       "      <td>15.0</td>\n",
       "    </tr>\n",
       "  </tbody>\n",
       "</table>\n",
       "</div>"
      ],
      "text/plain": [
       "   horesepower  acceleration\n",
       "0          140          16.0\n",
       "1           67          16.0\n",
       "2           68          16.6\n",
       "3           81          16.9\n",
       "4           97          15.0"
      ]
     },
     "execution_count": 3,
     "metadata": {},
     "output_type": "execute_result"
    }
   ],
   "source": [
    "# Vue des 5 premières lignes du fichier\n",
    "cars.head()"
   ]
  },
  {
   "cell_type": "code",
   "execution_count": 4,
   "id": "85f26b4e",
   "metadata": {},
   "outputs": [
    {
     "data": {
      "text/plain": [
       "(230, 2)"
      ]
     },
     "execution_count": 4,
     "metadata": {},
     "output_type": "execute_result"
    }
   ],
   "source": [
    "# Taille du tableau\n",
    "cars.shape"
   ]
  },
  {
   "cell_type": "markdown",
   "id": "63db5cd8",
   "metadata": {},
   "source": [
    "## Il y a 230 lignes et 2 colonnes."
   ]
  },
  {
   "cell_type": "code",
   "execution_count": 5,
   "id": "26973332",
   "metadata": {},
   "outputs": [
    {
     "data": {
      "text/plain": [
       "horesepower       int64\n",
       "acceleration    float64\n",
       "dtype: object"
      ]
     },
     "execution_count": 5,
     "metadata": {},
     "output_type": "execute_result"
    }
   ],
   "source": [
    "# Types des données\n",
    "cars.dtypes"
   ]
  },
  {
   "cell_type": "markdown",
   "id": "448b6358",
   "metadata": {},
   "source": [
    "## Il n'y a que des données numériques."
   ]
  },
  {
   "cell_type": "code",
   "execution_count": 6,
   "id": "329348c1",
   "metadata": {},
   "outputs": [
    {
     "data": {
      "text/html": [
       "<div>\n",
       "<style scoped>\n",
       "    .dataframe tbody tr th:only-of-type {\n",
       "        vertical-align: middle;\n",
       "    }\n",
       "\n",
       "    .dataframe tbody tr th {\n",
       "        vertical-align: top;\n",
       "    }\n",
       "\n",
       "    .dataframe thead th {\n",
       "        text-align: right;\n",
       "    }\n",
       "</style>\n",
       "<table border=\"1\" class=\"dataframe\">\n",
       "  <thead>\n",
       "    <tr style=\"text-align: right;\">\n",
       "      <th></th>\n",
       "      <th>horesepower</th>\n",
       "      <th>acceleration</th>\n",
       "    </tr>\n",
       "  </thead>\n",
       "  <tbody>\n",
       "    <tr>\n",
       "      <th>count</th>\n",
       "      <td>230.000000</td>\n",
       "      <td>230.000000</td>\n",
       "    </tr>\n",
       "    <tr>\n",
       "      <th>mean</th>\n",
       "      <td>106.878261</td>\n",
       "      <td>15.317391</td>\n",
       "    </tr>\n",
       "    <tr>\n",
       "      <th>std</th>\n",
       "      <td>38.945185</td>\n",
       "      <td>2.641482</td>\n",
       "    </tr>\n",
       "    <tr>\n",
       "      <th>min</th>\n",
       "      <td>46.000000</td>\n",
       "      <td>8.000000</td>\n",
       "    </tr>\n",
       "    <tr>\n",
       "      <th>25%</th>\n",
       "      <td>79.250000</td>\n",
       "      <td>13.700000</td>\n",
       "    </tr>\n",
       "    <tr>\n",
       "      <th>50%</th>\n",
       "      <td>95.000000</td>\n",
       "      <td>15.200000</td>\n",
       "    </tr>\n",
       "    <tr>\n",
       "      <th>75%</th>\n",
       "      <td>137.750000</td>\n",
       "      <td>16.900000</td>\n",
       "    </tr>\n",
       "    <tr>\n",
       "      <th>max</th>\n",
       "      <td>230.000000</td>\n",
       "      <td>24.800000</td>\n",
       "    </tr>\n",
       "  </tbody>\n",
       "</table>\n",
       "</div>"
      ],
      "text/plain": [
       "       horesepower  acceleration\n",
       "count   230.000000    230.000000\n",
       "mean    106.878261     15.317391\n",
       "std      38.945185      2.641482\n",
       "min      46.000000      8.000000\n",
       "25%      79.250000     13.700000\n",
       "50%      95.000000     15.200000\n",
       "75%     137.750000     16.900000\n",
       "max     230.000000     24.800000"
      ]
     },
     "execution_count": 6,
     "metadata": {},
     "output_type": "execute_result"
    }
   ],
   "source": [
    "# Données statistiques du fichier\n",
    "cars.describe()"
   ]
  },
  {
   "cell_type": "code",
   "execution_count": 7,
   "id": "bd52a595",
   "metadata": {},
   "outputs": [
    {
     "data": {
      "text/plain": [
       "horesepower     0\n",
       "acceleration    0\n",
       "dtype: int64"
      ]
     },
     "execution_count": 7,
     "metadata": {},
     "output_type": "execute_result"
    }
   ],
   "source": [
    "# Valeurs manquantes ?\n",
    "cars.isna().sum()"
   ]
  },
  {
   "cell_type": "markdown",
   "id": "0b2200c0",
   "metadata": {},
   "source": [
    "## Il n'y a pas de valeurs manquantes."
   ]
  },
  {
   "cell_type": "code",
   "execution_count": 8,
   "id": "2a2683eb",
   "metadata": {},
   "outputs": [
    {
     "data": {
      "text/plain": [
       "<AxesSubplot:>"
      ]
     },
     "execution_count": 8,
     "metadata": {},
     "output_type": "execute_result"
    },
    {
     "data": {
      "image/png": "[encoded data removed]",
      "text/plain": [
       "<Figure size 720x720 with 2 Axes>"
      ]
     },
     "metadata": {
      "needs_background": "light"
     },
     "output_type": "display_data"
    }
   ],
   "source": [
    "# Corrélation des données ?\n",
    "corr=cars.corr()\n",
    "plt.figure(figsize=(10,10))\n",
    "sns.heatmap(corr, annot=True)"
   ]
  },
  {
   "cell_type": "code",
   "execution_count": 9,
   "id": "64278f4d",
   "metadata": {},
   "outputs": [],
   "source": [
    "# Valeurs de x\n",
    "x = cars['horesepower']"
   ]
  },
  {
   "cell_type": "code",
   "execution_count": 10,
   "id": "f5dc5c9b",
   "metadata": {},
   "outputs": [],
   "source": [
    "# Valeurs de y\n",
    "y = cars['acceleration']"
   ]
  },
  {
   "cell_type": "code",
   "execution_count": 11,
   "id": "ce80997e",
   "metadata": {},
   "outputs": [
    {
     "name": "stderr",
     "output_type": "stream",
     "text": [
      "C:\\Users\\utilisateur\\Documents\\Anaconda\\lib\\site-packages\\seaborn\\_decorators.py:36: FutureWarning: Pass the following variables as keyword args: x, y. From version 0.12, the only valid positional argument will be `data`, and passing other arguments without an explicit keyword will result in an error or misinterpretation.\n",
      "  warnings.warn(\n"
     ]
    },
    {
     "data": {
      "image/png": "[encoded data removed]",
      "text/plain": [
       "<Figure size 720x720 with 1 Axes>"
      ]
     },
     "metadata": {
      "needs_background": "light"
     },
     "output_type": "display_data"
    }
   ],
   "source": [
    "# Représentation graphique de la régression linéaire\n",
    "plt.figure(figsize=(10,10))\n",
    "sns.regplot(x,y)\n",
    "plt.xlabel('Puissance du moteur', size=18)\n",
    "plt.ylabel('Accélération', size=18)\n",
    "plt.title(\"Régression linéaire entre la puissance et l'accélération des véhicules\", size=20)\n",
    "plt.show()"
   ]
  },
  {
   "cell_type": "code",
   "execution_count": 12,
   "id": "99f71091",
   "metadata": {},
   "outputs": [
    {
     "name": "stdout",
     "output_type": "stream",
     "text": [
      "[[20.27567289]\n",
      " [-0.04639186]]\n"
     ]
    }
   ],
   "source": [
    "# Décomposition du dataset et transformation en matrices pour pouvoir effectuer le calcul du paramètre theta\n",
    "X = np.matrix([np.ones(cars.shape[0]), cars['horesepower'].values]).T\n",
    "y = np.matrix(cars['acceleration']).T\n",
    "\n",
    "# Calcul du paramètre theta\n",
    "theta = np.linalg.inv(X.T.dot(X)).dot(X.T).dot(y)\n",
    "\n",
    "print(theta)"
   ]
  },
  {
   "cell_type": "code",
   "execution_count": 13,
   "id": "32aeff6e",
   "metadata": {},
   "outputs": [
    {
     "data": {
      "text/plain": [
       "15.636486637038796"
      ]
     },
     "execution_count": 13,
     "metadata": {},
     "output_type": "execute_result"
    }
   ],
   "source": [
    "# Theta\n",
    "theta.item(0) + theta.item(1) * 100\n"
   ]
  },
  {
   "cell_type": "code",
   "execution_count": null,
   "id": "7453d39b",
   "metadata": {},
   "outputs": [],
   "source": []
  }
 ],
 "metadata": {
  "kernelspec": {
   "display_name": "Python 3",
   "language": "python",
   "name": "python3"
  },
  "language_info": {
   "codemirror_mode": {
    "name": "ipython",
    "version": 3
   },
   "file_extension": ".py",
   "mimetype": "text/x-python",
   "name": "python",
   "nbconvert_exporter": "python",
   "pygments_lexer": "ipython3",
   "version": "3.8.8"
  }
 },
 "nbformat": 4,
 "nbformat_minor": 5
}
