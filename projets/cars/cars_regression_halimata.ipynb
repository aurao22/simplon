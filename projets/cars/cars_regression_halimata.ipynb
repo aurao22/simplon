{
 "cells": [
  {
   "cell_type": "code",
   "execution_count": 1,
   "id": "9dceb636",
   "metadata": {},
   "outputs": [],
   "source": [
    "import pandas as pd\n",
    "import seaborn as sns\n",
    "import matplotlib\n",
    "import matplotlib.pyplot as plt\n",
    "import numpy as np\n",
    "import scipy.stats as st\n",
    "from scipy.stats import chi2_contingency\n",
    "import statsmodels.api"
   ]
  },
  {
   "cell_type": "code",
   "execution_count": 3,
   "id": "5cf2fea2",
   "metadata": {},
   "outputs": [
    {
     "data": {
      "text/html": [
       "<div>\n",
       "<style scoped>\n",
       "    .dataframe tbody tr th:only-of-type {\n",
       "        vertical-align: middle;\n",
       "    }\n",
       "\n",
       "    .dataframe tbody tr th {\n",
       "        vertical-align: top;\n",
       "    }\n",
       "\n",
       "    .dataframe thead th {\n",
       "        text-align: right;\n",
       "    }\n",
       "</style>\n",
       "<table border=\"1\" class=\"dataframe\">\n",
       "  <thead>\n",
       "    <tr style=\"text-align: right;\">\n",
       "      <th></th>\n",
       "      <th>horesepower</th>\n",
       "      <th>acceleration</th>\n",
       "    </tr>\n",
       "  </thead>\n",
       "  <tbody>\n",
       "    <tr>\n",
       "      <th>0</th>\n",
       "      <td>140</td>\n",
       "      <td>16.0</td>\n",
       "    </tr>\n",
       "    <tr>\n",
       "      <th>1</th>\n",
       "      <td>67</td>\n",
       "      <td>16.0</td>\n",
       "    </tr>\n",
       "    <tr>\n",
       "      <th>2</th>\n",
       "      <td>68</td>\n",
       "      <td>16.6</td>\n",
       "    </tr>\n",
       "    <tr>\n",
       "      <th>3</th>\n",
       "      <td>81</td>\n",
       "      <td>16.9</td>\n",
       "    </tr>\n",
       "    <tr>\n",
       "      <th>4</th>\n",
       "      <td>97</td>\n",
       "      <td>15.0</td>\n",
       "    </tr>\n",
       "    <tr>\n",
       "      <th>...</th>\n",
       "      <td>...</td>\n",
       "      <td>...</td>\n",
       "    </tr>\n",
       "    <tr>\n",
       "      <th>225</th>\n",
       "      <td>84</td>\n",
       "      <td>16.0</td>\n",
       "    </tr>\n",
       "    <tr>\n",
       "      <th>226</th>\n",
       "      <td>80</td>\n",
       "      <td>16.5</td>\n",
       "    </tr>\n",
       "    <tr>\n",
       "      <th>227</th>\n",
       "      <td>64</td>\n",
       "      <td>16.4</td>\n",
       "    </tr>\n",
       "    <tr>\n",
       "      <th>228</th>\n",
       "      <td>97</td>\n",
       "      <td>13.5</td>\n",
       "    </tr>\n",
       "    <tr>\n",
       "      <th>229</th>\n",
       "      <td>62</td>\n",
       "      <td>15.3</td>\n",
       "    </tr>\n",
       "  </tbody>\n",
       "</table>\n",
       "<p>230 rows × 2 columns</p>\n",
       "</div>"
      ],
      "text/plain": [
       "     horesepower  acceleration\n",
       "0            140          16.0\n",
       "1             67          16.0\n",
       "2             68          16.6\n",
       "3             81          16.9\n",
       "4             97          15.0\n",
       "..           ...           ...\n",
       "225           84          16.0\n",
       "226           80          16.5\n",
       "227           64          16.4\n",
       "228           97          13.5\n",
       "229           62          15.3\n",
       "\n",
       "[230 rows x 2 columns]"
      ]
     },
     "execution_count": 3,
     "metadata": {},
     "output_type": "execute_result"
    }
   ],
   "source": [
    "# Lecture des données\n",
    "data=pd.read_excel('cars_acceleration_regression_simple.xlsx')\n",
    "data"
   ]
  },
  {
   "cell_type": "code",
   "execution_count": 4,
   "id": "4104255e",
   "metadata": {},
   "outputs": [
    {
     "name": "stdout",
     "output_type": "stream",
     "text": [
      "<class 'pandas.core.frame.DataFrame'>\n",
      "RangeIndex: 230 entries, 0 to 229\n",
      "Data columns (total 2 columns):\n",
      " #   Column        Non-Null Count  Dtype  \n",
      "---  ------        --------------  -----  \n",
      " 0   horesepower   230 non-null    int64  \n",
      " 1   acceleration  230 non-null    float64\n",
      "dtypes: float64(1), int64(1)\n",
      "memory usage: 3.7 KB\n"
     ]
    }
   ],
   "source": [
    "data.info()"
   ]
  },
  {
   "cell_type": "code",
   "execution_count": 5,
   "id": "350bcdfd",
   "metadata": {},
   "outputs": [
    {
     "data": {
      "text/html": [
       "<div>\n",
       "<style scoped>\n",
       "    .dataframe tbody tr th:only-of-type {\n",
       "        vertical-align: middle;\n",
       "    }\n",
       "\n",
       "    .dataframe tbody tr th {\n",
       "        vertical-align: top;\n",
       "    }\n",
       "\n",
       "    .dataframe thead th {\n",
       "        text-align: right;\n",
       "    }\n",
       "</style>\n",
       "<table border=\"1\" class=\"dataframe\">\n",
       "  <thead>\n",
       "    <tr style=\"text-align: right;\">\n",
       "      <th></th>\n",
       "      <th>horesepower</th>\n",
       "      <th>acceleration</th>\n",
       "    </tr>\n",
       "  </thead>\n",
       "  <tbody>\n",
       "    <tr>\n",
       "      <th>count</th>\n",
       "      <td>230.000000</td>\n",
       "      <td>230.000000</td>\n",
       "    </tr>\n",
       "    <tr>\n",
       "      <th>mean</th>\n",
       "      <td>106.878261</td>\n",
       "      <td>15.317391</td>\n",
       "    </tr>\n",
       "    <tr>\n",
       "      <th>std</th>\n",
       "      <td>38.945185</td>\n",
       "      <td>2.641482</td>\n",
       "    </tr>\n",
       "    <tr>\n",
       "      <th>min</th>\n",
       "      <td>46.000000</td>\n",
       "      <td>8.000000</td>\n",
       "    </tr>\n",
       "    <tr>\n",
       "      <th>25%</th>\n",
       "      <td>79.250000</td>\n",
       "      <td>13.700000</td>\n",
       "    </tr>\n",
       "    <tr>\n",
       "      <th>50%</th>\n",
       "      <td>95.000000</td>\n",
       "      <td>15.200000</td>\n",
       "    </tr>\n",
       "    <tr>\n",
       "      <th>75%</th>\n",
       "      <td>137.750000</td>\n",
       "      <td>16.900000</td>\n",
       "    </tr>\n",
       "    <tr>\n",
       "      <th>max</th>\n",
       "      <td>230.000000</td>\n",
       "      <td>24.800000</td>\n",
       "    </tr>\n",
       "  </tbody>\n",
       "</table>\n",
       "</div>"
      ],
      "text/plain": [
       "       horesepower  acceleration\n",
       "count   230.000000    230.000000\n",
       "mean    106.878261     15.317391\n",
       "std      38.945185      2.641482\n",
       "min      46.000000      8.000000\n",
       "25%      79.250000     13.700000\n",
       "50%      95.000000     15.200000\n",
       "75%     137.750000     16.900000\n",
       "max     230.000000     24.800000"
      ]
     },
     "execution_count": 5,
     "metadata": {},
     "output_type": "execute_result"
    }
   ],
   "source": [
    "data.describe()"
   ]
  },
  {
   "cell_type": "markdown",
   "id": "d9a66b61",
   "metadata": {},
   "source": [
    "<div style=\"background-color: RGB(252,190,3)\" >\n",
    "<h2 style=\"margin: auto; padding: 10px;  \">Création du modéle</h2>\n",
    "</div> "
   ]
  },
  {
   "cell_type": "raw",
   "id": "5c86588e",
   "metadata": {},
   "source": [
    "La régression linéaire prédit une variable en fonction d'une ou plusieurs variables"
   ]
  },
  {
   "cell_type": "code",
   "execution_count": 39,
   "id": "0d995708",
   "metadata": {},
   "outputs": [
    {
     "name": "stdout",
     "output_type": "stream",
     "text": [
      "a =  -0.04639186252776391 b =  20.275672889815187\n",
      "                            OLS Regression Results                            \n",
      "==============================================================================\n",
      "Dep. Variable:           acceleration   R-squared:                       0.468\n",
      "Model:                            OLS   Adj. R-squared:                  0.466\n",
      "Method:                 Least Squares   F-statistic:                     200.4\n",
      "Date:                Thu, 06 Jan 2022   Prob (F-statistic):           4.51e-33\n",
      "Time:                        10:50:03   Log-Likelihood:                -476.72\n",
      "No. Observations:                 230   AIC:                             957.4\n",
      "Df Residuals:                     228   BIC:                             964.3\n",
      "Df Model:                           1                                         \n",
      "Covariance Type:            nonrobust                                         \n",
      "===============================================================================\n",
      "                  coef    std err          t      P>|t|      [0.025      0.975]\n",
      "-------------------------------------------------------------------------------\n",
      "horesepower    -0.0464      0.003    -14.158      0.000      -0.053      -0.040\n",
      "intercept      20.2757      0.373     54.410      0.000      19.541      21.010\n",
      "==============================================================================\n",
      "Omnibus:                       31.980   Durbin-Watson:                   1.859\n",
      "Prob(Omnibus):                  0.000   Jarque-Bera (JB):               50.772\n",
      "Skew:                           0.793   Prob(JB):                     9.44e-12\n",
      "Kurtosis:                       4.668   Cond. No.                         333.\n",
      "==============================================================================\n",
      "\n",
      "Notes:\n",
      "[1] Standard Errors assume that the covariance matrix of the errors is correctly specified.\n"
     ]
    }
   ],
   "source": [
    "# Construction du modèle de régression linéaire Y = aX +b\n",
    "import statsmodels.api as sm\n",
    "Y = data['acceleration']      # Double crochet car on passe en argument une liste de colonnes \n",
    "X = data[['horesepower']]\n",
    "X = X.copy() # On modifiera X, on en crée donc une copie\n",
    "X['intercept'] = 1.\n",
    "result = sm.OLS(Y, X).fit() # OLS = Ordinary Least Square (Moindres Carrés Ordinaire)\n",
    "#Création des variables a et b contenent les estimations\n",
    "a,b = result.params['horesepower'],result.params['intercept']\n",
    "print( \"a = \" ,a,   \"b = \", b)\n",
    "result.params\n",
    "print(result.summary())"
   ]
  },
  {
   "cell_type": "markdown",
   "id": "53363503",
   "metadata": {},
   "source": [
    "<div style=\"background-color: RGB(252,190,3)\" >\n",
    "<h2 style=\"margin: auto; padding: 10px;  \">Affichage du Nuage de points et de la droite de regression</h2>\n",
    "</div> "
   ]
  },
  {
   "cell_type": "code",
   "execution_count": 17,
   "id": "f063c1ca",
   "metadata": {},
   "outputs": [
    {
     "data": {
      "text/plain": [
       "Text(0, 0.5, 'Acceleration')"
      ]
     },
     "execution_count": 17,
     "metadata": {},
     "output_type": "execute_result"
    },
    {
     "data": {
      "image/png": "[encoded data removed]",
      "text/plain": [
       "<Figure size 720x576 with 1 Axes>"
      ]
     },
     "metadata": {
      "needs_background": "light"
     },
     "output_type": "display_data"
    }
   ],
   "source": [
    "# Affichage  du nuage de point et de la droite de regression \n",
    "plt.figure(figsize=(10,8))\n",
    "plt.title(\"Régression linéaire entre Puissance et Acceleration\")\n",
    "plt.plot(data.horesepower, data.acceleration, \"o\", alpha=0.3)\n",
    "plt.plot(np.arange(30,500),[a*x+b for x in np.arange(30,500)], linewidth=5)\n",
    "\n",
    "plt.xlabel(\"Horesepower\")\n",
    "plt.ylabel(\"Acceleration\")"
   ]
  },
  {
   "cell_type": "markdown",
   "id": "7661a922",
   "metadata": {},
   "source": [
    "<div style=\"background-color: RGB(252,190,3)\" >\n",
    "<h2 style=\"margin: auto; padding: 10px;  \">Prédiction de Y en fonction des valeurs de X</h2>\n",
    "</div> "
   ]
  },
  {
   "cell_type": "code",
   "execution_count": 20,
   "id": "aafdae31",
   "metadata": {},
   "outputs": [
    {
     "data": {
      "text/plain": [
       "15.636486637038796"
      ]
     },
     "execution_count": 20,
     "metadata": {},
     "output_type": "execute_result"
    }
   ],
   "source": [
    "#Prédiction de  Y en fonction de X\n",
    "X = 100\n",
    "Y = a*X + b\n",
    "Y"
   ]
  },
  {
   "cell_type": "code",
   "execution_count": 40,
   "id": "cca51fcc",
   "metadata": {},
   "outputs": [
    {
     "data": {
      "text/plain": [
       "10.997300384262406"
      ]
     },
     "execution_count": 40,
     "metadata": {},
     "output_type": "execute_result"
    }
   ],
   "source": [
    "#Prédiction de  Y en fonction de X\n",
    "X = 200\n",
    "Y = a*X + b\n",
    "Y"
   ]
  },
  {
   "cell_type": "code",
   "execution_count": 44,
   "id": "ddbf8759",
   "metadata": {},
   "outputs": [
    {
     "name": "stdout",
     "output_type": "stream",
     "text": [
      "pour X =  100  : Y =  15.636486637038796\n",
      "pour X =  110  : Y =  15.172568011761157\n",
      "pour X =  120  : Y =  14.708649386483518\n",
      "pour X =  130  : Y =  14.24473076120588\n",
      "pour X =  140  : Y =  13.78081213592824\n",
      "pour X =  150  : Y =  13.316893510650601\n",
      "pour X =  160  : Y =  12.852974885372962\n",
      "pour X =  170  : Y =  12.389056260095323\n",
      "pour X =  180  : Y =  11.925137634817684\n",
      "pour X =  190  : Y =  11.461219009540045\n",
      "pour X =  200  : Y =  10.997300384262406\n",
      "pour X =  210  : Y =  10.533381758984767\n",
      "pour X =  220  : Y =  10.069463133707128\n",
      "pour X =  230  : Y =  9.605544508429489\n",
      "pour X =  240  : Y =  9.14162588315185\n",
      "pour X =  250  : Y =  8.67770725787421\n",
      "pour X =  260  : Y =  8.213788632596572\n",
      "pour X =  270  : Y =  7.749870007318933\n",
      "pour X =  280  : Y =  7.2859513820412936\n",
      "pour X =  290  : Y =  6.8220327567636545\n",
      "pour X =  300  : Y =  6.3581141314860155\n",
      "pour X =  310  : Y =  5.894195506208376\n",
      "pour X =  320  : Y =  5.430276880930737\n",
      "pour X =  330  : Y =  4.9663582556530965\n",
      "pour X =  340  : Y =  4.5024396303754575\n",
      "pour X =  350  : Y =  4.03852100509782\n",
      "pour X =  360  : Y =  3.574602379820181\n",
      "pour X =  370  : Y =  3.110683754542542\n",
      "pour X =  380  : Y =  2.646765129264903\n",
      "pour X =  390  : Y =  2.182846503987264\n",
      "pour X =  400  : Y =  1.718927878709625\n",
      "pour X =  410  : Y =  1.2550092534319859\n",
      "pour X =  420  : Y =  0.7910906281543468\n",
      "pour X =  430  : Y =  0.3271720028767078\n",
      "pour X =  440  : Y =  -0.13674662240093127\n",
      "pour X =  450  : Y =  -0.6006652476785703\n",
      "pour X =  460  : Y =  -1.0645838729562094\n",
      "pour X =  470  : Y =  -1.5285024982338484\n",
      "pour X =  480  : Y =  -1.9924211235114875\n",
      "pour X =  490  : Y =  -2.4563397487891265\n"
     ]
    }
   ],
   "source": [
    "#Prédiction de  Y en fonction de X\n",
    "for X in np.arange(100,500,10):\n",
    "    Y = a*X + b\n",
    "    print(\"pour X = \" , X , \" : Y = \", Y)\n"
   ]
  },
  {
   "cell_type": "code",
   "execution_count": null,
   "id": "01b7d914",
   "metadata": {},
   "outputs": [],
   "source": []
  }
 ],
 "metadata": {
  "kernelspec": {
   "display_name": "Python 3",
   "language": "python",
   "name": "python3"
  },
  "language_info": {
   "codemirror_mode": {
    "name": "ipython",
    "version": 3
   },
   "file_extension": ".py",
   "mimetype": "text/x-python",
   "name": "python",
   "nbconvert_exporter": "python",
   "pygments_lexer": "ipython3",
   "version": "3.8.8"
  }
 },
 "nbformat": 4,
 "nbformat_minor": 5
}
