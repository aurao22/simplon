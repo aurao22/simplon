{
 "cells": [
  {
   "cell_type": "markdown",
   "id": "75b49dbb",
   "metadata": {},
   "source": [
    "car acceleration"
   ]
  },
  {
   "cell_type": "code",
   "execution_count": 16,
   "id": "00309d25",
   "metadata": {},
   "outputs": [],
   "source": [
    "import pandas as pd\n",
    "import seaborn as sns\n",
    "import numpy as np"
   ]
  },
  {
   "cell_type": "code",
   "execution_count": 2,
   "id": "570c2896",
   "metadata": {},
   "outputs": [],
   "source": [
    "df= pd.read_excel('cars_acceleration_regression_simple.xlsx')"
   ]
  },
  {
   "cell_type": "code",
   "execution_count": 3,
   "id": "47bf2b5d",
   "metadata": {
    "scrolled": true
   },
   "outputs": [
    {
     "data": {
      "text/html": [
       "<div>\n",
       "<style scoped>\n",
       "    .dataframe tbody tr th:only-of-type {\n",
       "        vertical-align: middle;\n",
       "    }\n",
       "\n",
       "    .dataframe tbody tr th {\n",
       "        vertical-align: top;\n",
       "    }\n",
       "\n",
       "    .dataframe thead th {\n",
       "        text-align: right;\n",
       "    }\n",
       "</style>\n",
       "<table border=\"1\" class=\"dataframe\">\n",
       "  <thead>\n",
       "    <tr style=\"text-align: right;\">\n",
       "      <th></th>\n",
       "      <th>horesepower</th>\n",
       "      <th>acceleration</th>\n",
       "    </tr>\n",
       "  </thead>\n",
       "  <tbody>\n",
       "    <tr>\n",
       "      <th>0</th>\n",
       "      <td>140</td>\n",
       "      <td>16.0</td>\n",
       "    </tr>\n",
       "    <tr>\n",
       "      <th>1</th>\n",
       "      <td>67</td>\n",
       "      <td>16.0</td>\n",
       "    </tr>\n",
       "    <tr>\n",
       "      <th>2</th>\n",
       "      <td>68</td>\n",
       "      <td>16.6</td>\n",
       "    </tr>\n",
       "    <tr>\n",
       "      <th>3</th>\n",
       "      <td>81</td>\n",
       "      <td>16.9</td>\n",
       "    </tr>\n",
       "    <tr>\n",
       "      <th>4</th>\n",
       "      <td>97</td>\n",
       "      <td>15.0</td>\n",
       "    </tr>\n",
       "  </tbody>\n",
       "</table>\n",
       "</div>"
      ],
      "text/plain": [
       "   horesepower  acceleration\n",
       "0          140          16.0\n",
       "1           67          16.0\n",
       "2           68          16.6\n",
       "3           81          16.9\n",
       "4           97          15.0"
      ]
     },
     "execution_count": 3,
     "metadata": {},
     "output_type": "execute_result"
    }
   ],
   "source": [
    "df.head()"
   ]
  },
  {
   "cell_type": "code",
   "execution_count": 7,
   "id": "2ee40809",
   "metadata": {},
   "outputs": [
    {
     "data": {
      "text/plain": [
       "horesepower  acceleration\n",
       "False        False           230\n",
       "dtype: int64"
      ]
     },
     "execution_count": 7,
     "metadata": {},
     "output_type": "execute_result"
    }
   ],
   "source": [
    "df.isnull().value_counts()"
   ]
  },
  {
   "cell_type": "code",
   "execution_count": 8,
   "id": "ae5d265a",
   "metadata": {},
   "outputs": [
    {
     "data": {
      "text/plain": [
       "horesepower       int64\n",
       "acceleration    float64\n",
       "dtype: object"
      ]
     },
     "execution_count": 8,
     "metadata": {},
     "output_type": "execute_result"
    }
   ],
   "source": [
    "df.dtypes"
   ]
  },
  {
   "cell_type": "code",
   "execution_count": 6,
   "id": "4214e596",
   "metadata": {},
   "outputs": [
    {
     "data": {
      "text/plain": [
       "<AxesSubplot:xlabel='horesepower', ylabel='acceleration'>"
      ]
     },
     "execution_count": 6,
     "metadata": {},
     "output_type": "execute_result"
    },
    {
     "data": {
      "image/png": "[encoded data removed]",
      "text/plain": [
       "<Figure size 432x288 with 1 Axes>"
      ]
     },
     "metadata": {
      "needs_background": "light"
     },
     "output_type": "display_data"
    }
   ],
   "source": [
    "sns.scatterplot(data=df, x=\"horesepower\", y=\"acceleration\")"
   ]
  },
  {
   "cell_type": "markdown",
   "id": "24de4206",
   "metadata": {},
   "source": [
    "Le Scatterplot nous permet de voir qu'il y  a une correlation entre les deux variables"
   ]
  },
  {
   "cell_type": "code",
   "execution_count": 14,
   "id": "e4032f6b",
   "metadata": {},
   "outputs": [
    {
     "name": "stdout",
     "output_type": "stream",
     "text": [
      "Ce que nous confirmons avec le calcul de corrélation entre les deux variables\n",
      "Le coefficient de corrération est :-0.6839872119281634\n"
     ]
    }
   ],
   "source": [
    "corr=df['horesepower'].corr(df['acceleration'])\n",
    "print('Ce que nous confirmons avec le calcul de corrélation entre les deux variables')\n",
    "print('Le coefficient de corrération est :'+ str(corr))"
   ]
  },
  {
   "cell_type": "markdown",
   "id": "6f149e17",
   "metadata": {},
   "source": [
    "Nous allons séparer le dataset en deux afin de faire une partie de test et une partie d'entrainement"
   ]
  },
  {
   "cell_type": "code",
   "execution_count": 18,
   "id": "0f9a3f07",
   "metadata": {},
   "outputs": [],
   "source": [
    "msk = np.random.rand(len(df)) < 0.8\n",
    "train = df[msk]\n",
    "test = df[~msk]"
   ]
  },
  {
   "cell_type": "markdown",
   "id": "5c21a417",
   "metadata": {},
   "source": [
    "Travaillons maintenant sur train afin d'entrainer un modèle de régressionb linéaire afin de prédire l'accélération en fonction de la puissance"
   ]
  },
  {
   "cell_type": "code",
   "execution_count": 19,
   "id": "387f9b2c",
   "metadata": {},
   "outputs": [
    {
     "name": "stdout",
     "output_type": "stream",
     "text": [
      "Coefficients:  [[-0.04470256]]\n"
     ]
    }
   ],
   "source": [
    "from sklearn import linear_model\n",
    "regr = linear_model.LinearRegression()\n",
    "x = np.asanyarray(train[['horesepower']])\n",
    "y = np.asanyarray(train[['acceleration']])\n",
    "regr.fit (x, y)\n",
    "\n",
    "print ('Coefficients: ', regr.coef_)"
   ]
  },
  {
   "cell_type": "code",
   "execution_count": 21,
   "id": "b126c0e6",
   "metadata": {},
   "outputs": [
    {
     "name": "stdout",
     "output_type": "stream",
     "text": [
      "Residual sum of squares: 3.01\n",
      "Variance score: 0.59\n"
     ]
    }
   ],
   "source": [
    "y_hat= regr.predict(test[['horesepower']])\n",
    "x = np.asanyarray(test[['horesepower']])\n",
    "y = np.asanyarray(test[['acceleration']])\n",
    "print(\"Residual sum of squares: %.2f\"\n",
    "      % np.mean((y_hat - y) ** 2))\n",
    "\n",
    "print('Variance score: %.2f' % regr.score(x, y))"
   ]
  },
  {
   "cell_type": "code",
   "execution_count": 28,
   "id": "238e02f3",
   "metadata": {},
   "outputs": [
    {
     "name": "stdout",
     "output_type": "stream",
     "text": [
      "Regplot de la partie train\n"
     ]
    },
    {
     "data": {
      "text/plain": [
       "<AxesSubplot:xlabel='horesepower', ylabel='acceleration'>"
      ]
     },
     "execution_count": 28,
     "metadata": {},
     "output_type": "execute_result"
    },
    {
     "data": {
      "image/png": "[encoded data removed]",
      "text/plain": [
       "<Figure size 432x288 with 1 Axes>"
      ]
     },
     "metadata": {
      "needs_background": "light"
     },
     "output_type": "display_data"
    }
   ],
   "source": [
    "print('Regplot de la partie train')\n",
    "sns.regplot(x='horesepower', y='acceleration', data=train, color='red', marker=\"+\", line_kws={\"color\": \"green\"})\n"
   ]
  },
  {
   "cell_type": "code",
   "execution_count": null,
   "id": "eeaa7bce",
   "metadata": {},
   "outputs": [],
   "source": []
  }
 ],
 "metadata": {
  "kernelspec": {
   "display_name": "Python 3",
   "language": "python",
   "name": "python3"
  },
  "language_info": {
   "codemirror_mode": {
    "name": "ipython",
    "version": 3
   },
   "file_extension": ".py",
   "mimetype": "text/x-python",
   "name": "python",
   "nbconvert_exporter": "python",
   "pygments_lexer": "ipython3",
   "version": "3.8.8"
  }
 },
 "nbformat": 4,
 "nbformat_minor": 5
}
