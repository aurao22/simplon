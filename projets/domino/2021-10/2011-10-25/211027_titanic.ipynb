{
 "cells": [
  {
   "cell_type": "markdown",
   "id": "99f54d2b",
   "metadata": {},
   "source": [
    "## 1. Charger vos données dans un DataFrame Pandas"
   ]
  },
  {
   "cell_type": "code",
   "execution_count": 72,
   "id": "6684063a",
   "metadata": {},
   "outputs": [],
   "source": [
    "import pandas as pd"
   ]
  },
  {
   "cell_type": "markdown",
   "id": "34b80ae9",
   "metadata": {},
   "source": [
    "**Lien de donnée https://www.kaggle.com/alexisbcook/titanic-tutorial/data**"
   ]
  },
  {
   "cell_type": "markdown",
   "id": "a3a77028",
   "metadata": {},
   "source": [
    "Les options les plus courantes :\n",
    "- read_csv\n",
    "- read_excel"
   ]
  },
  {
   "cell_type": "markdown",
   "id": "b6199f05",
   "metadata": {},
   "source": [
    "**Chargez le fichier titanica.csv à l'aide de Pandas. Stockez le résultat du chargement dans la variable df.**"
   ]
  },
  {
   "cell_type": "code",
   "execution_count": 20,
   "id": "b36b5b50",
   "metadata": {},
   "outputs": [
    {
     "name": "stdout",
     "output_type": "stream",
     "text": [
      "~~~~~~~~~~~~~~~~~~~~~~~~~~~~~~~~~~~~~~~~~~~~~~~~\n",
      "shape: (891, 12)\n",
      "line: RangeIndex(start=0, stop=891, step=1)\n",
      "col : Index(['PassengerId', 'Survived', 'Pclass', 'Name', 'Sex', 'Age', 'SibSp',\n",
      "       'Parch', 'Ticket', 'Fare', 'Cabin', 'Embarked'],\n",
      "      dtype='object')\n",
      "Describe    ~~~~~~~~~~~~~~~~~~~~~~~~~~~~~~~~~~~~~~~~~~~~~~~~\n",
      "<bound method NDFrame.describe of      PassengerId  Survived  Pclass  \\\n",
      "0              1         0       3   \n",
      "1              2         1       1   \n",
      "2              3         1       3   \n",
      "3              4         1       1   \n",
      "4              5         0       3   \n",
      "..           ...       ...     ...   \n",
      "886          887         0       2   \n",
      "887          888         1       1   \n",
      "888          889         0       3   \n",
      "889          890         1       1   \n",
      "890          891         0       3   \n",
      "\n",
      "                                                  Name     Sex   Age  SibSp  \\\n",
      "0                              Braund, Mr. Owen Harris    male  22.0      1   \n",
      "1    Cumings, Mrs. John Bradley (Florence Briggs Th...  female  38.0      1   \n",
      "2                               Heikkinen, Miss. Laina  female  26.0      0   \n",
      "3         Futrelle, Mrs. Jacques Heath (Lily May Peel)  female  35.0      1   \n",
      "4                             Allen, Mr. William Henry    male  35.0      0   \n",
      "..                                                 ...     ...   ...    ...   \n",
      "886                              Montvila, Rev. Juozas    male  27.0      0   \n",
      "887                       Graham, Miss. Margaret Edith  female  19.0      0   \n",
      "888           Johnston, Miss. Catherine Helen \"Carrie\"  female   NaN      1   \n",
      "889                              Behr, Mr. Karl Howell    male  26.0      0   \n",
      "890                                Dooley, Mr. Patrick    male  32.0      0   \n",
      "\n",
      "     Parch            Ticket     Fare Cabin Embarked  \n",
      "0        0         A/5 21171   7.2500   NaN        S  \n",
      "1        0          PC 17599  71.2833   C85        C  \n",
      "2        0  STON/O2. 3101282   7.9250   NaN        S  \n",
      "3        0            113803  53.1000  C123        S  \n",
      "4        0            373450   8.0500   NaN        S  \n",
      "..     ...               ...      ...   ...      ...  \n",
      "886      0            211536  13.0000   NaN        S  \n",
      "887      0            112053  30.0000   B42        S  \n",
      "888      2        W./C. 6607  23.4500   NaN        S  \n",
      "889      0            111369  30.0000  C148        C  \n",
      "890      0            370376   7.7500   NaN        Q  \n",
      "\n",
      "[891 rows x 12 columns]>\n",
      "Describe () ~~~~~~~~~~~~~~~~~~~~~~~~~~~~~~~~~~~~~~~~~~~~~~~~\n",
      "        PassengerId    Survived      Pclass  \\\n",
      "count    891.000000  891.000000  891.000000   \n",
      "unique          NaN         NaN         NaN   \n",
      "top             NaN         NaN         NaN   \n",
      "freq            NaN         NaN         NaN   \n",
      "mean     446.000000    0.383838    2.308642   \n",
      "std      257.353842    0.486592    0.836071   \n",
      "min        1.000000    0.000000    1.000000   \n",
      "25%      223.500000    0.000000    2.000000   \n",
      "50%      446.000000    0.000000    3.000000   \n",
      "75%      668.500000    1.000000    3.000000   \n",
      "max      891.000000    1.000000    3.000000   \n",
      "\n",
      "                                                     Name   Sex         Age  \\\n",
      "count                                                 891   891  714.000000   \n",
      "unique                                                891     2         NaN   \n",
      "top     Sandstrom, Mrs. Hjalmar (Agnes Charlotta Bengt...  male         NaN   \n",
      "freq                                                    1   577         NaN   \n",
      "mean                                                  NaN   NaN   29.699118   \n",
      "std                                                   NaN   NaN   14.526497   \n",
      "min                                                   NaN   NaN    0.420000   \n",
      "25%                                                   NaN   NaN   20.125000   \n",
      "50%                                                   NaN   NaN   28.000000   \n",
      "75%                                                   NaN   NaN   38.000000   \n",
      "max                                                   NaN   NaN   80.000000   \n",
      "\n",
      "             SibSp       Parch Ticket        Fare        Cabin Embarked  \n",
      "count   891.000000  891.000000    891  891.000000          204      889  \n",
      "unique         NaN         NaN    681         NaN          147        3  \n",
      "top            NaN         NaN   1601         NaN  C23 C25 C27        S  \n",
      "freq           NaN         NaN      7         NaN            4      644  \n",
      "mean      0.523008    0.381594    NaN   32.204208          NaN      NaN  \n",
      "std       1.102743    0.806057    NaN   49.693429          NaN      NaN  \n",
      "min       0.000000    0.000000    NaN    0.000000          NaN      NaN  \n",
      "25%       0.000000    0.000000    NaN    7.910400          NaN      NaN  \n",
      "50%       0.000000    0.000000    NaN   14.454200          NaN      NaN  \n",
      "75%       1.000000    0.000000    NaN   31.000000          NaN      NaN  \n",
      "max       8.000000    6.000000    NaN  512.329200          NaN      NaN  \n",
      "~~~~~~~~~~~~~~~~~~~~~~~~~~~~~~~~~~~~~~~~~~~~~~~~\n",
      "head\n",
      "   PassengerId  Survived  Pclass  \\\n",
      "0            1         0       3   \n",
      "1            2         1       1   \n",
      "2            3         1       3   \n",
      "3            4         1       1   \n",
      "4            5         0       3   \n",
      "\n",
      "                                                Name     Sex   Age  SibSp  \\\n",
      "0                            Braund, Mr. Owen Harris    male  22.0      1   \n",
      "1  Cumings, Mrs. John Bradley (Florence Briggs Th...  female  38.0      1   \n",
      "2                             Heikkinen, Miss. Laina  female  26.0      0   \n",
      "3       Futrelle, Mrs. Jacques Heath (Lily May Peel)  female  35.0      1   \n",
      "4                           Allen, Mr. William Henry    male  35.0      0   \n",
      "\n",
      "   Parch            Ticket     Fare Cabin Embarked  \n",
      "0      0         A/5 21171   7.2500   NaN        S  \n",
      "1      0          PC 17599  71.2833   C85        C  \n",
      "2      0  STON/O2. 3101282   7.9250   NaN        S  \n",
      "3      0            113803  53.1000  C123        S  \n",
      "4      0            373450   8.0500   NaN        S  \n",
      "~~~~~~~~~~~~~~~~~~~~~~~~~~~~~~~~~~~~~~~~~~~~~~~~\n"
     ]
    }
   ],
   "source": [
    "import pandas as pd\n",
    "\n",
    "# 1. Charger vos données dans un DataFrame Pandas\n",
    "def load(file):\n",
    "    # Charger vos données dans un DataFrame Pandas\n",
    "    df = pd.read_csv(file)\n",
    "    displayInfo(df)\n",
    "    print(\"head\")\n",
    "    print(df.head())\n",
    "    print(\"~~~~~~~~~~~~~~~~~~~~~~~~~~~~~~~~~~~~~~~~~~~~~~~~\")\n",
    "    return df\n",
    "\n",
    "\n",
    "def displayInfo(df):\n",
    "    print(\"~~~~~~~~~~~~~~~~~~~~~~~~~~~~~~~~~~~~~~~~~~~~~~~~\")\n",
    "    print(\"shape:\", df.shape)\n",
    "    print(\"line:\", df.index)\n",
    "    print(\"col :\", df.columns)\n",
    "    print(\"Describe    ~~~~~~~~~~~~~~~~~~~~~~~~~~~~~~~~~~~~~~~~~~~~~~~~\")\n",
    "    print(df.describe)\n",
    "    print(\"Describe () ~~~~~~~~~~~~~~~~~~~~~~~~~~~~~~~~~~~~~~~~~~~~~~~~\")\n",
    "    print(df.describe(include=\"all\"))\n",
    "    print(\"~~~~~~~~~~~~~~~~~~~~~~~~~~~~~~~~~~~~~~~~~~~~~~~~\")\n",
    "\n",
    "\n",
    "# 1. Charger vos données dans un DataFrame Pandas\n",
    "df = load(\"211027_titanic.csv\")"
   ]
  },
  {
   "cell_type": "markdown",
   "id": "38f652fa",
   "metadata": {},
   "source": [
    "**Pouvez-vous afficher les 5 premières lignes du dataframe pour vérifier que les données sont bien chargées ?**"
   ]
  },
  {
   "cell_type": "code",
   "execution_count": 2,
   "id": "a7dc9332",
   "metadata": {},
   "outputs": [
    {
     "data": {
      "text/html": [
       "<div>\n",
       "<style scoped>\n",
       "    .dataframe tbody tr th:only-of-type {\n",
       "        vertical-align: middle;\n",
       "    }\n",
       "\n",
       "    .dataframe tbody tr th {\n",
       "        vertical-align: top;\n",
       "    }\n",
       "\n",
       "    .dataframe thead th {\n",
       "        text-align: right;\n",
       "    }\n",
       "</style>\n",
       "<table border=\"1\" class=\"dataframe\">\n",
       "  <thead>\n",
       "    <tr style=\"text-align: right;\">\n",
       "      <th></th>\n",
       "      <th>PassengerId</th>\n",
       "      <th>Survived</th>\n",
       "      <th>Pclass</th>\n",
       "      <th>Name</th>\n",
       "      <th>Sex</th>\n",
       "      <th>Age</th>\n",
       "      <th>SibSp</th>\n",
       "      <th>Parch</th>\n",
       "      <th>Ticket</th>\n",
       "      <th>Fare</th>\n",
       "      <th>Cabin</th>\n",
       "      <th>Embarked</th>\n",
       "    </tr>\n",
       "  </thead>\n",
       "  <tbody>\n",
       "    <tr>\n",
       "      <th>0</th>\n",
       "      <td>1</td>\n",
       "      <td>0</td>\n",
       "      <td>3</td>\n",
       "      <td>Braund, Mr. Owen Harris</td>\n",
       "      <td>male</td>\n",
       "      <td>22.0</td>\n",
       "      <td>1</td>\n",
       "      <td>0</td>\n",
       "      <td>A/5 21171</td>\n",
       "      <td>7.2500</td>\n",
       "      <td>NaN</td>\n",
       "      <td>S</td>\n",
       "    </tr>\n",
       "    <tr>\n",
       "      <th>1</th>\n",
       "      <td>2</td>\n",
       "      <td>1</td>\n",
       "      <td>1</td>\n",
       "      <td>Cumings, Mrs. John Bradley (Florence Briggs Th...</td>\n",
       "      <td>female</td>\n",
       "      <td>38.0</td>\n",
       "      <td>1</td>\n",
       "      <td>0</td>\n",
       "      <td>PC 17599</td>\n",
       "      <td>71.2833</td>\n",
       "      <td>C85</td>\n",
       "      <td>C</td>\n",
       "    </tr>\n",
       "    <tr>\n",
       "      <th>2</th>\n",
       "      <td>3</td>\n",
       "      <td>1</td>\n",
       "      <td>3</td>\n",
       "      <td>Heikkinen, Miss. Laina</td>\n",
       "      <td>female</td>\n",
       "      <td>26.0</td>\n",
       "      <td>0</td>\n",
       "      <td>0</td>\n",
       "      <td>STON/O2. 3101282</td>\n",
       "      <td>7.9250</td>\n",
       "      <td>NaN</td>\n",
       "      <td>S</td>\n",
       "    </tr>\n",
       "    <tr>\n",
       "      <th>3</th>\n",
       "      <td>4</td>\n",
       "      <td>1</td>\n",
       "      <td>1</td>\n",
       "      <td>Futrelle, Mrs. Jacques Heath (Lily May Peel)</td>\n",
       "      <td>female</td>\n",
       "      <td>35.0</td>\n",
       "      <td>1</td>\n",
       "      <td>0</td>\n",
       "      <td>113803</td>\n",
       "      <td>53.1000</td>\n",
       "      <td>C123</td>\n",
       "      <td>S</td>\n",
       "    </tr>\n",
       "    <tr>\n",
       "      <th>4</th>\n",
       "      <td>5</td>\n",
       "      <td>0</td>\n",
       "      <td>3</td>\n",
       "      <td>Allen, Mr. William Henry</td>\n",
       "      <td>male</td>\n",
       "      <td>35.0</td>\n",
       "      <td>0</td>\n",
       "      <td>0</td>\n",
       "      <td>373450</td>\n",
       "      <td>8.0500</td>\n",
       "      <td>NaN</td>\n",
       "      <td>S</td>\n",
       "    </tr>\n",
       "  </tbody>\n",
       "</table>\n",
       "</div>"
      ],
      "text/plain": [
       "   PassengerId  Survived  Pclass  \\\n",
       "0            1         0       3   \n",
       "1            2         1       1   \n",
       "2            3         1       3   \n",
       "3            4         1       1   \n",
       "4            5         0       3   \n",
       "\n",
       "                                                Name     Sex   Age  SibSp  \\\n",
       "0                            Braund, Mr. Owen Harris    male  22.0      1   \n",
       "1  Cumings, Mrs. John Bradley (Florence Briggs Th...  female  38.0      1   \n",
       "2                             Heikkinen, Miss. Laina  female  26.0      0   \n",
       "3       Futrelle, Mrs. Jacques Heath (Lily May Peel)  female  35.0      1   \n",
       "4                           Allen, Mr. William Henry    male  35.0      0   \n",
       "\n",
       "   Parch            Ticket     Fare Cabin Embarked  \n",
       "0      0         A/5 21171   7.2500   NaN        S  \n",
       "1      0          PC 17599  71.2833   C85        C  \n",
       "2      0  STON/O2. 3101282   7.9250   NaN        S  \n",
       "3      0            113803  53.1000  C123        S  \n",
       "4      0            373450   8.0500   NaN        S  "
      ]
     },
     "execution_count": 2,
     "metadata": {},
     "output_type": "execute_result"
    }
   ],
   "source": [
    "df.head()"
   ]
  },
  {
   "cell_type": "markdown",
   "id": "7cfbac45",
   "metadata": {},
   "source": [
    "**Combien de lignes et colonnes sont contenues dans df ?**"
   ]
  },
  {
   "cell_type": "code",
   "execution_count": 4,
   "id": "31fbae80",
   "metadata": {},
   "outputs": [
    {
     "data": {
      "text/plain": [
       "(891, 12)"
      ]
     },
     "execution_count": 4,
     "metadata": {},
     "output_type": "execute_result"
    }
   ],
   "source": [
    "df.shape"
   ]
  },
  {
   "cell_type": "markdown",
   "id": "67a87180",
   "metadata": {},
   "source": [
    "**Affichez le type des colonnes**"
   ]
  },
  {
   "cell_type": "code",
   "execution_count": 6,
   "id": "f16e5c20",
   "metadata": {},
   "outputs": [
    {
     "name": "stdout",
     "output_type": "stream",
     "text": [
      "<class 'pandas.core.frame.DataFrame'>\n",
      "RangeIndex: 891 entries, 0 to 890\n",
      "Data columns (total 12 columns):\n",
      " #   Column       Non-Null Count  Dtype  \n",
      "---  ------       --------------  -----  \n",
      " 0   PassengerId  891 non-null    int64  \n",
      " 1   Survived     891 non-null    int64  \n",
      " 2   Pclass       891 non-null    int64  \n",
      " 3   Name         891 non-null    object \n",
      " 4   Sex          891 non-null    object \n",
      " 5   Age          714 non-null    float64\n",
      " 6   SibSp        891 non-null    int64  \n",
      " 7   Parch        891 non-null    int64  \n",
      " 8   Ticket       891 non-null    object \n",
      " 9   Fare         891 non-null    float64\n",
      " 10  Cabin        204 non-null    object \n",
      " 11  Embarked     889 non-null    object \n",
      "dtypes: float64(2), int64(5), object(5)\n",
      "memory usage: 83.7+ KB\n"
     ]
    }
   ],
   "source": [
    "df.info()"
   ]
  },
  {
   "cell_type": "markdown",
   "id": "805aee83",
   "metadata": {},
   "source": [
    "**Existe-t-il des valeurs manquantes dans ce jeu de données ?**"
   ]
  },
  {
   "cell_type": "code",
   "execution_count": 8,
   "id": "6b7359f9",
   "metadata": {},
   "outputs": [
    {
     "data": {
      "text/plain": [
       "PassengerId      0\n",
       "Survived         0\n",
       "Pclass           0\n",
       "Name             0\n",
       "Sex              0\n",
       "Age            177\n",
       "SibSp            0\n",
       "Parch            0\n",
       "Ticket           0\n",
       "Fare             0\n",
       "Cabin          687\n",
       "Embarked         2\n",
       "dtype: int64"
      ]
     },
     "execution_count": 8,
     "metadata": {},
     "output_type": "execute_result"
    }
   ],
   "source": [
    "df.isna().sum()"
   ]
  },
  {
   "cell_type": "markdown",
   "id": "8791f65c",
   "metadata": {},
   "source": [
    "**Récuperer les noms de variables (c-à-d les noms de columns)**"
   ]
  },
  {
   "cell_type": "code",
   "execution_count": 10,
   "id": "9969f21b",
   "metadata": {},
   "outputs": [
    {
     "data": {
      "text/plain": [
       "Index(['PassengerId', 'Survived', 'Pclass', 'Name', 'Sex', 'Age', 'SibSp',\n",
       "       'Parch', 'Ticket', 'Fare', 'Cabin', 'Embarked'],\n",
       "      dtype='object')"
      ]
     },
     "execution_count": 10,
     "metadata": {},
     "output_type": "execute_result"
    }
   ],
   "source": [
    "# display \n",
    "df.columns"
   ]
  },
  {
   "cell_type": "markdown",
   "id": "e052f8a8",
   "metadata": {},
   "source": [
    " ## 2. Nettoyer votre Dataset avec drop(), dropna() "
   ]
  },
  {
   "cell_type": "markdown",
   "id": "e0a6ed52",
   "metadata": {},
   "source": [
    "**Supprimer les variables 'PassengerId','Name','SibSp','Parch', 'Ticket', 'Fare', 'Cabin', 'Embarked'**"
   ]
  },
  {
   "cell_type": "code",
   "execution_count": 30,
   "id": "1c14c750",
   "metadata": {},
   "outputs": [
    {
     "data": {
      "text/html": [
       "<div>\n",
       "<style scoped>\n",
       "    .dataframe tbody tr th:only-of-type {\n",
       "        vertical-align: middle;\n",
       "    }\n",
       "\n",
       "    .dataframe tbody tr th {\n",
       "        vertical-align: top;\n",
       "    }\n",
       "\n",
       "    .dataframe thead th {\n",
       "        text-align: right;\n",
       "    }\n",
       "</style>\n",
       "<table border=\"1\" class=\"dataframe\">\n",
       "  <thead>\n",
       "    <tr style=\"text-align: right;\">\n",
       "      <th></th>\n",
       "      <th>Survived</th>\n",
       "      <th>Pclass</th>\n",
       "      <th>Sex</th>\n",
       "      <th>Age</th>\n",
       "    </tr>\n",
       "  </thead>\n",
       "  <tbody>\n",
       "    <tr>\n",
       "      <th>0</th>\n",
       "      <td>0</td>\n",
       "      <td>3</td>\n",
       "      <td>male</td>\n",
       "      <td>22.0</td>\n",
       "    </tr>\n",
       "    <tr>\n",
       "      <th>1</th>\n",
       "      <td>1</td>\n",
       "      <td>1</td>\n",
       "      <td>female</td>\n",
       "      <td>38.0</td>\n",
       "    </tr>\n",
       "    <tr>\n",
       "      <th>2</th>\n",
       "      <td>1</td>\n",
       "      <td>3</td>\n",
       "      <td>female</td>\n",
       "      <td>26.0</td>\n",
       "    </tr>\n",
       "    <tr>\n",
       "      <th>3</th>\n",
       "      <td>1</td>\n",
       "      <td>1</td>\n",
       "      <td>female</td>\n",
       "      <td>35.0</td>\n",
       "    </tr>\n",
       "    <tr>\n",
       "      <th>4</th>\n",
       "      <td>0</td>\n",
       "      <td>3</td>\n",
       "      <td>male</td>\n",
       "      <td>35.0</td>\n",
       "    </tr>\n",
       "    <tr>\n",
       "      <th>...</th>\n",
       "      <td>...</td>\n",
       "      <td>...</td>\n",
       "      <td>...</td>\n",
       "      <td>...</td>\n",
       "    </tr>\n",
       "    <tr>\n",
       "      <th>886</th>\n",
       "      <td>0</td>\n",
       "      <td>2</td>\n",
       "      <td>male</td>\n",
       "      <td>27.0</td>\n",
       "    </tr>\n",
       "    <tr>\n",
       "      <th>887</th>\n",
       "      <td>1</td>\n",
       "      <td>1</td>\n",
       "      <td>female</td>\n",
       "      <td>19.0</td>\n",
       "    </tr>\n",
       "    <tr>\n",
       "      <th>888</th>\n",
       "      <td>0</td>\n",
       "      <td>3</td>\n",
       "      <td>female</td>\n",
       "      <td>NaN</td>\n",
       "    </tr>\n",
       "    <tr>\n",
       "      <th>889</th>\n",
       "      <td>1</td>\n",
       "      <td>1</td>\n",
       "      <td>male</td>\n",
       "      <td>26.0</td>\n",
       "    </tr>\n",
       "    <tr>\n",
       "      <th>890</th>\n",
       "      <td>0</td>\n",
       "      <td>3</td>\n",
       "      <td>male</td>\n",
       "      <td>32.0</td>\n",
       "    </tr>\n",
       "  </tbody>\n",
       "</table>\n",
       "<p>891 rows × 4 columns</p>\n",
       "</div>"
      ],
      "text/plain": [
       "     Survived  Pclass     Sex   Age\n",
       "0           0       3    male  22.0\n",
       "1           1       1  female  38.0\n",
       "2           1       3  female  26.0\n",
       "3           1       1  female  35.0\n",
       "4           0       3    male  35.0\n",
       "..        ...     ...     ...   ...\n",
       "886         0       2    male  27.0\n",
       "887         1       1  female  19.0\n",
       "888         0       3  female   NaN\n",
       "889         1       1    male  26.0\n",
       "890         0       3    male  32.0\n",
       "\n",
       "[891 rows x 4 columns]"
      ]
     },
     "execution_count": 30,
     "metadata": {},
     "output_type": "execute_result"
    }
   ],
   "source": [
    "import pandas as pd\n",
    "\n",
    "# 1. Charger vos données dans un DataFrame Pandas\n",
    "def load(file):\n",
    "    # Charger vos données dans un DataFrame Pandas\n",
    "    df = pd.read_csv(file)\n",
    "    return df\n",
    "\n",
    "\n",
    "# 1. Charger vos données dans un DataFrame Pandas\n",
    "df = load(\"211027_titanic.csv\")\n",
    "df.drop(['PassengerId','Name','SibSp','Parch', 'Ticket', 'Fare', 'Cabin', 'Embarked'],axis=1)"
   ]
  },
  {
   "cell_type": "markdown",
   "id": "aedb9918",
   "metadata": {},
   "source": [
    "**Vérifiez la taille de votre data**"
   ]
  },
  {
   "cell_type": "code",
   "execution_count": 31,
   "id": "518051c4",
   "metadata": {},
   "outputs": [
    {
     "name": "stdout",
     "output_type": "stream",
     "text": [
      "before (891, 12)\n",
      "after (891, 4)\n"
     ]
    }
   ],
   "source": [
    "import pandas as pd\n",
    "\n",
    "# 1. Charger vos données dans un DataFrame Pandas\n",
    "def load(file):\n",
    "    # Charger vos données dans un DataFrame Pandas\n",
    "    df = pd.read_csv(file)\n",
    "    return df\n",
    "\n",
    "\n",
    "# 1. Charger vos données dans un DataFrame Pandas\n",
    "df = load(\"211027_titanic.csv\")\n",
    "print(\"before\",df.shape)\n",
    "df = df.drop(['PassengerId','Name','SibSp','Parch', 'Ticket', 'Fare', 'Cabin', 'Embarked'],axis=1)\n",
    "print(\"after\",df.shape)"
   ]
  },
  {
   "cell_type": "markdown",
   "id": "d3545239",
   "metadata": {},
   "source": [
    "**Supprimer les valeurs manquantes**"
   ]
  },
  {
   "cell_type": "code",
   "execution_count": 32,
   "id": "6c3f472b",
   "metadata": {},
   "outputs": [
    {
     "name": "stdout",
     "output_type": "stream",
     "text": [
      "before (891, 12)\n"
     ]
    },
    {
     "data": {
      "text/html": [
       "<div>\n",
       "<style scoped>\n",
       "    .dataframe tbody tr th:only-of-type {\n",
       "        vertical-align: middle;\n",
       "    }\n",
       "\n",
       "    .dataframe tbody tr th {\n",
       "        vertical-align: top;\n",
       "    }\n",
       "\n",
       "    .dataframe thead th {\n",
       "        text-align: right;\n",
       "    }\n",
       "</style>\n",
       "<table border=\"1\" class=\"dataframe\">\n",
       "  <thead>\n",
       "    <tr style=\"text-align: right;\">\n",
       "      <th></th>\n",
       "      <th>Survived</th>\n",
       "      <th>Pclass</th>\n",
       "      <th>Sex</th>\n",
       "      <th>Age</th>\n",
       "    </tr>\n",
       "  </thead>\n",
       "  <tbody>\n",
       "    <tr>\n",
       "      <th>0</th>\n",
       "      <td>0</td>\n",
       "      <td>3</td>\n",
       "      <td>male</td>\n",
       "      <td>22.0</td>\n",
       "    </tr>\n",
       "    <tr>\n",
       "      <th>1</th>\n",
       "      <td>1</td>\n",
       "      <td>1</td>\n",
       "      <td>female</td>\n",
       "      <td>38.0</td>\n",
       "    </tr>\n",
       "    <tr>\n",
       "      <th>2</th>\n",
       "      <td>1</td>\n",
       "      <td>3</td>\n",
       "      <td>female</td>\n",
       "      <td>26.0</td>\n",
       "    </tr>\n",
       "    <tr>\n",
       "      <th>3</th>\n",
       "      <td>1</td>\n",
       "      <td>1</td>\n",
       "      <td>female</td>\n",
       "      <td>35.0</td>\n",
       "    </tr>\n",
       "    <tr>\n",
       "      <th>4</th>\n",
       "      <td>0</td>\n",
       "      <td>3</td>\n",
       "      <td>male</td>\n",
       "      <td>35.0</td>\n",
       "    </tr>\n",
       "    <tr>\n",
       "      <th>...</th>\n",
       "      <td>...</td>\n",
       "      <td>...</td>\n",
       "      <td>...</td>\n",
       "      <td>...</td>\n",
       "    </tr>\n",
       "    <tr>\n",
       "      <th>885</th>\n",
       "      <td>0</td>\n",
       "      <td>3</td>\n",
       "      <td>female</td>\n",
       "      <td>39.0</td>\n",
       "    </tr>\n",
       "    <tr>\n",
       "      <th>886</th>\n",
       "      <td>0</td>\n",
       "      <td>2</td>\n",
       "      <td>male</td>\n",
       "      <td>27.0</td>\n",
       "    </tr>\n",
       "    <tr>\n",
       "      <th>887</th>\n",
       "      <td>1</td>\n",
       "      <td>1</td>\n",
       "      <td>female</td>\n",
       "      <td>19.0</td>\n",
       "    </tr>\n",
       "    <tr>\n",
       "      <th>889</th>\n",
       "      <td>1</td>\n",
       "      <td>1</td>\n",
       "      <td>male</td>\n",
       "      <td>26.0</td>\n",
       "    </tr>\n",
       "    <tr>\n",
       "      <th>890</th>\n",
       "      <td>0</td>\n",
       "      <td>3</td>\n",
       "      <td>male</td>\n",
       "      <td>32.0</td>\n",
       "    </tr>\n",
       "  </tbody>\n",
       "</table>\n",
       "<p>714 rows × 4 columns</p>\n",
       "</div>"
      ],
      "text/plain": [
       "     Survived  Pclass     Sex   Age\n",
       "0           0       3    male  22.0\n",
       "1           1       1  female  38.0\n",
       "2           1       3  female  26.0\n",
       "3           1       1  female  35.0\n",
       "4           0       3    male  35.0\n",
       "..        ...     ...     ...   ...\n",
       "885         0       3  female  39.0\n",
       "886         0       2    male  27.0\n",
       "887         1       1  female  19.0\n",
       "889         1       1    male  26.0\n",
       "890         0       3    male  32.0\n",
       "\n",
       "[714 rows x 4 columns]"
      ]
     },
     "execution_count": 32,
     "metadata": {},
     "output_type": "execute_result"
    }
   ],
   "source": [
    "import pandas as pd\n",
    "\n",
    "# 1. Charger vos données dans un DataFrame Pandas\n",
    "def load(file):\n",
    "    # Charger vos données dans un DataFrame Pandas\n",
    "    df = pd.read_csv(file)\n",
    "    return df\n",
    "\n",
    "\n",
    "# 1. Charger vos données dans un DataFrame Pandas\n",
    "df = load(\"211027_titanic.csv\")\n",
    "print(\"before\",df.shape)\n",
    "df = df.drop(['PassengerId','Name','SibSp','Parch', 'Ticket', 'Fare', 'Cabin', 'Embarked'],axis=1)\n",
    "df.dropna(subset=['Age', 'Sex'])"
   ]
  },
  {
   "cell_type": "markdown",
   "id": "11f1bca4",
   "metadata": {},
   "source": [
    "**Vérifier la taille de votre data**"
   ]
  },
  {
   "cell_type": "code",
   "execution_count": 33,
   "id": "2d75cf3c",
   "metadata": {},
   "outputs": [
    {
     "name": "stdout",
     "output_type": "stream",
     "text": [
      "before (891, 12)\n",
      "after (714, 4)\n"
     ]
    }
   ],
   "source": [
    "import pandas as pd\n",
    "\n",
    "# 1. Charger vos données dans un DataFrame Pandas\n",
    "def load(file):\n",
    "    # Charger vos données dans un DataFrame Pandas\n",
    "    df = pd.read_csv(file)\n",
    "    return df\n",
    "\n",
    "\n",
    "# 1. Charger vos données dans un DataFrame Pandas\n",
    "df = load(\"211027_titanic.csv\")\n",
    "print(\"before\",df.shape)\n",
    "df = df.drop(['PassengerId','Name','SibSp','Parch', 'Ticket', 'Fare', 'Cabin', 'Embarked'],axis=1)\n",
    "df = df.dropna(subset=['Age', 'Sex'])\n",
    "print(\"after\",df.shape)"
   ]
  },
  {
   "cell_type": "markdown",
   "id": "ea3f78ac",
   "metadata": {},
   "source": [
    "## Groupby() "
   ]
  },
  {
   "cell_type": "markdown",
   "id": "b6c91a2d",
   "metadata": {},
   "source": [
    "**Regrouper selon le sex votre data en appliquant la moyenne**"
   ]
  },
  {
   "cell_type": "code",
   "execution_count": 35,
   "id": "d5750b8f",
   "metadata": {},
   "outputs": [
    {
     "name": "stdout",
     "output_type": "stream",
     "text": [
      "Group BY - mean by sex\n"
     ]
    },
    {
     "data": {
      "text/html": [
       "<div>\n",
       "<style scoped>\n",
       "    .dataframe tbody tr th:only-of-type {\n",
       "        vertical-align: middle;\n",
       "    }\n",
       "\n",
       "    .dataframe tbody tr th {\n",
       "        vertical-align: top;\n",
       "    }\n",
       "\n",
       "    .dataframe thead th {\n",
       "        text-align: right;\n",
       "    }\n",
       "</style>\n",
       "<table border=\"1\" class=\"dataframe\">\n",
       "  <thead>\n",
       "    <tr style=\"text-align: right;\">\n",
       "      <th></th>\n",
       "      <th>Survived</th>\n",
       "      <th>Pclass</th>\n",
       "      <th>Age</th>\n",
       "    </tr>\n",
       "    <tr>\n",
       "      <th>Sex</th>\n",
       "      <th></th>\n",
       "      <th></th>\n",
       "      <th></th>\n",
       "    </tr>\n",
       "  </thead>\n",
       "  <tbody>\n",
       "    <tr>\n",
       "      <th>female</th>\n",
       "      <td>0.754789</td>\n",
       "      <td>2.065134</td>\n",
       "      <td>27.915709</td>\n",
       "    </tr>\n",
       "    <tr>\n",
       "      <th>male</th>\n",
       "      <td>0.205298</td>\n",
       "      <td>2.335541</td>\n",
       "      <td>30.726645</td>\n",
       "    </tr>\n",
       "  </tbody>\n",
       "</table>\n",
       "</div>"
      ],
      "text/plain": [
       "        Survived    Pclass        Age\n",
       "Sex                                  \n",
       "female  0.754789  2.065134  27.915709\n",
       "male    0.205298  2.335541  30.726645"
      ]
     },
     "execution_count": 35,
     "metadata": {},
     "output_type": "execute_result"
    }
   ],
   "source": [
    "import pandas as pd\n",
    "\n",
    "# 1. Charger vos données dans un DataFrame Pandas\n",
    "def load(file):\n",
    "    # Charger vos données dans un DataFrame Pandas\n",
    "    df = pd.read_csv(file)\n",
    "    return df\n",
    "\n",
    "\n",
    "# 1. Charger vos données dans un DataFrame Pandas\n",
    "df = load(\"211027_titanic.csv\")\n",
    "df = df.drop(['PassengerId','Name','SibSp','Parch', 'Ticket', 'Fare', 'Cabin', 'Embarked'],axis=1)\n",
    "df = df.dropna(subset=['Age', 'Sex'])\n",
    "print(\"Group BY - mean by sex\")\n",
    "df.groupby(['Sex']).mean()"
   ]
  },
  {
   "cell_type": "markdown",
   "id": "c58e85a1",
   "metadata": {},
   "source": [
    "**Regrouper selon le \"Sex\" et \"Pclass\" votre data en appliquant la moyenne**"
   ]
  },
  {
   "cell_type": "code",
   "execution_count": 36,
   "id": "4509d3be",
   "metadata": {},
   "outputs": [
    {
     "name": "stdout",
     "output_type": "stream",
     "text": [
      "Group BY - mean by sex\n"
     ]
    },
    {
     "data": {
      "text/html": [
       "<div>\n",
       "<style scoped>\n",
       "    .dataframe tbody tr th:only-of-type {\n",
       "        vertical-align: middle;\n",
       "    }\n",
       "\n",
       "    .dataframe tbody tr th {\n",
       "        vertical-align: top;\n",
       "    }\n",
       "\n",
       "    .dataframe thead th {\n",
       "        text-align: right;\n",
       "    }\n",
       "</style>\n",
       "<table border=\"1\" class=\"dataframe\">\n",
       "  <thead>\n",
       "    <tr style=\"text-align: right;\">\n",
       "      <th></th>\n",
       "      <th></th>\n",
       "      <th>Survived</th>\n",
       "      <th>Age</th>\n",
       "    </tr>\n",
       "    <tr>\n",
       "      <th>Sex</th>\n",
       "      <th>Pclass</th>\n",
       "      <th></th>\n",
       "      <th></th>\n",
       "    </tr>\n",
       "  </thead>\n",
       "  <tbody>\n",
       "    <tr>\n",
       "      <th rowspan=\"3\" valign=\"top\">female</th>\n",
       "      <th>1</th>\n",
       "      <td>0.964706</td>\n",
       "      <td>34.611765</td>\n",
       "    </tr>\n",
       "    <tr>\n",
       "      <th>2</th>\n",
       "      <td>0.918919</td>\n",
       "      <td>28.722973</td>\n",
       "    </tr>\n",
       "    <tr>\n",
       "      <th>3</th>\n",
       "      <td>0.460784</td>\n",
       "      <td>21.750000</td>\n",
       "    </tr>\n",
       "    <tr>\n",
       "      <th rowspan=\"3\" valign=\"top\">male</th>\n",
       "      <th>1</th>\n",
       "      <td>0.396040</td>\n",
       "      <td>41.281386</td>\n",
       "    </tr>\n",
       "    <tr>\n",
       "      <th>2</th>\n",
       "      <td>0.151515</td>\n",
       "      <td>30.740707</td>\n",
       "    </tr>\n",
       "    <tr>\n",
       "      <th>3</th>\n",
       "      <td>0.150198</td>\n",
       "      <td>26.507589</td>\n",
       "    </tr>\n",
       "  </tbody>\n",
       "</table>\n",
       "</div>"
      ],
      "text/plain": [
       "               Survived        Age\n",
       "Sex    Pclass                     \n",
       "female 1       0.964706  34.611765\n",
       "       2       0.918919  28.722973\n",
       "       3       0.460784  21.750000\n",
       "male   1       0.396040  41.281386\n",
       "       2       0.151515  30.740707\n",
       "       3       0.150198  26.507589"
      ]
     },
     "execution_count": 36,
     "metadata": {},
     "output_type": "execute_result"
    }
   ],
   "source": [
    "import pandas as pd\n",
    "\n",
    "# 1. Charger vos données dans un DataFrame Pandas\n",
    "def load(file):\n",
    "    # Charger vos données dans un DataFrame Pandas\n",
    "    df = pd.read_csv(file)\n",
    "    return df\n",
    "\n",
    "\n",
    "# 1. Charger vos données dans un DataFrame Pandas\n",
    "df = load(\"211027_titanic.csv\")\n",
    "df = df.drop(['PassengerId','Name','SibSp','Parch', 'Ticket', 'Fare', 'Cabin', 'Embarked'],axis=1)\n",
    "df = df.dropna(subset=['Age', 'Sex'])\n",
    "print(\"Group BY - mean by sex, pclass\")\n",
    "df.groupby(['Sex', 'Pclass']).mean()"
   ]
  },
  {
   "cell_type": "code",
   "execution_count": 37,
   "id": "76463d2b-91a9-4cd7-9d6f-11a6c8d5d353",
   "metadata": {},
   "outputs": [
    {
     "name": "stdout",
     "output_type": "stream",
     "text": [
      "Group BY - mean by pclass, sex\n"
     ]
    },
    {
     "data": {
      "text/html": [
       "<div>\n",
       "<style scoped>\n",
       "    .dataframe tbody tr th:only-of-type {\n",
       "        vertical-align: middle;\n",
       "    }\n",
       "\n",
       "    .dataframe tbody tr th {\n",
       "        vertical-align: top;\n",
       "    }\n",
       "\n",
       "    .dataframe thead th {\n",
       "        text-align: right;\n",
       "    }\n",
       "</style>\n",
       "<table border=\"1\" class=\"dataframe\">\n",
       "  <thead>\n",
       "    <tr style=\"text-align: right;\">\n",
       "      <th></th>\n",
       "      <th></th>\n",
       "      <th>Survived</th>\n",
       "      <th>Age</th>\n",
       "    </tr>\n",
       "    <tr>\n",
       "      <th>Pclass</th>\n",
       "      <th>Sex</th>\n",
       "      <th></th>\n",
       "      <th></th>\n",
       "    </tr>\n",
       "  </thead>\n",
       "  <tbody>\n",
       "    <tr>\n",
       "      <th rowspan=\"2\" valign=\"top\">1</th>\n",
       "      <th>female</th>\n",
       "      <td>0.964706</td>\n",
       "      <td>34.611765</td>\n",
       "    </tr>\n",
       "    <tr>\n",
       "      <th>male</th>\n",
       "      <td>0.396040</td>\n",
       "      <td>41.281386</td>\n",
       "    </tr>\n",
       "    <tr>\n",
       "      <th rowspan=\"2\" valign=\"top\">2</th>\n",
       "      <th>female</th>\n",
       "      <td>0.918919</td>\n",
       "      <td>28.722973</td>\n",
       "    </tr>\n",
       "    <tr>\n",
       "      <th>male</th>\n",
       "      <td>0.151515</td>\n",
       "      <td>30.740707</td>\n",
       "    </tr>\n",
       "    <tr>\n",
       "      <th rowspan=\"2\" valign=\"top\">3</th>\n",
       "      <th>female</th>\n",
       "      <td>0.460784</td>\n",
       "      <td>21.750000</td>\n",
       "    </tr>\n",
       "    <tr>\n",
       "      <th>male</th>\n",
       "      <td>0.150198</td>\n",
       "      <td>26.507589</td>\n",
       "    </tr>\n",
       "  </tbody>\n",
       "</table>\n",
       "</div>"
      ],
      "text/plain": [
       "               Survived        Age\n",
       "Pclass Sex                        \n",
       "1      female  0.964706  34.611765\n",
       "       male    0.396040  41.281386\n",
       "2      female  0.918919  28.722973\n",
       "       male    0.151515  30.740707\n",
       "3      female  0.460784  21.750000\n",
       "       male    0.150198  26.507589"
      ]
     },
     "execution_count": 37,
     "metadata": {},
     "output_type": "execute_result"
    }
   ],
   "source": [
    "import pandas as pd\n",
    "\n",
    "# 1. Charger vos données dans un DataFrame Pandas\n",
    "def load(file):\n",
    "    # Charger vos données dans un DataFrame Pandas\n",
    "    df = pd.read_csv(file)\n",
    "    return df\n",
    "\n",
    "\n",
    "# 1. Charger vos données dans un DataFrame Pandas\n",
    "df = load(\"211027_titanic.csv\")\n",
    "df = df.drop(['PassengerId','Name','SibSp','Parch', 'Ticket', 'Fare', 'Cabin', 'Embarked'],axis=1)\n",
    "df = df.dropna(subset=['Age', 'Sex'])\n",
    "print(\"Group BY - mean by pclass, sex\")\n",
    "df.groupby(['Pclass', 'Sex']).mean()"
   ]
  },
  {
   "cell_type": "markdown",
   "id": "c3946039",
   "metadata": {},
   "source": [
    "## 3.  value_counts()"
   ]
  },
  {
   "cell_type": "markdown",
   "id": "9fb224b0",
   "metadata": {},
   "source": [
    "**Calculer le nombre de passagers qui ont une réservation $1^{ere}$ classe $2^{eme}$ classe et $3^{eme}$ classe**"
   ]
  },
  {
   "cell_type": "code",
   "execution_count": 88,
   "id": "b9e84540",
   "metadata": {},
   "outputs": [
    {
     "data": {
      "text/plain": [
       "3    355\n",
       "1    186\n",
       "2    173\n",
       "Name: Pclass, dtype: int64"
      ]
     },
     "execution_count": 88,
     "metadata": {},
     "output_type": "execute_result"
    }
   ],
   "source": [
    "import pandas as pd\n",
    "\n",
    "# 1. Charger vos données dans un DataFrame Pandas\n",
    "def load(file):\n",
    "    # Charger vos données dans un DataFrame Pandas\n",
    "    df = pd.read_csv(file)\n",
    "    return df\n",
    "\n",
    "\n",
    "# 1. Charger vos données dans un DataFrame Pandas\n",
    "df = load(\"211027_titanic.csv\")\n",
    "df = df.drop(['PassengerId','Name','SibSp','Parch', 'Ticket', 'Fare', 'Cabin', 'Embarked'],axis=1)\n",
    "df = df.dropna(subset=['Age', 'Sex'])\n",
    "print(\"COUNT - mean by pclass\")\n",
    "df.value_counts(['Pclass'], sort=True)"
   ]
  },
  {
   "cell_type": "markdown",
   "id": "13730767",
   "metadata": {},
   "source": [
    "# 4. Fonction "
   ]
  },
  {
   "cell_type": "markdown",
   "id": "c4b5945a",
   "metadata": {},
   "source": [
    "**Ecrire une fontion de \"category_age\" qui divise la valeur age en trois parties**\n",
    "si age <=20 alors retourner '<20 ans'\n",
    "si 20<age <=30 retourner '20-30 ans'\n",
    "si 30<age<=40 alors retourner '30-40ans' \n",
    "sinon retourner '+40 ans '"
   ]
  },
  {
   "cell_type": "code",
   "execution_count": 46,
   "id": "e26ac571",
   "metadata": {},
   "outputs": [
    {
     "name": "stdout",
     "output_type": "stream",
     "text": [
      "0      20-30 ans\n",
      "1       30-40ans\n",
      "2      20-30 ans\n",
      "3       30-40ans\n",
      "4       30-40ans\n",
      "         ...    \n",
      "885     30-40ans\n",
      "886    20-30 ans\n",
      "887      <20 ans\n",
      "889    20-30 ans\n",
      "890     30-40ans\n",
      "Name: Age, Length: 714, dtype: object\n",
      "     Survived  Pclass     Sex   Age\n",
      "0           0       3    male  22.0\n",
      "1           1       1  female  38.0\n",
      "2           1       3  female  26.0\n",
      "3           1       1  female  35.0\n",
      "4           0       3    male  35.0\n",
      "..        ...     ...     ...   ...\n",
      "885         0       3  female  39.0\n",
      "886         0       2    male  27.0\n",
      "887         1       1  female  19.0\n",
      "889         1       1    male  26.0\n",
      "890         0       3    male  32.0\n",
      "\n",
      "[714 rows x 4 columns]\n"
     ]
    }
   ],
   "source": [
    "import pandas as pd\n",
    "\n",
    "# 1. Charger vos données dans un DataFrame Pandas\n",
    "def load(file):\n",
    "    df = pd.read_csv(file)\n",
    "    return df\n",
    "\n",
    "def category_age(age):\n",
    "    if age <=20 :\n",
    "        return '<20 ans'\n",
    "    elif 20<age <=30:\n",
    "        return '20-30 ans'\n",
    "    elif 30<age<=40 :\n",
    "        return '30-40ans' \n",
    "    else: '+40 ans '\n",
    "\n",
    "\n",
    "# 1. Charger vos données dans un DataFrame Pandas\n",
    "df = load(\"211027_titanic.csv\")\n",
    "df = df.drop(['PassengerId','Name','SibSp','Parch', 'Ticket', 'Fare', 'Cabin', 'Embarked'],axis=1)\n",
    "df = df.dropna(subset=['Age', 'Sex'])\n",
    "print(df['Age'].apply(category_age))\n",
    "print(df)"
   ]
  },
  {
   "cell_type": "markdown",
   "id": "0b7276bd",
   "metadata": {},
   "source": [
    "## 5. map()"
   ]
  },
  {
   "cell_type": "markdown",
   "id": "b36c9759",
   "metadata": {},
   "source": [
    "**Créer des catégories d'ages avec la fonction map() de pandas**"
   ]
  },
  {
   "cell_type": "code",
   "execution_count": 47,
   "id": "5bce7562",
   "metadata": {},
   "outputs": [
    {
     "name": "stdout",
     "output_type": "stream",
     "text": [
      "0      20-30 ans\n",
      "1       30-40ans\n",
      "2      20-30 ans\n",
      "3       30-40ans\n",
      "4       30-40ans\n",
      "         ...    \n",
      "885     30-40ans\n",
      "886    20-30 ans\n",
      "887      <20 ans\n",
      "889    20-30 ans\n",
      "890     30-40ans\n",
      "Name: Age, Length: 714, dtype: object\n",
      "     Survived  Pclass     Sex   Age\n",
      "0           0       3    male  22.0\n",
      "1           1       1  female  38.0\n",
      "2           1       3  female  26.0\n",
      "3           1       1  female  35.0\n",
      "4           0       3    male  35.0\n",
      "..        ...     ...     ...   ...\n",
      "885         0       3  female  39.0\n",
      "886         0       2    male  27.0\n",
      "887         1       1  female  19.0\n",
      "889         1       1    male  26.0\n",
      "890         0       3    male  32.0\n",
      "\n",
      "[714 rows x 4 columns]\n"
     ]
    }
   ],
   "source": [
    "import pandas as pd\n",
    "\n",
    "# 1. Charger vos données dans un DataFrame Pandas\n",
    "def load(file):\n",
    "    df = pd.read_csv(file)\n",
    "    return df\n",
    "\n",
    "def category_age(age):\n",
    "    if age <=20 :\n",
    "        return '<20 ans'\n",
    "    elif 20<age <=30:\n",
    "        return '20-30 ans'\n",
    "    elif 30<age<=40 :\n",
    "        return '30-40ans' \n",
    "    else: '+40 ans '\n",
    "\n",
    "\n",
    "# 1. Charger vos données dans un DataFrame Pandas\n",
    "df = load(\"211027_titanic.csv\")\n",
    "df = df.drop(['PassengerId','Name','SibSp','Parch', 'Ticket', 'Fare', 'Cabin', 'Embarked'],axis=1)\n",
    "df = df.dropna(subset=['Age', 'Sex'])\n",
    "print(df['Age'].map(category_age))\n",
    "print(df)"
   ]
  },
  {
   "cell_type": "code",
   "execution_count": 93,
   "id": "ee159182",
   "metadata": {},
   "outputs": [
    {
     "data": {
      "text/plain": [
       "0      20-30 ans\n",
       "1      30-40 ans\n",
       "2      20-30 ans\n",
       "3      30-40 ans\n",
       "4      30-40 ans\n",
       "         ...    \n",
       "885    30-40 ans\n",
       "886    20-30 ans\n",
       "887      <20 ans\n",
       "889    20-30 ans\n",
       "890    30-40 ans\n",
       "Name: Age, Length: 714, dtype: object"
      ]
     },
     "execution_count": 93,
     "metadata": {},
     "output_type": "execute_result"
    }
   ],
   "source": []
  },
  {
   "cell_type": "markdown",
   "id": "91d6a3dd",
   "metadata": {},
   "source": [
    "**Vérifier maintenant les catécories d'Age à l'aide de .unique()**"
   ]
  },
  {
   "cell_type": "code",
   "execution_count": 49,
   "id": "8ad3608c",
   "metadata": {},
   "outputs": [
    {
     "data": {
      "text/plain": [
       "array(['20-30 ans', '30-40ans', None, '<20 ans'], dtype=object)"
      ]
     },
     "execution_count": 49,
     "metadata": {},
     "output_type": "execute_result"
    }
   ],
   "source": [
    "import pandas as pd\n",
    "\n",
    "# 1. Charger vos données dans un DataFrame Pandas\n",
    "def load(file):\n",
    "    df = pd.read_csv(file)\n",
    "    return df\n",
    "\n",
    "def category_age(age):\n",
    "    if age <=20 :\n",
    "        return '<20 ans'\n",
    "    elif 20<age <=30:\n",
    "        return '20-30 ans'\n",
    "    elif 30<age<=40 :\n",
    "        return '30-40ans' \n",
    "    else: '+40 ans '\n",
    "\n",
    "\n",
    "# 1. Charger vos données dans un DataFrame Pandas\n",
    "df = load(\"211027_titanic.csv\")\n",
    "df = df.drop(['PassengerId','Name','SibSp','Parch', 'Ticket', 'Fare', 'Cabin', 'Embarked'],axis=1)\n",
    "df = df.dropna(subset=['Age', 'Sex'])\n",
    "df['Age'].map(category_age).unique()"
   ]
  },
  {
   "cell_type": "markdown",
   "id": "332c1850",
   "metadata": {},
   "source": [
    "**Vérifier maintenant le nombre de catécories d'Age à l'aide de .nunique()**"
   ]
  },
  {
   "cell_type": "code",
   "execution_count": 50,
   "id": "9c49f090",
   "metadata": {},
   "outputs": [
    {
     "data": {
      "text/plain": [
       "3"
      ]
     },
     "execution_count": 50,
     "metadata": {},
     "output_type": "execute_result"
    }
   ],
   "source": [
    "import pandas as pd\n",
    "\n",
    "# 1. Charger vos données dans un DataFrame Pandas\n",
    "def load(file):\n",
    "    df = pd.read_csv(file)\n",
    "    return df\n",
    "\n",
    "def category_age(age):\n",
    "    if age <=20 :\n",
    "        return '<20 ans'\n",
    "    elif 20<age <=30:\n",
    "        return '20-30 ans'\n",
    "    elif 30<age<=40 :\n",
    "        return '30-40ans' \n",
    "    else: '+40 ans '\n",
    "\n",
    "\n",
    "# 1. Charger vos données dans un DataFrame Pandas\n",
    "df = load(\"211027_titanic.csv\")\n",
    "df = df.drop(['PassengerId','Name','SibSp','Parch', 'Ticket', 'Fare', 'Cabin', 'Embarked'],axis=1)\n",
    "df = df.dropna(subset=['Age', 'Sex'])\n",
    "df['Age'].map(category_age).nunique()"
   ]
  },
  {
   "cell_type": "markdown",
   "id": "ae6cad54",
   "metadata": {},
   "source": [
    "## 7. cat.codes"
   ]
  },
  {
   "cell_type": "markdown",
   "id": "e019df99",
   "metadata": {},
   "source": [
    "**Encoder la variable Sex avec cat.codes (c_à-d remplacer mal par 1 et female par 0)**"
   ]
  },
  {
   "cell_type": "code",
   "execution_count": 10,
   "id": "a70b2b78",
   "metadata": {},
   "outputs": [
    {
     "name": "stdout",
     "output_type": "stream",
     "text": [
      "BEFORE ------------------\n",
      "Survived      int64\n",
      "Pclass        int64\n",
      "Sex          object\n",
      "Age         float64\n",
      "dtype: object\n",
      "AFTER ------------------\n",
      "Survived       int64\n",
      "Pclass         int64\n",
      "Sex         category\n",
      "Age          float64\n",
      "dtype: object\n",
      "----------------------\n",
      "     Survived  Pclass     Sex   Age  Sex_cat\n",
      "0           0       3    male  22.0        1\n",
      "1           1       1  female  38.0        0\n",
      "2           1       3  female  26.0        0\n",
      "3           1       1  female  35.0        0\n",
      "4           0       3    male  35.0        1\n",
      "..        ...     ...     ...   ...      ...\n",
      "885         0       3  female  39.0        0\n",
      "886         0       2    male  27.0        1\n",
      "887         1       1  female  19.0        0\n",
      "889         1       1    male  26.0        1\n",
      "890         0       3    male  32.0        1\n",
      "\n",
      "[714 rows x 5 columns]\n"
     ]
    }
   ],
   "source": [
    "import pandas as pd\n",
    "\n",
    "# 1. Charger vos données dans un DataFrame Pandas\n",
    "def load(file):\n",
    "    df = pd.read_csv(file)\n",
    "    return df\n",
    "\n",
    "def category_age(age):\n",
    "    if age <=20 :\n",
    "        return '<20 ans'\n",
    "    elif 20<age <=30:\n",
    "        return '20-30 ans'\n",
    "    elif 30<age<=40 :\n",
    "        return '30-40ans' \n",
    "    else: '+40 ans '\n",
    "\n",
    "\n",
    "# 1. Charger vos données dans un DataFrame Pandas\n",
    "df = load(\"211027_titanic.csv\")\n",
    "df = df.drop(['PassengerId','Name','SibSp','Parch', 'Ticket', 'Fare', 'Cabin', 'Embarked'],axis=1)\n",
    "df = df.dropna(subset=['Age', 'Sex'])\n",
    "df['Age'].map(category_age).nunique()\n",
    "print(\"BEFORE ------------------\")\n",
    "print(df.dtypes)\n",
    "df[\"Sex\"]= df[\"Sex\"].astype('category')\n",
    "print(\"AFTER ------------------\")\n",
    "print(df.dtypes)\n",
    "df[\"Sex_cat\"] = df[\"Sex\"].cat.codes\n",
    "print(\"----------------------\")\n",
    "print(df)"
   ]
  },
  {
   "cell_type": "code",
   "execution_count": null,
   "id": "8cc16c37-06d1-41ac-a57c-73a42f0e202c",
   "metadata": {},
   "outputs": [],
   "source": []
  },
  {
   "cell_type": "code",
   "execution_count": null,
   "id": "dd4d10bb-20e2-420e-bee3-cad5f890747b",
   "metadata": {},
   "outputs": [],
   "source": []
  }
 ],
 "metadata": {
  "kernelspec": {
   "display_name": "Python 3",
   "language": "python",
   "name": "python3"
  },
  "language_info": {
   "codemirror_mode": {
    "name": "ipython",
    "version": 3
   },
   "file_extension": ".py",
   "mimetype": "text/x-python",
   "name": "python",
   "nbconvert_exporter": "python",
   "pygments_lexer": "ipython3",
   "version": "3.8.8"
  }
 },
 "nbformat": 4,
 "nbformat_minor": 5
}
