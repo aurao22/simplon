{
 "cells": [
  {
   "cell_type": "markdown",
   "id": "c872feff",
   "metadata": {},
   "source": [
    "## Creating pandas DataFrames"
   ]
  },
  {
   "cell_type": "code",
   "execution_count": null,
   "id": "366d4b15",
   "metadata": {},
   "outputs": [],
   "source": [
    "# Import pandas library\n",
    "import pandas as pd"
   ]
  },
  {
   "cell_type": "code",
   "execution_count": 3,
   "id": "8b3650ec",
   "metadata": {},
   "outputs": [
    {
     "data": {
      "text/html": [
       "<div>\n",
       "<style scoped>\n",
       "    .dataframe tbody tr th:only-of-type {\n",
       "        vertical-align: middle;\n",
       "    }\n",
       "\n",
       "    .dataframe tbody tr th {\n",
       "        vertical-align: top;\n",
       "    }\n",
       "\n",
       "    .dataframe thead th {\n",
       "        text-align: right;\n",
       "    }\n",
       "</style>\n",
       "<table border=\"1\" class=\"dataframe\">\n",
       "  <thead>\n",
       "    <tr style=\"text-align: right;\">\n",
       "      <th></th>\n",
       "    </tr>\n",
       "  </thead>\n",
       "  <tbody>\n",
       "  </tbody>\n",
       "</table>\n",
       "</div>"
      ],
      "text/plain": [
       "Empty DataFrame\n",
       "Columns: []\n",
       "Index: []"
      ]
     },
     "execution_count": 3,
     "metadata": {},
     "output_type": "execute_result"
    }
   ],
   "source": [
    "# Import pandas library\n",
    "import pandas as pd\n",
    "# Create empty DataFrame\n",
    "df = pd.DataFrame()"
   ]
  },
  {
   "cell_type": "code",
   "execution_count": 5,
   "id": "904e646e",
   "metadata": {},
   "outputs": [
    {
     "name": "stdout",
     "output_type": "stream",
     "text": [
      "Empty DataFrame\n",
      "Columns: []\n",
      "Index: []\n"
     ]
    }
   ],
   "source": [
    "# Import pandas library\n",
    "import pandas as pd\n",
    "# Create empty DataFrame\n",
    "df = pd.DataFrame()\n",
    "# Header of dataframe\n",
    "print(df.head())"
   ]
  },
  {
   "cell_type": "code",
   "execution_count": 6,
   "id": "903844cb",
   "metadata": {},
   "outputs": [
    {
     "name": "stdout",
     "output_type": "stream",
     "text": [
      "     Name  Age\n",
      "0   Vijay   23\n",
      "1  Sundar   45\n",
      "2  Satyam   46\n",
      "3  Indira   52\n"
     ]
    }
   ],
   "source": [
    "# Import pandas library\n",
    "import pandas as pd\n",
    "# Create empty DataFrame*# Create dictionary of list\n",
    "data={'Name': ['Vijay', 'Sundar', 'Satyam', 'Indira'], 'Age': [23, 45, 46, 52]}\n",
    "df = pd.DataFrame(data)\n",
    "# Header of dataframe\n",
    "print(df.head())"
   ]
  },
  {
   "cell_type": "code",
   "execution_count": 7,
   "id": "af34a614",
   "metadata": {},
   "outputs": [],
   "source": [
    "# Pandas DataFrame by lists of dicts.\n",
    "# Initialise data to lists.\n",
    "data1 ={'Name': ['Vijay', 'Sundar', 'Shankar'], 'Age': [23, 25, 26]}"
   ]
  },
  {
   "cell_type": "code",
   "execution_count": 17,
   "id": "c3a9133b",
   "metadata": {},
   "outputs": [
    {
     "name": "stdout",
     "output_type": "stream",
     "text": [
      "      Name  Age\n",
      "0    Vijay   23\n",
      "1   Sundar   25\n",
      "2  Shankar   26\n"
     ]
    }
   ],
   "source": [
    "# Pandas DataFrame by lists of dicts.\n",
    "# Initialise data to lists.\n",
    "data1 =[{'Name': 'Vijay', 'Age': 23},\n",
    " {'Name': 'Sundar', 'Age': 25},\n",
    " {'Name': 'Shankar', 'Age': 26}]\n",
    "# Creates DataFrame.\n",
    "df1 = pd.DataFrame(data1)\n",
    "# Header of dataframe\n",
    "print(df1.head())"
   ]
  },
  {
   "cell_type": "code",
   "execution_count": 11,
   "id": "404a8bba",
   "metadata": {},
   "outputs": [
    {
     "name": "stdout",
     "output_type": "stream",
     "text": [
      "[('Vijay', 23), ('Sundar', 45), ('Satyam', 46), ('Indira', 52)]\n"
     ]
    }
   ],
   "source": [
    "# Creating DataFrame using list of tuples.\n",
    "data2 = [('Vijay', 23), ('Sundar', 45), ('Satyam', 46), ('Indira', 52)]\n",
    "print(data2)"
   ]
  },
  {
   "cell_type": "code",
   "execution_count": 26,
   "id": "c6fa94f7",
   "metadata": {},
   "outputs": [
    {
     "name": "stdout",
     "output_type": "stream",
     "text": [
      "     Name  Age\n",
      "0   Vijay   23\n",
      "1  Sundar   45\n",
      "2  Satyam   46\n",
      "3  Indira   52\n"
     ]
    }
   ],
   "source": [
    "# Creating DataFrame using list of tuples.\n",
    "data2 = [('Vijay', 23), ('Sundar', 45), ('Satyam', 46), ('Indira', 52)]\n",
    "# Create dataframe\n",
    "df2 = pd.DataFrame(data2, columns=['Name', 'Age'])\n",
    "# Header of dataframe\n",
    "print(df2.head())"
   ]
  },
  {
   "cell_type": "markdown",
   "id": "b0bec14f",
   "metadata": {},
   "source": [
    "## Understanding pandas Series"
   ]
  },
  {
   "cell_type": "code",
   "execution_count": 31,
   "id": "919e45d3",
   "metadata": {},
   "outputs": [
    {
     "name": "stdout",
     "output_type": "stream",
     "text": [
      "0     Ajay\n",
      "1      Jay\n",
      "2    Vijay\n",
      "dtype: object\n"
     ]
    }
   ],
   "source": [
    "# Creating Pandas Series using Dictionary\n",
    "dict1 = {0: 'Ajay', 1: 'Jay', 2: 'Vijay'}\n",
    "#print(dict1)\n",
    "#series = pd.Series(data=dict1, index=[0, 1, 2])\n",
    "series = pd.Series(data=dict1)\n",
    "print(series)"
   ]
  },
  {
   "cell_type": "markdown",
   "id": "af3ffbad",
   "metadata": {},
   "source": [
    "# Using a NumPy array: Create a NumPy array object and pass it to the Series object"
   ]
  },
  {
   "cell_type": "code",
   "execution_count": 36,
   "id": "09f03dc6",
   "metadata": {},
   "outputs": [
    {
     "name": "stdout",
     "output_type": "stream",
     "text": [
      "[51 65 48 59 68]\n",
      "0    51\n",
      "1    65\n",
      "2    48\n",
      "3    59\n",
      "4    68\n",
      "dtype: int32\n"
     ]
    }
   ],
   "source": [
    "#Load Pandas and NumPy libraries\n",
    "import pandas as pd\n",
    "import numpy as np\n",
    "# Create NumPy array\n",
    "arr = np.array([51, 65, 48, 59, 68], dtype=np.int32)\n",
    "print(arr)\n",
    "# Create Pandas Series\n",
    "series = pd.Series(data=arr)\n",
    "print(series)"
   ]
  },
  {
   "cell_type": "markdown",
   "id": "641fde1e",
   "metadata": {},
   "source": [
    "## Using a single scalar value: To create a pandas Series with a scalar value, pass the scalar value and index list to a Series object"
   ]
  },
  {
   "cell_type": "code",
   "execution_count": 48,
   "id": "a91394a0",
   "metadata": {},
   "outputs": [
    {
     "name": "stdout",
     "output_type": "stream",
     "text": [
      "0    10\n",
      "1    10\n",
      "2    10\n",
      "3    10\n",
      "4    10\n",
      "5    10\n",
      "dtype: int64\n"
     ]
    }
   ],
   "source": [
    "#Load Pandas and NumPy libraries\n",
    "import pandas as pd\n",
    "import numpy as np\n",
    "# Create Pandas Series\n",
    "series = pd.Series(data=10, index=np.arange(6))\n",
    "print(series)"
   ]
  },
  {
   "cell_type": "code",
   "execution_count": 49,
   "id": "f9e9b69f-85b8-44ac-bd5c-2a90b47250eb",
   "metadata": {},
   "outputs": [
    {
     "name": "stdout",
     "output_type": "stream",
     "text": [
      "0    10\n",
      "1    10\n",
      "2    10\n",
      "3    10\n",
      "4    10\n",
      "5    10\n",
      "dtype: int64\n"
     ]
    }
   ],
   "source": [
    "#Load Pandas and NumPy libraries\n",
    "import pandas as pd\n",
    "import numpy as np\n",
    "# Create Pandas Series\n",
    "series = pd.Series(data=10, index=range(6))\n",
    "print(series)"
   ]
  },
  {
   "cell_type": "code",
   "execution_count": null,
   "id": "235d2252-8a0c-46e0-962c-3a826c3d2214",
   "metadata": {},
   "outputs": [],
   "source": []
  }
 ],
 "metadata": {
  "kernelspec": {
   "display_name": "Python 3",
   "language": "python",
   "name": "python3"
  },
  "language_info": {
   "codemirror_mode": {
    "name": "ipython",
    "version": 3
   },
   "file_extension": ".py",
   "mimetype": "text/x-python",
   "name": "python",
   "nbconvert_exporter": "python",
   "pygments_lexer": "ipython3",
   "version": "3.8.8"
  }
 },
 "nbformat": 4,
 "nbformat_minor": 5
}
