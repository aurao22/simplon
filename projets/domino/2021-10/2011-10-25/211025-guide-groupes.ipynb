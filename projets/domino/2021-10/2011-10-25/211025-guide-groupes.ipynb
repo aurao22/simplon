{
 "cells": [
  {
   "cell_type": "markdown",
   "metadata": {
    "colab_type": "text",
    "id": "x3QNkfCzqr8m"
   },
   "source": [
    "\n",
    "# Génération de groupes\n",
    "Le but est de générer des groupes de taille déterminée\n",
    "\n",
    "## Etapes de la compréhension du problème"
   ]
  },
  {
   "cell_type": "code",
   "execution_count": 1,
   "metadata": {
    "colab": {},
    "colab_type": "code",
    "id": "J8CWMFYyqr8p",
    "outputId": "653da719-a34f-4a55-eacb-a090dda80be3"
   },
   "outputs": [
    {
     "name": "stdout",
     "output_type": "stream",
     "text": [
      "['tata', 'tete', 'titi', 'toto']\n"
     ]
    }
   ],
   "source": [
    "# Définition d'une liste de chaînes de caractères\n",
    "liste = ['tata', 'tete', 'titi', 'toto']\n",
    "\n",
    "# Affichage de la liste\n",
    "print(liste)"
   ]
  },
  {
   "cell_type": "code",
   "execution_count": 2,
   "metadata": {
    "colab": {},
    "colab_type": "code",
    "id": "zxXW_PZ7qr8u",
    "outputId": "ee56d9a9-c900-450a-c6ab-db8ea6b810a6"
   },
   "outputs": [
    {
     "name": "stdout",
     "output_type": "stream",
     "text": [
      "tata\n",
      "tete\n",
      "titi\n",
      "toto\n"
     ]
    }
   ],
   "source": [
    "# Affichage des éléments de la liste\n",
    "for element in liste:\n",
    "    print(element)"
   ]
  },
  {
   "cell_type": "code",
   "execution_count": 3,
   "metadata": {
    "colab": {},
    "colab_type": "code",
    "id": "6Qm8zdSvqr8x",
    "outputId": "409dbdcf-3a30-42d1-f6cd-479df161a37d"
   },
   "outputs": [
    {
     "name": "stdout",
     "output_type": "stream",
     "text": [
      "4\n"
     ]
    }
   ],
   "source": [
    "# Nombre d'élément dans une liste\n",
    "longueur_liste = len(liste)\n",
    "print(longueur_liste)"
   ]
  },
  {
   "cell_type": "code",
   "execution_count": 5,
   "metadata": {
    "colab": {},
    "colab_type": "code",
    "id": "aOPTtH85qr82",
    "outputId": "a087a81b-7607-4cf2-cac4-3f6df2224e0e"
   },
   "outputs": [
    {
     "name": "stdout",
     "output_type": "stream",
     "text": [
      "['toto', 'toto']\n",
      "['toto', 'tata']\n",
      "['tata', 'titi']\n",
      "['toto', 'titi']\n",
      "['tata', 'tata']\n",
      "['titi', 'tata']\n",
      "['titi', 'titi']\n",
      "['toto', 'tete']\n",
      "['toto', 'titi']\n",
      "['tata', 'tata']\n"
     ]
    }
   ],
   "source": [
    "# Recherche sur la documentation de random()\n",
    "# random.choices(population, weights=None, *, cum_weights=None, k=1)\n",
    "from random import choices\n",
    "# premier test pour voir le fonctionnement\n",
    "for i in range(10):\n",
    "    print(choices(liste, k=2))"
   ]
  },
  {
   "cell_type": "markdown",
   "metadata": {
    "colab_type": "text",
    "id": "MNwXrkEEqr81"
   },
   "source": [
    "Documentation sur la fonction random : https://docs.python.org/fr/3.7/library/random.html"
   ]
  },
  {
   "cell_type": "markdown",
   "metadata": {
    "colab_type": "text",
    "id": "fgKcnBmcqr85"
   },
   "source": [
    "On voit que de temps en temps la même personne est choisie 2 fois: `['toto', 'toto']`"
   ]
  },
  {
   "cell_type": "markdown",
   "metadata": {
    "colab_type": "text",
    "id": "SvcZFhXDqr86"
   },
   "source": [
    "Test d'une autre méthode qui semble plus adaptée"
   ]
  },
  {
   "cell_type": "code",
   "execution_count": null,
   "metadata": {
    "colab": {},
    "colab_type": "code",
    "id": "oj9jb0MMqr87",
    "outputId": "3d6a2d92-4c70-4b64-aded-dc1a6b413143"
   },
   "outputs": [
    {
     "name": "stdout",
     "output_type": "stream",
     "text": [
      "['tete', 'toto']\n",
      "['tete', 'toto']\n",
      "['tete', 'tata']\n",
      "['toto', 'tata']\n",
      "['titi', 'tete']\n"
     ]
    }
   ],
   "source": [
    "from random import sample\n",
    "for i in range(5):\n",
    "    print(sample(liste,2))"
   ]
  },
  {
   "cell_type": "markdown",
   "metadata": {
    "colab_type": "text",
    "id": "OvpyrikLqr8-"
   },
   "source": [
    "L'idée est de faire une première sélection au hasard, puis de retirer les éléments de la liste et de refaire une nouvelle selection au hasard sur les éléments restants. Comme on suppose que les éléments de la liste sont uniques (ce qui semble logique pour des personnes) on va devoir chercher les indices des éléments sélectionnés."
   ]
  },
  {
   "cell_type": "code",
   "execution_count": null,
   "metadata": {
    "colab": {},
    "colab_type": "code",
    "id": "v4cDfojRqr8_",
    "outputId": "661586f6-9acf-4b1d-c8ae-47ed41429bb1"
   },
   "outputs": [
    {
     "data": {
      "text/plain": [
       "0"
      ]
     },
     "execution_count": 18,
     "metadata": {
      "tags": []
     },
     "output_type": "execute_result"
    }
   ],
   "source": [
    "liste.index('tata')"
   ]
  },
  {
   "cell_type": "markdown",
   "metadata": {
    "colab_type": "text",
    "id": "bkkCEDN-qr9C"
   },
   "source": [
    "Suppression d'un élément d'une liste:"
   ]
  },
  {
   "cell_type": "code",
   "execution_count": null,
   "metadata": {
    "colab": {},
    "colab_type": "code",
    "id": "U69MWNeuqr9D",
    "outputId": "49e2b7ba-85c7-4f08-8502-1fedfa46eea8"
   },
   "outputs": [
    {
     "data": {
      "text/plain": [
       "['tete', 'titi', 'toto']"
      ]
     },
     "execution_count": 19,
     "metadata": {
      "tags": []
     },
     "output_type": "execute_result"
    }
   ],
   "source": [
    "liste.remove('tata')\n",
    "liste # sous jupyter on peut afficher une variable en spécifiant seulement son nom"
   ]
  },
  {
   "cell_type": "markdown",
   "metadata": {
    "colab_type": "text",
    "id": "6boPYByFqr9F"
   },
   "source": [
    "Quelques boucles bien placées devraient vous permettre de résoudre le problème de la création de groupe (sans prendre en compte le genre dans un premier temps). Il est possible que la taille du groupe initial ne soit pas divisible par le nombre de groupes souhaités. Il y aura dans ce cas un groupe avec moins d'éléments."
   ]
  },
  {
   "cell_type": "markdown",
   "metadata": {
    "colab": {},
    "colab_type": "code",
    "id": "KiQxmamiqr9G"
   },
   "source": [
    "A vous de voir comment vous feriez. Il y a peut être de meilleures pistes à explorer ;)"
   ]
  },
  {
   "cell_type": "code",
   "execution_count": null,
   "metadata": {},
   "outputs": [],
   "source": []
  }
 ],
 "metadata": {
  "colab": {
   "name": "03-guide-groupes.ipynb",
   "provenance": []
  },
  "kernelspec": {
   "display_name": "Python 3",
   "language": "python",
   "name": "python3"
  },
  "language_info": {
   "codemirror_mode": {
    "name": "ipython",
    "version": 3
   },
   "file_extension": ".py",
   "mimetype": "text/x-python",
   "name": "python",
   "nbconvert_exporter": "python",
   "pygments_lexer": "ipython3",
   "version": "3.7.4"
  }
 },
 "nbformat": 4,
 "nbformat_minor": 4
}
