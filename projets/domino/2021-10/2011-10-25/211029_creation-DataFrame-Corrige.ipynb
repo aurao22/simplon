{
 "cells": [
  {
   "cell_type": "code",
   "execution_count": 280,
   "metadata": {},
   "outputs": [],
   "source": [
    "import pandas as pd\n",
    "import numpy as np"
   ]
  },
  {
   "cell_type": "markdown",
   "metadata": {},
   "source": [
    "## Énoncé\n",
    "En tant que Data Scientist vous venez de décrocher une mission avec une plateforme d'éducation en ligne leader sur le marché européen, vous allez bientôt signer le contrat et vous consacrer au sujet pour les deux prochaines semaines.\n",
    "\n",
    "Ce leader de l'EdTech voit grand, ayant une forte implantation en France et en Europe, les dirigeants souhaitent également se développer sur le territoire américain qui regorge d'opportunités pour la formation en ligne, de par la taille de la population et des besoins liés aux métiers du numérique. L'entreprise souhaite démarrer son implantation aux USA en sélectionnant les territoires géographiques les plus prometteurs afin de lancer des campagnes publicitaires ciblées.\n",
    "\n",
    "## Mission\n",
    "Pour cette mission, on vous demande de déterminer la liste des villes prioritaires en vous basant sur des données récoltées par l'administration et disponibles en open-data. Votre objectif est de **fournir des résultats impactants** afin de guider Lesley en charge du développement pour la région Amérique du Nord.\n",
    "\n",
    "Pour ce travail, votre client a identifié [une source de données](https://data.ed.gov/dataset/college-scorecard-all-data-files-through-6-2020/resources?resource=658b5b83-ac9f-4e41-913e-9ba9411d7967) intéressante et a déjà initié une sélection de variables, à vous de compléter l'étude."
   ]
  },
  {
   "cell_type": "markdown",
   "metadata": {},
   "source": [
    "# Exercice\n",
    "## Partie 1 - Inspection des données \n",
    "<img src='./oc_logo.png' width=15px /> Chargez le fichier `edtech_market_study_usa.csv` à l'aide de Pandas. Stockez le résultat du chargement dans la variable `df`.\n",
    "\n",
    "Les colonnes du fichier sont uniquement séparées par des virgules."
   ]
  },
  {
   "cell_type": "code",
   "execution_count": 281,
   "metadata": {},
   "outputs": [],
   "source": [
    "df = pd.read_csv('edtech_market_study_usa.csv', sep=',')"
   ]
  },
  {
   "cell_type": "markdown",
   "metadata": {},
   "source": [
    " "
   ]
  },
  {
   "cell_type": "markdown",
   "metadata": {},
   "source": [
    "<img src='./oc_logo.png' width=15px /> Pouvez-vous afficher les 5 premières lignes du dataframe pour vérifier que les données sont bien chargées ?"
   ]
  },
  {
   "cell_type": "code",
   "execution_count": 282,
   "metadata": {},
   "outputs": [
    {
     "data": {
      "text/html": [
       "<div>\n",
       "<style scoped>\n",
       "    .dataframe tbody tr th:only-of-type {\n",
       "        vertical-align: middle;\n",
       "    }\n",
       "\n",
       "    .dataframe tbody tr th {\n",
       "        vertical-align: top;\n",
       "    }\n",
       "\n",
       "    .dataframe thead th {\n",
       "        text-align: right;\n",
       "    }\n",
       "</style>\n",
       "<table border=\"1\" class=\"dataframe\">\n",
       "  <thead>\n",
       "    <tr style=\"text-align: right;\">\n",
       "      <th></th>\n",
       "      <th>ID</th>\n",
       "      <th>NOM</th>\n",
       "      <th>VILLE</th>\n",
       "      <th>ETAT</th>\n",
       "      <th>LATITUDE</th>\n",
       "      <th>LONGITUDE</th>\n",
       "      <th>A_DISTANCE_SEULEMENT</th>\n",
       "      <th>NOMBRE_ETUDIANTS</th>\n",
       "      <th>AGE_ENTREE</th>\n",
       "      <th>COUT_MOYEN_ANNEE_ACADEMIE</th>\n",
       "      <th>TAUX_ADMISSION</th>\n",
       "      <th>DEFAUT_PAIEMENT_2ANNEES</th>\n",
       "      <th>DEFAUT_PAIEMENT_3ANNEES</th>\n",
       "    </tr>\n",
       "  </thead>\n",
       "  <tbody>\n",
       "    <tr>\n",
       "      <th>0</th>\n",
       "      <td>100200</td>\n",
       "      <td>Alabama A &amp; M University</td>\n",
       "      <td>Normal</td>\n",
       "      <td>AL</td>\n",
       "      <td>34.783368</td>\n",
       "      <td>-86.568502</td>\n",
       "      <td>0.0</td>\n",
       "      <td>1368</td>\n",
       "      <td>20.283741368</td>\n",
       "      <td>22489.0</td>\n",
       "      <td>0.8986</td>\n",
       "      <td>0.114</td>\n",
       "      <td>0.182</td>\n",
       "    </tr>\n",
       "    <tr>\n",
       "      <th>1</th>\n",
       "      <td>105200</td>\n",
       "      <td>University of Alabama at Birmingham</td>\n",
       "      <td>Birmingham</td>\n",
       "      <td>AL</td>\n",
       "      <td>33.505697</td>\n",
       "      <td>-86.799345</td>\n",
       "      <td>0.0</td>\n",
       "      <td>2730</td>\n",
       "      <td>23.60797466</td>\n",
       "      <td>24347.0</td>\n",
       "      <td>0.9211</td>\n",
       "      <td>0.060</td>\n",
       "      <td>0.057</td>\n",
       "    </tr>\n",
       "    <tr>\n",
       "      <th>2</th>\n",
       "      <td>2503400</td>\n",
       "      <td>Amridge University</td>\n",
       "      <td>Montgomery</td>\n",
       "      <td>AL</td>\n",
       "      <td>32.362609</td>\n",
       "      <td>-86.174010</td>\n",
       "      <td>1.0</td>\n",
       "      <td>135</td>\n",
       "      <td>33.672297297</td>\n",
       "      <td>17680.0</td>\n",
       "      <td>NaN</td>\n",
       "      <td>0.071</td>\n",
       "      <td>0.110</td>\n",
       "    </tr>\n",
       "    <tr>\n",
       "      <th>3</th>\n",
       "      <td>105500</td>\n",
       "      <td>University of Alabama in Huntsville</td>\n",
       "      <td>Huntsville</td>\n",
       "      <td>AL</td>\n",
       "      <td>34.724557</td>\n",
       "      <td>-86.640449</td>\n",
       "      <td>0.0</td>\n",
       "      <td>1175</td>\n",
       "      <td>22.727919632</td>\n",
       "      <td>23441.0</td>\n",
       "      <td>0.8087</td>\n",
       "      <td>0.077</td>\n",
       "      <td>0.059</td>\n",
       "    </tr>\n",
       "    <tr>\n",
       "      <th>4</th>\n",
       "      <td>100500</td>\n",
       "      <td>Alabama State University</td>\n",
       "      <td>Montgomery</td>\n",
       "      <td>AL</td>\n",
       "      <td>32.364317</td>\n",
       "      <td>-86.295677</td>\n",
       "      <td>0.0</td>\n",
       "      <td>1281</td>\n",
       "      <td>20.130990415</td>\n",
       "      <td>21476.0</td>\n",
       "      <td>0.9774</td>\n",
       "      <td>0.132</td>\n",
       "      <td>0.203</td>\n",
       "    </tr>\n",
       "  </tbody>\n",
       "</table>\n",
       "</div>"
      ],
      "text/plain": [
       "        ID                                  NOM       VILLE ETAT   LATITUDE  \\\n",
       "0   100200             Alabama A & M University      Normal   AL  34.783368   \n",
       "1   105200  University of Alabama at Birmingham  Birmingham   AL  33.505697   \n",
       "2  2503400                   Amridge University  Montgomery   AL  32.362609   \n",
       "3   105500  University of Alabama in Huntsville  Huntsville   AL  34.724557   \n",
       "4   100500             Alabama State University  Montgomery   AL  32.364317   \n",
       "\n",
       "   LONGITUDE  A_DISTANCE_SEULEMENT NOMBRE_ETUDIANTS    AGE_ENTREE  \\\n",
       "0 -86.568502                   0.0             1368  20.283741368   \n",
       "1 -86.799345                   0.0             2730   23.60797466   \n",
       "2 -86.174010                   1.0              135  33.672297297   \n",
       "3 -86.640449                   0.0             1175  22.727919632   \n",
       "4 -86.295677                   0.0             1281  20.130990415   \n",
       "\n",
       "   COUT_MOYEN_ANNEE_ACADEMIE  TAUX_ADMISSION  DEFAUT_PAIEMENT_2ANNEES  \\\n",
       "0                    22489.0          0.8986                    0.114   \n",
       "1                    24347.0          0.9211                    0.060   \n",
       "2                    17680.0             NaN                    0.071   \n",
       "3                    23441.0          0.8087                    0.077   \n",
       "4                    21476.0          0.9774                    0.132   \n",
       "\n",
       "   DEFAUT_PAIEMENT_3ANNEES  \n",
       "0                    0.182  \n",
       "1                    0.057  \n",
       "2                    0.110  \n",
       "3                    0.059  \n",
       "4                    0.203  "
      ]
     },
     "execution_count": 282,
     "metadata": {},
     "output_type": "execute_result"
    }
   ],
   "source": [
    "df.head(5)"
   ]
  },
  {
   "cell_type": "code",
   "execution_count": 283,
   "metadata": {},
   "outputs": [
    {
     "data": {
      "text/plain": [
       "2.0"
      ]
     },
     "execution_count": 283,
     "metadata": {},
     "output_type": "execute_result"
    }
   ],
   "source": [
    "#df.loc[df['ETAT']=='AL','A_DISTANCE_SEULEMENT'].count()\n",
    "df.loc[df['ETAT']=='AL','A_DISTANCE_SEULEMENT'].sum()"
   ]
  },
  {
   "cell_type": "markdown",
   "metadata": {},
   "source": [
    " "
   ]
  },
  {
   "cell_type": "markdown",
   "metadata": {},
   "source": [
    "<img src='./oc_logo.png' width=15px /> Combien de lignes et colonnes sont contenues dans `df` ?"
   ]
  },
  {
   "cell_type": "code",
   "execution_count": 284,
   "metadata": {},
   "outputs": [
    {
     "data": {
      "text/plain": [
       "(6806, 13)"
      ]
     },
     "execution_count": 284,
     "metadata": {},
     "output_type": "execute_result"
    }
   ],
   "source": [
    "df.shape"
   ]
  },
  {
   "cell_type": "markdown",
   "metadata": {},
   "source": [
    " "
   ]
  },
  {
   "cell_type": "markdown",
   "metadata": {},
   "source": [
    "<img src='./oc_logo.png' width=15px /> Affichez le type des colonnes"
   ]
  },
  {
   "cell_type": "code",
   "execution_count": 285,
   "metadata": {},
   "outputs": [
    {
     "data": {
      "text/plain": [
       "ID                             int64\n",
       "NOM                           object\n",
       "VILLE                         object\n",
       "ETAT                          object\n",
       "LATITUDE                     float64\n",
       "LONGITUDE                    float64\n",
       "A_DISTANCE_SEULEMENT         float64\n",
       "NOMBRE_ETUDIANTS              object\n",
       "AGE_ENTREE                    object\n",
       "COUT_MOYEN_ANNEE_ACADEMIE    float64\n",
       "TAUX_ADMISSION               float64\n",
       "DEFAUT_PAIEMENT_2ANNEES      float64\n",
       "DEFAUT_PAIEMENT_3ANNEES      float64\n",
       "dtype: object"
      ]
     },
     "execution_count": 285,
     "metadata": {},
     "output_type": "execute_result"
    }
   ],
   "source": [
    "df.dtypes"
   ]
  },
  {
   "cell_type": "code",
   "execution_count": 286,
   "metadata": {},
   "outputs": [
    {
     "data": {
      "text/plain": [
       "0                    1368\n",
       "1                    2730\n",
       "2                     135\n",
       "3                    1175\n",
       "4                    1281\n",
       "              ...        \n",
       "6801                  NaN\n",
       "6802                  NaN\n",
       "6803                  NaN\n",
       "6804    PrivacySuppressed\n",
       "6805                  NaN\n",
       "Name: NOMBRE_ETUDIANTS, Length: 6806, dtype: object"
      ]
     },
     "execution_count": 286,
     "metadata": {},
     "output_type": "execute_result"
    }
   ],
   "source": [
    "df['NOMBRE_ETUDIANTS']"
   ]
  },
  {
   "cell_type": "markdown",
   "metadata": {},
   "source": [
    " "
   ]
  },
  {
   "cell_type": "markdown",
   "metadata": {},
   "source": [
    "<img src='./oc_logo.png' width=15px /> Les deux colonnes `NOMBRE_ETUDIANTS` et `AGE_ENTREE` ne sont pas bien typées, corrigez cela."
   ]
  },
  {
   "cell_type": "code",
   "execution_count": 287,
   "metadata": {},
   "outputs": [],
   "source": [
    "# la colonne contient une valeur string ce qui empêche la conversion en entier\n",
    "df.loc[df['NOMBRE_ETUDIANTS'] == 'PrivacySuppressed', 'NOMBRE_ETUDIANTS'] = np.nan\n",
    "# la colonne contient une valeur string ce qui empêche la conversion en entier\n",
    "df.loc[df['AGE_ENTREE'] == 'PrivacySuppressed', 'AGE_ENTREE'] = np.nan\n",
    "df['NOMBRE_ETUDIANTS'] = pd.to_numeric(df['NOMBRE_ETUDIANTS'])\n",
    "df['AGE_ENTREE'] = pd.to_numeric(df['AGE_ENTREE'])"
   ]
  },
  {
   "cell_type": "markdown",
   "metadata": {},
   "source": [
    " "
   ]
  },
  {
   "cell_type": "markdown",
   "metadata": {},
   "source": [
    "<img src='./oc_logo.png' width=15px /> Existe-t-il des valeurs manquantes dans ce jeu de données ?"
   ]
  },
  {
   "cell_type": "code",
   "execution_count": 288,
   "metadata": {},
   "outputs": [
    {
     "data": {
      "text/plain": [
       "ID                           0.000000\n",
       "NOM                          0.000000\n",
       "VILLE                        0.000000\n",
       "ETAT                         0.000000\n",
       "LATITUDE                     0.069791\n",
       "LONGITUDE                    0.069791\n",
       "A_DISTANCE_SEULEMENT         0.069791\n",
       "NOMBRE_ETUDIANTS             0.109756\n",
       "AGE_ENTREE                   0.091978\n",
       "COUT_MOYEN_ANNEE_ACADEMIE    0.495886\n",
       "TAUX_ADMISSION               0.705260\n",
       "DEFAUT_PAIEMENT_2ANNEES      0.190420\n",
       "DEFAUT_PAIEMENT_3ANNEES      0.136203\n",
       "dtype: float64"
      ]
     },
     "execution_count": 288,
     "metadata": {},
     "output_type": "execute_result"
    }
   ],
   "source": [
    "df.isna().sum()/df.shape[0]\n",
    "# ou \n",
    "df.isna().any()\n",
    "# ou mieux\n",
    "df.isna().mean()"
   ]
  },
  {
   "cell_type": "markdown",
   "metadata": {},
   "source": [
    " "
   ]
  },
  {
   "cell_type": "markdown",
   "metadata": {},
   "source": [
    "<img src='./oc_logo.png' width=15px /> Vérifions s'il existe des doublons pour la variable ID qui est un identifiant unique"
   ]
  },
  {
   "cell_type": "code",
   "execution_count": 289,
   "metadata": {},
   "outputs": [
    {
     "data": {
      "text/plain": [
       "30"
      ]
     },
     "execution_count": 289,
     "metadata": {},
     "output_type": "execute_result"
    }
   ],
   "source": [
    "df.duplicated('ID').sum()"
   ]
  },
  {
   "cell_type": "markdown",
   "metadata": {},
   "source": [
    " "
   ]
  },
  {
   "cell_type": "markdown",
   "metadata": {},
   "source": [
    "<img src='./oc_logo.png' width=15px /> Nous allons maintenant nous débarrasser des duplicatas en supprimant la version la moins bien renseignée"
   ]
  },
  {
   "cell_type": "code",
   "execution_count": 290,
   "metadata": {},
   "outputs": [],
   "source": [
    "# on compte le nombre de valeurs manquantes pour la ligne et on stocke dans une nouvelle colonne\n",
    "df['NB_NAN'] = df.isna().sum(axis=1)\n",
    "# trie des lignes en fonction du nombre de valeurs manquantes\n",
    "df = df.sort_values('NB_NAN')\n",
    "# suppression des duplicatas en gardant les versions les mieux remplies\n",
    "df = df.drop_duplicates('ID', keep='first')\n",
    "# on supprime la colonne qui n'est plus utile\n",
    "df = df.drop('NB_NAN', axis=1)"
   ]
  },
  {
   "cell_type": "markdown",
   "metadata": {},
   "source": [
    "## Partie 2 - Exploration \n",
    "\n",
    "<img src='./oc_logo.png' width=15px /> Combien d'établissements sont représentés dans ce fichier ?"
   ]
  },
  {
   "cell_type": "code",
   "execution_count": 291,
   "metadata": {},
   "outputs": [
    {
     "data": {
      "text/plain": [
       "6776"
      ]
     },
     "execution_count": 291,
     "metadata": {},
     "output_type": "execute_result"
    }
   ],
   "source": [
    "df['ID'].count()"
   ]
  },
  {
   "cell_type": "markdown",
   "metadata": {},
   "source": [
    " "
   ]
  },
  {
   "cell_type": "markdown",
   "metadata": {},
   "source": [
    "<img src='./oc_logo.png' width=15px /> On souhaite savoir si la couverture des états est représentative, à savoir si le nombre d'établissements est significatif. **Donnez le nombre d'établissements par état**."
   ]
  },
  {
   "cell_type": "code",
   "execution_count": 292,
   "metadata": {},
   "outputs": [
    {
     "data": {
      "text/plain": [
       "ETAT\n",
       "AK      9\n",
       "AL     85\n",
       "AR     92\n",
       "AS      1\n",
       "AZ    117\n",
       "CA    701\n",
       "CO    109\n",
       "CT     80\n",
       "DC     22\n",
       "DE     21\n",
       "FL    383\n",
       "FM      1\n",
       "GA    176\n",
       "GU      3\n",
       "HI     23\n",
       "IA     86\n",
       "ID     38\n",
       "IL    263\n",
       "IN    135\n",
       "KS     80\n",
       "KY     94\n",
       "LA    125\n",
       "MA    161\n",
       "MD     87\n",
       "ME     40\n",
       "MH      1\n",
       "MI    191\n",
       "MN    117\n",
       "MO    162\n",
       "MP      1\n",
       "MS     60\n",
       "MT     33\n",
       "NC    183\n",
       "ND     28\n",
       "NE     46\n",
       "NH     38\n",
       "NJ    167\n",
       "NM     49\n",
       "NV     39\n",
       "NY    449\n",
       "OH    298\n",
       "OK    110\n",
       "OR     77\n",
       "PA    356\n",
       "PR    142\n",
       "PW      1\n",
       "RI     23\n",
       "SC     99\n",
       "SD     29\n",
       "TN    159\n",
       "TX    433\n",
       "UT     72\n",
       "VA    166\n",
       "VI      2\n",
       "VT     25\n",
       "WA    106\n",
       "WI     98\n",
       "WV     74\n",
       "WY     10\n",
       "Name: ID, dtype: int64"
      ]
     },
     "execution_count": 292,
     "metadata": {},
     "output_type": "execute_result"
    }
   ],
   "source": [
    "df.groupby('ETAT')['ID'].count()"
   ]
  },
  {
   "cell_type": "markdown",
   "metadata": {},
   "source": [
    " "
   ]
  },
  {
   "cell_type": "markdown",
   "metadata": {},
   "source": [
    "<img src='./oc_logo.png' width=15px /> Suite aux résultats de la question précédente, pensez-vous qu'il est normal que certains états possèdent si peu d'établissements ? Voici [un lien intéressant](https://www.factmonster.com/us/postal-information/state-abbreviations-and-state-postal-codes). \n",
    "\n",
    "Identifiez les états avec moins de 5 établissements éducatifs."
   ]
  },
  {
   "cell_type": "code",
   "execution_count": 293,
   "metadata": {},
   "outputs": [],
   "source": [
    "nb_etab_par_etat = df.groupby('ETAT')['ID'].count()"
   ]
  },
  {
   "cell_type": "code",
   "execution_count": 294,
   "metadata": {},
   "outputs": [],
   "source": [
    "#nb_etab_par_etat"
   ]
  },
  {
   "cell_type": "code",
   "execution_count": 295,
   "metadata": {},
   "outputs": [],
   "source": [
    "etats_a_sup = nb_etab_par_etat[nb_etab_par_etat <= 5].index"
   ]
  },
  {
   "cell_type": "markdown",
   "metadata": {},
   "source": [
    " "
   ]
  },
  {
   "cell_type": "markdown",
   "metadata": {},
   "source": [
    "<img src='./oc_logo.png' width=15px /> Supprimez les établissements situés dans ces états, nos résultats risquent de ne pas être assez représentatifs si on les exploite."
   ]
  },
  {
   "cell_type": "code",
   "execution_count": 296,
   "metadata": {},
   "outputs": [],
   "source": [
    "df = df[~df['ETAT'].isin(etats_a_sup)]"
   ]
  },
  {
   "cell_type": "code",
   "execution_count": 297,
   "metadata": {},
   "outputs": [
    {
     "data": {
      "text/plain": [
       "(6766, 13)"
      ]
     },
     "execution_count": 297,
     "metadata": {},
     "output_type": "execute_result"
    }
   ],
   "source": [
    "df.shape"
   ]
  },
  {
   "cell_type": "code",
   "execution_count": 298,
   "metadata": {},
   "outputs": [
    {
     "data": {
      "text/plain": [
       "ETAT\n",
       "CA    9.0\n",
       "AZ    4.0\n",
       "WV    3.0\n",
       "CO    3.0\n",
       "IN    3.0\n",
       "MO    2.0\n",
       "MN    2.0\n",
       "AL    2.0\n",
       "UT    2.0\n",
       "NY    1.0\n",
       "NC    1.0\n",
       "PR    1.0\n",
       "TN    1.0\n",
       "MA    1.0\n",
       "TX    1.0\n",
       "KY    1.0\n",
       "KS    1.0\n",
       "OR    1.0\n",
       "GA    1.0\n",
       "FL    1.0\n",
       "WI    1.0\n",
       "CT    1.0\n",
       "IA    1.0\n",
       "PA    0.0\n",
       "OK    0.0\n",
       "AK    0.0\n",
       "RI    0.0\n",
       "SC    0.0\n",
       "SD    0.0\n",
       "VA    0.0\n",
       "VT    0.0\n",
       "WA    0.0\n",
       "OH    0.0\n",
       "MT    0.0\n",
       "NV    0.0\n",
       "NM    0.0\n",
       "AR    0.0\n",
       "DC    0.0\n",
       "DE    0.0\n",
       "HI    0.0\n",
       "ID    0.0\n",
       "IL    0.0\n",
       "LA    0.0\n",
       "MD    0.0\n",
       "ME    0.0\n",
       "MI    0.0\n",
       "MS    0.0\n",
       "ND    0.0\n",
       "NE    0.0\n",
       "NH    0.0\n",
       "NJ    0.0\n",
       "WY    0.0\n",
       "Name: A_DISTANCE_SEULEMENT, dtype: float64"
      ]
     },
     "execution_count": 298,
     "metadata": {},
     "output_type": "execute_result"
    }
   ],
   "source": [
    "df.groupby('ETAT')['A_DISTANCE_SEULEMENT'].sum().sort_values(ascending=False)"
   ]
  },
  {
   "cell_type": "markdown",
   "metadata": {},
   "source": [
    " "
   ]
  },
  {
   "cell_type": "markdown",
   "metadata": {},
   "source": [
    "<img src='./oc_logo.png' width=15px /> Quels sont les 3 états qui hébergent le plus d'établissements fonctionnant en mode à distance ?"
   ]
  },
  {
   "cell_type": "code",
   "execution_count": 299,
   "metadata": {},
   "outputs": [
    {
     "data": {
      "text/plain": [
       "ETAT\n",
       "CA    9.0\n",
       "AZ    4.0\n",
       "WV    3.0\n",
       "Name: A_DISTANCE_SEULEMENT, dtype: float64"
      ]
     },
     "execution_count": 299,
     "metadata": {},
     "output_type": "execute_result"
    }
   ],
   "source": [
    "df.groupby('ETAT')['A_DISTANCE_SEULEMENT'].sum().sort_values(ascending=False).iloc[:3]"
   ]
  },
  {
   "cell_type": "markdown",
   "metadata": {},
   "source": [
    " "
   ]
  },
  {
   "cell_type": "markdown",
   "metadata": {},
   "source": [
    "<img src='./oc_logo.png' width=15px /> Nous allons exploiter le taux de défaut de paiement de l'établissement pour se renseigner sur le potentiel local d'une formation à coût inférieur. \n",
    "\n",
    "Faites une moyenne des variables `DEFAUT_PAIEMENT_2ANNEES` et `DEFAUT_PAIEMENT_3ANNEES`, stockez le résultat dans une nouvelle colonne `DEFAUT_PAIEMENT`."
   ]
  },
  {
   "cell_type": "code",
   "execution_count": 300,
   "metadata": {},
   "outputs": [],
   "source": [
    "df['DEFAUT_PAIEMENT'] = (df['DEFAUT_PAIEMENT_2ANNEES'] + df['DEFAUT_PAIEMENT_3ANNEES']) / 2"
   ]
  },
  {
   "cell_type": "markdown",
   "metadata": {},
   "source": [
    " "
   ]
  },
  {
   "cell_type": "markdown",
   "metadata": {},
   "source": [
    "<img src='./oc_logo.png' width=15px /> Remplacez les valeurs manquantes de la colonne `DEFAUT_PAIEMENT` par zéro."
   ]
  },
  {
   "cell_type": "code",
   "execution_count": 306,
   "metadata": {},
   "outputs": [],
   "source": [
    "#df['DEFAUT_PAIEMENT'].fillna(0)\n",
    "# ou bien \n",
    "df.loc[df['DEFAUT_PAIEMENT'].isna(), 'DEFAUT_PAIEMENT'] = 0"
   ]
  },
  {
   "cell_type": "markdown",
   "metadata": {},
   "source": [
    " "
   ]
  },
  {
   "cell_type": "markdown",
   "metadata": {},
   "source": [
    "<img src='./oc_logo.png' width=15px /> Il serait intéressant de connaître le nombre d'étudiants potentiels par ville dans le but de cibler prioritairement les plus peuplées, une hypothétique opération publicitaire serait alors plus rentable.\n",
    "\n",
    "Pour retrouver le nombre d'étudiants ayant fait une demande d'inscription, nous allons nous baser sur le nombre d'étudiants acceptés et sur le taux d'admission. \n",
    "\n",
    "Dans un premier temps remplacez les taux d'admission manquants par la valeur médiane de la variable."
   ]
  },
  {
   "cell_type": "code",
   "execution_count": 307,
   "metadata": {},
   "outputs": [],
   "source": [
    "#df['TAUX_ADMISSION'].fillna(df['TAUX_ADMISSION'].median())\n",
    "#ou bien \n",
    "df.loc[df['TAUX_ADMISSION'].isna(), 'TAUX_ADMISSION'] = df['TAUX_ADMISSION'].median()"
   ]
  },
  {
   "cell_type": "markdown",
   "metadata": {},
   "source": [
    " "
   ]
  },
  {
   "cell_type": "markdown",
   "metadata": {},
   "source": [
    "<img src='./oc_logo.png' width=15px /> Supprimez les lignes ayant un taux d'admission nul, cela paraît peu probable."
   ]
  },
  {
   "cell_type": "code",
   "execution_count": 308,
   "metadata": {},
   "outputs": [],
   "source": [
    "df = df[df['TAUX_ADMISSION'] > 0]"
   ]
  },
  {
   "cell_type": "markdown",
   "metadata": {},
   "source": [
    " "
   ]
  },
  {
   "cell_type": "markdown",
   "metadata": {},
   "source": [
    "<img src='./oc_logo.png' width=15px /> Remplacez les valeurs manquantes de la colonne `NOMBRE_ETUDIANTS` en remplaçant par la valeur médiane de la variable."
   ]
  },
  {
   "cell_type": "code",
   "execution_count": 309,
   "metadata": {},
   "outputs": [
    {
     "name": "stderr",
     "output_type": "stream",
     "text": [
      "C:\\Users\\DRIDI\\anaconda3\\lib\\site-packages\\pandas\\core\\indexing.py:1720: SettingWithCopyWarning: \n",
      "A value is trying to be set on a copy of a slice from a DataFrame.\n",
      "Try using .loc[row_indexer,col_indexer] = value instead\n",
      "\n",
      "See the caveats in the documentation: https://pandas.pydata.org/pandas-docs/stable/user_guide/indexing.html#returning-a-view-versus-a-copy\n",
      "  self._setitem_single_column(loc, value, pi)\n"
     ]
    }
   ],
   "source": [
    "#df['NOMBRE_ETUDIANTS'].fillna(df['NOMBRE_ETUDIANTS'].median())\n",
    "#ou bien\n",
    "df.loc[df['NOMBRE_ETUDIANTS'].isna(), 'NOMBRE_ETUDIANTS'] = df['NOMBRE_ETUDIANTS'].median()"
   ]
  },
  {
   "cell_type": "markdown",
   "metadata": {},
   "source": [
    " "
   ]
  },
  {
   "cell_type": "markdown",
   "metadata": {},
   "source": [
    "<img src='./oc_logo.png' width=15px /> À l'aide d'un calcul savant, retrouvez le nombre d'étudiants ayant fait une demande d'inscription."
   ]
  },
  {
   "cell_type": "code",
   "execution_count": 313,
   "metadata": {},
   "outputs": [
    {
     "name": "stderr",
     "output_type": "stream",
     "text": [
      "<ipython-input-313-03ad6b1beada>:2: SettingWithCopyWarning: \n",
      "A value is trying to be set on a copy of a slice from a DataFrame.\n",
      "Try using .loc[row_indexer,col_indexer] = value instead\n",
      "\n",
      "See the caveats in the documentation: https://pandas.pydata.org/pandas-docs/stable/user_guide/indexing.html#returning-a-view-versus-a-copy\n",
      "  df['NOMBRE_ETUDIANTS_DEMANDEURS'] = df['NOMBRE_ETUDIANTS'] / df['TAUX_ADMISSION']\n"
     ]
    }
   ],
   "source": [
    "df['NOMBRE_ETUDIANTS_DEMANDEURS'] = df['NOMBRE_ETUDIANTS'] / df['TAUX_ADMISSION']"
   ]
  },
  {
   "cell_type": "markdown",
   "metadata": {},
   "source": [
    " "
   ]
  },
  {
   "cell_type": "markdown",
   "metadata": {},
   "source": [
    "<img src='./oc_logo.png' width=15px /> Nous utiliserons plus tard la variable `COUT_MOYEN_ANNEE_ACADEMIE`, afin de quantifier le budget éducation des étudiants. Avant cela, il faut remplacer les valeurs manquantes de la variable par la médiane."
   ]
  },
  {
   "cell_type": "code",
   "execution_count": 164,
   "metadata": {},
   "outputs": [],
   "source": [
    "#df['COUT_MOYEN_ANNEE_ACADEMIE'].fillna(df['COUT_MOYEN_ANNEE_ACADEMIE''].median())\n",
    "#ou bien \n",
    "df.loc[df['COUT_MOYEN_ANNEE_ACADEMIE'].isna(), 'COUT_MOYEN_ANNEE_ACADEMIE'] = df['COUT_MOYEN_ANNEE_ACADEMIE'].median()"
   ]
  },
  {
   "cell_type": "markdown",
   "metadata": {},
   "source": [
    " "
   ]
  },
  {
   "cell_type": "markdown",
   "metadata": {},
   "source": [
    " "
   ]
  }
 ],
 "metadata": {
  "kernelspec": {
   "display_name": "Python 3",
   "language": "python",
   "name": "python3"
  },
  "language_info": {
   "codemirror_mode": {
    "name": "ipython",
    "version": 3
   },
   "file_extension": ".py",
   "mimetype": "text/x-python",
   "name": "python",
   "nbconvert_exporter": "python",
   "pygments_lexer": "ipython3",
   "version": "3.8.8"
  }
 },
 "nbformat": 4,
 "nbformat_minor": 4
}
