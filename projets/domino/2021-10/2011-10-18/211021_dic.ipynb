{
 "cells": [
  {
   "cell_type": "code",
   "execution_count": 1,
   "id": "e42af06a",
   "metadata": {},
   "outputs": [],
   "source": [
    "classeur = {'négatifs':[],\n",
    "            'positifs':[]\n",
    "            }"
   ]
  },
  {
   "cell_type": "code",
   "execution_count": null,
   "id": "70fb6b6a",
   "metadata": {},
   "outputs": [],
   "source": [
    "def trier(classeur, valeur):\n",
    "  return classeur\n"
   ]
  },
  {
   "cell_type": "code",
   "execution_count": 2,
   "id": "6b00c000",
   "metadata": {},
   "outputs": [],
   "source": [
    "# Solution \n",
    "def trier (dic, valeur):\n",
    "    if valeur<0:\n",
    "        dic['négatifs'].append(valeur)\n",
    "    else:\n",
    "        dic['positifs'].append(valeur )\n",
    "    return dic"
   ]
  },
  {
   "cell_type": "code",
   "execution_count": null,
   "id": "258fe553",
   "metadata": {},
   "outputs": [],
   "source": [
    "for i in range(5):\n",
    "    val=input(\"Entrer une valeur :\")\n",
    "    trier (classeur,float(val))"
   ]
  },
  {
   "cell_type": "code",
   "execution_count": null,
   "id": "57e3bc11",
   "metadata": {},
   "outputs": [],
   "source": [
    "# Jouter des associationS\n",
    "classeur[\"NAN\"]=\"NAN\""
   ]
  },
  {
   "cell_type": "markdown",
   "id": "507c08ad",
   "metadata": {},
   "source": [
    "Attention : si vous cherchez une clef qui n'existe pas dans un dictionnaire, python vous retourne une erreur. Pour éviter cela, vous pouvez utiliser la méthode **get()**"
   ]
  },
  {
   "cell_type": "code",
   "execution_count": null,
   "id": "583fcae0",
   "metadata": {},
   "outputs": [],
   "source": [
    "classeur.get(\"négatifs\")"
   ]
  },
  {
   "cell_type": "markdown",
   "id": "4237fca6",
   "metadata": {},
   "source": [
    "la méthode **pop()** permet de retirer une clef d'un dictionnaire tout en retournant la valeur associée a la clef."
   ]
  },
  {
   "cell_type": "code",
   "execution_count": null,
   "id": "24de6e73",
   "metadata": {},
   "outputs": [],
   "source": [
    "classeur.pop(\"NAN\")"
   ]
  },
  {
   "cell_type": "markdown",
   "id": "d13246a5",
   "metadata": {},
   "source": [
    "Pour utiliser une boucle for avec un dictionnaire, il est utile d'utiliser la méthode **items()** qui retourne a la fois les clefs et les valeurs"
   ]
  },
  {
   "cell_type": "code",
   "execution_count": null,
   "id": "b1643c6d",
   "metadata": {},
   "outputs": [],
   "source": [
    "classeur.values()"
   ]
  },
  {
   "cell_type": "code",
   "execution_count": null,
   "id": "b41b782f",
   "metadata": {},
   "outputs": [],
   "source": [
    "classeur.keys()"
   ]
  },
  {
   "cell_type": "code",
   "execution_count": null,
   "id": "b6ac5aa5",
   "metadata": {},
   "outputs": [],
   "source": [
    "for key, value in classeur.items():\n",
    "    print(key,value)"
   ]
  }
 ],
 "metadata": {
  "kernelspec": {
   "display_name": "Python 3",
   "language": "python",
   "name": "python3"
  },
  "language_info": {
   "codemirror_mode": {
    "name": "ipython",
    "version": 3
   },
   "file_extension": ".py",
   "mimetype": "text/x-python",
   "name": "python",
   "nbconvert_exporter": "python",
   "pygments_lexer": "ipython3",
   "version": "3.8.8"
  }
 },
 "nbformat": 4,
 "nbformat_minor": 5
}
