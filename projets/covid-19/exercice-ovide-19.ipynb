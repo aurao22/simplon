{
 "cells": [
  {
   "cell_type": "markdown",
   "id": "0897d287",
   "metadata": {},
   "source": [
    "<div style=\"display: flex; background-color: RGB(255,114,0);\" >\n",
    "<h1 style=\"margin: auto; padding: 30px; \">Covid19 </h1>\n",
    "</div>"
   ]
  },
  {
   "cell_type": "markdown",
   "id": "4bc65ac6",
   "metadata": {},
   "source": [
    "# Importation et Exploration des données COVID-19"
   ]
  },
  {
   "cell_type": "code",
   "execution_count": null,
   "id": "09fdace1",
   "metadata": {},
   "outputs": [],
   "source": []
  },
  {
   "cell_type": "markdown",
   "id": "f18b4575",
   "metadata": {},
   "source": [
    "\n",
    "# Affiche l'évolution des cas dans un pays de ton choix (deaths, cases)"
   ]
  },
  {
   "cell_type": "code",
   "execution_count": null,
   "id": "ddef5da4",
   "metadata": {},
   "outputs": [],
   "source": []
  }
 ],
 "metadata": {
  "kernelspec": {
   "display_name": "Python 3",
   "language": "python",
   "name": "python3"
  },
  "language_info": {
   "codemirror_mode": {
    "name": "ipython",
    "version": 3
   },
   "file_extension": ".py",
   "mimetype": "text/x-python",
   "name": "python",
   "nbconvert_exporter": "python",
   "pygments_lexer": "ipython3",
   "version": "3.8.8"
  }
 },
 "nbformat": 4,
 "nbformat_minor": 5
}
