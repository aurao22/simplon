{
 "cells": [
  {
   "cell_type": "markdown",
   "id": "830e9ab5",
   "metadata": {},
   "source": [
    "<div style=\"display: flex; background-color: RGB(255,114,0);\" >\n",
    "<h1 style=\"margin: auto; padding: 30px; \"> Corrélations</h1>\n",
    "<a href=\"https://fr.wikipedia.org/wiki/Corr%C3%A9lation_(statistiques)\" >Link to Wikipedia</a>\n",
    "</div>"
   ]
  },
  {
   "cell_type": "markdown",
   "id": "fa4313cc",
   "metadata": {},
   "source": [
    "### Analyse bivariée\n",
    "\n",
    "Pour étudier la relation entre deux variables, posez toujours la question sur les types de vos variables, est-ce-que ce sont des variables\n",
    "**qualitatives** ou **quantitatives**?\n",
    "<div style=\"color: RGB(255,114,0)\">\n",
    "<h3>3 cas possibles :</h3>\n",
    "- 2 variables quantitatives (Coefficient de Pearson ou Corr(Pearson) dans le cas muti-variables, pour confirmer le résultat penser toujours à faire le nuage des points entre les deux variables  .<br/>\n",
    "- 2 variables qualitatives (chi2/khi2 $\\chi^2$) à l'aide d'un tableau contingence).<br/>\n",
    "- 1 variable quantitatives et 1 qualitative (Analyse en muti-groupes par exemple dans notre cas vérifier s'il existe différence entre sexe et les prix ... ?).<br/>"
   ]
  },
  {
   "cell_type": "markdown",
   "id": "795cdd75",
   "metadata": {},
   "source": [
    "**Coefficient de corrélation de Pearson**\n",
    "\n",
    "**Définition**\n",
    "\n",
    "Le coefficient de corrélation linéaire simple, dit de Bravais-Pearson (ou de Pearson), \n",
    "est une normalisation de la covariance par le produit des écarts-type des variables.\n",
    "\n",
    "$$r=\\dfrac{\\mathrm{cov}(X,Y)}{\\sqrt{V(X)\\times V(Y)}}= \\dfrac{\\mathrm{cov}(X,Y)}{\\sigma_x\\times \\sigma_y}$$\n",
    "\n",
    "Le coefficient de corrélation est indépendant des unités de mesure des variables, ce qui autorise les\n",
    "comparaisons. La mesure est normalisée, elle est déffinie entre\n",
    "$$−1 ≤ r ≤ 1$$ \n",
    "Lorsque :\n",
    "- r = +1, la liaison entre X et Y est linéaire, positive et parfaite c.-à-d. la connaissance de X nous fournit la valeur de Y (et inversement).\n",
    "- r = −1, la liaison est linéaire et négative.\n",
    "- Plus il est proche de 1 (en valeur absolue), plus la relation est forte\n",
    "- r = 0 indique l'absence de corrélation.\n",
    "- r>0 les deux variables évoluent dans le même sens\n",
    "- r<0 les deux variable évoluent dans le sens oposé  "
   ]
  },
  {
   "cell_type": "markdown",
   "id": "c7c6fe59",
   "metadata": {},
   "source": [
    "**LE TEST D'INDEPENDANCE DU KHI‐DEUX**\n",
    "\n",
    "Le test d’indépendance du khi2 ($\\chi^2$) permet de déterminer si deux variables **qualitatives** sont\n",
    "indépendantes ou non. Pour cela, nous testons les deux hypothèses suivantes :\n",
    "\n",
    "- $H_0$ : les deux variables sont indépendantes \n",
    "- $H_1$ : les deux variables sont dépendantes \n",
    "\n",
    "On rejette $H_0$ alors si la probabilité est inférieure au seuil usuel de 5%"
   ]
  },
  {
   "cell_type": "markdown",
   "id": "b0b17564",
   "metadata": {},
   "source": [
    "Voici quelques questions supplémentaires pour nous aider à mieux comprendre les ventes enregistrées.\n",
    "\n",
    "- Y a-t-il une corrélation entre le sexe des clients et les catégories de produits achetés ?\n",
    "- Y a-t-il une corrélation entre l'âge des clients et le montant total des achats ?\n",
    "- Y a-t-il une corrélation entre l'âge des clients et la fréquence d’achat (nombre d'achats par mois) ?\n",
    "- Y a-t-il une corrélation entre l'âge des clients et la taille du panier moyen (en nombre d’articles) ?\n",
    "- Y a-t-il une corrélation entre l'âge des clients et les catégories de produits achetés ?"
   ]
  },
  {
   "cell_type": "code",
   "execution_count": 194,
   "id": "02e1aa14",
   "metadata": {},
   "outputs": [],
   "source": [
    "import pandas as pd\n",
    "import numpy as np\n",
    "import seaborn as sns\n",
    "import matplotlib.pyplot as plt\n",
    "from scipy import stats\n",
    "import math \n",
    "from scipy.stats import chi2_contingency,chi2"
   ]
  },
  {
   "cell_type": "code",
   "execution_count": 93,
   "id": "766ad67f",
   "metadata": {},
   "outputs": [],
   "source": [
    "data=pd.read_csv(\"data_netoyer\")"
   ]
  },
  {
   "cell_type": "code",
   "execution_count": 94,
   "id": "ced3d077",
   "metadata": {},
   "outputs": [],
   "source": [
    "data['categ']=data['categ'].astype(\"category\") \n",
    "data['sex']=data['sex'].astype(\"category\")\n",
    "data['date']=pd.to_datetime(data['date'])"
   ]
  },
  {
   "cell_type": "code",
   "execution_count": 95,
   "id": "9800c6c0",
   "metadata": {},
   "outputs": [],
   "source": [
    "data.set_index('date',inplace=True)"
   ]
  },
  {
   "cell_type": "code",
   "execution_count": 96,
   "id": "56bbdd7c",
   "metadata": {},
   "outputs": [],
   "source": [
    "data['date_day']=data.index.to_period(\"D\")"
   ]
  },
  {
   "cell_type": "code",
   "execution_count": 97,
   "id": "63d571f3",
   "metadata": {},
   "outputs": [],
   "source": [
    "data['date_mois']=data.index.to_period(\"M\")"
   ]
  },
  {
   "cell_type": "code",
   "execution_count": 98,
   "id": "345f545b",
   "metadata": {},
   "outputs": [],
   "source": [
    "# variable age\n",
    "data['age'] = 2023 - data['birth']"
   ]
  },
  {
   "cell_type": "code",
   "execution_count": 99,
   "id": "250c88f2",
   "metadata": {},
   "outputs": [],
   "source": [
    "#data.info()"
   ]
  },
  {
   "cell_type": "code",
   "execution_count": 100,
   "id": "63baf620",
   "metadata": {},
   "outputs": [
    {
     "data": {
      "text/html": [
       "<div>\n",
       "<style scoped>\n",
       "    .dataframe tbody tr th:only-of-type {\n",
       "        vertical-align: middle;\n",
       "    }\n",
       "\n",
       "    .dataframe tbody tr th {\n",
       "        vertical-align: top;\n",
       "    }\n",
       "\n",
       "    .dataframe thead th {\n",
       "        text-align: right;\n",
       "    }\n",
       "</style>\n",
       "<table border=\"1\" class=\"dataframe\">\n",
       "  <thead>\n",
       "    <tr style=\"text-align: right;\">\n",
       "      <th></th>\n",
       "      <th>id_prod</th>\n",
       "      <th>price</th>\n",
       "      <th>categ</th>\n",
       "      <th>session_id</th>\n",
       "      <th>client_id</th>\n",
       "      <th>sex</th>\n",
       "      <th>birth</th>\n",
       "      <th>date_day</th>\n",
       "      <th>date_mois</th>\n",
       "      <th>age</th>\n",
       "    </tr>\n",
       "    <tr>\n",
       "      <th>date</th>\n",
       "      <th></th>\n",
       "      <th></th>\n",
       "      <th></th>\n",
       "      <th></th>\n",
       "      <th></th>\n",
       "      <th></th>\n",
       "      <th></th>\n",
       "      <th></th>\n",
       "      <th></th>\n",
       "      <th></th>\n",
       "    </tr>\n",
       "  </thead>\n",
       "  <tbody>\n",
       "    <tr>\n",
       "      <th>2022-01-12 00:40:51.966720</th>\n",
       "      <td>0_1421</td>\n",
       "      <td>19.99</td>\n",
       "      <td>0.0</td>\n",
       "      <td>s_148474</td>\n",
       "      <td>c_6714</td>\n",
       "      <td>f</td>\n",
       "      <td>1968.0</td>\n",
       "      <td>2022-01-12</td>\n",
       "      <td>2022-01</td>\n",
       "      <td>55.0</td>\n",
       "    </tr>\n",
       "    <tr>\n",
       "      <th>2021-09-20 06:39:24.010766</th>\n",
       "      <td>0_1421</td>\n",
       "      <td>19.99</td>\n",
       "      <td>0.0</td>\n",
       "      <td>s_92614</td>\n",
       "      <td>c_6714</td>\n",
       "      <td>f</td>\n",
       "      <td>1968.0</td>\n",
       "      <td>2021-09-20</td>\n",
       "      <td>2021-09</td>\n",
       "      <td>55.0</td>\n",
       "    </tr>\n",
       "    <tr>\n",
       "      <th>2022-11-10 02:30:41.901616</th>\n",
       "      <td>0_1421</td>\n",
       "      <td>19.99</td>\n",
       "      <td>0.0</td>\n",
       "      <td>s_295343</td>\n",
       "      <td>c_6714</td>\n",
       "      <td>f</td>\n",
       "      <td>1968.0</td>\n",
       "      <td>2022-11-10</td>\n",
       "      <td>2022-11</td>\n",
       "      <td>55.0</td>\n",
       "    </tr>\n",
       "    <tr>\n",
       "      <th>2021-12-12 16:25:24.521515</th>\n",
       "      <td>0_1421</td>\n",
       "      <td>19.99</td>\n",
       "      <td>0.0</td>\n",
       "      <td>s_133316</td>\n",
       "      <td>c_6714</td>\n",
       "      <td>f</td>\n",
       "      <td>1968.0</td>\n",
       "      <td>2021-12-12</td>\n",
       "      <td>2021-12</td>\n",
       "      <td>55.0</td>\n",
       "    </tr>\n",
       "    <tr>\n",
       "      <th>2021-04-02 08:24:37.335017</th>\n",
       "      <td>0_1421</td>\n",
       "      <td>19.99</td>\n",
       "      <td>0.0</td>\n",
       "      <td>s_14853</td>\n",
       "      <td>c_6714</td>\n",
       "      <td>f</td>\n",
       "      <td>1968.0</td>\n",
       "      <td>2021-04-02</td>\n",
       "      <td>2021-04</td>\n",
       "      <td>55.0</td>\n",
       "    </tr>\n",
       "  </tbody>\n",
       "</table>\n",
       "</div>"
      ],
      "text/plain": [
       "                           id_prod  price categ session_id client_id sex  \\\n",
       "date                                                                       \n",
       "2022-01-12 00:40:51.966720  0_1421  19.99   0.0   s_148474    c_6714   f   \n",
       "2021-09-20 06:39:24.010766  0_1421  19.99   0.0    s_92614    c_6714   f   \n",
       "2022-11-10 02:30:41.901616  0_1421  19.99   0.0   s_295343    c_6714   f   \n",
       "2021-12-12 16:25:24.521515  0_1421  19.99   0.0   s_133316    c_6714   f   \n",
       "2021-04-02 08:24:37.335017  0_1421  19.99   0.0    s_14853    c_6714   f   \n",
       "\n",
       "                             birth    date_day date_mois   age  \n",
       "date                                                            \n",
       "2022-01-12 00:40:51.966720  1968.0  2022-01-12   2022-01  55.0  \n",
       "2021-09-20 06:39:24.010766  1968.0  2021-09-20   2021-09  55.0  \n",
       "2022-11-10 02:30:41.901616  1968.0  2022-11-10   2022-11  55.0  \n",
       "2021-12-12 16:25:24.521515  1968.0  2021-12-12   2021-12  55.0  \n",
       "2021-04-02 08:24:37.335017  1968.0  2021-04-02   2021-04  55.0  "
      ]
     },
     "execution_count": 100,
     "metadata": {},
     "output_type": "execute_result"
    }
   ],
   "source": [
    "data.head()"
   ]
  },
  {
   "cell_type": "markdown",
   "id": "3aeaabc8",
   "metadata": {},
   "source": [
    "<div style=\"background-color: RGB(51,165,182);\" >\n",
    "<h2 style=\"margin: auto; padding: 20px; color:#fff; \"> 1. Première approche des corrélations sur l'ensemble de nos variables numériques</h2>\n",
    "</div> "
   ]
  },
  {
   "cell_type": "code",
   "execution_count": 12,
   "id": "30f29f6c",
   "metadata": {},
   "outputs": [],
   "source": [
    "##on utilise data.corr et le heatmap de seborn"
   ]
  },
  {
   "cell_type": "code",
   "execution_count": 109,
   "id": "898ccea6",
   "metadata": {},
   "outputs": [
    {
     "data": {
      "image/png": "[encoded data removed]",
      "text/plain": [
       "<Figure size 432x288 with 1 Axes>"
      ]
     },
     "metadata": {
      "needs_background": "light"
     },
     "output_type": "display_data"
    }
   ],
   "source": [
    "plt.scatter(data['age'], data['price'])\n",
    "plt.title(\"Prix selon l'âge\")\n",
    "plt.xlabel('Age')\n",
    "plt.ylabel('Prix')\n",
    "plt.show()"
   ]
  },
  {
   "cell_type": "code",
   "execution_count": 101,
   "id": "1fde1852",
   "metadata": {},
   "outputs": [
    {
     "data": {
      "text/html": [
       "<div>\n",
       "<style scoped>\n",
       "    .dataframe tbody tr th:only-of-type {\n",
       "        vertical-align: middle;\n",
       "    }\n",
       "\n",
       "    .dataframe tbody tr th {\n",
       "        vertical-align: top;\n",
       "    }\n",
       "\n",
       "    .dataframe thead th {\n",
       "        text-align: right;\n",
       "    }\n",
       "</style>\n",
       "<table border=\"1\" class=\"dataframe\">\n",
       "  <thead>\n",
       "    <tr style=\"text-align: right;\">\n",
       "      <th></th>\n",
       "      <th>price</th>\n",
       "      <th>age</th>\n",
       "    </tr>\n",
       "  </thead>\n",
       "  <tbody>\n",
       "    <tr>\n",
       "      <th>price</th>\n",
       "      <td>1.000000</td>\n",
       "      <td>-0.209465</td>\n",
       "    </tr>\n",
       "    <tr>\n",
       "      <th>age</th>\n",
       "      <td>-0.209465</td>\n",
       "      <td>1.000000</td>\n",
       "    </tr>\n",
       "  </tbody>\n",
       "</table>\n",
       "</div>"
      ],
      "text/plain": [
       "          price       age\n",
       "price  1.000000 -0.209465\n",
       "age   -0.209465  1.000000"
      ]
     },
     "execution_count": 101,
     "metadata": {},
     "output_type": "execute_result"
    }
   ],
   "source": [
    "data[['price','age']].corr()"
   ]
  },
  {
   "cell_type": "code",
   "execution_count": 102,
   "id": "44cb6657",
   "metadata": {},
   "outputs": [
    {
     "data": {
      "image/png": "[encoded data removed]",
      "text/plain": [
       "<Figure size 432x288 with 2 Axes>"
      ]
     },
     "metadata": {
      "needs_background": "light"
     },
     "output_type": "display_data"
    }
   ],
   "source": [
    "sns.heatmap(data[['price','age']].corr(),annot=True,)\n",
    "plt.show()"
   ]
  },
  {
   "cell_type": "markdown",
   "id": "7f8b97e8",
   "metadata": {},
   "source": [
    "**Il y a pas une corrélation entre âge et price** "
   ]
  },
  {
   "cell_type": "markdown",
   "id": "640d1b37",
   "metadata": {},
   "source": [
    "**Ou Coefficient de corrélation de Pearson pour seulement deux variable**"
   ]
  },
  {
   "cell_type": "code",
   "execution_count": 103,
   "id": "2f3ce7e0",
   "metadata": {},
   "outputs": [
    {
     "name": "stdout",
     "output_type": "stream",
     "text": [
      "The Pearson Correlation Coefficient is -0.20946478110179134\n"
     ]
    }
   ],
   "source": [
    "pearson_coef, p_value = stats.pearsonr(data['age'], data['price'])\n",
    "print(\"The Pearson Correlation Coefficient is\", pearson_coef)  "
   ]
  },
  {
   "cell_type": "markdown",
   "id": "48aabd8c",
   "metadata": {},
   "source": [
    "<div style=\"background-color: RGB(51,165,182);\" >\n",
    "<h2 style=\"margin: auto; padding: 20px; color:#fff; \"> 2. Analyse de la corrélation entre le sexe des clients et les catégories de produits achetés </h2>\n",
    "</div> "
   ]
  },
  {
   "cell_type": "code",
   "execution_count": 13,
   "id": "5e07052a",
   "metadata": {},
   "outputs": [],
   "source": [
    "##test khi2/chi2"
   ]
  },
  {
   "cell_type": "code",
   "execution_count": 86,
   "id": "cbe8c639",
   "metadata": {},
   "outputs": [],
   "source": [
    "def test_chi2(serie1, serie2):\n",
    "    \n",
    "    alpha = 0.03   # le risque  \n",
    "    \n",
    "    #H0 : les variables sont indépendantes\n",
    "\n",
    "    tab_contingence = pd.crosstab(serie1, serie2)\n",
    "    stat_chi2, p, dof, expected_table = chi2_contingency(tab_contingence)\n",
    "    print('chi2 : {0:.5f},\\n p : {0:.5f},\\n dof : {0:.5f}'.format(stat_chi2, p, dof))\n",
    "    print('tableau de contingence : \\n', tab_contingence)\n",
    "    critical = chi2.ppf(1-alpha, dof) \n",
    "    print('critital : ', critical)\n",
    "\n",
    "    if p <= alpha:\n",
    "        print('Variables non indépendantes (H0 rejetée) car p = {} <= alpha = {}'.format(p,alpha))\n",
    "        return False\n",
    "    \n",
    "    else:\n",
    "        print('H0 non rejetée car p = {} >= alpha = {}'.format(p, alpha))\n",
    "        return True"
   ]
  },
  {
   "cell_type": "code",
   "execution_count": 91,
   "id": "c5bde9ef",
   "metadata": {},
   "outputs": [
    {
     "name": "stdout",
     "output_type": "stream",
     "text": [
      "tableau de contingence :\n",
      " sex         f       m\n",
      "categ                \n",
      "0.0    206103  209356\n",
      "1.0    114899  112270\n",
      "2.0     17283   19200\n",
      "chi2 : 147.11907,\n",
      " p : 147.11907,\n",
      " dof : 147.11907\n",
      "critital :  7.013115794639961\n",
      "Variables non indépendantes (H0 rejetée) car p = 1.13109805970906e-32 <= alpha = 0.03\n"
     ]
    },
    {
     "data": {
      "text/plain": [
       "False"
      ]
     },
     "execution_count": 91,
     "metadata": {},
     "output_type": "execute_result"
    }
   ],
   "source": [
    "test_chi2(data['categ'],data['sex'])"
   ]
  },
  {
   "cell_type": "markdown",
   "id": "8a571d83",
   "metadata": {},
   "source": [
    "**Les catégories de livres sont corrélées à l’âge des clients**"
   ]
  },
  {
   "cell_type": "markdown",
   "id": "3eb126af",
   "metadata": {},
   "source": [
    "<div style=\"background-color: RGB(51,165,182);\" >\n",
    "<h2 style=\"margin: auto; padding: 20px; color:#fff; \"> 3. Analyse de la corrélation entre l'âge clients et le montant total des achats </h2>\n",
    "</div> "
   ]
  },
  {
   "cell_type": "code",
   "execution_count": 14,
   "id": "b96c0e31",
   "metadata": {},
   "outputs": [],
   "source": [
    "## pour le visual  nuage des points avec plt.scatter ou plt.plot\n",
    "## et avec un test de stat on utilise: Coefficient de corrélation linéaire de Pearson "
   ]
  },
  {
   "cell_type": "code",
   "execution_count": 117,
   "id": "787f126f",
   "metadata": {},
   "outputs": [],
   "source": [
    "age_prix = data.groupby('age').sum().reset_index()\n",
    "age_prix = age_prix[['age', 'price']].sort_values(by='age', ascending=False) \n",
    "age_prix['price'] = age_prix['price']/1000 # en (K€)"
   ]
  },
  {
   "cell_type": "code",
   "execution_count": 118,
   "id": "e8ea5bf9",
   "metadata": {},
   "outputs": [
    {
     "data": {
      "text/html": [
       "<div>\n",
       "<style scoped>\n",
       "    .dataframe tbody tr th:only-of-type {\n",
       "        vertical-align: middle;\n",
       "    }\n",
       "\n",
       "    .dataframe tbody tr th {\n",
       "        vertical-align: top;\n",
       "    }\n",
       "\n",
       "    .dataframe thead th {\n",
       "        text-align: right;\n",
       "    }\n",
       "</style>\n",
       "<table border=\"1\" class=\"dataframe\">\n",
       "  <thead>\n",
       "    <tr style=\"text-align: right;\">\n",
       "      <th></th>\n",
       "      <th>age</th>\n",
       "      <th>price</th>\n",
       "    </tr>\n",
       "  </thead>\n",
       "  <tbody>\n",
       "    <tr>\n",
       "      <th>75</th>\n",
       "      <td>94.0</td>\n",
       "      <td>3.22185</td>\n",
       "    </tr>\n",
       "    <tr>\n",
       "      <th>74</th>\n",
       "      <td>93.0</td>\n",
       "      <td>4.01387</td>\n",
       "    </tr>\n",
       "    <tr>\n",
       "      <th>73</th>\n",
       "      <td>92.0</td>\n",
       "      <td>2.81545</td>\n",
       "    </tr>\n",
       "    <tr>\n",
       "      <th>72</th>\n",
       "      <td>91.0</td>\n",
       "      <td>5.04319</td>\n",
       "    </tr>\n",
       "    <tr>\n",
       "      <th>71</th>\n",
       "      <td>90.0</td>\n",
       "      <td>5.25435</td>\n",
       "    </tr>\n",
       "    <tr>\n",
       "      <th>...</th>\n",
       "      <td>...</td>\n",
       "      <td>...</td>\n",
       "    </tr>\n",
       "    <tr>\n",
       "      <th>4</th>\n",
       "      <td>23.0</td>\n",
       "      <td>165.00798</td>\n",
       "    </tr>\n",
       "    <tr>\n",
       "      <th>3</th>\n",
       "      <td>22.0</td>\n",
       "      <td>178.49770</td>\n",
       "    </tr>\n",
       "    <tr>\n",
       "      <th>2</th>\n",
       "      <td>21.0</td>\n",
       "      <td>184.17735</td>\n",
       "    </tr>\n",
       "    <tr>\n",
       "      <th>1</th>\n",
       "      <td>20.0</td>\n",
       "      <td>178.19578</td>\n",
       "    </tr>\n",
       "    <tr>\n",
       "      <th>0</th>\n",
       "      <td>19.0</td>\n",
       "      <td>609.01369</td>\n",
       "    </tr>\n",
       "  </tbody>\n",
       "</table>\n",
       "<p>76 rows × 2 columns</p>\n",
       "</div>"
      ],
      "text/plain": [
       "     age      price\n",
       "75  94.0    3.22185\n",
       "74  93.0    4.01387\n",
       "73  92.0    2.81545\n",
       "72  91.0    5.04319\n",
       "71  90.0    5.25435\n",
       "..   ...        ...\n",
       "4   23.0  165.00798\n",
       "3   22.0  178.49770\n",
       "2   21.0  184.17735\n",
       "1   20.0  178.19578\n",
       "0   19.0  609.01369\n",
       "\n",
       "[76 rows x 2 columns]"
      ]
     },
     "execution_count": 118,
     "metadata": {},
     "output_type": "execute_result"
    }
   ],
   "source": [
    "age_prix"
   ]
  },
  {
   "cell_type": "code",
   "execution_count": 158,
   "id": "2f279d24",
   "metadata": {},
   "outputs": [
    {
     "data": {
      "image/png": "[encoded data removed]",
      "text/plain": [
       "<Figure size 720x576 with 1 Axes>"
      ]
     },
     "metadata": {
      "needs_background": "light"
     },
     "output_type": "display_data"
    }
   ],
   "source": [
    "plt.figure(figsize=(10,8))\n",
    "plt.scatter(age_prix['age'], age_prix['price'])\n",
    "plt.title(\"Achat selon l'âge\")\n",
    "plt.xlabel('Age')\n",
    "plt.ylabel(\"Montant d'achat (K€)\")\n",
    "plt.title(\"Montant Total des achats selon l'âge du client\")\n",
    "plt.show()"
   ]
  },
  {
   "cell_type": "code",
   "execution_count": 145,
   "id": "e2545b30",
   "metadata": {},
   "outputs": [
    {
     "name": "stdout",
     "output_type": "stream",
     "text": [
      "The Pearson Correlation Coefficient is -0.7788810457117039\n"
     ]
    }
   ],
   "source": [
    "pearson_coef, p_value = stats.pearsonr(age_prix['age'], age_prix['price'])\n",
    "print(\"The Pearson Correlation Coefficient is\", pearson_coef)  "
   ]
  },
  {
   "cell_type": "markdown",
   "id": "5cca1f65",
   "metadata": {},
   "source": [
    "- La valeur absolue du cofficient est très proche de 1 alors une forte correlation\n",
    "- Le coefficient est négatif alors les deux variable évoluent dans le sens oposé (plus les consommateurs sont agés plus le montant total de leur achat est faible)"
   ]
  },
  {
   "cell_type": "markdown",
   "id": "c07fdaf6",
   "metadata": {},
   "source": [
    "<div style=\"background-color: RGB(51,165,182);\" >\n",
    "<h2 style=\"margin: auto; padding: 20px; color:#fff; \"> 4. Analyse de la corrélation entre l'âge clients et la fréquence d'achat </h2>\n",
    "</div> "
   ]
  },
  {
   "cell_type": "code",
   "execution_count": 159,
   "id": "f3b6c64a",
   "metadata": {},
   "outputs": [],
   "source": [
    "clients_freq = data.groupby('age').count().reset_index()\n",
    "clients_freq = clients_freq[['age', 'session_id']]\n",
    "\n",
    "#Création d'une variable fréquence \n",
    "clients_freq['frequence'] = clients_freq['session_id'] / sum(clients_freq['session_id'])"
   ]
  },
  {
   "cell_type": "code",
   "execution_count": 160,
   "id": "1a0826a5",
   "metadata": {},
   "outputs": [
    {
     "data": {
      "text/html": [
       "<div>\n",
       "<style scoped>\n",
       "    .dataframe tbody tr th:only-of-type {\n",
       "        vertical-align: middle;\n",
       "    }\n",
       "\n",
       "    .dataframe tbody tr th {\n",
       "        vertical-align: top;\n",
       "    }\n",
       "\n",
       "    .dataframe thead th {\n",
       "        text-align: right;\n",
       "    }\n",
       "</style>\n",
       "<table border=\"1\" class=\"dataframe\">\n",
       "  <thead>\n",
       "    <tr style=\"text-align: right;\">\n",
       "      <th></th>\n",
       "      <th>age</th>\n",
       "      <th>session_id</th>\n",
       "      <th>frequence</th>\n",
       "    </tr>\n",
       "  </thead>\n",
       "  <tbody>\n",
       "    <tr>\n",
       "      <th>0</th>\n",
       "      <td>19.0</td>\n",
       "      <td>15149</td>\n",
       "      <td>0.022307</td>\n",
       "    </tr>\n",
       "    <tr>\n",
       "      <th>1</th>\n",
       "      <td>20.0</td>\n",
       "      <td>4371</td>\n",
       "      <td>0.006436</td>\n",
       "    </tr>\n",
       "    <tr>\n",
       "      <th>2</th>\n",
       "      <td>21.0</td>\n",
       "      <td>4584</td>\n",
       "      <td>0.006750</td>\n",
       "    </tr>\n",
       "    <tr>\n",
       "      <th>3</th>\n",
       "      <td>22.0</td>\n",
       "      <td>4252</td>\n",
       "      <td>0.006261</td>\n",
       "    </tr>\n",
       "    <tr>\n",
       "      <th>4</th>\n",
       "      <td>23.0</td>\n",
       "      <td>4413</td>\n",
       "      <td>0.006498</td>\n",
       "    </tr>\n",
       "  </tbody>\n",
       "</table>\n",
       "</div>"
      ],
      "text/plain": [
       "    age  session_id  frequence\n",
       "0  19.0       15149   0.022307\n",
       "1  20.0        4371   0.006436\n",
       "2  21.0        4584   0.006750\n",
       "3  22.0        4252   0.006261\n",
       "4  23.0        4413   0.006498"
      ]
     },
     "execution_count": 160,
     "metadata": {},
     "output_type": "execute_result"
    }
   ],
   "source": [
    "clients_freq.head()"
   ]
  },
  {
   "cell_type": "code",
   "execution_count": 162,
   "id": "f88a885a",
   "metadata": {},
   "outputs": [
    {
     "data": {
      "image/png": "[encoded data removed]",
      "text/plain": [
       "<Figure size 720x576 with 1 Axes>"
      ]
     },
     "metadata": {
      "needs_background": "light"
     },
     "output_type": "display_data"
    }
   ],
   "source": [
    "plt.figure(figsize=(10,8))\n",
    "plt.scatter(clients_freq['age'], clients_freq['frequence'])\n",
    "plt.title(\"Achat selon l'âge\")\n",
    "plt.xlabel('Age')\n",
    "plt.ylabel(\"Fréquence d'achat\")\n",
    "plt.title(\"Fréquence d'achat selon l'age des clients\")\n",
    "plt.show()"
   ]
  },
  {
   "cell_type": "code",
   "execution_count": 165,
   "id": "14217f02",
   "metadata": {},
   "outputs": [
    {
     "name": "stdout",
     "output_type": "stream",
     "text": [
      "The Pearson Correlation Coefficient is -0.5337344271238335\n"
     ]
    }
   ],
   "source": [
    "pearson_coef, p_value = stats.pearsonr(clients_freq['age'], clients_freq['frequence'])\n",
    "print(\"The Pearson Correlation Coefficient is\", pearson_coef)  "
   ]
  },
  {
   "cell_type": "markdown",
   "id": "1518fea9",
   "metadata": {},
   "source": [
    "- **IL y a une relation entre l'age et la frequence** \n",
    "- **On remarque à partir du graphique qu'il y a des clusters de clients sur cette corrélation, par exemple entre 19 et 35 ans.**"
   ]
  },
  {
   "cell_type": "markdown",
   "id": "7b9fee00",
   "metadata": {},
   "source": [
    "<div style=\"background-color: RGB(51,165,182);\" >\n",
    "<h2 style=\"margin: auto; padding: 20px; color:#fff; \"> 5. Analyse de la corrélation entre l'âge clients et la taille du panier moyen </h2>\n",
    "</div> \n",
    " "
   ]
  },
  {
   "cell_type": "code",
   "execution_count": 15,
   "id": "40106cf6",
   "metadata": {},
   "outputs": [],
   "source": [
    "## pour le visual  nuage des points avec plt.scatter ou plt.plot\n",
    "## et avec un test de stat on utilise: Coefficient de corrélation linéaire de Pearson "
   ]
  },
  {
   "cell_type": "code",
   "execution_count": 180,
   "id": "f5d5c44c",
   "metadata": {},
   "outputs": [],
   "source": [
    "clients_panier= data.groupby(['age', 'session_id']).count().reset_index()\n",
    "clients_panier=clients_panier.groupby(['age']).mean().reset_index()\n",
    "clients_panier = clients_panier[['age', 'id_prod']]\n",
    "clients_panier=clients_panier.rename(columns={'id_prod':'panier_moyen'})"
   ]
  },
  {
   "cell_type": "code",
   "execution_count": 181,
   "id": "21503453",
   "metadata": {},
   "outputs": [],
   "source": [
    "#clients_panier"
   ]
  },
  {
   "cell_type": "code",
   "execution_count": 184,
   "id": "b749654f",
   "metadata": {},
   "outputs": [
    {
     "data": {
      "image/png": "[encoded data removed]",
      "text/plain": [
       "<Figure size 720x576 with 1 Axes>"
      ]
     },
     "metadata": {
      "needs_background": "light"
     },
     "output_type": "display_data"
    }
   ],
   "source": [
    "plt.figure(figsize=(10,8))\n",
    "plt.scatter(clients_panier['age'], clients_panier['panier_moyen'])\n",
    "\n",
    "plt.xlabel('age')\n",
    "plt.ylabel('Panier moyen')\n",
    "plt.title(\"Panier moyen selon l'age de clients\")\n",
    "plt.show()"
   ]
  },
  {
   "cell_type": "code",
   "execution_count": 186,
   "id": "0ded4a75",
   "metadata": {},
   "outputs": [],
   "source": [
    "# Visualisation selon les clusters d'age (tranche d'âge)\n",
    "\n",
    "clients_panier31 = clients_panier[clients_panier['age'] < 31]\n",
    "clients_panier31_50 = clients_panier[(clients_panier['age'] > 31) & (clients_panier['age'] < 50)]\n",
    "clients_panier50 = clients_panier[clients_panier['age'] > 51]"
   ]
  },
  {
   "cell_type": "code",
   "execution_count": 189,
   "id": "b6872c3b",
   "metadata": {},
   "outputs": [
    {
     "data": {
      "image/png": "[encoded data removed]",
      "text/plain": [
       "<Figure size 432x288 with 1 Axes>"
      ]
     },
     "metadata": {
      "needs_background": "light"
     },
     "output_type": "display_data"
    }
   ],
   "source": [
    "plt.scatter(clients_panier31['age'], clients_panier31['panier_moyen'], color='r')\n",
    "plt.scatter(clients_panier31_50['age'], clients_panier31_50['panier_moyen'], color='b')\n",
    "plt.scatter(clients_panier50['age'], clients_panier50['panier_moyen'], color='g')\n",
    "\n",
    "plt.xlabel('Age')\n",
    "plt.ylabel('Panier moyen ')\n",
    "plt.title(\"Panier moyen selon l'age des clients\")\n",
    "plt.show()"
   ]
  },
  {
   "cell_type": "code",
   "execution_count": 190,
   "id": "aebd0b99",
   "metadata": {},
   "outputs": [
    {
     "name": "stdout",
     "output_type": "stream",
     "text": [
      "The Pearson Correlation Coefficient is -0.5739035320699193\n"
     ]
    }
   ],
   "source": [
    "pearson_coef, p_value = stats.pearsonr(clients_panier['age'], clients_panier['panier_moyen'])\n",
    "print(\"The Pearson Correlation Coefficient is\", pearson_coef)  "
   ]
  },
  {
   "cell_type": "markdown",
   "id": "700dac80",
   "metadata": {},
   "source": [
    "- Le test de corrélation démontre un certain lien entre l'âge du client et le panier moyen. \n",
    "- A partir du graphique on remarque des clusters des clients :\n",
    "    - Par exemple, sur les individus de plus de 50 ans, le panier moyen reste faible. \n",
    "    - Il existe également un lien sur les individus de 19 à 30 ans et de 30 à 50 ans. \n",
    "<div style=\"color: RGB(255,114,0)\">\n",
    "<h3> Conclusion :</h3> \n",
    "    <h4>La linéarité de la corrélation existe mais selon les clusters de clients (tranches d'âges)<h4>"
   ]
  },
  {
   "cell_type": "markdown",
   "id": "aa4c7c2d",
   "metadata": {},
   "source": [
    "<div style=\"background-color: RGB(51,165,182);\" >\n",
    "<h2 style=\"margin: auto; padding: 20px; color:#fff; \"> 6. Analyse de la corrélation entre l'âge clients et la catégorie produits </h2>\n",
    "</div> "
   ]
  },
  {
   "cell_type": "markdown",
   "id": "420eb915",
   "metadata": {},
   "source": [
    "**Pour simplifier l'analyse, il est nécessaire de procéder par un découpage(classe/discrétisation) . Donc très clairement le but est de pouvoir réduire nos individus \"âges\" par catégories d'âge, de manière à pouvoir interpréter plus facilement lesrésultats.**"
   ]
  },
  {
   "cell_type": "markdown",
   "id": "771166cb",
   "metadata": {},
   "source": [
    "**Comment choisir le nombre de classes ou des catégories ? (on peut utiliser la fonction qcut )**\n",
    "\n",
    "Ou bient l'un de deux formules : \n",
    "\n",
    "- Sturges-Huntsberger : $k = 1 + 3.33\\times\\log(N,base=10)$\n",
    "\n",
    "- Brooks-Carruthers : $k = 5\\times\\log(N,base=10)$\n"
   ]
  },
  {
   "cell_type": "code",
   "execution_count": 196,
   "id": "fdd6068e",
   "metadata": {},
   "outputs": [
    {
     "name": "stdout",
     "output_type": "stream",
     "text": [
      "Huntsberger = 8.853419523977076\n",
      "Brooks-Carruthers=11.780129285965613\n",
      "\n"
     ]
    }
   ],
   "source": [
    "#Formule de Huntsberger : 1 + 3,3*log10(N)\n",
    "h=1 + ((10/3) * math.log10(227))\n",
    "#Formule de Brooks-Carruthers : 5*log10(N)\n",
    "b=5 * math.log10(227)\n",
    "print(\"Huntsberger = {}\\nBrooks-Carruthers={}\\n\".format(h,b))"
   ]
  },
  {
   "cell_type": "markdown",
   "id": "d435936a",
   "metadata": {},
   "source": [
    "**On peut prendre soit le min, le max ou la moyenne entre le deux**"
   ]
  },
  {
   "cell_type": "code",
   "execution_count": 202,
   "id": "0c55958e",
   "metadata": {},
   "outputs": [],
   "source": [
    "age_categ = data.groupby(['age', 'categ']).count().reset_index()\n",
    "age_categ = age_categ[['age', 'categ', 'session_id']]"
   ]
  },
  {
   "cell_type": "code",
   "execution_count": 203,
   "id": "e0e61218",
   "metadata": {},
   "outputs": [
    {
     "data": {
      "text/html": [
       "<div>\n",
       "<style scoped>\n",
       "    .dataframe tbody tr th:only-of-type {\n",
       "        vertical-align: middle;\n",
       "    }\n",
       "\n",
       "    .dataframe tbody tr th {\n",
       "        vertical-align: top;\n",
       "    }\n",
       "\n",
       "    .dataframe thead th {\n",
       "        text-align: right;\n",
       "    }\n",
       "</style>\n",
       "<table border=\"1\" class=\"dataframe\">\n",
       "  <thead>\n",
       "    <tr style=\"text-align: right;\">\n",
       "      <th></th>\n",
       "      <th>age</th>\n",
       "      <th>categ</th>\n",
       "      <th>session_id</th>\n",
       "    </tr>\n",
       "  </thead>\n",
       "  <tbody>\n",
       "    <tr>\n",
       "      <th>0</th>\n",
       "      <td>19.0</td>\n",
       "      <td>0.0</td>\n",
       "      <td>3418</td>\n",
       "    </tr>\n",
       "    <tr>\n",
       "      <th>1</th>\n",
       "      <td>19.0</td>\n",
       "      <td>1.0</td>\n",
       "      <td>5719</td>\n",
       "    </tr>\n",
       "    <tr>\n",
       "      <th>2</th>\n",
       "      <td>19.0</td>\n",
       "      <td>2.0</td>\n",
       "      <td>6012</td>\n",
       "    </tr>\n",
       "    <tr>\n",
       "      <th>3</th>\n",
       "      <td>20.0</td>\n",
       "      <td>0.0</td>\n",
       "      <td>909</td>\n",
       "    </tr>\n",
       "    <tr>\n",
       "      <th>4</th>\n",
       "      <td>20.0</td>\n",
       "      <td>1.0</td>\n",
       "      <td>1678</td>\n",
       "    </tr>\n",
       "  </tbody>\n",
       "</table>\n",
       "</div>"
      ],
      "text/plain": [
       "    age categ  session_id\n",
       "0  19.0   0.0        3418\n",
       "1  19.0   1.0        5719\n",
       "2  19.0   2.0        6012\n",
       "3  20.0   0.0         909\n",
       "4  20.0   1.0        1678"
      ]
     },
     "execution_count": 203,
     "metadata": {},
     "output_type": "execute_result"
    }
   ],
   "source": [
    "age_categ.head()"
   ]
  },
  {
   "cell_type": "code",
   "execution_count": 204,
   "id": "0d238cc1",
   "metadata": {},
   "outputs": [],
   "source": [
    "age_categ['age']= pd.cut(age_categ['age'], 9)\n",
    "age_categ = age_categ.groupby(['age','categ']).sum().reset_index()"
   ]
  },
  {
   "cell_type": "code",
   "execution_count": 206,
   "id": "ed4e5961",
   "metadata": {},
   "outputs": [],
   "source": [
    "#age_categ"
   ]
  },
  {
   "cell_type": "code",
   "execution_count": 214,
   "id": "2249762f",
   "metadata": {},
   "outputs": [
    {
     "data": {
      "image/png": "[encoded data removed]",
      "text/plain": [
       "<Figure size 576x360 with 1 Axes>"
      ]
     },
     "metadata": {
      "needs_background": "light"
     },
     "output_type": "display_data"
    }
   ],
   "source": [
    "age_categ.pivot_table( values='session_id',index='age',columns='categ').plot(kind='bar',stacked=True,figsize=(8,5))\n",
    "plt.xlabel('Age')\n",
    "plt.ylabel('Nombre de produits vendus')\n",
    "plt.title(\"Catégories produits selon les classes d'âge des clients\")\n",
    "plt.show()"
   ]
  },
  {
   "cell_type": "markdown",
   "id": "373d2722",
   "metadata": {},
   "source": [
    "**On remarque qu'on peut avoir un lien entre catégorie et la une tranche d'âges.**\n",
    "- Un fort achat de la catégorie 0 pour les 35 / 44 ans,\n",
    "- Parcontre les clients le plus âgée n'opte pas à cette catégorie"
   ]
  },
  {
   "cell_type": "markdown",
   "id": "ef7dda85",
   "metadata": {},
   "source": [
    "## Remarques: \n",
    "- Le fait que la variable est regroupé par classe on peut perdre de l'infomation\n",
    "- Vous pouvez essayer aussi avec 3 classe d'age vu qu'on a remarqué qu'il 3 clusters selon l'âge."
   ]
  },
  {
   "cell_type": "code",
   "execution_count": null,
   "id": "3188b16e",
   "metadata": {},
   "outputs": [],
   "source": [
    "## Conclusions:\n",
    "A vous de jouer "
   ]
  }
 ],
 "metadata": {
  "kernelspec": {
   "display_name": "Python 3",
   "language": "python",
   "name": "python3"
  },
  "language_info": {
   "codemirror_mode": {
    "name": "ipython",
    "version": 3
   },
   "file_extension": ".py",
   "mimetype": "text/x-python",
   "name": "python",
   "nbconvert_exporter": "python",
   "pygments_lexer": "ipython3",
   "version": "3.8.8"
  }
 },
 "nbformat": 4,
 "nbformat_minor": 5
}
