{
 "cells": [
  {
   "cell_type": "markdown",
   "metadata": {},
   "source": [
    "# Enoncé\n",
    "\n",
    "Vous avez participé à une compétition sur Kaggle sur le jeu de données de Titanic (celle-ci existe, les curieux peuvent la retrouver sur Kaggle !). Vous avez pour cela à votre disposition [une liste de 891 passagers](https://www.kaggle.com/c/titanic), contenant les caractéristiques suivantes :\n",
    "\n",
    "\n",
    "- PassengerID : Identifiant du passager\n",
    "- Survived : Indicateur de survi d'un passager (1 si le passager a survecu, 0 s’il est décédé)\n",
    "- Pclass: Classe du passager (1 = 1ère classe, 2 = 2ème classe, 3 = 3ème classe)\n",
    "- Name : Nom et titre du passager\n",
    "- Sex : Sexe du passager\n",
    "- Age : Age du passager (Décimal si inférieur à 1, estimé si de la forme xx.5)\n",
    "- SibSp : Nombre d’époux, de frères et de soeurs présents à bord\n",
    "- Parch : Nombre de parents ou d’enfants présents à bord \n",
    "- Ticket : Numéro du ticket \n",
    "- Fare : Tarif des tickets (Le prix est indiqué en £ et pour un seul achat (peut correspondre à plusieurs tickets)\n",
    "- Cabin : Numéro de Cabine\n",
    "- Embarked : Port d’embarcation (C = Cherbourg, Q = Queenstown, S = Southampton)\n",
    "\t \t\n",
    "\n",
    "# Exercice\n",
    "\n",
    "La compétition a été l’occasion de revenir sur ce jeu de données très célèbre, et plusieurs tâches étaient attendues, :\n",
    "- identifier les facteurs favorisants la survie d'un passager par rapport à un autre, en dressant une typologie des survivants\n",
    "- créer un algorithme qui pourrait prédire la survie d'un individu à partir de ces caractéristiques."
   ]
  },
  {
   "cell_type": "code",
   "execution_count": null,
   "metadata": {},
   "outputs": [],
   "source": []
  }
 ],
 "metadata": {
  "kernelspec": {
   "display_name": "Python 3",
   "language": "python",
   "name": "python3"
  },
  "language_info": {
   "codemirror_mode": {
    "name": "ipython",
    "version": 3
   },
   "file_extension": ".py",
   "mimetype": "text/x-python",
   "name": "python",
   "nbconvert_exporter": "python",
   "pygments_lexer": "ipython3",
   "version": "3.8.8"
  }
 },
 "nbformat": 4,
 "nbformat_minor": 4
}
