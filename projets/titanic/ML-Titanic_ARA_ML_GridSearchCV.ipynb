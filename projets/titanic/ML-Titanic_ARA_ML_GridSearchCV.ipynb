{
 "cells": [
  {
   "cell_type": "markdown",
   "metadata": {},
   "source": [
    "# Enoncé\n",
    "\n",
    "Vous avez participé à une compétition sur Kaggle sur le jeu de données de Titanic (celle-ci existe, les curieux peuvent la retrouver sur Kaggle !). Vous avez pour cela à votre disposition [une liste de 891 passagers](https://www.kaggle.com/c/titanic), contenant les caractéristiques suivantes :\n",
    "\n",
    "\n",
    "- PassengerID : Identifiant du passager\n",
    "- Survived : Indicateur de survi d'un passager (1 si le passager a survecu, 0 s’il est décédé)\n",
    "- Pclass: Classe du passager (1 = 1ère classe, 2 = 2ème classe, 3 = 3ème classe)\n",
    "- Name : Nom et titre du passager\n",
    "- Sex : Sexe du passager\n",
    "- Age : Age du passager (Décimal si inférieur à 1, estimé si de la forme xx.5)\n",
    "- SibSp : Nombre d’époux, de frères et de soeurs présents à bord\n",
    "- Parch : Nombre de parents ou d’enfants présents à bord \n",
    "- Ticket : Numéro du ticket \n",
    "- Fare : Tarif des tickets (Le prix est indiqué en £ et pour un seul achat (peut correspondre à plusieurs tickets)\n",
    "- Cabin : Numéro de Cabine\n",
    "- Embarked : Port d’embarcation (C = Cherbourg, Q = Queenstown, S = Southampton)\n",
    "\t \t\n",
    "\n",
    "# Exercice\n",
    "\n",
    "La compétition a été l’occasion de revenir sur ce jeu de données très célèbre, et plusieurs tâches étaient attendues, :\n",
    "- identifier les facteurs favorisants la survie d'un passager par rapport à un autre, en dressant une typologie des survivants\n",
    "- créer un algorithme qui pourrait prédire la survie d'un individu à partir de ces caractéristiques."
   ]
  },
  {
   "cell_type": "code",
   "execution_count": 1,
   "metadata": {},
   "outputs": [],
   "source": [
    "import pandas as pd\n",
    "import numpy as np\n",
    "import seaborn as sns\n",
    "import matplotlib.pyplot as plt\n",
    "from matplotlib.ticker import FuncFormatter\n",
    "import statsmodels.formula.api as smf\n",
    "import itertools\n",
    "from random import randint, seed\n",
    "from sklearn.preprocessing import PolynomialFeatures, StandardScaler\n",
    "from sklearn.pipeline import make_pipeline\n",
    "from sklearn.model_selection import train_test_split, GridSearchCV\n",
    "from sklearn.linear_model import LogisticRegression, SGDClassifier\n",
    "from sklearn.metrics import accuracy_score\n",
    "from sklearn.ensemble import RandomForestClassifier\n",
    "from sklearn.neighbors import KNeighborsClassifier\n",
    "from sklearn.tree import DecisionTreeClassifier #for using Decision Tree Algoithm\n",
    "try:\n",
    "    from sklearn.utils._testing import ignore_warnings\n",
    "except ImportError:\n",
    "    from sklearn.utils.testing import ignore_warnings\n",
    "import warnings\n",
    "\n",
    "from sklearn.exceptions import ConvergenceWarning\n",
    "from datetime import datetime\n",
    "from os import getcwd\n",
    "from function import *\n",
    "from mpl_toolkits.mplot3d import Axes3D\n",
    "from joblib import dump, load"
   ]
  },
  {
   "cell_type": "markdown",
   "id": "99f54d2b",
   "metadata": {},
   "source": [
    "## 1. Charger vos données dans un DataFrame Pandas"
   ]
  },
  {
   "cell_type": "code",
   "execution_count": 2,
   "metadata": {},
   "outputs": [
    {
     "name": "stdout",
     "output_type": "stream",
     "text": [
      "Chargement des données...\n"
     ]
    }
   ],
   "source": [
    "# ---------------------------------------------------------------------------------------------\n",
    "#                               MAIN\n",
    "# ---------------------------------------------------------------------------------------------\n",
    "verbose = False\n",
    "verboseMain = False\n",
    "\n",
    "print(\"Chargement des données...\")\n",
    "# Récupère le répertoire du programme\n",
    "file_path = getcwd() + \"\\\\\""
   ]
  },
  {
   "cell_type": "code",
   "execution_count": 3,
   "metadata": {},
   "outputs": [
    {
     "name": "stdout",
     "output_type": "stream",
     "text": [
      "Chargement des données train: (891, 18) , test: (418, 17) .................................. END\n"
     ]
    }
   ],
   "source": [
    "file_name_test = 'titanic_dataset_kaggle_test_process_2022-01-15-18_44_17.csv'\n",
    "file_name_train = 'titanic_dataset_kaggle_train_process_2022-01-15-18_44_17.csv'\n",
    "file_name_test_y = 'titanic_dataset_kaggle_test_y.csv'\n",
    "\n",
    "file_separator = ','\n",
    "\n",
    "df_origin_train = pd.read_csv(file_path+file_name_train, sep=file_separator, index_col=\"PassengerId\")\n",
    "df_origin_test = pd.read_csv(file_path+file_name_test, sep=file_separator, index_col=\"PassengerId\")\n",
    "df_origin_test_y = pd.read_csv(file_path+file_name_test_y, sep=file_separator, index_col=\"PassengerId\")\n",
    "\n",
    "print(\"Chargement des données train:\", df_origin_train.shape, \", test:\", df_origin_test.shape, \".................................. END\")"
   ]
  },
  {
   "cell_type": "code",
   "execution_count": 4,
   "metadata": {},
   "outputs": [
    {
     "data": {
      "text/html": [
       "<div>\n",
       "<style scoped>\n",
       "    .dataframe tbody tr th:only-of-type {\n",
       "        vertical-align: middle;\n",
       "    }\n",
       "\n",
       "    .dataframe tbody tr th {\n",
       "        vertical-align: top;\n",
       "    }\n",
       "\n",
       "    .dataframe thead th {\n",
       "        text-align: right;\n",
       "    }\n",
       "</style>\n",
       "<table border=\"1\" class=\"dataframe\">\n",
       "  <thead>\n",
       "    <tr style=\"text-align: right;\">\n",
       "      <th></th>\n",
       "      <th>Survived</th>\n",
       "      <th>Pclass</th>\n",
       "      <th>Name</th>\n",
       "      <th>Age</th>\n",
       "      <th>Sex</th>\n",
       "      <th>SibSp</th>\n",
       "      <th>Parch</th>\n",
       "      <th>group</th>\n",
       "      <th>Fare</th>\n",
       "      <th>Embarked</th>\n",
       "      <th>deck</th>\n",
       "      <th>Titre</th>\n",
       "      <th>Last_name</th>\n",
       "      <th>First_name</th>\n",
       "      <th>Sex_cod</th>\n",
       "      <th>Titre_cod</th>\n",
       "      <th>Embarked_cod</th>\n",
       "      <th>deck_cod</th>\n",
       "    </tr>\n",
       "    <tr>\n",
       "      <th>PassengerId</th>\n",
       "      <th></th>\n",
       "      <th></th>\n",
       "      <th></th>\n",
       "      <th></th>\n",
       "      <th></th>\n",
       "      <th></th>\n",
       "      <th></th>\n",
       "      <th></th>\n",
       "      <th></th>\n",
       "      <th></th>\n",
       "      <th></th>\n",
       "      <th></th>\n",
       "      <th></th>\n",
       "      <th></th>\n",
       "      <th></th>\n",
       "      <th></th>\n",
       "      <th></th>\n",
       "      <th></th>\n",
       "    </tr>\n",
       "  </thead>\n",
       "  <tbody>\n",
       "    <tr>\n",
       "      <th>1</th>\n",
       "      <td>0</td>\n",
       "      <td>3</td>\n",
       "      <td>Braund, Mr. Owen Harris</td>\n",
       "      <td>22.0</td>\n",
       "      <td>male</td>\n",
       "      <td>1</td>\n",
       "      <td>0</td>\n",
       "      <td>1</td>\n",
       "      <td>7.2500</td>\n",
       "      <td>S</td>\n",
       "      <td>G</td>\n",
       "      <td>Mr</td>\n",
       "      <td>Braund</td>\n",
       "      <td>Owen Harris</td>\n",
       "      <td>1</td>\n",
       "      <td>7</td>\n",
       "      <td>2</td>\n",
       "      <td>6</td>\n",
       "    </tr>\n",
       "    <tr>\n",
       "      <th>2</th>\n",
       "      <td>1</td>\n",
       "      <td>1</td>\n",
       "      <td>Cumings, Mrs. John Bradley (Florence Briggs Th...</td>\n",
       "      <td>38.0</td>\n",
       "      <td>female</td>\n",
       "      <td>1</td>\n",
       "      <td>0</td>\n",
       "      <td>1</td>\n",
       "      <td>71.2833</td>\n",
       "      <td>C</td>\n",
       "      <td>C</td>\n",
       "      <td>Mrs</td>\n",
       "      <td>Cumings</td>\n",
       "      <td>John Bradley (Florence Briggs Thayer)</td>\n",
       "      <td>0</td>\n",
       "      <td>8</td>\n",
       "      <td>0</td>\n",
       "      <td>2</td>\n",
       "    </tr>\n",
       "    <tr>\n",
       "      <th>3</th>\n",
       "      <td>1</td>\n",
       "      <td>3</td>\n",
       "      <td>Heikkinen, Miss. Laina</td>\n",
       "      <td>26.0</td>\n",
       "      <td>female</td>\n",
       "      <td>0</td>\n",
       "      <td>0</td>\n",
       "      <td>0</td>\n",
       "      <td>7.9250</td>\n",
       "      <td>S</td>\n",
       "      <td>G</td>\n",
       "      <td>Miss</td>\n",
       "      <td>Heikkinen</td>\n",
       "      <td>Laina</td>\n",
       "      <td>0</td>\n",
       "      <td>6</td>\n",
       "      <td>2</td>\n",
       "      <td>6</td>\n",
       "    </tr>\n",
       "    <tr>\n",
       "      <th>4</th>\n",
       "      <td>1</td>\n",
       "      <td>1</td>\n",
       "      <td>Futrelle, Mrs. Jacques Heath (Lily May Peel)</td>\n",
       "      <td>35.0</td>\n",
       "      <td>female</td>\n",
       "      <td>1</td>\n",
       "      <td>0</td>\n",
       "      <td>1</td>\n",
       "      <td>53.1000</td>\n",
       "      <td>S</td>\n",
       "      <td>C</td>\n",
       "      <td>Mrs</td>\n",
       "      <td>Futrelle</td>\n",
       "      <td>Jacques Heath (Lily May Peel)</td>\n",
       "      <td>0</td>\n",
       "      <td>8</td>\n",
       "      <td>2</td>\n",
       "      <td>2</td>\n",
       "    </tr>\n",
       "    <tr>\n",
       "      <th>5</th>\n",
       "      <td>0</td>\n",
       "      <td>3</td>\n",
       "      <td>Allen, Mr. William Henry</td>\n",
       "      <td>35.0</td>\n",
       "      <td>male</td>\n",
       "      <td>0</td>\n",
       "      <td>0</td>\n",
       "      <td>0</td>\n",
       "      <td>8.0500</td>\n",
       "      <td>S</td>\n",
       "      <td>B</td>\n",
       "      <td>Mr</td>\n",
       "      <td>Allen</td>\n",
       "      <td>William Henry</td>\n",
       "      <td>1</td>\n",
       "      <td>7</td>\n",
       "      <td>2</td>\n",
       "      <td>1</td>\n",
       "    </tr>\n",
       "  </tbody>\n",
       "</table>\n",
       "</div>"
      ],
      "text/plain": [
       "             Survived  Pclass  \\\n",
       "PassengerId                     \n",
       "1                   0       3   \n",
       "2                   1       1   \n",
       "3                   1       3   \n",
       "4                   1       1   \n",
       "5                   0       3   \n",
       "\n",
       "                                                          Name   Age     Sex  \\\n",
       "PassengerId                                                                    \n",
       "1                                      Braund, Mr. Owen Harris  22.0    male   \n",
       "2            Cumings, Mrs. John Bradley (Florence Briggs Th...  38.0  female   \n",
       "3                                       Heikkinen, Miss. Laina  26.0  female   \n",
       "4                 Futrelle, Mrs. Jacques Heath (Lily May Peel)  35.0  female   \n",
       "5                                     Allen, Mr. William Henry  35.0    male   \n",
       "\n",
       "             SibSp  Parch  group     Fare Embarked deck Titre  Last_name  \\\n",
       "PassengerId                                                                \n",
       "1                1      0      1   7.2500        S    G    Mr     Braund   \n",
       "2                1      0      1  71.2833        C    C   Mrs    Cumings   \n",
       "3                0      0      0   7.9250        S    G  Miss  Heikkinen   \n",
       "4                1      0      1  53.1000        S    C   Mrs   Futrelle   \n",
       "5                0      0      0   8.0500        S    B    Mr      Allen   \n",
       "\n",
       "                                        First_name  Sex_cod  Titre_cod  \\\n",
       "PassengerId                                                              \n",
       "1                                      Owen Harris        1          7   \n",
       "2            John Bradley (Florence Briggs Thayer)        0          8   \n",
       "3                                            Laina        0          6   \n",
       "4                    Jacques Heath (Lily May Peel)        0          8   \n",
       "5                                    William Henry        1          7   \n",
       "\n",
       "             Embarked_cod  deck_cod  \n",
       "PassengerId                          \n",
       "1                       2         6  \n",
       "2                       0         2  \n",
       "3                       2         6  \n",
       "4                       2         2  \n",
       "5                       2         1  "
      ]
     },
     "execution_count": 4,
     "metadata": {},
     "output_type": "execute_result"
    }
   ],
   "source": [
    "df_origin_train.head()"
   ]
  },
  {
   "cell_type": "code",
   "execution_count": 5,
   "metadata": {},
   "outputs": [
    {
     "data": {
      "text/html": [
       "<div>\n",
       "<style scoped>\n",
       "    .dataframe tbody tr th:only-of-type {\n",
       "        vertical-align: middle;\n",
       "    }\n",
       "\n",
       "    .dataframe tbody tr th {\n",
       "        vertical-align: top;\n",
       "    }\n",
       "\n",
       "    .dataframe thead th {\n",
       "        text-align: right;\n",
       "    }\n",
       "</style>\n",
       "<table border=\"1\" class=\"dataframe\">\n",
       "  <thead>\n",
       "    <tr style=\"text-align: right;\">\n",
       "      <th></th>\n",
       "      <th>Pclass</th>\n",
       "      <th>Name</th>\n",
       "      <th>Age</th>\n",
       "      <th>Sex</th>\n",
       "      <th>SibSp</th>\n",
       "      <th>Parch</th>\n",
       "      <th>group</th>\n",
       "      <th>Fare</th>\n",
       "      <th>Embarked</th>\n",
       "      <th>deck</th>\n",
       "      <th>Titre</th>\n",
       "      <th>Last_name</th>\n",
       "      <th>First_name</th>\n",
       "      <th>Sex_cod</th>\n",
       "      <th>Titre_cod</th>\n",
       "      <th>Embarked_cod</th>\n",
       "      <th>deck_cod</th>\n",
       "    </tr>\n",
       "    <tr>\n",
       "      <th>PassengerId</th>\n",
       "      <th></th>\n",
       "      <th></th>\n",
       "      <th></th>\n",
       "      <th></th>\n",
       "      <th></th>\n",
       "      <th></th>\n",
       "      <th></th>\n",
       "      <th></th>\n",
       "      <th></th>\n",
       "      <th></th>\n",
       "      <th></th>\n",
       "      <th></th>\n",
       "      <th></th>\n",
       "      <th></th>\n",
       "      <th></th>\n",
       "      <th></th>\n",
       "      <th></th>\n",
       "    </tr>\n",
       "  </thead>\n",
       "  <tbody>\n",
       "    <tr>\n",
       "      <th>892</th>\n",
       "      <td>3</td>\n",
       "      <td>Kelly, Mr. James</td>\n",
       "      <td>34.5</td>\n",
       "      <td>male</td>\n",
       "      <td>0</td>\n",
       "      <td>0</td>\n",
       "      <td>0</td>\n",
       "      <td>7.8292</td>\n",
       "      <td>Q</td>\n",
       "      <td>F</td>\n",
       "      <td>Mr</td>\n",
       "      <td>Kelly</td>\n",
       "      <td>James</td>\n",
       "      <td>1</td>\n",
       "      <td>5</td>\n",
       "      <td>1</td>\n",
       "      <td>5</td>\n",
       "    </tr>\n",
       "    <tr>\n",
       "      <th>893</th>\n",
       "      <td>3</td>\n",
       "      <td>Wilkes, Mrs. James (Ellen Needs)</td>\n",
       "      <td>47.0</td>\n",
       "      <td>female</td>\n",
       "      <td>1</td>\n",
       "      <td>0</td>\n",
       "      <td>1</td>\n",
       "      <td>7.0000</td>\n",
       "      <td>S</td>\n",
       "      <td>F</td>\n",
       "      <td>Mrs</td>\n",
       "      <td>Wilkes</td>\n",
       "      <td>James (Ellen Needs)</td>\n",
       "      <td>0</td>\n",
       "      <td>6</td>\n",
       "      <td>2</td>\n",
       "      <td>5</td>\n",
       "    </tr>\n",
       "    <tr>\n",
       "      <th>894</th>\n",
       "      <td>2</td>\n",
       "      <td>Myles, Mr. Thomas Francis</td>\n",
       "      <td>62.0</td>\n",
       "      <td>male</td>\n",
       "      <td>0</td>\n",
       "      <td>0</td>\n",
       "      <td>0</td>\n",
       "      <td>9.6875</td>\n",
       "      <td>Q</td>\n",
       "      <td>B</td>\n",
       "      <td>Mr</td>\n",
       "      <td>Myles</td>\n",
       "      <td>Thomas Francis</td>\n",
       "      <td>1</td>\n",
       "      <td>5</td>\n",
       "      <td>1</td>\n",
       "      <td>1</td>\n",
       "    </tr>\n",
       "    <tr>\n",
       "      <th>895</th>\n",
       "      <td>3</td>\n",
       "      <td>Wirz, Mr. Albert</td>\n",
       "      <td>27.0</td>\n",
       "      <td>male</td>\n",
       "      <td>0</td>\n",
       "      <td>0</td>\n",
       "      <td>0</td>\n",
       "      <td>8.6625</td>\n",
       "      <td>S</td>\n",
       "      <td>A</td>\n",
       "      <td>Mr</td>\n",
       "      <td>Wirz</td>\n",
       "      <td>Albert</td>\n",
       "      <td>1</td>\n",
       "      <td>5</td>\n",
       "      <td>2</td>\n",
       "      <td>0</td>\n",
       "    </tr>\n",
       "    <tr>\n",
       "      <th>896</th>\n",
       "      <td>3</td>\n",
       "      <td>Hirvonen, Mrs. Alexander (Helga E Lindqvist)</td>\n",
       "      <td>22.0</td>\n",
       "      <td>female</td>\n",
       "      <td>1</td>\n",
       "      <td>1</td>\n",
       "      <td>2</td>\n",
       "      <td>12.2875</td>\n",
       "      <td>S</td>\n",
       "      <td>E</td>\n",
       "      <td>Mrs</td>\n",
       "      <td>Hirvonen</td>\n",
       "      <td>Alexander (Helga E Lindqvist)</td>\n",
       "      <td>0</td>\n",
       "      <td>6</td>\n",
       "      <td>2</td>\n",
       "      <td>4</td>\n",
       "    </tr>\n",
       "  </tbody>\n",
       "</table>\n",
       "</div>"
      ],
      "text/plain": [
       "             Pclass                                          Name   Age  \\\n",
       "PassengerId                                                               \n",
       "892               3                              Kelly, Mr. James  34.5   \n",
       "893               3              Wilkes, Mrs. James (Ellen Needs)  47.0   \n",
       "894               2                     Myles, Mr. Thomas Francis  62.0   \n",
       "895               3                              Wirz, Mr. Albert  27.0   \n",
       "896               3  Hirvonen, Mrs. Alexander (Helga E Lindqvist)  22.0   \n",
       "\n",
       "                Sex  SibSp  Parch  group     Fare Embarked deck Titre  \\\n",
       "PassengerId                                                             \n",
       "892            male      0      0      0   7.8292        Q    F    Mr   \n",
       "893          female      1      0      1   7.0000        S    F   Mrs   \n",
       "894            male      0      0      0   9.6875        Q    B    Mr   \n",
       "895            male      0      0      0   8.6625        S    A    Mr   \n",
       "896          female      1      1      2  12.2875        S    E   Mrs   \n",
       "\n",
       "            Last_name                     First_name  Sex_cod  Titre_cod  \\\n",
       "PassengerId                                                                \n",
       "892             Kelly                          James        1          5   \n",
       "893            Wilkes            James (Ellen Needs)        0          6   \n",
       "894             Myles                 Thomas Francis        1          5   \n",
       "895              Wirz                         Albert        1          5   \n",
       "896          Hirvonen  Alexander (Helga E Lindqvist)        0          6   \n",
       "\n",
       "             Embarked_cod  deck_cod  \n",
       "PassengerId                          \n",
       "892                     1         5  \n",
       "893                     2         5  \n",
       "894                     1         1  \n",
       "895                     2         0  \n",
       "896                     2         4  "
      ]
     },
     "execution_count": 5,
     "metadata": {},
     "output_type": "execute_result"
    }
   ],
   "source": [
    "df_origin_test.head()"
   ]
  },
  {
   "cell_type": "code",
   "execution_count": 6,
   "metadata": {},
   "outputs": [
    {
     "data": {
      "text/html": [
       "<div>\n",
       "<style scoped>\n",
       "    .dataframe tbody tr th:only-of-type {\n",
       "        vertical-align: middle;\n",
       "    }\n",
       "\n",
       "    .dataframe tbody tr th {\n",
       "        vertical-align: top;\n",
       "    }\n",
       "\n",
       "    .dataframe thead th {\n",
       "        text-align: right;\n",
       "    }\n",
       "</style>\n",
       "<table border=\"1\" class=\"dataframe\">\n",
       "  <thead>\n",
       "    <tr style=\"text-align: right;\">\n",
       "      <th></th>\n",
       "      <th>Survived</th>\n",
       "    </tr>\n",
       "    <tr>\n",
       "      <th>PassengerId</th>\n",
       "      <th></th>\n",
       "    </tr>\n",
       "  </thead>\n",
       "  <tbody>\n",
       "    <tr>\n",
       "      <th>892</th>\n",
       "      <td>0</td>\n",
       "    </tr>\n",
       "    <tr>\n",
       "      <th>893</th>\n",
       "      <td>1</td>\n",
       "    </tr>\n",
       "    <tr>\n",
       "      <th>894</th>\n",
       "      <td>0</td>\n",
       "    </tr>\n",
       "    <tr>\n",
       "      <th>895</th>\n",
       "      <td>0</td>\n",
       "    </tr>\n",
       "    <tr>\n",
       "      <th>896</th>\n",
       "      <td>1</td>\n",
       "    </tr>\n",
       "  </tbody>\n",
       "</table>\n",
       "</div>"
      ],
      "text/plain": [
       "             Survived\n",
       "PassengerId          \n",
       "892                 0\n",
       "893                 1\n",
       "894                 0\n",
       "895                 0\n",
       "896                 1"
      ]
     },
     "execution_count": 6,
     "metadata": {},
     "output_type": "execute_result"
    }
   ],
   "source": [
    "df_origin_test_y.head()"
   ]
  },
  {
   "cell_type": "markdown",
   "metadata": {},
   "source": [
    "#  2. Typage et Organisation des données"
   ]
  },
  {
   "cell_type": "code",
   "execution_count": 7,
   "metadata": {},
   "outputs": [
    {
     "data": {
      "text/plain": [
       "Survived          int64\n",
       "Pclass            int64\n",
       "Name             object\n",
       "Age             float64\n",
       "Sex              object\n",
       "SibSp             int64\n",
       "Parch             int64\n",
       "group             int64\n",
       "Fare            float64\n",
       "Embarked         object\n",
       "deck             object\n",
       "Titre            object\n",
       "Last_name        object\n",
       "First_name       object\n",
       "Sex_cod           int64\n",
       "Titre_cod         int64\n",
       "Embarked_cod      int64\n",
       "deck_cod          int64\n",
       "dtype: object"
      ]
     },
     "execution_count": 7,
     "metadata": {},
     "output_type": "execute_result"
    }
   ],
   "source": [
    "df_origin_train.dtypes"
   ]
  },
  {
   "cell_type": "code",
   "execution_count": 8,
   "metadata": {},
   "outputs": [
    {
     "data": {
      "text/plain": [
       "Pclass            int64\n",
       "Name             object\n",
       "Age             float64\n",
       "Sex              object\n",
       "SibSp             int64\n",
       "Parch             int64\n",
       "group             int64\n",
       "Fare            float64\n",
       "Embarked         object\n",
       "deck             object\n",
       "Titre            object\n",
       "Last_name        object\n",
       "First_name       object\n",
       "Sex_cod           int64\n",
       "Titre_cod         int64\n",
       "Embarked_cod      int64\n",
       "deck_cod          int64\n",
       "dtype: object"
      ]
     },
     "execution_count": 8,
     "metadata": {},
     "output_type": "execute_result"
    }
   ],
   "source": [
    "df_origin_test.dtypes"
   ]
  },
  {
   "cell_type": "code",
   "execution_count": 9,
   "metadata": {},
   "outputs": [
    {
     "data": {
      "text/plain": [
       "Survived    int64\n",
       "dtype: object"
      ]
     },
     "execution_count": 9,
     "metadata": {},
     "output_type": "execute_result"
    }
   ],
   "source": [
    "df_origin_test_y.dtypes"
   ]
  },
  {
   "cell_type": "code",
   "execution_count": 10,
   "metadata": {},
   "outputs": [
    {
     "data": {
      "text/plain": [
       "Survived        0\n",
       "Pclass          0\n",
       "Name            0\n",
       "Age             0\n",
       "Sex             0\n",
       "SibSp           0\n",
       "Parch           0\n",
       "group           0\n",
       "Fare            0\n",
       "Embarked        2\n",
       "deck            0\n",
       "Titre           0\n",
       "Last_name       0\n",
       "First_name      0\n",
       "Sex_cod         0\n",
       "Titre_cod       0\n",
       "Embarked_cod    0\n",
       "deck_cod        0\n",
       "dtype: int64"
      ]
     },
     "execution_count": 10,
     "metadata": {},
     "output_type": "execute_result"
    }
   ],
   "source": [
    "df_origin_train.isna().sum()"
   ]
  },
  {
   "cell_type": "code",
   "execution_count": 11,
   "metadata": {},
   "outputs": [
    {
     "data": {
      "text/plain": [
       "Pclass          0\n",
       "Name            0\n",
       "Age             0\n",
       "Sex             0\n",
       "SibSp           0\n",
       "Parch           0\n",
       "group           0\n",
       "Fare            0\n",
       "Embarked        0\n",
       "deck            0\n",
       "Titre           0\n",
       "Last_name       0\n",
       "First_name      0\n",
       "Sex_cod         0\n",
       "Titre_cod       0\n",
       "Embarked_cod    0\n",
       "deck_cod        0\n",
       "dtype: int64"
      ]
     },
     "execution_count": 11,
     "metadata": {},
     "output_type": "execute_result"
    }
   ],
   "source": [
    "df_origin_test['Fare'] = df_origin_test['Fare'].fillna(0)\n",
    "df_origin_test.isna().sum()"
   ]
  },
  {
   "cell_type": "code",
   "execution_count": 12,
   "metadata": {},
   "outputs": [
    {
     "data": {
      "text/plain": [
       "Survived    0\n",
       "dtype: int64"
      ]
     },
     "execution_count": 12,
     "metadata": {},
     "output_type": "execute_result"
    }
   ],
   "source": [
    "df_origin_test_y.isna().sum()"
   ]
  },
  {
   "cell_type": "code",
   "execution_count": 13,
   "metadata": {},
   "outputs": [
    {
     "data": {
      "text/plain": [
       "1.0"
      ]
     },
     "execution_count": 13,
     "metadata": {},
     "output_type": "execute_result"
    }
   ],
   "source": [
    "# Logistic Regression:\n",
    "# ['Age', 'Sex_cod', 'Titre_cod', 'deck_cod'],     {'fit_intercept': True, 'penalty': 'l2', 'solver': 'liblinear'}\n",
    "\n",
    "# 1.0 for test ( 0.79 for train) => Logistic Regression, with: ['Pclass', 'Sex_cod', 'Titre_cod']\n",
    "# 1.0 for test ( 0.79 for train) => K Nearest Neighbor, with: ['Pclass', 'Sex_cod']\n",
    "# 1.0 for test ( 0.79 for train) => Decision Tree, with: ['Sex_cod']\n",
    "# 1.0 for test ( 0.79 for train) => Random Forest, with: ['Pclass', 'Sex_cod']\n",
    "# 1.0 for test ( 0.79 for train) => Support Vector Machine (Linear)\n",
    "# 0.65 for test ( 0.69 for train) => Support Vector Machine (RBF)\n",
    "# 0.81 for test ( 0.79 for train) => Gaussian Naive Bayes\n",
    "\n",
    "\n",
    "to_predict_columns = 'Survived'\n",
    "columns = ['Pclass', 'Sex_cod', 'Titre_cod']\n",
    "\n",
    "X_train = df_origin_train[columns]\n",
    "y_train = df_origin_train[to_predict_columns]\n",
    "\n",
    "X_test = df_origin_test[columns]\n",
    "y_test = df_origin_test_y[to_predict_columns]\n",
    "\n",
    "my_model_kaggle = LogisticRegression(penalty=\"l2\", fit_intercept=True,solver='liblinear')\n",
    "my_model_kaggle.fit(X_train, y_train)\n",
    "my_model_kaggle.score(X_test, y_test)"
   ]
  },
  {
   "cell_type": "code",
   "execution_count": 14,
   "metadata": {},
   "outputs": [
    {
     "data": {
      "text/plain": [
       "0.7867564534231201"
      ]
     },
     "execution_count": 14,
     "metadata": {},
     "output_type": "execute_result"
    }
   ],
   "source": [
    "my_model_kaggle.score(X_train, y_train)"
   ]
  },
  {
   "cell_type": "code",
   "execution_count": 15,
   "metadata": {},
   "outputs": [
    {
     "data": {
      "text/plain": [
       "array([0, 1, 0, 0, 1, 0, 1, 0, 1, 0, 0, 0, 1, 0, 1, 1, 0, 0, 1, 1, 0, 0,\n",
       "       1, 0, 1, 0, 1, 0, 0, 0, 0, 0, 1, 1, 0, 0, 1, 1, 0, 0, 0, 0, 0, 1,\n",
       "       1, 0, 0, 0, 1, 1, 0, 0, 1, 1, 0, 0, 0, 0, 0, 1, 0, 0, 0, 1, 0, 1,\n",
       "       1, 0, 0, 1, 1, 0, 1, 0, 1, 0, 0, 1, 0, 1, 0, 0, 0, 0, 0, 0, 1, 1,\n",
       "       1, 0, 1, 0, 1, 0, 0, 0, 1, 0, 1, 0, 1, 0, 0, 0, 1, 0, 0, 0, 0, 0,\n",
       "       0, 1, 1, 1, 1, 0, 0, 1, 0, 1, 1, 0, 1, 0, 0, 1, 0, 1, 0, 0, 0, 0,\n",
       "       1, 0, 0, 0, 0, 0, 1, 0, 1, 1, 0, 0, 0, 0, 0, 0, 0, 0, 1, 0, 0, 1,\n",
       "       0, 0, 1, 1, 0, 1, 1, 0, 1, 0, 0, 1, 0, 0, 1, 1, 0, 0, 0, 0, 0, 1,\n",
       "       1, 0, 1, 1, 0, 0, 1, 0, 1, 0, 1, 0, 1, 0, 0, 0, 0, 0, 0, 0, 0, 1,\n",
       "       0, 1, 1, 0, 0, 1, 0, 0, 1, 0, 1, 0, 0, 0, 0, 1, 1, 0, 1, 0, 1, 0,\n",
       "       1, 0, 1, 0, 1, 1, 0, 1, 0, 0, 0, 1, 0, 0, 0, 0, 0, 0, 1, 1, 1, 1,\n",
       "       0, 0, 0, 0, 1, 0, 1, 1, 1, 0, 0, 0, 0, 0, 0, 0, 1, 0, 0, 0, 1, 1,\n",
       "       0, 0, 0, 0, 1, 0, 0, 0, 1, 1, 0, 1, 0, 0, 0, 0, 1, 0, 1, 1, 1, 0,\n",
       "       0, 0, 0, 0, 0, 1, 0, 0, 0, 0, 1, 0, 0, 0, 0, 0, 0, 0, 1, 1, 0, 0,\n",
       "       0, 1, 0, 0, 0, 1, 1, 1, 0, 0, 0, 0, 0, 0, 0, 0, 1, 0, 1, 0, 0, 0,\n",
       "       1, 0, 0, 1, 0, 0, 0, 0, 0, 0, 0, 0, 0, 1, 0, 1, 0, 1, 0, 1, 1, 0,\n",
       "       0, 0, 1, 0, 1, 0, 0, 1, 0, 1, 1, 0, 1, 1, 0, 1, 1, 0, 0, 1, 0, 0,\n",
       "       1, 1, 1, 0, 0, 0, 0, 0, 1, 1, 0, 1, 0, 0, 0, 0, 0, 1, 0, 0, 0, 1,\n",
       "       0, 1, 0, 0, 1, 0, 1, 0, 0, 0, 0, 0, 1, 1, 1, 1, 1, 0, 1, 0, 0, 0],\n",
       "      dtype=int64)"
      ]
     },
     "execution_count": 15,
     "metadata": {},
     "output_type": "execute_result"
    }
   ],
   "source": [
    "prediction = my_model_kaggle.predict(X_test)\n",
    "prediction"
   ]
  },
  {
   "cell_type": "code",
   "execution_count": 20,
   "metadata": {},
   "outputs": [
    {
     "data": {
      "text/html": [
       "<div>\n",
       "<style scoped>\n",
       "    .dataframe tbody tr th:only-of-type {\n",
       "        vertical-align: middle;\n",
       "    }\n",
       "\n",
       "    .dataframe tbody tr th {\n",
       "        vertical-align: top;\n",
       "    }\n",
       "\n",
       "    .dataframe thead th {\n",
       "        text-align: right;\n",
       "    }\n",
       "</style>\n",
       "<table border=\"1\" class=\"dataframe\">\n",
       "  <thead>\n",
       "    <tr style=\"text-align: right;\">\n",
       "      <th></th>\n",
       "      <th>PassengerId</th>\n",
       "      <th>Survived</th>\n",
       "    </tr>\n",
       "  </thead>\n",
       "  <tbody>\n",
       "    <tr>\n",
       "      <th>0</th>\n",
       "      <td>892</td>\n",
       "      <td>0</td>\n",
       "    </tr>\n",
       "    <tr>\n",
       "      <th>1</th>\n",
       "      <td>893</td>\n",
       "      <td>1</td>\n",
       "    </tr>\n",
       "    <tr>\n",
       "      <th>2</th>\n",
       "      <td>894</td>\n",
       "      <td>0</td>\n",
       "    </tr>\n",
       "    <tr>\n",
       "      <th>3</th>\n",
       "      <td>895</td>\n",
       "      <td>0</td>\n",
       "    </tr>\n",
       "    <tr>\n",
       "      <th>4</th>\n",
       "      <td>896</td>\n",
       "      <td>1</td>\n",
       "    </tr>\n",
       "    <tr>\n",
       "      <th>...</th>\n",
       "      <td>...</td>\n",
       "      <td>...</td>\n",
       "    </tr>\n",
       "    <tr>\n",
       "      <th>413</th>\n",
       "      <td>1305</td>\n",
       "      <td>0</td>\n",
       "    </tr>\n",
       "    <tr>\n",
       "      <th>414</th>\n",
       "      <td>1306</td>\n",
       "      <td>1</td>\n",
       "    </tr>\n",
       "    <tr>\n",
       "      <th>415</th>\n",
       "      <td>1307</td>\n",
       "      <td>0</td>\n",
       "    </tr>\n",
       "    <tr>\n",
       "      <th>416</th>\n",
       "      <td>1308</td>\n",
       "      <td>0</td>\n",
       "    </tr>\n",
       "    <tr>\n",
       "      <th>417</th>\n",
       "      <td>1309</td>\n",
       "      <td>0</td>\n",
       "    </tr>\n",
       "  </tbody>\n",
       "</table>\n",
       "<p>418 rows × 2 columns</p>\n",
       "</div>"
      ],
      "text/plain": [
       "     PassengerId  Survived\n",
       "0            892         0\n",
       "1            893         1\n",
       "2            894         0\n",
       "3            895         0\n",
       "4            896         1\n",
       "..           ...       ...\n",
       "413         1305         0\n",
       "414         1306         1\n",
       "415         1307         0\n",
       "416         1308         0\n",
       "417         1309         0\n",
       "\n",
       "[418 rows x 2 columns]"
      ]
     },
     "execution_count": 20,
     "metadata": {},
     "output_type": "execute_result"
    }
   ],
   "source": [
    "df_precition = X_test.copy()\n",
    "df_precition[to_predict_columns] = prediction.tolist()\n",
    "df_precition = df_precition[[to_predict_columns]]\n",
    "df_precition = df_precition.reset_index()\n",
    "df_precition"
   ]
  },
  {
   "cell_type": "code",
   "execution_count": 17,
   "metadata": {},
   "outputs": [
    {
     "data": {
      "text/plain": [
       "'c:\\\\Users\\\\User\\\\WORK\\\\wokspace-simplon3\\\\simplon\\\\projets\\\\titanic\\\\'"
      ]
     },
     "execution_count": 17,
     "metadata": {},
     "output_type": "execute_result"
    }
   ],
   "source": [
    "file_path"
   ]
  },
  {
   "cell_type": "code",
   "execution_count": 21,
   "metadata": {},
   "outputs": [],
   "source": [
    "now = datetime.now() # current date and time\n",
    "date_time = now.strftime(\"%Y-%m-%d-%H_%M_%S\")\n",
    "# Création d'un fichier CVS plus léger pour faciliter la phase de d'analyse des données\n",
    "df_precition.to_csv(file_path+'predictions_' + date_time + '.csv', sep=',', index=False)"
   ]
  },
  {
   "cell_type": "markdown",
   "metadata": {},
   "source": [
    "# Machine Learning\n",
    "\n",
    "La compétition a été l’occasion de revenir sur ce jeu de données très célèbre, et plusieurs tâches étaient attendues, :\n",
    "- identifier les facteurs favorisants la survie d'un passager par rapport à un autre, en dressant une typologie des survivants\n",
    "- créer un algorithme qui pourrait prédire la survie d'un individu à partir de ces caractéristiques.\n",
    "\n",
    "Vous avez été ajouté à une équipe et le travail et lancé depuis quelques semaines : à cette étape,  la mission est en réalité finie (c.f. le présent notebook). Vos co-équipiers ont travaillé dur : il faut dans un premier temps vous approprier leur travail."
   ]
  },
  {
   "cell_type": "code",
   "execution_count": 13,
   "metadata": {},
   "outputs": [],
   "source": [
    "random_state = 0"
   ]
  },
  {
   "cell_type": "code",
   "execution_count": 14,
   "metadata": {},
   "outputs": [
    {
     "data": {
      "text/plain": [
       "Index(['Survived', 'Pclass', 'Name', 'Age', 'Sex', 'SibSp', 'Parch', 'group',\n",
       "       'Fare', 'Embarked', 'deck', 'Titre', 'Last_name', 'First_name',\n",
       "       'Sex_cod', 'Titre_cod', 'Embarked_cod', 'deck_cod'],\n",
       "      dtype='object')"
      ]
     },
     "execution_count": 14,
     "metadata": {},
     "output_type": "execute_result"
    }
   ],
   "source": [
    "df_origin_train.columns"
   ]
  },
  {
   "cell_type": "code",
   "execution_count": 15,
   "metadata": {},
   "outputs": [],
   "source": [
    "to_predict_columns = 'Survived'\n",
    "columns = ['Pclass', 'Sex_cod', 'Titre_cod', 'Age', 'group', 'Fare', 'Embarked_cod', 'deck_cod'] \n",
    "\n",
    "X_train = df_origin_train[columns]\n",
    "y_train = df_origin_train[to_predict_columns]\n",
    "\n",
    "X_test = df_origin_test[columns]\n",
    "y_test = df_origin_test_y[to_predict_columns]"
   ]
  },
  {
   "cell_type": "markdown",
   "metadata": {},
   "source": [
    "<mark>Manuellement j'avais les résultats suivants :</mark>\n",
    "```python\n",
    "1.0 for test ( 0.79 for train) => Logistic Regression, with: ['Pclass', 'Sex_cod', 'Titre_cod']\n",
    "1.0 for test ( 0.79 for train) => K Nearest Neighbor, with: ['Pclass', 'Sex_cod']\n",
    "1.0 for test ( 0.79 for train) => Decision Tree, with: ['Sex_cod']\n",
    "1.0 for test ( 0.79 for train) => Random Forest, with: ['Pclass', 'Sex_cod']\n",
    "1.0 for test ( 0.79 for train) => Support Vector Machine (Linear)\n",
    "0.65 for test ( 0.69 for train) => Support Vector Machine (RBF)\n",
    "0.81 for test ( 0.79 for train) => Gaussian Naive Bayes\n",
    "```\n",
    "Les paramétrages correspondants :\n",
    "```python\n",
    "LogisticReg : \n",
    "* fit_intercept= True or False\n",
    "* penalty=none or l2 or l1\n",
    "* solver=liblinear or newton-cg or lbfgs or sag or saga\n",
    "* columns = ['Pclass', 'Sex_cod', 'Titre_cod']\n",
    "\n",
    "KNN : \n",
    "* KNN = 2 :['Pclass', 'Sex_cod']\n",
    "* KNN = 4 :['Embarked_cod', 'Pclass', 'Sex_cod']\n",
    "* KNN = 1 :['Sex_cod']\n",
    "* KNN = 1 :['Sex_cod', 'Titre_cod']\n",
    "* KNN = 1 :['Embarked_cod', 'Sex_cod']\n",
    "* KNN = 7 :['Sex_cod', 'deck_cod']\n",
    "\n",
    "Decision Tree\n",
    "* criterion = gini or entropy\n",
    "* splitter=best or random\n",
    "* columns = ['Sex_cod'] (0.98 de test <=> 0.81 de train, avec ['Pclass', 'Sex_cod', 'group'])\n",
    "\n",
    "RandomForest :\n",
    "* n_estimators= de 3 à 99 \n",
    "* criterion=gini or entropy\n",
    "* columns = ['Pclass', 'Sex_cod']\n",
    "```"
   ]
  },
  {
   "cell_type": "markdown",
   "metadata": {},
   "source": [
    "## 5.0 Transform"
   ]
  },
  {
   "cell_type": "code",
   "execution_count": 16,
   "metadata": {},
   "outputs": [
    {
     "data": {
      "text/plain": [
       "array([[ 0.58111394,  0.82737724,  0.73769513],\n",
       "       [-1.93846038, -1.56610693, -1.35557354],\n",
       "       [ 0.58111394,  0.82737724, -1.35557354],\n",
       "       ...,\n",
       "       [ 0.58111394,  0.82737724, -1.35557354],\n",
       "       [-1.93846038, -1.56610693,  0.73769513],\n",
       "       [-0.67867322,  0.82737724,  0.73769513]])"
      ]
     },
     "execution_count": 16,
     "metadata": {},
     "output_type": "execute_result"
    }
   ],
   "source": [
    "# Transformer\n",
    "scaler = StandardScaler()\n",
    "X_train_transform = scaler.fit_transform(X_train[['Embarked_cod', 'Pclass', 'Sex_cod']])\n",
    "X_train_transform"
   ]
  },
  {
   "cell_type": "code",
   "execution_count": 17,
   "metadata": {},
   "outputs": [],
   "source": [
    "grid_ex_params = {\n",
    "            'polynomialfeatures__degree' : [2,3,4],\n",
    "            'standardscaler__penality' : [None, 'l2', 'l1', 'elasticnet'],\n",
    "            'standardscaler__with_mean' : [True, False],\n",
    "            'standardscaler__with_std' : [True, False],\n",
    "            'KNeighborsClassifier__n_neighbors': [range(1,10)],\n",
    "            'KNeighborsClassifier__p': [range(1,10)],# TODO compléter les valeurs\n",
    "            'KNeighborsClassifier__metric' : ['minkowski'], # TODO compléter les valeurs\n",
    "            'KNeighborsClassifier__weights' : ['uniform', 'distance'],\n",
    "            'KNeighborsClassifier__algorithm' : ['auto', 'ball_tree', 'kd_tree', 'brute'],\n",
    "            'DecisionTreeClassifier__criterion' : [\"gini\", \"entropy\"],\n",
    "            'DecisionTreeClassifier__splitter' : [\"best\", \"random\"],\n",
    "            'RandomForestClassifier__criterion' : [\"gini\", \"entropy\"],\n",
    "            'RandomForestClassifier__n_estimators' : [range(1,100,10)],\n",
    "            'LogisticRegression__solver' : [\"newton-cg\", \"lbfgs\", \"liblinear\", \"sag\", \"saga\"],\n",
    "            'LogisticRegression__penality' : [None, 'l2', 'l1', 'elasticnet'],\n",
    "            'LogisticRegression__fit_intercept' :[True, False],\n",
    "            'SVC__kernel': ['linear', 'rbf'] # TODO compléter les valeurs\n",
    "}"
   ]
  },
  {
   "cell_type": "code",
   "execution_count": 18,
   "metadata": {},
   "outputs": [],
   "source": [
    "grid_ex_params = {\n",
    "            'polynomialfeatures__degree' : [2,3,4],\n",
    "            'standardscaler__with_mean' : [True, False],\n",
    "            'standardscaler__with_std' : [True, False]\n",
    "}"
   ]
  },
  {
   "cell_type": "code",
   "execution_count": 19,
   "metadata": {},
   "outputs": [
    {
     "data": {
      "text/plain": [
       "Pipeline(steps=[('polynomialfeatures', PolynomialFeatures()),\n",
       "                ('standardscaler', StandardScaler()),\n",
       "                ('sgdclassifier', SGDClassifier(random_state=0))])"
      ]
     },
     "execution_count": 19,
     "metadata": {},
     "output_type": "execute_result"
    }
   ],
   "source": [
    "grid_ex_pipeline = make_pipeline(PolynomialFeatures(), \n",
    "                           StandardScaler(), \n",
    "                           SGDClassifier(random_state=random_state))\n",
    "grid_ex_pipeline"
   ]
  },
  {
   "cell_type": "code",
   "execution_count": 20,
   "metadata": {},
   "outputs": [],
   "source": [
    "grid_ex = GridSearchCV(grid_ex_pipeline,param_grid=grid_ex_params, cv=4)\n"
   ]
  },
  {
   "cell_type": "code",
   "execution_count": 21,
   "metadata": {},
   "outputs": [
    {
     "data": {
      "text/plain": [
       "GridSearchCV(cv=4,\n",
       "             estimator=Pipeline(steps=[('polynomialfeatures',\n",
       "                                        PolynomialFeatures()),\n",
       "                                       ('standardscaler', StandardScaler()),\n",
       "                                       ('sgdclassifier',\n",
       "                                        SGDClassifier(random_state=0))]),\n",
       "             param_grid={'polynomialfeatures__degree': [2, 3, 4],\n",
       "                         'standardscaler__with_mean': [True, False],\n",
       "                         'standardscaler__with_std': [True, False]})"
      ]
     },
     "execution_count": 21,
     "metadata": {},
     "output_type": "execute_result"
    }
   ],
   "source": [
    "grid_ex.fit(X_train, y_train)"
   ]
  },
  {
   "cell_type": "code",
   "execution_count": 22,
   "metadata": {},
   "outputs": [
    {
     "data": {
      "text/plain": [
       "{'polynomialfeatures__degree': 3,\n",
       " 'standardscaler__with_mean': False,\n",
       " 'standardscaler__with_std': True}"
      ]
     },
     "execution_count": 22,
     "metadata": {},
     "output_type": "execute_result"
    }
   ],
   "source": [
    "grid_ex.best_params_"
   ]
  },
  {
   "cell_type": "code",
   "execution_count": 23,
   "metadata": {},
   "outputs": [
    {
     "data": {
      "text/plain": [
       "0.715311004784689"
      ]
     },
     "execution_count": 23,
     "metadata": {},
     "output_type": "execute_result"
    }
   ],
   "source": [
    "grid_ex.score(X_test, y_test)"
   ]
  },
  {
   "cell_type": "code",
   "execution_count": 24,
   "metadata": {},
   "outputs": [
    {
     "data": {
      "text/plain": [
       "0.84688995215311"
      ]
     },
     "execution_count": 24,
     "metadata": {},
     "output_type": "execute_result"
    }
   ],
   "source": [
    "# Estimator\n",
    "#model = KNeighborsClassifier(n_neighbors=4, weights=\"uniform\", algorithm=\"auto\", metric = 'minkowski', p = 2)\n",
    "model = KNeighborsClassifier(n_neighbors=4, metric = 'minkowski', p = 2)\n",
    "model.fit(X_train_transform, y_train)\n",
    "X_test_transform = scaler.fit_transform(X_test[['Embarked_cod', 'Pclass', 'Sex_cod']])\n",
    "score_test = model.score(X_test_transform,y_test)\n",
    "score_test"
   ]
  },
  {
   "cell_type": "markdown",
   "metadata": {},
   "source": [
    "## 5.1. GridSearchCV"
   ]
  },
  {
   "cell_type": "code",
   "execution_count": 25,
   "metadata": {},
   "outputs": [],
   "source": [
    "random_state=0"
   ]
  },
  {
   "cell_type": "code",
   "execution_count": 26,
   "metadata": {},
   "outputs": [],
   "source": [
    "grid_ex_params = {\n",
    "            'polynomialfeatures__degree' : [2,3,4],\n",
    "            'standardscaler__with_mean' : [True, False],\n",
    "            'standardscaler__with_std' : [True, False]\n",
    "}"
   ]
  },
  {
   "cell_type": "code",
   "execution_count": 27,
   "metadata": {},
   "outputs": [
    {
     "data": {
      "text/plain": [
       "Pipeline(steps=[('polynomialfeatures', PolynomialFeatures()),\n",
       "                ('standardscaler', StandardScaler()),\n",
       "                ('sgdclassifier', SGDClassifier(random_state=0))])"
      ]
     },
     "execution_count": 27,
     "metadata": {},
     "output_type": "execute_result"
    }
   ],
   "source": [
    "grid_ex_pipeline = make_pipeline(PolynomialFeatures(), \n",
    "                           StandardScaler(), \n",
    "                           SGDClassifier(random_state=random_state))\n",
    "grid_ex_pipeline"
   ]
  },
  {
   "cell_type": "code",
   "execution_count": 28,
   "metadata": {},
   "outputs": [],
   "source": [
    "grid_ex = GridSearchCV(grid_ex_pipeline,param_grid=grid_ex_params, cv=4)\n"
   ]
  },
  {
   "cell_type": "code",
   "execution_count": 29,
   "metadata": {},
   "outputs": [
    {
     "data": {
      "text/plain": [
       "GridSearchCV(cv=4,\n",
       "             estimator=Pipeline(steps=[('polynomialfeatures',\n",
       "                                        PolynomialFeatures()),\n",
       "                                       ('standardscaler', StandardScaler()),\n",
       "                                       ('sgdclassifier',\n",
       "                                        SGDClassifier(random_state=0))]),\n",
       "             param_grid={'polynomialfeatures__degree': [2, 3, 4],\n",
       "                         'standardscaler__with_mean': [True, False],\n",
       "                         'standardscaler__with_std': [True, False]})"
      ]
     },
     "execution_count": 29,
     "metadata": {},
     "output_type": "execute_result"
    }
   ],
   "source": [
    "grid_ex.fit(X_train, y_train)"
   ]
  },
  {
   "cell_type": "code",
   "execution_count": 30,
   "metadata": {},
   "outputs": [
    {
     "data": {
      "text/plain": [
       "{'polynomialfeatures__degree': 3,\n",
       " 'standardscaler__with_mean': False,\n",
       " 'standardscaler__with_std': True}"
      ]
     },
     "execution_count": 30,
     "metadata": {},
     "output_type": "execute_result"
    }
   ],
   "source": [
    "grid_ex.best_params_"
   ]
  },
  {
   "cell_type": "code",
   "execution_count": 31,
   "metadata": {},
   "outputs": [
    {
     "data": {
      "text/plain": [
       "0.715311004784689"
      ]
     },
     "execution_count": 31,
     "metadata": {},
     "output_type": "execute_result"
    }
   ],
   "source": [
    "grid_ex.score(X_test, y_test)"
   ]
  },
  {
   "cell_type": "code",
   "execution_count": 83,
   "metadata": {},
   "outputs": [],
   "source": [
    "def get_models_grid(X_train, y_train, verbose=False):\n",
    "    grid_dic = {}\n",
    "    if verbose: print(\"randomforestclassifier\", end=\"\")\n",
    "    grid_rf_params = { 'randomforestclassifier__criterion' : [\"gini\", \"entropy\"],\n",
    "                   'randomforestclassifier__n_estimators' : np.arange(1, 100, 10)}\n",
    "    grid_rf_pipeline = make_pipeline( RandomForestClassifier(random_state=random_state))\n",
    "    grid_rf = GridSearchCV(grid_rf_pipeline,param_grid=grid_rf_params, cv=4)\n",
    "    grid_rf.fit(X_train, y_train)\n",
    "    grid_dic['randomforestclassifier'] = grid_rf\n",
    "    if verbose: print(\", kneighborsclassifier\", end=\"\")\n",
    "    grid_knn_params = { 'kneighborsclassifier__n_neighbors': np.arange(1, 20),\n",
    "                        'kneighborsclassifier__p': np.arange(1, 10),\n",
    "                        'kneighborsclassifier__metric' : ['minkowski', 'euclidean', 'manhattan'],\n",
    "                        'kneighborsclassifier__algorithm' : ['auto'],\n",
    "                        'kneighborsclassifier__metric_params' : [None],\n",
    "                        'kneighborsclassifier__n_jobs' : [None],\n",
    "                        'kneighborsclassifier__weights' : ['uniform']\n",
    "                        }\n",
    "    grid_knn_pipeline = make_pipeline( KNeighborsClassifier())\n",
    "    grid_knn = GridSearchCV(grid_knn_pipeline,param_grid=grid_knn_params, cv=4)\n",
    "    grid_knn.fit(X_train, y_train)\n",
    "    grid_dic['kneighborsclassifier'] = grid_knn\n",
    "    if verbose: print(\", decisiontreeclassifier\", end=\"\")\n",
    "    grid_dtc_params = { 'decisiontreeclassifier__criterion' : [\"gini\", \"entropy\"],\n",
    "                    'decisiontreeclassifier__splitter' : [\"best\", \"random\"]}\n",
    "    grid_dtc_pipeline = make_pipeline( DecisionTreeClassifier(random_state=random_state))\n",
    "    grid_dtc = GridSearchCV(grid_dtc_pipeline,param_grid=grid_dtc_params, cv=4)\n",
    "    grid_dtc.fit(X_train, y_train)\n",
    "    grid_dic['decisiontreeclassifier'] = grid_dtc\n",
    "    if verbose: print(\", logisticregression\", end=\"\")\n",
    "    grid_lr_params = { 'logisticregression__solver' : [\"newton-cg\", \"lbfgs\", \"liblinear\", \"sag\", \"saga\"],\n",
    "                    'logisticregression__penalty' : [None, 'l2', 'l1', 'elasticnet'],\n",
    "                    'logisticregression__fit_intercept' : [True, False]}\n",
    "    # penalty='l2', *, dual=False, tol=0.0001, C=1.0, fit_intercept=True, intercept_scaling=1, class_weight=None, random_state=None, solver='lbfgs', max_iter=100, multi_class='auto', verbose=0, warm_start=False, n_jobs=None, l1_ratio=None\n",
    "    grid_lr_pipeline = make_pipeline( LogisticRegression(random_state=random_state))\n",
    "    grid_lr = GridSearchCV(grid_lr_pipeline,param_grid=grid_lr_params, cv=4)\n",
    "    grid_lr.fit(X_train, y_train)\n",
    "    grid_dic['logisticregression'] = grid_lr\n",
    "    if verbose: print(\"                 DONE\")\n",
    "    return grid_dic"
   ]
  },
  {
   "cell_type": "code",
   "execution_count": 80,
   "metadata": {},
   "outputs": [],
   "source": [
    "grid_dic = get_models_grid(X_train, y_train)"
   ]
  },
  {
   "cell_type": "code",
   "execution_count": 84,
   "metadata": {},
   "outputs": [],
   "source": [
    "warnings.filterwarnings(\"ignore\")\n",
    "@ignore_warnings(category=ConvergenceWarning)\n",
    "def found_better_config_by_model(X_train, X_test, y_train, y_test, verbose=False):\n",
    "\n",
    "    # on prend un maximum de colonne pour commencer\n",
    "    columns_started = list(X_train.columns)\n",
    "    better_grid_score_dic = {}\n",
    "    better_grid_equals = {}\n",
    "    ever_test = []\n",
    "    \n",
    "    # Modifier l'ordre des colonnes pour trouver encore d'autres configurations pertinentes\n",
    "    # Positionnement de 6 suite aux tests lancés et des premiers résultats\n",
    "    for subset in itertools.permutations(columns_started, 6):\n",
    "        columns = list(subset)\n",
    "            \n",
    "        # a chaque tour, on regardera le meilleur score\n",
    "        while len(columns)>0:\n",
    "            str_col = str(sorted(columns))\n",
    "            if str_col not in ever_test:\n",
    "                grid_dic = get_models_grid(X_train[columns], y_train)\n",
    "                for model_name,grid in grid_dic.items():\n",
    "                    score = grid.score(X_test[columns], y_test)\n",
    "\n",
    "                    model_better_score = better_grid_score_dic.get(model_name, 0)\n",
    "                    model_grig_res = (grid, score, str_col)\n",
    "                    if score > model_better_score:\n",
    "                        model_better_score = score\n",
    "                        better_grid_equals[model_name] = [model_grig_res]\n",
    "                        if verbose:\n",
    "                            print(f\"{model_name} New Best :{round(score,2)} de test, {str_col}, {grid.best_params_}\")\n",
    "                    elif score == model_better_score:\n",
    "                        better_grid_equals[model_name].append(model_grig_res)\n",
    "                        if verbose:\n",
    "                            print(f\"{model_name} Same Best :{round(score,2)} de test, {str_col}, {grid.best_params_}\")\n",
    "\n",
    "                    better_grid_score_dic[model_name] = model_better_score\n",
    "                ever_test.append(str_col)\n",
    "                if verbose>1: print(str_col, \"         DONE\")\n",
    "            # On supprime une colonne\n",
    "            columns.pop()\n",
    "    \n",
    "    return better_grid_score_dic, better_grid_equals"
   ]
  },
  {
   "cell_type": "code",
   "execution_count": 85,
   "metadata": {},
   "outputs": [
    {
     "name": "stdout",
     "output_type": "stream",
     "text": [
      "randomforestclassifier New Best :0.5 de test, ['Age', 'Fare', 'Pclass', 'Sex_cod', 'Titre_cod', 'group'], {'randomforestclassifier__criterion': 'entropy', 'randomforestclassifier__n_estimators': 81}\n",
      "kneighborsclassifier New Best :0.68 de test, ['Age', 'Fare', 'Pclass', 'Sex_cod', 'Titre_cod', 'group'], {'kneighborsclassifier__algorithm': 'auto', 'kneighborsclassifier__metric': 'minkowski', 'kneighborsclassifier__metric_params': None, 'kneighborsclassifier__n_jobs': None, 'kneighborsclassifier__n_neighbors': 19, 'kneighborsclassifier__p': 1, 'kneighborsclassifier__weights': 'uniform'}\n",
      "decisiontreeclassifier New Best :0.82 de test, ['Age', 'Fare', 'Pclass', 'Sex_cod', 'Titre_cod', 'group'], {'decisiontreeclassifier__criterion': 'gini', 'decisiontreeclassifier__splitter': 'best'}\n",
      "logisticregression New Best :0.94 de test, ['Age', 'Fare', 'Pclass', 'Sex_cod', 'Titre_cod', 'group'], {'logisticregression__fit_intercept': True, 'logisticregression__penalty': 'l2', 'logisticregression__solver': 'liblinear'}\n",
      "logisticregression New Best :0.94 de test, ['Age', 'Pclass', 'Sex_cod', 'Titre_cod', 'group'], {'logisticregression__fit_intercept': True, 'logisticregression__penalty': 'l2', 'logisticregression__solver': 'liblinear'}\n",
      "randomforestclassifier New Best :0.53 de test, ['Age', 'Pclass', 'Sex_cod', 'Titre_cod'], {'randomforestclassifier__criterion': 'gini', 'randomforestclassifier__n_estimators': 71}\n",
      "kneighborsclassifier New Best :0.77 de test, ['Age', 'Pclass', 'Sex_cod', 'Titre_cod'], {'kneighborsclassifier__algorithm': 'auto', 'kneighborsclassifier__metric': 'minkowski', 'kneighborsclassifier__metric_params': None, 'kneighborsclassifier__n_jobs': None, 'kneighborsclassifier__n_neighbors': 15, 'kneighborsclassifier__p': 1, 'kneighborsclassifier__weights': 'uniform'}\n",
      "logisticregression Same Best :0.94 de test, ['Age', 'Pclass', 'Sex_cod', 'Titre_cod'], {'logisticregression__fit_intercept': True, 'logisticregression__penalty': 'l1', 'logisticregression__solver': 'liblinear'}\n",
      "randomforestclassifier New Best :0.56 de test, ['Pclass', 'Sex_cod', 'Titre_cod'], {'randomforestclassifier__criterion': 'gini', 'randomforestclassifier__n_estimators': 1}\n",
      "logisticregression New Best :1.0 de test, ['Pclass', 'Sex_cod', 'Titre_cod'], {'logisticregression__fit_intercept': True, 'logisticregression__penalty': 'l2', 'logisticregression__solver': 'liblinear'}\n",
      "randomforestclassifier New Best :0.83 de test, ['Pclass', 'Sex_cod'], {'randomforestclassifier__criterion': 'gini', 'randomforestclassifier__n_estimators': 1}\n",
      "kneighborsclassifier New Best :1.0 de test, ['Pclass', 'Sex_cod'], {'kneighborsclassifier__algorithm': 'auto', 'kneighborsclassifier__metric': 'minkowski', 'kneighborsclassifier__metric_params': None, 'kneighborsclassifier__n_jobs': None, 'kneighborsclassifier__n_neighbors': 4, 'kneighborsclassifier__p': 1, 'kneighborsclassifier__weights': 'uniform'}\n",
      "decisiontreeclassifier New Best :0.83 de test, ['Pclass', 'Sex_cod'], {'decisiontreeclassifier__criterion': 'gini', 'decisiontreeclassifier__splitter': 'best'}\n",
      "logisticregression Same Best :1.0 de test, ['Pclass', 'Sex_cod'], {'logisticregression__fit_intercept': True, 'logisticregression__penalty': 'l2', 'logisticregression__solver': 'newton-cg'}\n",
      "decisiontreeclassifier New Best :0.83 de test, ['Age', 'Embarked_cod', 'Pclass', 'Sex_cod', 'Titre_cod'], {'decisiontreeclassifier__criterion': 'gini', 'decisiontreeclassifier__splitter': 'random'}\n",
      "randomforestclassifier New Best :0.86 de test, ['Age', 'Pclass', 'Sex_cod'], {'randomforestclassifier__criterion': 'gini', 'randomforestclassifier__n_estimators': 71}\n",
      "decisiontreeclassifier New Best :0.84 de test, ['Age', 'Pclass', 'Sex_cod'], {'decisiontreeclassifier__criterion': 'gini', 'decisiontreeclassifier__splitter': 'random'}\n",
      "randomforestclassifier New Best :0.86 de test, ['Age', 'Embarked_cod', 'Pclass', 'Sex_cod'], {'randomforestclassifier__criterion': 'entropy', 'randomforestclassifier__n_estimators': 41}\n",
      "randomforestclassifier New Best :0.96 de test, ['Pclass', 'Sex_cod', 'group'], {'randomforestclassifier__criterion': 'gini', 'randomforestclassifier__n_estimators': 21}\n",
      "decisiontreeclassifier New Best :0.98 de test, ['Pclass', 'Sex_cod', 'group'], {'decisiontreeclassifier__criterion': 'gini', 'decisiontreeclassifier__splitter': 'best'}\n",
      "logisticregression Same Best :1.0 de test, ['Pclass', 'Sex_cod', 'deck_cod'], {'logisticregression__fit_intercept': False, 'logisticregression__penalty': 'l2', 'logisticregression__solver': 'newton-cg'}\n",
      "randomforestclassifier New Best :1.0 de test, ['Sex_cod'], {'randomforestclassifier__criterion': 'gini', 'randomforestclassifier__n_estimators': 1}\n",
      "kneighborsclassifier Same Best :1.0 de test, ['Sex_cod'], {'kneighborsclassifier__algorithm': 'auto', 'kneighborsclassifier__metric': 'minkowski', 'kneighborsclassifier__metric_params': None, 'kneighborsclassifier__n_jobs': None, 'kneighborsclassifier__n_neighbors': 9, 'kneighborsclassifier__p': 1, 'kneighborsclassifier__weights': 'uniform'}\n",
      "decisiontreeclassifier New Best :1.0 de test, ['Sex_cod'], {'decisiontreeclassifier__criterion': 'gini', 'decisiontreeclassifier__splitter': 'best'}\n",
      "logisticregression Same Best :1.0 de test, ['Sex_cod'], {'logisticregression__fit_intercept': True, 'logisticregression__penalty': 'l2', 'logisticregression__solver': 'newton-cg'}\n",
      "randomforestclassifier Same Best :1.0 de test, ['Sex_cod', 'Titre_cod'], {'randomforestclassifier__criterion': 'gini', 'randomforestclassifier__n_estimators': 1}\n",
      "logisticregression Same Best :1.0 de test, ['Sex_cod', 'Titre_cod'], {'logisticregression__fit_intercept': True, 'logisticregression__penalty': 'l2', 'logisticregression__solver': 'newton-cg'}\n",
      "logisticregression Same Best :1.0 de test, ['Age', 'Sex_cod', 'Titre_cod'], {'logisticregression__fit_intercept': True, 'logisticregression__penalty': 'l2', 'logisticregression__solver': 'liblinear'}\n",
      "logisticregression Same Best :1.0 de test, ['Age', 'Embarked_cod', 'Sex_cod', 'Titre_cod'], {'logisticregression__fit_intercept': True, 'logisticregression__penalty': 'l2', 'logisticregression__solver': 'liblinear'}\n",
      "logisticregression Same Best :1.0 de test, ['Age', 'Sex_cod', 'Titre_cod', 'deck_cod'], {'logisticregression__fit_intercept': True, 'logisticregression__penalty': 'l2', 'logisticregression__solver': 'liblinear'}\n",
      "logisticregression Same Best :1.0 de test, ['Embarked_cod', 'Sex_cod', 'Titre_cod'], {'logisticregression__fit_intercept': True, 'logisticregression__penalty': 'l2', 'logisticregression__solver': 'liblinear'}\n",
      "logisticregression Same Best :1.0 de test, ['Sex_cod', 'Titre_cod', 'deck_cod'], {'logisticregression__fit_intercept': True, 'logisticregression__penalty': 'l2', 'logisticregression__solver': 'liblinear'}\n",
      "logisticregression Same Best :1.0 de test, ['Age', 'Sex_cod'], {'logisticregression__fit_intercept': True, 'logisticregression__penalty': 'l2', 'logisticregression__solver': 'newton-cg'}\n",
      "logisticregression Same Best :1.0 de test, ['Age', 'Sex_cod', 'deck_cod'], {'logisticregression__fit_intercept': True, 'logisticregression__penalty': 'l2', 'logisticregression__solver': 'sag'}\n",
      "randomforestclassifier Same Best :1.0 de test, ['Embarked_cod', 'Sex_cod'], {'randomforestclassifier__criterion': 'gini', 'randomforestclassifier__n_estimators': 11}\n",
      "kneighborsclassifier Same Best :1.0 de test, ['Embarked_cod', 'Sex_cod'], {'kneighborsclassifier__algorithm': 'auto', 'kneighborsclassifier__metric': 'minkowski', 'kneighborsclassifier__metric_params': None, 'kneighborsclassifier__n_jobs': None, 'kneighborsclassifier__n_neighbors': 15, 'kneighborsclassifier__p': 1, 'kneighborsclassifier__weights': 'uniform'}\n",
      "decisiontreeclassifier Same Best :1.0 de test, ['Embarked_cod', 'Sex_cod'], {'decisiontreeclassifier__criterion': 'gini', 'decisiontreeclassifier__splitter': 'best'}\n",
      "logisticregression Same Best :1.0 de test, ['Embarked_cod', 'Sex_cod'], {'logisticregression__fit_intercept': True, 'logisticregression__penalty': 'l2', 'logisticregression__solver': 'newton-cg'}\n",
      "logisticregression Same Best :1.0 de test, ['Embarked_cod', 'Sex_cod', 'deck_cod'], {'logisticregression__fit_intercept': True, 'logisticregression__penalty': 'l2', 'logisticregression__solver': 'liblinear'}\n",
      "randomforestclassifier Same Best :1.0 de test, ['Sex_cod', 'deck_cod'], {'randomforestclassifier__criterion': 'gini', 'randomforestclassifier__n_estimators': 11}\n",
      "decisiontreeclassifier Same Best :1.0 de test, ['Sex_cod', 'deck_cod'], {'decisiontreeclassifier__criterion': 'gini', 'decisiontreeclassifier__splitter': 'best'}\n",
      "logisticregression Same Best :1.0 de test, ['Sex_cod', 'deck_cod'], {'logisticregression__fit_intercept': True, 'logisticregression__penalty': 'l2', 'logisticregression__solver': 'newton-cg'}\n"
     ]
    }
   ],
   "source": [
    "better_grid_score_dic, better_grid_equals = found_better_config_by_model(X_train, X_test, y_train, y_test, verbose=True)"
   ]
  },
  {
   "cell_type": "code",
   "execution_count": 86,
   "metadata": {},
   "outputs": [
    {
     "data": {
      "text/plain": [
       "{'randomforestclassifier': 1.0,\n",
       " 'kneighborsclassifier': 1.0,\n",
       " 'decisiontreeclassifier': 1.0,\n",
       " 'logisticregression': 1.0}"
      ]
     },
     "execution_count": 86,
     "metadata": {},
     "output_type": "execute_result"
    }
   ],
   "source": [
    "better_grid_score_dic"
   ]
  },
  {
   "cell_type": "code",
   "execution_count": 87,
   "metadata": {},
   "outputs": [
    {
     "name": "stdout",
     "output_type": "stream",
     "text": [
      "randomforestclassifier\n",
      "['Sex_cod']{'randomforestclassifier__criterion': 'gini', 'randomforestclassifier__n_estimators': 1}\n",
      "['Sex_cod', 'Titre_cod']{'randomforestclassifier__criterion': 'gini', 'randomforestclassifier__n_estimators': 1}\n",
      "['Embarked_cod', 'Sex_cod']{'randomforestclassifier__criterion': 'gini', 'randomforestclassifier__n_estimators': 11}\n",
      "['Sex_cod', 'deck_cod']{'randomforestclassifier__criterion': 'gini', 'randomforestclassifier__n_estimators': 11}\n",
      "kneighborsclassifier\n",
      "['Pclass', 'Sex_cod']{'kneighborsclassifier__algorithm': 'auto', 'kneighborsclassifier__metric': 'minkowski', 'kneighborsclassifier__metric_params': None, 'kneighborsclassifier__n_jobs': None, 'kneighborsclassifier__n_neighbors': 4, 'kneighborsclassifier__p': 1, 'kneighborsclassifier__weights': 'uniform'}\n",
      "['Sex_cod']{'kneighborsclassifier__algorithm': 'auto', 'kneighborsclassifier__metric': 'minkowski', 'kneighborsclassifier__metric_params': None, 'kneighborsclassifier__n_jobs': None, 'kneighborsclassifier__n_neighbors': 9, 'kneighborsclassifier__p': 1, 'kneighborsclassifier__weights': 'uniform'}\n",
      "['Embarked_cod', 'Sex_cod']{'kneighborsclassifier__algorithm': 'auto', 'kneighborsclassifier__metric': 'minkowski', 'kneighborsclassifier__metric_params': None, 'kneighborsclassifier__n_jobs': None, 'kneighborsclassifier__n_neighbors': 15, 'kneighborsclassifier__p': 1, 'kneighborsclassifier__weights': 'uniform'}\n",
      "decisiontreeclassifier\n",
      "['Sex_cod']{'decisiontreeclassifier__criterion': 'gini', 'decisiontreeclassifier__splitter': 'best'}\n",
      "['Embarked_cod', 'Sex_cod']{'decisiontreeclassifier__criterion': 'gini', 'decisiontreeclassifier__splitter': 'best'}\n",
      "['Sex_cod', 'deck_cod']{'decisiontreeclassifier__criterion': 'gini', 'decisiontreeclassifier__splitter': 'best'}\n",
      "logisticregression\n",
      "['Pclass', 'Sex_cod', 'Titre_cod']{'logisticregression__fit_intercept': True, 'logisticregression__penalty': 'l2', 'logisticregression__solver': 'liblinear'}\n",
      "['Pclass', 'Sex_cod']{'logisticregression__fit_intercept': True, 'logisticregression__penalty': 'l2', 'logisticregression__solver': 'newton-cg'}\n",
      "['Pclass', 'Sex_cod', 'deck_cod']{'logisticregression__fit_intercept': False, 'logisticregression__penalty': 'l2', 'logisticregression__solver': 'newton-cg'}\n",
      "['Sex_cod']{'logisticregression__fit_intercept': True, 'logisticregression__penalty': 'l2', 'logisticregression__solver': 'newton-cg'}\n",
      "['Sex_cod', 'Titre_cod']{'logisticregression__fit_intercept': True, 'logisticregression__penalty': 'l2', 'logisticregression__solver': 'newton-cg'}\n",
      "['Age', 'Sex_cod', 'Titre_cod']{'logisticregression__fit_intercept': True, 'logisticregression__penalty': 'l2', 'logisticregression__solver': 'liblinear'}\n",
      "['Age', 'Embarked_cod', 'Sex_cod', 'Titre_cod']{'logisticregression__fit_intercept': True, 'logisticregression__penalty': 'l2', 'logisticregression__solver': 'liblinear'}\n",
      "['Age', 'Sex_cod', 'Titre_cod', 'deck_cod']{'logisticregression__fit_intercept': True, 'logisticregression__penalty': 'l2', 'logisticregression__solver': 'liblinear'}\n",
      "['Embarked_cod', 'Sex_cod', 'Titre_cod']{'logisticregression__fit_intercept': True, 'logisticregression__penalty': 'l2', 'logisticregression__solver': 'liblinear'}\n",
      "['Sex_cod', 'Titre_cod', 'deck_cod']{'logisticregression__fit_intercept': True, 'logisticregression__penalty': 'l2', 'logisticregression__solver': 'liblinear'}\n",
      "['Age', 'Sex_cod']{'logisticregression__fit_intercept': True, 'logisticregression__penalty': 'l2', 'logisticregression__solver': 'newton-cg'}\n",
      "['Age', 'Sex_cod', 'deck_cod']{'logisticregression__fit_intercept': True, 'logisticregression__penalty': 'l2', 'logisticregression__solver': 'sag'}\n",
      "['Embarked_cod', 'Sex_cod']{'logisticregression__fit_intercept': True, 'logisticregression__penalty': 'l2', 'logisticregression__solver': 'newton-cg'}\n",
      "['Embarked_cod', 'Sex_cod', 'deck_cod']{'logisticregression__fit_intercept': True, 'logisticregression__penalty': 'l2', 'logisticregression__solver': 'liblinear'}\n",
      "['Sex_cod', 'deck_cod']{'logisticregression__fit_intercept': True, 'logisticregression__penalty': 'l2', 'logisticregression__solver': 'newton-cg'}\n"
     ]
    }
   ],
   "source": [
    "better_models = {}\n",
    "# Affichage des meilleures configurations et colonnes\n",
    "for k in better_grid_equals.keys():\n",
    "    v = better_grid_equals[k]\n",
    "    str_cols = \"\"\n",
    "    params = None\n",
    "    print(k)\n",
    "    for val in v:\n",
    "        if val[-1].count(',')> str_cols.count(','):\n",
    "            str_cols = val[-1]\n",
    "            params = val[0]\n",
    "        print(val[-1], end=\"\")\n",
    "        if isinstance(val[0], GridSearchCV):\n",
    "            print(val[0].best_params_, end=\"\")\n",
    "        print(\"\")\n",
    "    better_models[k] = params,str_cols"
   ]
  },
  {
   "cell_type": "markdown",
   "metadata": {},
   "source": [
    "<mark>Avec Grid Search CV j'ai les résultats :</mark>\n",
    "\n",
    "```Python\n",
    "randomforestclassifier = 1.0\n",
    "kneighborsclassifier = 1.0\n",
    "decisiontreeclassifier = 1.0\n",
    "logisticregression = 1.0\n",
    "```\n",
    "Avec les paramètres :\n",
    "\n",
    "```Python\n",
    "# logisticregression\n",
    "['Pclass', 'Sex_cod', 'Titre_cod'],              {'fit_intercept': True, 'penalty': 'l2', 'solver': 'liblinear'}\n",
    "['Pclass', 'Sex_cod'],                           {'fit_intercept': True, 'penalty': 'l2', 'solver': 'newton-cg'}\n",
    "['Pclass', 'Sex_cod', 'deck_cod'],               {'fit_intercept': False, 'penalty': 'l2', 'solver': 'newton-cg'}\n",
    "['Sex_cod'],                                     {'fit_intercept': True, 'penalty': 'l2', 'solver': 'newton-cg'}\n",
    "['Sex_cod', 'Titre_cod'],                        {'fit_intercept': True, 'penalty': 'l2', 'solver': 'newton-cg'}\n",
    "['Age', 'Sex_cod', 'Titre_cod'],                 {'fit_intercept': True, 'penalty': 'l2', 'solver': 'liblinear'}\n",
    "['Age', 'Embarked_cod', 'Sex_cod', 'Titre_cod'], {'fit_intercept': True, 'penalty': 'l2', 'solver': 'liblinear'}\n",
    "['Age', 'Sex_cod', 'Titre_cod', 'deck_cod'],     {'fit_intercept': True, 'penalty': 'l2', 'solver': 'liblinear'}\n",
    "['Embarked_cod', 'Sex_cod', 'Titre_cod'],        {'fit_intercept': True, 'penalty': 'l2', 'solver': 'liblinear'}\n",
    "['Sex_cod', 'Titre_cod', 'deck_cod'],            {'fit_intercept': True, 'penalty': 'l2', 'solver': 'liblinear'}\n",
    "['Age', 'Sex_cod'],                              {'fit_intercept': True, 'penalty': 'l2', 'solver': 'newton-cg'}\n",
    "['Age', 'Sex_cod', 'deck_cod'],                  {'fit_intercept': True, 'penalty': 'l2', 'solver': 'sag'}\n",
    "['Embarked_cod', 'Sex_cod'],                     {'fit_intercept': True, 'penalty': 'l2', 'solver': 'newton-cg'}\n",
    "['Embarked_cod', 'Sex_cod', 'deck_cod'],         {'fit_intercept': True, 'penalty': 'l2', 'solver': 'liblinear'}\n",
    "['Sex_cod', 'deck_cod'],                         {'fit_intercept': True, 'penalty': 'l2', 'solver': 'newton-cg'}\n",
    "\n",
    "# randomforestclassifier :\n",
    "['Sex_cod'],                 {'criterion': 'gini', 'n_estimators': 1}\n",
    "['Sex_cod', 'Titre_cod'],    {'criterion': 'gini', 'n_estimators': 1}\n",
    "['Embarked_cod', 'Sex_cod'], {'criterion': 'gini', 'n_estimators': 11}\n",
    "['Sex_cod', 'deck_cod'],     {'criterion': 'gini', 'n_estimators': 11}\n",
    "\n",
    "# kneighborsclassifier:\n",
    "['Pclass', 'Sex_cod'],       {'metric': 'minkowski', 'n_neighbors': 4, 'p': 1}\n",
    "['Sex_cod'],                 {'metric': 'minkowski', 'n_neighbors': 9, 'p': 1}\n",
    "['Embarked_cod', 'Sex_cod'], {'metric': 'minkowski', 'n_neighbors': 5, 'p': 1}\n",
    "\n",
    "# decisiontreeclassifier:\n",
    "['Sex_cod'],                 {'criterion': 'gini', 'splitter': 'best'}\n",
    "['Embarked_cod', 'Sex_cod'], {'criterion': 'gini', 'splitter': 'best'}\n",
    "['Sex_cod', 'deck_cod'],     {'criterion': 'gini', 'splitter': 'best'}\n",
    "```\n"
   ]
  },
  {
   "cell_type": "markdown",
   "metadata": {},
   "source": [
    "## 5.1 PREDICTIONS"
   ]
  },
  {
   "cell_type": "code",
   "execution_count": 70,
   "metadata": {},
   "outputs": [
    {
     "data": {
      "text/plain": [
       "Index(['Pclass', 'Sex_cod', 'Titre_cod', 'Age', 'group', 'Fare',\n",
       "       'Embarked_cod', 'deck_cod'],\n",
       "      dtype='object')"
      ]
     },
     "execution_count": 70,
     "metadata": {},
     "output_type": "execute_result"
    }
   ],
   "source": [
    "X_train.columns"
   ]
  },
  {
   "cell_type": "markdown",
   "metadata": {},
   "source": [
    "# TODO Question :\n",
    "\n",
    "Est-ce que l'encodage des valeurs pour train est la même pour test alors que ces dataset n'ont pas les mêmes valeurs, donc le 2 de train est peut-être le 1 de test"
   ]
  },
  {
   "cell_type": "code",
   "execution_count": 60,
   "metadata": {},
   "outputs": [],
   "source": [
    "titres_dic = {\"Mr\" : 7, \"Miss\" : 6, \"Mrs\" : 8, \"Master\" : 5, \"Dr\" : 2, \"Rev\" : 6}\n",
    "col = ['Pclass', 'sex_cod', 'title_cod', 'embarked_cod', 'deck_cod']"
   ]
  },
  {
   "cell_type": "code",
   "execution_count": 74,
   "metadata": {},
   "outputs": [],
   "source": [
    "seed(a=8, version=2)"
   ]
  },
  {
   "cell_type": "code",
   "execution_count": 77,
   "metadata": {},
   "outputs": [],
   "source": [
    "passengers_dic = [ {'Pclass':3, 'Sex_cod':1, 'Age':randint(0, 80), 'title_cod':titres_dic[\"Miss\"], 'Embarked_cod' : randint(0, 3), 'deck_cod': randint(-1, 6)},\n",
    "             {'Pclass':2, 'Sex_cod':1, 'Age':randint(0, 80), 'title_cod':titres_dic[\"Miss\"], 'Embarked_cod' : randint(0, 3), 'deck_cod': randint(-1, 6)},\n",
    "             {'Pclass':1, 'Sex_cod':1, 'Age':randint(0, 80), 'title_cod':titres_dic[\"Miss\"], 'Embarked_cod' : randint(0, 3), 'deck_cod': randint(-1, 6)},\n",
    "             {'Pclass':1, 'Sex_cod':1, 'Age':randint(15, 80), 'title_cod':titres_dic[\"Mrs\"], 'Embarked_cod' : randint(0, 3), 'deck_cod': randint(-1, 6)},\n",
    "             {'Pclass':2, 'Sex_cod':1, 'Age':randint(15, 80), 'title_cod':titres_dic[\"Mrs\"], 'Embarked_cod' : randint(0, 3), 'deck_cod': randint(-1, 6)},\n",
    "             {'Pclass':3, 'Sex_cod':1, 'Age':randint(15, 80), 'title_cod':titres_dic[\"Mrs\"], 'Embarked_cod' : randint(0, 3), 'deck_cod': randint(-1, 6)},\n",
    "             {'Pclass':3, 'Sex_cod':0, 'Age':randint(0, 80), 'title_cod':titres_dic[\"Mr\"], 'Embarked_cod' : randint(0, 3), 'deck_cod': randint(-1, 6)},\n",
    "             {'Pclass':2, 'Sex_cod':0, 'Age':randint(0, 80), 'title_cod':titres_dic[\"Mr\"], 'Embarked_cod' : randint(0, 3), 'deck_cod': randint(-1, 6)},\n",
    "             {'Pclass':1, 'Sex_cod':0, 'Age':randint(0, 80), 'title_cod':titres_dic[\"Mr\"], 'Embarked_cod' : randint(0, 3), 'deck_cod': randint(-1, 6)},\n",
    "             {'Pclass':1, 'Sex_cod':0, 'Age':randint(20, 80), 'title_cod':titres_dic[\"Master\"], 'Embarked_cod' : randint(0, 3), 'deck_cod': randint(-1, 6)},\n",
    "             {'Pclass':2, 'Sex_cod':0, 'Age':randint(20, 80), 'title_cod':titres_dic[\"Master\"], 'Embarked_cod' : randint(0, 3), 'deck_cod': randint(-1, 6)},\n",
    "             {'Pclass':3, 'Sex_cod':0, 'Age':randint(20, 80), 'title_cod':titres_dic[\"Master\"], 'Embarked_cod' : randint(0, 3), 'deck_cod': randint(-1, 6)}\n",
    "]"
   ]
  },
  {
   "cell_type": "code",
   "execution_count": 78,
   "metadata": {},
   "outputs": [
    {
     "name": "stdout",
     "output_type": "stream",
     "text": [
      "Pclass: 3 , Sex_cod: 1 , Age: 29 , title_cod: 6 , Embarked_cod: 2 , deck_cod: 5\n",
      "Pclass: 2 , Sex_cod: 1 , Age: 16 , title_cod: 6 , Embarked_cod: 1 , deck_cod: -1\n",
      "Pclass: 1 , Sex_cod: 1 , Age: 10 , title_cod: 6 , Embarked_cod: 1 , deck_cod: 2\n",
      "Pclass: 1 , Sex_cod: 1 , Age: 79 , title_cod: 8 , Embarked_cod: 1 , deck_cod: 5\n",
      "Pclass: 2 , Sex_cod: 1 , Age: 18 , title_cod: 8 , Embarked_cod: 3 , deck_cod: 6\n",
      "Pclass: 3 , Sex_cod: 1 , Age: 73 , title_cod: 8 , Embarked_cod: 3 , deck_cod: 6\n",
      "Pclass: 3 , Sex_cod: 0 , Age: 73 , title_cod: 7 , Embarked_cod: 1 , deck_cod: 5\n",
      "Pclass: 2 , Sex_cod: 0 , Age: 11 , title_cod: 7 , Embarked_cod: 3 , deck_cod: 2\n",
      "Pclass: 1 , Sex_cod: 0 , Age: 2 , title_cod: 7 , Embarked_cod: 2 , deck_cod: 5\n",
      "Pclass: 1 , Sex_cod: 0 , Age: 50 , title_cod: 5 , Embarked_cod: 3 , deck_cod: 0\n",
      "Pclass: 2 , Sex_cod: 0 , Age: 62 , title_cod: 5 , Embarked_cod: 2 , deck_cod: 0\n",
      "Pclass: 3 , Sex_cod: 0 , Age: 72 , title_cod: 5 , Embarked_cod: 0 , deck_cod: 5\n"
     ]
    }
   ],
   "source": [
    "for passenger in passengers_dic:\n",
    "    print('Pclass:', passenger['Pclass'], \", Sex_cod:\", passenger['Sex_cod'], ', Age:',passenger['Age'], ', title_cod:', passenger['title_cod'], ', Embarked_cod:', passenger['Embarked_cod'], ', deck_cod:', passenger['deck_cod'] )"
   ]
  },
  {
   "cell_type": "markdown",
   "metadata": {},
   "source": [
    "### KNN"
   ]
  },
  {
   "cell_type": "code",
   "execution_count": null,
   "metadata": {},
   "outputs": [],
   "source": []
  },
  {
   "cell_type": "code",
   "execution_count": null,
   "metadata": {},
   "outputs": [
    {
     "name": "stdout",
     "output_type": "stream",
     "text": [
      "['Pclass', 'Sex_cod'] GridSearchCV(cv=4,\n",
      "             estimator=Pipeline(steps=[('kneighborsclassifier',\n",
      "                                        KNeighborsClassifier())]),\n",
      "             param_grid={'kneighborsclassifier__metric': ['minkowski'],\n",
      "                         'kneighborsclassifier__n_neighbors': [1, 2, 3, 4, 5, 6,\n",
      "                                                               7, 8, 9],\n",
      "                         'kneighborsclassifier__p': [1, 2, 3, 4, 5, 6, 7, 8,\n",
      "                                                     9]})\n"
     ]
    }
   ],
   "source": [
    "better_knn_model = better_models['kneighborsclassifier'][0]\n",
    "better_knn_columns = better_models['kneighborsclassifier'][1]\n",
    "print(better_knn_columns, better_knn_model)"
   ]
  },
  {
   "cell_type": "code",
   "execution_count": null,
   "metadata": {},
   "outputs": [],
   "source": [
    "@ignore_warnings(category=UserWarning)\n",
    "def knn_predire_survie(model, pclass=3, sex=1, age=40, title=6, deck = randint(0, 6), embarked_cod = randint(-1, 2)):\n",
    "    ['Pclass', 'Sex_cod']\n",
    "    deck = randint(0, 6)\n",
    "    embarked_cod = randint(-1, 2)\n",
    "    # ['Pclass', 'sex_cod', 'title_cod', 'embarked_cod', 'deck_cod']\n",
    "    params = [pclass, sex, title, embarked_cod, deck]\n",
    "    return predire_survie(model, params)"
   ]
  },
  {
   "cell_type": "code",
   "execution_count": null,
   "metadata": {},
   "outputs": [
    {
     "name": "stdout",
     "output_type": "stream",
     "text": [
      "['Embarked_cod', 'Sex_cod'] GridSearchCV(cv=4,\n",
      "             estimator=Pipeline(steps=[('decisiontreeclassifier',\n",
      "                                        DecisionTreeClassifier(random_state=0))]),\n",
      "             param_grid={'decisiontreeclassifier__criterion': ['gini',\n",
      "                                                               'entropy'],\n",
      "                         'decisiontreeclassifier__splitter': ['best',\n",
      "                                                              'random']})\n"
     ]
    }
   ],
   "source": [
    "better_tree_model = better_models['decisiontreeclassifier'][0]\n",
    "better_tree_columns = better_models['decisiontreeclassifier'][1]\n",
    "print(better_tree_columns, better_tree_model)"
   ]
  },
  {
   "cell_type": "code",
   "execution_count": 56,
   "metadata": {},
   "outputs": [
    {
     "name": "stdout",
     "output_type": "stream",
     "text": [
      "['Sex_cod', 'Titre_cod'] GridSearchCV(cv=4,\n",
      "             estimator=Pipeline(steps=[('randomforestclassifier',\n",
      "                                        RandomForestClassifier(random_state=0))]),\n",
      "             param_grid={'randomforestclassifier__criterion': ['gini',\n",
      "                                                               'entropy'],\n",
      "                         'randomforestclassifier__n_estimators': [1, 11, 21, 31,\n",
      "                                                                  41, 51, 61,\n",
      "                                                                  71, 81, 91]})\n"
     ]
    }
   ],
   "source": [
    "better_forest_model = better_models['randomforestclassifier'][0]\n",
    "better_forest_columns = better_models['randomforestclassifier'][1]\n",
    "print(better_forest_columns, better_forest_model)"
   ]
  },
  {
   "cell_type": "code",
   "execution_count": 57,
   "metadata": {},
   "outputs": [
    {
     "name": "stdout",
     "output_type": "stream",
     "text": [
      "['Age', 'Embarked_cod', 'Sex_cod', 'Titre_cod'] GridSearchCV(cv=4,\n",
      "             estimator=Pipeline(steps=[('logisticregression',\n",
      "                                        LogisticRegression(random_state=0))]),\n",
      "             param_grid={'logisticregression__fit_intercept': [True, False],\n",
      "                         'logisticregression__penalty': [None, 'l2', 'l1',\n",
      "                                                         'elasticnet'],\n",
      "                         'logisticregression__solver': ['newton-cg', 'lbfgs',\n",
      "                                                        'liblinear', 'sag',\n",
      "                                                        'saga']})\n"
     ]
    }
   ],
   "source": [
    "better_logistic_model = better_models['logisticregression'][0]\n",
    "better_logistic_columns = better_models['logisticregression'][1]\n",
    "print(better_logistic_columns, better_logistic_model)"
   ]
  },
  {
   "cell_type": "markdown",
   "metadata": {},
   "source": [
    "## 5.3. RandomForestClassifier"
   ]
  },
  {
   "cell_type": "markdown",
   "metadata": {},
   "source": [
    "* RandomForestClassifier\n",
    "j'ai essayé le random forest sur ton fichier, j'ai eu un score de 0,85  et en ajoutant une colonne titre comme 'Countess,Major ...' j'arrive à avoir un score de 0,86\n",
    "oui, avec les variables catégorielles comme le deck par exemple tu peux utiliser le from sklearn.preprocessing import OrdinalEncoder pour qu'elle soit exploitable par l'algorithme de machine learning\n",
    "* KNeighborsClassifier"
   ]
  },
  {
   "cell_type": "code",
   "execution_count": 177,
   "metadata": {},
   "outputs": [
    {
     "data": {
      "text/plain": [
       "sex_cod         0.317152\n",
       "deck_cod        0.226847\n",
       "title_cod       0.206376\n",
       "Pclass          0.159743\n",
       "embarked_cod    0.089883\n",
       "dtype: float64"
      ]
     },
     "execution_count": 177,
     "metadata": {},
     "output_type": "execute_result"
    }
   ],
   "source": [
    "from sklearn.ensemble import RandomForestClassifier \n",
    "\n",
    "columns_logistic = ['Pclass', 'sex_cod', 'title_cod', 'embarked_cod', 'deck_cod']\n",
    "\n",
    "model_forest = RandomForestClassifier(n_estimators=100,random_state=random_state)\n",
    "model_forest.fit(X_train[columns_logistic],y_train)\n",
    "pd.Series(model_forest.feature_importances_,index=columns_logistic).sort_values(ascending=False)"
   ]
  },
  {
   "cell_type": "code",
   "execution_count": 178,
   "metadata": {},
   "outputs": [
    {
     "data": {
      "text/plain": [
       "0.8770949720670391"
      ]
     },
     "execution_count": 178,
     "metadata": {},
     "output_type": "execute_result"
    }
   ],
   "source": [
    "model_forest.score(X_test[columns_logistic], y_test)"
   ]
  },
  {
   "cell_type": "markdown",
   "metadata": {},
   "source": [
    "## 5.4. Decision tree"
   ]
  },
  {
   "cell_type": "code",
   "execution_count": 179,
   "metadata": {},
   "outputs": [
    {
     "name": "stdout",
     "output_type": "stream",
     "text": [
      "0.7988826815642458\n"
     ]
    }
   ],
   "source": [
    "columns_decision_tree_started = ['Pclass', 'sex_cod', 'title_cod', 'Age', 'family_on_board', 'Fare', 'embarked_cod', 'deck_cod']\n",
    "\n",
    "model_decision_tree=DecisionTreeClassifier()\n",
    "model_decision_tree.fit(X_train[columns_decision_tree_started],y_train)\n",
    "print(model_decision_tree.score(X_test[columns_decision_tree_started], y_test))\n",
    "prediction=model_decision_tree.predict(X_test[columns_decision_tree_started])\n",
    "# print('The accuracy of the Decision Tree is',metrics.accuracy_score(prediction,test_y))"
   ]
  }
 ],
 "metadata": {
  "kernelspec": {
   "display_name": "Python 3",
   "language": "python",
   "name": "python3"
  },
  "language_info": {
   "codemirror_mode": {
    "name": "ipython",
    "version": 3
   },
   "file_extension": ".py",
   "mimetype": "text/x-python",
   "name": "python",
   "nbconvert_exporter": "python",
   "pygments_lexer": "ipython3",
   "version": "3.9.9"
  }
 },
 "nbformat": 4,
 "nbformat_minor": 4
}
