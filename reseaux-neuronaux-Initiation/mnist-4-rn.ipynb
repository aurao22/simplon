{
 "cells": [
  {
   "cell_type": "markdown",
   "metadata": {},
   "source": [
    "<div style=\"display: flex; background-color: RGB(255,114,0); padding: 30px;\" >\n",
    "\n",
    "# Réseaux neuronaux\n",
    "</div>"
   ]
  },
  {
   "cell_type": "markdown",
   "metadata": {},
   "source": [
    "Quelques guides:\n",
    "- keras https://www.tensorflow.org/tutorials/quickstart/beginner\n",
    "- (tf2) https://becominghuman.ai/image-classification-with-tensorflow-2-0-without-keras-e6534adddab2\n",
    "- (tf1) https://github.com/neodelphis/tensorflow-without-a-phd-french/blob/master/mnist_03_softmax.ipynb"
   ]
  },
  {
   "cell_type": "markdown",
   "metadata": {},
   "source": [
    "<div style=\"display: flex; background-color: Blue; padding: 15px;\" >\n",
    "\n",
    "## 1.Essai Tensorflow\n",
    "</div>"
   ]
  },
  {
   "cell_type": "code",
   "execution_count": 1,
   "metadata": {},
   "outputs": [
    {
     "name": "stdout",
     "output_type": "stream",
     "text": [
      "TensorFlow version: 2.9.1\n"
     ]
    }
   ],
   "source": [
    "import tensorflow as tf\n",
    "print(\"TensorFlow version:\", tf.__version__)"
   ]
  },
  {
   "cell_type": "code",
   "execution_count": 2,
   "metadata": {},
   "outputs": [],
   "source": [
    "# Helper libraries\n",
    "import numpy as np\n",
    "import matplotlib.pyplot as plt"
   ]
  },
  {
   "cell_type": "code",
   "execution_count": 3,
   "metadata": {},
   "outputs": [
    {
     "name": "stdout",
     "output_type": "stream",
     "text": [
      "(60000, 784)\n",
      "(10000, 784)\n"
     ]
    }
   ],
   "source": [
    "mnist = tf.keras.datasets.mnist\n",
    "\n",
    "(x_train_3d, y_train), (x_test_3d, y_test) = mnist.load_data()\n",
    "x_train_3d, x_test_3d = x_train_3d / 255.0, x_test_3d / 255.0\n",
    "x_train = x_train_3d.reshape(x_train_3d.shape[0], -1)\n",
    "print(x_train.shape)\n",
    "x_test = x_test_3d.reshape(x_test_3d.shape[0], -1)\n",
    "print(x_test.shape)"
   ]
  },
  {
   "cell_type": "code",
   "execution_count": 4,
   "metadata": {},
   "outputs": [],
   "source": [
    "model = tf.keras.models.Sequential([\n",
    "  tf.keras.layers.Flatten(input_shape=(28,28)),\n",
    "  tf.keras.layers.Dense(128, activation='relu'),\n",
    "  tf.keras.layers.Dropout(0.2),\n",
    "  tf.keras.layers.Dense(10)\n",
    "\n",
    "])"
   ]
  },
  {
   "cell_type": "code",
   "execution_count": 9,
   "metadata": {},
   "outputs": [
    {
     "data": {
      "text/plain": [
       "array([[ 0.7683347 , -0.14926413,  0.13278309,  0.7799784 , -0.6609365 ,\n",
       "         0.029957  ,  0.845154  ,  0.44063532,  0.06257337,  0.07402337]],\n",
       "      dtype=float32)"
      ]
     },
     "execution_count": 9,
     "metadata": {},
     "output_type": "execute_result"
    }
   ],
   "source": [
    "predictions = model(x_train_3d[:1]).numpy()\n",
    "predictions"
   ]
  },
  {
   "cell_type": "code",
   "execution_count": 10,
   "metadata": {},
   "outputs": [
    {
     "data": {
      "text/plain": [
       "array([[0.15499595, 0.06191733, 0.08209256, 0.15681122, 0.03711896,\n",
       "        0.0740708 , 0.1673719 , 0.11168693, 0.07652654, 0.07740781]],\n",
       "      dtype=float32)"
      ]
     },
     "execution_count": 10,
     "metadata": {},
     "output_type": "execute_result"
    }
   ],
   "source": [
    "tf.nn.softmax(predictions).numpy()"
   ]
  },
  {
   "cell_type": "code",
   "execution_count": 11,
   "metadata": {},
   "outputs": [],
   "source": [
    "loss_fn = tf.keras.losses.SparseCategoricalCrossentropy(from_logits=True)"
   ]
  },
  {
   "cell_type": "code",
   "execution_count": 12,
   "metadata": {},
   "outputs": [
    {
     "data": {
      "text/plain": [
       "2.602734"
      ]
     },
     "execution_count": 12,
     "metadata": {},
     "output_type": "execute_result"
    }
   ],
   "source": [
    "loss_fn(y_train[:1], predictions).numpy()"
   ]
  },
  {
   "cell_type": "code",
   "execution_count": 13,
   "metadata": {},
   "outputs": [],
   "source": [
    "model.compile(optimizer='adam',\n",
    "              loss=loss_fn,\n",
    "              metrics=['accuracy'])\n"
   ]
  },
  {
   "cell_type": "code",
   "execution_count": 14,
   "metadata": {},
   "outputs": [
    {
     "name": "stdout",
     "output_type": "stream",
     "text": [
      "Epoch 1/5\n",
      "1875/1875 [==============================] - 3s 1ms/step - loss: 0.2942 - accuracy: 0.9140\n",
      "Epoch 2/5\n",
      "1875/1875 [==============================] - 3s 1ms/step - loss: 0.1398 - accuracy: 0.9585\n",
      "Epoch 3/5\n",
      "1875/1875 [==============================] - 3s 1ms/step - loss: 0.1056 - accuracy: 0.9679\n",
      "Epoch 4/5\n",
      "1875/1875 [==============================] - 2s 1ms/step - loss: 0.0871 - accuracy: 0.9732\n",
      "Epoch 5/5\n",
      "1875/1875 [==============================] - 2s 1ms/step - loss: 0.0720 - accuracy: 0.9775\n"
     ]
    },
    {
     "data": {
      "text/plain": [
       "<keras.callbacks.History at 0x147ae2eb580>"
      ]
     },
     "execution_count": 14,
     "metadata": {},
     "output_type": "execute_result"
    }
   ],
   "source": [
    "model.fit(x_train_3d, y_train, epochs=5)"
   ]
  },
  {
   "cell_type": "code",
   "execution_count": 15,
   "metadata": {},
   "outputs": [
    {
     "name": "stdout",
     "output_type": "stream",
     "text": [
      "313/313 - 0s - loss: 0.0747 - accuracy: 0.9770 - 435ms/epoch - 1ms/step\n"
     ]
    },
    {
     "data": {
      "text/plain": [
       "[0.07468186318874359, 0.9769999980926514]"
      ]
     },
     "execution_count": 15,
     "metadata": {},
     "output_type": "execute_result"
    }
   ],
   "source": [
    "model.evaluate(x_test_3d,  y_test, verbose=2)"
   ]
  },
  {
   "cell_type": "code",
   "execution_count": 16,
   "metadata": {},
   "outputs": [],
   "source": [
    "probability_model = tf.keras.Sequential([\n",
    "  model,\n",
    "  tf.keras.layers.Softmax()\n",
    "])"
   ]
  },
  {
   "cell_type": "code",
   "execution_count": 17,
   "metadata": {},
   "outputs": [
    {
     "data": {
      "text/plain": [
       "<tf.Tensor: shape=(10000, 10), dtype=float32, numpy=\n",
       "array([[2.96375561e-07, 8.32493683e-08, 1.52106632e-05, ...,\n",
       "        9.98891175e-01, 2.02936235e-07, 7.06023138e-06],\n",
       "       [1.06177467e-08, 5.68848773e-05, 9.99938726e-01, ...,\n",
       "        2.30565458e-12, 1.68785743e-06, 1.06246338e-12],\n",
       "       [6.96147282e-08, 9.99084711e-01, 2.26910561e-05, ...,\n",
       "        8.04765150e-04, 5.78692525e-05, 1.39249721e-07],\n",
       "       ...,\n",
       "       [7.92323618e-13, 6.86306394e-12, 5.82442081e-11, ...,\n",
       "        5.77615367e-07, 1.13313990e-06, 1.23907676e-05],\n",
       "       [5.11200371e-09, 1.38088221e-10, 1.27636625e-11, ...,\n",
       "        3.34796302e-10, 1.85597619e-05, 3.35225070e-10],\n",
       "       [6.48217702e-09, 9.71517831e-12, 1.16347621e-06, ...,\n",
       "        1.58878704e-12, 2.39188447e-09, 1.67617586e-10]], dtype=float32)>"
      ]
     },
     "execution_count": 17,
     "metadata": {},
     "output_type": "execute_result"
    }
   ],
   "source": [
    "probability_model(x_test_3d)\n"
   ]
  },
  {
   "cell_type": "code",
   "execution_count": 18,
   "metadata": {},
   "outputs": [],
   "source": [
    "def plot_image(i, predictions_array, true_label, img):\n",
    "  true_label, img = true_label[i], img[i]\n",
    "  plt.grid(False)\n",
    "  plt.xticks([])\n",
    "  plt.yticks([])\n",
    "\n",
    "  plt.imshow(img, cmap=plt.cm.binary)\n",
    "\n",
    "  predicted_label = np.argmax(predictions_array)\n",
    "  if predicted_label == true_label:\n",
    "    color = 'blue'\n",
    "  else:\n",
    "    color = 'red'\n",
    "\n",
    "  plt.xlabel(\"{} {:2.0f}% ({})\".format(predicted_label,\n",
    "                                100*np.max(predictions_array),\n",
    "                                true_label),\n",
    "                                color=color)"
   ]
  },
  {
   "cell_type": "code",
   "execution_count": 19,
   "metadata": {},
   "outputs": [],
   "source": [
    "def plot_value_array(i, predictions_array, true_label):\n",
    "  true_label = true_label[i]\n",
    "  plt.grid(False)\n",
    "  plt.xticks(range(10))\n",
    "  plt.yticks([])\n",
    "  thisplot = plt.bar(range(len(predictions_array)), predictions_array, color=\"#777777\")\n",
    "  plt.ylim([0, 1])\n",
    "  predicted_label = np.argmax(predictions_array)\n",
    "\n",
    "  c = 'red'\n",
    "  if predicted_label == true_label:\n",
    "    c = 'green'\n",
    "\n",
    "  thisplot[true_label].set_color('blue')\n",
    "  thisplot[predicted_label].set_color(c)"
   ]
  },
  {
   "cell_type": "code",
   "execution_count": 24,
   "metadata": {},
   "outputs": [
    {
     "data": {
      "image/png": "[encoded data removed]",
      "text/plain": [
       "<Figure size 432x216 with 2 Axes>"
      ]
     },
     "metadata": {
      "needs_background": "light"
     },
     "output_type": "display_data"
    }
   ],
   "source": [
    "for i in range(0, 1):\n",
    "    plt.figure(figsize=(6,3))\n",
    "    plt.subplot(1,2,1)\n",
    "    plot_image(i, predictions[i], y_test, x_test_3d)\n",
    "    plt.subplot(1,2,2)\n",
    "    plot_value_array(i, predictions[i],  y_test|i)\n",
    "    plt.show()"
   ]
  },
  {
   "cell_type": "markdown",
   "metadata": {},
   "source": [
    "<div style=\"display: flex; background-color: Blue; padding: 15px;\" >\n",
    "\n",
    "## 2.Softmax\n",
    "</div>"
   ]
  },
  {
   "cell_type": "markdown",
   "metadata": {},
   "source": [
    "<div style=\"display: flex; background-color: Green; padding: 7px;\" >\n",
    "\n",
    "### 2.1. Réseau 1 couche de 10 neurones\n",
    "</div>"
   ]
  },
  {
   "cell_type": "markdown",
   "metadata": {},
   "source": [
    "Créer et mesurer les résultats d'un réseau neuronal simple couche complètement connecté avec softmax comme fonction d'activation"
   ]
  },
  {
   "cell_type": "code",
   "execution_count": 45,
   "metadata": {},
   "outputs": [],
   "source": [
    "model_softmax_simple = tf.keras.models.Sequential([\n",
    "  tf.keras.layers.Dense(10, activation='softmax')])"
   ]
  },
  {
   "cell_type": "code",
   "execution_count": 46,
   "metadata": {},
   "outputs": [
    {
     "name": "stdout",
     "output_type": "stream",
     "text": [
      "(1, 10)\n"
     ]
    },
    {
     "data": {
      "text/plain": [
       "array([[0.04773339, 0.10197486, 0.14750598, 0.0958707 , 0.07728292,\n",
       "        0.07075073, 0.09530593, 0.10651741, 0.07848506, 0.17857301]],\n",
       "      dtype=float32)"
      ]
     },
     "execution_count": 46,
     "metadata": {},
     "output_type": "execute_result"
    }
   ],
   "source": [
    "predictions_softmax_simple = model_softmax_simple(x_train[:1]).numpy()\n",
    "print(predictions_softmax_simple.shape)\n",
    "predictions_softmax_simple"
   ]
  },
  {
   "cell_type": "code",
   "execution_count": 50,
   "metadata": {},
   "outputs": [
    {
     "name": "stdout",
     "output_type": "stream",
     "text": [
      "1.0000001043081284\n",
      "0.10810278\n"
     ]
    },
    {
     "data": {
      "text/plain": [
       "array([0.09484489, 0.1001315 , 0.10479598, 0.09952215, 0.09768933,\n",
       "       0.09705328, 0.09946595, 0.10058739, 0.09780684, 0.10810278],\n",
       "      dtype=float32)"
      ]
     },
     "execution_count": 50,
     "metadata": {},
     "output_type": "execute_result"
    }
   ],
   "source": [
    "softmax_simple = tf.nn.softmax(predictions_softmax_simple).numpy()\n",
    "print(sum(softmax_simple[0]))\n",
    "print(max(softmax_simple[0]))\n",
    "softmax_simple[0]"
   ]
  },
  {
   "cell_type": "code",
   "execution_count": 51,
   "metadata": {},
   "outputs": [],
   "source": [
    "model_softmax_simple.compile(optimizer='adam',\n",
    "              loss=loss_fn,\n",
    "              metrics=['accuracy'])"
   ]
  },
  {
   "cell_type": "code",
   "execution_count": 52,
   "metadata": {},
   "outputs": [
    {
     "name": "stdout",
     "output_type": "stream",
     "text": [
      "Epoch 1/5\n"
     ]
    },
    {
     "name": "stderr",
     "output_type": "stream",
     "text": [
      "c:\\Program Files\\Python_venv\\tensor_flow\\lib\\site-packages\\tensorflow\\python\\util\\dispatch.py:1082: UserWarning: \"`sparse_categorical_crossentropy` received `from_logits=True`, but the `output` argument was produced by a sigmoid or softmax activation and thus does not represent logits. Was this intended?\"\n",
      "  return dispatch_target(*args, **kwargs)\n"
     ]
    },
    {
     "name": "stdout",
     "output_type": "stream",
     "text": [
      "1875/1875 [==============================] - 2s 847us/step - loss: 0.4671 - accuracy: 0.8761\n",
      "Epoch 2/5\n",
      "1875/1875 [==============================] - 2s 850us/step - loss: 0.3037 - accuracy: 0.9148\n",
      "Epoch 3/5\n",
      "1875/1875 [==============================] - 2s 812us/step - loss: 0.2832 - accuracy: 0.9197\n",
      "Epoch 4/5\n",
      "1875/1875 [==============================] - 2s 828us/step - loss: 0.2733 - accuracy: 0.9238\n",
      "Epoch 5/5\n",
      "1875/1875 [==============================] - 2s 825us/step - loss: 0.2665 - accuracy: 0.9254\n"
     ]
    },
    {
     "data": {
      "text/plain": [
       "<keras.callbacks.History at 0x147cfce2c10>"
      ]
     },
     "execution_count": 52,
     "metadata": {},
     "output_type": "execute_result"
    }
   ],
   "source": [
    "model_softmax_simple.fit(x_train, y_train, epochs=5)"
   ]
  },
  {
   "cell_type": "code",
   "execution_count": 53,
   "metadata": {},
   "outputs": [
    {
     "name": "stderr",
     "output_type": "stream",
     "text": [
      "c:\\Program Files\\Python_venv\\tensor_flow\\lib\\site-packages\\tensorflow\\python\\util\\dispatch.py:1082: UserWarning: \"`sparse_categorical_crossentropy` received `from_logits=True`, but the `output` argument was produced by a sigmoid or softmax activation and thus does not represent logits. Was this intended?\"\n",
      "  return dispatch_target(*args, **kwargs)\n"
     ]
    },
    {
     "name": "stdout",
     "output_type": "stream",
     "text": [
      "313/313 - 0s - loss: 0.2697 - accuracy: 0.9243 - 274ms/epoch - 874us/step\n"
     ]
    },
    {
     "data": {
      "text/plain": [
       "[0.2697469890117645, 0.9243000149726868]"
      ]
     },
     "execution_count": 53,
     "metadata": {},
     "output_type": "execute_result"
    }
   ],
   "source": [
    "model_softmax_simple.evaluate(x_test,  y_test, verbose=2)"
   ]
  },
  {
   "cell_type": "code",
   "execution_count": 54,
   "metadata": {},
   "outputs": [],
   "source": [
    "probability_model = tf.keras.Sequential([\n",
    "  model_softmax_simple,\n",
    "  tf.keras.layers.Softmax()\n",
    "])"
   ]
  },
  {
   "cell_type": "code",
   "execution_count": 55,
   "metadata": {},
   "outputs": [
    {
     "data": {
      "text/plain": [
       "<tf.Tensor: shape=(5, 10), dtype=float32, numpy=\n",
       "array([[0.08538955, 0.08538918, 0.08538994, 0.08570998, 0.08538923,\n",
       "        0.08539128, 0.08538918, 0.2311377 , 0.08539084, 0.08542318],\n",
       "       [0.08561896, 0.0855361 , 0.22880654, 0.08559311, 0.0855351 ,\n",
       "        0.08597724, 0.08631307, 0.0855351 , 0.08554968, 0.0855351 ],\n",
       "       [0.0855922 , 0.2278921 , 0.08653563, 0.08579244, 0.08560611,\n",
       "        0.08565258, 0.08571815, 0.08567432, 0.08591551, 0.08562091],\n",
       "       [0.23191783, 0.08533999, 0.08534253, 0.08534022, 0.08533999,\n",
       "        0.08534669, 0.08534946, 0.08534107, 0.08534122, 0.08534095],\n",
       "       [0.0857293 , 0.08569904, 0.08579873, 0.08570275, 0.22615205,\n",
       "        0.08570712, 0.08589686, 0.08593606, 0.08599075, 0.08738737]],\n",
       "      dtype=float32)>"
      ]
     },
     "execution_count": 55,
     "metadata": {},
     "output_type": "execute_result"
    }
   ],
   "source": [
    "probability_model(x_test[:5])"
   ]
  },
  {
   "cell_type": "code",
   "execution_count": 79,
   "metadata": {},
   "outputs": [
    {
     "ename": "TypeError",
     "evalue": "Invalid shape (784,) for image data",
     "output_type": "error",
     "traceback": [
      "\u001b[1;31m---------------------------------------------------------------------------\u001b[0m",
      "\u001b[1;31mTypeError\u001b[0m                                 Traceback (most recent call last)",
      "\u001b[1;32mc:\\Users\\User\\WORK\\workspace-ia\\simplon\\reseaux-neuronaux-Initiation\\mnist-4-rn.ipynb Cellule 31\u001b[0m in \u001b[0;36m<cell line: 1>\u001b[1;34m()\u001b[0m\n\u001b[0;32m      <a href='vscode-notebook-cell:/c%3A/Users/User/WORK/workspace-ia/simplon/reseaux-neuronaux-Initiation/mnist-4-rn.ipynb#Y104sZmlsZQ%3D%3D?line=1'>2</a>\u001b[0m plt\u001b[39m.\u001b[39mfigure(figsize\u001b[39m=\u001b[39m(\u001b[39m6\u001b[39m,\u001b[39m3\u001b[39m))\n\u001b[0;32m      <a href='vscode-notebook-cell:/c%3A/Users/User/WORK/workspace-ia/simplon/reseaux-neuronaux-Initiation/mnist-4-rn.ipynb#Y104sZmlsZQ%3D%3D?line=2'>3</a>\u001b[0m plt\u001b[39m.\u001b[39msubplot(\u001b[39m1\u001b[39m,\u001b[39m2\u001b[39m,\u001b[39m1\u001b[39m)\n\u001b[1;32m----> <a href='vscode-notebook-cell:/c%3A/Users/User/WORK/workspace-ia/simplon/reseaux-neuronaux-Initiation/mnist-4-rn.ipynb#Y104sZmlsZQ%3D%3D?line=3'>4</a>\u001b[0m plot_image(i, predictions_softmax_simple[i], y_test, x_test)\n\u001b[0;32m      <a href='vscode-notebook-cell:/c%3A/Users/User/WORK/workspace-ia/simplon/reseaux-neuronaux-Initiation/mnist-4-rn.ipynb#Y104sZmlsZQ%3D%3D?line=4'>5</a>\u001b[0m plt\u001b[39m.\u001b[39msubplot(\u001b[39m1\u001b[39m,\u001b[39m2\u001b[39m,\u001b[39m2\u001b[39m)\n\u001b[0;32m      <a href='vscode-notebook-cell:/c%3A/Users/User/WORK/workspace-ia/simplon/reseaux-neuronaux-Initiation/mnist-4-rn.ipynb#Y104sZmlsZQ%3D%3D?line=5'>6</a>\u001b[0m plot_value_array(i, predictions_softmax_simple[i],  y_test\u001b[39m|\u001b[39mi)\n",
      "\u001b[1;32mc:\\Users\\User\\WORK\\workspace-ia\\simplon\\reseaux-neuronaux-Initiation\\mnist-4-rn.ipynb Cellule 31\u001b[0m in \u001b[0;36mplot_image\u001b[1;34m(i, predictions_array, true_label, img)\u001b[0m\n\u001b[0;32m      <a href='vscode-notebook-cell:/c%3A/Users/User/WORK/workspace-ia/simplon/reseaux-neuronaux-Initiation/mnist-4-rn.ipynb#Y104sZmlsZQ%3D%3D?line=3'>4</a>\u001b[0m plt\u001b[39m.\u001b[39mxticks([])\n\u001b[0;32m      <a href='vscode-notebook-cell:/c%3A/Users/User/WORK/workspace-ia/simplon/reseaux-neuronaux-Initiation/mnist-4-rn.ipynb#Y104sZmlsZQ%3D%3D?line=4'>5</a>\u001b[0m plt\u001b[39m.\u001b[39myticks([])\n\u001b[1;32m----> <a href='vscode-notebook-cell:/c%3A/Users/User/WORK/workspace-ia/simplon/reseaux-neuronaux-Initiation/mnist-4-rn.ipynb#Y104sZmlsZQ%3D%3D?line=6'>7</a>\u001b[0m plt\u001b[39m.\u001b[39;49mimshow(img, cmap\u001b[39m=\u001b[39;49mplt\u001b[39m.\u001b[39;49mcm\u001b[39m.\u001b[39;49mbinary)\n\u001b[0;32m      <a href='vscode-notebook-cell:/c%3A/Users/User/WORK/workspace-ia/simplon/reseaux-neuronaux-Initiation/mnist-4-rn.ipynb#Y104sZmlsZQ%3D%3D?line=8'>9</a>\u001b[0m predicted_label \u001b[39m=\u001b[39m np\u001b[39m.\u001b[39margmax(predictions_array)\n\u001b[0;32m     <a href='vscode-notebook-cell:/c%3A/Users/User/WORK/workspace-ia/simplon/reseaux-neuronaux-Initiation/mnist-4-rn.ipynb#Y104sZmlsZQ%3D%3D?line=9'>10</a>\u001b[0m \u001b[39mif\u001b[39;00m predicted_label \u001b[39m==\u001b[39m true_label:\n",
      "File \u001b[1;32mc:\\Program Files\\Python_venv\\tensor_flow\\lib\\site-packages\\matplotlib\\_api\\deprecation.py:459\u001b[0m, in \u001b[0;36mmake_keyword_only.<locals>.wrapper\u001b[1;34m(*args, **kwargs)\u001b[0m\n\u001b[0;32m    453\u001b[0m \u001b[39mif\u001b[39;00m \u001b[39mlen\u001b[39m(args) \u001b[39m>\u001b[39m name_idx:\n\u001b[0;32m    454\u001b[0m     warn_deprecated(\n\u001b[0;32m    455\u001b[0m         since, message\u001b[39m=\u001b[39m\u001b[39m\"\u001b[39m\u001b[39mPassing the \u001b[39m\u001b[39m%(name)s\u001b[39;00m\u001b[39m \u001b[39m\u001b[39m%(obj_type)s\u001b[39;00m\u001b[39m \u001b[39m\u001b[39m\"\u001b[39m\n\u001b[0;32m    456\u001b[0m         \u001b[39m\"\u001b[39m\u001b[39mpositionally is deprecated since Matplotlib \u001b[39m\u001b[39m%(since)s\u001b[39;00m\u001b[39m; the \u001b[39m\u001b[39m\"\u001b[39m\n\u001b[0;32m    457\u001b[0m         \u001b[39m\"\u001b[39m\u001b[39mparameter will become keyword-only \u001b[39m\u001b[39m%(removal)s\u001b[39;00m\u001b[39m.\u001b[39m\u001b[39m\"\u001b[39m,\n\u001b[0;32m    458\u001b[0m         name\u001b[39m=\u001b[39mname, obj_type\u001b[39m=\u001b[39m\u001b[39mf\u001b[39m\u001b[39m\"\u001b[39m\u001b[39mparameter of \u001b[39m\u001b[39m{\u001b[39;00mfunc\u001b[39m.\u001b[39m\u001b[39m__name__\u001b[39m\u001b[39m}\u001b[39;00m\u001b[39m()\u001b[39m\u001b[39m\"\u001b[39m)\n\u001b[1;32m--> 459\u001b[0m \u001b[39mreturn\u001b[39;00m func(\u001b[39m*\u001b[39margs, \u001b[39m*\u001b[39m\u001b[39m*\u001b[39mkwargs)\n",
      "File \u001b[1;32mc:\\Program Files\\Python_venv\\tensor_flow\\lib\\site-packages\\matplotlib\\pyplot.py:2652\u001b[0m, in \u001b[0;36mimshow\u001b[1;34m(X, cmap, norm, aspect, interpolation, alpha, vmin, vmax, origin, extent, interpolation_stage, filternorm, filterrad, resample, url, data, **kwargs)\u001b[0m\n\u001b[0;32m   2646\u001b[0m \u001b[39m@_copy_docstring_and_deprecators\u001b[39m(Axes\u001b[39m.\u001b[39mimshow)\n\u001b[0;32m   2647\u001b[0m \u001b[39mdef\u001b[39;00m \u001b[39mimshow\u001b[39m(\n\u001b[0;32m   2648\u001b[0m         X, cmap\u001b[39m=\u001b[39m\u001b[39mNone\u001b[39;00m, norm\u001b[39m=\u001b[39m\u001b[39mNone\u001b[39;00m, aspect\u001b[39m=\u001b[39m\u001b[39mNone\u001b[39;00m, interpolation\u001b[39m=\u001b[39m\u001b[39mNone\u001b[39;00m,\n\u001b[0;32m   2649\u001b[0m         alpha\u001b[39m=\u001b[39m\u001b[39mNone\u001b[39;00m, vmin\u001b[39m=\u001b[39m\u001b[39mNone\u001b[39;00m, vmax\u001b[39m=\u001b[39m\u001b[39mNone\u001b[39;00m, origin\u001b[39m=\u001b[39m\u001b[39mNone\u001b[39;00m, extent\u001b[39m=\u001b[39m\u001b[39mNone\u001b[39;00m, \u001b[39m*\u001b[39m,\n\u001b[0;32m   2650\u001b[0m         interpolation_stage\u001b[39m=\u001b[39m\u001b[39mNone\u001b[39;00m, filternorm\u001b[39m=\u001b[39m\u001b[39mTrue\u001b[39;00m, filterrad\u001b[39m=\u001b[39m\u001b[39m4.0\u001b[39m,\n\u001b[0;32m   2651\u001b[0m         resample\u001b[39m=\u001b[39m\u001b[39mNone\u001b[39;00m, url\u001b[39m=\u001b[39m\u001b[39mNone\u001b[39;00m, data\u001b[39m=\u001b[39m\u001b[39mNone\u001b[39;00m, \u001b[39m*\u001b[39m\u001b[39m*\u001b[39mkwargs):\n\u001b[1;32m-> 2652\u001b[0m     __ret \u001b[39m=\u001b[39m gca()\u001b[39m.\u001b[39mimshow(\n\u001b[0;32m   2653\u001b[0m         X, cmap\u001b[39m=\u001b[39mcmap, norm\u001b[39m=\u001b[39mnorm, aspect\u001b[39m=\u001b[39maspect,\n\u001b[0;32m   2654\u001b[0m         interpolation\u001b[39m=\u001b[39minterpolation, alpha\u001b[39m=\u001b[39malpha, vmin\u001b[39m=\u001b[39mvmin,\n\u001b[0;32m   2655\u001b[0m         vmax\u001b[39m=\u001b[39mvmax, origin\u001b[39m=\u001b[39morigin, extent\u001b[39m=\u001b[39mextent,\n\u001b[0;32m   2656\u001b[0m         interpolation_stage\u001b[39m=\u001b[39minterpolation_stage,\n\u001b[0;32m   2657\u001b[0m         filternorm\u001b[39m=\u001b[39mfilternorm, filterrad\u001b[39m=\u001b[39mfilterrad, resample\u001b[39m=\u001b[39mresample,\n\u001b[0;32m   2658\u001b[0m         url\u001b[39m=\u001b[39murl, \u001b[39m*\u001b[39m\u001b[39m*\u001b[39m({\u001b[39m\"\u001b[39m\u001b[39mdata\u001b[39m\u001b[39m\"\u001b[39m: data} \u001b[39mif\u001b[39;00m data \u001b[39mis\u001b[39;00m \u001b[39mnot\u001b[39;00m \u001b[39mNone\u001b[39;00m \u001b[39melse\u001b[39;00m {}),\n\u001b[0;32m   2659\u001b[0m         \u001b[39m*\u001b[39m\u001b[39m*\u001b[39mkwargs)\n\u001b[0;32m   2660\u001b[0m     sci(__ret)\n\u001b[0;32m   2661\u001b[0m     \u001b[39mreturn\u001b[39;00m __ret\n",
      "File \u001b[1;32mc:\\Program Files\\Python_venv\\tensor_flow\\lib\\site-packages\\matplotlib\\_api\\deprecation.py:459\u001b[0m, in \u001b[0;36mmake_keyword_only.<locals>.wrapper\u001b[1;34m(*args, **kwargs)\u001b[0m\n\u001b[0;32m    453\u001b[0m \u001b[39mif\u001b[39;00m \u001b[39mlen\u001b[39m(args) \u001b[39m>\u001b[39m name_idx:\n\u001b[0;32m    454\u001b[0m     warn_deprecated(\n\u001b[0;32m    455\u001b[0m         since, message\u001b[39m=\u001b[39m\u001b[39m\"\u001b[39m\u001b[39mPassing the \u001b[39m\u001b[39m%(name)s\u001b[39;00m\u001b[39m \u001b[39m\u001b[39m%(obj_type)s\u001b[39;00m\u001b[39m \u001b[39m\u001b[39m\"\u001b[39m\n\u001b[0;32m    456\u001b[0m         \u001b[39m\"\u001b[39m\u001b[39mpositionally is deprecated since Matplotlib \u001b[39m\u001b[39m%(since)s\u001b[39;00m\u001b[39m; the \u001b[39m\u001b[39m\"\u001b[39m\n\u001b[0;32m    457\u001b[0m         \u001b[39m\"\u001b[39m\u001b[39mparameter will become keyword-only \u001b[39m\u001b[39m%(removal)s\u001b[39;00m\u001b[39m.\u001b[39m\u001b[39m\"\u001b[39m,\n\u001b[0;32m    458\u001b[0m         name\u001b[39m=\u001b[39mname, obj_type\u001b[39m=\u001b[39m\u001b[39mf\u001b[39m\u001b[39m\"\u001b[39m\u001b[39mparameter of \u001b[39m\u001b[39m{\u001b[39;00mfunc\u001b[39m.\u001b[39m\u001b[39m__name__\u001b[39m\u001b[39m}\u001b[39;00m\u001b[39m()\u001b[39m\u001b[39m\"\u001b[39m)\n\u001b[1;32m--> 459\u001b[0m \u001b[39mreturn\u001b[39;00m func(\u001b[39m*\u001b[39margs, \u001b[39m*\u001b[39m\u001b[39m*\u001b[39mkwargs)\n",
      "File \u001b[1;32mc:\\Program Files\\Python_venv\\tensor_flow\\lib\\site-packages\\matplotlib\\__init__.py:1412\u001b[0m, in \u001b[0;36m_preprocess_data.<locals>.inner\u001b[1;34m(ax, data, *args, **kwargs)\u001b[0m\n\u001b[0;32m   1409\u001b[0m \u001b[39m@functools\u001b[39m\u001b[39m.\u001b[39mwraps(func)\n\u001b[0;32m   1410\u001b[0m \u001b[39mdef\u001b[39;00m \u001b[39minner\u001b[39m(ax, \u001b[39m*\u001b[39margs, data\u001b[39m=\u001b[39m\u001b[39mNone\u001b[39;00m, \u001b[39m*\u001b[39m\u001b[39m*\u001b[39mkwargs):\n\u001b[0;32m   1411\u001b[0m     \u001b[39mif\u001b[39;00m data \u001b[39mis\u001b[39;00m \u001b[39mNone\u001b[39;00m:\n\u001b[1;32m-> 1412\u001b[0m         \u001b[39mreturn\u001b[39;00m func(ax, \u001b[39m*\u001b[39m\u001b[39mmap\u001b[39m(sanitize_sequence, args), \u001b[39m*\u001b[39m\u001b[39m*\u001b[39mkwargs)\n\u001b[0;32m   1414\u001b[0m     bound \u001b[39m=\u001b[39m new_sig\u001b[39m.\u001b[39mbind(ax, \u001b[39m*\u001b[39margs, \u001b[39m*\u001b[39m\u001b[39m*\u001b[39mkwargs)\n\u001b[0;32m   1415\u001b[0m     auto_label \u001b[39m=\u001b[39m (bound\u001b[39m.\u001b[39marguments\u001b[39m.\u001b[39mget(label_namer)\n\u001b[0;32m   1416\u001b[0m                   \u001b[39mor\u001b[39;00m bound\u001b[39m.\u001b[39mkwargs\u001b[39m.\u001b[39mget(label_namer))\n",
      "File \u001b[1;32mc:\\Program Files\\Python_venv\\tensor_flow\\lib\\site-packages\\matplotlib\\axes\\_axes.py:5481\u001b[0m, in \u001b[0;36mAxes.imshow\u001b[1;34m(self, X, cmap, norm, aspect, interpolation, alpha, vmin, vmax, origin, extent, interpolation_stage, filternorm, filterrad, resample, url, **kwargs)\u001b[0m\n\u001b[0;32m   5474\u001b[0m \u001b[39mself\u001b[39m\u001b[39m.\u001b[39mset_aspect(aspect)\n\u001b[0;32m   5475\u001b[0m im \u001b[39m=\u001b[39m mimage\u001b[39m.\u001b[39mAxesImage(\u001b[39mself\u001b[39m, cmap, norm, interpolation,\n\u001b[0;32m   5476\u001b[0m                       origin, extent, filternorm\u001b[39m=\u001b[39mfilternorm,\n\u001b[0;32m   5477\u001b[0m                       filterrad\u001b[39m=\u001b[39mfilterrad, resample\u001b[39m=\u001b[39mresample,\n\u001b[0;32m   5478\u001b[0m                       interpolation_stage\u001b[39m=\u001b[39minterpolation_stage,\n\u001b[0;32m   5479\u001b[0m                       \u001b[39m*\u001b[39m\u001b[39m*\u001b[39mkwargs)\n\u001b[1;32m-> 5481\u001b[0m im\u001b[39m.\u001b[39;49mset_data(X)\n\u001b[0;32m   5482\u001b[0m im\u001b[39m.\u001b[39mset_alpha(alpha)\n\u001b[0;32m   5483\u001b[0m \u001b[39mif\u001b[39;00m im\u001b[39m.\u001b[39mget_clip_path() \u001b[39mis\u001b[39;00m \u001b[39mNone\u001b[39;00m:\n\u001b[0;32m   5484\u001b[0m     \u001b[39m# image does not already have clipping set, clip to axes patch\u001b[39;00m\n",
      "File \u001b[1;32mc:\\Program Files\\Python_venv\\tensor_flow\\lib\\site-packages\\matplotlib\\image.py:715\u001b[0m, in \u001b[0;36m_ImageBase.set_data\u001b[1;34m(self, A)\u001b[0m\n\u001b[0;32m    711\u001b[0m     \u001b[39mself\u001b[39m\u001b[39m.\u001b[39m_A \u001b[39m=\u001b[39m \u001b[39mself\u001b[39m\u001b[39m.\u001b[39m_A[:, :, \u001b[39m0\u001b[39m]\n\u001b[0;32m    713\u001b[0m \u001b[39mif\u001b[39;00m \u001b[39mnot\u001b[39;00m (\u001b[39mself\u001b[39m\u001b[39m.\u001b[39m_A\u001b[39m.\u001b[39mndim \u001b[39m==\u001b[39m \u001b[39m2\u001b[39m\n\u001b[0;32m    714\u001b[0m         \u001b[39mor\u001b[39;00m \u001b[39mself\u001b[39m\u001b[39m.\u001b[39m_A\u001b[39m.\u001b[39mndim \u001b[39m==\u001b[39m \u001b[39m3\u001b[39m \u001b[39mand\u001b[39;00m \u001b[39mself\u001b[39m\u001b[39m.\u001b[39m_A\u001b[39m.\u001b[39mshape[\u001b[39m-\u001b[39m\u001b[39m1\u001b[39m] \u001b[39min\u001b[39;00m [\u001b[39m3\u001b[39m, \u001b[39m4\u001b[39m]):\n\u001b[1;32m--> 715\u001b[0m     \u001b[39mraise\u001b[39;00m \u001b[39mTypeError\u001b[39;00m(\u001b[39m\"\u001b[39m\u001b[39mInvalid shape \u001b[39m\u001b[39m{}\u001b[39;00m\u001b[39m for image data\u001b[39m\u001b[39m\"\u001b[39m\n\u001b[0;32m    716\u001b[0m                     \u001b[39m.\u001b[39mformat(\u001b[39mself\u001b[39m\u001b[39m.\u001b[39m_A\u001b[39m.\u001b[39mshape))\n\u001b[0;32m    718\u001b[0m \u001b[39mif\u001b[39;00m \u001b[39mself\u001b[39m\u001b[39m.\u001b[39m_A\u001b[39m.\u001b[39mndim \u001b[39m==\u001b[39m \u001b[39m3\u001b[39m:\n\u001b[0;32m    719\u001b[0m     \u001b[39m# If the input data has values outside the valid range (after\u001b[39;00m\n\u001b[0;32m    720\u001b[0m     \u001b[39m# normalisation), we issue a warning and then clip X to the bounds\u001b[39;00m\n\u001b[0;32m    721\u001b[0m     \u001b[39m# - otherwise casting wraps extreme values, hiding outliers and\u001b[39;00m\n\u001b[0;32m    722\u001b[0m     \u001b[39m# making reliable interpretation impossible.\u001b[39;00m\n\u001b[0;32m    723\u001b[0m     high \u001b[39m=\u001b[39m \u001b[39m255\u001b[39m \u001b[39mif\u001b[39;00m np\u001b[39m.\u001b[39missubdtype(\u001b[39mself\u001b[39m\u001b[39m.\u001b[39m_A\u001b[39m.\u001b[39mdtype, np\u001b[39m.\u001b[39minteger) \u001b[39melse\u001b[39;00m \u001b[39m1\u001b[39m\n",
      "\u001b[1;31mTypeError\u001b[0m: Invalid shape (784,) for image data"
     ]
    },
    {
     "data": {
      "image/png": "[encoded data removed]",
      "text/plain": [
       "<Figure size 432x216 with 1 Axes>"
      ]
     },
     "metadata": {},
     "output_type": "display_data"
    }
   ],
   "source": [
    "for i in range(0, 5):\n",
    "    plt.figure(figsize=(6,3))\n",
    "    plt.subplot(1,2,1)\n",
    "    plot_image(i, predictions_softmax_simple[i], y_test, x_test)\n",
    "    plt.subplot(1,2,2)\n",
    "    plot_value_array(i, predictions_softmax_simple[i],  y_test|i)\n",
    "    plt.show()"
   ]
  },
  {
   "cell_type": "markdown",
   "metadata": {},
   "source": [
    "<div style=\"display: flex; background-color: Green; padding: 7px;\" >\n",
    "\n",
    "### 2.1. Réseau 2 couches : 128 neurones et 10 neurones\n",
    "</div>"
   ]
  },
  {
   "cell_type": "code",
   "execution_count": 67,
   "metadata": {},
   "outputs": [],
   "source": [
    "model_softmax = tf.keras.models.Sequential([\n",
    "  tf.keras.layers.Flatten(input_shape=(28,28)),\n",
    "  tf.keras.layers.Dense(128, activation='softmax'),\n",
    "  tf.keras.layers.Dropout(0.2),\n",
    "  tf.keras.layers.Dense(10)\n",
    "\n",
    "])"
   ]
  },
  {
   "cell_type": "code",
   "execution_count": 68,
   "metadata": {},
   "outputs": [
    {
     "data": {
      "text/plain": [
       "array([[ 1.0553722e-02,  1.4305409e-02,  1.0980875e-02,  6.0188468e-05,\n",
       "         3.8988288e-03, -2.2858210e-02,  6.8971873e-03, -3.6608891e-03,\n",
       "         1.0756929e-02, -2.3373147e-02]], dtype=float32)"
      ]
     },
     "execution_count": 68,
     "metadata": {},
     "output_type": "execute_result"
    }
   ],
   "source": [
    "predictions_softmax = model_softmax(x_train_3d[:1]).numpy()\n",
    "predictions_softmax"
   ]
  },
  {
   "cell_type": "code",
   "execution_count": 69,
   "metadata": {},
   "outputs": [
    {
     "name": "stdout",
     "output_type": "stream",
     "text": [
      "0.9999999850988388\n",
      "0.10135561\n"
     ]
    },
    {
     "data": {
      "text/plain": [
       "array([[0.10097607, 0.10135561, 0.10101922, 0.09992202, 0.10030632,\n",
       "        0.09765801, 0.10060752, 0.0995509 , 0.10099659, 0.09760773]],\n",
       "      dtype=float32)"
      ]
     },
     "execution_count": 69,
     "metadata": {},
     "output_type": "execute_result"
    }
   ],
   "source": [
    "softmax = tf.nn.softmax(predictions_softmax).numpy()\n",
    "print(sum(softmax[0]))\n",
    "print(max(softmax[0]))\n",
    "softmax\n"
   ]
  },
  {
   "cell_type": "code",
   "execution_count": 70,
   "metadata": {},
   "outputs": [],
   "source": [
    "model_softmax = tf.keras.models.Sequential([\n",
    "  tf.keras.layers.Flatten(input_shape=(28, 28)),\n",
    "  tf.keras.layers.Dense(128, activation=tf.keras.activations.softmax),\n",
    "  tf.keras.layers.Dropout(0.2),\n",
    "  tf.keras.layers.Dense(10)\n",
    "\n",
    "])"
   ]
  },
  {
   "cell_type": "code",
   "execution_count": 71,
   "metadata": {},
   "outputs": [
    {
     "data": {
      "text/plain": [
       "array([[ 0.00645617, -0.01054242,  0.01388425, ...,  0.00385361,\n",
       "        -0.00472878,  0.01007769],\n",
       "       [ 0.00751045, -0.00580619,  0.00560118, ...,  0.00767271,\n",
       "         0.00408551,  0.00308219],\n",
       "       [ 0.0088557 , -0.00052183,  0.01017473, ...,  0.00630196,\n",
       "        -0.00388752,  0.00272595],\n",
       "       ...,\n",
       "       [ 0.00777148, -0.01603617,  0.01406769, ...,  0.00547225,\n",
       "        -0.00841407,  0.00062506],\n",
       "       [ 0.01225357, -0.00729113,  0.00923649, ...,  0.00730733,\n",
       "         0.0026334 ,  0.0001162 ],\n",
       "       [ 0.01054065, -0.0141624 ,  0.00970972, ..., -0.00243652,\n",
       "        -0.00436969,  0.01122427]], dtype=float32)"
      ]
     },
     "execution_count": 71,
     "metadata": {},
     "output_type": "execute_result"
    }
   ],
   "source": [
    "predictions_soft = model_softmax(x_test_3d).numpy()\n",
    "predictions_soft"
   ]
  },
  {
   "cell_type": "code",
   "execution_count": 72,
   "metadata": {},
   "outputs": [
    {
     "data": {
      "text/plain": [
       "2.3017323"
      ]
     },
     "execution_count": 72,
     "metadata": {},
     "output_type": "execute_result"
    }
   ],
   "source": [
    "loss_fn_soft = tf.keras.losses.SparseCategoricalCrossentropy(from_logits=True)\n",
    "loss_fn_soft(y_test, predictions_soft).numpy()"
   ]
  },
  {
   "cell_type": "code",
   "execution_count": 73,
   "metadata": {},
   "outputs": [],
   "source": [
    "model_softmax.compile(optimizer='adam',\n",
    "              loss=loss_fn,\n",
    "              metrics=['accuracy'])"
   ]
  },
  {
   "cell_type": "code",
   "execution_count": 74,
   "metadata": {},
   "outputs": [
    {
     "name": "stdout",
     "output_type": "stream",
     "text": [
      "Epoch 1/5\n",
      "1875/1875 [==============================] - 3s 1ms/step - loss: 1.4622 - accuracy: 0.5555\n",
      "Epoch 2/5\n",
      "1875/1875 [==============================] - 2s 1ms/step - loss: 1.0179 - accuracy: 0.6115\n",
      "Epoch 3/5\n",
      "1875/1875 [==============================] - 2s 1ms/step - loss: 0.8988 - accuracy: 0.6663\n",
      "Epoch 4/5\n",
      "1875/1875 [==============================] - 3s 1ms/step - loss: 0.7634 - accuracy: 0.7462\n",
      "Epoch 5/5\n",
      "1875/1875 [==============================] - 2s 1ms/step - loss: 0.6968 - accuracy: 0.7587\n"
     ]
    },
    {
     "data": {
      "text/plain": [
       "<keras.callbacks.History at 0x147d363a730>"
      ]
     },
     "execution_count": 74,
     "metadata": {},
     "output_type": "execute_result"
    }
   ],
   "source": [
    "model_softmax.fit(x_train_3d, y_train, epochs=5)"
   ]
  },
  {
   "cell_type": "code",
   "execution_count": 75,
   "metadata": {},
   "outputs": [
    {
     "name": "stdout",
     "output_type": "stream",
     "text": [
      "[0.2697469890117645, 0.9243000149726868] avec 1 couche de 10 neurones\n",
      "313/313 - 0s - loss: 0.3692 - accuracy: 0.9190 - 370ms/epoch - 1ms/step\n"
     ]
    },
    {
     "data": {
      "text/plain": [
       "[0.36922335624694824, 0.9190000295639038]"
      ]
     },
     "execution_count": 75,
     "metadata": {},
     "output_type": "execute_result"
    }
   ],
   "source": [
    "print(\"[0.2697469890117645, 0.9243000149726868] avec 1 couche de 10 neurones\")\n",
    "model_softmax.evaluate(x_test_3d,  y_test, verbose=2)"
   ]
  },
  {
   "cell_type": "code",
   "execution_count": 76,
   "metadata": {},
   "outputs": [],
   "source": [
    "probability_model_soft = tf.keras.Sequential([\n",
    "  model_softmax,\n",
    "  tf.keras.layers.Softmax()\n",
    "])"
   ]
  },
  {
   "cell_type": "code",
   "execution_count": 78,
   "metadata": {},
   "outputs": [
    {
     "data": {
      "text/plain": [
       "<tf.Tensor: shape=(10000, 10), dtype=float32, numpy=\n",
       "array([[1.80908572e-03, 2.77346978e-03, 1.00535676e-02, ...,\n",
       "        9.01470244e-01, 3.34859826e-03, 6.74273819e-02],\n",
       "       [6.82891114e-03, 4.93900990e-03, 8.72063577e-01, ...,\n",
       "        6.14243094e-03, 8.87204520e-03, 3.29466769e-03],\n",
       "       [4.44173784e-04, 9.70329046e-01, 3.97616345e-03, ...,\n",
       "        4.57501318e-03, 6.45315647e-03, 3.19015421e-03],\n",
       "       ...,\n",
       "       [7.65620032e-03, 4.86581586e-03, 1.19095454e-02, ...,\n",
       "        2.33897734e-02, 1.82412863e-02, 2.21111551e-01],\n",
       "       [1.95900518e-02, 1.21452753e-02, 1.27148293e-02, ...,\n",
       "        8.61272868e-03, 1.01670049e-01, 2.50273645e-02],\n",
       "       [8.02869815e-03, 2.71328771e-03, 2.68879645e-02, ...,\n",
       "        4.18686913e-03, 1.26417065e-02, 9.36168188e-04]], dtype=float32)>"
      ]
     },
     "execution_count": 78,
     "metadata": {},
     "output_type": "execute_result"
    }
   ],
   "source": [
    "probability_model_soft(x_test_3d)"
   ]
  },
  {
   "cell_type": "code",
   "execution_count": 81,
   "metadata": {},
   "outputs": [
    {
     "data": {
      "image/png": "[encoded data removed]",
      "text/plain": [
       "<Figure size 432x216 with 2 Axes>"
      ]
     },
     "metadata": {
      "needs_background": "light"
     },
     "output_type": "display_data"
    },
    {
     "data": {
      "image/png": "[encoded data removed]",
      "text/plain": [
       "<Figure size 432x216 with 2 Axes>"
      ]
     },
     "metadata": {
      "needs_background": "light"
     },
     "output_type": "display_data"
    },
    {
     "data": {
      "image/png": "[encoded data removed]",
      "text/plain": [
       "<Figure size 432x216 with 2 Axes>"
      ]
     },
     "metadata": {
      "needs_background": "light"
     },
     "output_type": "display_data"
    },
    {
     "data": {
      "image/png": "[encoded data removed]",
      "text/plain": [
       "<Figure size 432x216 with 2 Axes>"
      ]
     },
     "metadata": {
      "needs_background": "light"
     },
     "output_type": "display_data"
    },
    {
     "data": {
      "image/png": "[encoded data removed]",
      "text/plain": [
       "<Figure size 432x216 with 2 Axes>"
      ]
     },
     "metadata": {
      "needs_background": "light"
     },
     "output_type": "display_data"
    }
   ],
   "source": [
    "for i in range(0, 5):\n",
    "    plt.figure(figsize=(6,3))\n",
    "    plt.subplot(1,2,1)\n",
    "    plot_image(i, predictions_soft[i], y_test, x_test_3d)\n",
    "    plt.subplot(1,2,2)\n",
    "    plot_value_array(i, predictions_soft[i],  y_test|i)\n",
    "    plt.show()"
   ]
  },
  {
   "cell_type": "markdown",
   "metadata": {},
   "source": [
    "<div style=\"display: flex; background-color: Blue; padding: 15px;\" >\n",
    "\n",
    "## 3.Sigmoïde\n",
    "</div>"
   ]
  },
  {
   "cell_type": "markdown",
   "metadata": {},
   "source": [
    "<div style=\"display: flex; background-color: Green; padding: 7px;\" >\n",
    "\n",
    "### 2.1. Réseau 1 couche de 10 neurones\n",
    "</div>"
   ]
  },
  {
   "cell_type": "code",
   "execution_count": 88,
   "metadata": {},
   "outputs": [],
   "source": [
    "model_sigmoid_simple = tf.keras.models.Sequential([\n",
    "  tf.keras.layers.Dense(10, activation='sigmoid')])"
   ]
  },
  {
   "cell_type": "code",
   "execution_count": 89,
   "metadata": {},
   "outputs": [
    {
     "name": "stdout",
     "output_type": "stream",
     "text": [
      "(1, 10)\n"
     ]
    },
    {
     "data": {
      "text/plain": [
       "array([[0.4117762 , 0.71592015, 0.42859292, 0.5646655 , 0.53811127,\n",
       "        0.58421737, 0.57156676, 0.52706146, 0.5330163 , 0.33314443]],\n",
       "      dtype=float32)"
      ]
     },
     "execution_count": 89,
     "metadata": {},
     "output_type": "execute_result"
    }
   ],
   "source": [
    "predictions_sigmoid_simple = model_sigmoid_simple(x_train[:1]).numpy()\n",
    "print(predictions_sigmoid_simple.shape)\n",
    "predictions_sigmoid_simple"
   ]
  },
  {
   "cell_type": "code",
   "execution_count": 90,
   "metadata": {},
   "outputs": [
    {
     "data": {
      "text/plain": [
       "2.2442956"
      ]
     },
     "execution_count": 90,
     "metadata": {},
     "output_type": "execute_result"
    }
   ],
   "source": [
    "loss_fn(y_train[:1], predictions_sigmoid_simple).numpy()"
   ]
  },
  {
   "cell_type": "code",
   "execution_count": 91,
   "metadata": {},
   "outputs": [],
   "source": [
    "model_sigmoid_simple.compile(optimizer='adam',\n",
    "              loss=loss_fn,\n",
    "              metrics=['accuracy'])"
   ]
  },
  {
   "cell_type": "code",
   "execution_count": 92,
   "metadata": {},
   "outputs": [
    {
     "name": "stdout",
     "output_type": "stream",
     "text": [
      "Epoch 1/5\n",
      "1875/1875 [==============================] - 2s 936us/step - loss: 0.4690 - accuracy: 0.8764\n",
      "Epoch 2/5\n",
      "1875/1875 [==============================] - 2s 926us/step - loss: 0.3040 - accuracy: 0.9159\n",
      "Epoch 3/5\n",
      "1875/1875 [==============================] - 2s 956us/step - loss: 0.2834 - accuracy: 0.9208\n",
      "Epoch 4/5\n",
      "1875/1875 [==============================] - 2s 934us/step - loss: 0.2736 - accuracy: 0.9238\n",
      "Epoch 5/5\n",
      "1875/1875 [==============================] - 2s 1ms/step - loss: 0.2663 - accuracy: 0.9263\n"
     ]
    },
    {
     "data": {
      "text/plain": [
       "<keras.callbacks.History at 0x147d5d4ddf0>"
      ]
     },
     "execution_count": 92,
     "metadata": {},
     "output_type": "execute_result"
    }
   ],
   "source": [
    "model_sigmoid_simple.fit(x_train, y_train, epochs=5)"
   ]
  },
  {
   "cell_type": "code",
   "execution_count": 94,
   "metadata": {},
   "outputs": [
    {
     "name": "stdout",
     "output_type": "stream",
     "text": [
      "[0.2697469890117645, 0.9243000149726868] avec 1 couche de 10 neurones softmax\n",
      "[0.36922335624694824, 0.9190000295639038] avec 2 couches softmax\n",
      "313/313 - 0s - loss: 0.2700 - accuracy: 0.9247 - 271ms/epoch - 867us/step\n"
     ]
    },
    {
     "data": {
      "text/plain": [
       "[0.26996344327926636, 0.9247000217437744]"
      ]
     },
     "execution_count": 94,
     "metadata": {},
     "output_type": "execute_result"
    }
   ],
   "source": [
    "print(\"[0.2697469890117645, 0.9243000149726868] avec 1 couche de 10 neurones softmax\")\n",
    "print(\"[0.36922335624694824, 0.9190000295639038] avec 2 couches softmax\")\n",
    "print(\"[0.26996344327926636, 0.9247000217437744] avec 1 couche de 10 neurones signoide\")\n",
    "model_sigmoid_simple.evaluate(x_test,  y_test, verbose=2)"
   ]
  },
  {
   "cell_type": "markdown",
   "metadata": {},
   "source": [
    "<div style=\"display: flex; background-color: Green; padding: 7px;\" >\n",
    "\n",
    "### 2.1. Réseau 2 couches : 100 neurones sigmoid + 10 neurones softmax\n",
    "</div>"
   ]
  },
  {
   "cell_type": "markdown",
   "metadata": {},
   "source": [
    "Créer et mesurer les résultats d'un réseau neuronal complètement connecté:\n",
    "- première couche 100 neurones avec sigmoïde comme fonction d'activation\n",
    "- deuxième couche de 10 neurones avec softmax comme fonction d'activation"
   ]
  },
  {
   "cell_type": "code",
   "execution_count": 95,
   "metadata": {},
   "outputs": [
    {
     "name": "stdout",
     "output_type": "stream",
     "text": [
      "(1, 10)\n",
      "[[0.05067446 0.09055723 0.18306279 0.07907002 0.06733479 0.14740008\n",
      "  0.21791925 0.04635651 0.05115971 0.06646509]]\n",
      "2.2568889\n",
      "Epoch 1/5\n"
     ]
    },
    {
     "name": "stderr",
     "output_type": "stream",
     "text": [
      "c:\\Program Files\\Python_venv\\tensor_flow\\lib\\site-packages\\tensorflow\\python\\util\\dispatch.py:1082: UserWarning: \"`sparse_categorical_crossentropy` received `from_logits=True`, but the `output` argument was produced by a sigmoid or softmax activation and thus does not represent logits. Was this intended?\"\n",
      "  return dispatch_target(*args, **kwargs)\n"
     ]
    },
    {
     "name": "stdout",
     "output_type": "stream",
     "text": [
      "1875/1875 [==============================] - 3s 1ms/step - loss: 0.4137 - accuracy: 0.8945\n",
      "Epoch 2/5\n",
      "1875/1875 [==============================] - 2s 1ms/step - loss: 0.2029 - accuracy: 0.9416\n",
      "Epoch 3/5\n",
      "1875/1875 [==============================] - 2s 1ms/step - loss: 0.1522 - accuracy: 0.9564\n",
      "Epoch 4/5\n",
      "1875/1875 [==============================] - 2s 1ms/step - loss: 0.1210 - accuracy: 0.9650\n",
      "Epoch 5/5\n",
      "1875/1875 [==============================] - 2s 1ms/step - loss: 0.0995 - accuracy: 0.9719\n"
     ]
    },
    {
     "data": {
      "text/plain": [
       "<keras.callbacks.History at 0x147d5e60eb0>"
      ]
     },
     "execution_count": 95,
     "metadata": {},
     "output_type": "execute_result"
    }
   ],
   "source": [
    "model_100_sig_10_soft = tf.keras.models.Sequential([\n",
    "  tf.keras.layers.Flatten(input_shape=(28,28)),\n",
    "  tf.keras.layers.Dense(100, activation='sigmoid'),\n",
    "  # tf.keras.layers.Dropout(0.2),\n",
    "  tf.keras.layers.Dense(10, activation='softmax')\n",
    "])\n",
    "\n",
    "predictions_100_sig_10_soft = model_100_sig_10_soft(x_train_3d[:1]).numpy()\n",
    "print(predictions_100_sig_10_soft.shape)\n",
    "print(predictions_100_sig_10_soft)\n",
    "\n",
    "print(loss_fn(y_train[:1], predictions_100_sig_10_soft).numpy())\n",
    "model_100_sig_10_soft.compile(optimizer='adam',\n",
    "              loss=loss_fn,\n",
    "              metrics=['accuracy'])\n",
    "model_100_sig_10_soft.fit(x_train_3d, y_train, epochs=5)"
   ]
  },
  {
   "cell_type": "code",
   "execution_count": 139,
   "metadata": {},
   "outputs": [],
   "source": [
    "def get_model(x_train, y_train, x_test=None,  y_test=None, couche_activations=[(100,'sigmoid'), (10, 'softmax')], epochs=5,input_shape=None,dropout = None, verbose=0):\n",
    "    nodes = []\n",
    "    if input_shape:\n",
    "        nodes.append(tf.keras.layers.Flatten(input_shape=input_shape))\n",
    "        # tf.keras.layers.Flatten(input_shape=(28,28)),\n",
    "    \n",
    "    for nb_nodes, acti in couche_activations:\n",
    "        nodes.append(tf.keras.layers.Dense(nb_nodes, activation=acti))\n",
    "        # tf.keras.layers.Dense(100, activation='sigmoid'),\n",
    "        # tf.keras.layers.Dense(10, activation='softmax')\n",
    "        if dropout:\n",
    "            tf.keras.layers.Dropout(dropout)\n",
    "            # tf.keras.layers.Dropout(0.2),\n",
    "    \n",
    "    model = tf.keras.models.Sequential(nodes)\n",
    "    # predictions = model(x_train[:1]).numpy()\n",
    "\n",
    "    # print(predictions.shape)\n",
    "    # print(predictions)\n",
    "\n",
    "    y_categories = tf.keras.utils.to_categorical(y_train, num_classes=np.unique(y_train).shape[0])\n",
    "    y_test_categories = tf.keras.utils.to_categorical(y_test, num_classes=np.unique(y_train).shape[0])\n",
    "    loss_fn = tf.keras.losses.BinaryCrossentropy(from_logits=True)\n",
    "    # loss_fn = tf.keras.losses.SparseCategoricalCrossentropy(from_logits=True)\n",
    "    # print(loss_fn(y_categories, predictions).numpy())\n",
    "    \n",
    "    model.compile(optimizer='adam',\n",
    "                loss=loss_fn,\n",
    "                metrics=['accuracy'])\n",
    "    model.fit(x_train, y_categories, epochs=epochs)\n",
    "    # model.fit(x_train, y_train, epochs=epochs)\n",
    "\n",
    "    if x_test is not None and y_test is not None:\n",
    "        print(f'\\n----------------------------------------------------------------------------')\n",
    "        print(f'{model.evaluate(x_test,  y_test_categories, verbose=verbose)} for {len(couche_activations)} couches ==> ', end='')\n",
    "        for nb_nodes, acti in couche_activations:\n",
    "            print(f'{nb_nodes} nodes on {acti}, ', end='')\n",
    "        print(f'\\n----------------------------------------------------------------------------')\n",
    "        \n",
    "    return model"
   ]
  },
  {
   "cell_type": "code",
   "execution_count": 130,
   "metadata": {},
   "outputs": [
    {
     "name": "stdout",
     "output_type": "stream",
     "text": [
      "[[0. 0. 0. 0. 0. 1. 0. 0. 0. 0.]\n",
      " [1. 0. 0. 0. 0. 0. 0. 0. 0. 0.]\n",
      " [0. 0. 0. 0. 1. 0. 0. 0. 0. 0.]\n",
      " [0. 1. 0. 0. 0. 0. 0. 0. 0. 0.]\n",
      " [0. 0. 0. 0. 0. 0. 0. 0. 0. 1.]]\n"
     ]
    }
   ],
   "source": [
    "y_categories = tf.keras.utils.to_categorical(y_train, num_classes=np.unique(y_train).shape[0])\n",
    "print(y_categories[:5])"
   ]
  },
  {
   "cell_type": "code",
   "execution_count": 113,
   "metadata": {},
   "outputs": [
    {
     "data": {
      "text/plain": [
       "10"
      ]
     },
     "execution_count": 113,
     "metadata": {},
     "output_type": "execute_result"
    }
   ],
   "source": [
    "np.unique(y_train).shape[0]"
   ]
  },
  {
   "cell_type": "code",
   "execution_count": 115,
   "metadata": {},
   "outputs": [
    {
     "name": "stdout",
     "output_type": "stream",
     "text": [
      "[0.2697469890117645, 0.9243000149726868] avec 1 couche de 10 neurones softmax\n",
      "[0.36922335624694824, 0.9190000295639038] avec 2 couches softmax\n",
      "[0.26996344327926636, 0.9247000217437744] avec 1 couche de 10 neurones signoide\n",
      "[0.1059708520770073, 0.9674000144004822] avec 2 couches de 100 neurones sigmoid + 10 neurones softmax\n",
      "313/313 - 0s - loss: 0.1060 - accuracy: 0.9674 - 383ms/epoch - 1ms/step\n"
     ]
    },
    {
     "data": {
      "text/plain": [
       "[0.1059708520770073, 0.9674000144004822]"
      ]
     },
     "execution_count": 115,
     "metadata": {},
     "output_type": "execute_result"
    }
   ],
   "source": [
    "print(\"[0.2697469890117645, 0.9243000149726868] avec 1 couche de 10 neurones softmax\")\n",
    "print(\"[0.36922335624694824, 0.9190000295639038] avec 2 couches softmax\")\n",
    "print(\"[0.26996344327926636, 0.9247000217437744] avec 1 couche de 10 neurones signoide\")\n",
    "print(\"[0.1059708520770073, 0.9674000144004822] avec 2 couches de 100 neurones sigmoid + 10 neurones softmax\")\n",
    "\n",
    "model_100_sig_10_soft.evaluate(x_test_3d,  y_test, verbose=2)"
   ]
  },
  {
   "cell_type": "code",
   "execution_count": 107,
   "metadata": {},
   "outputs": [
    {
     "data": {
      "text/plain": [
       "array([[0.96899998]])"
      ]
     },
     "execution_count": 107,
     "metadata": {},
     "output_type": "execute_result"
    }
   ],
   "source": [
    "np.empty((1,1))"
   ]
  },
  {
   "cell_type": "code",
   "execution_count": 106,
   "metadata": {},
   "outputs": [
    {
     "data": {
      "text/plain": [
       "array([0.96899998])"
      ]
     },
     "execution_count": 106,
     "metadata": {},
     "output_type": "execute_result"
    }
   ],
   "source": [
    "np.empty((1,1))[0]"
   ]
  },
  {
   "cell_type": "code",
   "execution_count": 141,
   "metadata": {},
   "outputs": [
    {
     "name": "stdout",
     "output_type": "stream",
     "text": [
      "Epoch 1/5\n",
      "1875/1875 [==============================] - 2s 943us/step - loss: 0.1192 - accuracy: 0.8461\n",
      "Epoch 2/5\n",
      "1875/1875 [==============================] - 2s 879us/step - loss: 0.0772 - accuracy: 0.9020\n",
      "Epoch 3/5\n",
      "1875/1875 [==============================] - 2s 855us/step - loss: 0.0719 - accuracy: 0.9094\n",
      "Epoch 4/5\n",
      "1875/1875 [==============================] - 2s 896us/step - loss: 0.0692 - accuracy: 0.9130\n",
      "Epoch 5/5\n",
      "1875/1875 [==============================] - 2s 850us/step - loss: 0.0674 - accuracy: 0.9155\n",
      "\n",
      "----------------------------------------------------------------------------\n",
      "[0.06534282118082047, 0.9182000160217285] for 1 couches ==> 10 nodes on softmax, \n",
      "----------------------------------------------------------------------------\n",
      "Epoch 1/5\n",
      "1875/1875 [==============================] - 2s 962us/step - loss: 0.1196 - accuracy: 0.8457\n",
      "Epoch 2/5\n",
      "1875/1875 [==============================] - 2s 950us/step - loss: 0.0773 - accuracy: 0.9024\n",
      "Epoch 3/5\n",
      "1875/1875 [==============================] - 2s 968us/step - loss: 0.0719 - accuracy: 0.9096\n",
      "Epoch 4/5\n",
      "1875/1875 [==============================] - 2s 968us/step - loss: 0.0693 - accuracy: 0.9133\n",
      "Epoch 5/5\n",
      "1875/1875 [==============================] - 2s 1ms/step - loss: 0.0675 - accuracy: 0.9161\n",
      "\n",
      "----------------------------------------------------------------------------\n",
      "[0.06531655043363571, 0.9193999767303467] for 1 couches ==> 10 nodes on softmax, \n",
      "----------------------------------------------------------------------------\n",
      "Epoch 1/5\n",
      "1875/1875 [==============================] - 3s 1ms/step - loss: 0.1000 - accuracy: 0.8670\n",
      "Epoch 2/5\n",
      "1875/1875 [==============================] - 2s 1ms/step - loss: 0.0458 - accuracy: 0.9326\n",
      "Epoch 3/5\n",
      "1875/1875 [==============================] - 2s 1ms/step - loss: 0.0354 - accuracy: 0.9474\n",
      "Epoch 4/5\n",
      "1875/1875 [==============================] - 2s 1ms/step - loss: 0.0292 - accuracy: 0.9570\n",
      "Epoch 5/5\n",
      "1875/1875 [==============================] - 2s 1ms/step - loss: 0.0249 - accuracy: 0.9645\n",
      "\n",
      "----------------------------------------------------------------------------\n",
      "[0.0248781219124794, 0.9639999866485596] for 2 couches ==> 100 nodes on sigmoid, 10 nodes on softmax, \n",
      "----------------------------------------------------------------------------\n",
      "Epoch 1/5\n",
      "1875/1875 [==============================] - 3s 1ms/step - loss: 0.0941 - accuracy: 0.8767\n",
      "Epoch 2/5\n",
      "1875/1875 [==============================] - 3s 1ms/step - loss: 0.0446 - accuracy: 0.9339\n",
      "Epoch 3/5\n",
      "1875/1875 [==============================] - 3s 1ms/step - loss: 0.0347 - accuracy: 0.9488\n",
      "Epoch 4/5\n",
      "1875/1875 [==============================] - 2s 1ms/step - loss: 0.0286 - accuracy: 0.9584\n",
      "Epoch 5/5\n",
      "1875/1875 [==============================] - 3s 1ms/step - loss: 0.0245 - accuracy: 0.9656\n",
      "\n",
      "----------------------------------------------------------------------------\n",
      "[0.025001784786581993, 0.9625999927520752] for 2 couches ==> 100 nodes on sigmoid, 10 nodes on softmax, \n",
      "----------------------------------------------------------------------------\n",
      "Epoch 1/5\n",
      "1875/1875 [==============================] - 3s 1ms/step - loss: 0.1000 - accuracy: 0.8700\n",
      "Epoch 2/5\n",
      "1875/1875 [==============================] - 2s 1ms/step - loss: 0.0456 - accuracy: 0.9328\n",
      "Epoch 3/5\n",
      "1875/1875 [==============================] - 2s 1ms/step - loss: 0.0354 - accuracy: 0.9476\n",
      "Epoch 4/5\n",
      "1875/1875 [==============================] - 2s 1ms/step - loss: 0.0294 - accuracy: 0.9575\n",
      "Epoch 5/5\n",
      "1875/1875 [==============================] - 2s 1ms/step - loss: 0.0251 - accuracy: 0.9643\n",
      "\n",
      "----------------------------------------------------------------------------\n",
      "[0.025499027222394943, 0.9629999995231628] for 2 couches ==> 100 nodes on sigmoid, 10 nodes on softmax, \n",
      "----------------------------------------------------------------------------\n",
      "Epoch 1/5\n",
      "1875/1875 [==============================] - 3s 1ms/step - loss: 0.1022 - accuracy: 0.8647\n",
      "Epoch 2/5\n",
      "1875/1875 [==============================] - 2s 1ms/step - loss: 0.0458 - accuracy: 0.9322\n",
      "Epoch 3/5\n",
      "1875/1875 [==============================] - 2s 1ms/step - loss: 0.0352 - accuracy: 0.9484\n",
      "Epoch 4/5\n",
      "1875/1875 [==============================] - 2s 1ms/step - loss: 0.0289 - accuracy: 0.9578\n",
      "Epoch 5/5\n",
      "1875/1875 [==============================] - 2s 1ms/step - loss: 0.0246 - accuracy: 0.9654\n",
      "\n",
      "----------------------------------------------------------------------------\n",
      "[0.025096120312809944, 0.9621000289916992] for 2 couches ==> 100 nodes on sigmoid, 10 nodes on softmax, \n",
      "----------------------------------------------------------------------------\n"
     ]
    }
   ],
   "source": [
    "m2 = get_model(x_train, y_train, x_test, y_test, couche_activations=[(10, 'softmax')], epochs=5)\n",
    "m3 = get_model(x_train_3d, y_train, x_test_3d, y_test, couche_activations=[(10, 'softmax')], epochs=5,input_shape=(28,28))\n",
    "m7 = get_model(x_train, y_train, x_test, y_test, couche_activations=[(100,'sigmoid'), (10, 'softmax')], epochs=5)\n",
    "m8 = get_model(x_train, y_train, x_test, y_test, couche_activations=[(100,'sigmoid'), (10, 'softmax')], epochs=5,dropout = 0.2)\n",
    "m9 = get_model(x_train_3d, y_train, x_test_3d, y_test, couche_activations=[(100,'sigmoid'), (10, 'softmax')], epochs=5,input_shape=(28,28))\n",
    "m10_drop_out = get_model(x_train_3d, y_train, x_test_3d, y_test, couche_activations=[(100,'sigmoid'), (10, 'softmax')], epochs=5,input_shape=(28,28),dropout = 0.2)\n"
   ]
  },
  {
   "cell_type": "markdown",
   "metadata": {},
   "source": [
    "Meilleur score avec  `m7 = get_model(x_train, y_train, x_test, y_test, couche_activations=[(100,'sigmoid'), (10, 'softmax')], epochs=5)`"
   ]
  }
 ],
 "metadata": {
  "kernelspec": {
   "display_name": "Python 3.9.10 ('tensor_flow')",
   "language": "python",
   "name": "python3"
  },
  "language_info": {
   "codemirror_mode": {
    "name": "ipython",
    "version": 3
   },
   "file_extension": ".py",
   "mimetype": "text/x-python",
   "name": "python",
   "nbconvert_exporter": "python",
   "pygments_lexer": "ipython3",
   "version": "3.9.10"
  },
  "vscode": {
   "interpreter": {
    "hash": "aa1a338178f9f930bee8bd77ef02489fdd5066fc93282fb64038484aff075692"
   }
  }
 },
 "nbformat": 4,
 "nbformat_minor": 4
}
